{
  "cells": [
    {
      "cell_type": "markdown",
      "metadata": {
        "id": "view-in-github",
        "colab_type": "text"
      },
      "source": [
        "<a href=\"https://colab.research.google.com/github/CorsiDanilo/big-data-computing-project/blob/main/BDC_Project_Bitcoin_price_forecasting_(Model_preparation).ipynb\" target=\"_parent\"><img src=\"https://colab.research.google.com/assets/colab-badge.svg\" alt=\"Open In Colab\"/></a>"
      ]
    },
    {
      "cell_type": "markdown",
      "metadata": {
        "id": "e452Ydj7chNV"
      },
      "source": [
        "# Bitcoin price forecasting with PySpark\n",
        "## Big Data Computing final project - A.Y. 2022 - 2023\n",
        "Prof. Gabriele Tolomei\n",
        "\n",
        "MSc in Computer Science\n",
        "\n",
        "La Sapienza, University of Rome\n",
        "\n",
        "### Author\n",
        "Corsi Danilo - corsi.1742375@studenti.uniroma1.it\n",
        "\n"
      ]
    },
    {
      "cell_type": "markdown",
      "metadata": {
        "id": "laFEbOtkdTI0"
      },
      "source": [
        "### Introduction\n",
        "\n",
        "The cryptocurrency Bitcoin has attracted the attention of many people in recent years. However, it's\n",
        "price fluctuation can be extremely unpredictable, which makes it difficult to predict when the right\n",
        "time to buy or sell this digital currency will be. In this context, forecasting Bitcoin prices can be a\n",
        "competitive advantage for investors and traders, as it could allow them to make informed decisions\n",
        "on the right time to enter or exit the market. In this project, I will analyze some machine learning\n",
        "techniques to understand, through the processing of historical data, how accurately the price of Bitcoin\n",
        "can be predicted and whether this can provide added value to cryptocurrency investors and traders.\n",
        "### Dataset\n",
        "I chose to use the following dataset from Kaggle Bitcoin Historical Dataset, more specifically those\n",
        "containing minute-by-minute updates of the Bitcoin price from 2017 to 2021 (period for which there\n",
        "were moments of high volatility but also a lot of price lateralisation). The columns (features) contained\n",
        "in it, in addition to the timestamp of each transaction, are the opening, closing, highest and lowest\n",
        "price and the corresponding trading volume in Bitcoin and Dollars.\n",
        "### Methods (TODO: da scegliere per bene)\n",
        "The methods I will test will be Linear Regression (simple and multiple) and Random Forest. Further\n",
        "comparisons with other classification models are planned in the course of development. Moreover, I\n",
        "would also like to try to understand what the differences are between these methods and the imple-\n",
        "mentation of a state-of-the-art neural network such as Long-Short Term Memory.\n",
        "### Evaluation framework (TODO: vedi quali usare in base ai paper/esempi e ai modelli utilizzati)\n",
        "As evaluation framework I will use R-square (R²), Mean Square Error (MSE) and Mean Absolute\n",
        "Error (MAE) to get a complete picture of the performance of the various models."
      ]
    },
    {
      "cell_type": "markdown",
      "metadata": {
        "id": "YtmWjQUVSvq2"
      },
      "source": [
        "# **Spark + Google Colab Setup**"
      ]
    },
    {
      "cell_type": "markdown",
      "metadata": {
        "id": "AkQaY6VAf4v_"
      },
      "source": [
        "## Global Constants\n"
      ]
    },
    {
      "cell_type": "code",
      "execution_count": 1,
      "metadata": {
        "id": "L7-8QQvKf5CR"
      },
      "outputs": [],
      "source": [
        "JAVA_HOME = \"/usr/lib/jvm/java-8-openjdk-amd64\"\n",
        "GDRIVE_DIR = \"/content/drive\"\n",
        "GDRIVE_DATASET_DIR = GDRIVE_DIR + \"/MyDrive/Computer_Science/BDC/project/datasets\"\n",
        "GDRIVE_DATASET = GDRIVE_DATASET_DIR + \"/output.csv\""
      ]
    },
    {
      "cell_type": "markdown",
      "metadata": {
        "id": "OlRW_JLjSvrA"
      },
      "source": [
        "## Install PySpark and related dependencies\n",
        "\n",
        "\n",
        "\n"
      ]
    },
    {
      "cell_type": "code",
      "execution_count": 2,
      "metadata": {
        "colab": {
          "base_uri": "https://localhost:8080/"
        },
        "id": "Si82CaUYSvrA",
        "outputId": "4921bac0-89d7-4a21-cc73-22425c68c4db"
      },
      "outputs": [
        {
          "output_type": "stream",
          "name": "stdout",
          "text": [
            "Looking in indexes: https://pypi.org/simple, https://us-python.pkg.dev/colab-wheels/public/simple/\n",
            "Collecting pyspark\n",
            "  Downloading pyspark-3.4.0.tar.gz (310.8 MB)\n",
            "\u001b[2K     \u001b[90m━━━━━━━━━━━━━━━━━━━━━━━━━━━━━━━━━━━━━━━\u001b[0m \u001b[32m310.8/310.8 MB\u001b[0m \u001b[31m3.4 MB/s\u001b[0m eta \u001b[36m0:00:00\u001b[0m\n",
            "\u001b[?25h  Preparing metadata (setup.py) ... \u001b[?25l\u001b[?25hdone\n",
            "Requirement already satisfied: py4j==0.10.9.7 in /usr/local/lib/python3.10/dist-packages (from pyspark) (0.10.9.7)\n",
            "Building wheels for collected packages: pyspark\n",
            "  Building wheel for pyspark (setup.py) ... \u001b[?25l\u001b[?25hdone\n",
            "  Created wheel for pyspark: filename=pyspark-3.4.0-py2.py3-none-any.whl size=311317130 sha256=77029a159a8d6b30bdc03ca06ccd3468d6bf77bb00056e206b0bb6315c8ccd2b\n",
            "  Stored in directory: /root/.cache/pip/wheels/7b/1b/4b/3363a1d04368e7ff0d408e57ff57966fcdf00583774e761327\n",
            "Successfully built pyspark\n",
            "Installing collected packages: pyspark\n",
            "Successfully installed pyspark-3.4.0\n",
            "The following additional packages will be installed:\n",
            "  libxtst6 openjdk-8-jre-headless\n",
            "Suggested packages:\n",
            "  openjdk-8-demo openjdk-8-source libnss-mdns fonts-dejavu-extra\n",
            "  fonts-ipafont-gothic fonts-ipafont-mincho fonts-wqy-microhei\n",
            "  fonts-wqy-zenhei fonts-indic\n",
            "The following NEW packages will be installed:\n",
            "  libxtst6 openjdk-8-jdk-headless openjdk-8-jre-headless\n",
            "0 upgraded, 3 newly installed, 0 to remove and 38 not upgraded.\n",
            "Need to get 36.5 MB of archives.\n",
            "After this operation, 144 MB of additional disk space will be used.\n",
            "Selecting previously unselected package libxtst6:amd64.\n",
            "(Reading database ... 122541 files and directories currently installed.)\n",
            "Preparing to unpack .../libxtst6_2%3a1.2.3-1_amd64.deb ...\n",
            "Unpacking libxtst6:amd64 (2:1.2.3-1) ...\n",
            "Selecting previously unselected package openjdk-8-jre-headless:amd64.\n",
            "Preparing to unpack .../openjdk-8-jre-headless_8u372-ga~us1-0ubuntu1~20.04_amd64.deb ...\n",
            "Unpacking openjdk-8-jre-headless:amd64 (8u372-ga~us1-0ubuntu1~20.04) ...\n",
            "Selecting previously unselected package openjdk-8-jdk-headless:amd64.\n",
            "Preparing to unpack .../openjdk-8-jdk-headless_8u372-ga~us1-0ubuntu1~20.04_amd64.deb ...\n",
            "Unpacking openjdk-8-jdk-headless:amd64 (8u372-ga~us1-0ubuntu1~20.04) ...\n",
            "Setting up libxtst6:amd64 (2:1.2.3-1) ...\n",
            "Setting up openjdk-8-jre-headless:amd64 (8u372-ga~us1-0ubuntu1~20.04) ...\n",
            "update-alternatives: using /usr/lib/jvm/java-8-openjdk-amd64/jre/bin/orbd to provide /usr/bin/orbd (orbd) in auto mode\n",
            "update-alternatives: using /usr/lib/jvm/java-8-openjdk-amd64/jre/bin/servertool to provide /usr/bin/servertool (servertool) in auto mode\n",
            "update-alternatives: using /usr/lib/jvm/java-8-openjdk-amd64/jre/bin/tnameserv to provide /usr/bin/tnameserv (tnameserv) in auto mode\n",
            "Setting up openjdk-8-jdk-headless:amd64 (8u372-ga~us1-0ubuntu1~20.04) ...\n",
            "update-alternatives: using /usr/lib/jvm/java-8-openjdk-amd64/bin/idlj to provide /usr/bin/idlj (idlj) in auto mode\n",
            "update-alternatives: using /usr/lib/jvm/java-8-openjdk-amd64/bin/wsimport to provide /usr/bin/wsimport (wsimport) in auto mode\n",
            "update-alternatives: using /usr/lib/jvm/java-8-openjdk-amd64/bin/jsadebugd to provide /usr/bin/jsadebugd (jsadebugd) in auto mode\n",
            "update-alternatives: using /usr/lib/jvm/java-8-openjdk-amd64/bin/native2ascii to provide /usr/bin/native2ascii (native2ascii) in auto mode\n",
            "update-alternatives: using /usr/lib/jvm/java-8-openjdk-amd64/bin/javah to provide /usr/bin/javah (javah) in auto mode\n",
            "update-alternatives: using /usr/lib/jvm/java-8-openjdk-amd64/bin/clhsdb to provide /usr/bin/clhsdb (clhsdb) in auto mode\n",
            "update-alternatives: using /usr/lib/jvm/java-8-openjdk-amd64/bin/jhat to provide /usr/bin/jhat (jhat) in auto mode\n",
            "update-alternatives: using /usr/lib/jvm/java-8-openjdk-amd64/bin/extcheck to provide /usr/bin/extcheck (extcheck) in auto mode\n",
            "update-alternatives: using /usr/lib/jvm/java-8-openjdk-amd64/bin/hsdb to provide /usr/bin/hsdb (hsdb) in auto mode\n",
            "update-alternatives: using /usr/lib/jvm/java-8-openjdk-amd64/bin/schemagen to provide /usr/bin/schemagen (schemagen) in auto mode\n",
            "update-alternatives: using /usr/lib/jvm/java-8-openjdk-amd64/bin/xjc to provide /usr/bin/xjc (xjc) in auto mode\n",
            "update-alternatives: using /usr/lib/jvm/java-8-openjdk-amd64/bin/wsgen to provide /usr/bin/wsgen (wsgen) in auto mode\n",
            "Processing triggers for libc-bin (2.31-0ubuntu9.9) ...\n"
          ]
        }
      ],
      "source": [
        "!pip install pyspark\n",
        "# Alternatively, if you want to install a specific version of pyspark:\n",
        "#!pip install pyspark==3.2.1\n",
        "!pip install -U -q PyDrive # To use files that are stored in Google Drive directly (e.g., without downloading them from an external URL)\n",
        "!apt install openjdk-8-jdk-headless -qq\n",
        "import os\n",
        "os.environ[\"JAVA_HOME\"] = JAVA_HOME\n"
      ]
    },
    {
      "cell_type": "code",
      "execution_count": 3,
      "metadata": {
        "colab": {
          "base_uri": "https://localhost:8080/"
        },
        "id": "6oP4l33G44Xj",
        "outputId": "a8c7a9de-308e-4cf2-8c7f-7e27ce5f997d"
      },
      "outputs": [
        {
          "output_type": "stream",
          "name": "stdout",
          "text": [
            "Looking in indexes: https://pypi.org/simple, https://us-python.pkg.dev/colab-wheels/public/simple/\n",
            "Collecting koalas\n",
            "  Downloading koalas-0.32.0-py3-none-any.whl (593 kB)\n",
            "\u001b[2K     \u001b[90m━━━━━━━━━━━━━━━━━━━━━━━━━━━━━━━━━━━━━━\u001b[0m \u001b[32m593.2/593.2 kB\u001b[0m \u001b[31m10.5 MB/s\u001b[0m eta \u001b[36m0:00:00\u001b[0m\n",
            "\u001b[?25hRequirement already satisfied: pandas>=0.23.2 in /usr/local/lib/python3.10/dist-packages (from koalas) (1.5.3)\n",
            "Requirement already satisfied: pyarrow>=0.10 in /usr/local/lib/python3.10/dist-packages (from koalas) (9.0.0)\n",
            "Requirement already satisfied: numpy>=1.14 in /usr/local/lib/python3.10/dist-packages (from koalas) (1.22.4)\n",
            "Requirement already satisfied: matplotlib>=3.0.0 in /usr/local/lib/python3.10/dist-packages (from koalas) (3.7.1)\n",
            "Requirement already satisfied: contourpy>=1.0.1 in /usr/local/lib/python3.10/dist-packages (from matplotlib>=3.0.0->koalas) (1.0.7)\n",
            "Requirement already satisfied: cycler>=0.10 in /usr/local/lib/python3.10/dist-packages (from matplotlib>=3.0.0->koalas) (0.11.0)\n",
            "Requirement already satisfied: fonttools>=4.22.0 in /usr/local/lib/python3.10/dist-packages (from matplotlib>=3.0.0->koalas) (4.39.3)\n",
            "Requirement already satisfied: kiwisolver>=1.0.1 in /usr/local/lib/python3.10/dist-packages (from matplotlib>=3.0.0->koalas) (1.4.4)\n",
            "Requirement already satisfied: packaging>=20.0 in /usr/local/lib/python3.10/dist-packages (from matplotlib>=3.0.0->koalas) (23.1)\n",
            "Requirement already satisfied: pillow>=6.2.0 in /usr/local/lib/python3.10/dist-packages (from matplotlib>=3.0.0->koalas) (8.4.0)\n",
            "Requirement already satisfied: pyparsing>=2.3.1 in /usr/local/lib/python3.10/dist-packages (from matplotlib>=3.0.0->koalas) (3.0.9)\n",
            "Requirement already satisfied: python-dateutil>=2.7 in /usr/local/lib/python3.10/dist-packages (from matplotlib>=3.0.0->koalas) (2.8.2)\n",
            "Requirement already satisfied: pytz>=2020.1 in /usr/local/lib/python3.10/dist-packages (from pandas>=0.23.2->koalas) (2022.7.1)\n",
            "Requirement already satisfied: six>=1.5 in /usr/local/lib/python3.10/dist-packages (from python-dateutil>=2.7->matplotlib>=3.0.0->koalas) (1.16.0)\n",
            "Installing collected packages: koalas\n",
            "Successfully installed koalas-0.32.0\n",
            "Looking in indexes: https://pypi.org/simple, https://us-python.pkg.dev/colab-wheels/public/simple/\n",
            "Collecting hyper\n",
            "  Downloading hyper-0.7.0-py2.py3-none-any.whl (269 kB)\n",
            "\u001b[2K     \u001b[90m━━━━━━━━━━━━━━━━━━━━━━━━━━━━━━━━━━━━━━━\u001b[0m \u001b[32m269.8/269.8 kB\u001b[0m \u001b[31m5.4 MB/s\u001b[0m eta \u001b[36m0:00:00\u001b[0m\n",
            "\u001b[?25hCollecting h2<3.0,>=2.4 (from hyper)\n",
            "  Downloading h2-2.6.2-py2.py3-none-any.whl (71 kB)\n",
            "\u001b[2K     \u001b[90m━━━━━━━━━━━━━━━━━━━━━━━━━━━━━━━━━━━━━━━━\u001b[0m \u001b[32m71.9/71.9 kB\u001b[0m \u001b[31m4.7 MB/s\u001b[0m eta \u001b[36m0:00:00\u001b[0m\n",
            "\u001b[?25hCollecting hyperframe<4.0,>=3.2 (from hyper)\n",
            "  Downloading hyperframe-3.2.0-py2.py3-none-any.whl (13 kB)\n",
            "Collecting hpack<4,>=2.2 (from h2<3.0,>=2.4->hyper)\n",
            "  Downloading hpack-3.0.0-py2.py3-none-any.whl (38 kB)\n",
            "Installing collected packages: hyperframe, hpack, h2, hyper\n",
            "Successfully installed h2-2.6.2 hpack-3.0.0 hyper-0.7.0 hyperframe-3.2.0\n"
          ]
        }
      ],
      "source": [
        "!pip install koalas\n",
        "!pip install hyper\n",
        "\n",
        "import collections.abc\n",
        "# hyper needs the four following aliases to be done manually.\n",
        "collections.Iterable = collections.abc.Iterable\n",
        "collections.Mapping = collections.abc.Mapping\n",
        "collections.MutableSet = collections.abc.MutableSet\n",
        "collections.MutableMapping = collections.abc.MutableMapping\n",
        "collections.Callable = collections.abc.Callable\n",
        "# now import hyper\n",
        "import hyper\n",
        "\n",
        "import databricks.koalas as ks"
      ]
    },
    {
      "cell_type": "markdown",
      "metadata": {
        "id": "IXTGTgzEqE3x"
      },
      "source": [
        "##  Import useful Python packages"
      ]
    },
    {
      "cell_type": "code",
      "execution_count": 4,
      "metadata": {
        "id": "PX7xDYw4SvrB"
      },
      "outputs": [],
      "source": [
        "import requests\n",
        "import pandas as pd\n",
        "import numpy as np\n",
        "import matplotlib.pyplot as plt\n",
        "import seaborn as sns\n",
        "%matplotlib inline\n",
        "\n",
        "import pyspark\n",
        "from pyspark.sql import *\n",
        "from pyspark.sql.types import *\n",
        "from pyspark.sql.functions import *\n",
        "from pyspark import SparkContext, SparkConf\n",
        "\n",
        "from itertools import cycle\n",
        "\n",
        "import plotly.express as px\n",
        "\n",
        "from pyspark.sql import functions as F\n",
        "\n",
        "import plotly.graph_objs as go\n",
        "from plotly.offline import init_notebook_mode, iplot\n",
        "import gc"
      ]
    },
    {
      "cell_type": "markdown",
      "metadata": {
        "id": "PYvwgAvGSvrB"
      },
      "source": [
        "##  Create Spark context"
      ]
    },
    {
      "cell_type": "code",
      "execution_count": 5,
      "metadata": {
        "id": "Fhi5bmOeSvrB"
      },
      "outputs": [],
      "source": [
        "# Create the session\n",
        "conf = SparkConf().\\\n",
        "                set('spark.ui.port', \"4050\").\\\n",
        "                set('spark.executor.memory', '4G').\\\n",
        "                set('spark.driver.memory', '45G').\\\n",
        "                set('spark.driver.maxResultSize', '10G').\\\n",
        "                setAppName(\"BitcoinPriceForecasting\").\\\n",
        "                setMaster(\"local[*]\")\n",
        "\n",
        "# Create the context\n",
        "sc = pyspark.SparkContext(conf=conf)\n",
        "spark = SparkSession.builder.getOrCreate()"
      ]
    },
    {
      "cell_type": "markdown",
      "metadata": {
        "id": "FWSfSKX6SvrB"
      },
      "source": [
        "##  Create <code>ngrok</code> tunnel to check the Spark UI"
      ]
    },
    {
      "cell_type": "code",
      "execution_count": 6,
      "metadata": {
        "colab": {
          "base_uri": "https://localhost:8080/"
        },
        "id": "F9luPyVNSvrB",
        "outputId": "72cd30d3-ae47-44e3-b8e3-bafb47181a46"
      },
      "outputs": [
        {
          "output_type": "stream",
          "name": "stdout",
          "text": [
            "Looking in indexes: https://pypi.org/simple, https://us-python.pkg.dev/colab-wheels/public/simple/\n",
            "Collecting pyngrok\n",
            "  Downloading pyngrok-6.0.0.tar.gz (681 kB)\n",
            "\u001b[2K     \u001b[90m━━━━━━━━━━━━━━━━━━━━━━━━━━━━━━━━━━━━━━━\u001b[0m \u001b[32m681.2/681.2 kB\u001b[0m \u001b[31m7.3 MB/s\u001b[0m eta \u001b[36m0:00:00\u001b[0m\n",
            "\u001b[?25h  Preparing metadata (setup.py) ... \u001b[?25l\u001b[?25hdone\n",
            "Requirement already satisfied: PyYAML in /usr/local/lib/python3.10/dist-packages (from pyngrok) (6.0)\n",
            "Building wheels for collected packages: pyngrok\n",
            "  Building wheel for pyngrok (setup.py) ... \u001b[?25l\u001b[?25hdone\n",
            "  Created wheel for pyngrok: filename=pyngrok-6.0.0-py3-none-any.whl size=19867 sha256=22a0764007134b764cf4adeceeec296e6c7ae26197ef4a5d09af2749efaf5019\n",
            "  Stored in directory: /root/.cache/pip/wheels/5c/42/78/0c3d438d7f5730451a25f7ac6cbf4391759d22a67576ed7c2c\n",
            "Successfully built pyngrok\n",
            "Installing collected packages: pyngrok\n",
            "Successfully installed pyngrok-6.0.0\n"
          ]
        }
      ],
      "source": [
        "# Install ngrok\n",
        "!pip install pyngrok"
      ]
    },
    {
      "cell_type": "code",
      "execution_count": 7,
      "metadata": {
        "colab": {
          "base_uri": "https://localhost:8080/"
        },
        "id": "tKGaSV0F7Sh5",
        "outputId": "b118849c-3f51-40e4-afa9-7c1edfa97f95"
      },
      "outputs": [
        {
          "output_type": "stream",
          "name": "stdout",
          "text": [
            "Authtoken saved to configuration file: /root/.ngrok2/ngrok.yml\n"
          ]
        }
      ],
      "source": [
        "# Saving authtoken \n",
        "!ngrok authtoken 2PKOO1E6Ghw65dpEG4QNSVzu9PY_GufsrTiussGmBxF664RD "
      ]
    },
    {
      "cell_type": "code",
      "execution_count": 8,
      "metadata": {
        "colab": {
          "base_uri": "https://localhost:8080/"
        },
        "id": "ROQzVuNu7ZE_",
        "outputId": "a094ac86-21e2-42ae-8dd6-c79c61b67f7b"
      },
      "outputs": [
        {
          "output_type": "stream",
          "name": "stderr",
          "text": [
            "WARNING:pyngrok.process.ngrok:t=2023-06-07T10:10:45+0000 lvl=warn msg=\"ngrok config file found at legacy location, move to XDG location\" xdg_path=/root/.config/ngrok/ngrok.yml legacy_path=/root/.ngrok2/ngrok.yml\n"
          ]
        }
      ],
      "source": [
        "from pyngrok import ngrok\n",
        "\n",
        "# Open a ngrok tunnel on the port 4050 where Spark is running\n",
        "port = '4050'\n",
        "public_url = ngrok.connect(port).public_url"
      ]
    },
    {
      "cell_type": "code",
      "execution_count": 9,
      "metadata": {
        "colab": {
          "base_uri": "https://localhost:8080/"
        },
        "id": "jwwPauep7bm4",
        "outputId": "4c9dc9c3-4443-4ef3-a678-c2f919aecab0"
      },
      "outputs": [
        {
          "output_type": "stream",
          "name": "stdout",
          "text": [
            "To access the Spark Web UI console, please click on the following link to the ngrok tunnel \"https://92f4-35-196-222-81.ngrok-free.app\" -> \"http://127.0.0.1:4050\"\n"
          ]
        }
      ],
      "source": [
        "print(\"To access the Spark Web UI console, please click on the following link to the ngrok tunnel \\\"{}\\\" -> \\\"http://127.0.0.1:{}\\\"\".format(public_url, port))"
      ]
    },
    {
      "cell_type": "markdown",
      "metadata": {
        "id": "vo9prfkJSvrB"
      },
      "source": [
        "##  Link Colab to our Google Drive"
      ]
    },
    {
      "cell_type": "code",
      "execution_count": 10,
      "metadata": {
        "id": "au2-MqC-SvrB",
        "colab": {
          "base_uri": "https://localhost:8080/"
        },
        "outputId": "e53ad006-c461-48c0-f793-04f16d23501e"
      },
      "outputs": [
        {
          "output_type": "stream",
          "name": "stdout",
          "text": [
            "Mounted at /content/drive\n"
          ]
        }
      ],
      "source": [
        "# Point Colaboratory to our Google Drive\n",
        "\n",
        "from google.colab import drive\n",
        "\n",
        "drive.mount(GDRIVE_DIR, force_remount=True)"
      ]
    },
    {
      "cell_type": "markdown",
      "metadata": {
        "id": "vEsgE-WfSvrB"
      },
      "source": [
        "##  Check everything is ok"
      ]
    },
    {
      "cell_type": "code",
      "execution_count": 11,
      "metadata": {
        "id": "8X312aarSvrB",
        "colab": {
          "base_uri": "https://localhost:8080/",
          "height": 0
        },
        "outputId": "aff58cdf-47d7-4723-db30-93683fec6501"
      },
      "outputs": [
        {
          "output_type": "execute_result",
          "data": {
            "text/plain": [
              "<pyspark.sql.session.SparkSession at 0x7fcd6c158f40>"
            ],
            "text/html": [
              "\n",
              "            <div>\n",
              "                <p><b>SparkSession - in-memory</b></p>\n",
              "                \n",
              "        <div>\n",
              "            <p><b>SparkContext</b></p>\n",
              "\n",
              "            <p><a href=\"http://6f2d3f6405ca:4050\">Spark UI</a></p>\n",
              "\n",
              "            <dl>\n",
              "              <dt>Version</dt>\n",
              "                <dd><code>v3.4.0</code></dd>\n",
              "              <dt>Master</dt>\n",
              "                <dd><code>local[*]</code></dd>\n",
              "              <dt>AppName</dt>\n",
              "                <dd><code>BitcoinPriceForecasting</code></dd>\n",
              "            </dl>\n",
              "        </div>\n",
              "        \n",
              "            </div>\n",
              "        "
            ]
          },
          "metadata": {},
          "execution_count": 11
        }
      ],
      "source": [
        "spark"
      ]
    },
    {
      "cell_type": "code",
      "execution_count": 12,
      "metadata": {
        "id": "GEvgsXRkSvrC",
        "colab": {
          "base_uri": "https://localhost:8080/"
        },
        "outputId": "f2634609-18ca-439c-b33e-132af576d8cf"
      },
      "outputs": [
        {
          "output_type": "execute_result",
          "data": {
            "text/plain": [
              "[('spark.app.startTime', '1686132625860'),\n",
              " ('spark.driver.memory', '45G'),\n",
              " ('spark.driver.port', '33283'),\n",
              " ('spark.executor.id', 'driver'),\n",
              " ('spark.driver.host', '6f2d3f6405ca'),\n",
              " ('spark.app.id', 'local-1686132629511'),\n",
              " ('spark.sql.warehouse.dir', 'file:/content/spark-warehouse'),\n",
              " ('spark.driver.maxResultSize', '10G'),\n",
              " ('spark.app.name', 'BitcoinPriceForecasting'),\n",
              " ('spark.driver.extraJavaOptions',\n",
              "  '-Djava.net.preferIPv6Addresses=false -XX:+IgnoreUnrecognizedVMOptions --add-opens=java.base/java.lang=ALL-UNNAMED --add-opens=java.base/java.lang.invoke=ALL-UNNAMED --add-opens=java.base/java.lang.reflect=ALL-UNNAMED --add-opens=java.base/java.io=ALL-UNNAMED --add-opens=java.base/java.net=ALL-UNNAMED --add-opens=java.base/java.nio=ALL-UNNAMED --add-opens=java.base/java.util=ALL-UNNAMED --add-opens=java.base/java.util.concurrent=ALL-UNNAMED --add-opens=java.base/java.util.concurrent.atomic=ALL-UNNAMED --add-opens=java.base/sun.nio.ch=ALL-UNNAMED --add-opens=java.base/sun.nio.cs=ALL-UNNAMED --add-opens=java.base/sun.security.action=ALL-UNNAMED --add-opens=java.base/sun.util.calendar=ALL-UNNAMED --add-opens=java.security.jgss/sun.security.krb5=ALL-UNNAMED -Djdk.reflect.useDirectMethodHandle=false'),\n",
              " ('spark.ui.port', '4050'),\n",
              " ('spark.rdd.compress', 'True'),\n",
              " ('spark.app.submitTime', '1686132625498'),\n",
              " ('spark.serializer.objectStreamReset', '100'),\n",
              " ('spark.master', 'local[*]'),\n",
              " ('spark.submit.pyFiles', ''),\n",
              " ('spark.submit.deployMode', 'client'),\n",
              " ('spark.executor.memory', '4G'),\n",
              " ('spark.ui.showConsoleProgress', 'true'),\n",
              " ('spark.executor.extraJavaOptions',\n",
              "  '-Djava.net.preferIPv6Addresses=false -XX:+IgnoreUnrecognizedVMOptions --add-opens=java.base/java.lang=ALL-UNNAMED --add-opens=java.base/java.lang.invoke=ALL-UNNAMED --add-opens=java.base/java.lang.reflect=ALL-UNNAMED --add-opens=java.base/java.io=ALL-UNNAMED --add-opens=java.base/java.net=ALL-UNNAMED --add-opens=java.base/java.nio=ALL-UNNAMED --add-opens=java.base/java.util=ALL-UNNAMED --add-opens=java.base/java.util.concurrent=ALL-UNNAMED --add-opens=java.base/java.util.concurrent.atomic=ALL-UNNAMED --add-opens=java.base/sun.nio.ch=ALL-UNNAMED --add-opens=java.base/sun.nio.cs=ALL-UNNAMED --add-opens=java.base/sun.security.action=ALL-UNNAMED --add-opens=java.base/sun.util.calendar=ALL-UNNAMED --add-opens=java.security.jgss/sun.security.krb5=ALL-UNNAMED -Djdk.reflect.useDirectMethodHandle=false')]"
            ]
          },
          "metadata": {},
          "execution_count": 12
        }
      ],
      "source": [
        "sc._conf.getAll()"
      ]
    },
    {
      "cell_type": "markdown",
      "metadata": {
        "id": "dpaf8RMIcP4a"
      },
      "source": [
        "# **Model preparation**\n",
        "\n",
        "Prepara i dati: Assicurati che il tuo dataset sia in un formato adatto per l'addestramento del modello. Dovresti avere una colonna di etichette di output (variabile di risposta) e le features (variabili indipendenti) in colonne separate.\n",
        "\n",
        "Crea un VectorAssembler: Un VectorAssembler è utilizzato per combinare le features in una singola colonna vettoriale. Questo passaggio è necessario poiché PySpark richiede che le features siano in un unico vettore per l'addestramento del modello Random Forest."
      ]
    },
    {
      "cell_type": "code",
      "execution_count": 15,
      "metadata": {
        "id": "Agk8Cum2OdQz"
      },
      "outputs": [],
      "source": [
        "# load dataset into pyspark dataframe objects\n",
        "df = spark.read.load(GDRIVE_DATASET, \n",
        "                         format=\"csv\", \n",
        "                         sep=\",\", \n",
        "                         inferSchema=\"true\", \n",
        "                         header=\"true\"\n",
        "                    )"
      ]
    },
    {
      "cell_type": "code",
      "execution_count": 16,
      "metadata": {
        "id": "h5-oVeurnfGf"
      },
      "outputs": [],
      "source": [
        "def model_preparation(dataframe):  \n",
        "  from pyspark.ml.feature import VectorAssembler\n",
        "\n",
        "  assembler = VectorAssembler(\n",
        "      inputCols=[\"close\"],  # Colonna del prezzo di chiusura\n",
        "      outputCol=\"features\"  # Colonna vettoriale risultante\n",
        "  )\n",
        "\n",
        "  dataframe = assembler.transform(dataframe)\n",
        "\n",
        "  from pyspark.sql.functions import date_format, to_timestamp\n",
        "\n",
        "  # transform date column into string\n",
        "  dataframe = dataframe.withColumn(\"date_str\", date_format(to_timestamp(\"date\", \"yyyy-MM-dd HH:mm:ss\"), \"yyyy-MM-dd HH:mm:ss\"))\n",
        "\n",
        " # encode the date to a column of label indicies\n",
        "  from pyspark.ml.feature import StringIndexer\n",
        "\n",
        "  label_stringIdx = StringIndexer(inputCol = 'date_str', outputCol = 'labelIndex')\n",
        "  dataframe = label_stringIdx.fit(dataframe).transform(dataframe)\n",
        "\n",
        "  # dividi il dataset in train set e test set\n",
        "  from pyspark.sql.functions import percent_rank\n",
        "  from pyspark.sql import Window\n",
        "\n",
        "  dataframe = dataframe.withColumn(\"rank\", percent_rank().over(Window.partitionBy().orderBy(\"date_str\")))\n",
        "  train_df = dataframe.where(\"rank <= .8\").drop(\"rank\", \"date_str\")\n",
        "  test_df = dataframe.where(\"rank > .8\").drop(\"rank\", \"date_str\")\n",
        "\n",
        "  print(\"The shape of the train set is {:d} rows by {:d} columns\".format(train_df.count(), len(train_df.columns)))\n",
        "  train_df.printSchema()\n",
        "  train_df.show(5)\t\n",
        "\n",
        "  print(\"The shape of the test set is {:d} rows by {:d} columns\".format(test_df.count(), len(test_df.columns)))\n",
        "  test_df.printSchema()\n",
        "  test_df.show(5)\t\n",
        "\n",
        "  return train_df, test_df"
      ]
    },
    {
      "cell_type": "code",
      "source": [
        "train_df, test_df = model_preparation(df)"
      ],
      "metadata": {
        "id": "Fe1u7N0RNTc8",
        "colab": {
          "base_uri": "https://localhost:8080/"
        },
        "outputId": "cde62e65-140d-4700-e360-054b528a5759"
      },
      "execution_count": 17,
      "outputs": [
        {
          "output_type": "stream",
          "name": "stdout",
          "text": [
            "The shape of the train set is 26607 rows by 4 columns\n",
            "root\n",
            " |-- date: timestamp (nullable = true)\n",
            " |-- close: double (nullable = true)\n",
            " |-- features: vector (nullable = true)\n",
            " |-- labelIndex: double (nullable = false)\n",
            "\n",
            "+-------------------+-------+---------+----------+\n",
            "|               date|  close| features|labelIndex|\n",
            "+-------------------+-------+---------+----------+\n",
            "|2018-05-15 06:00:00|8740.99|[8740.99]|       0.0|\n",
            "|2018-05-15 07:00:00| 8739.0| [8739.0]|       1.0|\n",
            "|2018-05-15 08:00:00|8728.49|[8728.49]|       2.0|\n",
            "|2018-05-15 09:00:00|8708.32|[8708.32]|       3.0|\n",
            "|2018-05-15 10:00:00| 8795.9| [8795.9]|       4.0|\n",
            "+-------------------+-------+---------+----------+\n",
            "only showing top 5 rows\n",
            "\n",
            "The shape of the test set is 6652 rows by 4 columns\n",
            "root\n",
            " |-- date: timestamp (nullable = true)\n",
            " |-- close: double (nullable = true)\n",
            " |-- features: vector (nullable = true)\n",
            " |-- labelIndex: double (nullable = false)\n",
            "\n",
            "+-------------------+--------+----------+----------+\n",
            "|               date|   close|  features|labelIndex|\n",
            "+-------------------+--------+----------+----------+\n",
            "|2021-05-27 21:00:00|38995.42|[38995.42]|   26607.0|\n",
            "|2021-05-27 22:00:00| 38538.2| [38538.2]|   26608.0|\n",
            "|2021-05-27 23:00:00|38503.47|[38503.47]|   26609.0|\n",
            "|2021-05-28 00:00:00|38049.81|[38049.81]|   26610.0|\n",
            "|2021-05-28 01:00:00|38205.89|[38205.89]|   26611.0|\n",
            "+-------------------+--------+----------+----------+\n",
            "only showing top 5 rows\n",
            "\n"
          ]
        }
      ]
    },
    {
      "cell_type": "code",
      "execution_count": 18,
      "metadata": {
        "id": "UJPBT9vs_zRZ"
      },
      "outputs": [],
      "source": [
        "def compute_avg_train_test(dataframe):\n",
        "  dataframe = dataframe.drop(\"features\", \"labelIndex\")\n",
        "  \n",
        "  dataframe = dataframe.withColumn(\"date\", date_format(dataframe.date, \"yyyy-MM-dd\")).groupBy(\"date\").agg(\n",
        "      avg(\"close\").alias(\"avg_close\")\n",
        "  ).sort(\"date\")\n",
        "\n",
        "  dataframe = dataframe.withColumn(\"avg_close\", round(dataframe[\"avg_close\"], 2))\n",
        "\n",
        "  return dataframe"
      ]
    },
    {
      "cell_type": "code",
      "execution_count": 19,
      "metadata": {
        "id": "cGlxw9wPW77V"
      },
      "outputs": [],
      "source": [
        "def show_avg_train_test(train_df, test_df):\n",
        "  avg_train_df_pandas = compute_avg_train_test(train_df).toPandas()\n",
        "  avg_test_df_pandas = compute_avg_train_test(test_df).toPandas()\n",
        "\n",
        "  trace1 = go.Scatter(\n",
        "      x = avg_train_df_pandas['date'],\n",
        "      y = avg_train_df_pandas['avg_close'].astype(float),\n",
        "      mode = 'lines',\n",
        "      name = 'Train set'\n",
        "  )\n",
        "\n",
        "  trace2 = go.Scatter(\n",
        "      x = avg_test_df_pandas['date'],\n",
        "      y = avg_test_df_pandas['avg_close'].astype(float),\n",
        "      mode = 'lines',\n",
        "      name = 'Test set'\n",
        "  )\n",
        "  \n",
        "  layout = dict(\n",
        "      title='Train and Test set with the Slider ',\n",
        "      xaxis=dict(\n",
        "          rangeselector=dict(\n",
        "              buttons=list([\n",
        "                  #change the count to desired amount of months.\n",
        "                  dict(count=1,\n",
        "                      label='1m',\n",
        "                      step='month',\n",
        "                      stepmode='backward'),\n",
        "                  dict(count=6,\n",
        "                      label='6m',\n",
        "                      step='month',\n",
        "                      stepmode='backward'),\n",
        "                  dict(count=12,\n",
        "                      label='1y',\n",
        "                      step='month',\n",
        "                      stepmode='backward'),\n",
        "                  dict(count=36,\n",
        "                      label='3y',\n",
        "                      step='month',\n",
        "                      stepmode='backward'),\n",
        "                  dict(step='all')\n",
        "              ])\n",
        "          ),\n",
        "          rangeslider=dict(\n",
        "              visible = True\n",
        "          ),\n",
        "          type='date'\n",
        "      )\n",
        "  )\n",
        "\n",
        "  data = [trace1,trace2]\n",
        "  fig = dict(data=data, layout=layout)\n",
        "  iplot(fig, filename = \"Train and Test set  with Rangeslider\")"
      ]
    },
    {
      "cell_type": "code",
      "execution_count": 20,
      "metadata": {
        "id": "5uuZJSHkRY12",
        "colab": {
          "base_uri": "https://localhost:8080/",
          "height": 542
        },
        "outputId": "03095aa3-7121-4449-81d5-48e46c470fc6"
      },
      "outputs": [
        {
          "output_type": "display_data",
          "data": {
            "text/html": [
              "<html>\n",
              "<head><meta charset=\"utf-8\" /></head>\n",
              "<body>\n",
              "    <div>            <script src=\"https://cdnjs.cloudflare.com/ajax/libs/mathjax/2.7.5/MathJax.js?config=TeX-AMS-MML_SVG\"></script><script type=\"text/javascript\">if (window.MathJax && window.MathJax.Hub && window.MathJax.Hub.Config) {window.MathJax.Hub.Config({SVG: {font: \"STIX-Web\"}});}</script>                <script type=\"text/javascript\">window.PlotlyConfig = {MathJaxConfig: 'local'};</script>\n",
              "        <script src=\"https://cdn.plot.ly/plotly-2.18.2.min.js\"></script>                <div id=\"b1694e93-1374-4a4d-8dd9-304a5922a82f\" class=\"plotly-graph-div\" style=\"height:525px; width:100%;\"></div>            <script type=\"text/javascript\">                                    window.PLOTLYENV=window.PLOTLYENV || {};                                    if (document.getElementById(\"b1694e93-1374-4a4d-8dd9-304a5922a82f\")) {                    Plotly.newPlot(                        \"b1694e93-1374-4a4d-8dd9-304a5922a82f\",                        [{\"mode\":\"lines\",\"name\":\"Train set\",\"x\":[\"2018-05-15\",\"2018-05-16\",\"2018-05-17\",\"2018-05-18\",\"2018-05-19\",\"2018-05-20\",\"2018-05-21\",\"2018-05-22\",\"2018-05-23\",\"2018-05-24\",\"2018-05-25\",\"2018-05-26\",\"2018-05-27\",\"2018-05-28\",\"2018-05-29\",\"2018-05-30\",\"2018-05-31\",\"2018-06-01\",\"2018-06-02\",\"2018-06-03\",\"2018-06-04\",\"2018-06-05\",\"2018-06-06\",\"2018-06-07\",\"2018-06-08\",\"2018-06-09\",\"2018-06-10\",\"2018-06-11\",\"2018-06-12\",\"2018-06-13\",\"2018-06-14\",\"2018-06-15\",\"2018-06-16\",\"2018-06-17\",\"2018-06-18\",\"2018-06-19\",\"2018-06-20\",\"2018-06-21\",\"2018-06-22\",\"2018-06-23\",\"2018-06-24\",\"2018-06-25\",\"2018-06-26\",\"2018-06-27\",\"2018-06-28\",\"2018-06-29\",\"2018-06-30\",\"2018-07-01\",\"2018-07-02\",\"2018-07-03\",\"2018-07-04\",\"2018-07-05\",\"2018-07-06\",\"2018-07-07\",\"2018-07-08\",\"2018-07-09\",\"2018-07-10\",\"2018-07-11\",\"2018-07-12\",\"2018-07-13\",\"2018-07-14\",\"2018-07-15\",\"2018-07-16\",\"2018-07-17\",\"2018-07-18\",\"2018-07-19\",\"2018-07-20\",\"2018-07-21\",\"2018-07-22\",\"2018-07-23\",\"2018-07-24\",\"2018-07-25\",\"2018-07-26\",\"2018-07-27\",\"2018-07-28\",\"2018-07-29\",\"2018-07-30\",\"2018-07-31\",\"2018-08-01\",\"2018-08-02\",\"2018-08-03\",\"2018-08-04\",\"2018-08-05\",\"2018-08-06\",\"2018-08-07\",\"2018-08-08\",\"2018-08-09\",\"2018-08-10\",\"2018-08-11\",\"2018-08-12\",\"2018-08-13\",\"2018-08-14\",\"2018-08-15\",\"2018-08-16\",\"2018-08-17\",\"2018-08-18\",\"2018-08-19\",\"2018-08-20\",\"2018-08-21\",\"2018-08-22\",\"2018-08-23\",\"2018-08-24\",\"2018-08-25\",\"2018-08-26\",\"2018-08-27\",\"2018-08-28\",\"2018-08-29\",\"2018-08-30\",\"2018-08-31\",\"2018-09-01\",\"2018-09-02\",\"2018-09-03\",\"2018-09-04\",\"2018-09-05\",\"2018-09-06\",\"2018-09-07\",\"2018-09-08\",\"2018-09-09\",\"2018-09-10\",\"2018-09-11\",\"2018-09-12\",\"2018-09-13\",\"2018-09-14\",\"2018-09-15\",\"2018-09-16\",\"2018-09-17\",\"2018-09-18\",\"2018-09-19\",\"2018-09-20\",\"2018-09-21\",\"2018-09-22\",\"2018-09-23\",\"2018-09-24\",\"2018-09-25\",\"2018-09-26\",\"2018-09-27\",\"2018-09-28\",\"2018-09-29\",\"2018-09-30\",\"2018-10-01\",\"2018-10-02\",\"2018-10-03\",\"2018-10-04\",\"2018-10-05\",\"2018-10-06\",\"2018-10-07\",\"2018-10-08\",\"2018-10-09\",\"2018-10-10\",\"2018-10-11\",\"2018-10-12\",\"2018-10-13\",\"2018-10-14\",\"2018-10-15\",\"2018-10-16\",\"2018-10-17\",\"2018-10-18\",\"2018-10-19\",\"2018-10-20\",\"2018-10-21\",\"2018-10-22\",\"2018-10-23\",\"2018-10-24\",\"2018-10-25\",\"2018-10-26\",\"2018-10-27\",\"2018-10-28\",\"2018-10-29\",\"2018-10-30\",\"2018-10-31\",\"2018-11-01\",\"2018-11-02\",\"2018-11-03\",\"2018-11-04\",\"2018-11-05\",\"2018-11-06\",\"2018-11-07\",\"2018-11-08\",\"2018-11-09\",\"2018-11-10\",\"2018-11-11\",\"2018-11-12\",\"2018-11-13\",\"2018-11-14\",\"2018-11-15\",\"2018-11-16\",\"2018-11-17\",\"2018-11-18\",\"2018-11-19\",\"2018-11-20\",\"2018-11-21\",\"2018-11-22\",\"2018-11-23\",\"2018-11-24\",\"2018-11-25\",\"2018-11-26\",\"2018-11-27\",\"2018-11-28\",\"2018-11-29\",\"2018-11-30\",\"2018-12-01\",\"2018-12-02\",\"2018-12-03\",\"2018-12-04\",\"2018-12-05\",\"2018-12-06\",\"2018-12-07\",\"2018-12-08\",\"2018-12-09\",\"2018-12-10\",\"2018-12-11\",\"2018-12-12\",\"2018-12-13\",\"2018-12-14\",\"2018-12-15\",\"2018-12-16\",\"2018-12-17\",\"2018-12-18\",\"2018-12-19\",\"2018-12-20\",\"2018-12-21\",\"2018-12-22\",\"2018-12-23\",\"2018-12-24\",\"2018-12-25\",\"2018-12-26\",\"2018-12-27\",\"2018-12-28\",\"2018-12-29\",\"2018-12-30\",\"2018-12-31\",\"2019-01-01\",\"2019-01-02\",\"2019-01-03\",\"2019-01-04\",\"2019-01-05\",\"2019-01-06\",\"2019-01-07\",\"2019-01-08\",\"2019-01-09\",\"2019-01-10\",\"2019-01-11\",\"2019-01-12\",\"2019-01-13\",\"2019-01-14\",\"2019-01-15\",\"2019-01-16\",\"2019-01-17\",\"2019-01-18\",\"2019-01-19\",\"2019-01-20\",\"2019-01-21\",\"2019-01-22\",\"2019-01-23\",\"2019-01-24\",\"2019-01-25\",\"2019-01-26\",\"2019-01-27\",\"2019-01-28\",\"2019-01-29\",\"2019-01-30\",\"2019-01-31\",\"2019-02-01\",\"2019-02-02\",\"2019-02-03\",\"2019-02-04\",\"2019-02-05\",\"2019-02-06\",\"2019-02-07\",\"2019-02-08\",\"2019-02-09\",\"2019-02-10\",\"2019-02-11\",\"2019-02-12\",\"2019-02-13\",\"2019-02-14\",\"2019-02-15\",\"2019-02-16\",\"2019-02-17\",\"2019-02-18\",\"2019-02-19\",\"2019-02-20\",\"2019-02-21\",\"2019-02-22\",\"2019-02-23\",\"2019-02-24\",\"2019-02-25\",\"2019-02-26\",\"2019-02-27\",\"2019-02-28\",\"2019-03-01\",\"2019-03-02\",\"2019-03-03\",\"2019-03-04\",\"2019-03-05\",\"2019-03-06\",\"2019-03-07\",\"2019-03-08\",\"2019-03-09\",\"2019-03-10\",\"2019-03-11\",\"2019-03-12\",\"2019-03-13\",\"2019-03-14\",\"2019-03-15\",\"2019-03-16\",\"2019-03-17\",\"2019-03-18\",\"2019-03-19\",\"2019-03-20\",\"2019-03-21\",\"2019-03-22\",\"2019-03-23\",\"2019-03-24\",\"2019-03-25\",\"2019-03-26\",\"2019-03-27\",\"2019-03-28\",\"2019-03-29\",\"2019-03-30\",\"2019-03-31\",\"2019-04-01\",\"2019-04-02\",\"2019-04-03\",\"2019-04-04\",\"2019-04-05\",\"2019-04-06\",\"2019-04-07\",\"2019-04-08\",\"2019-04-09\",\"2019-04-10\",\"2019-04-11\",\"2019-04-12\",\"2019-04-13\",\"2019-04-14\",\"2019-04-15\",\"2019-04-16\",\"2019-04-17\",\"2019-04-18\",\"2019-04-19\",\"2019-04-20\",\"2019-04-21\",\"2019-04-22\",\"2019-04-23\",\"2019-04-24\",\"2019-04-25\",\"2019-04-26\",\"2019-04-27\",\"2019-04-28\",\"2019-04-29\",\"2019-04-30\",\"2019-05-01\",\"2019-05-02\",\"2019-05-03\",\"2019-05-04\",\"2019-05-05\",\"2019-05-06\",\"2019-05-07\",\"2019-05-08\",\"2019-05-09\",\"2019-05-10\",\"2019-05-11\",\"2019-05-12\",\"2019-05-13\",\"2019-05-14\",\"2019-05-15\",\"2019-05-16\",\"2019-05-17\",\"2019-05-18\",\"2019-05-19\",\"2019-05-20\",\"2019-05-21\",\"2019-05-22\",\"2019-05-23\",\"2019-05-24\",\"2019-05-25\",\"2019-05-26\",\"2019-05-27\",\"2019-05-28\",\"2019-05-29\",\"2019-05-30\",\"2019-05-31\",\"2019-06-01\",\"2019-06-02\",\"2019-06-03\",\"2019-06-04\",\"2019-06-05\",\"2019-06-06\",\"2019-06-07\",\"2019-06-08\",\"2019-06-09\",\"2019-06-10\",\"2019-06-11\",\"2019-06-12\",\"2019-06-13\",\"2019-06-14\",\"2019-06-15\",\"2019-06-16\",\"2019-06-17\",\"2019-06-18\",\"2019-06-19\",\"2019-06-20\",\"2019-06-21\",\"2019-06-22\",\"2019-06-23\",\"2019-06-24\",\"2019-06-25\",\"2019-06-26\",\"2019-06-27\",\"2019-06-28\",\"2019-06-29\",\"2019-06-30\",\"2019-07-01\",\"2019-07-02\",\"2019-07-03\",\"2019-07-04\",\"2019-07-05\",\"2019-07-06\",\"2019-07-07\",\"2019-07-08\",\"2019-07-09\",\"2019-07-10\",\"2019-07-11\",\"2019-07-12\",\"2019-07-13\",\"2019-07-14\",\"2019-07-15\",\"2019-07-16\",\"2019-07-17\",\"2019-07-18\",\"2019-07-19\",\"2019-07-20\",\"2019-07-21\",\"2019-07-22\",\"2019-07-23\",\"2019-07-24\",\"2019-07-25\",\"2019-07-26\",\"2019-07-27\",\"2019-07-28\",\"2019-07-29\",\"2019-07-30\",\"2019-07-31\",\"2019-08-01\",\"2019-08-02\",\"2019-08-03\",\"2019-08-04\",\"2019-08-05\",\"2019-08-06\",\"2019-08-07\",\"2019-08-08\",\"2019-08-09\",\"2019-08-10\",\"2019-08-11\",\"2019-08-12\",\"2019-08-13\",\"2019-08-14\",\"2019-08-15\",\"2019-08-16\",\"2019-08-17\",\"2019-08-18\",\"2019-08-19\",\"2019-08-20\",\"2019-08-21\",\"2019-08-22\",\"2019-08-23\",\"2019-08-24\",\"2019-08-25\",\"2019-08-26\",\"2019-08-27\",\"2019-08-28\",\"2019-08-29\",\"2019-08-30\",\"2019-08-31\",\"2019-09-01\",\"2019-09-02\",\"2019-09-03\",\"2019-09-04\",\"2019-09-05\",\"2019-09-06\",\"2019-09-07\",\"2019-09-08\",\"2019-09-09\",\"2019-09-10\",\"2019-09-11\",\"2019-09-12\",\"2019-09-13\",\"2019-09-14\",\"2019-09-15\",\"2019-09-16\",\"2019-09-17\",\"2019-09-18\",\"2019-09-19\",\"2019-09-20\",\"2019-09-21\",\"2019-09-22\",\"2019-09-23\",\"2019-09-24\",\"2019-09-25\",\"2019-09-26\",\"2019-09-27\",\"2019-09-28\",\"2019-09-29\",\"2019-09-30\",\"2019-10-01\",\"2019-10-02\",\"2019-10-03\",\"2019-10-04\",\"2019-10-05\",\"2019-10-06\",\"2019-10-07\",\"2019-10-08\",\"2019-10-09\",\"2019-10-10\",\"2019-10-11\",\"2019-10-12\",\"2019-10-13\",\"2019-10-14\",\"2019-10-15\",\"2019-10-16\",\"2019-10-17\",\"2019-10-18\",\"2019-10-19\",\"2019-10-20\",\"2019-10-21\",\"2019-10-22\",\"2019-10-23\",\"2019-10-24\",\"2019-10-25\",\"2019-10-26\",\"2019-10-27\",\"2019-10-28\",\"2019-10-29\",\"2019-10-30\",\"2019-10-31\",\"2019-11-01\",\"2019-11-02\",\"2019-11-03\",\"2019-11-04\",\"2019-11-05\",\"2019-11-06\",\"2019-11-07\",\"2019-11-08\",\"2019-11-09\",\"2019-11-10\",\"2019-11-11\",\"2019-11-12\",\"2019-11-13\",\"2019-11-14\",\"2019-11-15\",\"2019-11-16\",\"2019-11-17\",\"2019-11-18\",\"2019-11-19\",\"2019-11-20\",\"2019-11-21\",\"2019-11-22\",\"2019-11-23\",\"2019-11-24\",\"2019-11-25\",\"2019-11-26\",\"2019-11-27\",\"2019-11-28\",\"2019-11-29\",\"2019-11-30\",\"2019-12-01\",\"2019-12-02\",\"2019-12-03\",\"2019-12-04\",\"2019-12-05\",\"2019-12-06\",\"2019-12-07\",\"2019-12-08\",\"2019-12-09\",\"2019-12-10\",\"2019-12-11\",\"2019-12-12\",\"2019-12-13\",\"2019-12-14\",\"2019-12-15\",\"2019-12-16\",\"2019-12-17\",\"2019-12-18\",\"2019-12-19\",\"2019-12-20\",\"2019-12-21\",\"2019-12-22\",\"2019-12-23\",\"2019-12-24\",\"2019-12-25\",\"2019-12-26\",\"2019-12-27\",\"2019-12-28\",\"2019-12-29\",\"2019-12-30\",\"2019-12-31\",\"2020-01-01\",\"2020-01-02\",\"2020-01-03\",\"2020-01-04\",\"2020-01-05\",\"2020-01-06\",\"2020-01-07\",\"2020-01-08\",\"2020-01-09\",\"2020-01-10\",\"2020-01-11\",\"2020-01-12\",\"2020-01-13\",\"2020-01-14\",\"2020-01-15\",\"2020-01-16\",\"2020-01-17\",\"2020-01-18\",\"2020-01-19\",\"2020-01-20\",\"2020-01-21\",\"2020-01-22\",\"2020-01-23\",\"2020-01-24\",\"2020-01-25\",\"2020-01-26\",\"2020-01-27\",\"2020-01-28\",\"2020-01-29\",\"2020-01-30\",\"2020-01-31\",\"2020-02-01\",\"2020-02-02\",\"2020-02-03\",\"2020-02-04\",\"2020-02-05\",\"2020-02-06\",\"2020-02-07\",\"2020-02-08\",\"2020-02-09\",\"2020-02-10\",\"2020-02-11\",\"2020-02-12\",\"2020-02-13\",\"2020-02-14\",\"2020-02-15\",\"2020-02-16\",\"2020-02-17\",\"2020-02-18\",\"2020-02-19\",\"2020-02-20\",\"2020-02-21\",\"2020-02-22\",\"2020-02-23\",\"2020-02-24\",\"2020-02-25\",\"2020-02-26\",\"2020-02-27\",\"2020-02-28\",\"2020-02-29\",\"2020-03-01\",\"2020-03-02\",\"2020-03-03\",\"2020-03-04\",\"2020-03-05\",\"2020-03-06\",\"2020-03-07\",\"2020-03-08\",\"2020-03-09\",\"2020-03-10\",\"2020-03-11\",\"2020-03-12\",\"2020-03-13\",\"2020-03-14\",\"2020-03-15\",\"2020-03-16\",\"2020-03-17\",\"2020-03-18\",\"2020-03-19\",\"2020-03-20\",\"2020-03-21\",\"2020-03-22\",\"2020-03-23\",\"2020-03-24\",\"2020-03-25\",\"2020-03-26\",\"2020-03-27\",\"2020-03-28\",\"2020-03-29\",\"2020-03-30\",\"2020-03-31\",\"2020-04-01\",\"2020-04-02\",\"2020-04-03\",\"2020-04-04\",\"2020-04-05\",\"2020-04-06\",\"2020-04-07\",\"2020-04-08\",\"2020-04-09\",\"2020-04-10\",\"2020-04-11\",\"2020-04-12\",\"2020-04-13\",\"2020-04-14\",\"2020-04-15\",\"2020-04-16\",\"2020-04-17\",\"2020-04-18\",\"2020-04-19\",\"2020-04-20\",\"2020-04-21\",\"2020-04-22\",\"2020-04-23\",\"2020-04-24\",\"2020-04-25\",\"2020-04-26\",\"2020-04-27\",\"2020-04-28\",\"2020-04-29\",\"2020-04-30\",\"2020-05-01\",\"2020-05-02\",\"2020-05-03\",\"2020-05-04\",\"2020-05-05\",\"2020-05-06\",\"2020-05-07\",\"2020-05-08\",\"2020-05-09\",\"2020-05-10\",\"2020-05-11\",\"2020-05-12\",\"2020-05-13\",\"2020-05-14\",\"2020-05-15\",\"2020-05-16\",\"2020-05-17\",\"2020-05-18\",\"2020-05-19\",\"2020-05-20\",\"2020-05-21\",\"2020-05-22\",\"2020-05-23\",\"2020-05-24\",\"2020-05-25\",\"2020-05-26\",\"2020-05-27\",\"2020-05-28\",\"2020-05-29\",\"2020-05-30\",\"2020-05-31\",\"2020-06-01\",\"2020-06-02\",\"2020-06-03\",\"2020-06-04\",\"2020-06-05\",\"2020-06-06\",\"2020-06-07\",\"2020-06-08\",\"2020-06-09\",\"2020-06-10\",\"2020-06-11\",\"2020-06-12\",\"2020-06-13\",\"2020-06-14\",\"2020-06-15\",\"2020-06-16\",\"2020-06-17\",\"2020-06-18\",\"2020-06-19\",\"2020-06-20\",\"2020-06-21\",\"2020-06-22\",\"2020-06-23\",\"2020-06-24\",\"2020-06-25\",\"2020-06-26\",\"2020-06-27\",\"2020-06-28\",\"2020-06-29\",\"2020-06-30\",\"2020-07-01\",\"2020-07-02\",\"2020-07-03\",\"2020-07-04\",\"2020-07-05\",\"2020-07-06\",\"2020-07-07\",\"2020-07-08\",\"2020-07-09\",\"2020-07-10\",\"2020-07-11\",\"2020-07-12\",\"2020-07-13\",\"2020-07-14\",\"2020-07-15\",\"2020-07-16\",\"2020-07-17\",\"2020-07-18\",\"2020-07-19\",\"2020-07-20\",\"2020-07-21\",\"2020-07-22\",\"2020-07-23\",\"2020-07-24\",\"2020-07-25\",\"2020-07-26\",\"2020-07-27\",\"2020-07-28\",\"2020-07-29\",\"2020-07-30\",\"2020-07-31\",\"2020-08-01\",\"2020-08-02\",\"2020-08-03\",\"2020-08-04\",\"2020-08-05\",\"2020-08-06\",\"2020-08-07\",\"2020-08-08\",\"2020-08-09\",\"2020-08-10\",\"2020-08-11\",\"2020-08-12\",\"2020-08-13\",\"2020-08-14\",\"2020-08-15\",\"2020-08-16\",\"2020-08-17\",\"2020-08-18\",\"2020-08-19\",\"2020-08-20\",\"2020-08-21\",\"2020-08-22\",\"2020-08-23\",\"2020-08-24\",\"2020-08-25\",\"2020-08-26\",\"2020-08-27\",\"2020-08-28\",\"2020-08-29\",\"2020-08-30\",\"2020-08-31\",\"2020-09-01\",\"2020-09-02\",\"2020-09-03\",\"2020-09-04\",\"2020-09-05\",\"2020-09-06\",\"2020-09-07\",\"2020-09-08\",\"2020-09-09\",\"2020-09-10\",\"2020-09-11\",\"2020-09-12\",\"2020-09-13\",\"2020-09-14\",\"2020-09-15\",\"2020-09-16\",\"2020-09-17\",\"2020-09-18\",\"2020-09-19\",\"2020-09-20\",\"2020-09-21\",\"2020-09-22\",\"2020-09-23\",\"2020-09-24\",\"2020-09-25\",\"2020-09-26\",\"2020-09-27\",\"2020-09-28\",\"2020-09-29\",\"2020-09-30\",\"2020-10-01\",\"2020-10-02\",\"2020-10-03\",\"2020-10-04\",\"2020-10-05\",\"2020-10-06\",\"2020-10-07\",\"2020-10-08\",\"2020-10-09\",\"2020-10-10\",\"2020-10-11\",\"2020-10-12\",\"2020-10-13\",\"2020-10-14\",\"2020-10-15\",\"2020-10-16\",\"2020-10-17\",\"2020-10-18\",\"2020-10-19\",\"2020-10-20\",\"2020-10-21\",\"2020-10-22\",\"2020-10-23\",\"2020-10-24\",\"2020-10-25\",\"2020-10-26\",\"2020-10-27\",\"2020-10-28\",\"2020-10-29\",\"2020-10-30\",\"2020-10-31\",\"2020-11-01\",\"2020-11-02\",\"2020-11-03\",\"2020-11-04\",\"2020-11-05\",\"2020-11-06\",\"2020-11-07\",\"2020-11-08\",\"2020-11-09\",\"2020-11-10\",\"2020-11-11\",\"2020-11-12\",\"2020-11-13\",\"2020-11-14\",\"2020-11-15\",\"2020-11-16\",\"2020-11-17\",\"2020-11-18\",\"2020-11-19\",\"2020-11-20\",\"2020-11-21\",\"2020-11-22\",\"2020-11-23\",\"2020-11-24\",\"2020-11-25\",\"2020-11-26\",\"2020-11-27\",\"2020-11-28\",\"2020-11-29\",\"2020-11-30\",\"2020-12-01\",\"2020-12-02\",\"2020-12-03\",\"2020-12-04\",\"2020-12-05\",\"2020-12-06\",\"2020-12-07\",\"2020-12-08\",\"2020-12-09\",\"2020-12-10\",\"2020-12-11\",\"2020-12-12\",\"2020-12-13\",\"2020-12-14\",\"2020-12-15\",\"2020-12-16\",\"2020-12-17\",\"2020-12-18\",\"2020-12-19\",\"2020-12-20\",\"2020-12-21\",\"2020-12-22\",\"2020-12-23\",\"2020-12-24\",\"2020-12-25\",\"2020-12-26\",\"2020-12-27\",\"2020-12-28\",\"2020-12-29\",\"2020-12-30\",\"2020-12-31\",\"2021-01-01\",\"2021-01-02\",\"2021-01-03\",\"2021-01-04\",\"2021-01-05\",\"2021-01-06\",\"2021-01-07\",\"2021-01-08\",\"2021-01-09\",\"2021-01-10\",\"2021-01-11\",\"2021-01-12\",\"2021-01-13\",\"2021-01-14\",\"2021-01-15\",\"2021-01-16\",\"2021-01-17\",\"2021-01-18\",\"2021-01-19\",\"2021-01-20\",\"2021-01-21\",\"2021-01-22\",\"2021-01-23\",\"2021-01-24\",\"2021-01-25\",\"2021-01-26\",\"2021-01-27\",\"2021-01-28\",\"2021-01-29\",\"2021-01-30\",\"2021-01-31\",\"2021-02-01\",\"2021-02-02\",\"2021-02-03\",\"2021-02-04\",\"2021-02-05\",\"2021-02-06\",\"2021-02-07\",\"2021-02-08\",\"2021-02-09\",\"2021-02-10\",\"2021-02-11\",\"2021-02-12\",\"2021-02-13\",\"2021-02-14\",\"2021-02-15\",\"2021-02-16\",\"2021-02-17\",\"2021-02-18\",\"2021-02-19\",\"2021-02-20\",\"2021-02-21\",\"2021-02-22\",\"2021-02-23\",\"2021-02-24\",\"2021-02-25\",\"2021-02-26\",\"2021-02-27\",\"2021-02-28\",\"2021-03-01\",\"2021-03-02\",\"2021-03-03\",\"2021-03-04\",\"2021-03-05\",\"2021-03-06\",\"2021-03-07\",\"2021-03-08\",\"2021-03-09\",\"2021-03-10\",\"2021-03-11\",\"2021-03-12\",\"2021-03-13\",\"2021-03-14\",\"2021-03-15\",\"2021-03-16\",\"2021-03-17\",\"2021-03-18\",\"2021-03-19\",\"2021-03-20\",\"2021-03-21\",\"2021-03-22\",\"2021-03-23\",\"2021-03-24\",\"2021-03-25\",\"2021-03-26\",\"2021-03-27\",\"2021-03-28\",\"2021-03-29\",\"2021-03-30\",\"2021-03-31\",\"2021-04-01\",\"2021-04-02\",\"2021-04-03\",\"2021-04-04\",\"2021-04-05\",\"2021-04-06\",\"2021-04-07\",\"2021-04-08\",\"2021-04-09\",\"2021-04-10\",\"2021-04-11\",\"2021-04-12\",\"2021-04-13\",\"2021-04-14\",\"2021-04-15\",\"2021-04-16\",\"2021-04-17\",\"2021-04-18\",\"2021-04-19\",\"2021-04-20\",\"2021-04-21\",\"2021-04-22\",\"2021-04-23\",\"2021-04-24\",\"2021-04-25\",\"2021-04-26\",\"2021-04-27\",\"2021-04-28\",\"2021-04-29\",\"2021-04-30\",\"2021-05-01\",\"2021-05-02\",\"2021-05-03\",\"2021-05-04\",\"2021-05-05\",\"2021-05-06\",\"2021-05-07\",\"2021-05-08\",\"2021-05-09\",\"2021-05-10\",\"2021-05-11\",\"2021-05-12\",\"2021-05-13\",\"2021-05-14\",\"2021-05-15\",\"2021-05-16\",\"2021-05-17\",\"2021-05-18\",\"2021-05-19\",\"2021-05-20\",\"2021-05-21\",\"2021-05-22\",\"2021-05-23\",\"2021-05-24\",\"2021-05-25\",\"2021-05-26\",\"2021-05-27\"],\"y\":[8618.51,8274.09,8270.4,8106.38,8255.82,8364.38,8452.89,8220.8,7777.62,7545.84,7488.02,7485.94,7320.01,7250.44,7301.68,7429.27,7504.23,7476.07,7600.81,7693.39,7572.45,7493.18,7610.76,7694.72,7630.57,7626.36,7117.25,6762.08,6750.19,6438.85,6507.14,6548.21,6465.54,6507.32,6525.93,6718.97,6682.13,6737.44,6351.92,6140.59,6031.65,6202.79,6201.01,6096.87,6078.7,5911.64,6366.9,6347.93,6457.38,6596.08,6569.1,6583.46,6543.54,6576.24,6737.84,6706.19,6473.1,6356.4,6221.06,6236.05,6235.07,6321.74,6527.34,6887.08,7408.6,7387.96,7417.76,7347.43,7447.84,7686.39,8086.62,8255.45,8192.17,8021.2,8180.86,8201.48,8136.64,7906.34,7565.16,7584.57,7399.62,7241.44,6996.25,6984.14,6984.42,6442.56,6403.6,6383.86,6189.31,6308.9,6344.51,6054.37,6371.83,6343.71,6472.19,6443.6,6402.89,6442.97,6405.19,6570.16,6435.03,6555.57,6713.39,6668.34,6717.56,6989.14,7048.35,6924.97,6979.55,7108.56,7241.53,7261.03,7324.79,7104.65,6421.1,6439.62,6354.73,6289.1,6290.82,6291.4,6269.72,6442.5,6494.43,6520.83,6485.1,6395.14,6298.33,6332.77,6417.88,6661.51,6704.41,6705.41,6636.77,6410.23,6461.46,6525.18,6666.02,6536.93,6578.3,6573.79,6540.61,6446.11,6544.72,6544.5,6556.49,6535.06,6586.59,6588.27,6516.42,6211.34,6202.48,6195.21,6225.19,6373.68,6440.21,6439.67,6427.48,6384.27,6397.97,6433.95,6404.74,6394.76,6426.47,6399.32,6401.87,6407.09,6402.29,6327.79,6264.88,6278.04,6312.04,6352.26,6334.16,6366.52,6403.43,6413.67,6507.14,6448.01,6364.62,6355.41,6339.31,6349.18,6287.71,6009.89,5492.16,5526.78,5487.74,5534.32,5189.08,4526.95,4450.66,4463.27,4250.94,4194.62,3757.9,3849.74,3709.45,4068.73,4220.43,4074.69,4078.91,4122.2,3926.03,3907.6,3800.1,3688.96,3355.1,3389.45,3467.74,3468.25,3365.59,3395.52,3359.25,3232.46,3180.71,3215.61,3338.01,3510.67,3748.62,3931.51,3971.2,3855.79,3979.36,4127.69,3766.22,3780.26,3715.44,3706.57,3869.79,3791.73,3757.17,3701.85,3826.12,3828.19,3785.57,3833.95,3875.3,4021.29,4005.85,4010.1,3791.4,3635.73,3626.33,3578.54,3582.89,3639.19,3603.24,3602.48,3614.35,3671.04,3604.98,3536.38,3552.89,3568.53,3553.8,3556.89,3571.16,3545.72,3435.52,3397.34,3423.6,3425.14,3416.58,3432.34,3425.3,3413.14,3419.71,3371.66,3366.47,3460.19,3615.23,3608.87,3595.79,3577.46,3582.11,3568.61,3570.21,3587.86,3584.81,3760.36,3901.11,3912.5,3906.91,3925.85,3984.65,3983.76,3793.78,3799.57,3795.6,3811.13,3813.28,3805.36,3800.91,3722.59,3768.24,3840.23,3862.8,3873.53,3890.09,3892.16,3862.79,3847.0,3852.76,3851.28,3878.44,3980.13,3962.88,3967.85,3977.02,3994.71,4003.64,3981.66,3981.05,3968.15,3948.58,3907.98,3997.3,4010.09,4058.44,4084.97,4088.3,4127.08,4663.38,5038.64,4967.65,4979.63,5041.91,5129.16,5242.31,5218.43,5273.64,5123.95,5049.84,5085.18,5079.32,5120.55,5099.83,5222.02,5264.58,5259.1,5312.45,5287.47,5319.87,5532.94,5480.62,5423.61,5149.24,5165.02,5170.92,5155.04,5202.58,5305.45,5362.89,5624.34,5694.01,5722.84,5654.93,5867.54,5846.25,6053.16,6295.85,6818.76,7148.96,7422.19,7990.15,8059.49,7978.67,7246.34,7323.45,7952.42,7901.16,7953.97,7886.38,7712.85,7985.63,8047.11,8137.36,8777.8,8726.87,8642.2,8628.49,8349.45,8544.13,8672.67,8521.87,7837.34,7771.17,7758.76,7932.56,7940.87,7797.3,7826.24,7900.8,8045.59,8170.9,8358.88,8731.02,9101.99,9241.91,9154.06,9154.73,9360.21,9821.89,10724.05,10738.74,10848.4,11325.76,12692.94,11798.46,11711.93,11844.63,11518.88,10682.68,10312.8,11359.37,11749.92,11136.27,11424.64,11321.51,11820.56,12522.25,12643.61,11581.05,11594.2,11418.53,10833.05,10425.76,10341.87,9583.5,10071.14,10469.98,10684.55,10574.93,10438.79,10061.03,9706.92,10028.02,9781.29,9721.54,9490.21,9537.8,9537.34,9866.44,10096.01,10476.46,10792.98,10820.54,11697.44,11751.6,11720.92,11801.56,11818.11,11572.57,11386.13,11396.13,11128.25,10424.12,10016.79,10237.03,10293.97,10292.17,10625.0,10756.2,10173.78,10040.82,10268.08,10155.51,10102.33,10342.54,10173.96,10033.6,9514.27,9533.53,9592.89,9628.29,9952.63,10522.74,10558.93,10562.3,10644.52,10422.63,10455.14,10297.99,10213.48,10059.35,10221.39,10314.12,10338.71,10312.35,10247.78,10211.59,10190.64,9992.07,10165.18,10032.74,9977.55,9873.32,9391.4,8442.09,8242.9,8039.89,8162.35,8068.97,8080.62,8362.3,8255.83,8238.08,8144.57,8107.95,7969.33,8044.09,8206.69,8341.68,8561.07,8397.48,8334.03,8359.17,8309.9,8260.76,8060.46,8031.71,7960.61,7964.66,8021.86,8223.73,8198.34,7729.9,7446.44,7900.33,9335.3,9409.21,9472.31,9379.75,9189.42,9169.45,9156.29,9282.11,9221.55,9254.93,9343.4,9338.64,9236.28,8975.32,8810.5,8892.09,8794.43,8735.83,8746.15,8655.07,8536.15,8468.8,8513.08,8378.0,8112.17,8096.12,7843.07,7341.52,7244.19,7133.1,6964.02,7142.33,7258.86,7520.69,7621.31,7650.26,7350.64,7312.31,7319.35,7266.89,7330.26,7408.83,7530.11,7496.87,7455.48,7292.83,7211.74,7172.0,7226.83,7158.63,7092.07,7028.16,6784.0,6792.95,7143.1,7153.57,7146.89,7233.36,7498.16,7298.31,7210.92,7220.46,7192.94,7300.81,7348.84,7293.87,7199.15,7196.12,7069.46,7228.94,7321.73,7429.92,7541.09,7929.93,8236.21,7889.07,7893.88,8109.44,8111.52,8100.92,8589.53,8746.85,8675.33,8848.93,8889.08,8848.42,8641.21,8642.84,8666.11,8430.41,8386.14,8313.58,8432.94,8729.29,9048.81,9331.66,9374.12,9337.07,9370.14,9377.02,9329.58,9198.5,9408.76,9691.23,9770.76,9815.96,10082.19,9909.56,9963.47,10346.22,10276.67,10259.91,10123.07,9902.95,9715.96,9855.53,10083.91,9586.04,9693.35,9659.29,9869.98,9725.52,9483.5,9027.83,8797.97,8693.93,8684.7,8555.27,8754.49,8788.34,8759.32,9027.04,9095.45,9048.69,8552.33,7885.64,7942.1,7851.02,6613.5,5299.27,5415.97,5305.31,4991.23,5315.27,5295.65,5777.85,6372.84,6168.82,6139.03,6115.44,6664.8,6658.14,6672.14,6679.76,6224.66,6099.46,6273.95,6452.6,6312.07,6728.37,6820.26,6774.7,6794.01,7104.42,7314.19,7300.78,7307.06,6973.77,6872.8,6947.03,6749.93,6883.01,6795.88,6922.08,7067.72,7157.78,7167.43,7044.21,6866.43,7006.68,7299.42,7521.22,7547.77,7607.44,7717.16,7732.07,8265.27,8895.79,8791.47,8876.44,8975.0,8770.73,8938.18,9161.86,9506.98,9922.78,9720.32,8669.28,8705.35,8774.67,9057.5,9585.57,9510.01,9406.36,9631.12,9715.76,9670.84,9664.21,9263.94,9126.07,9209.21,9111.86,8820.8,8855.48,9032.06,9328.98,9449.03,9517.5,9542.87,9592.75,9862.52,9555.52,9704.73,9741.9,9636.85,9625.98,9725.07,9716.63,9786.71,9625.63,9414.0,9427.76,9402.69,9244.47,9499.56,9436.12,9402.91,9325.02,9302.4,9348.01,9491.98,9638.38,9426.51,9228.87,9179.38,9104.9,9058.99,9119.58,9151.19,9193.65,9168.08,9093.44,9093.33,9060.68,9220.22,9268.95,9350.04,9327.51,9198.77,9236.75,9251.21,9277.66,9219.88,9220.21,9129.99,9134.05,9162.75,9156.93,9175.7,9310.97,9365.5,9545.68,9558.63,9623.63,9839.11,10473.19,10983.89,11096.4,11033.76,11202.14,11618.41,11309.53,11247.7,11238.8,11477.7,11756.3,11713.06,11691.03,11664.39,11904.52,11628.27,11466.44,11557.8,11758.92,11870.27,11853.94,12064.24,12153.8,11795.51,11799.08,11734.94,11563.97,11618.74,11734.05,11497.95,11404.39,11339.54,11450.94,11503.21,11614.21,11678.96,11884.27,11568.82,11015.94,10411.04,10266.73,10210.08,10156.75,10140.26,10189.61,10339.66,10300.53,10374.57,10394.03,10517.23,10776.01,10903.45,10891.77,10927.09,11022.02,10915.82,10664.77,10467.64,10427.58,10451.34,10668.49,10715.51,10718.3,10873.54,10730.07,10736.25,10752.42,10526.29,10551.83,10605.15,10706.87,10694.15,10623.89,10739.49,10986.36,11337.04,11360.84,11450.56,11448.99,11403.26,11416.9,11363.81,11347.06,11433.97,11589.01,11846.61,12482.96,12932.41,12932.42,13030.89,13052.21,13065.17,13377.18,13439.68,13332.18,13434.51,13749.41,13762.61,13588.71,13621.52,13889.86,14761.27,15578.47,15334.38,15221.07,15384.23,15328.43,15597.55,15935.56,16298.53,16029.74,15992.44,16375.39,17112.81,17908.15,17860.02,18361.37,18710.02,18426.95,18450.04,18882.48,19039.2,17363.92,16979.33,17330.65,18007.36,18929.55,19247.98,18969.23,19293.27,19103.22,19012.32,19151.28,19194.78,18913.95,18272.2,18296.35,17941.52,18485.11,19123.06,19175.39,19357.37,20126.53,22636.0,22887.68,23363.23,23601.41,23252.43,23119.83,23525.08,23243.04,24028.3,25314.41,27020.15,26957.05,26697.97,28171.96,28893.03,29281.87,30797.98,33447.18,31932.26,32274.32,34944.52,38194.92,39832.15,40355.94,39688.77,34258.94,34841.84,34696.05,38516.15,37430.99,36802.27,35596.11,36079.69,36805.24,35169.65,32809.34,31903.89,32352.76,32257.81,33393.86,32020.56,31087.82,31919.24,35175.67,34069.36,33399.03,33704.95,34746.8,36615.91,37517.74,37621.89,39814.88,38723.99,41362.12,46716.53,45779.75,46293.37,47574.25,47264.75,48605.31,47860.1,48883.51,50967.83,51907.61,53151.56,56248.45,57074.48,54654.29,48775.9,49879.59,49924.12,46574.96,47118.15,44762.03,47699.04,48561.61,50452.66,49295.46,47760.37,48358.18,50250.39,50864.57,54030.14,55417.32,56315.22,56853.06,58903.76,60403.61,57388.45,55375.86,56173.05,58399.96,58320.59,58769.84,57255.69,56692.81,54694.65,55082.78,52064.92,53326.11,55235.04,55860.49,56952.93,58390.17,58690.54,58862.58,59277.52,58881.5,57747.73,58135.03,58427.77,56948.42,57224.27,58198.3,59867.79,59798.62,60075.42,62248.41,63481.89,62883.37,61711.44,61281.15,55956.1,56399.64,55589.31,55377.77,53731.91,49879.15,50048.11,49622.83,53180.74,54625.18,54780.08,53860.26,55383.01,57798.41,56867.53,57925.36,55203.37,56007.36,56935.1,56852.85,58559.54,57965.1,57739.9,55867.84,55829.17,49787.73,50182.57,48809.4,47660.69,44241.42,44186.21,39013.64,39946.12,39134.19,37551.76,34958.12,37088.85,38088.42,39329.47,38820.31],\"type\":\"scatter\"},{\"mode\":\"lines\",\"name\":\"Test set\",\"x\":[\"2021-05-27\",\"2021-05-28\",\"2021-05-29\",\"2021-05-30\",\"2021-05-31\",\"2021-06-01\",\"2021-06-02\",\"2021-06-03\",\"2021-06-04\",\"2021-06-05\",\"2021-06-06\",\"2021-06-07\",\"2021-06-08\",\"2021-06-09\",\"2021-06-10\",\"2021-06-11\",\"2021-06-12\",\"2021-06-13\",\"2021-06-14\",\"2021-06-15\",\"2021-06-16\",\"2021-06-17\",\"2021-06-18\",\"2021-06-19\",\"2021-06-20\",\"2021-06-21\",\"2021-06-22\",\"2021-06-23\",\"2021-06-24\",\"2021-06-25\",\"2021-06-26\",\"2021-06-27\",\"2021-06-28\",\"2021-06-29\",\"2021-06-30\",\"2021-07-01\",\"2021-07-02\",\"2021-07-03\",\"2021-07-04\",\"2021-07-05\",\"2021-07-06\",\"2021-07-07\",\"2021-07-08\",\"2021-07-09\",\"2021-07-10\",\"2021-07-11\",\"2021-07-12\",\"2021-07-13\",\"2021-07-14\",\"2021-07-15\",\"2021-07-16\",\"2021-07-17\",\"2021-07-18\",\"2021-07-19\",\"2021-07-20\",\"2021-07-21\",\"2021-07-22\",\"2021-07-23\",\"2021-07-24\",\"2021-07-25\",\"2021-07-26\",\"2021-07-27\",\"2021-07-28\",\"2021-07-29\",\"2021-07-30\",\"2021-07-31\",\"2021-08-01\",\"2021-08-02\",\"2021-08-03\",\"2021-08-04\",\"2021-08-05\",\"2021-08-06\",\"2021-08-07\",\"2021-08-08\",\"2021-08-09\",\"2021-08-10\",\"2021-08-11\",\"2021-08-12\",\"2021-08-13\",\"2021-08-14\",\"2021-08-15\",\"2021-08-16\",\"2021-08-17\",\"2021-08-18\",\"2021-08-19\",\"2021-08-20\",\"2021-08-21\",\"2021-08-22\",\"2021-08-23\",\"2021-08-24\",\"2021-08-25\",\"2021-08-26\",\"2021-08-27\",\"2021-08-28\",\"2021-08-29\",\"2021-08-30\",\"2021-08-31\",\"2021-09-01\",\"2021-09-02\",\"2021-09-03\",\"2021-09-04\",\"2021-09-05\",\"2021-09-06\",\"2021-09-07\",\"2021-09-08\",\"2021-09-09\",\"2021-09-10\",\"2021-09-11\",\"2021-09-12\",\"2021-09-13\",\"2021-09-14\",\"2021-09-15\",\"2021-09-16\",\"2021-09-17\",\"2021-09-18\",\"2021-09-19\",\"2021-09-20\",\"2021-09-21\",\"2021-09-22\",\"2021-09-23\",\"2021-09-24\",\"2021-09-25\",\"2021-09-26\",\"2021-09-27\",\"2021-09-28\",\"2021-09-29\",\"2021-09-30\",\"2021-10-01\",\"2021-10-02\",\"2021-10-03\",\"2021-10-04\",\"2021-10-05\",\"2021-10-06\",\"2021-10-07\",\"2021-10-08\",\"2021-10-09\",\"2021-10-10\",\"2021-10-11\",\"2021-10-12\",\"2021-10-13\",\"2021-10-14\",\"2021-10-15\",\"2021-10-16\",\"2021-10-17\",\"2021-10-18\",\"2021-10-19\",\"2021-10-20\",\"2021-10-21\",\"2021-10-22\",\"2021-10-23\",\"2021-10-24\",\"2021-10-25\",\"2021-10-26\",\"2021-10-27\",\"2021-10-28\",\"2021-10-29\",\"2021-10-30\",\"2021-10-31\",\"2021-11-01\",\"2021-11-02\",\"2021-11-03\",\"2021-11-04\",\"2021-11-05\",\"2021-11-06\",\"2021-11-07\",\"2021-11-08\",\"2021-11-09\",\"2021-11-10\",\"2021-11-11\",\"2021-11-12\",\"2021-11-13\",\"2021-11-14\",\"2021-11-15\",\"2021-11-16\",\"2021-11-17\",\"2021-11-18\",\"2021-11-19\",\"2021-11-20\",\"2021-11-21\",\"2021-11-22\",\"2021-11-23\",\"2021-11-24\",\"2021-11-25\",\"2021-11-26\",\"2021-11-27\",\"2021-11-28\",\"2021-11-29\",\"2021-11-30\",\"2021-12-01\",\"2021-12-02\",\"2021-12-03\",\"2021-12-04\",\"2021-12-05\",\"2021-12-06\",\"2021-12-07\",\"2021-12-08\",\"2021-12-09\",\"2021-12-10\",\"2021-12-11\",\"2021-12-12\",\"2021-12-13\",\"2021-12-14\",\"2021-12-15\",\"2021-12-16\",\"2021-12-17\",\"2021-12-18\",\"2021-12-19\",\"2021-12-20\",\"2021-12-21\",\"2021-12-22\",\"2021-12-23\",\"2021-12-24\",\"2021-12-25\",\"2021-12-26\",\"2021-12-27\",\"2021-12-28\",\"2021-12-29\",\"2021-12-30\",\"2021-12-31\",\"2022-01-01\",\"2022-01-02\",\"2022-01-03\",\"2022-01-04\",\"2022-01-05\",\"2022-01-06\",\"2022-01-07\",\"2022-01-08\",\"2022-01-09\",\"2022-01-10\",\"2022-01-11\",\"2022-01-12\",\"2022-01-13\",\"2022-01-14\",\"2022-01-15\",\"2022-01-16\",\"2022-01-17\",\"2022-01-18\",\"2022-01-19\",\"2022-01-20\",\"2022-01-21\",\"2022-01-22\",\"2022-01-23\",\"2022-01-24\",\"2022-01-25\",\"2022-01-26\",\"2022-01-27\",\"2022-01-28\",\"2022-01-29\",\"2022-01-30\",\"2022-01-31\",\"2022-02-01\",\"2022-02-02\",\"2022-02-03\",\"2022-02-04\",\"2022-02-05\",\"2022-02-06\",\"2022-02-07\",\"2022-02-08\",\"2022-02-09\",\"2022-02-10\",\"2022-02-11\",\"2022-02-12\",\"2022-02-13\",\"2022-02-14\",\"2022-02-15\",\"2022-02-16\",\"2022-02-17\",\"2022-02-18\",\"2022-02-19\",\"2022-02-20\",\"2022-02-21\",\"2022-02-22\",\"2022-02-23\",\"2022-02-24\",\"2022-02-25\",\"2022-02-26\",\"2022-02-27\",\"2022-02-28\",\"2022-03-01\"],\"y\":[38679.03,36524.12,35269.24,35512.89,36170.91,36591.4,37292.87,38562.62,37109.24,36533.06,35998.2,35847.85,32878.95,34909.8,37008.27,37020.86,35693.62,36478.2,39706.91,40202.9,39395.82,38615.56,36945.47,35753.37,35076.26,33074.21,32095.74,33768.26,33768.49,33293.77,31556.47,33113.35,34485.51,35598.04,34891.26,33681.16,33331.34,34343.73,35305.22,34062.55,34195.11,34563.05,32866.37,33202.51,33703.21,33825.0,33664.66,32846.84,32465.23,32077.63,31742.05,31583.26,31784.15,31142.17,29803.34,31232.79,32135.55,32531.69,33918.82,34416.05,38336.58,37762.32,39873.3,39842.51,39691.48,41648.27,41454.84,39593.36,38433.38,38734.12,39451.26,41392.13,43603.97,44303.03,44946.41,45607.6,46082.27,44900.3,46255.47,47100.42,46441.19,46906.08,45945.19,45165.27,45275.82,47864.38,49069.93,48927.82,49916.57,48896.44,48285.01,47287.6,47786.95,48910.14,48659.89,48084.06,47308.52,47721.94,49676.14,49944.64,50093.11,50416.81,51814.89,49810.49,46281.58,46445.46,45894.34,45410.94,45649.86,44845.59,46112.24,47595.19,47855.36,47571.04,48265.67,47713.86,44570.47,42405.54,42589.85,44155.6,43097.36,42614.34,42814.08,43508.74,41896.47,41859.14,43315.66,46158.47,47847.05,48044.04,48205.81,50133.5,52990.24,54365.7,54470.4,54779.19,55213.68,56778.87,56602.37,56049.88,57654.67,60016.6,61236.82,60874.9,61823.14,62803.75,65027.25,64172.87,62143.95,61113.72,60700.19,62674.72,62242.18,59499.17,60312.41,61640.07,61615.62,61090.99,61263.21,62609.99,62885.7,61810.14,61522.93,60997.52,62183.16,65866.63,67576.46,66793.77,64987.55,64167.78,64047.3,64513.04,65076.67,60746.97,59923.56,58918.02,57253.49,58744.09,59148.52,57318.48,56961.57,56740.29,58321.43,55574.54,54664.21,54686.39,57594.94,57336.71,57406.15,56756.83,55808.3,48978.92,49184.31,48894.95,51015.76,50282.08,49014.58,48177.22,48497.13,49588.69,48164.63,47223.8,48115.38,48586.7,47079.04,46654.09,47210.61,46432.01,48463.0,48965.1,49159.96,51071.14,50846.84,50186.03,51075.91,48848.16,47597.57,47116.76,47250.78,47139.49,47247.9,46787.92,46397.49,45834.49,43098.44,41986.39,41693.02,41922.16,41632.29,42224.4,43228.65,43422.86,42783.75,43164.91,43103.9,42536.51,41968.2,41907.76,42199.45,38570.9,35461.06,35462.78,35115.87,36512.97,37517.39,36388.98,37062.41,37850.01,37960.85,37589.02,38581.37,38026.86,36832.12,38759.84,41533.67,41633.35,43193.61,43928.42,43983.93,44329.25,43151.72,42361.47,42361.18,42247.04,43941.99,43988.26,42610.63,40421.12,40081.59,38729.69,38457.79,37481.05,38211.68,36144.08,38890.26,39238.43,38696.08,39505.98,43312.27],\"type\":\"scatter\"}],                        {\"template\":{\"data\":{\"barpolar\":[{\"marker\":{\"line\":{\"color\":\"#E5ECF6\",\"width\":0.5},\"pattern\":{\"fillmode\":\"overlay\",\"size\":10,\"solidity\":0.2}},\"type\":\"barpolar\"}],\"bar\":[{\"error_x\":{\"color\":\"#2a3f5f\"},\"error_y\":{\"color\":\"#2a3f5f\"},\"marker\":{\"line\":{\"color\":\"#E5ECF6\",\"width\":0.5},\"pattern\":{\"fillmode\":\"overlay\",\"size\":10,\"solidity\":0.2}},\"type\":\"bar\"}],\"carpet\":[{\"aaxis\":{\"endlinecolor\":\"#2a3f5f\",\"gridcolor\":\"white\",\"linecolor\":\"white\",\"minorgridcolor\":\"white\",\"startlinecolor\":\"#2a3f5f\"},\"baxis\":{\"endlinecolor\":\"#2a3f5f\",\"gridcolor\":\"white\",\"linecolor\":\"white\",\"minorgridcolor\":\"white\",\"startlinecolor\":\"#2a3f5f\"},\"type\":\"carpet\"}],\"choropleth\":[{\"colorbar\":{\"outlinewidth\":0,\"ticks\":\"\"},\"type\":\"choropleth\"}],\"contourcarpet\":[{\"colorbar\":{\"outlinewidth\":0,\"ticks\":\"\"},\"type\":\"contourcarpet\"}],\"contour\":[{\"colorbar\":{\"outlinewidth\":0,\"ticks\":\"\"},\"colorscale\":[[0.0,\"#0d0887\"],[0.1111111111111111,\"#46039f\"],[0.2222222222222222,\"#7201a8\"],[0.3333333333333333,\"#9c179e\"],[0.4444444444444444,\"#bd3786\"],[0.5555555555555556,\"#d8576b\"],[0.6666666666666666,\"#ed7953\"],[0.7777777777777778,\"#fb9f3a\"],[0.8888888888888888,\"#fdca26\"],[1.0,\"#f0f921\"]],\"type\":\"contour\"}],\"heatmapgl\":[{\"colorbar\":{\"outlinewidth\":0,\"ticks\":\"\"},\"colorscale\":[[0.0,\"#0d0887\"],[0.1111111111111111,\"#46039f\"],[0.2222222222222222,\"#7201a8\"],[0.3333333333333333,\"#9c179e\"],[0.4444444444444444,\"#bd3786\"],[0.5555555555555556,\"#d8576b\"],[0.6666666666666666,\"#ed7953\"],[0.7777777777777778,\"#fb9f3a\"],[0.8888888888888888,\"#fdca26\"],[1.0,\"#f0f921\"]],\"type\":\"heatmapgl\"}],\"heatmap\":[{\"colorbar\":{\"outlinewidth\":0,\"ticks\":\"\"},\"colorscale\":[[0.0,\"#0d0887\"],[0.1111111111111111,\"#46039f\"],[0.2222222222222222,\"#7201a8\"],[0.3333333333333333,\"#9c179e\"],[0.4444444444444444,\"#bd3786\"],[0.5555555555555556,\"#d8576b\"],[0.6666666666666666,\"#ed7953\"],[0.7777777777777778,\"#fb9f3a\"],[0.8888888888888888,\"#fdca26\"],[1.0,\"#f0f921\"]],\"type\":\"heatmap\"}],\"histogram2dcontour\":[{\"colorbar\":{\"outlinewidth\":0,\"ticks\":\"\"},\"colorscale\":[[0.0,\"#0d0887\"],[0.1111111111111111,\"#46039f\"],[0.2222222222222222,\"#7201a8\"],[0.3333333333333333,\"#9c179e\"],[0.4444444444444444,\"#bd3786\"],[0.5555555555555556,\"#d8576b\"],[0.6666666666666666,\"#ed7953\"],[0.7777777777777778,\"#fb9f3a\"],[0.8888888888888888,\"#fdca26\"],[1.0,\"#f0f921\"]],\"type\":\"histogram2dcontour\"}],\"histogram2d\":[{\"colorbar\":{\"outlinewidth\":0,\"ticks\":\"\"},\"colorscale\":[[0.0,\"#0d0887\"],[0.1111111111111111,\"#46039f\"],[0.2222222222222222,\"#7201a8\"],[0.3333333333333333,\"#9c179e\"],[0.4444444444444444,\"#bd3786\"],[0.5555555555555556,\"#d8576b\"],[0.6666666666666666,\"#ed7953\"],[0.7777777777777778,\"#fb9f3a\"],[0.8888888888888888,\"#fdca26\"],[1.0,\"#f0f921\"]],\"type\":\"histogram2d\"}],\"histogram\":[{\"marker\":{\"pattern\":{\"fillmode\":\"overlay\",\"size\":10,\"solidity\":0.2}},\"type\":\"histogram\"}],\"mesh3d\":[{\"colorbar\":{\"outlinewidth\":0,\"ticks\":\"\"},\"type\":\"mesh3d\"}],\"parcoords\":[{\"line\":{\"colorbar\":{\"outlinewidth\":0,\"ticks\":\"\"}},\"type\":\"parcoords\"}],\"pie\":[{\"automargin\":true,\"type\":\"pie\"}],\"scatter3d\":[{\"line\":{\"colorbar\":{\"outlinewidth\":0,\"ticks\":\"\"}},\"marker\":{\"colorbar\":{\"outlinewidth\":0,\"ticks\":\"\"}},\"type\":\"scatter3d\"}],\"scattercarpet\":[{\"marker\":{\"colorbar\":{\"outlinewidth\":0,\"ticks\":\"\"}},\"type\":\"scattercarpet\"}],\"scattergeo\":[{\"marker\":{\"colorbar\":{\"outlinewidth\":0,\"ticks\":\"\"}},\"type\":\"scattergeo\"}],\"scattergl\":[{\"marker\":{\"colorbar\":{\"outlinewidth\":0,\"ticks\":\"\"}},\"type\":\"scattergl\"}],\"scattermapbox\":[{\"marker\":{\"colorbar\":{\"outlinewidth\":0,\"ticks\":\"\"}},\"type\":\"scattermapbox\"}],\"scatterpolargl\":[{\"marker\":{\"colorbar\":{\"outlinewidth\":0,\"ticks\":\"\"}},\"type\":\"scatterpolargl\"}],\"scatterpolar\":[{\"marker\":{\"colorbar\":{\"outlinewidth\":0,\"ticks\":\"\"}},\"type\":\"scatterpolar\"}],\"scatter\":[{\"fillpattern\":{\"fillmode\":\"overlay\",\"size\":10,\"solidity\":0.2},\"type\":\"scatter\"}],\"scatterternary\":[{\"marker\":{\"colorbar\":{\"outlinewidth\":0,\"ticks\":\"\"}},\"type\":\"scatterternary\"}],\"surface\":[{\"colorbar\":{\"outlinewidth\":0,\"ticks\":\"\"},\"colorscale\":[[0.0,\"#0d0887\"],[0.1111111111111111,\"#46039f\"],[0.2222222222222222,\"#7201a8\"],[0.3333333333333333,\"#9c179e\"],[0.4444444444444444,\"#bd3786\"],[0.5555555555555556,\"#d8576b\"],[0.6666666666666666,\"#ed7953\"],[0.7777777777777778,\"#fb9f3a\"],[0.8888888888888888,\"#fdca26\"],[1.0,\"#f0f921\"]],\"type\":\"surface\"}],\"table\":[{\"cells\":{\"fill\":{\"color\":\"#EBF0F8\"},\"line\":{\"color\":\"white\"}},\"header\":{\"fill\":{\"color\":\"#C8D4E3\"},\"line\":{\"color\":\"white\"}},\"type\":\"table\"}]},\"layout\":{\"annotationdefaults\":{\"arrowcolor\":\"#2a3f5f\",\"arrowhead\":0,\"arrowwidth\":1},\"autotypenumbers\":\"strict\",\"coloraxis\":{\"colorbar\":{\"outlinewidth\":0,\"ticks\":\"\"}},\"colorscale\":{\"diverging\":[[0,\"#8e0152\"],[0.1,\"#c51b7d\"],[0.2,\"#de77ae\"],[0.3,\"#f1b6da\"],[0.4,\"#fde0ef\"],[0.5,\"#f7f7f7\"],[0.6,\"#e6f5d0\"],[0.7,\"#b8e186\"],[0.8,\"#7fbc41\"],[0.9,\"#4d9221\"],[1,\"#276419\"]],\"sequential\":[[0.0,\"#0d0887\"],[0.1111111111111111,\"#46039f\"],[0.2222222222222222,\"#7201a8\"],[0.3333333333333333,\"#9c179e\"],[0.4444444444444444,\"#bd3786\"],[0.5555555555555556,\"#d8576b\"],[0.6666666666666666,\"#ed7953\"],[0.7777777777777778,\"#fb9f3a\"],[0.8888888888888888,\"#fdca26\"],[1.0,\"#f0f921\"]],\"sequentialminus\":[[0.0,\"#0d0887\"],[0.1111111111111111,\"#46039f\"],[0.2222222222222222,\"#7201a8\"],[0.3333333333333333,\"#9c179e\"],[0.4444444444444444,\"#bd3786\"],[0.5555555555555556,\"#d8576b\"],[0.6666666666666666,\"#ed7953\"],[0.7777777777777778,\"#fb9f3a\"],[0.8888888888888888,\"#fdca26\"],[1.0,\"#f0f921\"]]},\"colorway\":[\"#636efa\",\"#EF553B\",\"#00cc96\",\"#ab63fa\",\"#FFA15A\",\"#19d3f3\",\"#FF6692\",\"#B6E880\",\"#FF97FF\",\"#FECB52\"],\"font\":{\"color\":\"#2a3f5f\"},\"geo\":{\"bgcolor\":\"white\",\"lakecolor\":\"white\",\"landcolor\":\"#E5ECF6\",\"showlakes\":true,\"showland\":true,\"subunitcolor\":\"white\"},\"hoverlabel\":{\"align\":\"left\"},\"hovermode\":\"closest\",\"mapbox\":{\"style\":\"light\"},\"paper_bgcolor\":\"white\",\"plot_bgcolor\":\"#E5ECF6\",\"polar\":{\"angularaxis\":{\"gridcolor\":\"white\",\"linecolor\":\"white\",\"ticks\":\"\"},\"bgcolor\":\"#E5ECF6\",\"radialaxis\":{\"gridcolor\":\"white\",\"linecolor\":\"white\",\"ticks\":\"\"}},\"scene\":{\"xaxis\":{\"backgroundcolor\":\"#E5ECF6\",\"gridcolor\":\"white\",\"gridwidth\":2,\"linecolor\":\"white\",\"showbackground\":true,\"ticks\":\"\",\"zerolinecolor\":\"white\"},\"yaxis\":{\"backgroundcolor\":\"#E5ECF6\",\"gridcolor\":\"white\",\"gridwidth\":2,\"linecolor\":\"white\",\"showbackground\":true,\"ticks\":\"\",\"zerolinecolor\":\"white\"},\"zaxis\":{\"backgroundcolor\":\"#E5ECF6\",\"gridcolor\":\"white\",\"gridwidth\":2,\"linecolor\":\"white\",\"showbackground\":true,\"ticks\":\"\",\"zerolinecolor\":\"white\"}},\"shapedefaults\":{\"line\":{\"color\":\"#2a3f5f\"}},\"ternary\":{\"aaxis\":{\"gridcolor\":\"white\",\"linecolor\":\"white\",\"ticks\":\"\"},\"baxis\":{\"gridcolor\":\"white\",\"linecolor\":\"white\",\"ticks\":\"\"},\"bgcolor\":\"#E5ECF6\",\"caxis\":{\"gridcolor\":\"white\",\"linecolor\":\"white\",\"ticks\":\"\"}},\"title\":{\"x\":0.05},\"xaxis\":{\"automargin\":true,\"gridcolor\":\"white\",\"linecolor\":\"white\",\"ticks\":\"\",\"title\":{\"standoff\":15},\"zerolinecolor\":\"white\",\"zerolinewidth\":2},\"yaxis\":{\"automargin\":true,\"gridcolor\":\"white\",\"linecolor\":\"white\",\"ticks\":\"\",\"title\":{\"standoff\":15},\"zerolinecolor\":\"white\",\"zerolinewidth\":2}}},\"title\":{\"text\":\"Train and Test set with the Slider \"},\"xaxis\":{\"rangeselector\":{\"buttons\":[{\"count\":1,\"label\":\"1m\",\"step\":\"month\",\"stepmode\":\"backward\"},{\"count\":6,\"label\":\"6m\",\"step\":\"month\",\"stepmode\":\"backward\"},{\"count\":12,\"label\":\"1y\",\"step\":\"month\",\"stepmode\":\"backward\"},{\"count\":36,\"label\":\"3y\",\"step\":\"month\",\"stepmode\":\"backward\"},{\"step\":\"all\"}]},\"rangeslider\":{\"visible\":true},\"type\":\"date\"}},                        {\"responsive\": true}                    ).then(function(){\n",
              "                            \n",
              "var gd = document.getElementById('b1694e93-1374-4a4d-8dd9-304a5922a82f');\n",
              "var x = new MutationObserver(function (mutations, observer) {{\n",
              "        var display = window.getComputedStyle(gd).display;\n",
              "        if (!display || display === 'none') {{\n",
              "            console.log([gd, 'removed!']);\n",
              "            Plotly.purge(gd);\n",
              "            observer.disconnect();\n",
              "        }}\n",
              "}});\n",
              "\n",
              "// Listen for the removal of the full notebook cells\n",
              "var notebookContainer = gd.closest('#notebook-container');\n",
              "if (notebookContainer) {{\n",
              "    x.observe(notebookContainer, {childList: true});\n",
              "}}\n",
              "\n",
              "// Listen for the clearing of the current output cell\n",
              "var outputEl = gd.closest('.output');\n",
              "if (outputEl) {{\n",
              "    x.observe(outputEl, {childList: true});\n",
              "}}\n",
              "\n",
              "                        })                };                            </script>        </div>\n",
              "</body>\n",
              "</html>"
            ]
          },
          "metadata": {}
        }
      ],
      "source": [
        "show_avg_train_test(train_df, test_df)"
      ]
    }
  ],
  "metadata": {
    "colab": {
      "collapsed_sections": [
        "e452Ydj7chNV",
        "zK1eMlqXWioB"
      ],
      "provenance": [],
      "toc_visible": true,
      "include_colab_link": true
    },
    "kernelspec": {
      "display_name": "Python 3.9.12 ('base')",
      "language": "python",
      "name": "python3"
    },
    "language_info": {
      "codemirror_mode": {
        "name": "ipython",
        "version": 3
      },
      "file_extension": ".py",
      "mimetype": "text/x-python",
      "name": "python",
      "nbconvert_exporter": "python",
      "pygments_lexer": "ipython3",
      "version": "3.9.13"
    },
    "vscode": {
      "interpreter": {
        "hash": "303fa613b6f3e1efefe7bb28036e305e1021fa6bdb083a5f9fd57f9d9bbad8eb"
      }
    }
  },
  "nbformat": 4,
  "nbformat_minor": 0
}