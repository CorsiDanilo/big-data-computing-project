{
  "cells": [
    {
      "cell_type": "markdown",
      "metadata": {
        "id": "view-in-github",
        "colab_type": "text"
      },
      "source": [
        "<a href=\"https://colab.research.google.com/github/CorsiDanilo/big-data-computing-project/blob/main/1_Data_cleaning_%2B_exploration_%2B_selection.ipynb\" target=\"_parent\"><img src=\"https://colab.research.google.com/assets/colab-badge.svg\" alt=\"Open In Colab\"/></a>"
      ]
    },
    {
      "cell_type": "markdown",
      "metadata": {
        "id": "e452Ydj7chNV"
      },
      "source": [
        "# Bitcoin price forecasting with PySpark\n",
        "## Big Data Computing final project - A.Y. 2022 - 2023\n",
        "Prof. Gabriele Tolomei\n",
        "\n",
        "MSc in Computer Science\n",
        "\n",
        "La Sapienza, University of Rome\n",
        "\n",
        "### Author\n",
        "Corsi Danilo - corsi.1742375@studenti.uniroma1.it\n",
        "\n"
      ]
    },
    {
      "cell_type": "markdown",
      "metadata": {
        "id": "AkQaY6VAf4v_"
      },
      "source": [
        "# Global Constants\n"
      ]
    },
    {
      "cell_type": "code",
      "execution_count": 1,
      "metadata": {
        "id": "L7-8QQvKf5CR"
      },
      "outputs": [],
      "source": [
        "JAVA_HOME = \"/usr/lib/jvm/java-8-openjdk-amd64\"\n",
        "GDRIVE_DIR = \"/content/drive\"\n",
        "\n",
        "GDRIVE_DATASET_RAW_DIR = GDRIVE_DIR + \"/MyDrive/BDC/project/datasets/raw\"\n",
        "GDRIVE_DATASET_TEMP_DIR = GDRIVE_DIR + \"/MyDrive/BDC/project/datasets/temp\"\n",
        "GDRIVE_DATASET_OUTPUT_DIR = GDRIVE_DIR + \"/MyDrive/BDC/project/datasets/output\"\n",
        "\n",
        "GDRIVE_DATASET_NAME = \"bitcoin_blockchain_data_1d\"\n",
        "GDRIVE_DATASET_NAME_EXT = \"/\" + GDRIVE_DATASET_NAME + \".csv\"\n",
        "\n",
        "GDRIVE_DATASET = GDRIVE_DATASET_RAW_DIR + GDRIVE_DATASET_NAME_EXT"
      ]
    },
    {
      "cell_type": "markdown",
      "metadata": {
        "id": "IXTGTgzEqE3x"
      },
      "source": [
        "#  Import useful Python packages"
      ]
    },
    {
      "cell_type": "code",
      "execution_count": 2,
      "metadata": {
        "id": "PX7xDYw4SvrB"
      },
      "outputs": [],
      "source": [
        "import requests\n",
        "import pandas as pd\n",
        "import numpy as np\n",
        "import matplotlib.pyplot as plt\n",
        "import seaborn as sns\n",
        "%matplotlib inline\n",
        "\n",
        "from itertools import cycle\n",
        "\n",
        "import plotly.express as px\n",
        "\n",
        "import plotly.graph_objs as go\n",
        "from plotly.offline import init_notebook_mode, iplot\n",
        "import gc"
      ]
    },
    {
      "cell_type": "markdown",
      "metadata": {
        "id": "YtmWjQUVSvq2"
      },
      "source": [
        "# **Google Colab Setup**"
      ]
    },
    {
      "cell_type": "code",
      "execution_count": 3,
      "metadata": {
        "id": "au2-MqC-SvrB",
        "colab": {
          "base_uri": "https://localhost:8080/"
        },
        "outputId": "3a37660e-b59c-4d09-af34-5b048a8aa859"
      },
      "outputs": [
        {
          "output_type": "stream",
          "name": "stdout",
          "text": [
            "Mounted at /content/drive\n"
          ]
        }
      ],
      "source": [
        "# Point Colaboratory to our Google Drive\n",
        "\n",
        "from google.colab import drive\n",
        "\n",
        "drive.mount(GDRIVE_DIR, force_remount=True)"
      ]
    },
    {
      "cell_type": "markdown",
      "metadata": {
        "id": "dpaf8RMIcP4a"
      },
      "source": [
        "# Data Exploration\n",
        "In this section we are going to explore the dataset, to clean it from null values, and to determine which features are relevant and which are not."
      ]
    },
    {
      "cell_type": "markdown",
      "metadata": {
        "id": "WMDPAYaidIQJ"
      },
      "source": [
        "First, we import the dataset from Google Drive, check the shape and print out the schema."
      ]
    },
    {
      "cell_type": "code",
      "execution_count": 12,
      "metadata": {
        "id": "lYhxXT2beFOk",
        "colab": {
          "base_uri": "https://localhost:8080/",
          "height": 696
        },
        "outputId": "d8a14db5-5792-496f-df20-e97c20119dc0"
      },
      "outputs": [
        {
          "output_type": "execute_result",
          "data": {
            "text/plain": [
              "       timestamp  market-price    market-cap  total-bitcoins  trade-volume  \\\n",
              "0     2012-01-01          5.04  4.032958e+07      8001900.00  0.000000e+00   \n",
              "1     2012-01-02          5.27  4.223035e+07      8013350.00  0.000000e+00   \n",
              "2     2012-01-03          5.45  4.223035e+07      8013350.00  0.000000e+00   \n",
              "3     2012-01-04          5.37  4.309479e+07      8025100.00  0.000000e+00   \n",
              "4     2012-01-05          5.80  4.661373e+07      8036850.00  0.000000e+00   \n",
              "...          ...           ...           ...             ...           ...   \n",
              "4000  2022-12-26      16826.86  3.240861e+11     19243875.00  2.726254e+07   \n",
              "4001  2022-12-27      16915.70  3.240861e+11     19243875.00  3.983614e+07   \n",
              "4002  2022-12-28      16699.00  3.205852e+11     19245118.75  8.334204e+07   \n",
              "4003  2022-12-29      16539.28  3.203364e+11     19246356.25  9.358288e+07   \n",
              "4004  2022-12-30      16630.49  3.195293e+11     19247593.75  6.386757e+07   \n",
              "\n",
              "        blocks-size  avg-block-size  n-transactions-total  \\\n",
              "0        861.941752        0.017073             2119853.0   \n",
              "1        864.547504        0.019121             2124845.0   \n",
              "2        867.445999        0.018212             2130220.0   \n",
              "3        870.374487        0.019351             2135991.0   \n",
              "4        873.246150        0.024677             2141802.0   \n",
              "...             ...             ...                   ...   \n",
              "4000  445014.991139        1.119264           790945257.0   \n",
              "4001  445159.265994        1.376405           791168987.0   \n",
              "4002  445318.173024        1.026325           791410511.0   \n",
              "4003  445490.189205        1.263212           791683136.0   \n",
              "4004  445668.269500        1.356430           791948046.0   \n",
              "\n",
              "      n-transactions-per-block     hash-rate    difficulty  miners-revenue  \\\n",
              "0                    32.686275  8.591401e+00  1.159929e+06    4.260652e+04   \n",
              "1                    35.827815  8.764382e+00  1.159929e+06    6.301249e+04   \n",
              "2                    36.308176  9.340986e+00  1.159929e+06    4.662806e+04   \n",
              "3                    38.463087  8.879703e+00  1.159929e+06    4.706558e+04   \n",
              "4                    47.578231  8.476080e+00  1.159929e+06    5.369470e+04   \n",
              "...                        ...           ...           ...             ...   \n",
              "4000               1732.589147  2.267765e+08  3.536407e+13    1.410410e+07   \n",
              "4001               2081.382609  2.021651e+08  3.536407e+13    1.248977e+07   \n",
              "4002               1624.696429  2.953368e+08  3.536407e+13    1.784473e+07   \n",
              "4003               1886.205674  2.478720e+08  3.536407e+13    1.497709e+07   \n",
              "4004               1841.867089  2.777572e+08  3.536407e+13    1.671535e+07   \n",
              "\n",
              "      transaction-fees-usd  n-unique-addresses  n-transactions  \\\n",
              "0                18.516384              8531.0          5001.0   \n",
              "1                35.989325              8928.0          5410.0   \n",
              "2                30.560129              9528.0          5773.0   \n",
              "3                78.082768              9542.0          5731.0   \n",
              "4                44.697203             11636.0          6994.0   \n",
              "...                    ...                 ...             ...   \n",
              "4000         296889.796293            548937.0        223504.0   \n",
              "4001         400541.066884            593337.0        239359.0   \n",
              "4002         344406.479474            661225.0        272949.0   \n",
              "4003         341839.738394            668338.0        265955.0   \n",
              "4004         360706.962628            726125.0        291015.0   \n",
              "\n",
              "      estimated-transaction-volume-usd  \n",
              "0                         1.016110e+06  \n",
              "1                         7.508830e+05  \n",
              "2                         6.037982e+05  \n",
              "3                         7.495462e+05  \n",
              "4                         1.614569e+06  \n",
              "...                                ...  \n",
              "4000                      8.333855e+08  \n",
              "4001                      1.240817e+09  \n",
              "4002                      1.926197e+09  \n",
              "4003                      2.178953e+09  \n",
              "4004                      3.109839e+09  \n",
              "\n",
              "[4005 rows x 16 columns]"
            ],
            "text/html": [
              "\n",
              "\n",
              "  <div id=\"df-726aa741-1da8-4933-a4cf-c41dba82d2a5\">\n",
              "    <div class=\"colab-df-container\">\n",
              "      <div>\n",
              "<style scoped>\n",
              "    .dataframe tbody tr th:only-of-type {\n",
              "        vertical-align: middle;\n",
              "    }\n",
              "\n",
              "    .dataframe tbody tr th {\n",
              "        vertical-align: top;\n",
              "    }\n",
              "\n",
              "    .dataframe thead th {\n",
              "        text-align: right;\n",
              "    }\n",
              "</style>\n",
              "<table border=\"1\" class=\"dataframe\">\n",
              "  <thead>\n",
              "    <tr style=\"text-align: right;\">\n",
              "      <th></th>\n",
              "      <th>timestamp</th>\n",
              "      <th>market-price</th>\n",
              "      <th>market-cap</th>\n",
              "      <th>total-bitcoins</th>\n",
              "      <th>trade-volume</th>\n",
              "      <th>blocks-size</th>\n",
              "      <th>avg-block-size</th>\n",
              "      <th>n-transactions-total</th>\n",
              "      <th>n-transactions-per-block</th>\n",
              "      <th>hash-rate</th>\n",
              "      <th>difficulty</th>\n",
              "      <th>miners-revenue</th>\n",
              "      <th>transaction-fees-usd</th>\n",
              "      <th>n-unique-addresses</th>\n",
              "      <th>n-transactions</th>\n",
              "      <th>estimated-transaction-volume-usd</th>\n",
              "    </tr>\n",
              "  </thead>\n",
              "  <tbody>\n",
              "    <tr>\n",
              "      <th>0</th>\n",
              "      <td>2012-01-01</td>\n",
              "      <td>5.04</td>\n",
              "      <td>4.032958e+07</td>\n",
              "      <td>8001900.00</td>\n",
              "      <td>0.000000e+00</td>\n",
              "      <td>861.941752</td>\n",
              "      <td>0.017073</td>\n",
              "      <td>2119853.0</td>\n",
              "      <td>32.686275</td>\n",
              "      <td>8.591401e+00</td>\n",
              "      <td>1.159929e+06</td>\n",
              "      <td>4.260652e+04</td>\n",
              "      <td>18.516384</td>\n",
              "      <td>8531.0</td>\n",
              "      <td>5001.0</td>\n",
              "      <td>1.016110e+06</td>\n",
              "    </tr>\n",
              "    <tr>\n",
              "      <th>1</th>\n",
              "      <td>2012-01-02</td>\n",
              "      <td>5.27</td>\n",
              "      <td>4.223035e+07</td>\n",
              "      <td>8013350.00</td>\n",
              "      <td>0.000000e+00</td>\n",
              "      <td>864.547504</td>\n",
              "      <td>0.019121</td>\n",
              "      <td>2124845.0</td>\n",
              "      <td>35.827815</td>\n",
              "      <td>8.764382e+00</td>\n",
              "      <td>1.159929e+06</td>\n",
              "      <td>6.301249e+04</td>\n",
              "      <td>35.989325</td>\n",
              "      <td>8928.0</td>\n",
              "      <td>5410.0</td>\n",
              "      <td>7.508830e+05</td>\n",
              "    </tr>\n",
              "    <tr>\n",
              "      <th>2</th>\n",
              "      <td>2012-01-03</td>\n",
              "      <td>5.45</td>\n",
              "      <td>4.223035e+07</td>\n",
              "      <td>8013350.00</td>\n",
              "      <td>0.000000e+00</td>\n",
              "      <td>867.445999</td>\n",
              "      <td>0.018212</td>\n",
              "      <td>2130220.0</td>\n",
              "      <td>36.308176</td>\n",
              "      <td>9.340986e+00</td>\n",
              "      <td>1.159929e+06</td>\n",
              "      <td>4.662806e+04</td>\n",
              "      <td>30.560129</td>\n",
              "      <td>9528.0</td>\n",
              "      <td>5773.0</td>\n",
              "      <td>6.037982e+05</td>\n",
              "    </tr>\n",
              "    <tr>\n",
              "      <th>3</th>\n",
              "      <td>2012-01-04</td>\n",
              "      <td>5.37</td>\n",
              "      <td>4.309479e+07</td>\n",
              "      <td>8025100.00</td>\n",
              "      <td>0.000000e+00</td>\n",
              "      <td>870.374487</td>\n",
              "      <td>0.019351</td>\n",
              "      <td>2135991.0</td>\n",
              "      <td>38.463087</td>\n",
              "      <td>8.879703e+00</td>\n",
              "      <td>1.159929e+06</td>\n",
              "      <td>4.706558e+04</td>\n",
              "      <td>78.082768</td>\n",
              "      <td>9542.0</td>\n",
              "      <td>5731.0</td>\n",
              "      <td>7.495462e+05</td>\n",
              "    </tr>\n",
              "    <tr>\n",
              "      <th>4</th>\n",
              "      <td>2012-01-05</td>\n",
              "      <td>5.80</td>\n",
              "      <td>4.661373e+07</td>\n",
              "      <td>8036850.00</td>\n",
              "      <td>0.000000e+00</td>\n",
              "      <td>873.246150</td>\n",
              "      <td>0.024677</td>\n",
              "      <td>2141802.0</td>\n",
              "      <td>47.578231</td>\n",
              "      <td>8.476080e+00</td>\n",
              "      <td>1.159929e+06</td>\n",
              "      <td>5.369470e+04</td>\n",
              "      <td>44.697203</td>\n",
              "      <td>11636.0</td>\n",
              "      <td>6994.0</td>\n",
              "      <td>1.614569e+06</td>\n",
              "    </tr>\n",
              "    <tr>\n",
              "      <th>...</th>\n",
              "      <td>...</td>\n",
              "      <td>...</td>\n",
              "      <td>...</td>\n",
              "      <td>...</td>\n",
              "      <td>...</td>\n",
              "      <td>...</td>\n",
              "      <td>...</td>\n",
              "      <td>...</td>\n",
              "      <td>...</td>\n",
              "      <td>...</td>\n",
              "      <td>...</td>\n",
              "      <td>...</td>\n",
              "      <td>...</td>\n",
              "      <td>...</td>\n",
              "      <td>...</td>\n",
              "      <td>...</td>\n",
              "    </tr>\n",
              "    <tr>\n",
              "      <th>4000</th>\n",
              "      <td>2022-12-26</td>\n",
              "      <td>16826.86</td>\n",
              "      <td>3.240861e+11</td>\n",
              "      <td>19243875.00</td>\n",
              "      <td>2.726254e+07</td>\n",
              "      <td>445014.991139</td>\n",
              "      <td>1.119264</td>\n",
              "      <td>790945257.0</td>\n",
              "      <td>1732.589147</td>\n",
              "      <td>2.267765e+08</td>\n",
              "      <td>3.536407e+13</td>\n",
              "      <td>1.410410e+07</td>\n",
              "      <td>296889.796293</td>\n",
              "      <td>548937.0</td>\n",
              "      <td>223504.0</td>\n",
              "      <td>8.333855e+08</td>\n",
              "    </tr>\n",
              "    <tr>\n",
              "      <th>4001</th>\n",
              "      <td>2022-12-27</td>\n",
              "      <td>16915.70</td>\n",
              "      <td>3.240861e+11</td>\n",
              "      <td>19243875.00</td>\n",
              "      <td>3.983614e+07</td>\n",
              "      <td>445159.265994</td>\n",
              "      <td>1.376405</td>\n",
              "      <td>791168987.0</td>\n",
              "      <td>2081.382609</td>\n",
              "      <td>2.021651e+08</td>\n",
              "      <td>3.536407e+13</td>\n",
              "      <td>1.248977e+07</td>\n",
              "      <td>400541.066884</td>\n",
              "      <td>593337.0</td>\n",
              "      <td>239359.0</td>\n",
              "      <td>1.240817e+09</td>\n",
              "    </tr>\n",
              "    <tr>\n",
              "      <th>4002</th>\n",
              "      <td>2022-12-28</td>\n",
              "      <td>16699.00</td>\n",
              "      <td>3.205852e+11</td>\n",
              "      <td>19245118.75</td>\n",
              "      <td>8.334204e+07</td>\n",
              "      <td>445318.173024</td>\n",
              "      <td>1.026325</td>\n",
              "      <td>791410511.0</td>\n",
              "      <td>1624.696429</td>\n",
              "      <td>2.953368e+08</td>\n",
              "      <td>3.536407e+13</td>\n",
              "      <td>1.784473e+07</td>\n",
              "      <td>344406.479474</td>\n",
              "      <td>661225.0</td>\n",
              "      <td>272949.0</td>\n",
              "      <td>1.926197e+09</td>\n",
              "    </tr>\n",
              "    <tr>\n",
              "      <th>4003</th>\n",
              "      <td>2022-12-29</td>\n",
              "      <td>16539.28</td>\n",
              "      <td>3.203364e+11</td>\n",
              "      <td>19246356.25</td>\n",
              "      <td>9.358288e+07</td>\n",
              "      <td>445490.189205</td>\n",
              "      <td>1.263212</td>\n",
              "      <td>791683136.0</td>\n",
              "      <td>1886.205674</td>\n",
              "      <td>2.478720e+08</td>\n",
              "      <td>3.536407e+13</td>\n",
              "      <td>1.497709e+07</td>\n",
              "      <td>341839.738394</td>\n",
              "      <td>668338.0</td>\n",
              "      <td>265955.0</td>\n",
              "      <td>2.178953e+09</td>\n",
              "    </tr>\n",
              "    <tr>\n",
              "      <th>4004</th>\n",
              "      <td>2022-12-30</td>\n",
              "      <td>16630.49</td>\n",
              "      <td>3.195293e+11</td>\n",
              "      <td>19247593.75</td>\n",
              "      <td>6.386757e+07</td>\n",
              "      <td>445668.269500</td>\n",
              "      <td>1.356430</td>\n",
              "      <td>791948046.0</td>\n",
              "      <td>1841.867089</td>\n",
              "      <td>2.777572e+08</td>\n",
              "      <td>3.536407e+13</td>\n",
              "      <td>1.671535e+07</td>\n",
              "      <td>360706.962628</td>\n",
              "      <td>726125.0</td>\n",
              "      <td>291015.0</td>\n",
              "      <td>3.109839e+09</td>\n",
              "    </tr>\n",
              "  </tbody>\n",
              "</table>\n",
              "<p>4005 rows × 16 columns</p>\n",
              "</div>\n",
              "      <button class=\"colab-df-convert\" onclick=\"convertToInteractive('df-726aa741-1da8-4933-a4cf-c41dba82d2a5')\"\n",
              "              title=\"Convert this dataframe to an interactive table.\"\n",
              "              style=\"display:none;\">\n",
              "\n",
              "  <svg xmlns=\"http://www.w3.org/2000/svg\" height=\"24px\"viewBox=\"0 0 24 24\"\n",
              "       width=\"24px\">\n",
              "    <path d=\"M0 0h24v24H0V0z\" fill=\"none\"/>\n",
              "    <path d=\"M18.56 5.44l.94 2.06.94-2.06 2.06-.94-2.06-.94-.94-2.06-.94 2.06-2.06.94zm-11 1L8.5 8.5l.94-2.06 2.06-.94-2.06-.94L8.5 2.5l-.94 2.06-2.06.94zm10 10l.94 2.06.94-2.06 2.06-.94-2.06-.94-.94-2.06-.94 2.06-2.06.94z\"/><path d=\"M17.41 7.96l-1.37-1.37c-.4-.4-.92-.59-1.43-.59-.52 0-1.04.2-1.43.59L10.3 9.45l-7.72 7.72c-.78.78-.78 2.05 0 2.83L4 21.41c.39.39.9.59 1.41.59.51 0 1.02-.2 1.41-.59l7.78-7.78 2.81-2.81c.8-.78.8-2.07 0-2.86zM5.41 20L4 18.59l7.72-7.72 1.47 1.35L5.41 20z\"/>\n",
              "  </svg>\n",
              "      </button>\n",
              "\n",
              "\n",
              "\n",
              "    <div id=\"df-f1bfb277-eb93-46d2-97a7-4a552429df8f\">\n",
              "      <button class=\"colab-df-quickchart\" onclick=\"quickchart('df-f1bfb277-eb93-46d2-97a7-4a552429df8f')\"\n",
              "              title=\"Suggest charts.\"\n",
              "              style=\"display:none;\">\n",
              "\n",
              "<svg xmlns=\"http://www.w3.org/2000/svg\" height=\"24px\"viewBox=\"0 0 24 24\"\n",
              "     width=\"24px\">\n",
              "    <g>\n",
              "        <path d=\"M19 3H5c-1.1 0-2 .9-2 2v14c0 1.1.9 2 2 2h14c1.1 0 2-.9 2-2V5c0-1.1-.9-2-2-2zM9 17H7v-7h2v7zm4 0h-2V7h2v10zm4 0h-2v-4h2v4z\"/>\n",
              "    </g>\n",
              "</svg>\n",
              "      </button>\n",
              "    </div>\n",
              "\n",
              "<style>\n",
              "  .colab-df-quickchart {\n",
              "    background-color: #E8F0FE;\n",
              "    border: none;\n",
              "    border-radius: 50%;\n",
              "    cursor: pointer;\n",
              "    display: none;\n",
              "    fill: #1967D2;\n",
              "    height: 32px;\n",
              "    padding: 0 0 0 0;\n",
              "    width: 32px;\n",
              "  }\n",
              "\n",
              "  .colab-df-quickchart:hover {\n",
              "    background-color: #E2EBFA;\n",
              "    box-shadow: 0px 1px 2px rgba(60, 64, 67, 0.3), 0px 1px 3px 1px rgba(60, 64, 67, 0.15);\n",
              "    fill: #174EA6;\n",
              "  }\n",
              "\n",
              "  [theme=dark] .colab-df-quickchart {\n",
              "    background-color: #3B4455;\n",
              "    fill: #D2E3FC;\n",
              "  }\n",
              "\n",
              "  [theme=dark] .colab-df-quickchart:hover {\n",
              "    background-color: #434B5C;\n",
              "    box-shadow: 0px 1px 3px 1px rgba(0, 0, 0, 0.15);\n",
              "    filter: drop-shadow(0px 1px 2px rgba(0, 0, 0, 0.3));\n",
              "    fill: #FFFFFF;\n",
              "  }\n",
              "</style>\n",
              "\n",
              "    <script>\n",
              "      async function quickchart(key) {\n",
              "        const containerElement = document.querySelector('#' + key);\n",
              "        const charts = await google.colab.kernel.invokeFunction(\n",
              "            'suggestCharts', [key], {});\n",
              "      }\n",
              "    </script>\n",
              "\n",
              "      <script>\n",
              "\n",
              "function displayQuickchartButton(domScope) {\n",
              "  let quickchartButtonEl =\n",
              "    domScope.querySelector('#df-f1bfb277-eb93-46d2-97a7-4a552429df8f button.colab-df-quickchart');\n",
              "  quickchartButtonEl.style.display =\n",
              "    google.colab.kernel.accessAllowed ? 'block' : 'none';\n",
              "}\n",
              "\n",
              "        displayQuickchartButton(document);\n",
              "      </script>\n",
              "      <style>\n",
              "    .colab-df-container {\n",
              "      display:flex;\n",
              "      flex-wrap:wrap;\n",
              "      gap: 12px;\n",
              "    }\n",
              "\n",
              "    .colab-df-convert {\n",
              "      background-color: #E8F0FE;\n",
              "      border: none;\n",
              "      border-radius: 50%;\n",
              "      cursor: pointer;\n",
              "      display: none;\n",
              "      fill: #1967D2;\n",
              "      height: 32px;\n",
              "      padding: 0 0 0 0;\n",
              "      width: 32px;\n",
              "    }\n",
              "\n",
              "    .colab-df-convert:hover {\n",
              "      background-color: #E2EBFA;\n",
              "      box-shadow: 0px 1px 2px rgba(60, 64, 67, 0.3), 0px 1px 3px 1px rgba(60, 64, 67, 0.15);\n",
              "      fill: #174EA6;\n",
              "    }\n",
              "\n",
              "    [theme=dark] .colab-df-convert {\n",
              "      background-color: #3B4455;\n",
              "      fill: #D2E3FC;\n",
              "    }\n",
              "\n",
              "    [theme=dark] .colab-df-convert:hover {\n",
              "      background-color: #434B5C;\n",
              "      box-shadow: 0px 1px 3px 1px rgba(0, 0, 0, 0.15);\n",
              "      filter: drop-shadow(0px 1px 2px rgba(0, 0, 0, 0.3));\n",
              "      fill: #FFFFFF;\n",
              "    }\n",
              "  </style>\n",
              "\n",
              "      <script>\n",
              "        const buttonEl =\n",
              "          document.querySelector('#df-726aa741-1da8-4933-a4cf-c41dba82d2a5 button.colab-df-convert');\n",
              "        buttonEl.style.display =\n",
              "          google.colab.kernel.accessAllowed ? 'block' : 'none';\n",
              "\n",
              "        async function convertToInteractive(key) {\n",
              "          const element = document.querySelector('#df-726aa741-1da8-4933-a4cf-c41dba82d2a5');\n",
              "          const dataTable =\n",
              "            await google.colab.kernel.invokeFunction('convertToInteractive',\n",
              "                                                     [key], {});\n",
              "          if (!dataTable) return;\n",
              "\n",
              "          const docLinkHtml = 'Like what you see? Visit the ' +\n",
              "            '<a target=\"_blank\" href=https://colab.research.google.com/notebooks/data_table.ipynb>data table notebook</a>'\n",
              "            + ' to learn more about interactive tables.';\n",
              "          element.innerHTML = '';\n",
              "          dataTable['output_type'] = 'display_data';\n",
              "          await google.colab.output.renderOutput(dataTable, element);\n",
              "          const docLink = document.createElement('div');\n",
              "          docLink.innerHTML = docLinkHtml;\n",
              "          element.appendChild(docLink);\n",
              "        }\n",
              "      </script>\n",
              "    </div>\n",
              "  </div>\n"
            ]
          },
          "metadata": {},
          "execution_count": 12
        }
      ],
      "source": [
        "df = pd.read_csv(GDRIVE_DATASET)\n",
        "df"
      ]
    },
    {
      "cell_type": "code",
      "source": [
        "df.dtypes"
      ],
      "metadata": {
        "colab": {
          "base_uri": "https://localhost:8080/"
        },
        "id": "r1JgVyoHrZqe",
        "outputId": "e911775a-c2b2-4479-efee-4677c2c75a0d"
      },
      "execution_count": 13,
      "outputs": [
        {
          "output_type": "execute_result",
          "data": {
            "text/plain": [
              "timestamp                            object\n",
              "market-price                        float64\n",
              "market-cap                          float64\n",
              "total-bitcoins                      float64\n",
              "trade-volume                        float64\n",
              "blocks-size                         float64\n",
              "avg-block-size                      float64\n",
              "n-transactions-total                float64\n",
              "n-transactions-per-block            float64\n",
              "hash-rate                           float64\n",
              "difficulty                          float64\n",
              "miners-revenue                      float64\n",
              "transaction-fees-usd                float64\n",
              "n-unique-addresses                  float64\n",
              "n-transactions                      float64\n",
              "estimated-transaction-volume-usd    float64\n",
              "dtype: object"
            ]
          },
          "metadata": {},
          "execution_count": 13
        }
      ]
    },
    {
      "cell_type": "code",
      "source": [
        "df.describe().transpose()"
      ],
      "metadata": {
        "colab": {
          "base_uri": "https://localhost:8080/",
          "height": 519
        },
        "id": "QeATmYh1uf9y",
        "outputId": "4347828e-2935-47b3-b458-5bc5814ec751"
      },
      "execution_count": 26,
      "outputs": [
        {
          "output_type": "execute_result",
          "data": {
            "text/plain": [
              "                                   count          mean           std  \\\n",
              "market-price                      4005.0  9.721464e+03  1.504847e+04   \n",
              "market-cap                        4005.0  1.795119e+11  2.841363e+11   \n",
              "total-bitcoins                    4005.0  1.556983e+07  3.077623e+06   \n",
              "trade-volume                      4005.0  1.948847e+08  3.507304e+08   \n",
              "blocks-size                       4005.0  1.566835e+05  1.393713e+05   \n",
              "avg-block-size                    4005.0  7.500804e-01  4.349633e-01   \n",
              "n-transactions-total              4005.0  2.922355e+08  2.551614e+08   \n",
              "n-transactions-per-block          4005.0  1.331689e+03  7.589273e+02   \n",
              "hash-rate                         4005.0  5.401081e+07  7.346725e+07   \n",
              "difficulty                        4005.0  7.470429e+12  1.014939e+13   \n",
              "miners-revenue                    4005.0  1.193055e+07  1.487234e+07   \n",
              "transaction-fees-usd              4005.0  6.267175e+05  1.643464e+06   \n",
              "n-unique-addresses                4005.0  4.019327e+05  2.395948e+05   \n",
              "n-transactions                    4005.0  1.968096e+05  1.093754e+05   \n",
              "estimated-transaction-volume-usd  4005.0  1.249789e+09  1.934834e+09   \n",
              "\n",
              "                                           min           25%           50%  \\\n",
              "market-price                      4.380000e+00  3.280000e+02  2.557000e+03   \n",
              "market-cap                        3.670856e+07  4.507305e+09  4.191302e+10   \n",
              "total-bitcoins                    8.001900e+06  1.334218e+07  1.642044e+07   \n",
              "trade-volume                      0.000000e+00  2.618163e+06  3.420878e+07   \n",
              "blocks-size                       8.619418e+02  2.425125e+04  1.232185e+05   \n",
              "avg-block-size                    1.488233e-02  2.890024e-01  8.604732e-01   \n",
              "n-transactions-total              2.119853e+06  4.802446e+07  2.360262e+08   \n",
              "n-transactions-per-block          3.209239e+01  5.066154e+02  1.516156e+03   \n",
              "hash-rate                         7.709763e+00  2.435976e+05  5.302596e+06   \n",
              "difficulty                        1.159929e+06  3.466143e+10  7.116972e+11   \n",
              "miners-revenue                    2.841747e+04  1.220655e+06  5.723626e+06   \n",
              "transaction-fees-usd              1.191551e+01  6.606703e+03  1.170223e+05   \n",
              "n-unique-addresses                8.531000e+03  1.694260e+05  4.470340e+05   \n",
              "n-transactions                    5.001000e+03  7.736400e+04  2.237850e+05   \n",
              "estimated-transaction-volume-usd  4.153012e+05  5.981775e+07  4.139053e+08   \n",
              "\n",
              "                                           75%           max  \n",
              "market-price                      1.035944e+04  6.756217e+04  \n",
              "market-cap                        1.848360e+11  1.291247e+12  \n",
              "total-bitcoins                    1.829588e+07  1.924759e+07  \n",
              "trade-volume                      2.437812e+08  4.956850e+09  \n",
              "blocks-size                       2.696634e+05  4.456683e+05  \n",
              "avg-block-size                    1.108843e+00  1.571701e+00  \n",
              "n-transactions-total              5.164131e+08  7.919480e+08  \n",
              "n-transactions-per-block          1.978565e+03  2.762541e+03  \n",
              "hash-rate                         1.053248e+08  3.167823e+08  \n",
              "difficulty                        1.471521e+13  3.695049e+13  \n",
              "miners-revenue                    1.698803e+07  8.017224e+07  \n",
              "transaction-fees-usd              4.870586e+05  2.128565e+07  \n",
              "n-unique-addresses                5.933370e+05  1.072862e+06  \n",
              "n-transactions                    2.842220e+05  4.906440e+05  \n",
              "estimated-transaction-volume-usd  1.546032e+09  1.493258e+10  "
            ],
            "text/html": [
              "\n",
              "\n",
              "  <div id=\"df-dbcadd26-b16f-400f-915f-93f2c1cbc6c1\">\n",
              "    <div class=\"colab-df-container\">\n",
              "      <div>\n",
              "<style scoped>\n",
              "    .dataframe tbody tr th:only-of-type {\n",
              "        vertical-align: middle;\n",
              "    }\n",
              "\n",
              "    .dataframe tbody tr th {\n",
              "        vertical-align: top;\n",
              "    }\n",
              "\n",
              "    .dataframe thead th {\n",
              "        text-align: right;\n",
              "    }\n",
              "</style>\n",
              "<table border=\"1\" class=\"dataframe\">\n",
              "  <thead>\n",
              "    <tr style=\"text-align: right;\">\n",
              "      <th></th>\n",
              "      <th>count</th>\n",
              "      <th>mean</th>\n",
              "      <th>std</th>\n",
              "      <th>min</th>\n",
              "      <th>25%</th>\n",
              "      <th>50%</th>\n",
              "      <th>75%</th>\n",
              "      <th>max</th>\n",
              "    </tr>\n",
              "  </thead>\n",
              "  <tbody>\n",
              "    <tr>\n",
              "      <th>market-price</th>\n",
              "      <td>4005.0</td>\n",
              "      <td>9.721464e+03</td>\n",
              "      <td>1.504847e+04</td>\n",
              "      <td>4.380000e+00</td>\n",
              "      <td>3.280000e+02</td>\n",
              "      <td>2.557000e+03</td>\n",
              "      <td>1.035944e+04</td>\n",
              "      <td>6.756217e+04</td>\n",
              "    </tr>\n",
              "    <tr>\n",
              "      <th>market-cap</th>\n",
              "      <td>4005.0</td>\n",
              "      <td>1.795119e+11</td>\n",
              "      <td>2.841363e+11</td>\n",
              "      <td>3.670856e+07</td>\n",
              "      <td>4.507305e+09</td>\n",
              "      <td>4.191302e+10</td>\n",
              "      <td>1.848360e+11</td>\n",
              "      <td>1.291247e+12</td>\n",
              "    </tr>\n",
              "    <tr>\n",
              "      <th>total-bitcoins</th>\n",
              "      <td>4005.0</td>\n",
              "      <td>1.556983e+07</td>\n",
              "      <td>3.077623e+06</td>\n",
              "      <td>8.001900e+06</td>\n",
              "      <td>1.334218e+07</td>\n",
              "      <td>1.642044e+07</td>\n",
              "      <td>1.829588e+07</td>\n",
              "      <td>1.924759e+07</td>\n",
              "    </tr>\n",
              "    <tr>\n",
              "      <th>trade-volume</th>\n",
              "      <td>4005.0</td>\n",
              "      <td>1.948847e+08</td>\n",
              "      <td>3.507304e+08</td>\n",
              "      <td>0.000000e+00</td>\n",
              "      <td>2.618163e+06</td>\n",
              "      <td>3.420878e+07</td>\n",
              "      <td>2.437812e+08</td>\n",
              "      <td>4.956850e+09</td>\n",
              "    </tr>\n",
              "    <tr>\n",
              "      <th>blocks-size</th>\n",
              "      <td>4005.0</td>\n",
              "      <td>1.566835e+05</td>\n",
              "      <td>1.393713e+05</td>\n",
              "      <td>8.619418e+02</td>\n",
              "      <td>2.425125e+04</td>\n",
              "      <td>1.232185e+05</td>\n",
              "      <td>2.696634e+05</td>\n",
              "      <td>4.456683e+05</td>\n",
              "    </tr>\n",
              "    <tr>\n",
              "      <th>avg-block-size</th>\n",
              "      <td>4005.0</td>\n",
              "      <td>7.500804e-01</td>\n",
              "      <td>4.349633e-01</td>\n",
              "      <td>1.488233e-02</td>\n",
              "      <td>2.890024e-01</td>\n",
              "      <td>8.604732e-01</td>\n",
              "      <td>1.108843e+00</td>\n",
              "      <td>1.571701e+00</td>\n",
              "    </tr>\n",
              "    <tr>\n",
              "      <th>n-transactions-total</th>\n",
              "      <td>4005.0</td>\n",
              "      <td>2.922355e+08</td>\n",
              "      <td>2.551614e+08</td>\n",
              "      <td>2.119853e+06</td>\n",
              "      <td>4.802446e+07</td>\n",
              "      <td>2.360262e+08</td>\n",
              "      <td>5.164131e+08</td>\n",
              "      <td>7.919480e+08</td>\n",
              "    </tr>\n",
              "    <tr>\n",
              "      <th>n-transactions-per-block</th>\n",
              "      <td>4005.0</td>\n",
              "      <td>1.331689e+03</td>\n",
              "      <td>7.589273e+02</td>\n",
              "      <td>3.209239e+01</td>\n",
              "      <td>5.066154e+02</td>\n",
              "      <td>1.516156e+03</td>\n",
              "      <td>1.978565e+03</td>\n",
              "      <td>2.762541e+03</td>\n",
              "    </tr>\n",
              "    <tr>\n",
              "      <th>hash-rate</th>\n",
              "      <td>4005.0</td>\n",
              "      <td>5.401081e+07</td>\n",
              "      <td>7.346725e+07</td>\n",
              "      <td>7.709763e+00</td>\n",
              "      <td>2.435976e+05</td>\n",
              "      <td>5.302596e+06</td>\n",
              "      <td>1.053248e+08</td>\n",
              "      <td>3.167823e+08</td>\n",
              "    </tr>\n",
              "    <tr>\n",
              "      <th>difficulty</th>\n",
              "      <td>4005.0</td>\n",
              "      <td>7.470429e+12</td>\n",
              "      <td>1.014939e+13</td>\n",
              "      <td>1.159929e+06</td>\n",
              "      <td>3.466143e+10</td>\n",
              "      <td>7.116972e+11</td>\n",
              "      <td>1.471521e+13</td>\n",
              "      <td>3.695049e+13</td>\n",
              "    </tr>\n",
              "    <tr>\n",
              "      <th>miners-revenue</th>\n",
              "      <td>4005.0</td>\n",
              "      <td>1.193055e+07</td>\n",
              "      <td>1.487234e+07</td>\n",
              "      <td>2.841747e+04</td>\n",
              "      <td>1.220655e+06</td>\n",
              "      <td>5.723626e+06</td>\n",
              "      <td>1.698803e+07</td>\n",
              "      <td>8.017224e+07</td>\n",
              "    </tr>\n",
              "    <tr>\n",
              "      <th>transaction-fees-usd</th>\n",
              "      <td>4005.0</td>\n",
              "      <td>6.267175e+05</td>\n",
              "      <td>1.643464e+06</td>\n",
              "      <td>1.191551e+01</td>\n",
              "      <td>6.606703e+03</td>\n",
              "      <td>1.170223e+05</td>\n",
              "      <td>4.870586e+05</td>\n",
              "      <td>2.128565e+07</td>\n",
              "    </tr>\n",
              "    <tr>\n",
              "      <th>n-unique-addresses</th>\n",
              "      <td>4005.0</td>\n",
              "      <td>4.019327e+05</td>\n",
              "      <td>2.395948e+05</td>\n",
              "      <td>8.531000e+03</td>\n",
              "      <td>1.694260e+05</td>\n",
              "      <td>4.470340e+05</td>\n",
              "      <td>5.933370e+05</td>\n",
              "      <td>1.072862e+06</td>\n",
              "    </tr>\n",
              "    <tr>\n",
              "      <th>n-transactions</th>\n",
              "      <td>4005.0</td>\n",
              "      <td>1.968096e+05</td>\n",
              "      <td>1.093754e+05</td>\n",
              "      <td>5.001000e+03</td>\n",
              "      <td>7.736400e+04</td>\n",
              "      <td>2.237850e+05</td>\n",
              "      <td>2.842220e+05</td>\n",
              "      <td>4.906440e+05</td>\n",
              "    </tr>\n",
              "    <tr>\n",
              "      <th>estimated-transaction-volume-usd</th>\n",
              "      <td>4005.0</td>\n",
              "      <td>1.249789e+09</td>\n",
              "      <td>1.934834e+09</td>\n",
              "      <td>4.153012e+05</td>\n",
              "      <td>5.981775e+07</td>\n",
              "      <td>4.139053e+08</td>\n",
              "      <td>1.546032e+09</td>\n",
              "      <td>1.493258e+10</td>\n",
              "    </tr>\n",
              "  </tbody>\n",
              "</table>\n",
              "</div>\n",
              "      <button class=\"colab-df-convert\" onclick=\"convertToInteractive('df-dbcadd26-b16f-400f-915f-93f2c1cbc6c1')\"\n",
              "              title=\"Convert this dataframe to an interactive table.\"\n",
              "              style=\"display:none;\">\n",
              "\n",
              "  <svg xmlns=\"http://www.w3.org/2000/svg\" height=\"24px\"viewBox=\"0 0 24 24\"\n",
              "       width=\"24px\">\n",
              "    <path d=\"M0 0h24v24H0V0z\" fill=\"none\"/>\n",
              "    <path d=\"M18.56 5.44l.94 2.06.94-2.06 2.06-.94-2.06-.94-.94-2.06-.94 2.06-2.06.94zm-11 1L8.5 8.5l.94-2.06 2.06-.94-2.06-.94L8.5 2.5l-.94 2.06-2.06.94zm10 10l.94 2.06.94-2.06 2.06-.94-2.06-.94-.94-2.06-.94 2.06-2.06.94z\"/><path d=\"M17.41 7.96l-1.37-1.37c-.4-.4-.92-.59-1.43-.59-.52 0-1.04.2-1.43.59L10.3 9.45l-7.72 7.72c-.78.78-.78 2.05 0 2.83L4 21.41c.39.39.9.59 1.41.59.51 0 1.02-.2 1.41-.59l7.78-7.78 2.81-2.81c.8-.78.8-2.07 0-2.86zM5.41 20L4 18.59l7.72-7.72 1.47 1.35L5.41 20z\"/>\n",
              "  </svg>\n",
              "      </button>\n",
              "\n",
              "\n",
              "\n",
              "    <div id=\"df-100ae8e1-a462-4890-90a3-428b8c9be859\">\n",
              "      <button class=\"colab-df-quickchart\" onclick=\"quickchart('df-100ae8e1-a462-4890-90a3-428b8c9be859')\"\n",
              "              title=\"Suggest charts.\"\n",
              "              style=\"display:none;\">\n",
              "\n",
              "<svg xmlns=\"http://www.w3.org/2000/svg\" height=\"24px\"viewBox=\"0 0 24 24\"\n",
              "     width=\"24px\">\n",
              "    <g>\n",
              "        <path d=\"M19 3H5c-1.1 0-2 .9-2 2v14c0 1.1.9 2 2 2h14c1.1 0 2-.9 2-2V5c0-1.1-.9-2-2-2zM9 17H7v-7h2v7zm4 0h-2V7h2v10zm4 0h-2v-4h2v4z\"/>\n",
              "    </g>\n",
              "</svg>\n",
              "      </button>\n",
              "    </div>\n",
              "\n",
              "<style>\n",
              "  .colab-df-quickchart {\n",
              "    background-color: #E8F0FE;\n",
              "    border: none;\n",
              "    border-radius: 50%;\n",
              "    cursor: pointer;\n",
              "    display: none;\n",
              "    fill: #1967D2;\n",
              "    height: 32px;\n",
              "    padding: 0 0 0 0;\n",
              "    width: 32px;\n",
              "  }\n",
              "\n",
              "  .colab-df-quickchart:hover {\n",
              "    background-color: #E2EBFA;\n",
              "    box-shadow: 0px 1px 2px rgba(60, 64, 67, 0.3), 0px 1px 3px 1px rgba(60, 64, 67, 0.15);\n",
              "    fill: #174EA6;\n",
              "  }\n",
              "\n",
              "  [theme=dark] .colab-df-quickchart {\n",
              "    background-color: #3B4455;\n",
              "    fill: #D2E3FC;\n",
              "  }\n",
              "\n",
              "  [theme=dark] .colab-df-quickchart:hover {\n",
              "    background-color: #434B5C;\n",
              "    box-shadow: 0px 1px 3px 1px rgba(0, 0, 0, 0.15);\n",
              "    filter: drop-shadow(0px 1px 2px rgba(0, 0, 0, 0.3));\n",
              "    fill: #FFFFFF;\n",
              "  }\n",
              "</style>\n",
              "\n",
              "    <script>\n",
              "      async function quickchart(key) {\n",
              "        const containerElement = document.querySelector('#' + key);\n",
              "        const charts = await google.colab.kernel.invokeFunction(\n",
              "            'suggestCharts', [key], {});\n",
              "      }\n",
              "    </script>\n",
              "\n",
              "      <script>\n",
              "\n",
              "function displayQuickchartButton(domScope) {\n",
              "  let quickchartButtonEl =\n",
              "    domScope.querySelector('#df-100ae8e1-a462-4890-90a3-428b8c9be859 button.colab-df-quickchart');\n",
              "  quickchartButtonEl.style.display =\n",
              "    google.colab.kernel.accessAllowed ? 'block' : 'none';\n",
              "}\n",
              "\n",
              "        displayQuickchartButton(document);\n",
              "      </script>\n",
              "      <style>\n",
              "    .colab-df-container {\n",
              "      display:flex;\n",
              "      flex-wrap:wrap;\n",
              "      gap: 12px;\n",
              "    }\n",
              "\n",
              "    .colab-df-convert {\n",
              "      background-color: #E8F0FE;\n",
              "      border: none;\n",
              "      border-radius: 50%;\n",
              "      cursor: pointer;\n",
              "      display: none;\n",
              "      fill: #1967D2;\n",
              "      height: 32px;\n",
              "      padding: 0 0 0 0;\n",
              "      width: 32px;\n",
              "    }\n",
              "\n",
              "    .colab-df-convert:hover {\n",
              "      background-color: #E2EBFA;\n",
              "      box-shadow: 0px 1px 2px rgba(60, 64, 67, 0.3), 0px 1px 3px 1px rgba(60, 64, 67, 0.15);\n",
              "      fill: #174EA6;\n",
              "    }\n",
              "\n",
              "    [theme=dark] .colab-df-convert {\n",
              "      background-color: #3B4455;\n",
              "      fill: #D2E3FC;\n",
              "    }\n",
              "\n",
              "    [theme=dark] .colab-df-convert:hover {\n",
              "      background-color: #434B5C;\n",
              "      box-shadow: 0px 1px 3px 1px rgba(0, 0, 0, 0.15);\n",
              "      filter: drop-shadow(0px 1px 2px rgba(0, 0, 0, 0.3));\n",
              "      fill: #FFFFFF;\n",
              "    }\n",
              "  </style>\n",
              "\n",
              "      <script>\n",
              "        const buttonEl =\n",
              "          document.querySelector('#df-dbcadd26-b16f-400f-915f-93f2c1cbc6c1 button.colab-df-convert');\n",
              "        buttonEl.style.display =\n",
              "          google.colab.kernel.accessAllowed ? 'block' : 'none';\n",
              "\n",
              "        async function convertToInteractive(key) {\n",
              "          const element = document.querySelector('#df-dbcadd26-b16f-400f-915f-93f2c1cbc6c1');\n",
              "          const dataTable =\n",
              "            await google.colab.kernel.invokeFunction('convertToInteractive',\n",
              "                                                     [key], {});\n",
              "          if (!dataTable) return;\n",
              "\n",
              "          const docLinkHtml = 'Like what you see? Visit the ' +\n",
              "            '<a target=\"_blank\" href=https://colab.research.google.com/notebooks/data_table.ipynb>data table notebook</a>'\n",
              "            + ' to learn more about interactive tables.';\n",
              "          element.innerHTML = '';\n",
              "          dataTable['output_type'] = 'display_data';\n",
              "          await google.colab.output.renderOutput(dataTable, element);\n",
              "          const docLink = document.createElement('div');\n",
              "          docLink.innerHTML = docLinkHtml;\n",
              "          element.appendChild(docLink);\n",
              "        }\n",
              "      </script>\n",
              "    </div>\n",
              "  </div>\n"
            ]
          },
          "metadata": {},
          "execution_count": 26
        }
      ]
    },
    {
      "cell_type": "markdown",
      "metadata": {
        "id": "kd76FmA3X4UE"
      },
      "source": [
        "Brief description of the dataset:\n",
        "\n",
        "Contains **❓❓** records of bitcoin historical data from 2012 to 2022; each record, contains the following set of **15** columns:\n",
        "\n",
        "\n",
        "**Currency Statistics**\n",
        "* \"timestamp\": Duration of the data (in our case from 2012-01-01 to 2022-12-31)\n",
        "* \"market-price\": The average USD market price across major bitcoin exchanges.\n",
        "* \"total-bitcoins\": The total number of mined bitcoin that are currently circulating on the network.\n",
        "* \"market-cap\" (USD) The total USD value of bitcoin in circulation.\n",
        "* \"trade-volume\" (USD): The total USD value of trading volume on major bitcoin exchanges.\n",
        "\n",
        "**Block Details**\n",
        "\n",
        "* \"blocks-size\" (MB): The total size of the blockchain minus database indexes in megabytes.\n",
        "* \"avg-block-size\" (MB): The average block size over the past 24 hours in megabytes.\n",
        "* \"n-transactions-total\": The total number of transactions on the blockchain.\n",
        "* \"n-transactions-per-block\": The average number of transactions per block over the past 24 hours.\n",
        "\n",
        "**Mining Information**\n",
        "\n",
        "* \"hash-rate\" (TH/s): The estimated number of terahashes per second the bitcoin network is performing in the last 24 hours.\n",
        "* \"difficulty\": A relative measure of how difficult it is to mine a new block for the blockchain.\n",
        "* \"miners-revenue\" (USD): Total value of coinbase block rewards and transaction fees paid to miners.\n",
        "* \"transaction-fees-usd\" (USD): The total USD value of all transaction fees paid to miners. This does not include coinbase block rewards.\n",
        "\n",
        "**Network Activity**\n",
        "\n",
        "* \"n-unique-addresses\": The total number of unique addresses used on the blockchain.\n",
        "* \"n-transactions\": The total number of confirmed transactions per day.\n",
        "* \"estimated-transaction-volume-usd\" (USD): The total estimated value in USD of transactions on the blockchain. This does not include coins returned as change."
      ]
    },
    {
      "cell_type": "code",
      "source": [
        "# TO DO: da sistemare ❗\n",
        "def show_metrics(dataset, feature):\n",
        "  trace = go.Scatter(\n",
        "      x = dataset['timestamp'],\n",
        "      y = dataset[feature].astype(float),\n",
        "      mode = 'lines',\n",
        "      name = feature\n",
        "  )\n",
        "\n",
        "  layout = dict(\n",
        "      title=feature,\n",
        "      xaxis=dict(\n",
        "          rangeselector=dict(\n",
        "              buttons=list([\n",
        "                  #change the count to desired amount of months.\n",
        "                  dict(count=1,\n",
        "                      label='1m',\n",
        "                      step='month',\n",
        "                      stepmode='backward'),\n",
        "                  dict(count=6,\n",
        "                      label='6m',\n",
        "                      step='month',\n",
        "                      stepmode='backward'),\n",
        "                  dict(count=12,\n",
        "                      label='1y',\n",
        "                      step='month',\n",
        "                      stepmode='backward'),\n",
        "                  dict(count=36,\n",
        "                      label='3y',\n",
        "                      step='month',\n",
        "                      stepmode='backward'),\n",
        "                  dict(step='all')\n",
        "              ])\n",
        "          ),\n",
        "          rangeslider=dict(\n",
        "              visible = True\n",
        "          ),\n",
        "          type='date'\n",
        "      )\n",
        "  )\n",
        "\n",
        "  data = [trace]\n",
        "  fig = dict(data=data, layout=layout)\n",
        "  iplot(fig, filename = \"Time Series with Rangeslider\")"
      ],
      "metadata": {
        "id": "t8cmULNLK5Aj"
      },
      "execution_count": 23,
      "outputs": []
    },
    {
      "cell_type": "code",
      "source": [
        "for index, feature in enumerate(df.columns[1:], start=1):\n",
        "  show_metrics(df, feature)"
      ],
      "metadata": {
        "id": "WUb9DxdTK7Ep"
      },
      "execution_count": null,
      "outputs": []
    },
    {
      "cell_type": "markdown",
      "metadata": {
        "id": "SB98AYjZIx5Q"
      },
      "source": [
        "#  Feature Selection ❗\n",
        "\n",
        "Source: https://medium.com/experimenting-with-deep-learning/predictbit-d0c1e44990a3\n"
      ]
    },
    {
      "cell_type": "markdown",
      "metadata": {
        "id": "zu3OAsdaLjhE"
      },
      "source": [
        "The aim of this section is to remove the features that have less of an impact to the final result from the dataset. This operation is called feature selection. Let's plot a correlation map to see how features are correlated among each other:"
      ]
    },
    {
      "cell_type": "code",
      "source": [
        "copy_df = df.iloc[:, 1:]\n",
        "cor = copy_df.corr().abs()\n",
        "\n",
        "all_features = copy_df.columns\n",
        "\n",
        "cont_columns = copy_df.columns[1:]\n",
        "dep_var = 'market-price'"
      ],
      "metadata": {
        "id": "gbjDd5UeQoV1"
      },
      "execution_count": 23,
      "outputs": []
    },
    {
      "cell_type": "markdown",
      "source": [
        "Plotting a correlation heatmap for Market Price (our target) against all the continuous features yields the following:"
      ],
      "metadata": {
        "id": "wNLkfTIWvMVj"
      }
    },
    {
      "cell_type": "code",
      "source": [
        "# Correlation b/w Market Price and Continuous Features:\n",
        "cont_df = copy_df[cont_columns]\n",
        "cont_df[dep_var] = copy_df[dep_var]\n",
        "cont_corr_df = cont_df.corr()\n",
        "plt.figure(figsize=(15,1))\n",
        "sns.heatmap(cont_corr_df.sort_values(by=dep_var, axis=1).drop(dep_var, axis=1).tail(1), annot=True, cmap=plt.cm.Reds)\n",
        "plt.show()"
      ],
      "metadata": {
        "colab": {
          "base_uri": "https://localhost:8080/",
          "height": 507
        },
        "id": "4mfEGIIkQtll",
        "outputId": "565d51ef-6272-4a73-8d3e-7b378d907085"
      },
      "execution_count": 8,
      "outputs": [
        {
          "output_type": "stream",
          "name": "stderr",
          "text": [
            "<ipython-input-8-3812ecf78d1a>:3: SettingWithCopyWarning:\n",
            "\n",
            "\n",
            "A value is trying to be set on a copy of a slice from a DataFrame.\n",
            "Try using .loc[row_indexer,col_indexer] = value instead\n",
            "\n",
            "See the caveats in the documentation: https://pandas.pydata.org/pandas-docs/stable/user_guide/indexing.html#returning-a-view-versus-a-copy\n",
            "\n"
          ]
        },
        {
          "output_type": "display_data",
          "data": {
            "text/plain": [
              "<Figure size 1500x100 with 2 Axes>"
            ],
            "image/png": "[encoded data removed]"
          },
          "metadata": {}
        }
      ]
    },
    {
      "cell_type": "markdown",
      "source": [
        "Before we eliminate any columns, lets first filter out and keep features that satisfy this first condition: (1) highly correlated to our target.\n",
        "\n",
        "We can then visualize this filtered subset with a Seaborn heat map to inductively identify which features are also correlated to each other.\n",
        "\n",
        "To get this to work, first, we’ll collect all correlation comparisons to our target in a variable called “cor_target”."
      ],
      "metadata": {
        "id": "-oH_QyZIvSfN"
      }
    },
    {
      "cell_type": "code",
      "source": [
        "cor_target = cor[dep_var]"
      ],
      "metadata": {
        "id": "nXPX-jj2TFlw"
      },
      "execution_count": 27,
      "outputs": []
    },
    {
      "cell_type": "markdown",
      "source": [
        "(1) filter by a correlation threshold of our choosing (for example, I’m going with 0.6, so any feature with a correlation to our target of less than .6 will gets dropped). This is step one of the inductive elimination process.\n",
        "\n",
        "(2) create a new data frame with features from the previous step\n",
        "\n",
        "(3) grab the correlations matrix for this new data frame and visualize to see whether or not any of these features are also highly correlated with each other (again, using .6 as a threshold).\n",
        "\n",
        "I like to think of this as a nested correlation matrix:"
      ],
      "metadata": {
        "id": "48voV-YKvZT1"
      }
    },
    {
      "cell_type": "code",
      "source": [
        "# Identifying Features Highly Correlated with Target and Other Features:\n",
        "relevant_features = cor_target[cor_target>0.6]\n",
        "\n",
        "rel_df = relevant_features.to_frame() #.transpose()\n",
        "rel_df = rel_df.sort_values(dep_var, ascending=False)\n",
        "rel_columns = rel_df[1:].index.values.tolist()\n",
        "rel_corr_df = df[rel_columns].corr()\n",
        "\n",
        "plt.figure(figsize=(12,10))\n",
        "mask = np.zeros_like(rel_corr_df, dtype=np.bool)\n",
        "mask[np.triu_indices_from(mask)] = True\n",
        "sns.heatmap(rel_corr_df[rel_corr_df>.6], annot=True, cmap=plt.cm.Reds, mask=mask)\n",
        "rel_columns, plt.show()"
      ],
      "metadata": {
        "colab": {
          "base_uri": "https://localhost:8080/",
          "height": 1000
        },
        "id": "vvKj0AvxTHWn",
        "outputId": "3590dd1a-bac9-4472-b665-33e69dcf54e9"
      },
      "execution_count": 32,
      "outputs": [
        {
          "output_type": "stream",
          "name": "stderr",
          "text": [
            "<ipython-input-32-b658029f5ce2>:10: DeprecationWarning:\n",
            "\n",
            "`np.bool` is a deprecated alias for the builtin `bool`. To silence this warning, use `bool` by itself. Doing this will not modify any behavior and is safe. If you specifically wanted the numpy scalar type, use `np.bool_` here.\n",
            "Deprecated in NumPy 1.20; for more details and guidance: https://numpy.org/devdocs/release/1.20.0-notes.html#deprecations\n",
            "\n"
          ]
        },
        {
          "output_type": "display_data",
          "data": {
            "text/plain": [
              "<Figure size 1200x1000 with 2 Axes>"
            ],
            "image/png": "[encoded data removed]"
          },
          "metadata": {}
        },
        {
          "output_type": "execute_result",
          "data": {
            "text/plain": [
              "(['market-cap',\n",
              "  'miners-revenue',\n",
              "  'estimated-transaction-volume-usd',\n",
              "  'blocks-size',\n",
              "  'n-transactions-total',\n",
              "  'difficulty',\n",
              "  'hash-rate',\n",
              "  'n-unique-addresses',\n",
              "  'avg-block-size',\n",
              "  'total-bitcoins'],\n",
              " None)"
            ]
          },
          "metadata": {},
          "execution_count": 32
        }
      ]
    },
    {
      "cell_type": "markdown",
      "source": [
        "The above heat map illustration demonstrates that several of these filtered features are also correlated to each other.\n",
        "\n",
        "In this scenario, we want to minimize the number of red cells by, again, filtering by a certain threshold.\n",
        "\n",
        "A utility function to keep code DRY, should you find you want to iterate.\n",
        "\n",
        "I used a higher threshold, here, to prevent dropping too many features."
      ],
      "metadata": {
        "id": "7HU0CNlHvgAw"
      }
    },
    {
      "cell_type": "code",
      "source": [
        "# Reducing Dimensionality of Correlation Matrix:\n",
        "def dimentionalize_corr_matrix(cor_df, upper_bound=0.95):\n",
        "  upper = cor_df.where(np.triu(np.ones(cor_df.shape), k=1).astype(np.bool))\n",
        "  to_drop = [column for column in upper.columns if any(upper[column] > upper_bound)]\n",
        "  rel_df_clean = cor_df.drop(cor_df[to_drop], axis=0)\n",
        "  rel_df_clean =  rel_df_clean.drop( rel_df_clean[to_drop], axis=1)\n",
        "  return rel_df_clean\n",
        "\n",
        "\n",
        "rel_df_clean = dimentionalize_corr_matrix(rel_corr_df, .9)\n",
        "rel_columns = rel_df_clean.columns.tolist()\n",
        "\n",
        "plt.figure(figsize=(12,10))\n",
        "mask = np.zeros_like(rel_df_clean, dtype=np.bool)\n",
        "mask[np.triu_indices_from(mask)] = True\n",
        "sns.heatmap(rel_df_clean, annot=True, cmap=plt.cm.Reds, mask=mask)\n",
        "rel_columns, plt.show()"
      ],
      "metadata": {
        "colab": {
          "base_uri": "https://localhost:8080/",
          "height": 235
        },
        "id": "lGYaiX1TTii-",
        "outputId": "a8dde005-035f-44c0-b525-d1ae563714e2"
      },
      "execution_count": 29,
      "outputs": [
        {
          "output_type": "error",
          "ename": "NameError",
          "evalue": "ignored",
          "traceback": [
            "\u001b[0;31m---------------------------------------------------------------------------\u001b[0m",
            "\u001b[0;31mNameError\u001b[0m                                 Traceback (most recent call last)",
            "\u001b[0;32m<ipython-input-29-6b4394bde3ab>\u001b[0m in \u001b[0;36m<cell line: 10>\u001b[0;34m()\u001b[0m\n\u001b[1;32m      8\u001b[0m \u001b[0;34m\u001b[0m\u001b[0m\n\u001b[1;32m      9\u001b[0m \u001b[0;34m\u001b[0m\u001b[0m\n\u001b[0;32m---> 10\u001b[0;31m \u001b[0mrel_df_clean\u001b[0m \u001b[0;34m=\u001b[0m \u001b[0mdimentionalize_corr_matrix\u001b[0m\u001b[0;34m(\u001b[0m\u001b[0mrel_corr_df\u001b[0m\u001b[0;34m,\u001b[0m \u001b[0;36m.9\u001b[0m\u001b[0;34m)\u001b[0m\u001b[0;34m\u001b[0m\u001b[0;34m\u001b[0m\u001b[0m\n\u001b[0m\u001b[1;32m     11\u001b[0m \u001b[0mrel_columns\u001b[0m \u001b[0;34m=\u001b[0m \u001b[0mrel_df_clean\u001b[0m\u001b[0;34m.\u001b[0m\u001b[0mcolumns\u001b[0m\u001b[0;34m.\u001b[0m\u001b[0mtolist\u001b[0m\u001b[0;34m(\u001b[0m\u001b[0;34m)\u001b[0m\u001b[0;34m\u001b[0m\u001b[0;34m\u001b[0m\u001b[0m\n\u001b[1;32m     12\u001b[0m \u001b[0;34m\u001b[0m\u001b[0m\n",
            "\u001b[0;31mNameError\u001b[0m: name 'rel_corr_df' is not defined"
          ]
        }
      ]
    },
    {
      "cell_type": "markdown",
      "source": [
        "The outputted features: 'market-cap', 'estimated-transaction-volume-usd', 'blocks-size', 'n-unique-addresses'.\n",
        "\n",
        "For the purpose of this experiment, we’ll call these columns “relevant columns”."
      ],
      "metadata": {
        "id": "ePg98MoKvpiI"
      }
    },
    {
      "cell_type": "markdown",
      "source": [
        "Unlike my approach from earlier, the RFE method recursively goes through the feature set, removing columns to get the best accuracy level it deems possible.\n",
        "\n",
        "To use RFE, we first have to declare a sklearn linear regression model (not to be confused with the pyspark Linear Regression model we’ll be using in next steps) and pass that model to the RFE method with the maximum number of features we’d like to extract.\n",
        "\n",
        "We’re looking for 7 recommended features (the same list length as “relevant columns”) from the RFE model to create a second test group of features. To use the RFE method, we also have to get a list of targets to support RFE’s accuracy check:"
      ],
      "metadata": {
        "id": "QZccJSlpvzqH"
      }
    },
    {
      "cell_type": "code",
      "source": [
        "from sklearn.feature_selection import RFE\n",
        "from sklearn.linear_model import LinearRegression as sklearnLR\n",
        "\n",
        "model = sklearnLR()\n",
        "rfe = RFE(model, step = 7)\n",
        "y = copy_df[dep_var].tolist()"
      ],
      "metadata": {
        "id": "XCyZeoM4Twe6"
      },
      "execution_count": 12,
      "outputs": []
    },
    {
      "cell_type": "markdown",
      "source": [
        "We fit the RFE model on the Sklearn Linear Regression model, along with the inputs and targets:"
      ],
      "metadata": {
        "id": "fbpnNPO6v12R"
      }
    },
    {
      "cell_type": "code",
      "source": [
        "X_rfe = rfe.fit_transform(copy_df.drop(dep_var, axis=1), y)\n",
        "model.fit(X_rfe, y)\n",
        "temp = pd.Series(rfe.support_,index = copy_df.drop(dep_var, axis=1).columns)\n",
        "selected_features_rfe = temp[temp==True].index.values.tolist()\n",
        "print(selected_features_rfe)"
      ],
      "metadata": {
        "colab": {
          "base_uri": "https://localhost:8080/"
        },
        "id": "wv3yU8xiT0c3",
        "outputId": "00a3ca73-f773-42a1-c01f-dd9ef66808ab"
      },
      "execution_count": 13,
      "outputs": [
        {
          "output_type": "stream",
          "name": "stdout",
          "text": [
            "['total-bitcoins', 'blocks-size', 'avg-block-size', 'n-transactions-per-block', 'miners-revenue', 'n-unique-addresses', 'n-transactions']\n"
          ]
        }
      ]
    },
    {
      "cell_type": "markdown",
      "source": [
        "The outputted features: 'total-bitcoins', 'blocks-size', 'avg-block-size', 'n-transactions-per-block', 'miners-revenue', 'n-unique-addresses', 'n-transactions'.\n",
        "\n",
        "Vastly different from the list generated earlier! Let’s see how it goes."
      ],
      "metadata": {
        "id": "ZsOcNt5kv4w4"
      }
    },
    {
      "cell_type": "markdown",
      "source": [
        "# Stationarity and detrending ❗\n",
        "\n",
        "Source: https://www.kaggle.com/code/debashis74017/time-series-forecasting-itcoin-price?scriptVersionId=113747601&cellId=25"
      ],
      "metadata": {
        "id": "qlbEH1mGT1Xp"
      }
    },
    {
      "cell_type": "markdown",
      "source": [
        "Stationarity means that the statistical properties of a time series i.e. mean, variance and covariance do not change over time. Many statistical models require the series to be stationary to make effective and precise predictions.\n",
        "\n",
        "Two statistical tests would be used to check the stationarity of a time series – Augmented Dickey Fuller (“ADF”) test and Kwiatkowski-Phillips-Schmidt-Shin (“KPSS”) test. A method to convert a non-stationary time series into stationary series shall also be used."
      ],
      "metadata": {
        "id": "oRXVyT60UWes"
      }
    },
    {
      "cell_type": "markdown",
      "source": [
        "### ADF Test\n",
        "ADF test is used to determine the presence of unit root in the series, and hence helps in understand if the series is stationary or not. The null and alternate hypothesis of this test are:\n",
        "\n",
        "Null Hypothesis: The series has a unit root.\n",
        "\n",
        "Alternate Hypothesis: The series has no unit root.\n",
        "\n",
        "If the null hypothesis in failed to be rejected, this test may provide evidence that the series is non-stationary."
      ],
      "metadata": {
        "id": "jOFTcEXYAvm9"
      }
    },
    {
      "cell_type": "code",
      "source": [
        "from statsmodels.tsa.stattools import adfuller\n",
        "result = adfuller(df['market-price'], autolag='AIC')\n",
        "print(f'ADF Statistic: {result[0]}')\n",
        "print(f'p-value: {result[1]}')\n",
        "for key, value in result[4].items():\n",
        "    print('Critial Values:')\n",
        "    print(f'   {key}, {value}')"
      ],
      "metadata": {
        "id": "ACNNyVT4Av5e"
      },
      "execution_count": null,
      "outputs": []
    },
    {
      "cell_type": "markdown",
      "source": [
        "ADF Stats value is greater than all critical values, and p-value is also greater than 0.05. So we can strongly reject the null hypothesis, and conclude that, Price value is Non-Stationary.\n",
        "\n",
        "Let's apply log transformation to the data and test again"
      ],
      "metadata": {
        "id": "eat5ZrBfBIEu"
      }
    },
    {
      "cell_type": "code",
      "source": [
        "from numpy import log\n",
        "\n",
        "result = adfuller((log(df['market-price'])), autolag='AIC')\n",
        "print(f'ADF Statistic: {result[0]}')\n",
        "print(f'p-value: {result[1]}')\n",
        "for key, value in result[4].items():\n",
        "    print('Critial Values:')\n",
        "    print(f'   {key}, {value}')"
      ],
      "metadata": {
        "id": "9XvJlLzaBLoj"
      },
      "execution_count": null,
      "outputs": []
    },
    {
      "cell_type": "markdown",
      "source": [
        "After applying Log transformation also, ADF Stats value is greater than all critical values, and p-value is also greater than 0.05. It seems, Price value is purely Non-Stationary."
      ],
      "metadata": {
        "id": "H9jtqZ41BNfY"
      }
    },
    {
      "cell_type": "markdown",
      "source": [
        "### KPSS test - Kwiatkowski Phillips Schmidt Shin\n",
        "KPSS is another test for checking the stationarity of a time series. The null and alternate hypothesis for the KPSS test are opposite that of the ADF test.\n",
        "\n",
        "Null Hypothesis: The process is trend stationary.\n",
        "\n",
        "Alternate Hypothesis: The series has a unit root (series is not stationary)."
      ],
      "metadata": {
        "id": "0ncXxv4wA0wn"
      }
    },
    {
      "cell_type": "code",
      "source": [
        "from statsmodels.tsa.stattools import kpss\n",
        "\n",
        "result = kpss(copy_df['market-price'], regression='c')\n",
        "print('\\nKPSS Statistic: %f' % result[0])\n",
        "print('p-value: %f' % result[1])\n",
        "for key, value in result[3].items():\n",
        "    print('Critial Values:')\n",
        "    print(f'   {key}, {value}');"
      ],
      "metadata": {
        "id": "nWeXC1ukA0-U"
      },
      "execution_count": null,
      "outputs": []
    },
    {
      "cell_type": "markdown",
      "source": [
        "The output of the KPSS test contains 4 things:\n",
        "\n",
        "1. The KPSS statistic\n",
        "2. p-value\n",
        "3. Number of lags used by the test\n",
        "4. Critical values\n",
        "\n",
        "The p-value reported by the test is the probability score based on which you can decide whether to reject the null hypothesis or not. If the p-value is less than a predefined alpha level (typically 0.05), we reject the null hypothesis.\n",
        "\n",
        "The KPSS statistic is the actual test statistic that is computed while performing the test.\n",
        "\n",
        "In order to reject the null hypothesis, the test statistic should be greater than the provided critical values. If it is in fact higher than the target critical value, then that should automatically reflect in a low p-value.\n",
        "\n",
        "That is, if the p-value is less than 0.05, the kpss statistic will be greater than the 5% critical value.\n",
        "\n",
        "Finally, the number of lags reported is the number of lags of the series that was actually used by the model equation of the kpss test. By default, the statsmodels kpss() uses the ‘legacy’ method. In legacy method, int(12 * (n / 100)**(1 / 4)) number of lags is included, where n is the length of the series.\n",
        "\n",
        "Here we find that, KPSS stats value is too high than critical values.\n",
        "\n",
        "So, we concluded that this time series is Non-Stationary"
      ],
      "metadata": {
        "id": "exNhX0nZBW4F"
      }
    },
    {
      "cell_type": "markdown",
      "source": [
        "# Output ❗"
      ],
      "metadata": {
        "id": "ZST0-t7-AiYX"
      }
    },
    {
      "cell_type": "markdown",
      "metadata": {
        "id": "IcwEZhW1CGSn"
      },
      "source": [
        "Saving the different type of selected features"
      ]
    },
    {
      "cell_type": "code",
      "source": [
        "all_features.to_csv(GDRIVE_DATASET_OUTPUT_DIR + \"/\" + 'all_features.csv', index=False)\n",
        "rel_columns.to_csv(GDRIVE_DATASET_OUTPUT_DIR + \"/\" + 'rel_columns.csv', index=False)\n",
        "selected_features_rfe.to_csv(GDRIVE_DATASET_OUTPUT_DIR + \"/\" + 'selected_features_rfe.csv', index=False)"
      ],
      "metadata": {
        "colab": {
          "base_uri": "https://localhost:8080/",
          "height": 200
        },
        "id": "dKr0SCgLt-fF",
        "outputId": "da23e332-2b9d-40cd-d8c0-ed8dcf2f82e5"
      },
      "execution_count": 28,
      "outputs": [
        {
          "output_type": "error",
          "ename": "AttributeError",
          "evalue": "ignored",
          "traceback": [
            "\u001b[0;31m---------------------------------------------------------------------------\u001b[0m",
            "\u001b[0;31mAttributeError\u001b[0m                            Traceback (most recent call last)",
            "\u001b[0;32m<ipython-input-28-176087d5da9b>\u001b[0m in \u001b[0;36m<cell line: 1>\u001b[0;34m()\u001b[0m\n\u001b[0;32m----> 1\u001b[0;31m \u001b[0mall_features\u001b[0m\u001b[0;34m.\u001b[0m\u001b[0mto_csv\u001b[0m\u001b[0;34m(\u001b[0m\u001b[0mGDRIVE_DATASET_OUTPUT_DIR\u001b[0m \u001b[0;34m+\u001b[0m \u001b[0;34m\"/\"\u001b[0m \u001b[0;34m+\u001b[0m \u001b[0;34m'all_features.csv'\u001b[0m\u001b[0;34m,\u001b[0m \u001b[0mindex\u001b[0m\u001b[0;34m=\u001b[0m\u001b[0;32mFalse\u001b[0m\u001b[0;34m)\u001b[0m\u001b[0;34m\u001b[0m\u001b[0;34m\u001b[0m\u001b[0m\n\u001b[0m\u001b[1;32m      2\u001b[0m \u001b[0mrel_columns\u001b[0m\u001b[0;34m.\u001b[0m\u001b[0mto_csv\u001b[0m\u001b[0;34m(\u001b[0m\u001b[0mGDRIVE_DATASET_OUTPUT_DIR\u001b[0m \u001b[0;34m+\u001b[0m \u001b[0;34m\"/\"\u001b[0m \u001b[0;34m+\u001b[0m \u001b[0;34m'rel_columns.csv'\u001b[0m\u001b[0;34m,\u001b[0m \u001b[0mindex\u001b[0m\u001b[0;34m=\u001b[0m\u001b[0;32mFalse\u001b[0m\u001b[0;34m)\u001b[0m\u001b[0;34m\u001b[0m\u001b[0;34m\u001b[0m\u001b[0m\n\u001b[1;32m      3\u001b[0m \u001b[0mselected_features_rfe\u001b[0m\u001b[0;34m.\u001b[0m\u001b[0mto_csv\u001b[0m\u001b[0;34m(\u001b[0m\u001b[0mGDRIVE_DATASET_OUTPUT_DIR\u001b[0m \u001b[0;34m+\u001b[0m \u001b[0;34m\"/\"\u001b[0m \u001b[0;34m+\u001b[0m \u001b[0;34m'selected_features_rfe.csv'\u001b[0m\u001b[0;34m,\u001b[0m \u001b[0mindex\u001b[0m\u001b[0;34m=\u001b[0m\u001b[0;32mFalse\u001b[0m\u001b[0;34m)\u001b[0m\u001b[0;34m\u001b[0m\u001b[0;34m\u001b[0m\u001b[0m\n",
            "\u001b[0;31mAttributeError\u001b[0m: 'Index' object has no attribute 'to_csv'"
          ]
        }
      ]
    }
  ],
  "metadata": {
    "colab": {
      "collapsed_sections": [
        "e452Ydj7chNV",
        "IXTGTgzEqE3x",
        "YtmWjQUVSvq2",
        "SB98AYjZIx5Q",
        "qlbEH1mGT1Xp",
        "ZST0-t7-AiYX"
      ],
      "provenance": [],
      "toc_visible": true,
      "include_colab_link": true
    },
    "kernelspec": {
      "display_name": "Python 3.9.12 ('base')",
      "language": "python",
      "name": "python3"
    },
    "language_info": {
      "codemirror_mode": {
        "name": "ipython",
        "version": 3
      },
      "file_extension": ".py",
      "mimetype": "text/x-python",
      "name": "python",
      "nbconvert_exporter": "python",
      "pygments_lexer": "ipython3",
      "version": "3.9.13"
    },
    "vscode": {
      "interpreter": {
        "hash": "303fa613b6f3e1efefe7bb28036e305e1021fa6bdb083a5f9fd57f9d9bbad8eb"
      }
    }
  },
  "nbformat": 4,
  "nbformat_minor": 0
}