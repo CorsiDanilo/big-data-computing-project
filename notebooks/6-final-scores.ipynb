{
  "cells": [
    {
      "cell_type": "markdown",
      "metadata": {
        "id": "e452Ydj7chNV"
      },
      "source": [
        "# **Bitcoin price prediction - Final scores**\n",
        "### Big Data Computing final project - A.Y. 2022 - 2023\n",
        "Prof. Gabriele Tolomei\n",
        "\n",
        "MSc in Computer Science\n",
        "\n",
        "La Sapienza, University of Rome\n",
        "\n",
        "### Author: Corsi Danilo (1742375) - corsi.1742375@studenti.uniroma1.it\n",
        "\n",
        "\n",
        "---\n",
        "\n",
        "\n",
        "Description: display of final scores and making predictions on the test set with the models trained on the whole train / validation set."
      ]
    },
    {
      "cell_type": "markdown",
      "metadata": {
        "id": "IXTGTgzEqE3x"
      },
      "source": [
        "# Global constants, dependencies, libraries and tools"
      ]
    },
    {
      "cell_type": "code",
      "execution_count": 1,
      "metadata": {
        "id": "av93BTCYR815"
      },
      "outputs": [],
      "source": [
        "# Main constants\n",
        "LOCAL_RUNNING = True\n",
        "SLOW_OPERATIONS = True # Decide whether or not to use operations that might slow down notebook execution\n",
        "ROOT_DIR = \"D:/Documents/Repository/BDC/project\" if LOCAL_RUNNING else \"/content/drive\""
      ]
    },
    {
      "cell_type": "code",
      "execution_count": 2,
      "metadata": {
        "colab": {
          "base_uri": "https://localhost:8080/"
        },
        "id": "aZVTH76BiJps",
        "outputId": "d1abbdf7-aa64-4521-f62a-d16209502ed2"
      },
      "outputs": [],
      "source": [
        "if not LOCAL_RUNNING:\n",
        "    # Point Colaboratory to Google Drive\n",
        "    from google.colab import drive\n",
        "\n",
        "    # Define GDrive paths\n",
        "    drive.mount(ROOT_DIR, force_remount=True)\n",
        "\n",
        "    # Install Spark and related dependencies\n",
        "    !pip install pyspark\n",
        "    !pip install -U -q PyDrive -qq\n",
        "    !apt install openjdk-8-jdk-headless -qq"
      ]
    },
    {
      "cell_type": "markdown",
      "metadata": {
        "id": "yBRexBrot8Gg"
      },
      "source": [
        "## Import my utilities"
      ]
    },
    {
      "cell_type": "code",
      "execution_count": 3,
      "metadata": {
        "id": "ZGWKLtp9t8Gh"
      },
      "outputs": [],
      "source": [
        "# Set main dir\n",
        "MAIN_DIR = ROOT_DIR + \"\" if LOCAL_RUNNING else ROOT_DIR + \"/MyDrive/BDC/project\"\n",
        "\n",
        "# Utilities dir\n",
        "UTILITIES_DIR = MAIN_DIR + \"/utilities\"\n",
        "\n",
        "# Import my utilities\n",
        "import sys\n",
        "sys.path.append(UTILITIES_DIR)\n",
        "\n",
        "from imports import *"
      ]
    },
    {
      "cell_type": "code",
      "execution_count": 4,
      "metadata": {
        "id": "AVa9PkQ5R816"
      },
      "outputs": [],
      "source": [
        "# Set main dir\n",
        "MAIN_DIR = ROOT_DIR + \"\" if LOCAL_RUNNING else ROOT_DIR + \"/MyDrive/BDC/project\"\n",
        "\n",
        "###################\n",
        "# --- DATASET --- #\n",
        "###################\n",
        "\n",
        "# Datasets dirs\n",
        "DATASET_OUTPUT_DIR = MAIN_DIR + \"/datasets/output\"\n",
        "\n",
        "# Datasets names\n",
        "DATASET_TEST_NAME = \"bitcoin_blockchain_data_15min_test\"\n",
        "\n",
        "# Datasets paths\n",
        "DATASET_TEST = DATASET_OUTPUT_DIR + \"/\" + DATASET_TEST_NAME + \".parquet\"\n",
        "\n",
        "####################\n",
        "# --- FEATURES --- #\n",
        "####################\n",
        "\n",
        "# Features dir\n",
        "FEATURES_DIR = MAIN_DIR + \"/features\"\n",
        "\n",
        "# Features labels\n",
        "FEATURES_LABEL = \"features\"\n",
        "TARGET_LABEL = \"next-market-price\"\n",
        "\n",
        "# Features names\n",
        "FEATURES_CORRELATION_LABEL = \"features_correlation\"\n",
        "BASE_FEATURES_LABEL = \"base_features\"\n",
        "BASE_AND_MOST_CORR_FEATURES_LABEL = \"base_and_most_corr_features\"\n",
        "BASE_AND_LEAST_CORR_FEATURES_LABEL = \"base_and_least_corr_features\"\n",
        "\n",
        "# Features paths\n",
        "FEATURES_CORRELATION = FEATURES_DIR + \"/\" + FEATURES_CORRELATION_LABEL + \".json\"\n",
        "BASE_FEATURES = FEATURES_DIR + \"/\" + BASE_FEATURES_LABEL + \".json\"\n",
        "BASE_AND_MOST_CORR_FEATURES = FEATURES_DIR + \"/\" + BASE_AND_MOST_CORR_FEATURES_LABEL + \".json\"\n",
        "BASE_AND_LEAST_CORR_FEATURES = FEATURES_DIR + \"/\" + BASE_AND_LEAST_CORR_FEATURES_LABEL + \".json\"\n",
        "\n",
        "##################\n",
        "# --- MODELS --- #\n",
        "##################\n",
        "\n",
        "# Model names\n",
        "LR_MODEL_NAME = \"LinearRegression\"\n",
        "GLR_MODEL_NAME = \"GeneralizedLinearRegression\"\n",
        "RF_MODEL_NAME = \"RandomForestRegressor\"\n",
        "GBT_MODEL_NAME = \"GradientBoostingTreeRegressor\"\n",
        "\n",
        "# Model dir\n",
        "MODELS_DIR = MAIN_DIR + \"/models\"\n",
        "\n",
        "# Model path\n",
        "LR_MODEL = MODELS_DIR + \"/\" + LR_MODEL_NAME\n",
        "GLR_MODEL = MODELS_DIR + \"/\" + GLR_MODEL_NAME\n",
        "RF_MODEL = MODELS_DIR + \"/\" + RF_MODEL_NAME\n",
        "GBT_MODEL = MODELS_DIR + \"/\" + GBT_MODEL_NAME\n",
        "\n",
        "###################\n",
        "# --- RESULTS --- #\n",
        "###################\n",
        "\n",
        "# splits names\n",
        "BLOCK_SPLITS_NAME = \"block_splits\"\n",
        "WALK_FORWARD_SPLITS_NAME = \"walk_forward_splits\"\n",
        "SHORT_TERM_SPLITS_NAME = \"single_split\"\n",
        "\n",
        "# Results dir\n",
        "RESULTS_DIR = MAIN_DIR + \"/results\"\n",
        "RESULTS_FINAL_DIR = RESULTS_DIR + \"/final\""
      ]
    },
    {
      "cell_type": "code",
      "execution_count": 5,
      "metadata": {
        "id": "PX7xDYw4SvrB"
      },
      "outputs": [],
      "source": [
        "# Suppression of warnings for better reading\n",
        "import warnings\n",
        "warnings.simplefilter(action='ignore', category=FutureWarning)\n",
        "\n",
        "if LOCAL_RUNNING: pio.renderers.default='notebook' # To correctly export the notebook in html format"
      ]
    },
    {
      "cell_type": "markdown",
      "metadata": {
        "id": "gcQR_Y-kn5oq"
      },
      "source": [
        "# Create the pyspark session"
      ]
    },
    {
      "cell_type": "code",
      "execution_count": 6,
      "metadata": {
        "id": "j0FWUAvCn5oq"
      },
      "outputs": [],
      "source": [
        "# Create the session\n",
        "conf = SparkConf().\\\n",
        "                set('spark.ui.port', \"4050\").\\\n",
        "                set('spark.executor.memory', '12G').\\\n",
        "                set('spark.driver.memory', '12G').\\\n",
        "                set('spark.driver.maxResultSize', '109G').\\\n",
        "                set(\"spark.kryoserializer.buffer.max\", \"1G\").\\\n",
        "                setAppName(\"BitcoinPricePrediction\").\\\n",
        "                setMaster(\"local[*]\")\n",
        "\n",
        "# Create the context\n",
        "sc = pyspark.SparkContext(conf=conf)\n",
        "spark = SparkSession.builder.getOrCreate()"
      ]
    },
    {
      "cell_type": "markdown",
      "metadata": {
        "id": "f0yi3Fcth9fi"
      },
      "source": [
        "# Loading dataset"
      ]
    },
    {
      "cell_type": "code",
      "execution_count": 7,
      "metadata": {
        "id": "yiF49OXz4-i7"
      },
      "outputs": [],
      "source": [
        "# Load datasets into pyspark dataset objects\n",
        "df = spark.read.load(DATASET_TEST,\n",
        "                         format=\"parquet\",\n",
        "                         sep=\",\",\n",
        "                         inferSchema=\"true\",\n",
        "                         header=\"true\"\n",
        "                    )"
      ]
    },
    {
      "cell_type": "code",
      "execution_count": 8,
      "metadata": {
        "id": "GVXM8roGmMNx"
      },
      "outputs": [],
      "source": [
        "def dataset_info(dataset):\n",
        "  # Print dataset\n",
        "  dataset.show(20)\n",
        "\n",
        "  # Get the number of rows\n",
        "  num_rows = dataset.count()\n",
        "\n",
        "  # Get the number of columns\n",
        "  num_columns = len(dataset.columns)\n",
        "\n",
        "  # Print the shape of the dataset\n",
        "  print(\"Shape:\", (num_rows, num_columns))\n",
        "\n",
        "  # Print the schema of the dataset\n",
        "  dataset.printSchema()"
      ]
    },
    {
      "cell_type": "code",
      "execution_count": 9,
      "metadata": {
        "colab": {
          "base_uri": "https://localhost:8080/"
        },
        "id": "FLj6RJRcmLtl",
        "outputId": "f77b76e5-b202-4652-e953-3fa92fcabc86"
      },
      "outputs": [
        {
          "name": "stdout",
          "output_type": "stream",
          "text": [
            "+-------------------+------+------------+------------------+------------------+------------------+------------------+------------------+--------------------+--------------------+--------------------+------------------+------------------+--------------------+------------------------+--------------------+------------------+--------------------+--------------------+------------------+-----------------+--------------------------------+------------------+------------------+------------------+------------------+------------------+------------------+-----------------+\n",
            "|          timestamp|    id|market-price|     opening-price|     highest-price|      lowest-price|     closing-price|  trade-volume-btc|      total-bitcoins|          market-cap|    trade-volume-usd|       blocks-size|    avg-block-size|n-transactions-total|n-transactions-per-block|           hash-rate|        difficulty|      miners-revenue|transaction-fees-usd|n-unique-addresses|   n-transactions|estimated-transaction-volume-usd|        sma-5-days|        sma-7-days|       sma-10-days|       sma-20-days|       sma-50-days|      sma-100-days|next-market-price|\n",
            "+-------------------+------+------------+------------------+------------------+------------------+------------------+------------------+--------------------+--------------------+--------------------+------------------+------------------+--------------------+------------------------+--------------------+------------------+--------------------+--------------------+------------------+-----------------+--------------------------------+------------------+------------------+------------------+------------------+------------------+------------------+-----------------+\n",
            "|2023-08-13 00:00:00|131136|    29412.84|           29412.5|           29440.1|           29260.0|           29285.1|      490.06627965|           1.94557E7|      5.724061497E11|     2.35820385984E7|     503041.771369|1.7008965925925932|        8.78051199E8|       3682.311111111111| 3.515912505061022E8|5.2391178981379E13| 2.558566289478492E7|   401312.8947849199|          650366.0|         497112.0|            1.3069943329157224E9| 28926.71840438826| 28543.19588532871|28481.878506700952|24125.151648380066|32582.169991458795| 27734.29119947105|      29411.49625|\n",
            "|2023-08-13 00:15:00|131137| 29411.49625|29411.172916666666| 29442.36770833333|29258.333333333332|29286.488541666666|497.98624830750003|1.9455718489583332E7|5.724103419585938E11|     2.36105379118E7|503044.16682465625|1.7010131100552313| 8.780563969791666E8|       3678.585587231969|3.5256789286861914E8|5.2391178981379E13|2.5655998414138664E7|  402750.30215949856| 651131.9791666666|497855.8020833333|            1.3277734898288167E9|28926.949877273968| 28543.21243291823| 28482.22814257693| 24125.50392664297| 32582.11207373891|27734.303989090004|       29410.1525|\n",
            "|2023-08-13 00:30:00|131138|  29410.1525|29409.845833333333|29444.635416666664|29256.666666666668|29287.877083333333|     505.906216965|1.9455736979166668E7|5.724145342171875E11|     2.36390372252E7|503046.56228031253|1.7011296275178693| 8.780615949583334E8|      3674.8600633528267| 3.535445352311361E8|5.2391178981379E13| 2.572633393349241E7|   404187.7095340772| 651897.9583333334|498599.6041666667|             1.348552646741911E9|28927.181222370717| 28543.22882710449|28482.577195268583|24125.856055735712| 32582.05403641564|27734.316768267145|      29408.80875|\n",
            "|2023-08-13 00:45:00|131139| 29408.80875|       29408.51875|29446.903124999997|           29255.0|      29289.265625|    513.8261856225|    1.945575546875E7|5.724187264757812E11|     2.36675365386E7|503048.95773596875|1.7012461449805074|    8.780667929375E8|       3671.134539473684| 3.545211775936531E8|5.2391178981379E13|2.5796669452846155E7|  405625.11690865585|       652663.9375|     499343.40625|            1.3693318036550052E9|28927.412439678497| 28543.24506788748|28482.925664775903| 24126.20803565829|32581.995879489008|27734.329537002708|        29407.465|\n",
            "|2023-08-13 01:00:00|131140|   29407.465|29407.191666666666|29449.170833333334|29253.333333333332|29290.654166666667|      521.74615428|1.9455773958333332E7| 5.72422918734375E11|      2.3696035852E7|503051.35319162504|1.7013626624431455| 8.780719909166666E8|       3667.409015594542|   3.5549781995617E8|5.2391178981379E13|2.5867004972199902E7|   407062.5242832345| 653429.9166666666|500087.2083333333|            1.3901109605680995E9|28927.643529197314|  28543.2611552672|28483.273551098904|24126.559866410695| 32581.93760295899|27734.342295296938|      29406.12125|\n",
            "|2023-08-13 01:15:00|131141| 29406.12125|29405.864583333332|29451.438541666666|29251.666666666668| 29292.04270833333| 529.6661229375001|1.9455792447916668E7|5.724271109929688E11|2.3724535165400002E7|503053.74864728126|1.7014791799057836| 8.780771888958334E8|      3663.6834917153997|3.5647446231868696E8|5.2391178981379E13|2.5937340491553646E7|  408499.93165781314| 654195.8958333334|500831.0104166667|            1.4108901174811938E9|28927.874490927166|28543.277089243653|28483.620854237575| 24126.91154799293|32581.879206825604|27734.355043150063|       29404.7775|\n",
            "|2023-08-13 01:30:00|131142|  29404.7775|        29404.5375|       29453.70625|           29250.0|29293.431249999998|     537.586091595|     1.94558109375E7|5.724313032515625E11|     2.37530344788E7|503056.14410293754|1.7015956973684216|     8.78082386875E8|      3659.9579678362575| 3.574511046812039E8|5.2391178981379E13|2.6007676010907393E7|   409937.3390323918|        654961.875|      501574.8125|             1.431669274394288E9| 28928.10532486806|28543.292869816843|28483.967574191913|24127.263080405002|32581.820691088848| 27734.36778056233|      29403.43375|\n",
            "|2023-08-13 01:45:00|131143| 29403.43375|29403.210416666665|29455.973958333332|29248.333333333332|29294.819791666665|    545.5060602525|1.9455829427083332E7|5.724354955101562E11|     2.37815337922E7|503058.53955859377|1.7017122148310597| 8.780875848541666E8|       3656.232443957115|3.5842774704372084E8|5.2391178981379E13|2.6078011530261137E7|   411374.7464069705| 655727.8541666666|502318.6145833333|            1.4524484313073823E9| 28928.33603101998|28543.308496986763|28484.313710961927|24127.614463646907| 32581.76205574871|27734.380507533977|         29402.09|\n",
            "|2023-08-13 02:00:00|131144|    29402.09| 29401.88333333333|29458.241666666665|29246.666666666668|29296.208333333332|      553.42602891|1.9455847916666668E7|  5.7243968776875E11|     2.38100331056E7|503060.93501425005|1.7018287322936978| 8.780927828333334E8|      3652.5069200779726| 3.594043894062378E8|5.2391178981379E13| 2.614834704961488E7|  412812.15378154913| 656493.8333333334|503062.4166666667|            1.4732275882204766E9|28928.566609382935| 28543.32397075342|28484.659264547616|24127.965697718642|32581.703300805206|27734.393224065243|      29400.74625|\n",
            "|2023-08-13 02:15:00|131145| 29400.74625|       29400.55625|29460.509374999998|           29245.0|      29297.596875|    561.3459975675|    1.945586640625E7|5.724438800273438E11|      2.3838532419E7| 503063.3304699063|1.7019452497563359|    8.780979808125E8|      3648.7813961988304| 3.603810317687548E8|5.2391178981379E13|2.6218682568968628E7|   414249.5611561278|       657259.8125|     503806.21875|             1.494006745133571E9|28928.797059956923|28543.339291116812| 28485.00423494897| 24128.31678262021|32581.644426258328| 27734.40593015636|       29399.4025|\n",
            "|2023-08-13 02:30:00|131146|  29399.4025|29399.229166666668| 29462.77708333333|29243.333333333332|29298.985416666666|     569.265966225|1.9455884895833332E7|5.724480722859375E11|     2.38670317324E7| 503065.7259255625| 1.702061767218974| 8.781031787916666E8|       3645.055872319688| 3.613576741312717E8|5.2391178981379E13| 2.628901808832237E7|   415686.9685307064| 658025.7916666666|504550.0208333333|            1.5147859020466652E9|28929.027382741955|28543.354458076934|28485.348622166002| 24128.66771835161|32581.585432108077| 27734.41862580758|      29398.05875|\n",
            "|2023-08-13 02:45:00|131147| 29398.05875|29397.902083333334|29465.044791666664|29241.666666666668|29300.373958333334| 577.1859348825001|1.9455903385416668E7|5.724522645445312E11|     2.38955310458E7| 503068.1213812188| 1.702178284681612| 8.781083767708334E8|       3641.330348440546|3.6233431649378866E8|5.2391178981379E13| 2.635935360767612E7|  417124.37590528507| 658791.7708333334|505293.8229166667|            1.5355650589597592E9| 28929.25757773802|28543.369471633785|28485.692426198708| 24129.01850491284|32581.526318354452| 27734.43131101913|        29396.715|\n",
            "|2023-08-13 03:00:00|131148|   29396.715|         29396.575|        29467.3125|           29240.0|29301.762499999997|      585.10590354|      1.9455921875E7| 5.72456456803125E11|     2.39240303592E7|  503070.516836875|  1.70229480214425|      8.7811357475E8|      3637.6048245614033| 3.633109588563056E8|5.2391178981379E13|2.6429689127029862E7|   418561.7832798637|         659557.75|       506037.625|            1.5563442158728538E9| 28929.48764494512|28543.384331787376|28486.035647047087|24129.369142303905|32581.467084997446| 27734.44398579125|      29395.37125|\n",
            "|2023-08-13 03:15:00|131149| 29395.37125|29395.247916666667|29469.580208333333|29238.333333333332|29303.151041666664|    593.0258721975|1.9455940364583332E7|5.724606490617188E11|     2.39525296726E7| 503072.9122925313|1.7024113196068882| 8.781187727291666E8|       3633.879300682261|3.6428760121882254E8|5.2391178981379E13| 2.650002464638361E7|  419999.19065444235| 660323.7291666666|506781.4270833333|            1.5771233727859478E9|28929.717584363254|28543.399038537693|28486.378284711136|24129.719630524804|32581.407732037074|27734.456650124186|       29394.0275|\n",
            "|2023-08-13 03:30:00|131150|  29394.0275|29393.920833333334|29471.847916666666|29236.666666666668| 29304.53958333333|     600.945840855|1.9455958854166668E7|5.724648413203125E11|      2.3981028986E7| 503075.3077481875|1.7025278370695263| 8.781239707083334E8|       3630.153776803119| 3.652642435813395E8|5.2391178981379E13|2.6570360165737353E7|    421436.598029021| 661089.7083333334|507525.2291666667|             1.597902529699042E9| 28929.94739599242| 28543.41359188475|28486.720339190855|24130.069969575532|32581.348259473325| 27734.46930401817|      29392.68375|\n",
            "|2023-08-13 03:45:00|131151| 29392.68375|       29392.59375|      29474.115625|           29235.0|      29305.928125|    608.8658095125|    1.945597734375E7|5.724690335789062E11|     2.40095282994E7| 503077.7032038438|1.7026443545321643|    8.781291686875E8|      3626.4282529239767| 3.662408859438565E8|5.2391178981379E13|2.6640695685091097E7|  422874.00540359964|       661855.6875|     508269.03125|            1.6186816866121364E9|28930.177079832632| 28543.42799182854| 28487.06181048625|  24130.4201594561|32581.288667306195|27734.481947473443|         29391.34|\n",
            "|2023-08-13 04:00:00|131152|    29391.34|29391.266666666666| 29476.38333333333|29233.333333333332|29307.316666666666|      616.78577817|1.9455995833333332E7|   5.724732258375E11|2.4038027612800002E7|    503080.0986595|1.7027608719948024| 8.781343666666666E8|       3622.702729044834| 3.672175283063734E8|5.2391178981379E13|2.6711031204444844E7|   424311.4127781783| 662621.6666666666|509012.8333333333|            1.6394608435252306E9| 28930.40663588387|28543.442238369054|28487.402698597318| 24130.77020016649|32581.228955535706|27734.494580490245|      29389.99625|\n",
            "|2023-08-13 04:15:00|131153| 29389.99625|29389.939583333333|29478.651041666664|29231.666666666668|29308.705208333333|    624.7057468275|1.9456014322916668E7|5.724774180960938E11|2.4066526926200002E7| 503082.4941151563|1.7028773894574405| 8.781395646458334E8|       3618.977205165692|3.6819417066889036E8|5.2391178981379E13|2.6781366723798588E7|  425748.82015275693| 663387.6458333334|509756.6354166667|             1.660240000438325E9| 28930.63606414615| 28543.45633150631|28487.743003524058| 24131.12009170671| 32581.16912416184|27734.507203068817|       29388.6525|\n",
            "|2023-08-13 04:30:00|131154|  29388.6525|        29388.6125|29480.918749999997|           29230.0|       29310.09375|     632.625715485|     1.94560328125E7|5.724816103546875E11|2.4095026239600003E7| 503084.8895708125|1.7029939069200786|     8.78144762625E8|      3615.2516812865497| 3.691708130314073E8|5.2391178981379E13|2.6851702243152335E7|  427186.22752733564|        664153.625|      510500.4375|            1.6810191573514192E9| 28930.86536461947|28543.470271240298| 28488.08272526647|24131.469834076775|32581.109173184588| 27734.51981520939|      29387.30875|\n",
            "|2023-08-13 04:45:00|131155| 29387.30875|29387.285416666666|29483.186458333334|29228.333333333332|29311.482291666667|    640.5456841425|1.9456051302083332E7|5.724858026132812E11|      2.4123525553E7| 503087.2850264688|1.7031104243827166| 8.781499606041666E8|      3611.5261574074075|3.7014745539392424E8|5.2391178981379E13| 2.692203776250608E7|   428623.6349019143| 664919.6041666666|511244.2395833333|            1.7017983142645135E9|28931.094537303823|28543.484057571015| 28488.42186382456|24131.819427276667|32581.049102603974| 27734.53241691221|        29385.965|\n",
            "+-------------------+------+------------+------------------+------------------+------------------+------------------+------------------+--------------------+--------------------+--------------------+------------------+------------------+--------------------+------------------------+--------------------+------------------+--------------------+--------------------+------------------+-----------------+--------------------------------+------------------+------------------+------------------+------------------+------------------+------------------+-----------------+\n",
            "only showing top 20 rows\n",
            "\n",
            "Shape: (8832, 29)\n",
            "root\n",
            " |-- timestamp: timestamp_ntz (nullable = true)\n",
            " |-- id: integer (nullable = true)\n",
            " |-- market-price: double (nullable = true)\n",
            " |-- opening-price: double (nullable = true)\n",
            " |-- highest-price: double (nullable = true)\n",
            " |-- lowest-price: double (nullable = true)\n",
            " |-- closing-price: double (nullable = true)\n",
            " |-- trade-volume-btc: double (nullable = true)\n",
            " |-- total-bitcoins: double (nullable = true)\n",
            " |-- market-cap: double (nullable = true)\n",
            " |-- trade-volume-usd: double (nullable = true)\n",
            " |-- blocks-size: double (nullable = true)\n",
            " |-- avg-block-size: double (nullable = true)\n",
            " |-- n-transactions-total: double (nullable = true)\n",
            " |-- n-transactions-per-block: double (nullable = true)\n",
            " |-- hash-rate: double (nullable = true)\n",
            " |-- difficulty: double (nullable = true)\n",
            " |-- miners-revenue: double (nullable = true)\n",
            " |-- transaction-fees-usd: double (nullable = true)\n",
            " |-- n-unique-addresses: double (nullable = true)\n",
            " |-- n-transactions: double (nullable = true)\n",
            " |-- estimated-transaction-volume-usd: double (nullable = true)\n",
            " |-- sma-5-days: double (nullable = true)\n",
            " |-- sma-7-days: double (nullable = true)\n",
            " |-- sma-10-days: double (nullable = true)\n",
            " |-- sma-20-days: double (nullable = true)\n",
            " |-- sma-50-days: double (nullable = true)\n",
            " |-- sma-100-days: double (nullable = true)\n",
            " |-- next-market-price: double (nullable = true)\n",
            "\n"
          ]
        }
      ],
      "source": [
        "dataset_info(df)"
      ]
    },
    {
      "cell_type": "markdown",
      "metadata": {
        "id": "GmSuP_nGbNF-"
      },
      "source": [
        "# Load train / validation data"
      ]
    },
    {
      "cell_type": "markdown",
      "metadata": {},
      "source": [
        "❗TOFIX"
      ]
    },
    {
      "cell_type": "code",
      "execution_count": 126,
      "metadata": {
        "id": "rEfAIhHlbNF-"
      },
      "outputs": [],
      "source": [
        "# Load models results\n",
        "splits_list = [BLOCK_SPLITS_NAME, WALK_FORWARD_SPLITS_NAME, SHORT_TERM_SPLITS_NAME]\n",
        "models_list = [LR_MODEL_NAME, GLR_MODEL_NAME, RF_MODEL_NAME, GBT_MODEL_NAME]\n",
        "train_valid_results = pd.DataFrame(columns=['Model', 'Type', 'Dataset', 'Splitting', 'Features', 'Parameters', 'RMSE', 'MSE', 'MAE', 'MAPE', 'R2', 'Adjusted_R2', 'Time'])\n",
        "train_valid_accuracy = pd.DataFrame(columns=['Model', 'Features', 'Splitting', 'Accuracy (default)', 'Accuracy (tuned)'])\n",
        "for split in splits_list:\n",
        "    for model in models_list:\n",
        "        if split == BLOCK_SPLITS_NAME:\n",
        "            train_valid_results = pd.concat([train_valid_results, pd.read_csv(RESULTS_DIR + \"/\" + split + \"/\" + model + \"_rel.csv\")], ignore_index=True)\n",
        "            train_valid_accuracy = pd.concat([train_valid_accuracy, pd.read_csv(RESULTS_DIR + \"/\" + split + \"/\" + model + \"_accuracy.csv\")], ignore_index=True)\n",
        "        elif split == WALK_FORWARD_SPLITS_NAME:\n",
        "            train_valid_results = pd.concat([train_valid_results, pd.read_csv(RESULTS_DIR + \"/\" + split + \"/\" + model + \"_rel.csv\")], ignore_index=True)\n",
        "            train_valid_accuracy = pd.concat([train_valid_accuracy, pd.read_csv(RESULTS_DIR + \"/\" + split + \"/\" + model + \"_accuracy.csv\")], ignore_index=True)\n",
        "        elif split == SHORT_TERM_SPLITS_NAME:\n",
        "            train_valid_results = pd.concat([train_valid_results, pd.read_csv(RESULTS_DIR + \"/\" + split + \"/\" + model + \"_rel.csv\")], ignore_index=True)\n",
        "            train_valid_accuracy = pd.concat([train_valid_accuracy, pd.read_csv(RESULTS_DIR + \"/\" + split + \"/\" + model + \"_accuracy.csv\")], ignore_index=True)\n",
        "\n",
        "# Make a copy of the original data\n",
        "train_valid_results_copy = train_valid_results.copy()\n",
        "train_valid_accuracy_copy = train_valid_accuracy.copy()\n",
        "\n",
        "# Mapping for models names\n",
        "model_mapping = {\n",
        "    \"LinearRegression\": \"LR\",\n",
        "    \"GeneralizedLinearRegression\": \"GLR\",\n",
        "    \"RandomForestRegressor\": \"RF\",\n",
        "    \"GradientBoostingTreeRegressor\": \"GBTR\",\n",
        "}\n",
        "\n",
        "# Mapping for splits names\n",
        "splitting_mapping = {\n",
        "    \"block_splits\": \"Block splits\",\n",
        "    \"walk_forward_splits\": \"Walk-forward splits\",\n",
        "    \"single_split\": \"Single split\"\n",
        "}\n",
        "\n",
        "# Rename come values\n",
        "train_valid_results_copy['Model'] = train_valid_results_copy['Model'].replace(model_mapping)\n",
        "train_valid_results_copy['Splitting'] = train_valid_results_copy['Splitting'].replace(splitting_mapping)\n",
        "train_valid_accuracy_copy['Model'] = train_valid_accuracy_copy['Model'].replace(model_mapping)\n",
        "train_valid_accuracy_copy['Splitting'] = train_valid_accuracy_copy['Splitting'].replace(splitting_mapping)"
      ]
    },
    {
      "cell_type": "code",
      "execution_count": 127,
      "metadata": {
        "colab": {
          "base_uri": "https://localhost:8080/",
          "height": 802
        },
        "id": "JSBMKeEh4tMG",
        "outputId": "0e02d317-0c20-4a97-a93e-63c8f7113fd4"
      },
      "outputs": [
        {
          "data": {
            "text/html": [
              "<div>\n",
              "<style scoped>\n",
              "    .dataframe tbody tr th:only-of-type {\n",
              "        vertical-align: middle;\n",
              "    }\n",
              "\n",
              "    .dataframe tbody tr th {\n",
              "        vertical-align: top;\n",
              "    }\n",
              "\n",
              "    .dataframe thead th {\n",
              "        text-align: right;\n",
              "    }\n",
              "</style>\n",
              "<table border=\"1\" class=\"dataframe\">\n",
              "  <thead>\n",
              "    <tr style=\"text-align: right;\">\n",
              "      <th></th>\n",
              "      <th>Model</th>\n",
              "      <th>Type</th>\n",
              "      <th>Dataset</th>\n",
              "      <th>Splitting</th>\n",
              "      <th>Features</th>\n",
              "      <th>Parameters</th>\n",
              "      <th>RMSE</th>\n",
              "      <th>MSE</th>\n",
              "      <th>MAE</th>\n",
              "      <th>MAPE</th>\n",
              "      <th>R2</th>\n",
              "      <th>Adjusted_R2</th>\n",
              "      <th>Time</th>\n",
              "    </tr>\n",
              "  </thead>\n",
              "  <tbody>\n",
              "    <tr>\n",
              "      <th>0</th>\n",
              "      <td>LinearRegression</td>\n",
              "      <td>default_norm</td>\n",
              "      <td>valid</td>\n",
              "      <td>block_splits</td>\n",
              "      <td>base_and_least_corr_features_norm</td>\n",
              "      <td>[100, 0.0, 0.0]</td>\n",
              "      <td>2227.412278</td>\n",
              "      <td>8.171259e+06</td>\n",
              "      <td>1870.345923</td>\n",
              "      <td>0.052480</td>\n",
              "      <td>-1.631054</td>\n",
              "      <td>-1.633063</td>\n",
              "      <td>0.461474</td>\n",
              "    </tr>\n",
              "    <tr>\n",
              "      <th>1</th>\n",
              "      <td>LinearRegression</td>\n",
              "      <td>cross_val</td>\n",
              "      <td>valid</td>\n",
              "      <td>block_splits</td>\n",
              "      <td>base_and_least_corr_features_norm</td>\n",
              "      <td>[5, 0.8, 0.0]</td>\n",
              "      <td>1032.704613</td>\n",
              "      <td>1.732495e+06</td>\n",
              "      <td>776.557626</td>\n",
              "      <td>0.022809</td>\n",
              "      <td>0.583006</td>\n",
              "      <td>0.582688</td>\n",
              "      <td>0.301061</td>\n",
              "    </tr>\n",
              "    <tr>\n",
              "      <th>2</th>\n",
              "      <td>GeneralizedLinearRegression</td>\n",
              "      <td>default_norm</td>\n",
              "      <td>valid</td>\n",
              "      <td>block_splits</td>\n",
              "      <td>base_and_least_corr_features_norm</td>\n",
              "      <td>[25, 0]</td>\n",
              "      <td>2227.412278</td>\n",
              "      <td>8.171259e+06</td>\n",
              "      <td>1870.345923</td>\n",
              "      <td>0.052480</td>\n",
              "      <td>-1.631054</td>\n",
              "      <td>-1.633063</td>\n",
              "      <td>0.363326</td>\n",
              "    </tr>\n",
              "    <tr>\n",
              "      <th>3</th>\n",
              "      <td>GeneralizedLinearRegression</td>\n",
              "      <td>cross_val</td>\n",
              "      <td>valid</td>\n",
              "      <td>block_splits</td>\n",
              "      <td>base_and_least_corr_features_norm</td>\n",
              "      <td>[5, 0.1, 'gaussian', 'log']</td>\n",
              "      <td>1613.055150</td>\n",
              "      <td>4.358777e+06</td>\n",
              "      <td>1318.116337</td>\n",
              "      <td>0.036782</td>\n",
              "      <td>0.253175</td>\n",
              "      <td>0.252605</td>\n",
              "      <td>0.241773</td>\n",
              "    </tr>\n",
              "    <tr>\n",
              "      <th>4</th>\n",
              "      <td>RandomForestRegressor</td>\n",
              "      <td>default</td>\n",
              "      <td>valid</td>\n",
              "      <td>block_splits</td>\n",
              "      <td>base_features</td>\n",
              "      <td>[20, 5, 42]</td>\n",
              "      <td>874.913453</td>\n",
              "      <td>8.768811e+05</td>\n",
              "      <td>579.679197</td>\n",
              "      <td>0.022112</td>\n",
              "      <td>0.337898</td>\n",
              "      <td>0.337393</td>\n",
              "      <td>1.108412</td>\n",
              "    </tr>\n",
              "    <tr>\n",
              "      <th>5</th>\n",
              "      <td>RandomForestRegressor</td>\n",
              "      <td>cross_val</td>\n",
              "      <td>valid</td>\n",
              "      <td>block_splits</td>\n",
              "      <td>base_features</td>\n",
              "      <td>[30, 10, 42]</td>\n",
              "      <td>772.597736</td>\n",
              "      <td>7.135922e+05</td>\n",
              "      <td>497.460229</td>\n",
              "      <td>0.018699</td>\n",
              "      <td>0.530111</td>\n",
              "      <td>0.529753</td>\n",
              "      <td>2.466774</td>\n",
              "    </tr>\n",
              "    <tr>\n",
              "      <th>6</th>\n",
              "      <td>GradientBoostingTreeRegressor</td>\n",
              "      <td>default</td>\n",
              "      <td>valid</td>\n",
              "      <td>block_splits</td>\n",
              "      <td>base_features</td>\n",
              "      <td>[20, 5, 0.1, 42]</td>\n",
              "      <td>694.841380</td>\n",
              "      <td>6.411613e+05</td>\n",
              "      <td>446.415138</td>\n",
              "      <td>0.016936</td>\n",
              "      <td>0.763292</td>\n",
              "      <td>0.763111</td>\n",
              "      <td>5.696860</td>\n",
              "    </tr>\n",
              "    <tr>\n",
              "      <th>7</th>\n",
              "      <td>GradientBoostingTreeRegressor</td>\n",
              "      <td>cross_val</td>\n",
              "      <td>valid</td>\n",
              "      <td>block_splits</td>\n",
              "      <td>base_features</td>\n",
              "      <td>[3, 5, 0.1, 42]</td>\n",
              "      <td>732.282155</td>\n",
              "      <td>7.287943e+05</td>\n",
              "      <td>478.257071</td>\n",
              "      <td>0.018009</td>\n",
              "      <td>0.735400</td>\n",
              "      <td>0.735198</td>\n",
              "      <td>1.069041</td>\n",
              "    </tr>\n",
              "    <tr>\n",
              "      <th>8</th>\n",
              "      <td>LinearRegression</td>\n",
              "      <td>default_norm</td>\n",
              "      <td>valid</td>\n",
              "      <td>walk_forward_splits</td>\n",
              "      <td>base_and_least_corr_features_norm</td>\n",
              "      <td>[100, 0.0, 0.0]</td>\n",
              "      <td>1743.625346</td>\n",
              "      <td>5.340021e+06</td>\n",
              "      <td>1496.804362</td>\n",
              "      <td>0.043785</td>\n",
              "      <td>0.360428</td>\n",
              "      <td>0.359915</td>\n",
              "      <td>0.394546</td>\n",
              "    </tr>\n",
              "    <tr>\n",
              "      <th>9</th>\n",
              "      <td>LinearRegression</td>\n",
              "      <td>cross_val</td>\n",
              "      <td>valid</td>\n",
              "      <td>walk_forward_splits</td>\n",
              "      <td>base_features_norm</td>\n",
              "      <td>[5, 0.0, 0.0]</td>\n",
              "      <td>1664.415862</td>\n",
              "      <td>4.874436e+06</td>\n",
              "      <td>1430.474180</td>\n",
              "      <td>0.041731</td>\n",
              "      <td>0.435987</td>\n",
              "      <td>0.435535</td>\n",
              "      <td>0.317339</td>\n",
              "    </tr>\n",
              "    <tr>\n",
              "      <th>10</th>\n",
              "      <td>GeneralizedLinearRegression</td>\n",
              "      <td>default_norm</td>\n",
              "      <td>valid</td>\n",
              "      <td>walk_forward_splits</td>\n",
              "      <td>base_and_least_corr_features_norm</td>\n",
              "      <td>[25, 0]</td>\n",
              "      <td>1743.625346</td>\n",
              "      <td>5.340021e+06</td>\n",
              "      <td>1496.804362</td>\n",
              "      <td>0.043785</td>\n",
              "      <td>0.360428</td>\n",
              "      <td>0.359915</td>\n",
              "      <td>0.353580</td>\n",
              "    </tr>\n",
              "    <tr>\n",
              "      <th>11</th>\n",
              "      <td>GeneralizedLinearRegression</td>\n",
              "      <td>cross_val</td>\n",
              "      <td>valid</td>\n",
              "      <td>walk_forward_splits</td>\n",
              "      <td>base_features_norm</td>\n",
              "      <td>[5, 0.1, 'gaussian', 'log']</td>\n",
              "      <td>1525.049433</td>\n",
              "      <td>4.367730e+06</td>\n",
              "      <td>1293.502172</td>\n",
              "      <td>0.038137</td>\n",
              "      <td>0.609120</td>\n",
              "      <td>0.608807</td>\n",
              "      <td>0.299962</td>\n",
              "    </tr>\n",
              "    <tr>\n",
              "      <th>12</th>\n",
              "      <td>RandomForestRegressor</td>\n",
              "      <td>default</td>\n",
              "      <td>valid</td>\n",
              "      <td>walk_forward_splits</td>\n",
              "      <td>base_features</td>\n",
              "      <td>[20, 5, 42]</td>\n",
              "      <td>2370.519970</td>\n",
              "      <td>1.560697e+07</td>\n",
              "      <td>1896.375868</td>\n",
              "      <td>0.065433</td>\n",
              "      <td>-0.305707</td>\n",
              "      <td>-0.306753</td>\n",
              "      <td>0.784659</td>\n",
              "    </tr>\n",
              "    <tr>\n",
              "      <th>13</th>\n",
              "      <td>RandomForestRegressor</td>\n",
              "      <td>cross_val</td>\n",
              "      <td>valid</td>\n",
              "      <td>walk_forward_splits</td>\n",
              "      <td>base_features</td>\n",
              "      <td>[10, 10, 42]</td>\n",
              "      <td>2317.720799</td>\n",
              "      <td>1.506747e+07</td>\n",
              "      <td>1860.292781</td>\n",
              "      <td>0.064125</td>\n",
              "      <td>-0.248253</td>\n",
              "      <td>-0.249252</td>\n",
              "      <td>1.193277</td>\n",
              "    </tr>\n",
              "    <tr>\n",
              "      <th>14</th>\n",
              "      <td>GradientBoostingTreeRegressor</td>\n",
              "      <td>default</td>\n",
              "      <td>valid</td>\n",
              "      <td>walk_forward_splits</td>\n",
              "      <td>base_features</td>\n",
              "      <td>[20, 5, 0.1, 42]</td>\n",
              "      <td>2364.160981</td>\n",
              "      <td>1.604835e+07</td>\n",
              "      <td>1891.399556</td>\n",
              "      <td>0.064908</td>\n",
              "      <td>-0.305974</td>\n",
              "      <td>-0.307020</td>\n",
              "      <td>5.257090</td>\n",
              "    </tr>\n",
              "    <tr>\n",
              "      <th>15</th>\n",
              "      <td>GradientBoostingTreeRegressor</td>\n",
              "      <td>cross_val</td>\n",
              "      <td>valid</td>\n",
              "      <td>walk_forward_splits</td>\n",
              "      <td>base_features</td>\n",
              "      <td>[20, 3, 0.7, 42]</td>\n",
              "      <td>2665.683991</td>\n",
              "      <td>1.761518e+07</td>\n",
              "      <td>2144.798023</td>\n",
              "      <td>0.071177</td>\n",
              "      <td>-0.428705</td>\n",
              "      <td>-0.429849</td>\n",
              "      <td>3.506930</td>\n",
              "    </tr>\n",
              "    <tr>\n",
              "      <th>16</th>\n",
              "      <td>LinearRegression</td>\n",
              "      <td>default_norm</td>\n",
              "      <td>valid</td>\n",
              "      <td>single_split</td>\n",
              "      <td>base_and_most_corr_features_norm</td>\n",
              "      <td>[100, 0.0, 0.0]</td>\n",
              "      <td>829.037237</td>\n",
              "      <td>6.873027e+05</td>\n",
              "      <td>672.362273</td>\n",
              "      <td>0.022838</td>\n",
              "      <td>-3.016081</td>\n",
              "      <td>-3.021488</td>\n",
              "      <td>0.474346</td>\n",
              "    </tr>\n",
              "    <tr>\n",
              "      <th>17</th>\n",
              "      <td>LinearRegression</td>\n",
              "      <td>tuned</td>\n",
              "      <td>valid</td>\n",
              "      <td>single_split</td>\n",
              "      <td>base_and_most_corr_features_norm</td>\n",
              "      <td>[100, 0.4, 0.4]</td>\n",
              "      <td>740.863292</td>\n",
              "      <td>5.488784e+05</td>\n",
              "      <td>598.659006</td>\n",
              "      <td>0.020342</td>\n",
              "      <td>-2.207233</td>\n",
              "      <td>-2.211551</td>\n",
              "      <td>0.386492</td>\n",
              "    </tr>\n",
              "    <tr>\n",
              "      <th>18</th>\n",
              "      <td>GeneralizedLinearRegression</td>\n",
              "      <td>default_norm</td>\n",
              "      <td>valid</td>\n",
              "      <td>single_split</td>\n",
              "      <td>base_and_most_corr_features_norm</td>\n",
              "      <td>[25, 0]</td>\n",
              "      <td>829.037237</td>\n",
              "      <td>6.873027e+05</td>\n",
              "      <td>672.362273</td>\n",
              "      <td>0.022838</td>\n",
              "      <td>-3.016081</td>\n",
              "      <td>-3.021488</td>\n",
              "      <td>0.397953</td>\n",
              "    </tr>\n",
              "    <tr>\n",
              "      <th>19</th>\n",
              "      <td>GeneralizedLinearRegression</td>\n",
              "      <td>tuned</td>\n",
              "      <td>valid</td>\n",
              "      <td>single_split</td>\n",
              "      <td>base_and_most_corr_features_norm</td>\n",
              "      <td>[5, 0.2, 'gaussian', 'log']</td>\n",
              "      <td>826.880193</td>\n",
              "      <td>6.837309e+05</td>\n",
              "      <td>670.745304</td>\n",
              "      <td>0.022783</td>\n",
              "      <td>-2.995210</td>\n",
              "      <td>-3.000589</td>\n",
              "      <td>0.415987</td>\n",
              "    </tr>\n",
              "    <tr>\n",
              "      <th>20</th>\n",
              "      <td>RandomForestRegressor</td>\n",
              "      <td>default</td>\n",
              "      <td>valid</td>\n",
              "      <td>single_split</td>\n",
              "      <td>base_features</td>\n",
              "      <td>[20, 5, 42]</td>\n",
              "      <td>295.776578</td>\n",
              "      <td>8.748378e+04</td>\n",
              "      <td>257.163021</td>\n",
              "      <td>0.008718</td>\n",
              "      <td>0.488810</td>\n",
              "      <td>0.488122</td>\n",
              "      <td>2.542516</td>\n",
              "    </tr>\n",
              "    <tr>\n",
              "      <th>21</th>\n",
              "      <td>RandomForestRegressor</td>\n",
              "      <td>tuned</td>\n",
              "      <td>valid</td>\n",
              "      <td>single_split</td>\n",
              "      <td>base_features</td>\n",
              "      <td>[5, 10, 42]</td>\n",
              "      <td>287.790852</td>\n",
              "      <td>8.282357e+04</td>\n",
              "      <td>185.883301</td>\n",
              "      <td>0.006263</td>\n",
              "      <td>0.516041</td>\n",
              "      <td>0.515390</td>\n",
              "      <td>1.267831</td>\n",
              "    </tr>\n",
              "    <tr>\n",
              "      <th>22</th>\n",
              "      <td>GradientBoostingTreeRegressor</td>\n",
              "      <td>default</td>\n",
              "      <td>valid</td>\n",
              "      <td>single_split</td>\n",
              "      <td>base_and_least_corr_features</td>\n",
              "      <td>[20, 5, 0.1, 42]</td>\n",
              "      <td>201.127786</td>\n",
              "      <td>4.045239e+04</td>\n",
              "      <td>176.246971</td>\n",
              "      <td>0.005960</td>\n",
              "      <td>0.763627</td>\n",
              "      <td>0.763308</td>\n",
              "      <td>5.756963</td>\n",
              "    </tr>\n",
              "    <tr>\n",
              "      <th>23</th>\n",
              "      <td>GradientBoostingTreeRegressor</td>\n",
              "      <td>tuned</td>\n",
              "      <td>valid</td>\n",
              "      <td>single_split</td>\n",
              "      <td>base_and_least_corr_features</td>\n",
              "      <td>[3, 5, 0.3, 42]</td>\n",
              "      <td>181.871695</td>\n",
              "      <td>3.307731e+04</td>\n",
              "      <td>151.631595</td>\n",
              "      <td>0.005134</td>\n",
              "      <td>0.806721</td>\n",
              "      <td>0.806461</td>\n",
              "      <td>1.309767</td>\n",
              "    </tr>\n",
              "  </tbody>\n",
              "</table>\n",
              "</div>"
            ],
            "text/plain": [
              "                            Model          Type Dataset            Splitting  \\\n",
              "0                LinearRegression  default_norm   valid         block_splits   \n",
              "1                LinearRegression     cross_val   valid         block_splits   \n",
              "2     GeneralizedLinearRegression  default_norm   valid         block_splits   \n",
              "3     GeneralizedLinearRegression     cross_val   valid         block_splits   \n",
              "4           RandomForestRegressor       default   valid         block_splits   \n",
              "5           RandomForestRegressor     cross_val   valid         block_splits   \n",
              "6   GradientBoostingTreeRegressor       default   valid         block_splits   \n",
              "7   GradientBoostingTreeRegressor     cross_val   valid         block_splits   \n",
              "8                LinearRegression  default_norm   valid  walk_forward_splits   \n",
              "9                LinearRegression     cross_val   valid  walk_forward_splits   \n",
              "10    GeneralizedLinearRegression  default_norm   valid  walk_forward_splits   \n",
              "11    GeneralizedLinearRegression     cross_val   valid  walk_forward_splits   \n",
              "12          RandomForestRegressor       default   valid  walk_forward_splits   \n",
              "13          RandomForestRegressor     cross_val   valid  walk_forward_splits   \n",
              "14  GradientBoostingTreeRegressor       default   valid  walk_forward_splits   \n",
              "15  GradientBoostingTreeRegressor     cross_val   valid  walk_forward_splits   \n",
              "16               LinearRegression  default_norm   valid         single_split   \n",
              "17               LinearRegression         tuned   valid         single_split   \n",
              "18    GeneralizedLinearRegression  default_norm   valid         single_split   \n",
              "19    GeneralizedLinearRegression         tuned   valid         single_split   \n",
              "20          RandomForestRegressor       default   valid         single_split   \n",
              "21          RandomForestRegressor         tuned   valid         single_split   \n",
              "22  GradientBoostingTreeRegressor       default   valid         single_split   \n",
              "23  GradientBoostingTreeRegressor         tuned   valid         single_split   \n",
              "\n",
              "                             Features                   Parameters  \\\n",
              "0   base_and_least_corr_features_norm              [100, 0.0, 0.0]   \n",
              "1   base_and_least_corr_features_norm                [5, 0.8, 0.0]   \n",
              "2   base_and_least_corr_features_norm                      [25, 0]   \n",
              "3   base_and_least_corr_features_norm  [5, 0.1, 'gaussian', 'log']   \n",
              "4                       base_features                  [20, 5, 42]   \n",
              "5                       base_features                 [30, 10, 42]   \n",
              "6                       base_features             [20, 5, 0.1, 42]   \n",
              "7                       base_features              [3, 5, 0.1, 42]   \n",
              "8   base_and_least_corr_features_norm              [100, 0.0, 0.0]   \n",
              "9                  base_features_norm                [5, 0.0, 0.0]   \n",
              "10  base_and_least_corr_features_norm                      [25, 0]   \n",
              "11                 base_features_norm  [5, 0.1, 'gaussian', 'log']   \n",
              "12                      base_features                  [20, 5, 42]   \n",
              "13                      base_features                 [10, 10, 42]   \n",
              "14                      base_features             [20, 5, 0.1, 42]   \n",
              "15                      base_features             [20, 3, 0.7, 42]   \n",
              "16   base_and_most_corr_features_norm              [100, 0.0, 0.0]   \n",
              "17   base_and_most_corr_features_norm              [100, 0.4, 0.4]   \n",
              "18   base_and_most_corr_features_norm                      [25, 0]   \n",
              "19   base_and_most_corr_features_norm  [5, 0.2, 'gaussian', 'log']   \n",
              "20                      base_features                  [20, 5, 42]   \n",
              "21                      base_features                  [5, 10, 42]   \n",
              "22       base_and_least_corr_features             [20, 5, 0.1, 42]   \n",
              "23       base_and_least_corr_features              [3, 5, 0.3, 42]   \n",
              "\n",
              "           RMSE           MSE          MAE      MAPE        R2  Adjusted_R2  \\\n",
              "0   2227.412278  8.171259e+06  1870.345923  0.052480 -1.631054    -1.633063   \n",
              "1   1032.704613  1.732495e+06   776.557626  0.022809  0.583006     0.582688   \n",
              "2   2227.412278  8.171259e+06  1870.345923  0.052480 -1.631054    -1.633063   \n",
              "3   1613.055150  4.358777e+06  1318.116337  0.036782  0.253175     0.252605   \n",
              "4    874.913453  8.768811e+05   579.679197  0.022112  0.337898     0.337393   \n",
              "5    772.597736  7.135922e+05   497.460229  0.018699  0.530111     0.529753   \n",
              "6    694.841380  6.411613e+05   446.415138  0.016936  0.763292     0.763111   \n",
              "7    732.282155  7.287943e+05   478.257071  0.018009  0.735400     0.735198   \n",
              "8   1743.625346  5.340021e+06  1496.804362  0.043785  0.360428     0.359915   \n",
              "9   1664.415862  4.874436e+06  1430.474180  0.041731  0.435987     0.435535   \n",
              "10  1743.625346  5.340021e+06  1496.804362  0.043785  0.360428     0.359915   \n",
              "11  1525.049433  4.367730e+06  1293.502172  0.038137  0.609120     0.608807   \n",
              "12  2370.519970  1.560697e+07  1896.375868  0.065433 -0.305707    -0.306753   \n",
              "13  2317.720799  1.506747e+07  1860.292781  0.064125 -0.248253    -0.249252   \n",
              "14  2364.160981  1.604835e+07  1891.399556  0.064908 -0.305974    -0.307020   \n",
              "15  2665.683991  1.761518e+07  2144.798023  0.071177 -0.428705    -0.429849   \n",
              "16   829.037237  6.873027e+05   672.362273  0.022838 -3.016081    -3.021488   \n",
              "17   740.863292  5.488784e+05   598.659006  0.020342 -2.207233    -2.211551   \n",
              "18   829.037237  6.873027e+05   672.362273  0.022838 -3.016081    -3.021488   \n",
              "19   826.880193  6.837309e+05   670.745304  0.022783 -2.995210    -3.000589   \n",
              "20   295.776578  8.748378e+04   257.163021  0.008718  0.488810     0.488122   \n",
              "21   287.790852  8.282357e+04   185.883301  0.006263  0.516041     0.515390   \n",
              "22   201.127786  4.045239e+04   176.246971  0.005960  0.763627     0.763308   \n",
              "23   181.871695  3.307731e+04   151.631595  0.005134  0.806721     0.806461   \n",
              "\n",
              "        Time  \n",
              "0   0.461474  \n",
              "1   0.301061  \n",
              "2   0.363326  \n",
              "3   0.241773  \n",
              "4   1.108412  \n",
              "5   2.466774  \n",
              "6   5.696860  \n",
              "7   1.069041  \n",
              "8   0.394546  \n",
              "9   0.317339  \n",
              "10  0.353580  \n",
              "11  0.299962  \n",
              "12  0.784659  \n",
              "13  1.193277  \n",
              "14  5.257090  \n",
              "15  3.506930  \n",
              "16  0.474346  \n",
              "17  0.386492  \n",
              "18  0.397953  \n",
              "19  0.415987  \n",
              "20  2.542516  \n",
              "21  1.267831  \n",
              "22  5.756963  \n",
              "23  1.309767  "
            ]
          },
          "execution_count": 127,
          "metadata": {},
          "output_type": "execute_result"
        }
      ],
      "source": [
        "train_valid_results"
      ]
    },
    {
      "cell_type": "code",
      "execution_count": 128,
      "metadata": {
        "colab": {
          "base_uri": "https://localhost:8080/",
          "height": 426
        },
        "id": "cGfSmxmr4uHQ",
        "outputId": "2bd37747-9600-455c-f343-01658ddf0721"
      },
      "outputs": [
        {
          "data": {
            "text/html": [
              "<div>\n",
              "<style scoped>\n",
              "    .dataframe tbody tr th:only-of-type {\n",
              "        vertical-align: middle;\n",
              "    }\n",
              "\n",
              "    .dataframe tbody tr th {\n",
              "        vertical-align: top;\n",
              "    }\n",
              "\n",
              "    .dataframe thead th {\n",
              "        text-align: right;\n",
              "    }\n",
              "</style>\n",
              "<table border=\"1\" class=\"dataframe\">\n",
              "  <thead>\n",
              "    <tr style=\"text-align: right;\">\n",
              "      <th></th>\n",
              "      <th>Model</th>\n",
              "      <th>Features</th>\n",
              "      <th>Splitting</th>\n",
              "      <th>Accuracy (default)</th>\n",
              "      <th>Accuracy (tuned)</th>\n",
              "    </tr>\n",
              "  </thead>\n",
              "  <tbody>\n",
              "    <tr>\n",
              "      <th>0</th>\n",
              "      <td>LinearRegression</td>\n",
              "      <td>base_and_least_corr_features_norm</td>\n",
              "      <td>block_splits</td>\n",
              "      <td>48.211971</td>\n",
              "      <td>46.164697</td>\n",
              "    </tr>\n",
              "    <tr>\n",
              "      <th>1</th>\n",
              "      <td>GeneralizedLinearRegression</td>\n",
              "      <td>base_and_least_corr_features_norm</td>\n",
              "      <td>block_splits</td>\n",
              "      <td>48.211971</td>\n",
              "      <td>48.215783</td>\n",
              "    </tr>\n",
              "    <tr>\n",
              "      <th>2</th>\n",
              "      <td>RandomForestRegressor</td>\n",
              "      <td>base_features</td>\n",
              "      <td>block_splits</td>\n",
              "      <td>53.808616</td>\n",
              "      <td>54.292795</td>\n",
              "    </tr>\n",
              "    <tr>\n",
              "      <th>3</th>\n",
              "      <td>GradientBoostingTreeRegressor</td>\n",
              "      <td>base_features</td>\n",
              "      <td>block_splits</td>\n",
              "      <td>51.044605</td>\n",
              "      <td>50.171559</td>\n",
              "    </tr>\n",
              "    <tr>\n",
              "      <th>4</th>\n",
              "      <td>LinearRegression</td>\n",
              "      <td>base_features_norm</td>\n",
              "      <td>walk_forward_splits</td>\n",
              "      <td>48.015455</td>\n",
              "      <td>50.306364</td>\n",
              "    </tr>\n",
              "    <tr>\n",
              "      <th>5</th>\n",
              "      <td>GeneralizedLinearRegression</td>\n",
              "      <td>base_features_norm</td>\n",
              "      <td>walk_forward_splits</td>\n",
              "      <td>48.015455</td>\n",
              "      <td>47.985455</td>\n",
              "    </tr>\n",
              "    <tr>\n",
              "      <th>6</th>\n",
              "      <td>RandomForestRegressor</td>\n",
              "      <td>base_features</td>\n",
              "      <td>walk_forward_splits</td>\n",
              "      <td>50.989091</td>\n",
              "      <td>51.544545</td>\n",
              "    </tr>\n",
              "    <tr>\n",
              "      <th>7</th>\n",
              "      <td>GradientBoostingTreeRegressor</td>\n",
              "      <td>base_features</td>\n",
              "      <td>walk_forward_splits</td>\n",
              "      <td>49.032727</td>\n",
              "      <td>50.008182</td>\n",
              "    </tr>\n",
              "    <tr>\n",
              "      <th>8</th>\n",
              "      <td>LinearRegression</td>\n",
              "      <td>base_and_most_corr_features_norm</td>\n",
              "      <td>single_split</td>\n",
              "      <td>46.706989</td>\n",
              "      <td>50.268817</td>\n",
              "    </tr>\n",
              "    <tr>\n",
              "      <th>9</th>\n",
              "      <td>GeneralizedLinearRegression</td>\n",
              "      <td>base_and_most_corr_features_norm</td>\n",
              "      <td>single_split</td>\n",
              "      <td>46.706989</td>\n",
              "      <td>46.673387</td>\n",
              "    </tr>\n",
              "    <tr>\n",
              "      <th>10</th>\n",
              "      <td>RandomForestRegressor</td>\n",
              "      <td>base_features</td>\n",
              "      <td>single_split</td>\n",
              "      <td>49.663978</td>\n",
              "      <td>46.875000</td>\n",
              "    </tr>\n",
              "    <tr>\n",
              "      <th>11</th>\n",
              "      <td>GradientBoostingTreeRegressor</td>\n",
              "      <td>base_and_least_corr_features</td>\n",
              "      <td>single_split</td>\n",
              "      <td>54.536290</td>\n",
              "      <td>55.779570</td>\n",
              "    </tr>\n",
              "  </tbody>\n",
              "</table>\n",
              "</div>"
            ],
            "text/plain": [
              "                            Model                           Features  \\\n",
              "0                LinearRegression  base_and_least_corr_features_norm   \n",
              "1     GeneralizedLinearRegression  base_and_least_corr_features_norm   \n",
              "2           RandomForestRegressor                      base_features   \n",
              "3   GradientBoostingTreeRegressor                      base_features   \n",
              "4                LinearRegression                 base_features_norm   \n",
              "5     GeneralizedLinearRegression                 base_features_norm   \n",
              "6           RandomForestRegressor                      base_features   \n",
              "7   GradientBoostingTreeRegressor                      base_features   \n",
              "8                LinearRegression   base_and_most_corr_features_norm   \n",
              "9     GeneralizedLinearRegression   base_and_most_corr_features_norm   \n",
              "10          RandomForestRegressor                      base_features   \n",
              "11  GradientBoostingTreeRegressor       base_and_least_corr_features   \n",
              "\n",
              "              Splitting  Accuracy (default)  Accuracy (tuned)  \n",
              "0          block_splits           48.211971         46.164697  \n",
              "1          block_splits           48.211971         48.215783  \n",
              "2          block_splits           53.808616         54.292795  \n",
              "3          block_splits           51.044605         50.171559  \n",
              "4   walk_forward_splits           48.015455         50.306364  \n",
              "5   walk_forward_splits           48.015455         47.985455  \n",
              "6   walk_forward_splits           50.989091         51.544545  \n",
              "7   walk_forward_splits           49.032727         50.008182  \n",
              "8          single_split           46.706989         50.268817  \n",
              "9          single_split           46.706989         46.673387  \n",
              "10         single_split           49.663978         46.875000  \n",
              "11         single_split           54.536290         55.779570  "
            ]
          },
          "execution_count": 128,
          "metadata": {},
          "output_type": "execute_result"
        }
      ],
      "source": [
        "train_valid_accuracy"
      ]
    },
    {
      "cell_type": "code",
      "execution_count": null,
      "metadata": {},
      "outputs": [],
      "source": [
        "#Plotting parameters\n",
        "colors = ['blue', 'coral']\n",
        "legend = [\"Default\", \"Tuned\"]\n",
        "\n",
        "# Mapping for type names\n",
        "type_mapping = {\n",
        "    \"default_norm\": \"Default\",\n",
        "    \"default\": \"Default\",\n",
        "    \"cross_val\": \"Tuned\",\n",
        "    \"tuned\": \"Tuned\",\n",
        "}"
      ]
    },
    {
      "cell_type": "code",
      "execution_count": 144,
      "metadata": {},
      "outputs": [
        {
          "data": {
            "image/png": "[encoded data removed]",
            "text/plain": [
              "<Figure size 1500x1000 with 12 Axes>"
            ]
          },
          "metadata": {},
          "output_type": "display_data"
        }
      ],
      "source": [
        "train_valid_results_copy['Type'] = train_valid_results_copy['Type'].replace(type_mapping)\n",
        "\n",
        "fig, axs = plt.subplots(3, 4, figsize=(15, 10))\n",
        "axs = axs.flatten()\n",
        "\n",
        "grouped = train_valid_results_copy.groupby(['Splitting', 'Model'])\n",
        "\n",
        "for ((splitting, model), group), ax in zip(grouped, axs):\n",
        "    bar_plot = group.plot.bar(x='Type', y='RMSE', ax=ax, title=f'{model} ({splitting})', color=colors, legend=False)\n",
        "    bar_plot.set_xticklabels(bar_plot.get_xticklabels(), rotation=0)\n",
        "    bar_plot.set_ylabel('RMSE')\n",
        "\n",
        "\n",
        "plt.tight_layout()\n",
        "plt.show()"
      ]
    },
    {
      "cell_type": "code",
      "execution_count": 146,
      "metadata": {},
      "outputs": [
        {
          "data": {
            "image/png": "[encoded data removed]",
            "text/plain": [
              "<Figure size 1500x1000 with 12 Axes>"
            ]
          },
          "metadata": {},
          "output_type": "display_data"
        }
      ],
      "source": [
        "train_valid_results_copy['Type'] = train_valid_results_copy['Type'].replace(type_mapping)\n",
        "\n",
        "fig, axs = plt.subplots(3, 4, figsize=(15, 10))\n",
        "axs = axs.flatten()\n",
        "\n",
        "grouped = train_valid_results_copy.groupby(['Splitting', 'Model'])\n",
        "\n",
        "for ((splitting, model), group), ax in zip(grouped, axs):\n",
        "    bar_plot = group.plot.bar(x='Type', y='R2', ax=ax, title=f'{model} ({splitting})', color=colors, legend=False)\n",
        "    bar_plot.set_xticklabels(bar_plot.get_xticklabels(), rotation=0)\n",
        "    bar_plot.set_ylabel('R2')\n",
        "\n",
        "plt.tight_layout()\n",
        "plt.show()"
      ]
    },
    {
      "cell_type": "code",
      "execution_count": 145,
      "metadata": {},
      "outputs": [
        {
          "ename": "NameError",
          "evalue": "name 'legend' is not defined",
          "output_type": "error",
          "traceback": [
            "\u001b[1;31m---------------------------------------------------------------------------\u001b[0m",
            "\u001b[1;31mNameError\u001b[0m                                 Traceback (most recent call last)",
            "\u001b[1;32md:\\Documents\\Repository\\BDC\\project\\notebooks\\6-final-scores.ipynb Cell 22\u001b[0m line \u001b[0;36m1\n\u001b[0;32m      <a href='vscode-notebook-cell:/d%3A/Documents/Repository/BDC/project/notebooks/6-final-scores.ipynb#Y112sZmlsZQ%3D%3D?line=6'>7</a>\u001b[0m     bar_plot\u001b[39m.\u001b[39mset_xticklabels(bar_plot\u001b[39m.\u001b[39mget_xticklabels(), rotation\u001b[39m=\u001b[39m\u001b[39m0\u001b[39m)\n\u001b[0;32m      <a href='vscode-notebook-cell:/d%3A/Documents/Repository/BDC/project/notebooks/6-final-scores.ipynb#Y112sZmlsZQ%3D%3D?line=7'>8</a>\u001b[0m     bar_plot\u001b[39m.\u001b[39mset_ylabel(\u001b[39m'\u001b[39m\u001b[39mR2\u001b[39m\u001b[39m'\u001b[39m)\n\u001b[1;32m---> <a href='vscode-notebook-cell:/d%3A/Documents/Repository/BDC/project/notebooks/6-final-scores.ipynb#Y112sZmlsZQ%3D%3D?line=10'>11</a>\u001b[0m fig\u001b[39m.\u001b[39mlegend(legend, loc\u001b[39m=\u001b[39m\u001b[39m'\u001b[39m\u001b[39mupper right\u001b[39m\u001b[39m'\u001b[39m, bbox_to_anchor\u001b[39m=\u001b[39m(\u001b[39m1.1\u001b[39m, \u001b[39m1\u001b[39m))\n\u001b[0;32m     <a href='vscode-notebook-cell:/d%3A/Documents/Repository/BDC/project/notebooks/6-final-scores.ipynb#Y112sZmlsZQ%3D%3D?line=12'>13</a>\u001b[0m plt\u001b[39m.\u001b[39mtight_layout()\n\u001b[0;32m     <a href='vscode-notebook-cell:/d%3A/Documents/Repository/BDC/project/notebooks/6-final-scores.ipynb#Y112sZmlsZQ%3D%3D?line=13'>14</a>\u001b[0m plt\u001b[39m.\u001b[39myscale(\u001b[39m'\u001b[39m\u001b[39mlinear\u001b[39m\u001b[39m'\u001b[39m)\n",
            "\u001b[1;31mNameError\u001b[0m: name 'legend' is not defined"
          ]
        },
        {
          "data": {
            "image/png": "[encoded data removed]",
            "text/plain": [
              "<Figure size 1500x500 with 3 Axes>"
            ]
          },
          "metadata": {},
          "output_type": "display_data"
        }
      ],
      "source": [
        "fig, axs = plt.subplots(1, 3, figsize=(15, 5))\n",
        "axs = axs.flatten()\n",
        "\n",
        "grouped = train_valid_accuracy_copy.groupby('Features')\n",
        "for (name, group), ax in zip(grouped, axs):\n",
        "    bar_plot = group.plot.bar(x='Model', title=name, ax=ax, legend=False, color=colors) \n",
        "    bar_plot.set_xticklabels(bar_plot.get_xticklabels(), rotation=0)\n",
        "    bar_plot.set_ylabel('R2')\n",
        "\n",
        "\n",
        "fig.legend(legend, loc='upper right', bbox_to_anchor=(1.1, 1))\n",
        "\n",
        "plt.tight_layout()\n",
        "plt.yscale('linear')\n",
        "plt.show()"
      ]
    },
    {
      "cell_type": "code",
      "execution_count": 137,
      "metadata": {},
      "outputs": [
        {
          "data": {
            "image/png": "[encoded data removed]",
            "text/plain": [
              "<Figure size 1500x500 with 3 Axes>"
            ]
          },
          "metadata": {},
          "output_type": "display_data"
        }
      ],
      "source": [
        "fig, axs = plt.subplots(1, 3, figsize=(15, 5))\n",
        "axs = axs.flatten()\n",
        "\n",
        "grouped = train_valid_accuracy_copy.groupby('Splitting')\n",
        "for (name, group), ax in zip(grouped, axs):\n",
        "    bar_plot = group.plot.bar(x='Model', title=name, ax=ax, legend=False, color=colors) \n",
        "    bar_plot.set_xticklabels(bar_plot.get_xticklabels(), rotation=0)\n",
        "    bar_plot.set_ylabel('Percentage of accuracy (%)')\n",
        "\n",
        "fig.legend(legend, loc='upper right', bbox_to_anchor=(1.1, 1))\n",
        "\n",
        "plt.tight_layout()\n",
        "plt.yscale('linear')\n",
        "plt.show()"
      ]
    },
    {
      "cell_type": "markdown",
      "metadata": {},
      "source": [
        "❓"
      ]
    },
    {
      "cell_type": "markdown",
      "metadata": {},
      "source": [
        "## Old"
      ]
    },
    {
      "cell_type": "code",
      "execution_count": null,
      "metadata": {
        "id": "3QHHoanCHJ7b"
      },
      "outputs": [],
      "source": [
        "default_mask = train_valid_results['Type'].str.contains('default_norm|default')\n",
        "tuned_mask = train_valid_results['Type'].str.contains('final|tuned|cross_val')\n",
        "\n",
        "default_results = train_valid_results[default_mask]\n",
        "tuned_results = train_valid_results[tuned_mask]"
      ]
    },
    {
      "cell_type": "code",
      "execution_count": null,
      "metadata": {
        "colab": {
          "base_uri": "https://localhost:8080/",
          "height": 426
        },
        "id": "hC60n4t0RMB8",
        "outputId": "b2e8147f-f1aa-423b-8aab-a82013b919d8"
      },
      "outputs": [],
      "source": [
        "default_results"
      ]
    },
    {
      "cell_type": "code",
      "execution_count": null,
      "metadata": {
        "colab": {
          "base_uri": "https://localhost:8080/",
          "height": 426
        },
        "id": "2EX4zfv4RMPh",
        "outputId": "94567d32-d4ac-434a-ee67-cda0cd2c4462"
      },
      "outputs": [],
      "source": [
        "tuned_results"
      ]
    },
    {
      "cell_type": "code",
      "execution_count": null,
      "metadata": {
        "id": "PxhoQK6iRvxs"
      },
      "outputs": [],
      "source": [
        "def results_bar_plot(dataset, title):\n",
        "  fig = px.bar(\n",
        "    x=dataset['Model'],\n",
        "    y=dataset['RMSE'],\n",
        "    color=dataset['Splitting'],\n",
        "    barmode='group'\n",
        "  )\n",
        "\n",
        "  fig.update_yaxes(side=\"left\", showticklabels=True)\n",
        "  fig.update_layout(title=title)\n",
        "  fig.update_layout(legend_title_text=\"Splitting methods\")\n",
        "  fig.update_yaxes(showticklabels=False)\n",
        "  fig.update_xaxes(title_text=\"Models\")\n",
        "  fig.update_yaxes(title='RMSE')\n",
        "\n",
        "  fig.show()"
      ]
    },
    {
      "cell_type": "code",
      "execution_count": null,
      "metadata": {
        "colab": {
          "base_uri": "https://localhost:8080/",
          "height": 542
        },
        "id": "6O4ZP7OKR3-B",
        "outputId": "861225e7-4380-46ca-fcf0-f0442a6b4ff9"
      },
      "outputs": [],
      "source": [
        "results_bar_plot(default_results, \"RMSE value for each default model\")"
      ]
    },
    {
      "cell_type": "code",
      "execution_count": null,
      "metadata": {
        "colab": {
          "base_uri": "https://localhost:8080/",
          "height": 542
        },
        "id": "uG9wviKOWEdY",
        "outputId": "16602be9-c2d7-4b80-960b-821f9be5d608"
      },
      "outputs": [],
      "source": [
        "results_bar_plot(tuned_results, \"RMSE value for each tuned model\")"
      ]
    },
    {
      "cell_type": "code",
      "execution_count": null,
      "metadata": {
        "id": "N6vsXyXhCn2B"
      },
      "outputs": [],
      "source": [
        "# def results_bar_plot(title):\n",
        "#   from plotly.subplots import make_subplots\n",
        "\n",
        "#   fig = make_subplots(rows=1, cols=2)\n",
        "\n",
        "#   fig1 = px.bar(\n",
        "#     x=default_results['Model'],\n",
        "#     y=default_results['RMSE'],\n",
        "#     color=default_results['Splitting'],\n",
        "#     barmode='group'\n",
        "#   )\n",
        "\n",
        "#   fig2 = px.bar(\n",
        "#     x=tuned_results['Model'],\n",
        "#     y=tuned_results['RMSE'],\n",
        "#     color=tuned_results['Splitting'],\n",
        "#     barmode='group'\n",
        "#   )\n",
        "\n",
        "#   # fig1.update_yaxes(side=\"left\", showticklabels=True)\n",
        "#   # fig1.update_layout(title=title)\n",
        "#   # fig1.update_layout(legend_title_text=\"Splitting methods\")\n",
        "#   # fig1.update_yaxes(showticklabels=False)\n",
        "#   # fig1.update_xaxes(title_text=\"Models\")\n",
        "#   # fig1.update_yaxes(title='RMSE')\n",
        "\n",
        "#   # fig2.update_yaxes(side=\"left\", showticklabels=True)\n",
        "#   # fig2.update_layout(title=title)\n",
        "#   # fig2.update_layout(legend_title_text=\"Splitting methods\")\n",
        "#   # fig2.update_yaxes(showticklabels=False)\n",
        "#   # fig2.update_xaxes(title_text=\"Models\")\n",
        "#   # fig2.update_yaxes(title='RMSE')\n",
        "\n",
        "#   # Add the traces to the subplot\n",
        "#   fig.add_trace(fig1.data[0], row=1, col=1)\n",
        "#   fig.add_trace(fig2.data[0], row=1, col=2)\n",
        "\n",
        "#   fig.show()"
      ]
    },
    {
      "cell_type": "code",
      "execution_count": null,
      "metadata": {
        "id": "vNeYxlV0Dh8J"
      },
      "outputs": [],
      "source": [
        "# results_bar_plot(\"RMSE value for each model\")"
      ]
    },
    {
      "cell_type": "code",
      "execution_count": null,
      "metadata": {
        "id": "EIDQqYl5HPAh"
      },
      "outputs": [],
      "source": [
        "def accuracy_bar_plot(dataset, accuracy, title):\n",
        "  fig = px.bar(\n",
        "    x=dataset['Model'],\n",
        "    y=dataset[accuracy],\n",
        "    color=dataset['Splitting'],\n",
        "    barmode='group'\n",
        "  )\n",
        "\n",
        "  fig.update_yaxes(side=\"left\", showticklabels=True)\n",
        "  fig.update_layout(title=title)\n",
        "  fig.update_layout(legend_title_text=\"Splitting methods\")\n",
        "  fig.update_yaxes(showticklabels=False)\n",
        "  fig.update_xaxes(title_text=\"Models\")\n",
        "  fig.update_yaxes(title='Accuracy')\n",
        "\n",
        "  fig.show()"
      ]
    },
    {
      "cell_type": "code",
      "execution_count": null,
      "metadata": {
        "colab": {
          "base_uri": "https://localhost:8080/",
          "height": 542
        },
        "id": "vrk2Vb0yHHrE",
        "outputId": "a9c17ae0-d596-434b-a7ca-37522e78770f"
      },
      "outputs": [],
      "source": [
        "accuracy_bar_plot(train_valid_accuracy, 'Accuracy (default)', \"Accuracy value for each default model\")"
      ]
    },
    {
      "cell_type": "code",
      "execution_count": null,
      "metadata": {
        "colab": {
          "base_uri": "https://localhost:8080/",
          "height": 542
        },
        "id": "9NYxZS7eL_Jp",
        "outputId": "ae701054-473c-4b3b-8838-71bf957b62db"
      },
      "outputs": [],
      "source": [
        "accuracy_bar_plot(train_valid_accuracy, 'Accuracy (validated)', \"Accuracy value for each tuned model\")"
      ]
    },
    {
      "cell_type": "markdown",
      "metadata": {
        "id": "6OInWyb7C5jA"
      },
      "source": [
        "# Test models\n",
        "For each model, predictions on the various mini-sets are made and the obtained results are compared.\n",
        "\n",
        "The test set is divided into further mini-sets of **1 week**, **15 days**, **1 month** and **3 months** to see how the models' performance degrades as the time taken into account increases."
      ]
    },
    {
      "cell_type": "code",
      "execution_count": null,
      "metadata": {
        "id": "KCS3oS4NJVN0"
      },
      "outputs": [],
      "source": [
        "# Retrieve the last value of the timestamp column\n",
        "first_timestamp = df.select(col(\"timestamp\")).first()[0]\n",
        "\n",
        "# Split the test set into mini-sets of 1 week, 15 days, 1 month, and 3 months\n",
        "one_week_df = df.filter(col(\"timestamp\") <= first_timestamp + relativedelta(weeks=1))\n",
        "fifteen_days_df = df.filter(col(\"timestamp\") <= first_timestamp + relativedelta(days=15))\n",
        "one_month_df = df.filter(col(\"timestamp\") <= first_timestamp + relativedelta(months=1))\n",
        "three_months_df = df.filter(col(\"timestamp\") <= first_timestamp + relativedelta(months=3))"
      ]
    },
    {
      "cell_type": "code",
      "execution_count": null,
      "metadata": {
        "id": "BwFhOSKCT49n"
      },
      "outputs": [],
      "source": [
        "'''\n",
        "Description: Evaluate final model by making predictions on the test set\n",
        "Args:\n",
        "    dataset: The dataSet which needs to be splited\n",
        "    dataset_name: Name of selected dataset [one_week | fifteen_days | one_month | three_months]\n",
        "    model: Trained model\n",
        "    model_name: Model name selected\n",
        "    features_normalization: Indicates whether features should be normalized (True) or not (False)\n",
        "    features: Features to be used to make predictions\n",
        "    features_name: Name of features used\n",
        "    features_label: The column name of features\n",
        "    target_label: The column name of target variable\n",
        "Return:\n",
        "    results_df: Results obtained from the evaluation\n",
        "    predictions: Predictions obtained from the model\n",
        "'''\n",
        "def evaluate_final_model(dataset, dataset_name, model, model_name, features_normalization, features, features_name, features_label, target_label):\n",
        "    # Select the type of features to be used\n",
        "    dataset = utilities.select_features(dataset, features_normalization, features, features_label, target_label)\n",
        "\n",
        "    # Make predictions\n",
        "    predictions = model.transform(dataset).select(target_label, \"market-price\", \"prediction\", 'timestamp')\n",
        "\n",
        "    # Compute validation error by several evaluators\n",
        "    eval_res = utilities.model_evaluation(target_label, predictions)\n",
        "\n",
        "    # Use dict to store each result\n",
        "    results = {\n",
        "        \"Model\": model_name,\n",
        "        \"Dataset\": dataset_name,\n",
        "        \"Features\": features_name,\n",
        "        \"RMSE\": eval_res['rmse'],\n",
        "        \"MSE\": eval_res['mse'],\n",
        "        \"MAE\": eval_res['mae'],\n",
        "        \"MAPE\": eval_res['mape'],\n",
        "        \"R2\": eval_res['r2'],\n",
        "        \"Adjusted_R2\": eval_res['adj_r2'],\n",
        "    }\n",
        "\n",
        "    # Transform dict to pandas dataset\n",
        "    results_pd = pd.DataFrame(results, index=[0])\n",
        "\n",
        "    return results_pd, predictions"
      ]
    },
    {
      "cell_type": "code",
      "execution_count": null,
      "metadata": {
        "id": "5c4gbo9rbNF_"
      },
      "outputs": [],
      "source": [
        "'''\n",
        "Description: How good the models are at predicting whether the price will go up or down\n",
        "Args:\n",
        "    dataset: The dataset which needs to be splited\n",
        "Return:\n",
        "    accuracy: Return the percentage of correct predictions\n",
        "'''\n",
        "def model_accuracy(dataset):\n",
        "    # Compute the number of total rows in the DataFrame.\n",
        "    total_rows = dataset.count()\n",
        "\n",
        "    # Create a column \"correct_prediction\" which is worth 1 if the prediction is correct, otherwise 0\n",
        "    dataset = dataset.withColumn(\n",
        "        \"correct_prediction\",\n",
        "        (\n",
        "            (col(\"market-price\") < col(\"next-market-price\")) & (col(\"market-price\") < col(\"prediction\"))\n",
        "        ) | (\n",
        "            (col(\"market-price\") > col(\"next-market-price\")) & (col(\"market-price\") > col(\"prediction\"))\n",
        "        )\n",
        "    )\n",
        "\n",
        "    # Count the number of correct predictions\n",
        "    correct_predictions = dataset.filter(col(\"correct_prediction\")).count()\n",
        "\n",
        "    # Compite percentage of correct predictions\n",
        "    accuracy = (correct_predictions / total_rows) * 100\n",
        "\n",
        "    return accuracy"
      ]
    },
    {
      "cell_type": "code",
      "execution_count": null,
      "metadata": {
        "colab": {
          "base_uri": "https://localhost:8080/"
        },
        "id": "QeYYomFJHTRD",
        "outputId": "b3beac50-faaa-41cf-c94d-de03228bd2a1"
      },
      "outputs": [],
      "source": [
        "# Loading base features\n",
        "with open(BASE_FEATURES, \"r\") as f:\n",
        "    BASE_FEATURES = json.load(f)\n",
        "print(BASE_FEATURES)"
      ]
    },
    {
      "cell_type": "code",
      "execution_count": null,
      "metadata": {
        "colab": {
          "base_uri": "https://localhost:8080/"
        },
        "id": "zMNZjOxDHTn7",
        "outputId": "ec05fb49-353d-4101-ae89-b4ed17e29f19"
      },
      "outputs": [],
      "source": [
        "# Loading currency and additional most correlated features\n",
        "with open(BASE_AND_MOST_CORR_FEATURES, \"r\") as f:\n",
        "    BASE_AND_MOST_CORR_FEATURES = json.load(f)\n",
        "print(BASE_AND_MOST_CORR_FEATURES)"
      ]
    },
    {
      "cell_type": "code",
      "execution_count": null,
      "metadata": {},
      "outputs": [],
      "source": [
        "# Loading currency and additional least correlated features\n",
        "with open(BASE_AND_LEAST_CORR_FEATURES, \"r\") as f:\n",
        "    BASE_AND_LEAST_CORR_FEATURES = json.load(f)\n",
        "print(BASE_AND_LEAST_CORR_FEATURES)"
      ]
    },
    {
      "cell_type": "code",
      "execution_count": null,
      "metadata": {
        "id": "4l8lj8kVcaFK"
      },
      "outputs": [],
      "source": [
        "# Load models\n",
        "lr = PipelineModel.load(LR_MODEL)\n",
        "glr = PipelineModel.load(GLR_MODEL)\n",
        "rf = PipelineModel.load(RF_MODEL)\n",
        "gbt = PipelineModel.load(GBT_MODEL)"
      ]
    },
    {
      "cell_type": "markdown",
      "metadata": {},
      "source": [
        "❗TOFIX"
      ]
    },
    {
      "cell_type": "code",
      "execution_count": null,
      "metadata": {
        "colab": {
          "base_uri": "https://localhost:8080/",
          "height": 551
        },
        "id": "QBWWhtBsbNGA",
        "outputId": "f5e8b205-119b-40d4-8ab3-816bc4f46a42"
      },
      "outputs": [],
      "source": [
        "# Test models\n",
        "model_name_list = [LR_MODEL_NAME, GLR_MODEL_NAME, RF_MODEL_NAME, GBT_MODEL_NAME]\n",
        "model_list = [lr, glr, rf, gbt]\n",
        "dataset_list = [one_week_df, fifteen_days_df, one_month_df, three_months_df]\n",
        "dataset_name_list = [\"one_week\", \"fifteen_days\", \"one_month\", \"three_months\"]\n",
        "predictions_df = pd.DataFrame(columns=[TARGET_LABEL, \"market-price\", \"prediction\", 'timestamp'])\n",
        "test_results = pd.DataFrame(columns=['Model', 'Dataset', 'Features', 'RMSE', 'MSE', 'MAE', 'MAPE', 'R2', 'Adjusted_R2'])\n",
        "test_accuracy = pd.DataFrame(columns=['Model', 'Features', 'Dataset', 'Accuracy'])\n",
        "\n",
        "# For each model makes predictions based on the dataset type\n",
        "for i, model in enumerate(model_list):\n",
        "    for j, dataset in enumerate(dataset_list):\n",
        "        # Select the type of feature to be used based on the model\n",
        "        if (model_name_list[i] == LR_MODEL_NAME) or (model_name_list[i] == GLR_MODEL_NAME):\n",
        "          FEATURES_NORMALIZATION = True\n",
        "          CHOSEN_FEATURES = ALL_FEATURES\n",
        "          CHOSEN_FEATURES_LABEL = ALL_FEATURES_NAME\n",
        "        elif (model_name_list[i] == RF_MODEL_NAME) or (model_name_list[i] == GBT_MODEL_NAME):\n",
        "          FEATURES_NORMALIZATION = True\n",
        "          CHOSEN_FEATURES = MOST_REL_FEATURES\n",
        "          CHOSEN_FEATURES_LABEL = MOST_REL_FEATURES_NAME\n",
        "\n",
        "        results, predictions = evaluate_final_model(dataset, dataset_name_list[j], model, model_name_list[i], FEATURES_NORMALIZATION, CHOSEN_FEATURES, CHOSEN_FEATURES_LABEL, FEATURES_LABEL, TARGET_LABEL)\n",
        "        test_results = pd.concat([test_results, results], ignore_index=True)\n",
        "\n",
        "        predictions = predictions.withColumn(\"Model\", lit(model_name_list[i])).withColumn(\"Dataset\", lit(dataset_name_list[j]))\n",
        "        predictions_df = pd.concat([predictions_df, predictions.toPandas()], ignore_index=True)\n",
        "\n",
        "        accuracy = model_accuracy(predictions)\n",
        "        accuracy_data = {\n",
        "            'Model': model_name_list[i],\n",
        "            'Features': CHOSEN_FEATURES_LABEL,\n",
        "            'Dataset': dataset_name_list[j],\n",
        "            'Accuracy': accuracy\n",
        "        }\n",
        "        accuracy_data_df = pd.DataFrame(accuracy_data, index=['Model'])\n",
        "\n",
        "        test_accuracy = pd.concat([test_accuracy, accuracy_data_df], ignore_index=True)\n",
        "\n",
        "# Merge results and accuracy\n",
        "merged_results = pd.merge(test_results, test_accuracy)\n",
        "merged_results\n"
      ]
    },
    {
      "cell_type": "markdown",
      "metadata": {
        "id": "JqzjoDuSC8sz"
      },
      "source": [
        "# Models comparison"
      ]
    },
    {
      "cell_type": "code",
      "execution_count": null,
      "metadata": {
        "id": "14G_DwnlHPFU"
      },
      "outputs": [],
      "source": [
        "def show_results(predictions, model0_name, model0_predictions, model1_name, model1_predictions, model2_name, model2_predictions, model3_name, model3_predictions, title):\n",
        "  trace1 = go.Scatter(\n",
        "      x = predictions['timestamp'],\n",
        "      y = predictions['next-market-price'].astype(float),\n",
        "      mode = 'lines',\n",
        "      name = 'Next Market price (usd)'\n",
        "  )\n",
        "\n",
        "  trace2 = go.Scatter(\n",
        "      x = model0_predictions['timestamp'],\n",
        "      y = model0_predictions['prediction'].astype(float),\n",
        "      mode = 'lines',\n",
        "      name = model0_name + ' predictions'\n",
        "  )\n",
        "\n",
        "  trace3 = go.Scatter(\n",
        "      x = model1_predictions['timestamp'],\n",
        "      y = model1_predictions['prediction'].astype(float),\n",
        "      mode = 'lines',\n",
        "      name = model1_name + ' predictions'\n",
        "  )\n",
        "\n",
        "  trace4 = go.Scatter(\n",
        "      x = model2_predictions['timestamp'],\n",
        "      y = model2_predictions['prediction'].astype(float),\n",
        "      mode = 'lines',\n",
        "      name = model2_name + ' predictions'\n",
        "  )\n",
        "\n",
        "  trace5 = go.Scatter(\n",
        "      x = model3_predictions['timestamp'],\n",
        "      y = model3_predictions['prediction'].astype(float),\n",
        "      mode = 'lines',\n",
        "      name = model3_name + ' predictions'\n",
        "  )\n",
        "\n",
        "  layout = dict(\n",
        "      title=title + \" predictions\",\n",
        "      xaxis=dict(\n",
        "          rangeselector=dict(\n",
        "              buttons=list([\n",
        "                  # Change the count to desired amount of months.\n",
        "                  dict(count=1,\n",
        "                      label='1m',\n",
        "                      step='month',\n",
        "                      stepmode='backward'),\n",
        "                  dict(count=6,\n",
        "                      label='6m',\n",
        "                      step='month',\n",
        "                      stepmode='backward'),\n",
        "                  dict(count=12,\n",
        "                      label='1y',\n",
        "                      step='month',\n",
        "                      stepmode='backward'),\n",
        "                  dict(count=36,\n",
        "                      label='3y',\n",
        "                      step='month',\n",
        "                      stepmode='backward'),\n",
        "                  dict(step='all')\n",
        "              ])\n",
        "          ),\n",
        "          rangeslider=dict(\n",
        "              visible = True\n",
        "          ),\n",
        "          type='date'\n",
        "      )\n",
        "  )\n",
        "\n",
        "  data = [trace1,trace2,trace3,trace4,trace5]\n",
        "  fig = dict(data=data, layout=layout)\n",
        "  iplot(fig, filename = title + \" predictions\")"
      ]
    },
    {
      "cell_type": "code",
      "execution_count": null,
      "metadata": {
        "colab": {
          "base_uri": "https://localhost:8080/",
          "height": 1000
        },
        "id": "8zVaRQFNnEta",
        "outputId": "100a5c5a-e694-49fc-a14e-abf88ed86334"
      },
      "outputs": [],
      "source": [
        "# For each dataset type, it displays the predicitons of each model\n",
        "for dataset_name in dataset_name_list:\n",
        "    predictions_to_show = predictions_df[predictions_df['Dataset'] == dataset_name]\n",
        "\n",
        "    model_0_predictions = predictions_to_show[predictions_to_show['Model'] == model_name_list[0]]\n",
        "    model_1_predictions = predictions_to_show[predictions_to_show['Model'] == model_name_list[1]]\n",
        "    model_2_predictions = predictions_to_show[predictions_to_show['Model'] == model_name_list[2]]\n",
        "    model_3_predictions = predictions_to_show[predictions_to_show['Model'] == model_name_list[3]]\n",
        "\n",
        "    show_results(predictions_to_show, model_name_list[0], model_0_predictions, model_name_list[1], model_1_predictions, model_name_list[2], model_2_predictions, model_name_list[3], model_3_predictions, dataset_name)"
      ]
    },
    {
      "cell_type": "markdown",
      "metadata": {
        "id": "af0uEhdmQM9k"
      },
      "source": [
        "# Summary"
      ]
    },
    {
      "cell_type": "code",
      "execution_count": null,
      "metadata": {
        "colab": {
          "base_uri": "https://localhost:8080/",
          "height": 542
        },
        "id": "W2igZB0v5A5I",
        "outputId": "1ed3da4f-0a4e-4fc3-de9b-df4bd62e28dd"
      },
      "outputs": [],
      "source": [
        "scatter_plot(test_results, \"RMSE\", \"Model\", \"RMSE value for each model\")"
      ]
    },
    {
      "cell_type": "code",
      "execution_count": null,
      "metadata": {
        "colab": {
          "base_uri": "https://localhost:8080/",
          "height": 542
        },
        "id": "ThWP3pTVcpfY",
        "outputId": "5a8b4758-1e88-403e-c992-a7e21cfe2c79"
      },
      "outputs": [],
      "source": [
        "adv_scatter_plot(test_results, \"RMSE\", \"Model\", \"Dataset\", \"RMSE value for each model (and dataset type)\")"
      ]
    },
    {
      "cell_type": "code",
      "execution_count": null,
      "metadata": {
        "colab": {
          "base_uri": "https://localhost:8080/",
          "height": 542
        },
        "id": "yNTaMZyyiE8k",
        "outputId": "5cad0e53-3b43-44bc-c64e-92eb3361296e"
      },
      "outputs": [],
      "source": [
        "scatter_plot(test_accuracy, \"Accuracy\", \"Model\", \"Accuracy for each model\")"
      ]
    },
    {
      "cell_type": "code",
      "execution_count": null,
      "metadata": {
        "colab": {
          "base_uri": "https://localhost:8080/",
          "height": 542
        },
        "id": "8QZYesEciFIC",
        "outputId": "ce348e33-74fe-4a49-dc62-6ebc82c8db6f"
      },
      "outputs": [],
      "source": [
        "adv_scatter_plot(test_accuracy, \"Accuracy\", \"Model\", \"Dataset\", \"Accuracy for each model (and dataset type)\")"
      ]
    },
    {
      "cell_type": "code",
      "execution_count": null,
      "metadata": {
        "id": "-1V6Wca8Vp7n"
      },
      "outputs": [],
      "source": [
        "# Saving final test results\n",
        "test_results.to_csv(RESULTS_FINAL_DIR + \"/final.csv\", index=False)\n",
        "test_accuracy.to_csv(RESULTS_FINAL_DIR + \"/final_accuracy.csv\", index=False)"
      ]
    },
    {
      "cell_type": "code",
      "execution_count": null,
      "metadata": {
        "id": "UvwOAHKet8Gr"
      },
      "outputs": [],
      "source": [
        "# Export notebook in html format (remember to save the notebook and change the model name)\n",
        "if LOCAL_RUNNING:\n",
        "    !jupyter nbconvert --to html 6-final-scores.ipynb --output 6-final-scores --output-dir='./exports'"
      ]
    }
  ],
  "metadata": {
    "accelerator": "GPU",
    "colab": {
      "gpuType": "T4",
      "provenance": []
    },
    "kernelspec": {
      "display_name": "Python 3",
      "name": "python3"
    },
    "language_info": {
      "codemirror_mode": {
        "name": "ipython",
        "version": 3
      },
      "file_extension": ".py",
      "mimetype": "text/x-python",
      "name": "python",
      "nbconvert_exporter": "python",
      "pygments_lexer": "ipython3",
      "version": "3.11.6"
    },
    "vscode": {
      "interpreter": {
        "hash": "303fa613b6f3e1efefe7bb28036e305e1021fa6bdb083a5f9fd57f9d9bbad8eb"
      }
    }
  },
  "nbformat": 4,
  "nbformat_minor": 0
}
