{
  "cells": [
    {
      "cell_type": "markdown",
      "metadata": {
        "id": "oqwl6Bf0Lv9D"
      },
      "source": [
        "# **Bitcoin price prediction - Feature Engineering**\n",
        "## Big Data Computing final project - A.Y. 2022 - 2023\n",
        "Prof. Gabriele Tolomei\n",
        "\n",
        "MSc in Computer Science\n",
        "\n",
        "La Sapienza, University of Rome\n",
        "\n",
        "### Author: Corsi Danilo (1742375) - corsi.1742375@studenti.uniroma1.it\n",
        "\n",
        "\n",
        "---\n",
        "\n",
        "\n",
        "Description: adding useful features regardings the price of Bitcoin, visualizing data and performing feature selection.\n"
      ]
    },
    {
      "cell_type": "markdown",
      "metadata": {
        "id": "FIbEK2pDLv9x"
      },
      "source": [
        "# Global constants, dependencies, libraries and tools"
      ]
    },
    {
      "cell_type": "code",
      "execution_count": null,
      "metadata": {
        "id": "jUpNH3eIQPR4"
      },
      "outputs": [],
      "source": [
        "# Main constants\n",
        "LOCAL_RUNNING = True\n",
        "SLOW_OPERATIONS = True # Decide whether or not to use operations that might slow down notebook execution\n",
        "ROOT_DIR = \"D:/Documents/Repository/BDC/project\" if LOCAL_RUNNING else \"/content/drive\""
      ]
    },
    {
      "cell_type": "code",
      "execution_count": null,
      "metadata": {
        "colab": {
          "base_uri": "https://localhost:8080/"
        },
        "id": "EKk35k0MLv9y",
        "outputId": "511694c8-1ade-4e88-e63d-89c6a7d5bc66"
      },
      "outputs": [],
      "source": [
        "if not LOCAL_RUNNING:\n",
        "    # Point Colaboratory to Google Drive\n",
        "    from google.colab import drive\n",
        "\n",
        "    # Define GDrive paths\n",
        "    drive.mount(ROOT_DIR, force_remount=True)\n",
        "\n",
        "    # Install Spark and related dependencies\n",
        "    !pip install pyspark\n",
        "    !pip install -U -q PyDrive -qq\n",
        "    !apt install openjdk-8-jdk-headless -qq"
      ]
    },
    {
      "cell_type": "markdown",
      "metadata": {
        "id": "BVR_k1G7gcyI"
      },
      "source": [
        "## Import my utilities"
      ]
    },
    {
      "cell_type": "code",
      "execution_count": null,
      "metadata": {
        "id": "wlMz0SgfgcyI"
      },
      "outputs": [],
      "source": [
        "# Set main dir\n",
        "MAIN_DIR = ROOT_DIR + \"\" if LOCAL_RUNNING else ROOT_DIR + \"/MyDrive/BDC/project\"\n",
        "\n",
        "# Utilities dir\n",
        "UTILITIES_DIR = MAIN_DIR + \"/utilities\"\n",
        "\n",
        "# Import my utilities\n",
        "import sys\n",
        "sys.path.append(UTILITIES_DIR)\n",
        "\n",
        "from imports import *\n",
        "import visualization"
      ]
    },
    {
      "cell_type": "code",
      "execution_count": null,
      "metadata": {
        "id": "wQ8YvlaZLv9x"
      },
      "outputs": [],
      "source": [
        "###################\n",
        "# --- DATASET --- #\n",
        "###################\n",
        "\n",
        "# Datasets dirs\n",
        "DATASET_RAW_DIR = MAIN_DIR + \"/datasets/raw\"\n",
        "DATASET_OUTPUT_DIR = MAIN_DIR + \"/datasets/output\"\n",
        "DATASET_TEMP_DIR = MAIN_DIR + \"/datasets/temp\"\n",
        "\n",
        "# Datasets names\n",
        "DATASET_NAME = \"bitcoin_blockchain_data_15min\"\n",
        "\n",
        "# Datasets paths\n",
        "DATASET_RAW = DATASET_RAW_DIR + \"/\" + DATASET_NAME + \".parquet\"\n",
        "\n",
        "####################\n",
        "# --- FEATURES --- #\n",
        "####################\n",
        "\n",
        "# Features dir\n",
        "FEATURES_DIR = MAIN_DIR + \"/features\"\n",
        "\n",
        "# Features names\n",
        "FEATURES_CORRELATION_NAME = \"features_correlation\"\n",
        "CURRENCY_FEATURES_NAME = \"currency_features\"\n",
        "CURRENCY_MOST_CORR_FEATURES_NAME = \"currency_most_corr_features\"\n",
        "CURRENCY_LEAST_CORR_FEATURES_NAME = \"currency_least_corr_features\"\n",
        "\n",
        "# Features paths\n",
        "FEATURES_CORRELATION = FEATURES_DIR + \"/\" + FEATURES_CORRELATION_NAME + \".json\"\n",
        "CURRENCY_FEATURES = FEATURES_DIR + \"/\" + CURRENCY_FEATURES_NAME + \".json\"\n",
        "CURRENCY_MOST_CORR_FEATURES = FEATURES_DIR + \"/\" + CURRENCY_MOST_CORR_FEATURES_NAME + \".json\"\n",
        "CURRENCY_LEAST_CORR_FEATURES = FEATURES_DIR + \"/\" + CURRENCY_LEAST_CORR_FEATURES_NAME + \".json\""
      ]
    },
    {
      "cell_type": "code",
      "execution_count": null,
      "metadata": {
        "id": "IvKa3zyWLv9y"
      },
      "outputs": [],
      "source": [
        "# Suppression of warnings for better reading\n",
        "import warnings\n",
        "warnings.simplefilter(action='ignore', category=FutureWarning)\n",
        "\n",
        "if LOCAL_RUNNING: pio.renderers.default='notebook' # To correctly export the notebook in html format"
      ]
    },
    {
      "cell_type": "markdown",
      "metadata": {
        "id": "YUI9DnQVLv9z"
      },
      "source": [
        "# Create the pyspark session"
      ]
    },
    {
      "cell_type": "code",
      "execution_count": null,
      "metadata": {
        "id": "ZLwcEWvYLv9z"
      },
      "outputs": [],
      "source": [
        "# Create the session\n",
        "conf = SparkConf().\\\n",
        "                set('spark.ui.port', \"4050\").\\\n",
        "                set('spark.executor.memory', '12G').\\\n",
        "                set('spark.driver.memory', '12G').\\\n",
        "                set('spark.driver.maxResultSize', '109G').\\\n",
        "                set(\"spark.kryoserializer.buffer.max\", \"1G\").\\\n",
        "                setAppName(\"BitcoinPricePrediction\").\\\n",
        "                setMaster(\"local[*]\")\n",
        "\n",
        "# Create the context\n",
        "sc = pyspark.SparkContext(conf=conf)\n",
        "spark = SparkSession.builder.getOrCreate()"
      ]
    },
    {
      "cell_type": "markdown",
      "metadata": {
        "id": "F7IjRUGdLv9z"
      },
      "source": [
        "# Loading dataset"
      ]
    },
    {
      "cell_type": "code",
      "execution_count": null,
      "metadata": {
        "id": "ugtTXvpBLv9z"
      },
      "outputs": [],
      "source": [
        "# Load datasets into pyspark dataset objects\n",
        "df = spark.read.load(DATASET_RAW,\n",
        "                         format=\"parquet\",\n",
        "                         sep=\",\",\n",
        "                         inferSchema=\"true\",\n",
        "                         header=\"true\"\n",
        "                    ) \\\n",
        "                     .withColumn(\"id\", F.row_number().over(Window.orderBy(F.monotonically_increasing_id()))-1) # Adding \"id\" column"
      ]
    },
    {
      "cell_type": "code",
      "execution_count": null,
      "metadata": {
        "id": "s76xwenILv9z"
      },
      "outputs": [],
      "source": [
        "def dataset_info(dataset):\n",
        "  # Print dataset\n",
        "  dataset.show(3)\n",
        "\n",
        "  # Get the number of rows\n",
        "  num_rows = dataset.count()\n",
        "\n",
        "  # Get the number of columns\n",
        "  num_columns = len(dataset.columns)\n",
        "\n",
        "  # Print the shape of the dataset\n",
        "  print(\"Shape:\", (num_rows, num_columns))\n",
        "\n",
        "  # Print the schema of the dataset\n",
        "  dataset.printSchema()"
      ]
    },
    {
      "cell_type": "code",
      "execution_count": null,
      "metadata": {
        "colab": {
          "base_uri": "https://localhost:8080/"
        },
        "id": "TkviD2q8Lv9z",
        "outputId": "4be3372d-3b30-4e43-b9c1-98ed65b341b5"
      },
      "outputs": [],
      "source": [
        "if SLOW_OPERATIONS:\n",
        "  dataset_info(df)"
      ]
    },
    {
      "cell_type": "markdown",
      "metadata": {
        "id": "h1v6rsUjLv9z"
      },
      "source": [
        "# Adding useful features\n",
        "Here I am going to add some features that could help us predict the Bitcoin price:\n",
        "\n",
        "*   **next-market-price:** represents the price of Bitcoin for the next 15 minutes (this will be the target variable on which to make predictions)\n",
        "*   **rate-of-change:** indicator that measures the percentage of price changes over a period of time, allows investors to spot security momentum and other trends\n",
        "*   **sma-x-days:** indicators that calculate the average price over a specified number of days. They are commonly used by traders to identify trends and potential buy or sell signals\n"
      ]
    },
    {
      "cell_type": "code",
      "execution_count": null,
      "metadata": {
        "id": "WML0CKelLv9z"
      },
      "outputs": [],
      "source": [
        "# Creation of a new dataset for the new features\n",
        "new_features_df = df.select(\"timestamp\", \"id\", \"market-price\")"
      ]
    },
    {
      "cell_type": "code",
      "execution_count": null,
      "metadata": {
        "id": "7j4GFmpHLv9z"
      },
      "outputs": [],
      "source": [
        "# Adding 'next-market-price' column\n",
        "new_features_df = new_features_df.withColumn(\"next-market-price\", F.lag(\"market-price\", offset=-1) \\\n",
        "        .over(Window.orderBy(\"id\"))) \\\n",
        "        .dropna()"
      ]
    },
    {
      "cell_type": "code",
      "execution_count": null,
      "metadata": {
        "id": "-XLttgNKLv90"
      },
      "outputs": [],
      "source": [
        "# Adding \"rate-of-change\" column\n",
        "new_features_df = new_features_df.withColumn(\"rate-of-change\", (F.col(\"next-market-price\") / F.col(\"market-price\") - 1) * 100)"
      ]
    },
    {
      "cell_type": "code",
      "execution_count": null,
      "metadata": {
        "id": "G6MPud1wLv90"
      },
      "outputs": [],
      "source": [
        "def simple_moving_average(dataset, period, days, col=\"next-market-price\", orderby=\"id\"):\n",
        "    dataset = dataset.withColumn(f\"sma-{days}-days\", F.avg(col) \\\n",
        "          .over(Window.orderBy(orderby) \\\n",
        "          .rowsBetween(-period,0)))\n",
        "    return dataset"
      ]
    },
    {
      "cell_type": "code",
      "execution_count": null,
      "metadata": {
        "id": "0OBOZbvILv90"
      },
      "outputs": [],
      "source": [
        "# Moving averages days (5/7/10/20/50/100)\n",
        "MA5 = 60 * 24 * 5\n",
        "MA7 = 60 * 24 * 7\n",
        "MA10 = 60 * 24 * 10\n",
        "MA20 = 60 * 24 * 20\n",
        "MA50 = 60 * 24 * 50\n",
        "MA100 = 60 * 24 * 100\n",
        "\n",
        "# Computing the SMA\n",
        "new_features_df = simple_moving_average(new_features_df, MA5, 5)\n",
        "new_features_df = simple_moving_average(new_features_df, MA7, 7)\n",
        "new_features_df = simple_moving_average(new_features_df, MA10, 10)\n",
        "new_features_df = simple_moving_average(new_features_df, MA20, 20)\n",
        "new_features_df = simple_moving_average(new_features_df, MA50, 50)\n",
        "new_features_df = simple_moving_average(new_features_df, MA100, 100)"
      ]
    },
    {
      "cell_type": "code",
      "execution_count": null,
      "metadata": {
        "id": "pL_5JLHyLv90"
      },
      "outputs": [],
      "source": [
        "# Drop \"market-price\" column\n",
        "new_features_df = new_features_df.drop(\"market-price\")\n",
        "\n",
        "# Merge original dataset with the one with the new features\n",
        "merged_df = df.join(new_features_df, on=['timestamp','id'], how='inner')"
      ]
    },
    {
      "cell_type": "code",
      "execution_count": null,
      "metadata": {},
      "outputs": [],
      "source": [
        "if SLOW_OPERATIONS:\n",
        "  dataset_info(merged_df)"
      ]
    },
    {
      "cell_type": "code",
      "execution_count": null,
      "metadata": {
        "id": "q74GqOn_Lv90"
      },
      "outputs": [],
      "source": [
        "# Rearranges columns\n",
        "new_columns = [\"timestamp\", \"id\"] + [col for col in merged_df.columns if col not in [\"timestamp\", \"id\", \"next-market-price\"]] + [\"next-market-price\"]\n",
        "merged_df = merged_df.select(*new_columns)\n",
        "\n",
        "# Rename some columns\n",
        "column_mapping = {\"open\": \"opening-price\", \"high\": \"highest-price\", \"low\": \"lowest-price\", \"close\": \"closing-price\", \"volume\": \"trade-volume-btc\", \"trade-volume\": \"trade-volume-usd\"}\n",
        "for old_name, new_name in column_mapping.items():\n",
        "    merged_df = merged_df.withColumnRenamed(old_name, new_name)\n",
        "\n",
        "# Set the \"timestamp\" column as the index of the Pandas dataset\n",
        "merged_df.toPandas().set_index(\"timestamp\", inplace=True)"
      ]
    },
    {
      "cell_type": "code",
      "execution_count": null,
      "metadata": {
        "id": "d39yWzsbLv90"
      },
      "outputs": [],
      "source": [
        "if SLOW_OPERATIONS:\n",
        "  dataset_info(merged_df)"
      ]
    },
    {
      "cell_type": "markdown",
      "metadata": {
        "id": "wxb4eZExLv91"
      },
      "source": [
        "# Splitting dataset\n",
        "Here we are going to split the dataset into two sets:\n",
        "* **Train / validation set:** will be used to train the models and validate the performances\n",
        "* **Test set:** will be used to perform price prediction on never-before-seen data (the last 3 months of the original dataset will be used)."
      ]
    },
    {
      "cell_type": "code",
      "execution_count": null,
      "metadata": {
        "id": "y5TAxfkk-v8c"
      },
      "outputs": [],
      "source": [
        "# Retrieve the last timestamp value\n",
        "last_value = merged_df.agg(last(\"timestamp\")).collect()[0][0]\n",
        "\n",
        "# Subtract three month from the last timestamp value\n",
        "split_date = last_value - relativedelta(months=3)\n",
        "\n",
        "# Split the dataset based on the desired date\n",
        "train_valid_df = merged_df[merged_df['timestamp'] <= split_date]\n",
        "test_df = merged_df[merged_df['timestamp'] > split_date]"
      ]
    },
    {
      "cell_type": "code",
      "execution_count": null,
      "metadata": {
        "id": "GZ_OPmiwLv91"
      },
      "outputs": [],
      "source": [
        "if SLOW_OPERATIONS:\n",
        "    visualization.dataset_visualization(train_valid_df.toPandas(), test_df.toPandas(), \"Train / Validation and Test sets\")"
      ]
    },
    {
      "cell_type": "markdown",
      "metadata": {
        "id": "pO07pajqLv91"
      },
      "source": [
        "# Saving datasets"
      ]
    },
    {
      "cell_type": "code",
      "execution_count": null,
      "metadata": {
        "id": "b0s5qokVLv91"
      },
      "outputs": [],
      "source": [
        "def output(dataset, dataset_type):\n",
        "  dataset.write.parquet(DATASET_TEMP_DIR, mode='overwrite')\n",
        "\n",
        "  while True:\n",
        "      parquet_files = glob.glob(os.path.join(DATASET_TEMP_DIR, \"part*.parquet\"))\n",
        "      if len(parquet_files) > 0:\n",
        "          # .parquet file found!\n",
        "          file_path = parquet_files[0]\n",
        "          break\n",
        "      else:\n",
        "          print(\".parquet file not found. I'll try again after 1 second...\")\n",
        "          time.sleep(1)\n",
        "\n",
        "  print(\".parquet file found:\", file_path)\n",
        "\n",
        "  new_file_path = DATASET_OUTPUT_DIR + \"/\" + DATASET_NAME + \"_\" + dataset_type + \".parquet\"\n",
        "\n",
        "  # Rename and move the file\n",
        "  shutil.move(file_path, new_file_path)\n",
        "\n",
        "  print(\"File renamed and moved successfully!\")"
      ]
    },
    {
      "cell_type": "code",
      "execution_count": null,
      "metadata": {
        "id": "Ss2HR4JpLv91"
      },
      "outputs": [],
      "source": [
        "# Save the train / validation set\n",
        "output(train_valid_df, \"train_valid\")"
      ]
    },
    {
      "cell_type": "code",
      "execution_count": null,
      "metadata": {
        "id": "KtPmzkfwLv96"
      },
      "outputs": [],
      "source": [
        "# Save the test set\n",
        "output(test_df, \"test\")"
      ]
    },
    {
      "cell_type": "markdown",
      "metadata": {
        "id": "dbFTB-2aLv96"
      },
      "source": [
        "# Data visualization\n",
        "\n",
        "Here we are going to display the features taken under consideration according to their categories."
      ]
    },
    {
      "cell_type": "code",
      "execution_count": 10,
      "metadata": {},
      "outputs": [
        {
          "name": "stdout",
          "output_type": "stream",
          "text": [
            "+-------------------+---+-----------------+-----------------+-----------------+-----------------+-----------------+------------------+-----------------+--------------------+--------------------+------------------+------------------+--------------------+------------------------+--------------------+------------------+--------------------+--------------------+------------------+-----------------+--------------------------------+--------------------+-----------------+-----------------+-----------------+-----------------+-----------------+-----------------+-----------------+\n",
            "|          timestamp| id|     market-price|    opening-price|    highest-price|     lowest-price|    closing-price|  trade-volume-btc|   total-bitcoins|          market-cap|    trade-volume-usd|       blocks-size|    avg-block-size|n-transactions-total|n-transactions-per-block|           hash-rate|        difficulty|      miners-revenue|transaction-fees-usd|n-unique-addresses|   n-transactions|estimated-transaction-volume-usd|      rate-of-change|       sma-5-days|       sma-7-days|      sma-10-days|      sma-20-days|      sma-50-days|     sma-100-days|next-market-price|\n",
            "+-------------------+---+-----------------+-----------------+-----------------+-----------------+-----------------+------------------+-----------------+--------------------+--------------------+------------------+------------------+--------------------+------------------------+--------------------+------------------+--------------------+--------------------+------------------+-----------------+--------------------------------+--------------------+-----------------+-----------------+-----------------+-----------------+-----------------+-----------------+-----------------+\n",
            "|2019-11-10 00:00:00|  0|          8809.41|          8804.64|          9135.32|          8751.73|          9041.91|        119.173505|      1.8040025E7|     1.6304574595E11|     4.02169828143E7|     248446.001443|  0.82914291566265|        4.73147926E8|        1805.49397590361|  1.04964271994364E8|1.2720005267391E13|   1.8896479028929E7|    213741.528929005|          435494.0|         299712.0|              3.64320564190368E8|0.026925516767484226|8811.781979166666|8811.781979166666|8811.781979166666|8811.781979166666|8811.781979166666|8811.781979166666|8811.781979166666|\n",
            "|2019-11-10 00:15:00|  1|8811.781979166666|8807.195833333333|9134.651770833332|8750.284895833332|9038.621145833333|119.48827816666667|1.8040043359375E7|1.629932900018229E11|4.0403012960551046E7| 248447.4354921354|0.8309604794550713| 4.731510492916667E8|      1809.2244815354086|1.0486547279256207E8|1.2720005267391E13| 1.887548781730335E7|  214223.23397002177|      436287.53125|299993.1979166667|             3.680137152007981E8|0.026918268884479346|    8812.96796875|    8812.96796875|    8812.96796875|    8812.96796875|    8812.96796875|    8812.96796875|8814.153958333332|\n",
            "|2019-11-10 00:30:00|  2|8814.153958333332|8809.751666666667|9133.983541666666|8748.839791666665|9035.332291666666|119.80305133333334| 1.804006171875E7|1.629408340536458...| 4.058904310680208E7|248448.86954127083|0.8327780432474927| 4.731541725833333E8|      1812.9549871672075|1.0476667359076016E8|1.2720005267391E13|1.8854496605677698E7|  214704.93901103854|       437081.0625|300274.3958333333|            3.7170686621122825E8|0.026911024902465108|8814.153958333334|8814.153958333334|8814.153958333334|8814.153958333334|8814.153958333334|8814.153958333334|     8816.5259375|\n",
            "|2019-11-10 00:45:00|  3|     8816.5259375|8812.307499999999|9133.315312499999|     8747.3946875|     9032.0434375|120.11782450000001|1.8040080078125E7|1.628883781054687...| 4.077507325305313E7|248450.30359040623|0.8345956070399141|     4.73157295875E8|      1816.6854927990062|1.0466787438895823E8|1.2720005267391E13|1.8833505394052047E7|  215186.64405205532|      437874.59375|     300555.59375|            3.7540001722165835E8| 0.02690378481819966|8815.339947916667|8815.339947916667|8815.339947916667|8815.339947916667|8815.339947916667|8815.339947916667|8818.897916666667|\n",
            "|2019-11-10 01:00:00|  4|8818.897916666667|8814.863333333333|9132.647083333333|8745.949583333333|9028.754583333333|120.43259766666667|  1.80400984375E7|1.628359221572916...| 4.096110339930417E7|248451.73763954165|0.8364131708323354| 4.731604191666667E8|      1820.4159984308048|1.0456907518715632E8|1.2720005267391E13|  1.88125141824264E7|   215668.3490930721|        438668.125|300836.7916666667|             3.790931682320885E8|0.026896548628640993|     8816.5259375|     8816.5259375|     8816.5259375|     8816.5259375|     8816.5259375|     8816.5259375|8821.269895833333|\n",
            "|2019-11-10 01:15:00|  5|8821.269895833333|8817.419166666667|9131.978854166666|8744.504479166666|9025.465729166666|120.74737083333333|1.8040116796875E7|1.627834662091146E11| 4.114713354555521E7|248453.17168867707|0.8382307346247567| 4.731635424583333E8|      1824.1465040626038| 1.044702759853544E8|1.2720005267391E13| 1.879152297080075E7|  216150.05413408886|      439461.65625|301117.9895833333|             3.827863192425186E8| 0.02688931633059166|8817.711927083334|8817.711927083334|8817.711927083334|8817.711927083334|8817.711927083334|8817.711927083334|      8823.641875|\n",
            "|2019-11-10 01:30:00|  6|      8823.641875|8819.974999999999|      9131.310625|8743.059374999999|      9022.176875|        121.062144| 1.804013515625E7|1.627310102609375E11| 4.133316369180625E7| 248454.6057378125|0.8400482984171781|      4.7316666575E8|      1827.8770096944024|1.0437147678355247E8|1.2720005267391E13|  1.87705317591751E7|  216631.75917510563|       440255.1875|      301399.1875|            3.8647947025294876E8|0.026882087920965247|8818.897916666667|8818.897916666667|8818.897916666667|8818.897916666667|8818.897916666667|8818.897916666667|8826.013854166667|\n",
            "|2019-11-10 01:45:00|  7|8826.013854166667|8822.530833333332|9130.642395833333|8741.614270833334|9018.888020833334|121.37691716666667|1.8040153515625E7|1.626785543127604E11|4.1519193838057294E7| 248456.0397869479|0.8418658622095995| 4.731697890416667E8|       1831.607515326201|1.0427267758175056E8|1.2720005267391E13| 1.874954054754945E7|   217113.4642161224|      441048.71875|301680.3854166667|            3.9017262126337886E8|0.026874863396542104|8820.083906250002|8820.083906250002|8820.083906250002|8820.083906250002|8820.083906250002|8820.083906250002|8828.385833333334|\n",
            "|2019-11-10 02:00:00|  8|8828.385833333334|8825.086666666666|9129.974166666667|8740.169166666667|9015.599166666667|121.69169033333334|   1.8040171875E7|1.626260983645833...| 4.170522398430833E7| 248457.4738360833|0.8436834260020208| 4.731729123333333E8|          1835.338020958|1.0417387837994863E8|1.2720005267391E13|  1.87285493359238E7|  217595.16925713918|         441842.25|301961.5833333333|              3.93865772273809E8| 0.02686764275423581|8821.269895833335|8821.269895833335|8821.269895833335|8821.269895833335|8821.269895833335|8821.269895833335|     8830.7578125|\n",
            "|2019-11-10 02:15:00|  9|     8830.7578125|        8827.6425|     9129.3059375|     8738.7240625|     9012.3103125|122.00646350000001|1.8040190234375E7|1.625736424164062...| 4.189125413055938E7|248458.90788521874|0.8455009897944421|     4.73176035625E8|      1839.0685265897987|1.0407507917814672E8|1.2720005267391E13|1.8707558124298148E7|  218076.87429815595|      442635.78125|     302242.78125|             3.975589232842391E8|0.026860425990937742|8822.455885416668|8822.455885416668|8822.455885416668|8822.455885416668|8822.455885416668|8822.455885416668|8833.129791666666|\n",
            "|2019-11-10 02:30:00| 10|8833.129791666666|8830.198333333334|9128.637708333334|8737.278958333332|9009.021458333333|122.32123666666668| 1.804020859375E7|1.625211864682291...|4.2077284276810415E7|248460.34193435416|0.8473185535868635| 4.731791589166667E8|      1842.7990322215974| 1.039762799763448E8|1.2720005267391E13|1.8686566912672497E7|  218558.57933917272|       443429.3125|302523.9791666667|             4.012520742946693E8| 0.02685321310351707|8823.641875000001|8823.641875000001|8823.641875000001|8823.641875000001|8823.641875000001|8823.641875000001|8835.501770833333|\n",
            "|2019-11-10 02:45:00| 11|8835.501770833333|8832.754166666666|9127.969479166666|8735.833854166667|9005.732604166667|122.63600983333333|1.8040226953125E7|1.624687305200521E11| 4.226331442306146E7|248461.77598348958|0.8491361173792848| 4.731822822083333E8|      1846.5295378533963|1.0387748077454288E8|1.2720005267391E13| 1.866557570104685E7|   219040.2843801895|      444222.84375|302805.1770833333|            4.0494522530509937E8|0.026846004088842967|8824.827864583334|8824.827864583334|8824.827864583334|8824.827864583334|8824.827864583334|8824.827864583334|       8837.87375|\n",
            "|2019-11-10 03:00:00| 12|       8837.87375|          8835.31|       9127.30125|       8734.38875|       9002.44375|        122.950783|  1.80402453125E7| 1.62416274571875E11|  4.24493445693125E7|248463.21003262498|0.8509536811717062|       4.731854055E8|       1850.260043485195|1.0377868157274096E8|1.2720005267391E13|  1.86445844894212E7|  219521.98942120624|        445016.375|       303086.375|             4.086383763155295E8|  0.0268387989437624|8826.013854166667|8826.013854166667|8826.013854166667|8826.013854166667|8826.013854166667|8826.013854166667|8840.245729166667|\n",
            "|2019-11-10 03:15:00| 13|8840.245729166667|8837.865833333333|9126.633020833333|8732.943645833333|8999.154895833333|123.26555616666667|1.8040263671875E7|1.623638186236979E11| 4.263537471556354E7| 248464.6440817604|0.8527712449641276| 4.731885287916667E8|      1853.9905491169936|1.0367988237093903E8|1.2720005267391E13| 1.862359327779555E7|    220003.694462223|      445809.90625|303367.5729166667|             4.123315273259596E8| 0.02683159766521115|    8827.19984375|    8827.19984375|    8827.19984375|    8827.19984375|    8827.19984375|    8827.19984375|8842.617708333333|\n",
            "|2019-11-10 03:30:00| 14|8842.617708333333|8840.421666666665|9125.964791666667|8731.498541666666|8995.866041666666|123.58032933333334| 1.804028203125E7|1.623113626755208...| 4.282140486181458E7|248466.07813089582| 0.854588808756549| 4.731916520833333E8|      1857.7210547487925|1.0358108316913712E8|1.2720005267391E13|  1.86026020661699E7|  220485.39950323978|       446603.4375|303648.7708333333|             4.160246783363898E8| 0.02682440025005839|8828.385833333334|8828.385833333334|8828.385833333334|8828.385833333334|8828.385833333334|8828.385833333334|     8844.9896875|\n",
            "|2019-11-10 03:45:00| 15|     8844.9896875|8842.977499999999|     9125.2965625|8730.053437499999|     8992.5771875|123.89510250000001|1.8040300390625E7|1.622589067273437...|4.3007435008065626E7|248467.51218003125|0.8564063725489703|     4.73194775375E8|      1861.4515603805912| 1.034822839673352E8|1.2720005267391E13| 1.858161085454425E7|  220967.10454425655|      447396.96875|     303929.96875|             4.197178293468199E8|  0.0268172066952177|8829.571822916667|8829.571822916667|8829.571822916667|8829.571822916667|8829.571822916667|8829.571822916667|8847.361666666668|\n",
            "|2019-11-10 04:00:00| 16|8847.361666666668|8845.533333333333|9124.628333333334|8728.608333333334|8989.288333333334|124.20987566666668|    1.804031875E7|1.622064507791666...|4.3193465154316664E7|248468.94622916664|0.8582239363413916| 4.731978986666667E8|        1865.18206601239|1.0338348476553328E8|1.2720005267391E13|1.8560619642918598E7|  221448.80958527332|          448190.5|304211.1666666667|               4.2341098035725E8|0.026810016997536046|     8830.7578125|     8830.7578125|     8830.7578125|     8830.7578125|     8830.7578125|     8830.7578125|8849.733645833334|\n",
            "|2019-11-10 04:15:00| 17|8849.733645833334|8848.089166666667|9123.960104166666|8727.163229166666|8985.999479166667|124.52464883333334|1.8040337109375E7|1.621539948309896E11| 4.337949530056771E7|248470.38027830207| 0.860041500133813| 4.732010219583333E8|      1868.9125716441886|1.0328468556373136E8|1.2720005267391E13|1.8539628431292947E7|   221930.5146262901|      448984.03125|304492.3645833333|            4.2710413136768013E8|0.026802831153949214|8831.943802083333|8831.943802083333|8831.943802083333|8831.943802083333|8831.943802083333|8831.943802083333|      8852.105625|\n",
            "|2019-11-10 04:30:00| 18|      8852.105625|         8850.645|9123.291874999999|      8725.718125|      8982.710625|        124.839422| 1.804035546875E7|1.621015388828125E11|4.3565525446818754E7| 248471.8143274375|0.8618590639262343|      4.7320414525E8|      1872.6430772759875|1.0318588636192945E8|1.2720005267391E13|  1.85186372196673E7|  222412.21966730687|       449777.5625|      304773.5625|             4.307972823781103E8|0.026795649161348578|8833.129791666666|8833.129791666666|8833.129791666666|8833.129791666666|8833.129791666666|8833.129791666666|8854.477604166666|\n",
            "|2019-11-10 04:45:00| 19|8854.477604166666|8853.200833333332|9122.623645833333|8724.273020833332|8979.421770833333|125.15419516666667|1.8040373828125E7|1.620490829346354E11| 4.375155559306979E7| 248473.2483765729|0.8636766277186557| 4.732072685416667E8|      1876.3735829077862|1.0308708716012752E8|1.2720005267391E13| 1.849764600804165E7|  222893.92470832364|      450571.09375|305054.7604166667|             4.344904333885404E8|0.026788471016625515|    8834.31578125|    8834.31578125|    8834.31578125|    8834.31578125|    8834.31578125|    8834.31578125|8856.849583333333|\n",
            "+-------------------+---+-----------------+-----------------+-----------------+-----------------+-----------------+------------------+-----------------+--------------------+--------------------+------------------+------------------+--------------------+------------------------+--------------------+------------------+--------------------+--------------------+------------------+-----------------+--------------------------------+--------------------+-----------------+-----------------+-----------------+-----------------+-----------------+-----------------+-----------------+\n",
            "only showing top 20 rows\n",
            "\n"
          ]
        }
      ],
      "source": [
        "# # Datasets dirs\n",
        "# DATASET_OUTPUT_DIR = MAIN_DIR + \"/datasets/output\"\n",
        "\n",
        "# # Datasets names\n",
        "# DATASET_NAME = \"bitcoin_blockchain_data_15min\"\n",
        "\n",
        "# # Datasets paths\n",
        "# TRAIN = DATASET_OUTPUT_DIR + \"/\" + DATASET_NAME + \"_train_valid.parquet\"\n",
        "# TEST = DATASET_OUTPUT_DIR + \"/\" + DATASET_NAME + \"_test.parquet\"\n",
        "\n",
        "# # Load datasets into pyspark dataset objects\n",
        "# train = spark.read.load(TRAIN,\n",
        "#         format=\"parquet\",\n",
        "#         sep=\",\",\n",
        "#         inferSchema=\"true\",\n",
        "#         header=\"true\"\n",
        "# )\n",
        "\n",
        "# test = spark.read.load(TEST,\n",
        "#         format=\"parquet\",\n",
        "#         sep=\",\",\n",
        "#         inferSchema=\"true\",\n",
        "#         header=\"true\"\n",
        "# )\n",
        "\n",
        "# # Define a function for merging multiple DataFrames row-wise\n",
        "# def unionAll(dfs):\n",
        "#     return functools.reduce(lambda df1, df2: df1.unionAll(df2), dfs)\n",
        "\n",
        "# # Merge the two DataFrames using the unionAll() method\n",
        "# merged_df = unionAll([train, test])\n",
        "\n",
        "# merged_df.show()"
      ]
    },
    {
      "cell_type": "code",
      "execution_count": null,
      "metadata": {
        "id": "Ui5CtB0sLv96"
      },
      "outputs": [],
      "source": [
        "# Convert the PySpark dataset into Pandas\n",
        "merged_df_pd = merged_df.toPandas()\n",
        "merged_df_pd"
      ]
    },
    {
      "cell_type": "code",
      "execution_count": null,
      "metadata": {
        "id": "kcnp_SJNLv96"
      },
      "outputs": [],
      "source": [
        "# List of features according to categories\n",
        "ohlcv_statistics = {'Opening price (USD)':'opening-price', 'Highest price (USD)':'highest-price', 'Lowest price (USD)':'lowest-price', 'Closing price (USD)':'closing-price', 'Trade volume (BTC)':'trade-volume-btc'}\n",
        "currency_statistics = {'Market price (USD)':'market-price', 'Market cap (USD)':'market-cap', 'N. total bitcoins':'total-bitcoins', 'Trade volume (USD)':'trade-volume-usd'}\n",
        "block_details = {'Blocks size (MB)':'blocks-size', 'Avg. block size (MB)':'avg-block-size', 'N. total transactions':'n-transactions-total', 'N. transactions per block':'n-transactions-per-block'}\n",
        "mining_information = {'Hash rate (TH/s)':'hash-rate', 'Difficulty (T)':'difficulty', 'Miners revenue (USD)':'miners-revenue', 'Transaction fees (USD)':'transaction-fees-usd'}\n",
        "network_activity = {\"N. unique addresses\":'n-unique-addresses', 'N. transactions':'n-transactions', 'Estimated transaction volume (USD)':'estimated-transaction-volume-usd'}\n",
        "additional_features = {\"Rate of change (%)\":\"rate-of-change\", \"Simple moving avg. (5d)\":\"sma-5-days\", \"Simple moving avg. (7d)\":\"sma-7-days\", \"Simple moving avg. (10d)\":\"sma-10-days\", \"Simple moving avg. (20d)\":\"sma-20-days\", \"Simple moving avg. (50d)\":\"sma-50-days\", \"Simple moving avg. (100d)\":\"sma-100-days\"}"
      ]
    },
    {
      "cell_type": "code",
      "execution_count": null,
      "metadata": {},
      "outputs": [],
      "source": [
        "# OHLC Statistics\n",
        "ohlc_statistics = list(ohlcv_statistics.items())[:4]\n",
        "print(ohlc_statistics)\n",
        "\n",
        "# Volume Statistics\n",
        "volume_statistics = list(ohlcv_statistics.items())[4:]\n",
        "print(volume_statistics)"
      ]
    },
    {
      "cell_type": "code",
      "execution_count": null,
      "metadata": {},
      "outputs": [],
      "source": [
        "# OHLCV Statistics\n",
        "if SLOW_OPERATIONS:\n",
        "  visualization.ohlcv_visualization(merged_df_pd, ohlc_statistics, \"OHLC Statistics (usd)\")\n",
        "  visualization.features_visualization(merged_df_pd, volume_statistics[0][0], volume_statistics[0][1])"
      ]
    },
    {
      "cell_type": "markdown",
      "metadata": {},
      "source": [
        "The OHLCV stastistics chart is a type of bar chart that shows the open, high, low, close and volume values for each period. They are useful because they show the five main points of a period, with the closing price being considered the most important by many traders. Due to an Algo Bug on Binance's U.S. Exchange we have a strange dump on 21 October 2021 regarding the lower price.\n",
        "\n",
        "Source: https://www.bloomberg.com/news/articles/2021-10-21/bitcoin-appears-to-crash-87-on-binance-in-apparent-mistake#xj4y7vzkg"
      ]
    },
    {
      "cell_type": "code",
      "execution_count": null,
      "metadata": {
        "id": "GeBnhpcSLv98"
      },
      "outputs": [],
      "source": [
        "# Currency Statistics\n",
        "if SLOW_OPERATIONS:\n",
        "  for key, value in currency_statistics.items():\n",
        "    visualization.features_visualization(merged_df_pd, key, value)"
      ]
    },
    {
      "cell_type": "markdown",
      "metadata": {
        "id": "O4s2g3s4gcyT"
      },
      "source": [
        "Concerning currency statistics, we can see that in the period from late 2020 to mid-2022 there has been a rise in the price of Bitcoin, while the amount of Bitcoins issued is slowly peaking (i.e. 21 million), it is thought that the last BTC will be mined in 2140."
      ]
    },
    {
      "cell_type": "code",
      "execution_count": null,
      "metadata": {
        "id": "x9PPFCl9Lv98"
      },
      "outputs": [],
      "source": [
        "# Block Details\n",
        "if SLOW_OPERATIONS:\n",
        "  for key, value in block_details.items():\n",
        "    visualization.features_visualization(merged_df_pd, key, value)"
      ]
    },
    {
      "cell_type": "markdown",
      "metadata": {
        "id": "HApd6t9TgcyT"
      },
      "source": [
        "Concerning block details, we can see that over time the number of transactions has increased exponentially, along with the size of the blocks. The peak around the end of January 2023 is due to the creation of the Ordinals protocol that allows the creation of 'digital artefacts' on the Bitcoin network (These can include JPEG images, PDFs and audio and video files)."
      ]
    },
    {
      "cell_type": "code",
      "execution_count": null,
      "metadata": {
        "id": "SMJYU9RGLv98"
      },
      "outputs": [],
      "source": [
        "# Mining Information\n",
        "if SLOW_OPERATIONS:\n",
        "  for key, value in mining_information.items():\n",
        "    visualization.features_visualization(merged_df_pd, key, value)"
      ]
    },
    {
      "cell_type": "markdown",
      "metadata": {
        "id": "JmWh82QHgcyT"
      },
      "source": [
        "Regarding mining information, we can see how the difficulty of the network along with the hash rate has also increased exponentially, the greater the hashing (computing) power in the network, the greater its security and resistance to attacks. While the miners revenue more or less follows the price trend of Bitcoin itself (this is also thanks to the transaction fees that are distributed to the miners). The two biggest spikes in transaction fees are due to a combination of ASIC shortages, huge price increases of BTC outpacing difficulty and the sudden hashrate drop, resulting in slower block times, backlog of transactions and extra fees per block (20 - 21 April 2021, Source: https://www.coindesk.com/markets/2021/04/21/bitcoin-transactions-are-more-expensive-than-ever/) and the increase in demand for block space attributed to the increase in Ordinals (8 May 2023, Source: https://www.coindesk.com/tech/2023/05/08/ordinals-upend-bitcoin-mining-pushing-transaction-fees-above-mining-reward-for-first-time-in-years/)."
      ]
    },
    {
      "cell_type": "code",
      "execution_count": null,
      "metadata": {
        "id": "xb-RqdrfLv98"
      },
      "outputs": [],
      "source": [
        "# Network Activity\n",
        "if SLOW_OPERATIONS:\n",
        "  for key, value in network_activity.items():\n",
        "    visualization.features_visualization(merged_df_pd, key, value)"
      ]
    },
    {
      "cell_type": "markdown",
      "metadata": {
        "id": "QxPPZ8RZgcyU"
      },
      "source": [
        "Regarding Network Activity, we can see how this also increases as time goes by, a symbol that the Bitcoin protocol is becoming more and more popular and people are willing to pay to use it."
      ]
    },
    {
      "cell_type": "code",
      "execution_count": null,
      "metadata": {
        "id": "smotu8fBLv98"
      },
      "outputs": [],
      "source": [
        "# Additional Features: Rate of change\n",
        "if SLOW_OPERATIONS:\n",
        "  first_pair = next(iter(additional_features.items()))\n",
        "  visualization.features_visualization(merged_df_pd, first_pair[0], first_pair[1])"
      ]
    },
    {
      "cell_type": "code",
      "execution_count": null,
      "metadata": {
        "id": "wVsE5Ed_aZap"
      },
      "outputs": [],
      "source": [
        "# Extract the short term SMA\n",
        "short_term_sma = list(additional_features.items())[1:4]\n",
        "print(short_term_sma)\n",
        "\n",
        "# Extract the long term SMA\n",
        "long_term_sma = list(additional_features.items())[-3:]\n",
        "print(long_term_sma)"
      ]
    },
    {
      "cell_type": "code",
      "execution_count": null,
      "metadata": {
        "id": "O45Snn4nLv99"
      },
      "outputs": [],
      "source": [
        "# Additional Features: Short term SMA\n",
        "if SLOW_OPERATIONS:\n",
        "  visualization.sma_visualization(merged_df_pd, short_term_sma, \"Short term SMA (usd)\")"
      ]
    },
    {
      "cell_type": "code",
      "execution_count": null,
      "metadata": {
        "id": "gFPGKfPXaXPb"
      },
      "outputs": [],
      "source": [
        "# Additional Features: Long term SMA\n",
        "if SLOW_OPERATIONS:\n",
        "  visualization.sma_visualization(merged_df_pd,long_term_sma, \"Long term SMA (usd)\")"
      ]
    },
    {
      "cell_type": "markdown",
      "metadata": {
        "id": "cY3pzsf1gcyU"
      },
      "source": [
        "Taking into consideration the Rate of Change (which shows us the price variations over a short period of time) and the Simple Moving Averages (which instead give us a more medium to long term view of the price) we can see that the main price variations occur precisely in the latter, this tells us that although Bitcoin has high price volatility this often occurs days or even months later, except in some cases where unpredictable pumps or dumps can occur due to sudden news."
      ]
    },
    {
      "cell_type": "markdown",
      "metadata": {
        "id": "p1Fc7fl2Lv99"
      },
      "source": [
        "#  Feature selection\n",
        "Here we are going to select blockchain features plus features added at the beginning to be eventually added to the main ones, i.e. those dedicated to currency based on their correlation and importance with respect to the market price using the Pearson method."
      ]
    },
    {
      "cell_type": "code",
      "execution_count": null,
      "metadata": {},
      "outputs": [],
      "source": [
        "# # Datasets dirs\n",
        "# DATASET_OUTPUT_DIR = MAIN_DIR + \"/datasets/output\"\n",
        "\n",
        "# # Datasets names\n",
        "# DATASET_NAME = \"bitcoin_blockchain_data_15min\"\n",
        "\n",
        "# # Datasets paths\n",
        "# TRAIN = DATASET_OUTPUT_DIR + \"/\" + DATASET_NAME + \"_train_valid.parquet\"\n",
        "# TEST = DATASET_OUTPUT_DIR + \"/\" + DATASET_NAME + \"_test.parquet\"\n",
        "\n",
        "# # Load datasets into pyspark dataset objects\n",
        "# train = spark.read.load(TRAIN,\n",
        "#         format=\"parquet\",\n",
        "#         sep=\",\",\n",
        "#         inferSchema=\"true\",\n",
        "#         header=\"true\"\n",
        "# )\n",
        "\n",
        "# test = spark.read.load(TEST,\n",
        "#         format=\"parquet\",\n",
        "#         sep=\",\",\n",
        "#         inferSchema=\"true\",\n",
        "#         header=\"true\"\n",
        "# )\n",
        "\n",
        "# # Define a function for merging multiple DataFrames row-wise\n",
        "# def unionAll(dfs):\n",
        "#     return functools.reduce(lambda df1, df2: df1.unionAll(df2), dfs)\n",
        "\n",
        "# # Merge the two DataFrames using the unionAll() method\n",
        "# merged_df = unionAll([train, test])\n",
        "\n",
        "# merged_df.show()\n",
        "\n",
        "# ohlcv_statistics = {'Opening price (USD)':'opening-price', 'Highest price (USD)':'highest-price', 'Lowest price (USD)':'lowest-price', 'Closing price (USD)':'closing-price', 'Trade volume (BTC)':'trade-volume-btc'}\n",
        "# currency_statistics = {'Market price (USD)':'market-price', 'Market cap (USD)':'market-cap', 'N. total bitcoins':'total-bitcoins', 'Trade volume (USD)':'trade-volume-usd'}"
      ]
    },
    {
      "cell_type": "code",
      "execution_count": null,
      "metadata": {
        "id": "DoG9Hf-vgcyV"
      },
      "outputs": [],
      "source": [
        "# Prepare dataset to feature selection\n",
        "new_columns = [\"next-market-price\"] + [col for col in merged_df.columns if col not in ['timestamp', 'id', 'next-market-price', 'opening-price', 'highest-price', 'lowest-price', 'closing-price', 'trade-volume-btc', 'market-price', 'market-cap', 'total-bitcoins', 'trade-volume-usd']]\n",
        "merged_df_only_blockchain_data = merged_df.select(*new_columns)\n",
        "merged_df_only_blockchain_data.show()"
      ]
    },
    {
      "cell_type": "code",
      "execution_count": null,
      "metadata": {
        "id": "1uF8wkgFgcyV"
      },
      "outputs": [],
      "source": [
        "# Assemble the data to apply PySpark methods\n",
        "assembler = VectorAssembler(inputCols=merged_df_only_blockchain_data.columns, outputCol='features')\n",
        "assembled_data = assembler.transform(merged_df_only_blockchain_data)"
      ]
    },
    {
      "cell_type": "code",
      "execution_count": null,
      "metadata": {
        "id": "H_nWs3HPgcyV"
      },
      "outputs": [],
      "source": [
        "# Compute the correlation matrix\n",
        "correlation_matrix = Correlation.corr(assembled_data, 'features').head()\n",
        "\n",
        "# Get the highest correlated features\n",
        "correlation_scores = correlation_matrix[0].toArray()\n",
        "feature_names = merged_df_only_blockchain_data.columns\n",
        "feature_correlations = sorted([(feature_names[i], str(correlation_scores[i][0])) for i in range(len(feature_names))], key=lambda x: x[1], reverse=True)\n",
        "\n",
        "# Print the results\n",
        "for label, value in feature_correlations:\n",
        "    print(f\"Feature: {label}, Correlation: {value}\")"
      ]
    },
    {
      "cell_type": "markdown",
      "metadata": {
        "id": "aoOg-6CsgcyV"
      },
      "source": [
        "Finally, I decided to divide the features into two distinct groups:\n",
        "- **Currency features:** contains currency statistics and ohlcv statistics\n",
        "- **Currency and blockchain features:** contains the currency features plus the blockchain features divided based on their correlation value: \n",
        "    - If >= 0.5, then then they will be considered the **most correlated**\n",
        "    - If < 0.5, then then they will be considered the **least correlated**\n",
        "\n",
        "The strategy for the next notebooks will be as follows:\n",
        "- Test models with currency features\n",
        "- See if by adding the blockchain most and least correlated features to them improves the situation"
      ]
    },
    {
      "cell_type": "code",
      "execution_count": null,
      "metadata": {
        "id": "29kHzxhUgcyV"
      },
      "outputs": [],
      "source": [
        "currency_features = list(ohlcv_statistics.values()) + list(currency_statistics.values())\n",
        "most_corr_features = [x[0] for x in feature_correlations[1:] if float(x[1]) >= 0.5]\n",
        "currency_most_corr_features = currency_features + most_corr_features\n",
        "discarded_features = [x[0] for x in feature_correlations[1:] if float(x[1]) < 0.5]\n",
        "currency_least_corr_features = currency_features + discarded_features"
      ]
    },
    {
      "cell_type": "code",
      "execution_count": null,
      "metadata": {},
      "outputs": [],
      "source": [
        "currency_features"
      ]
    },
    {
      "cell_type": "code",
      "execution_count": null,
      "metadata": {
        "id": "fDAHGGxUgcyW"
      },
      "outputs": [],
      "source": [
        "most_corr_features"
      ]
    },
    {
      "cell_type": "code",
      "execution_count": null,
      "metadata": {},
      "outputs": [],
      "source": [
        "currency_most_corr_features"
      ]
    },
    {
      "cell_type": "code",
      "execution_count": null,
      "metadata": {},
      "outputs": [],
      "source": [
        "discarded_features"
      ]
    },
    {
      "cell_type": "code",
      "execution_count": null,
      "metadata": {},
      "outputs": [],
      "source": [
        "currency_least_corr_features"
      ]
    },
    {
      "cell_type": "markdown",
      "metadata": {
        "id": "Q1dizTOFLv99"
      },
      "source": [
        "# Saving selected features"
      ]
    },
    {
      "cell_type": "code",
      "execution_count": null,
      "metadata": {
        "id": "Qs3tXlH3mozj"
      },
      "outputs": [],
      "source": [
        "# Save all the features and their correlation value\n",
        "with open(FEATURES_CORRELATION, 'w') as file:\n",
        "    json.dump(feature_correlations, file)"
      ]
    },
    {
      "cell_type": "code",
      "execution_count": null,
      "metadata": {},
      "outputs": [],
      "source": [
        "# Save currency and ohlcv features\n",
        "with open(CURRENCY_FEATURES, 'w') as file:\n",
        "    json.dump(currency_features, file)"
      ]
    },
    {
      "cell_type": "code",
      "execution_count": null,
      "metadata": {
        "id": "InZ_DK88Lv9-"
      },
      "outputs": [],
      "source": [
        "# Save currency, ohlcv and blockchain most correlated features\n",
        "with open(CURRENCY_MOST_CORR_FEATURES, 'w') as file:\n",
        "    json.dump(currency_most_corr_features, file)"
      ]
    },
    {
      "cell_type": "code",
      "execution_count": null,
      "metadata": {},
      "outputs": [],
      "source": [
        "# Save currency, ohlcv and blockchain least correlated features\n",
        "with open(CURRENCY_LEAST_CORR_FEATURES, 'w') as file:\n",
        "    json.dump(currency_least_corr_features, file)"
      ]
    },
    {
      "cell_type": "code",
      "execution_count": null,
      "metadata": {
        "id": "Dm-om-aegcyW"
      },
      "outputs": [],
      "source": [
        "# Export notebook in html format (remember to save the notebook and change the model name)\n",
        "if LOCAL_RUNNING:\n",
        "    !jupyter nbconvert --to html 2-feature-engineering.ipynb --output 2-feature-engineering --output-dir='./exports'"
      ]
    }
  ],
  "metadata": {
    "colab": {
      "provenance": []
    },
    "kernelspec": {
      "display_name": "Python 3",
      "language": "python",
      "name": "python3"
    },
    "language_info": {
      "codemirror_mode": {
        "name": "ipython",
        "version": 3
      },
      "file_extension": ".py",
      "mimetype": "text/x-python",
      "name": "python",
      "nbconvert_exporter": "python",
      "pygments_lexer": "ipython3",
      "version": "3.11.6"
    }
  },
  "nbformat": 4,
  "nbformat_minor": 0
}
