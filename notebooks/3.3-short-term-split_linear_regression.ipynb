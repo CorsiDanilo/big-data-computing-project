{
  "cells": [
    {
      "cell_type": "markdown",
      "metadata": {
        "id": "2Xm5Q2vdDoc8"
      },
      "source": [
        "# **Bitcoin price prediction - Linear Regression**\n",
        "### Big Data Computing final project - A.Y. 2022 - 2023\n",
        "Prof. Gabriele Tolomei\n",
        "\n",
        "MSc in Computer Science\n",
        "\n",
        "La Sapienza, University of Rome\n",
        "\n",
        "### Author: Corsi Danilo (1742375) - corsi.1742375@studenti.uniroma1.it\n",
        "\n",
        "\n",
        "---\n",
        "\n",
        "\n",
        "Description: executing the chosen model, first with default values, then by choosing the best parameters by performing hyperparameter tuning with cross validation and performance evaluation."
      ]
    },
    {
      "cell_type": "markdown",
      "metadata": {
        "id": "bFaTBxjkDoc_"
      },
      "source": [
        "# Global constants, dependencies, libraries and tools"
      ]
    },
    {
      "cell_type": "code",
      "execution_count": 1,
      "metadata": {
        "id": "YSgxH69qDoc_"
      },
      "outputs": [],
      "source": [
        "# Main constants\n",
        "LOCAL_RUNNING = True\n",
        "SLOW_OPERATIONS = True # Decide whether or not to use operations that might slow down notebook execution\n",
        "SPLITTING_METHOD = \"single_split\"\n",
        "MODEL_NAME = \"LinearRegression\"\n",
        "ROOT_DIR = \"D:/Documents/Repository/BDC/project\" if LOCAL_RUNNING else \"/content/drive\""
      ]
    },
    {
      "cell_type": "code",
      "execution_count": 2,
      "metadata": {
        "colab": {
          "base_uri": "https://localhost:8080/"
        },
        "id": "N2BjmunuDodA",
        "outputId": "2defb2af-b7fe-4732-b3c6-54e205d51da9"
      },
      "outputs": [],
      "source": [
        "if not LOCAL_RUNNING:\n",
        "    # Point Colaboratory to Google Drive\n",
        "    from google.colab import drive\n",
        "\n",
        "    # Define GDrive paths\n",
        "    drive.mount(ROOT_DIR, force_remount=True)"
      ]
    },
    {
      "cell_type": "code",
      "execution_count": 3,
      "metadata": {
        "id": "05L2ouBFDodB"
      },
      "outputs": [],
      "source": [
        "# Set main dir\n",
        "MAIN_DIR = ROOT_DIR + \"\" if LOCAL_RUNNING else ROOT_DIR + \"/MyDrive/BDC/project\"\n",
        "\n",
        "###################\n",
        "# --- DATASET --- #\n",
        "###################\n",
        "\n",
        "# Datasets dirs\n",
        "DATASET_OUTPUT_DIR = MAIN_DIR + \"/datasets/output\"\n",
        "\n",
        "# Datasets names\n",
        "DATASET_TRAIN_VALID_NAME = \"bitcoin_blockchain_data_15min_train_valid\"\n",
        "\n",
        "# Datasets paths\n",
        "DATASET_TRAIN_VALID  = DATASET_OUTPUT_DIR + \"/\" + DATASET_TRAIN_VALID_NAME + \".parquet\"\n",
        "\n",
        "####################\n",
        "# --- FEATURES --- #\n",
        "####################\n",
        "\n",
        "# Features dir\n",
        "FEATURES_DIR = MAIN_DIR + \"/features\"\n",
        "\n",
        "# Features labels\n",
        "FEATURES_LABEL = \"features\"\n",
        "TARGET_LABEL = \"next-market-price\"\n",
        "\n",
        "# Features names\n",
        "ALL_FEATURES_NAME = \"all_features\"\n",
        "MOST_REL_FEATURES_NAME = \"most_rel_features\"\n",
        "LEAST_REL_FEATURES_NAME = \"least_rel_features\"\n",
        "\n",
        "# Features paths\n",
        "ALL_FEATURES = FEATURES_DIR + \"/\" + ALL_FEATURES_NAME + \".json\"\n",
        "MOST_REL_FEATURES = FEATURES_DIR + \"/\" + MOST_REL_FEATURES_NAME + \".json\"\n",
        "LEAST_REL_FEATURES = FEATURES_DIR + \"/\" + LEAST_REL_FEATURES_NAME + \".json\"\n",
        "\n",
        "##################\n",
        "# --- MODELS --- #\n",
        "##################\n",
        "\n",
        "# Model dir\n",
        "MODELS_DIR = MAIN_DIR + \"/models\"\n",
        "\n",
        "# Model path\n",
        "MODEL = MODELS_DIR + \"/\" + MODEL_NAME\n",
        "\n",
        "#####################\n",
        "# --- UTILITIES --- #\n",
        "#####################\n",
        "\n",
        "# Utilities dir\n",
        "UTILITIES_DIR = MAIN_DIR + \"/utilities\"\n",
        "\n",
        "###################\n",
        "# --- RESULTS --- #\n",
        "###################\n",
        "\n",
        "# Results dir\n",
        "RESULTS_DIR = MAIN_DIR + \"/results/\" + SPLITTING_METHOD\n",
        "\n",
        "# Results path\n",
        "ALL_MODEL_RESULTS  = RESULTS_DIR + \"/\" + MODEL_NAME + \"_all.csv\"\n",
        "REL_MODEL_RESULTS  = RESULTS_DIR + \"/\" + MODEL_NAME + \"_rel.csv\"\n",
        "\n",
        "MODEL_ACCURACY_RESULTS  = RESULTS_DIR + \"/\" + MODEL_NAME + \"_accuracy.csv\""
      ]
    },
    {
      "cell_type": "code",
      "execution_count": null,
      "metadata": {},
      "outputs": [],
      "source": [
        "# Suppression of warnings for better reading\n",
        "import warnings\n",
        "\n",
        "warnings.simplefilter(action='ignore', category=FutureWarning)"
      ]
    },
    {
      "cell_type": "code",
      "execution_count": 5,
      "metadata": {
        "colab": {
          "base_uri": "https://localhost:8080/"
        },
        "id": "ngIIwIWBDodC",
        "outputId": "f27d69c7-3f87-4373-f053-a2cfc6263a01"
      },
      "outputs": [],
      "source": [
        "if not LOCAL_RUNNING:\n",
        "    # Install Spark and related dependencies\n",
        "    !pip install pyspark\n",
        "    !pip install -U -q PyDrive -qq\n",
        "    !apt install openjdk-8-jdk-headless -qq"
      ]
    },
    {
      "cell_type": "markdown",
      "metadata": {
        "id": "nlBYwBktDodD"
      },
      "source": [
        "# Import files"
      ]
    },
    {
      "cell_type": "code",
      "execution_count": 34,
      "metadata": {
        "colab": {
          "base_uri": "https://localhost:8080/"
        },
        "id": "tQPquSlLDodD",
        "outputId": "f4e69e28-e422-4857-c185-337bb3e8bb48"
      },
      "outputs": [
        {
          "data": {
            "text/plain": [
              "<module 'parameters' from 'D:\\\\Documents/Repository/BDC/project/utilities\\\\parameters.py'>"
            ]
          },
          "execution_count": 34,
          "metadata": {},
          "output_type": "execute_result"
        }
      ],
      "source": [
        "# Import my files\n",
        "import sys\n",
        "sys.path.append(UTILITIES_DIR)\n",
        "\n",
        "from imports import *\n",
        "import utilities, parameters\n",
        "\n",
        "importlib.reload(utilities)\n",
        "importlib.reload(parameters)"
      ]
    },
    {
      "cell_type": "markdown",
      "metadata": {
        "id": "KHtUnGFHDodF"
      },
      "source": [
        "# Create the pyspark session"
      ]
    },
    {
      "cell_type": "code",
      "execution_count": 7,
      "metadata": {
        "id": "Hv8S8qm9DodF"
      },
      "outputs": [],
      "source": [
        "# Create the session\n",
        "conf = SparkConf().\\\n",
        "                set('spark.ui.port', \"4050\").\\\n",
        "                set('spark.executor.memory', '12G').\\\n",
        "                set('spark.driver.memory', '12G').\\\n",
        "                set('spark.driver.maxResultSize', '109G').\\\n",
        "                set(\"spark.kryoserializer.buffer.max\", \"1G\").\\\n",
        "                setAppName(\"BitcoinPricePrediction\").\\\n",
        "                setMaster(\"local[*]\")\n",
        "\n",
        "# Create the context\n",
        "sc = pyspark.SparkContext(conf=conf)\n",
        "spark = SparkSession.builder.getOrCreate()"
      ]
    },
    {
      "cell_type": "markdown",
      "metadata": {
        "id": "OVWzuZF2DodG"
      },
      "source": [
        "# Loading dataset"
      ]
    },
    {
      "cell_type": "code",
      "execution_count": 8,
      "metadata": {
        "id": "ypesRPbdDodG"
      },
      "outputs": [],
      "source": [
        "# Load train / validation set into pyspark dataset objects\n",
        "df = spark.read.load(DATASET_TRAIN_VALID,\n",
        "                         format=\"parquet\",\n",
        "                         sep=\",\",\n",
        "                         inferSchema=\"true\",\n",
        "                         header=\"true\"\n",
        "                    )"
      ]
    },
    {
      "cell_type": "code",
      "execution_count": 9,
      "metadata": {
        "id": "rYlLh3l2DodH"
      },
      "outputs": [],
      "source": [
        "def dataset_info(dataset):\n",
        "  # Print dataset\n",
        "  dataset.show(3)\n",
        "\n",
        "  # Get the number of rows\n",
        "  num_rows = dataset.count()\n",
        "\n",
        "  # Get the number of columns\n",
        "  num_columns = len(dataset.columns)\n",
        "\n",
        "  # Print the shape of the dataset\n",
        "  print(\"Shape:\", (num_rows, num_columns))\n",
        "\n",
        "  # Print the schema of the dataset\n",
        "  dataset.printSchema()"
      ]
    },
    {
      "cell_type": "code",
      "execution_count": 10,
      "metadata": {
        "colab": {
          "base_uri": "https://localhost:8080/"
        },
        "id": "Fktk1rgeDodH",
        "outputId": "ab88103d-02bd-4327-a244-5f566f3d9492"
      },
      "outputs": [
        {
          "name": "stdout",
          "output_type": "stream",
          "text": [
            "+-------------------+---+------------------+--------------------+--------------------+--------------------+------------------+------------------+--------------------+------------------------+-------------------+------------------+--------------------+--------------------+------------------+-----------------+--------------------------------+--------------------+------------------+------------------+------------------+------------------+------------------+------------------+------------------+\n",
            "|          timestamp| id|      market-price|      total-bitcoins|          market-cap|        trade-volume|       blocks-size|    avg-block-size|n-transactions-total|n-transactions-per-block|          hash-rate|        difficulty|      miners-revenue|transaction-fees-usd|n-unique-addresses|   n-transactions|estimated-transaction-volume-usd|      rate-of-change|        sma-5-days|        sma-7-days|       sma-10-days|       sma-20-days|       sma-50-days|      sma-100-days| next-market-price|\n",
            "+-------------------+---+------------------+--------------------+--------------------+--------------------+------------------+------------------+--------------------+------------------------+-------------------+------------------+--------------------+--------------------+------------------+-----------------+--------------------------------+--------------------+------------------+------------------+------------------+------------------+------------------+------------------+------------------+\n",
            "|2019-09-23 00:00:00|  0|          10033.05|          1.795205E7|      1.799872533E11|      5.9501805669E7|     241221.519675|  1.24371952631579|        4.57899079E8|        2527.62280701754| 6.73836536862649E7|1.1890594958796E13|  1.46471837982298E7|     322033.79822979|          544681.0|         288149.0|              8.55073770204309E8|-0.03630397370024685|10029.407604166667|10029.407604166667|10029.407604166667|10029.407604166667|10029.407604166667|10029.407604166667|10029.407604166667|\n",
            "|2019-09-23 00:15:00|  1|10029.407604166667|1.7952068619791668E7|1.799313342398437...| 6.013201162194166E7|241222.99548951042| 1.242885136677283|   4.5790207571875E8|       2524.731765304313|6.764841036650151E7|1.1890594958796E13|1.4694820996013507E7|  322519.98085038445| 545225.5104166666|288827.2708333333|             8.788676198815151E8|-0.03631715827184...|    10027.58640625|    10027.58640625|    10027.58640625|    10027.58640625|    10027.58640625|    10027.58640625|10025.765208333332|\n",
            "|2019-09-23 00:30:00|  2|10025.765208333332|1.7952087239583332E7|1.798754151796875E11|6.0762217574883334E7|241224.47130402082|1.2420507470387758|    4.579050724375E8|      2521.8407235910863| 6.79131670467381E7|1.1890594958796E13|1.4742458193797214E7|  323006.16347097885| 545770.0208333334|289505.5416666667|             9.026614695587213E8|-0.03633035242341931|10025.765208333332|10025.765208333332|10025.765208333332|10025.765208333332|10025.765208333332|10025.765208333332|     10022.1228125|\n",
            "+-------------------+---+------------------+--------------------+--------------------+--------------------+------------------+------------------+--------------------+------------------------+-------------------+------------------+--------------------+--------------------+------------------+-----------------+--------------------------------+--------------------+------------------+------------------+------------------+------------------+------------------+------------------+------------------+\n",
            "only showing top 3 rows\n",
            "\n",
            "Shape: (131232, 25)\n",
            "root\n",
            " |-- timestamp: timestamp_ntz (nullable = true)\n",
            " |-- id: integer (nullable = true)\n",
            " |-- market-price: double (nullable = true)\n",
            " |-- total-bitcoins: double (nullable = true)\n",
            " |-- market-cap: double (nullable = true)\n",
            " |-- trade-volume: double (nullable = true)\n",
            " |-- blocks-size: double (nullable = true)\n",
            " |-- avg-block-size: double (nullable = true)\n",
            " |-- n-transactions-total: double (nullable = true)\n",
            " |-- n-transactions-per-block: double (nullable = true)\n",
            " |-- hash-rate: double (nullable = true)\n",
            " |-- difficulty: double (nullable = true)\n",
            " |-- miners-revenue: double (nullable = true)\n",
            " |-- transaction-fees-usd: double (nullable = true)\n",
            " |-- n-unique-addresses: double (nullable = true)\n",
            " |-- n-transactions: double (nullable = true)\n",
            " |-- estimated-transaction-volume-usd: double (nullable = true)\n",
            " |-- rate-of-change: double (nullable = true)\n",
            " |-- sma-5-days: double (nullable = true)\n",
            " |-- sma-7-days: double (nullable = true)\n",
            " |-- sma-10-days: double (nullable = true)\n",
            " |-- sma-20-days: double (nullable = true)\n",
            " |-- sma-50-days: double (nullable = true)\n",
            " |-- sma-100-days: double (nullable = true)\n",
            " |-- next-market-price: double (nullable = true)\n",
            "\n"
          ]
        }
      ],
      "source": [
        "if SLOW_OPERATIONS:\n",
        "  dataset_info(df)"
      ]
    },
    {
      "cell_type": "markdown",
      "metadata": {},
      "source": [
        "Instead of considering the entire dataset, I will only consider the last two years from today's date in order to train / validate the model."
      ]
    },
    {
      "cell_type": "code",
      "execution_count": 11,
      "metadata": {
        "id": "rVhSpEQLDodI"
      },
      "outputs": [],
      "source": [
        "# Retrieve the last timestamp value\n",
        "last_value = df.agg(last(\"timestamp\")).collect()[0][0]\n",
        "\n",
        "# Consider only the last two years as of today\n",
        "split_date = last_value - relativedelta(years=2)\n",
        "\n",
        "# Split the dataset based on the desired date and drop the \"id\" column\n",
        "df = df[df['timestamp'] > split_date].drop(col(\"id\"))\n",
        "\n",
        "# Recompute id column\n",
        "df = df.withColumn(\"id\", F.row_number().over(Window.orderBy(F.monotonically_increasing_id()))-1)\n",
        "# Rearranges columns\n",
        "new_columns = [\"timestamp\", \"id\"] + [col for col in df.columns if col not in [\"timestamp\", \"id\", \"next-market-price\"]] + [\"next-market-price\"]\n",
        "df = df.select(*new_columns)"
      ]
    },
    {
      "cell_type": "code",
      "execution_count": 12,
      "metadata": {
        "colab": {
          "base_uri": "https://localhost:8080/"
        },
        "id": "arnhM7-BDodI",
        "outputId": "cedd92ee-7d85-4f08-8ba1-b790ed3dfcc6"
      },
      "outputs": [
        {
          "name": "stdout",
          "output_type": "stream",
          "text": [
            "+-------------------+---+------------------+--------------------+--------------------+--------------------+------------------+------------------+--------------------+------------------------+--------------------+------------------+--------------------+--------------------+------------------+--------------+--------------------------------+--------------------+-----------------+------------------+------------------+------------------+------------------+------------------+------------------+\n",
            "|          timestamp| id|      market-price|      total-bitcoins|          market-cap|        trade-volume|       blocks-size|    avg-block-size|n-transactions-total|n-transactions-per-block|           hash-rate|        difficulty|      miners-revenue|transaction-fees-usd|n-unique-addresses|n-transactions|estimated-transaction-volume-usd|      rate-of-change|       sma-5-days|        sma-7-days|       sma-10-days|       sma-20-days|       sma-50-days|      sma-100-days| next-market-price|\n",
            "+-------------------+---+------------------+--------------------+--------------------+--------------------+------------------+------------------+--------------------+------------------------+--------------------+------------------+--------------------+--------------------+------------------+--------------+--------------------------------+--------------------+-----------------+------------------+------------------+------------------+------------------+------------------+------------------+\n",
            "|2021-06-21 00:00:00|  0|          35592.35|       1.874016875E7|   6.100674534875E11| 4.679906409804999E8|     351323.082765|1.3532359333333328|        6.50588114E8|       1952.857142857143|1.0404076372581212E8|1.9932791027263E13| 2.312670027996504E7|  1325747.4307627026|          549345.0|      205050.0|             4.751842584489068E9|-0.04601819866723034|47387.43067852277| 50062.40892927716| 48118.85764086123| 33029.84884486813|20140.427815169052|20140.427815169052|35575.971041666664|\n",
            "|2021-06-21 00:15:00|  1|35575.971041666664|1.8740173372395832E7|6.102258292367513E11|4.7170876287504053E8| 351324.4846508021|1.3534410527502745| 6.505902150520834E8|       1954.686011904762|1.0402012071713637E8|1.9932791027263E13|2.3129276988564633E7|  1328850.3071641857| 549600.9791666666|  205194.03125|             4.749939687127698E9|-0.04603938516295...|47384.31152640124|50060.859293834656|48119.186697769896| 33030.67520871328|20140.679951812086|20140.679951812086| 35559.59208333333|\n",
            "|2021-06-21 00:30:00|  2| 35559.59208333333|1.8740177994791668E7|6.103842049860026E11| 4.754268847695812E8|351325.88653660414|1.3536461721672162| 6.505923161041666E8|       1956.514880952381|1.0399947770846061E8|1.9932791027263E13| 2.313185369716423E7|  1331953.1835656685| 549856.9583333334|   205338.0625|             4.748036789766329E9|-0.04606059117591155|47381.19007939445| 50059.30686641343| 48119.51302275022|33031.501158130544| 20140.93181238233| 20140.93181238233|      35543.213125|\n",
            "+-------------------+---+------------------+--------------------+--------------------+--------------------+------------------+------------------+--------------------+------------------------+--------------------+------------------+--------------------+--------------------+------------------+--------------+--------------------------------+--------------------+-----------------+------------------+------------------+------------------+------------------+------------------+------------------+\n",
            "only showing top 3 rows\n",
            "\n",
            "Shape: (70080, 25)\n",
            "root\n",
            " |-- timestamp: timestamp_ntz (nullable = true)\n",
            " |-- id: integer (nullable = false)\n",
            " |-- market-price: double (nullable = true)\n",
            " |-- total-bitcoins: double (nullable = true)\n",
            " |-- market-cap: double (nullable = true)\n",
            " |-- trade-volume: double (nullable = true)\n",
            " |-- blocks-size: double (nullable = true)\n",
            " |-- avg-block-size: double (nullable = true)\n",
            " |-- n-transactions-total: double (nullable = true)\n",
            " |-- n-transactions-per-block: double (nullable = true)\n",
            " |-- hash-rate: double (nullable = true)\n",
            " |-- difficulty: double (nullable = true)\n",
            " |-- miners-revenue: double (nullable = true)\n",
            " |-- transaction-fees-usd: double (nullable = true)\n",
            " |-- n-unique-addresses: double (nullable = true)\n",
            " |-- n-transactions: double (nullable = true)\n",
            " |-- estimated-transaction-volume-usd: double (nullable = true)\n",
            " |-- rate-of-change: double (nullable = true)\n",
            " |-- sma-5-days: double (nullable = true)\n",
            " |-- sma-7-days: double (nullable = true)\n",
            " |-- sma-10-days: double (nullable = true)\n",
            " |-- sma-20-days: double (nullable = true)\n",
            " |-- sma-50-days: double (nullable = true)\n",
            " |-- sma-100-days: double (nullable = true)\n",
            " |-- next-market-price: double (nullable = true)\n",
            "\n"
          ]
        }
      ],
      "source": [
        "if SLOW_OPERATIONS:\n",
        "  dataset_info(df)"
      ]
    },
    {
      "cell_type": "markdown",
      "metadata": {
        "id": "YY-gFc6LDodI"
      },
      "source": [
        "# Loading features"
      ]
    },
    {
      "cell_type": "code",
      "execution_count": 13,
      "metadata": {
        "colab": {
          "base_uri": "https://localhost:8080/"
        },
        "id": "RW-n42oBDodJ",
        "outputId": "b2782ed4-359b-451e-d4d1-b24dda9005da"
      },
      "outputs": [
        {
          "name": "stdout",
          "output_type": "stream",
          "text": [
            "['market-price', 'market-cap', 'miners-revenue', 'sma-5-days', 'sma-7-days', 'sma-10-days', 'estimated-transaction-volume-usd', 'sma-20-days', 'trade-volume', 'sma-100-days', 'n-unique-addresses', 'transaction-fees-usd', 'total-bitcoins', 'n-transactions-total', 'blocks-size', 'sma-50-days', 'hash-rate', 'difficulty', 'avg-block-size', 'n-transactions-per-block', 'n-transactions', 'rate-of-change']\n"
          ]
        }
      ],
      "source": [
        "# Loading all the features\n",
        "with open(ALL_FEATURES, \"r\") as f:\n",
        "    ALL_FEATURES = json.load(f)\n",
        "print(ALL_FEATURES)"
      ]
    },
    {
      "cell_type": "code",
      "execution_count": 14,
      "metadata": {
        "colab": {
          "base_uri": "https://localhost:8080/"
        },
        "id": "Emyww-MTDodJ",
        "outputId": "060ee913-ebb6-4d96-ef9a-df52fc973897"
      },
      "outputs": [
        {
          "name": "stdout",
          "output_type": "stream",
          "text": [
            "['market-price', 'market-cap', 'miners-revenue', 'sma-5-days', 'sma-7-days', 'sma-10-days', 'estimated-transaction-volume-usd', 'sma-20-days', 'trade-volume']\n"
          ]
        }
      ],
      "source": [
        "# Loading the most relevant features\n",
        "with open(MOST_REL_FEATURES, \"r\") as f:\n",
        "    MOST_REL_FEATURES = json.load(f)\n",
        "print(MOST_REL_FEATURES)"
      ]
    },
    {
      "cell_type": "code",
      "execution_count": 15,
      "metadata": {
        "colab": {
          "base_uri": "https://localhost:8080/"
        },
        "id": "SNLT3xdgDodJ",
        "outputId": "cb53419b-4a76-48cf-da1c-5731220402a5"
      },
      "outputs": [
        {
          "name": "stdout",
          "output_type": "stream",
          "text": [
            "['sma-100-days', 'n-unique-addresses', 'transaction-fees-usd', 'total-bitcoins', 'n-transactions-total', 'blocks-size', 'sma-50-days', 'hash-rate', 'difficulty', 'avg-block-size', 'n-transactions-per-block', 'n-transactions', 'rate-of-change']\n"
          ]
        }
      ],
      "source": [
        "# Loading least relevant features\n",
        "with open(LEAST_REL_FEATURES, \"r\") as f:\n",
        "    LEAST_REL_FEATURES = json.load(f)\n",
        "print(LEAST_REL_FEATURES)"
      ]
    },
    {
      "cell_type": "markdown",
      "metadata": {
        "id": "ml1T-1lIDodK"
      },
      "source": [
        "# Model train / validation\n",
        "In order to train and validate the model I'll try several approaches:\n",
        "- **Default without normalization:** Make predictions using the chosen base model\n",
        "- **Default with normalization:** Like the previous one but features are normalized\n",
        "\n",
        "At this point, the features that gave on average the most satisfactory results (for each model) are chosen and proceeded with:\n",
        "\n",
        "- **Hyperparameter tuning:** Researching the best parameters to use\n",
        "- **Cross Validation:** Validate the performance of the model with the chosen parameters\n",
        "\n",
        "If the final results are satisfactory, the model will be trained on the whole train / validation set and saved to later make predictions on the test set.\n",
        "\n",
        "---\n",
        "\n",
        "For each approach the train / validation set will be split according to the chosen splitting method (in order to figure out which one works best for our problem):\n",
        "\n",
        "- **Block time series splits:** Involves dividing the time series into blocks of equal length, and then using each block as a separate fold for cross-validation.\n",
        "\n",
        "    ![block-splits.png](https://drive.google.com/uc?id=1SPT133HO1VdWYZZv6GeknFY3xX3T2tvL)\n",
        "\n",
        "- **Walk forward time series splits:** Involves using a sliding window approach to create the training and validation sets for each fold. The model is trained on a fixed window of historical data, and then validated on the next observation in the time series. This process is repeated for each subsequent observation, with the window sliding forward one step at a time. \n",
        "\n",
        "    ![walk-forward-splits.png](https://drive.google.com/uc?id=1SNdq-kjbv4MXtdBj3EOJ2dmQpbbPStJi)\n",
        "\n",
        "- **Single time series split:** Involves dividing the time series considering as validation set a narrow period of time and as train set everything that happened before this period, in such a way as to best benefit from the trend in the short term.\n",
        "\n",
        "    ![single-split.png](https://drive.google.com/uc?id=1SODyQLolK4zn9lFGnNaqnMBZrHn3OsVn)"
      ]
    },
    {
      "cell_type": "code",
      "execution_count": 16,
      "metadata": {
        "colab": {
          "base_uri": "https://localhost:8080/"
        },
        "id": "5wF0XbS-DodK",
        "outputId": "5c104aaf-2068-431f-bc75-33f0da1f9932"
      },
      "outputs": [
        {
          "data": {
            "text/plain": [
              "{'split_type': 'single_split', 'split_label': 'months', 'split_value': 1}"
            ]
          },
          "execution_count": 16,
          "metadata": {},
          "output_type": "execute_result"
        }
      ],
      "source": [
        "# Get splitting parameters based on the choosen splitting method\n",
        "splitting_info = parameters.get_splitting_params(SPLITTING_METHOD)\n",
        "splitting_info"
      ]
    },
    {
      "cell_type": "markdown",
      "metadata": {
        "id": "nyvV-uODDodL"
      },
      "source": [
        "## Default\n",
        "The train / validation set will be splitted based on the splitting method chosen so that the model performance can be seen without any tuning by using different features (normalized and non)"
      ]
    },
    {
      "cell_type": "markdown",
      "metadata": {
        "id": "0RnXleAfDodL"
      },
      "source": [
        "### Without normalization"
      ]
    },
    {
      "cell_type": "code",
      "execution_count": 17,
      "metadata": {
        "id": "UOL04CeODodL"
      },
      "outputs": [],
      "source": [
        "# Define model and features type\n",
        "MODEL_TYPE = \"default\"\n",
        "FEATURES_NORMALIZATION = False"
      ]
    },
    {
      "cell_type": "code",
      "execution_count": 18,
      "metadata": {
        "colab": {
          "base_uri": "https://localhost:8080/"
        },
        "id": "JXtX-3CLDodL",
        "outputId": "edd9ec09-09cd-44c3-d2e2-ddbfb0654b04"
      },
      "outputs": [
        {
          "data": {
            "text/plain": [
              "{'maxIter': [100], 'regParam': [0.0], 'elasticNetParam': [0.0]}"
            ]
          },
          "execution_count": 18,
          "metadata": {},
          "output_type": "execute_result"
        }
      ],
      "source": [
        "# Get default parameters\n",
        "params = parameters.get_defaults_model_params(MODEL_NAME)\n",
        "params"
      ]
    },
    {
      "cell_type": "code",
      "execution_count": 25,
      "metadata": {
        "colab": {
          "base_uri": "https://localhost:8080/",
          "height": 80
        },
        "id": "TVUAV3OPDodL",
        "outputId": "49e8ab4f-9219-4e0a-a8da-f2465a751494"
      },
      "outputs": [
        {
          "ename": "NameError",
          "evalue": "name 'plotly' is not defined",
          "output_type": "error",
          "traceback": [
            "\u001b[1;31m---------------------------------------------------------------------------\u001b[0m",
            "\u001b[1;31mNameError\u001b[0m                                 Traceback (most recent call last)",
            "\u001b[1;32md:\\Documents\\Repository\\BDC\\project\\notebooks\\3.3 - [Short Term Split] Linear Regression.ipynb Cell 29\u001b[0m line \u001b[0;36m2\n\u001b[0;32m      <a href='vscode-notebook-cell:/d%3A/Documents/Repository/BDC/project/notebooks/3.3%20-%20%5BShort%20Term%20Split%5D%20Linear%20Regression.ipynb#X40sZmlsZQ%3D%3D?line=0'>1</a>\u001b[0m \u001b[39m# Make predictions by using all the features\u001b[39;00m\n\u001b[1;32m----> <a href='vscode-notebook-cell:/d%3A/Documents/Repository/BDC/project/notebooks/3.3%20-%20%5BShort%20Term%20Split%5D%20Linear%20Regression.ipynb#X40sZmlsZQ%3D%3D?line=1'>2</a>\u001b[0m default_train_results_all_features, default_valid_results_all_features, default_train_pred_all_features, default_valid_pred_all_features \u001b[39m=\u001b[39m utilities\u001b[39m.\u001b[39;49msingle_split(df, params, splitting_info, MODEL_NAME, MODEL_TYPE, FEATURES_NORMALIZATION, ALL_FEATURES, ALL_FEATURES_NAME, FEATURES_LABEL, TARGET_LABEL)\n",
            "File \u001b[1;32mD:\\Documents/Repository/BDC/project/utilities\\utilities.py:565\u001b[0m, in \u001b[0;36msingle_split\u001b[1;34m(dataset, params, splitting_info, model_name, model_type, features_normalization, features, features_name, features_label, target_label)\u001b[0m\n\u001b[0;32m    562\u001b[0m valid_predictions \u001b[39m=\u001b[39m pipeline_model\u001b[39m.\u001b[39mtransform(valid_data)\u001b[39m.\u001b[39mselect(target_label, \u001b[39m\"\u001b[39m\u001b[39mmarket-price\u001b[39m\u001b[39m\"\u001b[39m, \u001b[39m\"\u001b[39m\u001b[39mprediction\u001b[39m\u001b[39m\"\u001b[39m, \u001b[39m'\u001b[39m\u001b[39mtimestamp\u001b[39m\u001b[39m'\u001b[39m)\n\u001b[0;32m    564\u001b[0m \u001b[39m# Show plots\u001b[39;00m\n\u001b[1;32m--> 565\u001b[0m show_results(dataset\u001b[39m.\u001b[39;49mtoPandas(), train_predictions\u001b[39m.\u001b[39;49mtoPandas(), valid_predictions\u001b[39m.\u001b[39;49mtoPandas(), model_name \u001b[39m+\u001b[39;49m \u001b[39m\"\u001b[39;49m\u001b[39m predictions\u001b[39;49m\u001b[39m\"\u001b[39;49m, \u001b[39mFalse\u001b[39;49;00m)\n\u001b[0;32m    567\u001b[0m \u001b[39m# Compute validation error by several evaluators\u001b[39;00m\n\u001b[0;32m    568\u001b[0m train_eval_res \u001b[39m=\u001b[39m model_evaluation(target_label, train_predictions)\n",
            "File \u001b[1;32mD:\\Documents/Repository/BDC/project/utilities\\utilities.py:118\u001b[0m, in \u001b[0;36mshow_results\u001b[1;34m(dataset, train, valid, title, onlyTrain)\u001b[0m\n\u001b[0;32m    115\u001b[0m     data \u001b[39m=\u001b[39m [trace1,trace2]\n\u001b[0;32m    117\u001b[0m fig \u001b[39m=\u001b[39m \u001b[39mdict\u001b[39m(data\u001b[39m=\u001b[39mdata, layout\u001b[39m=\u001b[39mlayout)\n\u001b[1;32m--> 118\u001b[0m plotly\u001b[39m.\u001b[39moffline\u001b[39m.\u001b[39mplot(fig, filename \u001b[39m=\u001b[39m title)\n",
            "\u001b[1;31mNameError\u001b[0m: name 'plotly' is not defined"
          ]
        }
      ],
      "source": [
        "# Make predictions by using all the features\n",
        "default_train_results_all_features, default_valid_results_all_features, default_train_pred_all_features, default_valid_pred_all_features = utilities.single_split(df, params, splitting_info, MODEL_NAME, MODEL_TYPE, FEATURES_NORMALIZATION, ALL_FEATURES, ALL_FEATURES_NAME, FEATURES_LABEL, TARGET_LABEL)"
      ]
    },
    {
      "cell_type": "code",
      "execution_count": null,
      "metadata": {
        "colab": {
          "base_uri": "https://localhost:8080/",
          "height": 542
        },
        "id": "zfg7eDxiDodL",
        "outputId": "3371c157-2ffe-41e6-c9ca-1389c272fff1"
      },
      "outputs": [],
      "source": [
        "default_train_results_all_features"
      ]
    },
    {
      "cell_type": "code",
      "execution_count": null,
      "metadata": {},
      "outputs": [],
      "source": [
        "default_valid_results_all_features"
      ]
    },
    {
      "cell_type": "code",
      "execution_count": null,
      "metadata": {
        "colab": {
          "base_uri": "https://localhost:8080/",
          "height": 80
        },
        "id": "1zEUAFV8DodM",
        "outputId": "e6640c2c-17bc-49b3-f562-08e118247843"
      },
      "outputs": [],
      "source": [
        "# Make predictions by using the most relevant features\n",
        "default_train_results_most_rel_features, default_valid_results_most_rel_features, default_train_pred_most_rel_features, default_valid_pred_most_rel_features = utilities.single_split(df, params, splitting_info, MODEL_NAME, MODEL_TYPE, FEATURES_NORMALIZATION, ALL_FEATURES, ALL_FEATURES_NAME, FEATURES_LABEL, TARGET_LABEL)"
      ]
    },
    {
      "cell_type": "code",
      "execution_count": null,
      "metadata": {
        "colab": {
          "base_uri": "https://localhost:8080/",
          "height": 542
        },
        "id": "iMvtITDaDodM",
        "outputId": "406f86e4-2bc3-4d70-e5ec-e59240c3ddb9"
      },
      "outputs": [],
      "source": [
        "default_train_results_most_rel_features"
      ]
    },
    {
      "cell_type": "code",
      "execution_count": null,
      "metadata": {},
      "outputs": [],
      "source": [
        "default_valid_results_most_rel_features"
      ]
    },
    {
      "cell_type": "code",
      "execution_count": null,
      "metadata": {
        "colab": {
          "base_uri": "https://localhost:8080/",
          "height": 80
        },
        "id": "HEsXV_dyDodM",
        "outputId": "f976c817-e37e-4e31-875e-84697d339563"
      },
      "outputs": [],
      "source": [
        "# Make predictions by using the least relevant features\n",
        "default_train_results_least_rel_features, default_valid_results_least_rel_features, default_train_pred_least_rel_features, default_valid_pred_least_rel_features = utilities.single_split(df, params, splitting_info, MODEL_NAME, MODEL_TYPE, FEATURES_NORMALIZATION, ALL_FEATURES, ALL_FEATURES_NAME, FEATURES_LABEL, TARGET_LABEL)"
      ]
    },
    {
      "cell_type": "code",
      "execution_count": null,
      "metadata": {
        "colab": {
          "base_uri": "https://localhost:8080/",
          "height": 542
        },
        "id": "MmPHIJaPDodN",
        "outputId": "f839de4e-3395-48e2-bf4c-3f29139c2886"
      },
      "outputs": [],
      "source": [
        "default_train_results_least_rel_features"
      ]
    },
    {
      "cell_type": "code",
      "execution_count": null,
      "metadata": {},
      "outputs": [],
      "source": [
        "default_valid_results_least_rel_features"
      ]
    },
    {
      "cell_type": "markdown",
      "metadata": {
        "id": "nlDB5U0tDodN"
      },
      "source": [
        "### With normalization"
      ]
    },
    {
      "cell_type": "code",
      "execution_count": null,
      "metadata": {
        "id": "eA7gkq1yDodO"
      },
      "outputs": [],
      "source": [
        "# Define model and features type\n",
        "MODEL_TYPE = \"default_norm\"\n",
        "FEATURES_NORMALIZATION = True"
      ]
    },
    {
      "cell_type": "code",
      "execution_count": null,
      "metadata": {
        "colab": {
          "base_uri": "https://localhost:8080/",
          "height": 80
        },
        "id": "vySak5zuDodO",
        "outputId": "8d1e2364-5ef5-44d1-d1fa-f6881dfd330b"
      },
      "outputs": [],
      "source": [
        "# Make predictions by using all the features\n",
        "default_norm_train_results_all_features, default_norm_valid_results_all_features, default_norm_train_pred_all_features, default_norm_valid_pred_all_features = utilities.single_split(df, params, splitting_info, MODEL_NAME, MODEL_TYPE, FEATURES_NORMALIZATION, ALL_FEATURES, ALL_FEATURES_NAME, FEATURES_LABEL, TARGET_LABEL)"
      ]
    },
    {
      "cell_type": "code",
      "execution_count": null,
      "metadata": {
        "colab": {
          "base_uri": "https://localhost:8080/",
          "height": 542
        },
        "id": "2IbDCF-HDodO",
        "outputId": "9178452a-fa48-422c-a22f-60cd0463e794"
      },
      "outputs": [],
      "source": [
        "default_norm_train_results_all_features"
      ]
    },
    {
      "cell_type": "code",
      "execution_count": null,
      "metadata": {},
      "outputs": [],
      "source": [
        "default_norm_valid_results_all_features"
      ]
    },
    {
      "cell_type": "code",
      "execution_count": null,
      "metadata": {
        "colab": {
          "base_uri": "https://localhost:8080/",
          "height": 80
        },
        "id": "ENEMQd6-DodP",
        "outputId": "ca5f01ea-3f4a-4bdf-8579-aa6ccb01a3bc"
      },
      "outputs": [],
      "source": [
        "# Make predictions by using the most relevant features\n",
        "default_norm_train_results_most_rel_features, default_norm_valid_results_most_rel_features, default_norm_train_pred_most_rel_features, default_norm_valid_pred_most_rel_features = utilities.single_split(df, params, splitting_info, MODEL_NAME, MODEL_TYPE, FEATURES_NORMALIZATION, ALL_FEATURES, ALL_FEATURES_NAME, FEATURES_LABEL, TARGET_LABEL)"
      ]
    },
    {
      "cell_type": "code",
      "execution_count": null,
      "metadata": {
        "colab": {
          "base_uri": "https://localhost:8080/",
          "height": 542
        },
        "id": "-vARG4KyDodP",
        "outputId": "0fdb942f-b728-4f5a-f37e-76c99cbf2f01"
      },
      "outputs": [],
      "source": [
        "default_norm_train_results_most_rel_features"
      ]
    },
    {
      "cell_type": "code",
      "execution_count": null,
      "metadata": {},
      "outputs": [],
      "source": [
        "default_norm_valid_results_most_rel_features"
      ]
    },
    {
      "cell_type": "code",
      "execution_count": null,
      "metadata": {
        "colab": {
          "base_uri": "https://localhost:8080/",
          "height": 80
        },
        "id": "iqxyr279DodU",
        "outputId": "ddbcbeb6-1b8f-4f6e-e08e-9e39b866fdcd"
      },
      "outputs": [],
      "source": [
        "# Make predictions by using the least relevant features\n",
        "default_norm_train_results_least_rel_features, default_norm_valid_results_least_rel_features, default_norm_train_pred_least_rel_features, default_norm_valid_pred_least_rel_features = utilities.single_split(df, params, splitting_info, MODEL_NAME, MODEL_TYPE, FEATURES_NORMALIZATION, ALL_FEATURES, ALL_FEATURES_NAME, FEATURES_LABEL, TARGET_LABEL)"
      ]
    },
    {
      "cell_type": "code",
      "execution_count": null,
      "metadata": {
        "colab": {
          "base_uri": "https://localhost:8080/",
          "height": 542
        },
        "id": "RH6Obi4iDodV",
        "outputId": "c36a1252-d6a8-43cd-a2be-958bad6202a0"
      },
      "outputs": [],
      "source": [
        "default_norm_train_results_least_rel_features"
      ]
    },
    {
      "cell_type": "code",
      "execution_count": null,
      "metadata": {},
      "outputs": [],
      "source": [
        "default_norm_valid_results_least_rel_features"
      ]
    },
    {
      "cell_type": "code",
      "execution_count": null,
      "metadata": {
        "id": "NtEpO2pCDodV"
      },
      "outputs": [],
      "source": [
        "# Define model information and evaluators to show\n",
        "model_info = ['Model', 'Type', 'Splitting', 'Features', 'Parameters']\n",
        "evaluator_lst = ['RMSE', 'MSE', 'MAE', 'MAPE', 'R2', 'Adjusted_R2', 'Time']"
      ]
    },
    {
      "cell_type": "code",
      "execution_count": null,
      "metadata": {
        "colab": {
          "base_uri": "https://localhost:8080/",
          "height": 237
        },
        "id": "fS8ToynvDodV",
        "outputId": "2942778c-d696-47e1-b6b8-8a22c0d47bfe"
      },
      "outputs": [],
      "source": [
        "# Define the results to show\n",
        "default_comparison_lst = [default_valid_results_all_features, default_valid_results_most_rel_features, default_valid_results_least_rel_features, default_norm_valid_results_all_features, default_norm_valid_results_most_rel_features, default_norm_valid_results_least_rel_features]\n",
        "\n",
        "# Show the comparison table\n",
        "default_comparison_lst_df = pd.concat([utilities.model_comparison(results, model_info, evaluator_lst) for results in default_comparison_lst])\n",
        "default_comparison_lst_df"
      ]
    },
    {
      "cell_type": "code",
      "execution_count": null,
      "metadata": {},
      "outputs": [],
      "source": [
        "# Save the best default model results and predicitons\n",
        "best_default_results = default_norm_valid_results_all_features\n",
        "best_default_predictions = default_norm_valid_pred_all_features"
      ]
    },
    {
      "cell_type": "markdown",
      "metadata": {
        "id": "VALnZJmnDodV"
      },
      "source": [
        "## Tuned\n",
        "Once the features and execution method are selected, the model will undergo hyperparameter tuning and cross validation to find the best configuration."
      ]
    },
    {
      "cell_type": "code",
      "execution_count": null,
      "metadata": {
        "id": "CL5vaO92DodW"
      },
      "outputs": [],
      "source": [
        "# Using one of the multiple splitting methods to tune the model\n",
        "SPLITTING_METHOD = \"walk_forward_splits\"\n",
        "\n",
        "# Get splitting parameters based on the choosen splitting method\n",
        "splitting_info = parameters.get_splitting_params(SPLITTING_METHOD)\n",
        "splitting_info"
      ]
    },
    {
      "cell_type": "markdown",
      "metadata": {
        "id": "V27ZRFNrDodW"
      },
      "source": [
        "### Hyperparameter tuning"
      ]
    },
    {
      "cell_type": "code",
      "execution_count": null,
      "metadata": {
        "id": "yu8yg9DADodW"
      },
      "outputs": [],
      "source": [
        "# Select the type of feature to be used\n",
        "MODEL_TYPE = \"hyp_tuning\"\n",
        "CHOSEN_FEATURES = ALL_FEATURES\n",
        "CHOSEN_FEATURES_LABEL = ALL_FEATURES_NAME\n",
        "FEATURES_NORMALIZATION = True"
      ]
    },
    {
      "cell_type": "code",
      "execution_count": null,
      "metadata": {
        "id": "ZVzB4IUXDodW"
      },
      "outputs": [],
      "source": [
        "# Get model grid parameters\n",
        "params = parameters.get_model_grid_params(MODEL_NAME)\n",
        "params"
      ]
    },
    {
      "cell_type": "code",
      "execution_count": null,
      "metadata": {
        "id": "0u3w6YBwDodW"
      },
      "outputs": [],
      "source": [
        "# Perform hyperparameter tuning\n",
        "hyp_res = utilities.multiple_splits(df, params, splitting_info, MODEL_NAME, MODEL_TYPE, FEATURES_NORMALIZATION, CHOSEN_FEATURES, CHOSEN_FEATURES_LABEL, FEATURES_LABEL, TARGET_LABEL)\n",
        "hyp_res"
      ]
    },
    {
      "cell_type": "markdown",
      "metadata": {
        "id": "hte_AqXpDodW"
      },
      "source": [
        "---\n",
        "To select the best parameters to be used in the final model I assign a score to each value in the \"Parameters\" column based on the following criteria:\n",
        "* Calculate the frequency of each unique value in the \"Parameters\" column.\n",
        "* Normalize the frequencies to a scale of 0 to 1, where 1 represents the highest frequency.\n",
        "* Calculate the split weight for each value in the \"Parameters\" column, where a higher split number corresponds to a higher weight.\n",
        "* Normalize the split weights to a scale of 0 to 1, where 1 represents the highest split weight.\n",
        "* Calculate the RMSE weight for each value in the \"Parameters\" column, where a lower RMSE value corresponds to a higher weight.\n",
        "* Normalize the RMSE weights to a scale of 0 to 1, where 1 represents the highest RMSE weight.\n",
        "\n",
        "Then calculate the overall score for each value in the \"Parameters\" column by combining the normalized frequency, split weight, and RMSE weight and take into consideration the parameters that have the highest score."
      ]
    },
    {
      "cell_type": "code",
      "execution_count": null,
      "metadata": {
        "id": "H0eRCiLbDodX"
      },
      "outputs": [],
      "source": [
        "# Show parameters score\n",
        "grouped_scores, best_params = parameters.choose_best_params(hyp_res)\n",
        "grouped_scores"
      ]
    },
    {
      "cell_type": "code",
      "execution_count": null,
      "metadata": {
        "id": "AFMoAckODodX"
      },
      "outputs": [],
      "source": [
        "# Print best parameters\n",
        "print(f\"Best parameters: {best_params}\")"
      ]
    },
    {
      "cell_type": "markdown",
      "metadata": {
        "id": "8MFSn-hsDodX"
      },
      "source": [
        "### Cross validation"
      ]
    },
    {
      "cell_type": "code",
      "execution_count": null,
      "metadata": {
        "id": "mtgIda2YDodX"
      },
      "outputs": [],
      "source": [
        "MODEL_TYPE = \"cross_val\""
      ]
    },
    {
      "cell_type": "code",
      "execution_count": null,
      "metadata": {
        "id": "WTnOTjNsDodX"
      },
      "outputs": [],
      "source": [
        "# Get tuned parameters\n",
        "params = parameters.get_best_model_params(best_params, MODEL_NAME)\n",
        "params"
      ]
    },
    {
      "cell_type": "code",
      "execution_count": null,
      "metadata": {
        "id": "zqWSx_k1DodX"
      },
      "outputs": [],
      "source": [
        "# Perform cross validation\n",
        "cv_train_result, cv_valid_result, cv_train_pred, cv_valid_pred = utilities.multiple_splits(df, params, splitting_info, MODEL_NAME, MODEL_TYPE, FEATURES_NORMALIZATION, CHOSEN_FEATURES, CHOSEN_FEATURES_LABEL, FEATURES_LABEL, TARGET_LABEL)"
      ]
    },
    {
      "cell_type": "code",
      "execution_count": null,
      "metadata": {
        "id": "f5cAqWwJDodY"
      },
      "outputs": [],
      "source": [
        "cv_train_result"
      ]
    },
    {
      "cell_type": "code",
      "execution_count": null,
      "metadata": {},
      "outputs": [],
      "source": [
        "cv_valid_result"
      ]
    },
    {
      "cell_type": "markdown",
      "metadata": {
        "id": "2hu8iqPNDodY"
      },
      "source": [
        "Let's see if the situation has improved by validating the model with the newly found parameters."
      ]
    },
    {
      "cell_type": "code",
      "execution_count": null,
      "metadata": {
        "id": "EDHsuJ-lDodY"
      },
      "outputs": [],
      "source": [
        "# Using single split method to validate the model\n",
        "SPLITTING_METHOD = \"single_split\"\n",
        "\n",
        "# Get splitting parameters based on the choosen splitting method\n",
        "splitting_info = parameters.get_splitting_params(SPLITTING_METHOD)\n",
        "splitting_info"
      ]
    },
    {
      "cell_type": "code",
      "execution_count": null,
      "metadata": {
        "id": "BGZTR62-DodY"
      },
      "outputs": [],
      "source": [
        "MODEL_TYPE = \"tuned\""
      ]
    },
    {
      "cell_type": "code",
      "execution_count": null,
      "metadata": {
        "id": "__Sb_TV_DodZ"
      },
      "outputs": [],
      "source": [
        "# Validate the model with the best parameters\n",
        "tuned_train_results, tuned_valid_results, tuned_train_pred, tuned_valid_pred = utilities.single_split(df, params, splitting_info, MODEL_NAME, MODEL_TYPE, FEATURES_NORMALIZATION, LEAST_REL_FEATURES, LEAST_REL_FEATURES_NAME, FEATURES_LABEL, TARGET_LABEL)"
      ]
    },
    {
      "cell_type": "code",
      "execution_count": null,
      "metadata": {
        "id": "A5kIvmsTDodZ"
      },
      "outputs": [],
      "source": [
        "tuned_train_results"
      ]
    },
    {
      "cell_type": "code",
      "execution_count": null,
      "metadata": {},
      "outputs": [],
      "source": [
        "tuned_valid_results"
      ]
    },
    {
      "cell_type": "code",
      "execution_count": null,
      "metadata": {},
      "outputs": [],
      "source": [
        "# Define the results to show\n",
        "tuned_comparison_lst = [cv_valid_result, tuned_valid_results]\n",
        "\n",
        "# Show the comparison table\n",
        "tuned_comparison_lst_df = pd.concat([utilities.model_comparison(results, model_info, evaluator_lst) for results in tuned_comparison_lst])\n",
        "tuned_comparison_lst_df"
      ]
    },
    {
      "cell_type": "markdown",
      "metadata": {
        "id": "cVOLioduDodZ"
      },
      "source": [
        "## Trained\n",
        "At this point it is possible to train the final model over the entire train / validation set in order to use it in the final step, that is, to make predictions about the data contained in the test set."
      ]
    },
    {
      "cell_type": "code",
      "execution_count": null,
      "metadata": {
        "id": "4kUWjf2_DodZ"
      },
      "outputs": [],
      "source": [
        "MODEL_TYPE = \"final\""
      ]
    },
    {
      "cell_type": "code",
      "execution_count": null,
      "metadata": {
        "id": "Rh-R8TSoDodZ"
      },
      "outputs": [],
      "source": [
        "# Train the final model on the whole train / validation set\n",
        "final_train_results, final_model, final_train_pred = utilities.evaluate_trained_model(df, params, MODEL_NAME, MODEL_TYPE, FEATURES_NORMALIZATION, CHOSEN_FEATURES, CHOSEN_FEATURES_LABEL, FEATURES_LABEL, TARGET_LABEL)"
      ]
    },
    {
      "cell_type": "code",
      "execution_count": null,
      "metadata": {},
      "outputs": [],
      "source": [
        "final_train_results"
      ]
    },
    {
      "cell_type": "markdown",
      "metadata": {
        "id": "dkg640dRDoda"
      },
      "source": [
        "# Comparison table\n",
        "Visualization of model performance at various stages of train / validation"
      ]
    },
    {
      "cell_type": "code",
      "execution_count": null,
      "metadata": {
        "id": "Kg3h5SqADoda"
      },
      "outputs": [],
      "source": [
        "# Concatenate final results into Pandas dataset\n",
        "final_comparison_lst_df = pd.DataFrame(pd.concat([default_comparison_lst_df, tuned_comparison_lst_df, final_train_results], ignore_index=True))\n",
        "final_comparison_lst_df"
      ]
    },
    {
      "cell_type": "markdown",
      "metadata": {
        "id": "Nuf_y6_iDoda"
      },
      "source": [
        "# Model accuracy\n",
        "\n",
        "Since predicting the price accurately is very difficult let's se how good the model is at predicting whether the price will go up or down.\n",
        "\n",
        "For each row in our predictions let's consider the actual market-price, next-market-price and our predicted next-market-price (prediction).\n",
        "We compute whether the current prediction is correct (1) or not (0):\n",
        "\n",
        "$$\n",
        "prediction\\_is\\_correct\n",
        "=\n",
        "\\begin{cases}\n",
        "0 \\text{ if [(market-price > next-market-price) and (market-price < prediction)] or [(market-price < next-market-price) and (market-price > prediction)]} \\\\\n",
        "1 \\text{ if [(market-price > next-market-price) and (market-price > prediction)] or [(market-price < next-market-price) and (market-price < prediction)]}\n",
        "\\end{cases}\n",
        "$$\n",
        "\n",
        "After that we count the number of correct prediction:\n",
        "$$\n",
        "correct\\_predictions\n",
        "=\n",
        "\\sum_{i=0}^{total\\_rows} prediction\\_is\\_correct\n",
        "$$\n",
        "\n",
        "Finally we compute the percentage of accuracy of the model:\n",
        "$$\n",
        "\\\\\n",
        "accuracy\n",
        "=\n",
        "(correct\\_predictions / total\\_rows)\n",
        "* 100\n",
        "$$"
      ]
    },
    {
      "cell_type": "code",
      "execution_count": null,
      "metadata": {
        "id": "n9idSt5BDodb"
      },
      "outputs": [],
      "source": [
        "# Convert the pandas dataset to a PySpark dataset\n",
        "best_default_pred_spark = spark.createDataFrame(best_default_predictions)\n",
        "validated_pred_spark = spark.createDataFrame(tuned_valid_pred)\n",
        "\n",
        "# Compute model accuracy\n",
        "default_accuracy = utilities.model_accuracy(best_default_pred_spark)\n",
        "validated_accuracy = utilities.model_accuracy(validated_pred_spark)\n",
        "\n",
        "# Saving accuracy data into dataframe\n",
        "accuracy_data = {\n",
        "    'Model': MODEL_NAME,\n",
        "    'Features': CHOSEN_FEATURES_LABEL,\n",
        "    'Splitting': SPLITTING_METHOD,\n",
        "    'Accuracy (default)': default_accuracy,\n",
        "    'Accuracy (validated)': validated_accuracy\n",
        "}\n",
        "accuracy_data_df = pd.DataFrame(accuracy_data, index=['Model'])\n",
        "\n",
        "print(f\"Percentage of correct predictions for {MODEL_NAME} with {CHOSEN_FEATURES_LABEL} and {SPLITTING_METHOD} (default): {default_accuracy:.2f}%\")\n",
        "print(f\"Percentage of correct predictions for {MODEL_NAME} with {CHOSEN_FEATURES_LABEL} and {SPLITTING_METHOD} (validated): {validated_accuracy:.2f}%\")"
      ]
    },
    {
      "cell_type": "code",
      "execution_count": null,
      "metadata": {},
      "outputs": [],
      "source": [
        "# Concatenate default and tuned results\n",
        "default_tuned_results = [best_default_results, tuned_valid_results]\n",
        "default_tuned_results_df = pd.concat([utilities.model_comparison(results, model_info, evaluator_lst) for results in default_tuned_results])\n",
        "default_tuned_results_df"
      ]
    },
    {
      "cell_type": "markdown",
      "metadata": {
        "id": "_wTzJSBkDodb"
      },
      "source": [
        "# Saving final results\n"
      ]
    },
    {
      "cell_type": "code",
      "execution_count": null,
      "metadata": {},
      "outputs": [],
      "source": [
        "# Save all final comparison results\n",
        "final_comparison_lst_df.to_csv(ALL_MODEL_RESULTS, index=False)"
      ]
    },
    {
      "cell_type": "code",
      "execution_count": null,
      "metadata": {
        "id": "B1p3h0QqDodb"
      },
      "outputs": [],
      "source": [
        "# Save relevant results (default and tuned results)\n",
        "default_tuned_results_df.to_csv(REL_MODEL_RESULTS, index=False)"
      ]
    },
    {
      "cell_type": "code",
      "execution_count": null,
      "metadata": {
        "id": "3uqgIqr7Dodb"
      },
      "outputs": [],
      "source": [
        "# Saving accuracy results\n",
        "accuracy_data_df.to_csv(MODEL_ACCURACY_RESULTS, index=False)"
      ]
    },
    {
      "cell_type": "code",
      "execution_count": null,
      "metadata": {
        "id": "WA9XYm6lDodb"
      },
      "outputs": [],
      "source": [
        "# Saving final model\n",
        "final_model.write().overwrite().save(MAIN_DIR + '/models/' + MODEL_NAME)"
      ]
    },
    {
      "cell_type": "code",
      "execution_count": 28,
      "metadata": {},
      "outputs": [
        {
          "ename": "SyntaxError",
          "evalue": "invalid syntax (2431594647.py, line 1)",
          "output_type": "error",
          "traceback": [
            "\u001b[1;36m  Cell \u001b[1;32mIn[28], line 1\u001b[1;36m\u001b[0m\n\u001b[1;33m    jupyter nbconvert --to pdf 3.3 - [Short Term Split] Linear Regression.ipynb\u001b[0m\n\u001b[1;37m            ^\u001b[0m\n\u001b[1;31mSyntaxError\u001b[0m\u001b[1;31m:\u001b[0m invalid syntax\n"
          ]
        }
      ],
      "source": [
        "jupyter nbconvert --to pdf 3.3 - [Short Term Split] Linear Regression.ipynb"
      ]
    }
  ],
  "metadata": {
    "accelerator": "GPU",
    "colab": {
      "provenance": [],
      "toc_visible": true
    },
    "kernelspec": {
      "display_name": "Python 3",
      "name": "python3"
    },
    "language_info": {
      "codemirror_mode": {
        "name": "ipython",
        "version": 3
      },
      "file_extension": ".py",
      "mimetype": "text/x-python",
      "name": "python",
      "nbconvert_exporter": "python",
      "pygments_lexer": "ipython3",
      "version": "3.11.6"
    },
    "vscode": {
      "interpreter": {
        "hash": "303fa613b6f3e1efefe7bb28036e305e1021fa6bdb083a5f9fd57f9d9bbad8eb"
      }
    }
  },
  "nbformat": 4,
  "nbformat_minor": 0
}
