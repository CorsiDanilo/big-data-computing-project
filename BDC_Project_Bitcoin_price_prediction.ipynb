{
  "cells": [
    {
      "cell_type": "markdown",
      "metadata": {
        "id": "view-in-github",
        "colab_type": "text"
      },
      "source": [
        "<a href=\"https://colab.research.google.com/github/CorsiDanilo/big-data-computing-project/blob/main/BDC_Project_Bitcoin_price_prediction.ipynb\" target=\"_parent\"><img src=\"https://colab.research.google.com/assets/colab-badge.svg\" alt=\"Open In Colab\"/></a>"
      ]
    },
    {
      "cell_type": "markdown",
      "metadata": {
        "id": "e452Ydj7chNV"
      },
      "source": [
        "# Bitcoin price forecasting with PySpark\n",
        "## Big Data Computing final project - A.Y. 2020-2021\n",
        "Prof. Gabriele Tolomei\n",
        "\n",
        "MSc in Computer Science\n",
        "\n",
        "La Sapienza, University of Rome\n",
        "\n",
        "### Author\n",
        "Corsi Danilo - corsi.1742375@studenti.uniroma1.it\n",
        "\n"
      ]
    },
    {
      "cell_type": "markdown",
      "metadata": {
        "id": "laFEbOtkdTI0"
      },
      "source": [
        "### Introduction\n",
        "\n",
        "The cryptocurrency Bitcoin has attracted the attention of many people in recent years. However, it's\n",
        "price fluctuation can be extremely unpredictable, which makes it difficult to predict when the right\n",
        "time to buy or sell this digital currency will be. In this context, forecasting Bitcoin prices can be a\n",
        "competitive advantage for investors and traders, as it could allow them to make informed decisions\n",
        "on the right time to enter or exit the market. In this project, I will analyze some machine learning\n",
        "techniques to understand, through the processing of historical data, how accurately the price of Bitcoin\n",
        "can be predicted and whether this can provide added value to cryptocurrency investors and traders.\n",
        "### Dataset\n",
        "I chose to use the following dataset from Kaggle Bitcoin Historical Dataset, more specifically those\n",
        "containing minute-by-minute updates of the Bitcoin price from 2017 to 2021 (period for which there\n",
        "were moments of high volatility but also a lot of price lateralisation). The columns (features) contained\n",
        "in it, in addition to the timestamp of each transaction, are the opening, closing, highest and lowest\n",
        "price and the corresponding trading volume in Bitcoin and Dollars.\n",
        "### Methods (TODO: da scegliere per bene, oltre a LSTM)\n",
        "The methods I will test will be Linear Regression (simple and multiple) and Random Forest. Further\n",
        "comparisons with other classification models are planned in the course of development. Moreover, I\n",
        "would also like to try to understand what the differences are between these methods and the imple-\n",
        "mentation of a state-of-the-art neural network such as Long-Short Term Memory.\n",
        "### Evaluation framework (TODO: vedi quali usare in base ai paper/esempi e ai modelli utilizzati)\n",
        "As evaluation framework I will use R-square (R²), Mean Square Error (MSE) and Mean Absolute\n",
        "Error (MAE) to get a complete picture of the performance of the various models."
      ]
    },
    {
      "cell_type": "markdown",
      "metadata": {
        "id": "YtmWjQUVSvq2"
      },
      "source": [
        "# **Spark + Google Colab Setup**"
      ]
    },
    {
      "cell_type": "markdown",
      "source": [
        "## **0.** Global Constants\n"
      ],
      "metadata": {
        "id": "AkQaY6VAf4v_"
      }
    },
    {
      "cell_type": "code",
      "source": [
        "JAVA_HOME = \"/usr/lib/jvm/java-8-openjdk-amd64\"\n",
        "GDRIVE_DIR = \"/content/drive\"\n",
        "GDRIVE_DATASET_DIR = GDRIVE_DIR + \"/MyDrive/Computer_Science/BDC/project/datasets\"\n",
        "\n",
        "GDRIVE_DATASET = GDRIVE_DATASET_DIR + \"/BTC-2017_2021.csv\"\n",
        "\n",
        "RANDOM_SEED = 42 # for reproducibility"
      ],
      "metadata": {
        "id": "L7-8QQvKf5CR"
      },
      "execution_count": 1,
      "outputs": []
    },
    {
      "cell_type": "markdown",
      "metadata": {
        "id": "OlRW_JLjSvrA"
      },
      "source": [
        "## **1.** Install PySpark and related dependencies\n",
        "\n",
        "\n",
        "\n"
      ]
    },
    {
      "cell_type": "code",
      "execution_count": 2,
      "metadata": {
        "id": "Si82CaUYSvrA",
        "colab": {
          "base_uri": "https://localhost:8080/"
        },
        "outputId": "b45fa6af-4e71-49b1-b1af-2d697bce1548"
      },
      "outputs": [
        {
          "output_type": "stream",
          "name": "stdout",
          "text": [
            "Looking in indexes: https://pypi.org/simple, https://us-python.pkg.dev/colab-wheels/public/simple/\n",
            "Collecting pyspark\n",
            "  Downloading pyspark-3.4.0.tar.gz (310.8 MB)\n",
            "\u001b[2K     \u001b[90m━━━━━━━━━━━━━━━━━━━━━━━━━━━━━━━━━━━━━━━\u001b[0m \u001b[32m310.8/310.8 MB\u001b[0m \u001b[31m4.0 MB/s\u001b[0m eta \u001b[36m0:00:00\u001b[0m\n",
            "\u001b[?25h  Preparing metadata (setup.py) ... \u001b[?25l\u001b[?25hdone\n",
            "Requirement already satisfied: py4j==0.10.9.7 in /usr/local/lib/python3.10/dist-packages (from pyspark) (0.10.9.7)\n",
            "Building wheels for collected packages: pyspark\n",
            "  Building wheel for pyspark (setup.py) ... \u001b[?25l\u001b[?25hdone\n",
            "  Created wheel for pyspark: filename=pyspark-3.4.0-py2.py3-none-any.whl size=311317130 sha256=ab87f6c15f3375dcbb56ce8d2d2cefbc16c48a9ac0a43d31ee281317ce4eafb6\n",
            "  Stored in directory: /root/.cache/pip/wheels/7b/1b/4b/3363a1d04368e7ff0d408e57ff57966fcdf00583774e761327\n",
            "Successfully built pyspark\n",
            "Installing collected packages: pyspark\n",
            "Successfully installed pyspark-3.4.0\n",
            "The following additional packages will be installed:\n",
            "  libxtst6 openjdk-8-jre-headless\n",
            "Suggested packages:\n",
            "  openjdk-8-demo openjdk-8-source libnss-mdns fonts-dejavu-extra\n",
            "  fonts-ipafont-gothic fonts-ipafont-mincho fonts-wqy-microhei\n",
            "  fonts-wqy-zenhei fonts-indic\n",
            "The following NEW packages will be installed:\n",
            "  libxtst6 openjdk-8-jdk-headless openjdk-8-jre-headless\n",
            "0 upgraded, 3 newly installed, 0 to remove and 24 not upgraded.\n",
            "Need to get 36.5 MB of archives.\n",
            "After this operation, 144 MB of additional disk space will be used.\n",
            "Selecting previously unselected package libxtst6:amd64.\n",
            "(Reading database ... 122518 files and directories currently installed.)\n",
            "Preparing to unpack .../libxtst6_2%3a1.2.3-1_amd64.deb ...\n",
            "Unpacking libxtst6:amd64 (2:1.2.3-1) ...\n",
            "Selecting previously unselected package openjdk-8-jre-headless:amd64.\n",
            "Preparing to unpack .../openjdk-8-jre-headless_8u362-ga-0ubuntu1~20.04.1_amd64.deb ...\n",
            "Unpacking openjdk-8-jre-headless:amd64 (8u362-ga-0ubuntu1~20.04.1) ...\n",
            "Selecting previously unselected package openjdk-8-jdk-headless:amd64.\n",
            "Preparing to unpack .../openjdk-8-jdk-headless_8u362-ga-0ubuntu1~20.04.1_amd64.deb ...\n",
            "Unpacking openjdk-8-jdk-headless:amd64 (8u362-ga-0ubuntu1~20.04.1) ...\n",
            "Setting up libxtst6:amd64 (2:1.2.3-1) ...\n",
            "Setting up openjdk-8-jre-headless:amd64 (8u362-ga-0ubuntu1~20.04.1) ...\n",
            "update-alternatives: using /usr/lib/jvm/java-8-openjdk-amd64/jre/bin/orbd to provide /usr/bin/orbd (orbd) in auto mode\n",
            "update-alternatives: using /usr/lib/jvm/java-8-openjdk-amd64/jre/bin/servertool to provide /usr/bin/servertool (servertool) in auto mode\n",
            "update-alternatives: using /usr/lib/jvm/java-8-openjdk-amd64/jre/bin/tnameserv to provide /usr/bin/tnameserv (tnameserv) in auto mode\n",
            "Setting up openjdk-8-jdk-headless:amd64 (8u362-ga-0ubuntu1~20.04.1) ...\n",
            "update-alternatives: using /usr/lib/jvm/java-8-openjdk-amd64/bin/idlj to provide /usr/bin/idlj (idlj) in auto mode\n",
            "update-alternatives: using /usr/lib/jvm/java-8-openjdk-amd64/bin/wsimport to provide /usr/bin/wsimport (wsimport) in auto mode\n",
            "update-alternatives: using /usr/lib/jvm/java-8-openjdk-amd64/bin/jsadebugd to provide /usr/bin/jsadebugd (jsadebugd) in auto mode\n",
            "update-alternatives: using /usr/lib/jvm/java-8-openjdk-amd64/bin/native2ascii to provide /usr/bin/native2ascii (native2ascii) in auto mode\n",
            "update-alternatives: using /usr/lib/jvm/java-8-openjdk-amd64/bin/javah to provide /usr/bin/javah (javah) in auto mode\n",
            "update-alternatives: using /usr/lib/jvm/java-8-openjdk-amd64/bin/hsdb to provide /usr/bin/hsdb (hsdb) in auto mode\n",
            "update-alternatives: using /usr/lib/jvm/java-8-openjdk-amd64/bin/clhsdb to provide /usr/bin/clhsdb (clhsdb) in auto mode\n",
            "update-alternatives: using /usr/lib/jvm/java-8-openjdk-amd64/bin/xjc to provide /usr/bin/xjc (xjc) in auto mode\n",
            "update-alternatives: using /usr/lib/jvm/java-8-openjdk-amd64/bin/schemagen to provide /usr/bin/schemagen (schemagen) in auto mode\n",
            "update-alternatives: using /usr/lib/jvm/java-8-openjdk-amd64/bin/extcheck to provide /usr/bin/extcheck (extcheck) in auto mode\n",
            "update-alternatives: using /usr/lib/jvm/java-8-openjdk-amd64/bin/jhat to provide /usr/bin/jhat (jhat) in auto mode\n",
            "update-alternatives: using /usr/lib/jvm/java-8-openjdk-amd64/bin/wsgen to provide /usr/bin/wsgen (wsgen) in auto mode\n",
            "Processing triggers for libc-bin (2.31-0ubuntu9.9) ...\n"
          ]
        }
      ],
      "source": [
        "!pip install pyspark\n",
        "# Alternatively, if you want to install a specific version of pyspark:\n",
        "#!pip install pyspark==3.2.1\n",
        "!pip install -U -q PyDrive # To use files that are stored in Google Drive directly (e.g., without downloading them from an external URL)\n",
        "!apt install openjdk-8-jdk-headless -qq\n",
        "import os\n",
        "os.environ[\"JAVA_HOME\"] = JAVA_HOME\n"
      ]
    },
    {
      "cell_type": "markdown",
      "metadata": {
        "id": "kOOZptveSvrB"
      },
      "source": [
        "## **2.** Import useful Python packages"
      ]
    },
    {
      "cell_type": "code",
      "execution_count": 3,
      "metadata": {
        "id": "PX7xDYw4SvrB"
      },
      "outputs": [],
      "source": [
        "import requests\n",
        "import pandas as pd\n",
        "import numpy as np\n",
        "import matplotlib.pyplot as plt\n",
        "import seaborn as sns\n",
        "%matplotlib inline\n",
        "\n",
        "import pyspark\n",
        "from pyspark.sql import *\n",
        "from pyspark.sql.types import *\n",
        "from pyspark.sql.functions import *\n",
        "from pyspark import SparkContext, SparkConf\n",
        "\n",
        "from itertools import cycle\n",
        "\n",
        "import plotly.express as px\n",
        "\n",
        "from pyspark.sql import functions as F"
      ]
    },
    {
      "cell_type": "markdown",
      "metadata": {
        "id": "PYvwgAvGSvrB"
      },
      "source": [
        "## **3.** Create Spark context"
      ]
    },
    {
      "cell_type": "code",
      "execution_count": 4,
      "metadata": {
        "id": "Fhi5bmOeSvrB"
      },
      "outputs": [],
      "source": [
        "# Create the session\n",
        "conf = SparkConf().\\\n",
        "                set('spark.ui.port', \"4050\").\\\n",
        "                set('spark.executor.memory', '4G').\\\n",
        "                set('spark.driver.memory', '45G').\\\n",
        "                set('spark.driver.maxResultSize', '10G').\\\n",
        "                setAppName(\"BitcoinPricePrediction\").\\\n",
        "                setMaster(\"local[*]\")\n",
        "\n",
        "# Create the context\n",
        "sc = pyspark.SparkContext(conf=conf)\n",
        "spark = SparkSession.builder.getOrCreate()"
      ]
    },
    {
      "cell_type": "markdown",
      "metadata": {
        "id": "FWSfSKX6SvrB"
      },
      "source": [
        "## **4.** Create <code>ngrok</code> tunnel to check the Spark UI"
      ]
    },
    {
      "cell_type": "code",
      "execution_count": 5,
      "metadata": {
        "id": "F9luPyVNSvrB",
        "colab": {
          "base_uri": "https://localhost:8080/"
        },
        "outputId": "af69f490-0324-4617-8f5f-ad891f09bcf7"
      },
      "outputs": [
        {
          "output_type": "stream",
          "name": "stdout",
          "text": [
            "Looking in indexes: https://pypi.org/simple, https://us-python.pkg.dev/colab-wheels/public/simple/\n",
            "Collecting pyngrok\n",
            "  Downloading pyngrok-6.0.0.tar.gz (681 kB)\n",
            "\u001b[2K     \u001b[90m━━━━━━━━━━━━━━━━━━━━━━━━━━━━━━━━━━━━━━\u001b[0m \u001b[32m681.2/681.2 kB\u001b[0m \u001b[31m15.0 MB/s\u001b[0m eta \u001b[36m0:00:00\u001b[0m\n",
            "\u001b[?25h  Preparing metadata (setup.py) ... \u001b[?25l\u001b[?25hdone\n",
            "Requirement already satisfied: PyYAML in /usr/local/lib/python3.10/dist-packages (from pyngrok) (6.0)\n",
            "Building wheels for collected packages: pyngrok\n",
            "  Building wheel for pyngrok (setup.py) ... \u001b[?25l\u001b[?25hdone\n",
            "  Created wheel for pyngrok: filename=pyngrok-6.0.0-py3-none-any.whl size=19867 sha256=59059acbaa132d502fad3fb00d6858269cc4f887fa40ff49c1de10d0861556f8\n",
            "  Stored in directory: /root/.cache/pip/wheels/5c/42/78/0c3d438d7f5730451a25f7ac6cbf4391759d22a67576ed7c2c\n",
            "Successfully built pyngrok\n",
            "Installing collected packages: pyngrok\n",
            "Successfully installed pyngrok-6.0.0\n"
          ]
        }
      ],
      "source": [
        "# Install ngrok\n",
        "!pip install pyngrok"
      ]
    },
    {
      "cell_type": "code",
      "execution_count": 6,
      "metadata": {
        "id": "tKGaSV0F7Sh5",
        "colab": {
          "base_uri": "https://localhost:8080/"
        },
        "outputId": "ce86f065-6fde-4087-d095-84aa2bd2f816"
      },
      "outputs": [
        {
          "output_type": "stream",
          "name": "stdout",
          "text": [
            "Authtoken saved to configuration file: /root/.ngrok2/ngrok.yml\n"
          ]
        }
      ],
      "source": [
        "# Saving authtoken \n",
        "!ngrok authtoken 2PKOO1E6Ghw65dpEG4QNSVzu9PY_GufsrTiussGmBxF664RD "
      ]
    },
    {
      "cell_type": "code",
      "execution_count": 7,
      "metadata": {
        "id": "ROQzVuNu7ZE_",
        "colab": {
          "base_uri": "https://localhost:8080/"
        },
        "outputId": "59934216-4785-4ad0-d068-230810bb6bb4"
      },
      "outputs": [
        {
          "output_type": "stream",
          "name": "stderr",
          "text": [
            "WARNING:pyngrok.process.ngrok:t=2023-05-12T05:34:07+0000 lvl=warn msg=\"ngrok config file found at legacy location, move to XDG location\" xdg_path=/root/.config/ngrok/ngrok.yml legacy_path=/root/.ngrok2/ngrok.yml\n"
          ]
        }
      ],
      "source": [
        "from pyngrok import ngrok\n",
        "\n",
        "# Open a ngrok tunnel on the port 4050 where Spark is running\n",
        "port = '4050'\n",
        "public_url = ngrok.connect(port).public_url"
      ]
    },
    {
      "cell_type": "code",
      "execution_count": 8,
      "metadata": {
        "id": "jwwPauep7bm4",
        "colab": {
          "base_uri": "https://localhost:8080/"
        },
        "outputId": "8896b540-1f24-4708-8a75-154c8b2b6484"
      },
      "outputs": [
        {
          "output_type": "stream",
          "name": "stdout",
          "text": [
            "To access the Spark Web UI console, please click on the following link to the ngrok tunnel \"https://4cc4-34-125-45-158.ngrok-free.app\" -> \"http://127.0.0.1:4050\"\n"
          ]
        }
      ],
      "source": [
        "print(\"To access the Spark Web UI console, please click on the following link to the ngrok tunnel \\\"{}\\\" -> \\\"http://127.0.0.1:{}\\\"\".format(public_url, port))"
      ]
    },
    {
      "cell_type": "markdown",
      "metadata": {
        "id": "vo9prfkJSvrB"
      },
      "source": [
        "## **5.** Link Colab to our Google Drive"
      ]
    },
    {
      "cell_type": "code",
      "execution_count": 9,
      "metadata": {
        "id": "au2-MqC-SvrB",
        "colab": {
          "base_uri": "https://localhost:8080/"
        },
        "outputId": "2b2911fc-8be3-4b7f-be4f-6b3f358ce2c3"
      },
      "outputs": [
        {
          "output_type": "stream",
          "name": "stdout",
          "text": [
            "Mounted at /content/drive\n"
          ]
        }
      ],
      "source": [
        "# Point Colaboratory to our Google Drive\n",
        "\n",
        "from google.colab import drive\n",
        "\n",
        "drive.mount(GDRIVE_DIR, force_remount=True)"
      ]
    },
    {
      "cell_type": "markdown",
      "metadata": {
        "id": "vEsgE-WfSvrB"
      },
      "source": [
        "## **6.** Check everything is ok"
      ]
    },
    {
      "cell_type": "code",
      "execution_count": 10,
      "metadata": {
        "id": "8X312aarSvrB",
        "colab": {
          "base_uri": "https://localhost:8080/",
          "height": 222
        },
        "outputId": "8836714c-d5d9-4976-fbfc-b878bca48e47"
      },
      "outputs": [
        {
          "output_type": "execute_result",
          "data": {
            "text/plain": [
              "<pyspark.sql.session.SparkSession at 0x7f71ced682b0>"
            ],
            "text/html": [
              "\n",
              "            <div>\n",
              "                <p><b>SparkSession - in-memory</b></p>\n",
              "                \n",
              "        <div>\n",
              "            <p><b>SparkContext</b></p>\n",
              "\n",
              "            <p><a href=\"http://74a38f9da60a:4050\">Spark UI</a></p>\n",
              "\n",
              "            <dl>\n",
              "              <dt>Version</dt>\n",
              "                <dd><code>v3.4.0</code></dd>\n",
              "              <dt>Master</dt>\n",
              "                <dd><code>local[*]</code></dd>\n",
              "              <dt>AppName</dt>\n",
              "                <dd><code>BitcoinPricePrediction</code></dd>\n",
              "            </dl>\n",
              "        </div>\n",
              "        \n",
              "            </div>\n",
              "        "
            ]
          },
          "metadata": {},
          "execution_count": 10
        }
      ],
      "source": [
        "spark"
      ]
    },
    {
      "cell_type": "code",
      "execution_count": 11,
      "metadata": {
        "id": "GEvgsXRkSvrC",
        "colab": {
          "base_uri": "https://localhost:8080/"
        },
        "outputId": "18fcf8f4-e408-4354-d9be-d2f788d7ab84"
      },
      "outputs": [
        {
          "output_type": "execute_result",
          "data": {
            "text/plain": [
              "[('spark.driver.host', '74a38f9da60a'),\n",
              " ('spark.driver.memory', '45G'),\n",
              " ('spark.executor.id', 'driver'),\n",
              " ('spark.sql.warehouse.dir', 'file:/content/spark-warehouse'),\n",
              " ('spark.driver.maxResultSize', '10G'),\n",
              " ('spark.driver.port', '33051'),\n",
              " ('spark.driver.extraJavaOptions',\n",
              "  '-Djava.net.preferIPv6Addresses=false -XX:+IgnoreUnrecognizedVMOptions --add-opens=java.base/java.lang=ALL-UNNAMED --add-opens=java.base/java.lang.invoke=ALL-UNNAMED --add-opens=java.base/java.lang.reflect=ALL-UNNAMED --add-opens=java.base/java.io=ALL-UNNAMED --add-opens=java.base/java.net=ALL-UNNAMED --add-opens=java.base/java.nio=ALL-UNNAMED --add-opens=java.base/java.util=ALL-UNNAMED --add-opens=java.base/java.util.concurrent=ALL-UNNAMED --add-opens=java.base/java.util.concurrent.atomic=ALL-UNNAMED --add-opens=java.base/sun.nio.ch=ALL-UNNAMED --add-opens=java.base/sun.nio.cs=ALL-UNNAMED --add-opens=java.base/sun.security.action=ALL-UNNAMED --add-opens=java.base/sun.util.calendar=ALL-UNNAMED --add-opens=java.security.jgss/sun.security.krb5=ALL-UNNAMED -Djdk.reflect.useDirectMethodHandle=false'),\n",
              " ('spark.ui.port', '4050'),\n",
              " ('spark.app.id', 'local-1683869632201'),\n",
              " ('spark.rdd.compress', 'True'),\n",
              " ('spark.serializer.objectStreamReset', '100'),\n",
              " ('spark.master', 'local[*]'),\n",
              " ('spark.submit.pyFiles', ''),\n",
              " ('spark.submit.deployMode', 'client'),\n",
              " ('spark.app.submitTime', '1683869630225'),\n",
              " ('spark.app.startTime', '1683869630441'),\n",
              " ('spark.executor.memory', '4G'),\n",
              " ('spark.ui.showConsoleProgress', 'true'),\n",
              " ('spark.app.name', 'BitcoinPricePrediction'),\n",
              " ('spark.executor.extraJavaOptions',\n",
              "  '-Djava.net.preferIPv6Addresses=false -XX:+IgnoreUnrecognizedVMOptions --add-opens=java.base/java.lang=ALL-UNNAMED --add-opens=java.base/java.lang.invoke=ALL-UNNAMED --add-opens=java.base/java.lang.reflect=ALL-UNNAMED --add-opens=java.base/java.io=ALL-UNNAMED --add-opens=java.base/java.net=ALL-UNNAMED --add-opens=java.base/java.nio=ALL-UNNAMED --add-opens=java.base/java.util=ALL-UNNAMED --add-opens=java.base/java.util.concurrent=ALL-UNNAMED --add-opens=java.base/java.util.concurrent.atomic=ALL-UNNAMED --add-opens=java.base/sun.nio.ch=ALL-UNNAMED --add-opens=java.base/sun.nio.cs=ALL-UNNAMED --add-opens=java.base/sun.security.action=ALL-UNNAMED --add-opens=java.base/sun.util.calendar=ALL-UNNAMED --add-opens=java.security.jgss/sun.security.krb5=ALL-UNNAMED -Djdk.reflect.useDirectMethodHandle=false')]"
            ]
          },
          "metadata": {},
          "execution_count": 11
        }
      ],
      "source": [
        "sc._conf.getAll()"
      ]
    },
    {
      "cell_type": "markdown",
      "metadata": {
        "id": "dpaf8RMIcP4a"
      },
      "source": [
        "# **Dataset, processing and feature extraction**\n",
        "\n",
        "In this section we are going to explore the dataset, to clean it from null values, and to determine which features are relevant and which are not."
      ]
    },
    {
      "cell_type": "markdown",
      "source": [
        "## **1.** Data cleaning"
      ],
      "metadata": {
        "id": "8uieUMGPeDse"
      }
    },
    {
      "cell_type": "markdown",
      "source": [
        "First, we import the dataset from Google Drive."
      ],
      "metadata": {
        "id": "WMDPAYaidIQJ"
      }
    },
    {
      "cell_type": "code",
      "source": [
        "df = spark.read.load(GDRIVE_DATASET, \n",
        "                         format=\"csv\", \n",
        "                         sep=\",\", \n",
        "                         inferSchema=\"true\", \n",
        "                         header=\"true\"\n",
        "                         )"
      ],
      "metadata": {
        "id": "lYhxXT2beFOk"
      },
      "execution_count": 12,
      "outputs": []
    },
    {
      "cell_type": "markdown",
      "source": [
        "Check the shape of the loaded dataset, i.e.,"
      ],
      "metadata": {
        "id": "_S3X_lIrePnt"
      }
    },
    {
      "cell_type": "code",
      "source": [
        "print(\"The shape of the dataset is {:d} rows by {:d} columns\".format(df.count(), len(df.columns)))"
      ],
      "metadata": {
        "id": "Oi76aMGReRYu",
        "colab": {
          "base_uri": "https://localhost:8080/"
        },
        "outputId": "9c727d0e-6507-4f3b-c330-3c70cce2f80e"
      },
      "execution_count": 13,
      "outputs": [
        {
          "output_type": "stream",
          "name": "stdout",
          "text": [
            "The shape of the dataset is 2675301 rows by 9 columns\n"
          ]
        }
      ]
    },
    {
      "cell_type": "markdown",
      "source": [
        "Print out the schema of the loaded dataset"
      ],
      "metadata": {
        "id": "a38G4dJJeSzb"
      }
    },
    {
      "cell_type": "code",
      "source": [
        "df.printSchema()\n",
        "df.show(5)\t\n",
        "\n",
        "# showing the last 5 rows\n",
        "from pyspark.sql.functions import desc\n",
        "from pyspark.sql.functions import monotonically_increasing_id\n",
        "df.withColumn(\"index\", monotonically_increasing_id()).orderBy(desc(\"index\")).drop(\"index\").show(5)\t"
      ],
      "metadata": {
        "id": "5Oc7B9gEeTq4",
        "colab": {
          "base_uri": "https://localhost:8080/"
        },
        "outputId": "552592aa-5e7f-442c-9504-d1d1af283d1b"
      },
      "execution_count": 14,
      "outputs": [
        {
          "output_type": "stream",
          "name": "stdout",
          "text": [
            "root\n",
            " |-- unix: integer (nullable = true)\n",
            " |-- date: timestamp (nullable = true)\n",
            " |-- symbol: string (nullable = true)\n",
            " |-- open: double (nullable = true)\n",
            " |-- high: double (nullable = true)\n",
            " |-- low: double (nullable = true)\n",
            " |-- close: double (nullable = true)\n",
            " |-- Volume BTC: double (nullable = true)\n",
            " |-- Volume USD: double (nullable = true)\n",
            "\n",
            "+----------+-------------------+-------+--------+--------+--------+--------+----------+----------------+\n",
            "|      unix|               date| symbol|    open|    high|     low|   close|Volume BTC|      Volume USD|\n",
            "+----------+-------------------+-------+--------+--------+--------+--------+----------+----------------+\n",
            "|1514764740|2017-12-31 23:59:00|BTC/USD|13913.28|13913.28|13867.18| 13880.0|0.59174759|    8213.4565492|\n",
            "|1514764680|2017-12-31 23:58:00|BTC/USD|13913.26|13953.83|13884.69|13953.77|1.39878396|19518.3096575292|\n",
            "|1514764620|2017-12-31 23:57:00|BTC/USD|13908.73|13913.26|13874.99|13913.26|0.77501206|10782.9442939156|\n",
            "|1514764560|2017-12-31 23:56:00|BTC/USD| 13827.0|13908.69| 13827.0|13859.58|0.66645895|  9236.841134241|\n",
            "|1514764500|2017-12-31 23:55:00|BTC/USD|13825.05|13825.05|13825.05|13825.05| 0.0655014|    905.56013007|\n",
            "+----------+-------------------+-------+--------+--------+--------+--------+----------+----------------+\n",
            "only showing top 5 rows\n",
            "\n",
            "+----------+-------------------+-------+--------+--------+--------+--------+-----------+------------------+\n",
            "|      unix|               date| symbol|    open|    high|     low|   close| Volume BTC|        Volume USD|\n",
            "+----------+-------------------+-------+--------+--------+--------+--------+-----------+------------------+\n",
            "|1609459260|2021-01-01 00:01:00|BTC/USD|29007.31| 29086.9|29007.31|29083.47|14.56195084|423512.06039661483|\n",
            "|1609459320|2021-01-01 00:02:00|BTC/USD| 29069.8|29073.02|29028.14|29035.89| 3.03030144|  87987.4992786816|\n",
            "|1609459380|2021-01-01 00:03:00|BTC/USD|29037.68|29069.39| 29019.0|29048.13| 2.18962055|  63604.3823870715|\n",
            "|1609459440|2021-01-01 00:04:00|BTC/USD|29048.13|29057.73|29035.61|29045.19|  1.4465376|   42014.959434144|\n",
            "|1609459500|2021-01-01 00:05:00|BTC/USD|29021.86|29023.38|28982.33| 28999.5| 1.06235967|   30807.899250165|\n",
            "+----------+-------------------+-------+--------+--------+--------+--------+-----------+------------------+\n",
            "only showing top 5 rows\n",
            "\n"
          ]
        }
      ]
    },
    {
      "cell_type": "markdown",
      "metadata": {
        "id": "meEqQLa9ealV"
      },
      "source": [
        "We can delete the \"symbol\" and \"unix\" column since we are not gonna use it and changing the name of \"Volume BTC\" and \"Volume USD\"\n"
      ]
    },
    {
      "cell_type": "code",
      "execution_count": 15,
      "metadata": {
        "colab": {
          "base_uri": "https://localhost:8080/"
        },
        "id": "BaoEONycf0ps",
        "outputId": "2f269c85-6d86-4075-bd86-412f55a058b8"
      },
      "outputs": [
        {
          "output_type": "stream",
          "name": "stdout",
          "text": [
            "root\n",
            " |-- date: timestamp (nullable = true)\n",
            " |-- open: double (nullable = true)\n",
            " |-- high: double (nullable = true)\n",
            " |-- low: double (nullable = true)\n",
            " |-- close: double (nullable = true)\n",
            " |-- volume_btc: double (nullable = true)\n",
            " |-- volume_usd: double (nullable = true)\n",
            "\n",
            "+-------------------+--------+--------+--------+--------+----------+----------------+\n",
            "|               date|    open|    high|     low|   close|volume_btc|      volume_usd|\n",
            "+-------------------+--------+--------+--------+--------+----------+----------------+\n",
            "|2017-12-31 23:59:00|13913.28|13913.28|13867.18| 13880.0|0.59174759|    8213.4565492|\n",
            "|2017-12-31 23:58:00|13913.26|13953.83|13884.69|13953.77|1.39878396|19518.3096575292|\n",
            "|2017-12-31 23:57:00|13908.73|13913.26|13874.99|13913.26|0.77501206|10782.9442939156|\n",
            "|2017-12-31 23:56:00| 13827.0|13908.69| 13827.0|13859.58|0.66645895|  9236.841134241|\n",
            "|2017-12-31 23:55:00|13825.05|13825.05|13825.05|13825.05| 0.0655014|    905.56013007|\n",
            "+-------------------+--------+--------+--------+--------+----------+----------------+\n",
            "only showing top 5 rows\n",
            "\n"
          ]
        }
      ],
      "source": [
        "df = df.withColumnRenamed(\"Volume BTC\",\"volume_btc\") \\\n",
        "    .withColumnRenamed(\"Volume USD\",\"volume_usd\") \\\n",
        "    .dropdf(\"symbol\") \\\n",
        "    .drop(\"unix\")\n",
        "\n",
        "df.printSchema()\n",
        "df.show(5)\t"
      ]
    },
    {
      "cell_type": "markdown",
      "source": [
        "Here, we can check how many Nan values we have in the dataset."
      ],
      "metadata": {
        "id": "Af9r5wOML9Fr"
      }
    },
    {
      "cell_type": "code",
      "source": [
        "df.select(*[\n",
        "    (\n",
        "        F.count(F.when((F.isnan(c) | F.col(c).isNull()), c)) if t not in (\"timestamp\", \"date\")\n",
        "        else F.count(F.when(F.col(c).isNull(), c))\n",
        "    ).alias(c)\n",
        "    for c, t in df.dtypes if c in df.columns\n",
        "]).show()"
      ],
      "metadata": {
        "colab": {
          "base_uri": "https://localhost:8080/"
        },
        "id": "w9TD51tuL9Wj",
        "outputId": "f3d624e9-bb80-483e-e356-a166eeb69e44"
      },
      "execution_count": 16,
      "outputs": [
        {
          "output_type": "stream",
          "name": "stdout",
          "text": [
            "+----+----+----+---+-----+----------+----------+\n",
            "|date|open|high|low|close|volume_btc|volume_usd|\n",
            "+----+----+----+---+-----+----------+----------+\n",
            "|   0|   0|   0|  0|    0|         0|         0|\n",
            "+----+----+----+---+-----+----------+----------+\n",
            "\n"
          ]
        }
      ]
    },
    {
      "cell_type": "markdown",
      "source": [
        "We also reduce the columns in the DataFrame to two decimal places."
      ],
      "metadata": {
        "id": "NDnIBVX2bFJG"
      }
    },
    {
      "cell_type": "code",
      "source": [
        "df = df.withColumn(\"open\", round(df[\"open\"], 2)) \\\n",
        "                    .withColumn(\"close\", round(df[\"close\"], 2)) \\\n",
        "                    .withColumn(\"high\", round(df[\"high\"], 2)) \\\n",
        "                    .withColumn(\"low\", round(df[\"low\"], 2)) \\\n",
        "                    .withColumn(\"volume_usd\", round(df[\"volume_usd\"], 2)\n",
        "                  )\n",
        "df.show(5)\t                "
      ],
      "metadata": {
        "colab": {
          "base_uri": "https://localhost:8080/"
        },
        "id": "-6P19MsLc9TJ",
        "outputId": "ae054c73-6b59-4396-9fef-8f077dc4661c"
      },
      "execution_count": 17,
      "outputs": [
        {
          "output_type": "stream",
          "name": "stdout",
          "text": [
            "+-------------------+--------+--------+--------+--------+----------+----------+\n",
            "|               date|    open|    high|     low|   close|volume_btc|volume_usd|\n",
            "+-------------------+--------+--------+--------+--------+----------+----------+\n",
            "|2017-12-31 23:59:00|13913.28|13913.28|13867.18| 13880.0|0.59174759|   8213.46|\n",
            "|2017-12-31 23:58:00|13913.26|13953.83|13884.69|13953.77|1.39878396|  19518.31|\n",
            "|2017-12-31 23:57:00|13908.73|13913.26|13874.99|13913.26|0.77501206|  10782.94|\n",
            "|2017-12-31 23:56:00| 13827.0|13908.69| 13827.0|13859.58|0.66645895|   9236.84|\n",
            "|2017-12-31 23:55:00|13825.05|13825.05|13825.05|13825.05| 0.0655014|    905.56|\n",
            "+-------------------+--------+--------+--------+--------+----------+----------+\n",
            "only showing top 5 rows\n",
            "\n"
          ]
        }
      ]
    },
    {
      "cell_type": "markdown",
      "source": [
        "TODO: Compute the Bitcoin Volume Weighted Average Price (VWAP)\n",
        "\n",
        "VWAP = ∑ (Typical Price * Volume ) / ∑ Volume\n",
        "\n",
        "where \n",
        "\n",
        "Typical Price = (High + Low + Close) / 3\n",
        "\n",
        "The VWAP Index is obtained taking the sum of all the prices, multiplied by the volume of the trade and then divided by the entire volume."
      ],
      "metadata": {
        "id": "zFZ5wJPpkUgJ"
      }
    },
    {
      "cell_type": "code",
      "source": [],
      "metadata": {
        "id": "_aJD6cFZkU1t"
      },
      "execution_count": null,
      "outputs": []
    },
    {
      "cell_type": "markdown",
      "metadata": {
        "id": "abnufXWQcP4e"
      },
      "source": [
        "## **2.** Exploring the data\n",
        "Now, before building a model to predict the Bitcoin price, let's try a have a better visualization of the data."
      ]
    },
    {
      "cell_type": "markdown",
      "source": [
        "Daily analysis of the price from 2017 to 2021"
      ],
      "metadata": {
        "id": "3mbQPDqRQksU"
      }
    },
    {
      "cell_type": "code",
      "source": [
        "# Calculation of the average price for each day\n",
        "mean_df = df.withColumn(\"date\", date_format(df.date, \"yyyy-MM-dd\")).groupBy(\"date\").agg(\n",
        "    avg(\"open\").alias(\"mean_open\"),\n",
        "    avg(\"close\").alias(\"mean_close\"),\n",
        "    avg(\"high\").alias(\"mean_high\"),\n",
        "    avg(\"low\").alias(\"mean_low\"),\n",
        "    avg(\"volume_btc\").alias(\"mean_volume_btc\"),\n",
        "    avg(\"volume_usd\").alias(\"mean_volume_usd\")\n",
        ").sort(\"date\")\n",
        "\n",
        "# Reduce the columns in the DataFrame to two decimal places\n",
        "mean_df = mean_df.withColumn(\"mean_open\", round(mean_df[\"mean_open\"], 2)) \\\n",
        "                    .withColumn(\"mean_close\", round(mean_df[\"mean_close\"], 2)) \\\n",
        "                    .withColumn(\"mean_high\", round(mean_df[\"mean_high\"], 2)) \\\n",
        "                    .withColumn(\"mean_low\", round(mean_df[\"mean_low\"], 2)) \\\n",
        "                    .withColumn(\"mean_volume_usd\", round(mean_df[\"mean_volume_usd\"], 2)\n",
        "                    )\n",
        "\n",
        "mean_df.show(5)\t                "
      ],
      "metadata": {
        "id": "Kuitd2D1QKbo",
        "colab": {
          "base_uri": "https://localhost:8080/"
        },
        "outputId": "a28fcb12-008a-4029-f80a-afec5617affe"
      },
      "execution_count": 25,
      "outputs": [
        {
          "output_type": "stream",
          "name": "stdout",
          "text": [
            "+----------+---------+----------+---------+--------+------------------+---------------+\n",
            "|      date|mean_open|mean_close|mean_high|mean_low|   mean_volume_btc|mean_volume_usd|\n",
            "+----------+---------+----------+---------+--------+------------------+---------------+\n",
            "|2017-01-01|   977.26|    977.28|   977.39|  977.13| 4.760662479909663|        4701.83|\n",
            "|2017-01-02|  1012.27|   1012.27|  1012.52| 1011.99| 5.671792382069449|        5747.24|\n",
            "|2017-01-03|   1020.0|   1020.04|  1020.23| 1019.79| 6.312262517562504|        6442.18|\n",
            "|2017-01-04|  1076.56|   1076.55|  1077.27| 1075.57| 14.97392845275002|       16303.13|\n",
            "|2017-01-05|  1043.61|   1043.55|  1044.91| 1042.09|25.013097999937482|       25132.51|\n",
            "+----------+---------+----------+---------+--------+------------------+---------------+\n",
            "only showing top 5 rows\n",
            "\n"
          ]
        }
      ]
    },
    {
      "cell_type": "code",
      "source": [
        "import plotly.graph_objs as go\n",
        "from plotly.offline import init_notebook_mode, iplot\n",
        "\n",
        "# convert the mean_df from PySpark to Pandas to be able to plot it more easly                    \n",
        "mean_df_pandas = mean_df.toPandas()\n",
        "\n",
        "# We use Plotly to create the plots https://plot.ly/python/\n",
        "trace1 = go.Scatter(\n",
        "    x = mean_df_pandas['date'],\n",
        "    y = mean_df_pandas['mean_open'].astype(float),\n",
        "    mode = 'lines',\n",
        "    name = 'Open'\n",
        ")\n",
        "\n",
        "trace2 = go.Scatter(\n",
        "    x = mean_df_pandas['date'],\n",
        "    y = mean_df_pandas['mean_close'].astype(float),\n",
        "    mode = 'lines',\n",
        "    name = 'Close'\n",
        ")\n",
        "trace3 = go.Scatter(\n",
        "    x = mean_df_pandas['date'],\n",
        "    y = mean_df_pandas['mean_high'].astype(float),\n",
        "    mode = 'lines',\n",
        "    name = 'High'\n",
        ")\n",
        "trace4 = go.Scatter(\n",
        "    x = mean_df_pandas['date'],\n",
        "    y = mean_df_pandas['mean_low'].astype(float),\n",
        "    mode = 'lines',\n",
        "    name = 'Low'\n",
        ")\n",
        "\n",
        "layout = dict(\n",
        "    title='Historical Bitcoin Prices (2017 - 2021) with the Slider ',\n",
        "    xaxis=dict(\n",
        "        rangeselector=dict(\n",
        "            buttons=list([\n",
        "                #change the count to desired amount of months.\n",
        "                dict(count=1,\n",
        "                     label='1m',\n",
        "                     step='month',\n",
        "                     stepmode='backward'),\n",
        "                dict(count=6,\n",
        "                     label='6m',\n",
        "                     step='month',\n",
        "                     stepmode='backward'),\n",
        "                dict(count=12,\n",
        "                     label='1y',\n",
        "                     step='month',\n",
        "                     stepmode='backward'),\n",
        "                dict(count=36,\n",
        "                     label='3y',\n",
        "                     step='month',\n",
        "                     stepmode='backward'),\n",
        "                dict(step='all')\n",
        "            ])\n",
        "        ),\n",
        "        rangeslider=dict(\n",
        "            visible = True\n",
        "        ),\n",
        "        type='date'\n",
        "    )\n",
        ")\n",
        "\n",
        "data = [trace1,trace2, trace3, trace4]\n",
        "fig = dict(data=data, layout=layout)\n",
        "iplot(fig, filename = \"Time Series with Rangeslider\")"
      ],
      "metadata": {
        "colab": {
          "base_uri": "https://localhost:8080/",
          "height": 542
        },
        "id": "O_eT9Ao7giPa",
        "outputId": "a1f68364-148f-43ab-82e6-0754e3cba147"
      },
      "execution_count": 29,
      "outputs": [
        {
          "output_type": "display_data",
          "data": {
            "text/html": [
              "<html>\n",
              "<head><meta charset=\"utf-8\" /></head>\n",
              "<body>\n",
              "    <div>            <script src=\"https://cdnjs.cloudflare.com/ajax/libs/mathjax/2.7.5/MathJax.js?config=TeX-AMS-MML_SVG\"></script><script type=\"text/javascript\">if (window.MathJax && window.MathJax.Hub && window.MathJax.Hub.Config) {window.MathJax.Hub.Config({SVG: {font: \"STIX-Web\"}});}</script>                <script type=\"text/javascript\">window.PlotlyConfig = {MathJaxConfig: 'local'};</script>\n",
              "        <script src=\"https://cdn.plot.ly/plotly-2.18.2.min.js\"></script>                <div id=\"1779e3b7-69bc-4904-9b30-cb99faa13dbf\" class=\"plotly-graph-div\" style=\"height:525px; width:100%;\"></div>            <script type=\"text/javascript\">                                    window.PLOTLYENV=window.PLOTLYENV || {};                                    if (document.getElementById(\"1779e3b7-69bc-4904-9b30-cb99faa13dbf\")) {                    Plotly.newPlot(                        \"1779e3b7-69bc-4904-9b30-cb99faa13dbf\",                        [{\"mode\":\"lines\",\"name\":\"Open\",\"x\":[\"2017-01-01\",\"2017-01-02\",\"2017-01-03\",\"2017-01-04\",\"2017-01-05\",\"2017-01-06\",\"2017-01-07\",\"2017-01-08\",\"2017-01-09\",\"2017-01-10\",\"2017-01-11\",\"2017-01-12\",\"2017-01-13\",\"2017-01-14\",\"2017-01-15\",\"2017-01-16\",\"2017-01-17\",\"2017-01-18\",\"2017-01-19\",\"2017-01-20\",\"2017-01-21\",\"2017-01-22\",\"2017-01-23\",\"2017-01-24\",\"2017-01-25\",\"2017-01-26\",\"2017-01-27\",\"2017-01-28\",\"2017-01-29\",\"2017-01-30\",\"2017-01-31\",\"2017-02-01\",\"2017-02-02\",\"2017-02-03\",\"2017-02-04\",\"2017-02-05\",\"2017-02-06\",\"2017-02-07\",\"2017-02-08\",\"2017-02-09\",\"2017-02-10\",\"2017-02-11\",\"2017-02-12\",\"2017-02-13\",\"2017-02-14\",\"2017-02-15\",\"2017-02-16\",\"2017-02-17\",\"2017-02-18\",\"2017-02-19\",\"2017-02-20\",\"2017-02-21\",\"2017-02-22\",\"2017-02-23\",\"2017-02-24\",\"2017-02-25\",\"2017-02-26\",\"2017-02-27\",\"2017-02-28\",\"2017-03-01\",\"2017-03-02\",\"2017-03-03\",\"2017-03-04\",\"2017-03-05\",\"2017-03-06\",\"2017-03-07\",\"2017-03-08\",\"2017-03-09\",\"2017-03-10\",\"2017-03-11\",\"2017-03-12\",\"2017-03-13\",\"2017-03-14\",\"2017-03-15\",\"2017-03-16\",\"2017-03-17\",\"2017-03-18\",\"2017-03-19\",\"2017-03-20\",\"2017-03-21\",\"2017-03-22\",\"2017-03-23\",\"2017-03-24\",\"2017-03-25\",\"2017-03-26\",\"2017-03-27\",\"2017-03-28\",\"2017-03-29\",\"2017-03-30\",\"2017-03-31\",\"2017-04-01\",\"2017-04-02\",\"2017-04-03\",\"2017-04-04\",\"2017-04-05\",\"2017-04-06\",\"2017-04-07\",\"2017-04-08\",\"2017-04-09\",\"2017-04-10\",\"2017-04-11\",\"2017-04-12\",\"2017-04-13\",\"2017-04-14\",\"2017-04-15\",\"2017-04-16\",\"2017-04-17\",\"2017-04-18\",\"2017-04-19\",\"2017-04-20\",\"2017-04-21\",\"2017-04-22\",\"2017-04-23\",\"2017-04-24\",\"2017-04-25\",\"2017-04-26\",\"2017-04-27\",\"2017-04-28\",\"2017-04-29\",\"2017-04-30\",\"2017-05-01\",\"2017-05-02\",\"2017-05-03\",\"2017-05-04\",\"2017-05-05\",\"2017-05-06\",\"2017-05-07\",\"2017-05-08\",\"2017-05-09\",\"2017-05-10\",\"2017-05-11\",\"2017-05-12\",\"2017-05-13\",\"2017-05-14\",\"2017-05-15\",\"2017-05-16\",\"2017-05-17\",\"2017-05-18\",\"2017-05-19\",\"2017-05-20\",\"2017-05-21\",\"2017-05-22\",\"2017-05-23\",\"2017-05-24\",\"2017-05-25\",\"2017-05-26\",\"2017-05-27\",\"2017-05-28\",\"2017-05-29\",\"2017-05-30\",\"2017-05-31\",\"2017-06-01\",\"2017-06-02\",\"2017-06-03\",\"2017-06-04\",\"2017-06-05\",\"2017-06-06\",\"2017-06-07\",\"2017-06-08\",\"2017-06-09\",\"2017-06-10\",\"2017-06-11\",\"2017-06-12\",\"2017-06-13\",\"2017-06-14\",\"2017-06-15\",\"2017-06-16\",\"2017-06-17\",\"2017-06-18\",\"2017-06-19\",\"2017-06-20\",\"2017-06-21\",\"2017-06-22\",\"2017-06-23\",\"2017-06-24\",\"2017-06-25\",\"2017-06-26\",\"2017-06-27\",\"2017-06-28\",\"2017-06-29\",\"2017-06-30\",\"2017-07-01\",\"2017-07-02\",\"2017-07-03\",\"2017-07-04\",\"2017-07-05\",\"2017-07-06\",\"2017-07-07\",\"2017-07-08\",\"2017-07-09\",\"2017-07-10\",\"2017-07-11\",\"2017-07-12\",\"2017-07-13\",\"2017-07-14\",\"2017-07-15\",\"2017-07-16\",\"2017-07-17\",\"2017-07-18\",\"2017-07-19\",\"2017-07-20\",\"2017-07-21\",\"2017-07-22\",\"2017-07-23\",\"2017-07-24\",\"2017-07-25\",\"2017-07-26\",\"2017-07-27\",\"2017-07-28\",\"2017-07-29\",\"2017-07-30\",\"2017-07-31\",\"2017-08-01\",\"2017-08-02\",\"2017-08-03\",\"2017-08-04\",\"2017-08-05\",\"2017-08-06\",\"2017-08-07\",\"2017-08-08\",\"2017-08-09\",\"2017-08-10\",\"2017-08-11\",\"2017-08-12\",\"2017-08-13\",\"2017-08-14\",\"2017-08-15\",\"2017-08-16\",\"2017-08-17\",\"2017-08-18\",\"2017-08-19\",\"2017-08-20\",\"2017-08-21\",\"2017-08-22\",\"2017-08-23\",\"2017-08-24\",\"2017-08-25\",\"2017-08-26\",\"2017-08-27\",\"2017-08-28\",\"2017-08-29\",\"2017-08-30\",\"2017-08-31\",\"2017-09-01\",\"2017-09-02\",\"2017-09-03\",\"2017-09-04\",\"2017-09-05\",\"2017-09-06\",\"2017-09-07\",\"2017-09-08\",\"2017-09-09\",\"2017-09-10\",\"2017-09-11\",\"2017-09-12\",\"2017-09-13\",\"2017-09-14\",\"2017-09-15\",\"2017-09-16\",\"2017-09-17\",\"2017-09-18\",\"2017-09-19\",\"2017-09-20\",\"2017-09-21\",\"2017-09-22\",\"2017-09-23\",\"2017-09-24\",\"2017-09-25\",\"2017-09-26\",\"2017-09-27\",\"2017-09-28\",\"2017-09-29\",\"2017-09-30\",\"2017-10-01\",\"2017-10-02\",\"2017-10-03\",\"2017-10-04\",\"2017-10-05\",\"2017-10-06\",\"2017-10-07\",\"2017-10-08\",\"2017-10-09\",\"2017-10-10\",\"2017-10-11\",\"2017-10-12\",\"2017-10-13\",\"2017-10-14\",\"2017-10-15\",\"2017-10-16\",\"2017-10-17\",\"2017-10-18\",\"2017-10-19\",\"2017-10-20\",\"2017-10-21\",\"2017-10-22\",\"2017-10-23\",\"2017-10-24\",\"2017-10-25\",\"2017-10-26\",\"2017-10-27\",\"2017-10-28\",\"2017-10-29\",\"2017-10-30\",\"2017-10-31\",\"2017-11-01\",\"2017-11-02\",\"2017-11-03\",\"2017-11-04\",\"2017-11-05\",\"2017-11-06\",\"2017-11-07\",\"2017-11-08\",\"2017-11-09\",\"2017-11-10\",\"2017-11-11\",\"2017-11-12\",\"2017-11-13\",\"2017-11-14\",\"2017-11-15\",\"2017-11-16\",\"2017-11-17\",\"2017-11-18\",\"2017-11-19\",\"2017-11-20\",\"2017-11-21\",\"2017-11-22\",\"2017-11-23\",\"2017-11-24\",\"2017-11-25\",\"2017-11-26\",\"2017-11-27\",\"2017-11-28\",\"2017-11-29\",\"2017-11-30\",\"2017-12-01\",\"2017-12-02\",\"2017-12-03\",\"2017-12-04\",\"2017-12-05\",\"2017-12-06\",\"2017-12-07\",\"2017-12-08\",\"2017-12-09\",\"2017-12-10\",\"2017-12-11\",\"2017-12-12\",\"2017-12-13\",\"2017-12-14\",\"2017-12-15\",\"2017-12-16\",\"2017-12-17\",\"2017-12-18\",\"2017-12-19\",\"2017-12-20\",\"2017-12-21\",\"2017-12-22\",\"2017-12-23\",\"2017-12-24\",\"2017-12-25\",\"2017-12-26\",\"2017-12-27\",\"2017-12-28\",\"2017-12-29\",\"2017-12-30\",\"2017-12-31\",\"2018-01-01\",\"2018-01-02\",\"2018-01-03\",\"2018-01-04\",\"2018-01-05\",\"2018-01-06\",\"2018-01-07\",\"2018-01-08\",\"2018-01-09\",\"2018-01-10\",\"2018-01-11\",\"2018-01-12\",\"2018-01-13\",\"2018-01-14\",\"2018-01-15\",\"2018-01-16\",\"2018-01-17\",\"2018-01-18\",\"2018-01-19\",\"2018-01-20\",\"2018-01-21\",\"2018-01-22\",\"2018-01-23\",\"2018-01-24\",\"2018-01-25\",\"2018-01-26\",\"2018-01-27\",\"2018-01-28\",\"2018-01-29\",\"2018-01-30\",\"2018-01-31\",\"2018-02-01\",\"2018-02-02\",\"2018-02-03\",\"2018-02-04\",\"2018-02-05\",\"2018-02-06\",\"2018-02-07\",\"2018-02-08\",\"2018-02-09\",\"2018-02-10\",\"2018-02-11\",\"2018-02-12\",\"2018-02-13\",\"2018-02-14\",\"2018-02-15\",\"2018-02-16\",\"2018-02-17\",\"2018-02-18\",\"2018-02-19\",\"2018-02-20\",\"2018-02-21\",\"2018-02-22\",\"2018-02-23\",\"2018-02-24\",\"2018-02-25\",\"2018-02-26\",\"2018-02-27\",\"2018-02-28\",\"2018-03-01\",\"2018-03-02\",\"2018-03-03\",\"2018-03-04\",\"2018-03-05\",\"2018-03-06\",\"2018-03-07\",\"2018-03-08\",\"2018-03-09\",\"2018-03-10\",\"2018-03-11\",\"2018-03-12\",\"2018-03-13\",\"2018-03-14\",\"2018-03-15\",\"2018-03-16\",\"2018-03-17\",\"2018-03-18\",\"2018-03-19\",\"2018-03-20\",\"2018-03-21\",\"2018-03-22\",\"2018-03-23\",\"2018-03-24\",\"2018-03-25\",\"2018-03-26\",\"2018-03-27\",\"2018-03-28\",\"2018-03-29\",\"2018-03-30\",\"2018-03-31\",\"2018-04-01\",\"2018-04-02\",\"2018-04-03\",\"2018-04-04\",\"2018-04-05\",\"2018-04-06\",\"2018-04-07\",\"2018-04-08\",\"2018-04-09\",\"2018-04-10\",\"2018-04-11\",\"2018-04-12\",\"2018-04-13\",\"2018-04-14\",\"2018-04-15\",\"2018-04-16\",\"2018-04-17\",\"2018-04-18\",\"2018-04-19\",\"2018-04-20\",\"2018-04-21\",\"2018-04-22\",\"2018-04-23\",\"2018-04-24\",\"2018-04-25\",\"2018-04-26\",\"2018-04-27\",\"2018-04-28\",\"2018-04-29\",\"2018-04-30\",\"2018-05-01\",\"2018-05-02\",\"2018-05-03\",\"2018-05-04\",\"2018-05-05\",\"2018-05-06\",\"2018-05-07\",\"2018-05-08\",\"2018-05-09\",\"2018-05-10\",\"2018-05-11\",\"2018-05-12\",\"2018-05-13\",\"2018-05-14\",\"2018-05-15\",\"2018-05-16\",\"2018-05-17\",\"2018-05-18\",\"2018-05-19\",\"2018-05-20\",\"2018-05-21\",\"2018-05-22\",\"2018-05-23\",\"2018-05-24\",\"2018-05-25\",\"2018-05-26\",\"2018-05-27\",\"2018-05-28\",\"2018-05-29\",\"2018-05-30\",\"2018-05-31\",\"2018-06-01\",\"2018-06-02\",\"2018-06-03\",\"2018-06-04\",\"2018-06-05\",\"2018-06-06\",\"2018-06-07\",\"2018-06-08\",\"2018-06-09\",\"2018-06-10\",\"2018-06-11\",\"2018-06-12\",\"2018-06-13\",\"2018-06-14\",\"2018-06-15\",\"2018-06-16\",\"2018-06-17\",\"2018-06-18\",\"2018-06-19\",\"2018-06-20\",\"2018-06-21\",\"2018-06-22\",\"2018-06-23\",\"2018-06-24\",\"2018-06-25\",\"2018-06-26\",\"2018-06-27\",\"2018-06-28\",\"2018-06-29\",\"2018-06-30\",\"2018-07-01\",\"2018-07-02\",\"2018-07-03\",\"2018-07-04\",\"2018-07-05\",\"2018-07-06\",\"2018-07-07\",\"2018-07-08\",\"2018-07-09\",\"2018-07-10\",\"2018-07-11\",\"2018-07-12\",\"2018-07-13\",\"2018-07-14\",\"2018-07-15\",\"2018-07-16\",\"2018-07-17\",\"2018-07-18\",\"2018-07-19\",\"2018-07-20\",\"2018-07-21\",\"2018-07-22\",\"2018-07-23\",\"2018-07-24\",\"2018-07-25\",\"2018-07-26\",\"2018-07-27\",\"2018-07-28\",\"2018-07-29\",\"2018-07-30\",\"2018-07-31\",\"2018-08-01\",\"2018-08-02\",\"2018-08-03\",\"2018-08-04\",\"2018-08-05\",\"2018-08-06\",\"2018-08-07\",\"2018-08-08\",\"2018-08-09\",\"2018-08-10\",\"2018-08-11\",\"2018-08-12\",\"2018-08-13\",\"2018-08-14\",\"2018-08-15\",\"2018-08-16\",\"2018-08-17\",\"2018-08-18\",\"2018-08-19\",\"2018-08-20\",\"2018-08-21\",\"2018-08-22\",\"2018-08-23\",\"2018-08-24\",\"2018-08-25\",\"2018-08-26\",\"2018-08-27\",\"2018-08-28\",\"2018-08-29\",\"2018-08-30\",\"2018-08-31\",\"2018-09-01\",\"2018-09-02\",\"2018-09-03\",\"2018-09-04\",\"2018-09-05\",\"2018-09-06\",\"2018-09-07\",\"2018-09-08\",\"2018-09-09\",\"2018-09-10\",\"2018-09-11\",\"2018-09-12\",\"2018-09-13\",\"2018-09-14\",\"2018-09-15\",\"2018-09-16\",\"2018-09-17\",\"2018-09-18\",\"2018-09-19\",\"2018-09-20\",\"2018-09-21\",\"2018-09-22\",\"2018-09-23\",\"2018-09-24\",\"2018-09-25\",\"2018-09-26\",\"2018-09-27\",\"2018-09-28\",\"2018-09-29\",\"2018-09-30\",\"2018-10-01\",\"2018-10-02\",\"2018-10-03\",\"2018-10-04\",\"2018-10-05\",\"2018-10-06\",\"2018-10-07\",\"2018-10-08\",\"2018-10-09\",\"2018-10-10\",\"2018-10-11\",\"2018-10-12\",\"2018-10-13\",\"2018-10-14\",\"2018-10-15\",\"2018-10-16\",\"2018-10-17\",\"2018-10-18\",\"2018-10-19\",\"2018-10-20\",\"2018-10-21\",\"2018-10-22\",\"2018-10-23\",\"2018-10-24\",\"2018-10-25\",\"2018-10-26\",\"2018-10-27\",\"2018-10-28\",\"2018-10-29\",\"2018-10-30\",\"2018-10-31\",\"2018-11-01\",\"2018-11-02\",\"2018-11-03\",\"2018-11-04\",\"2018-11-05\",\"2018-11-06\",\"2018-11-07\",\"2018-11-08\",\"2018-11-09\",\"2018-11-10\",\"2018-11-11\",\"2018-11-12\",\"2018-11-13\",\"2018-11-14\",\"2018-11-15\",\"2018-11-16\",\"2018-11-17\",\"2018-11-18\",\"2018-11-19\",\"2018-11-20\",\"2018-11-21\",\"2018-11-22\",\"2018-11-23\",\"2018-11-24\",\"2018-11-25\",\"2018-11-26\",\"2018-11-27\",\"2018-11-28\",\"2018-11-29\",\"2018-11-30\",\"2018-12-01\",\"2018-12-02\",\"2018-12-03\",\"2018-12-04\",\"2018-12-05\",\"2018-12-06\",\"2018-12-07\",\"2018-12-08\",\"2018-12-09\",\"2018-12-10\",\"2018-12-11\",\"2018-12-12\",\"2018-12-13\",\"2018-12-14\",\"2018-12-15\",\"2018-12-16\",\"2018-12-17\",\"2018-12-18\",\"2018-12-19\",\"2018-12-20\",\"2018-12-21\",\"2018-12-22\",\"2018-12-23\",\"2018-12-24\",\"2018-12-25\",\"2018-12-26\",\"2018-12-27\",\"2018-12-28\",\"2018-12-29\",\"2018-12-30\",\"2018-12-31\",\"2019-01-01\",\"2019-01-02\",\"2019-01-03\",\"2019-01-04\",\"2019-01-05\",\"2019-01-06\",\"2019-01-07\",\"2019-01-08\",\"2019-01-09\",\"2019-01-10\",\"2019-01-11\",\"2019-01-12\",\"2019-01-13\",\"2019-01-14\",\"2019-01-15\",\"2019-01-16\",\"2019-01-17\",\"2019-01-18\",\"2019-01-19\",\"2019-01-20\",\"2019-01-21\",\"2019-01-22\",\"2019-01-23\",\"2019-01-24\",\"2019-01-25\",\"2019-01-26\",\"2019-01-27\",\"2019-01-28\",\"2019-01-29\",\"2019-01-30\",\"2019-01-31\",\"2019-02-01\",\"2019-02-02\",\"2019-02-03\",\"2019-02-04\",\"2019-02-05\",\"2019-02-06\",\"2019-02-07\",\"2019-02-08\",\"2019-02-09\",\"2019-02-10\",\"2019-02-11\",\"2019-02-12\",\"2019-02-13\",\"2019-02-14\",\"2019-02-15\",\"2019-02-16\",\"2019-02-17\",\"2019-02-18\",\"2019-02-19\",\"2019-02-20\",\"2019-02-21\",\"2019-02-22\",\"2019-02-23\",\"2019-02-24\",\"2019-02-25\",\"2019-02-26\",\"2019-02-27\",\"2019-02-28\",\"2019-03-01\",\"2019-03-02\",\"2019-03-03\",\"2019-03-04\",\"2019-03-05\",\"2019-03-06\",\"2019-03-07\",\"2019-03-08\",\"2019-03-09\",\"2019-03-10\",\"2019-03-11\",\"2019-03-12\",\"2019-03-13\",\"2019-03-14\",\"2019-03-15\",\"2019-03-16\",\"2019-03-17\",\"2019-03-18\",\"2019-03-19\",\"2019-03-20\",\"2019-03-21\",\"2019-03-22\",\"2019-03-23\",\"2019-03-24\",\"2019-03-25\",\"2019-03-26\",\"2019-03-27\",\"2019-03-28\",\"2019-03-29\",\"2019-03-30\",\"2019-03-31\",\"2019-04-01\",\"2019-04-02\",\"2019-04-03\",\"2019-04-04\",\"2019-04-05\",\"2019-04-06\",\"2019-04-07\",\"2019-04-08\",\"2019-04-09\",\"2019-04-10\",\"2019-04-11\",\"2019-04-12\",\"2019-04-13\",\"2019-04-14\",\"2019-04-15\",\"2019-04-16\",\"2019-04-17\",\"2019-04-18\",\"2019-04-19\",\"2019-04-20\",\"2019-04-21\",\"2019-04-22\",\"2019-04-23\",\"2019-04-24\",\"2019-04-25\",\"2019-04-26\",\"2019-04-27\",\"2019-04-28\",\"2019-04-29\",\"2019-04-30\",\"2019-05-01\",\"2019-05-02\",\"2019-05-03\",\"2019-05-04\",\"2019-05-05\",\"2019-05-06\",\"2019-05-07\",\"2019-05-08\",\"2019-05-09\",\"2019-05-10\",\"2019-05-11\",\"2019-05-12\",\"2019-05-13\",\"2019-05-14\",\"2019-05-15\",\"2019-05-16\",\"2019-05-17\",\"2019-05-18\",\"2019-05-19\",\"2019-05-20\",\"2019-05-21\",\"2019-05-22\",\"2019-05-23\",\"2019-05-24\",\"2019-05-25\",\"2019-05-26\",\"2019-05-27\",\"2019-05-28\",\"2019-05-29\",\"2019-05-30\",\"2019-05-31\",\"2019-06-01\",\"2019-06-02\",\"2019-06-03\",\"2019-06-04\",\"2019-06-05\",\"2019-06-06\",\"2019-06-07\",\"2019-06-08\",\"2019-06-09\",\"2019-06-10\",\"2019-06-11\",\"2019-06-12\",\"2019-06-13\",\"2019-06-14\",\"2019-06-15\",\"2019-06-16\",\"2019-06-17\",\"2019-06-18\",\"2019-06-19\",\"2019-06-20\",\"2019-06-21\",\"2019-06-22\",\"2019-06-23\",\"2019-06-24\",\"2019-06-25\",\"2019-06-26\",\"2019-06-27\",\"2019-06-28\",\"2019-06-29\",\"2019-06-30\",\"2019-07-01\",\"2019-07-02\",\"2019-07-03\",\"2019-07-04\",\"2019-07-05\",\"2019-07-06\",\"2019-07-07\",\"2019-07-08\",\"2019-07-09\",\"2019-07-10\",\"2019-07-11\",\"2019-07-12\",\"2019-07-13\",\"2019-07-14\",\"2019-07-15\",\"2019-07-16\",\"2019-07-17\",\"2019-07-18\",\"2019-07-19\",\"2019-07-20\",\"2019-07-21\",\"2019-07-22\",\"2019-07-23\",\"2019-07-24\",\"2019-07-25\",\"2019-07-26\",\"2019-07-27\",\"2019-07-28\",\"2019-07-29\",\"2019-07-30\",\"2019-07-31\",\"2019-08-01\",\"2019-08-02\",\"2019-08-03\",\"2019-08-04\",\"2019-08-05\",\"2019-08-06\",\"2019-08-07\",\"2019-08-08\",\"2019-08-09\",\"2019-08-10\",\"2019-08-11\",\"2019-08-12\",\"2019-08-13\",\"2019-08-14\",\"2019-08-15\",\"2019-08-16\",\"2019-08-17\",\"2019-08-18\",\"2019-08-19\",\"2019-08-20\",\"2019-08-21\",\"2019-08-22\",\"2019-08-23\",\"2019-08-24\",\"2019-08-25\",\"2019-08-26\",\"2019-08-27\",\"2019-08-28\",\"2019-08-29\",\"2019-08-30\",\"2019-08-31\",\"2019-09-01\",\"2019-09-02\",\"2019-09-03\",\"2019-09-04\",\"2019-09-05\",\"2019-09-06\",\"2019-09-07\",\"2019-09-08\",\"2019-09-09\",\"2019-09-10\",\"2019-09-11\",\"2019-09-12\",\"2019-09-13\",\"2019-09-14\",\"2019-09-15\",\"2019-09-16\",\"2019-09-17\",\"2019-09-18\",\"2019-09-19\",\"2019-09-20\",\"2019-09-21\",\"2019-09-22\",\"2019-09-23\",\"2019-09-24\",\"2019-09-25\",\"2019-09-26\",\"2019-09-27\",\"2019-09-28\",\"2019-09-29\",\"2019-09-30\",\"2019-10-01\",\"2019-10-02\",\"2019-10-03\",\"2019-10-04\",\"2019-10-05\",\"2019-10-06\",\"2019-10-07\",\"2019-10-08\",\"2019-10-09\",\"2019-10-10\",\"2019-10-11\",\"2019-10-12\",\"2019-10-13\",\"2019-10-14\",\"2019-10-15\",\"2019-10-16\",\"2019-10-17\",\"2019-10-18\",\"2019-10-19\",\"2019-10-20\",\"2019-10-21\",\"2019-10-22\",\"2019-10-23\",\"2019-10-24\",\"2019-10-25\",\"2019-10-26\",\"2019-10-27\",\"2019-10-28\",\"2019-10-29\",\"2019-10-30\",\"2019-10-31\",\"2019-11-01\",\"2019-11-02\",\"2019-11-03\",\"2019-11-04\",\"2019-11-05\",\"2019-11-06\",\"2019-11-07\",\"2019-11-08\",\"2019-11-09\",\"2019-11-10\",\"2019-11-11\",\"2019-11-12\",\"2019-11-13\",\"2019-11-14\",\"2019-11-15\",\"2019-11-16\",\"2019-11-17\",\"2019-11-18\",\"2019-11-19\",\"2019-11-20\",\"2019-11-21\",\"2019-11-22\",\"2019-11-23\",\"2019-11-24\",\"2019-11-25\",\"2019-11-26\",\"2019-11-27\",\"2019-11-28\",\"2019-11-29\",\"2019-11-30\",\"2019-12-01\",\"2019-12-02\",\"2019-12-03\",\"2019-12-04\",\"2019-12-05\",\"2019-12-06\",\"2019-12-07\",\"2019-12-08\",\"2019-12-09\",\"2019-12-10\",\"2019-12-11\",\"2019-12-12\",\"2019-12-13\",\"2019-12-14\",\"2019-12-15\",\"2019-12-16\",\"2019-12-17\",\"2019-12-18\",\"2019-12-19\",\"2019-12-20\",\"2019-12-21\",\"2019-12-22\",\"2019-12-23\",\"2019-12-24\",\"2019-12-25\",\"2019-12-26\",\"2019-12-27\",\"2019-12-28\",\"2019-12-29\",\"2019-12-30\",\"2019-12-31\",\"2020-01-01\",\"2020-01-02\",\"2020-01-03\",\"2020-01-04\",\"2020-01-05\",\"2020-01-06\",\"2020-01-07\",\"2020-01-08\",\"2020-01-09\",\"2020-01-10\",\"2020-01-11\",\"2020-01-12\",\"2020-01-13\",\"2020-01-14\",\"2020-01-15\",\"2020-01-16\",\"2020-01-17\",\"2020-01-18\",\"2020-01-19\",\"2020-01-20\",\"2020-01-21\",\"2020-01-22\",\"2020-01-23\",\"2020-01-24\",\"2020-01-25\",\"2020-01-26\",\"2020-01-27\",\"2020-01-28\",\"2020-01-29\",\"2020-01-30\",\"2020-01-31\",\"2020-02-01\",\"2020-02-02\",\"2020-02-03\",\"2020-02-04\",\"2020-02-05\",\"2020-02-06\",\"2020-02-07\",\"2020-02-08\",\"2020-02-09\",\"2020-02-10\",\"2020-02-11\",\"2020-02-12\",\"2020-02-13\",\"2020-02-14\",\"2020-02-15\",\"2020-02-16\",\"2020-02-17\",\"2020-02-18\",\"2020-02-19\",\"2020-02-20\",\"2020-02-21\",\"2020-02-22\",\"2020-02-23\",\"2020-02-24\",\"2020-02-25\",\"2020-02-26\",\"2020-02-27\",\"2020-02-28\",\"2020-02-29\",\"2020-03-01\",\"2020-03-02\",\"2020-03-03\",\"2020-03-04\",\"2020-03-05\",\"2020-03-06\",\"2020-03-07\",\"2020-03-08\",\"2020-03-09\",\"2020-03-10\",\"2020-03-11\",\"2020-03-12\",\"2020-03-13\",\"2020-03-14\",\"2020-03-15\",\"2020-03-16\",\"2020-03-17\",\"2020-03-18\",\"2020-03-19\",\"2020-03-20\",\"2020-03-21\",\"2020-03-22\",\"2020-03-23\",\"2020-03-24\",\"2020-03-25\",\"2020-03-26\",\"2020-03-27\",\"2020-03-28\",\"2020-03-29\",\"2020-03-30\",\"2020-03-31\",\"2020-04-01\",\"2020-04-02\",\"2020-04-03\",\"2020-04-04\",\"2020-04-05\",\"2020-04-06\",\"2020-04-07\",\"2020-04-08\",\"2020-04-09\",\"2020-04-10\",\"2020-04-11\",\"2020-04-12\",\"2020-04-13\",\"2020-04-14\",\"2020-04-15\",\"2020-04-16\",\"2020-04-17\",\"2020-04-18\",\"2020-04-19\",\"2020-04-20\",\"2020-04-21\",\"2020-04-22\",\"2020-04-23\",\"2020-04-24\",\"2020-04-25\",\"2020-04-26\",\"2020-04-27\",\"2020-04-28\",\"2020-04-29\",\"2020-04-30\",\"2020-05-01\",\"2020-05-02\",\"2020-05-03\",\"2020-05-04\",\"2020-05-05\",\"2020-05-06\",\"2020-05-07\",\"2020-05-08\",\"2020-05-09\",\"2020-05-10\",\"2020-05-11\",\"2020-05-12\",\"2020-05-13\",\"2020-05-14\",\"2020-05-15\",\"2020-05-16\",\"2020-05-17\",\"2020-05-18\",\"2020-05-19\",\"2020-05-20\",\"2020-05-21\",\"2020-05-22\",\"2020-05-23\",\"2020-05-24\",\"2020-05-25\",\"2020-05-26\",\"2020-05-27\",\"2020-05-28\",\"2020-05-29\",\"2020-05-30\",\"2020-05-31\",\"2020-06-01\",\"2020-06-02\",\"2020-06-03\",\"2020-06-04\",\"2020-06-05\",\"2020-06-06\",\"2020-06-07\",\"2020-06-08\",\"2020-06-09\",\"2020-06-10\",\"2020-06-11\",\"2020-06-12\",\"2020-06-13\",\"2020-06-14\",\"2020-06-15\",\"2020-06-16\",\"2020-06-17\",\"2020-06-18\",\"2020-06-19\",\"2020-06-20\",\"2020-06-21\",\"2020-06-22\",\"2020-06-23\",\"2020-06-24\",\"2020-06-25\",\"2020-06-26\",\"2020-06-27\",\"2020-06-28\",\"2020-06-29\",\"2020-06-30\",\"2020-07-01\",\"2020-07-02\",\"2020-07-03\",\"2020-07-04\",\"2020-07-05\",\"2020-07-06\",\"2020-07-07\",\"2020-07-08\",\"2020-07-09\",\"2020-07-10\",\"2020-07-11\",\"2020-07-12\",\"2020-07-13\",\"2020-07-14\",\"2020-07-15\",\"2020-07-16\",\"2020-07-17\",\"2020-07-18\",\"2020-07-19\",\"2020-07-20\",\"2020-07-21\",\"2020-07-22\",\"2020-07-23\",\"2020-07-24\",\"2020-07-25\",\"2020-07-26\",\"2020-07-27\",\"2020-07-28\",\"2020-07-29\",\"2020-07-30\",\"2020-07-31\",\"2020-08-01\",\"2020-08-02\",\"2020-08-03\",\"2020-08-04\",\"2020-08-05\",\"2020-08-06\",\"2020-08-07\",\"2020-08-08\",\"2020-08-09\",\"2020-08-10\",\"2020-08-11\",\"2020-08-12\",\"2020-08-13\",\"2020-08-14\",\"2020-08-15\",\"2020-08-16\",\"2020-08-17\",\"2020-08-18\",\"2020-08-19\",\"2020-08-20\",\"2020-08-21\",\"2020-08-22\",\"2020-08-23\",\"2020-08-24\",\"2020-08-25\",\"2020-08-26\",\"2020-08-27\",\"2020-08-28\",\"2020-08-29\",\"2020-08-30\",\"2020-08-31\",\"2020-09-01\",\"2020-09-02\",\"2020-09-03\",\"2020-09-04\",\"2020-09-05\",\"2020-09-06\",\"2020-09-07\",\"2020-09-08\",\"2020-09-09\",\"2020-09-10\",\"2020-09-11\",\"2020-09-12\",\"2020-09-13\",\"2020-09-14\",\"2020-09-15\",\"2020-09-16\",\"2020-09-17\",\"2020-09-18\",\"2020-09-19\",\"2020-09-20\",\"2020-09-21\",\"2020-09-22\",\"2020-09-23\",\"2020-09-24\",\"2020-09-25\",\"2020-09-26\",\"2020-09-27\",\"2020-09-28\",\"2020-09-29\",\"2020-09-30\",\"2020-10-01\",\"2020-10-02\",\"2020-10-03\",\"2020-10-04\",\"2020-10-05\",\"2020-10-06\",\"2020-10-07\",\"2020-10-08\",\"2020-10-09\",\"2020-10-10\",\"2020-10-11\",\"2020-10-12\",\"2020-10-13\",\"2020-10-14\",\"2020-10-15\",\"2020-10-16\",\"2020-10-17\",\"2020-10-18\",\"2020-10-19\",\"2020-10-20\",\"2020-10-21\",\"2020-10-22\",\"2020-10-23\",\"2020-10-24\",\"2020-10-25\",\"2020-10-26\",\"2020-10-27\",\"2020-10-28\",\"2020-10-29\",\"2020-10-30\",\"2020-10-31\",\"2020-11-01\",\"2020-11-02\",\"2020-11-03\",\"2020-11-04\",\"2020-11-05\",\"2020-11-06\",\"2020-11-07\",\"2020-11-08\",\"2020-11-09\",\"2020-11-10\",\"2020-11-11\",\"2020-11-12\",\"2020-11-13\",\"2020-11-14\",\"2020-11-15\",\"2020-11-16\",\"2020-11-17\",\"2020-11-18\",\"2020-11-19\",\"2020-11-20\",\"2020-11-21\",\"2020-11-22\",\"2020-11-23\",\"2020-12-20\",\"2020-12-21\",\"2020-12-22\",\"2020-12-23\",\"2020-12-24\",\"2020-12-25\",\"2020-12-26\",\"2020-12-27\",\"2020-12-28\",\"2020-12-29\",\"2020-12-30\",\"2020-12-31\",\"2021-01-01\",\"2021-01-02\",\"2021-01-03\",\"2021-01-04\",\"2021-01-05\",\"2021-01-06\",\"2021-01-07\",\"2021-01-08\",\"2021-01-09\",\"2021-01-10\",\"2021-01-11\",\"2021-01-12\",\"2021-01-13\",\"2021-01-14\",\"2021-01-15\",\"2021-01-16\",\"2021-01-17\",\"2021-01-18\",\"2021-01-19\",\"2021-01-20\",\"2021-01-21\",\"2021-01-22\",\"2021-01-23\",\"2021-01-24\",\"2021-01-25\",\"2021-01-26\",\"2021-01-27\",\"2021-01-28\",\"2021-01-29\",\"2021-01-30\",\"2021-01-31\",\"2021-02-01\",\"2021-02-02\",\"2021-02-03\",\"2021-02-04\",\"2021-02-05\",\"2021-02-06\",\"2021-02-07\",\"2021-02-08\",\"2021-02-09\",\"2021-02-10\",\"2021-02-11\",\"2021-02-12\",\"2021-02-13\",\"2021-02-14\",\"2021-02-15\",\"2021-02-16\",\"2021-02-17\",\"2021-02-18\",\"2021-02-19\",\"2021-02-20\",\"2021-02-21\",\"2021-02-22\",\"2021-02-23\",\"2021-02-24\",\"2021-02-25\",\"2021-02-26\",\"2021-02-27\",\"2021-02-28\",\"2021-03-01\",\"2021-03-02\",\"2021-03-03\",\"2021-03-04\",\"2021-03-05\",\"2021-03-06\",\"2021-03-07\",\"2021-03-08\",\"2021-03-09\",\"2021-03-10\",\"2021-03-11\",\"2021-03-12\",\"2021-03-13\",\"2021-03-14\",\"2021-03-15\",\"2021-03-16\",\"2021-03-17\",\"2021-03-18\",\"2021-03-19\",\"2021-03-20\",\"2021-03-21\",\"2021-03-22\",\"2021-03-23\",\"2021-03-24\",\"2021-03-25\",\"2021-03-26\",\"2021-03-27\",\"2021-03-28\",\"2021-03-29\",\"2021-03-30\",\"2021-03-31\",\"2021-04-01\",\"2021-04-02\",\"2021-04-03\",\"2021-04-04\",\"2021-04-05\",\"2021-04-06\",\"2021-04-07\",\"2021-04-08\",\"2021-04-09\",\"2021-04-10\",\"2021-04-11\",\"2021-04-12\",\"2021-04-13\",\"2021-04-14\",\"2021-04-15\",\"2021-04-16\",\"2021-04-17\",\"2021-04-18\",\"2021-04-19\",\"2021-04-20\",\"2021-04-21\",\"2021-04-22\",\"2021-04-23\",\"2021-04-24\",\"2021-04-25\",\"2021-04-26\",\"2021-04-27\",\"2021-04-28\",\"2021-04-29\",\"2021-04-30\",\"2021-05-01\",\"2021-05-02\",\"2021-05-03\",\"2021-05-04\",\"2021-05-05\",\"2021-05-06\",\"2021-05-07\",\"2021-05-08\",\"2021-05-09\",\"2021-05-10\",\"2021-05-11\",\"2021-05-12\",\"2021-05-13\",\"2021-05-14\",\"2021-05-15\",\"2021-05-16\",\"2021-05-17\",\"2021-05-18\",\"2021-05-19\",\"2021-05-20\",\"2021-05-21\",\"2021-05-22\",\"2021-05-23\",\"2021-05-24\",\"2021-05-25\",\"2021-05-26\",\"2021-05-27\",\"2021-05-28\",\"2021-05-29\",\"2021-05-30\",\"2021-05-31\",\"2021-06-01\",\"2021-06-02\",\"2021-06-03\",\"2021-06-04\",\"2021-06-05\",\"2021-06-06\",\"2021-06-07\",\"2021-06-08\",\"2021-06-09\",\"2021-06-10\",\"2021-06-11\",\"2021-06-12\",\"2021-06-13\",\"2021-06-14\",\"2021-06-15\",\"2021-06-16\",\"2021-06-17\",\"2021-06-18\",\"2021-06-19\",\"2021-06-20\",\"2021-06-21\",\"2021-06-22\",\"2021-06-23\",\"2021-06-24\",\"2021-06-25\",\"2021-06-26\",\"2021-06-27\",\"2021-06-28\",\"2021-06-29\",\"2021-06-30\",\"2021-07-01\",\"2021-07-02\",\"2021-07-03\",\"2021-07-04\",\"2021-07-05\",\"2021-07-06\",\"2021-07-07\",\"2021-07-08\",\"2021-07-09\",\"2021-07-10\",\"2021-07-11\",\"2021-07-12\",\"2021-07-13\",\"2021-07-14\",\"2021-07-15\",\"2021-07-16\",\"2021-07-17\",\"2021-07-18\",\"2021-07-19\",\"2021-07-20\",\"2021-07-21\",\"2021-07-22\",\"2021-07-23\",\"2021-07-24\",\"2021-07-25\",\"2021-07-26\",\"2021-07-27\",\"2021-07-28\",\"2021-07-29\",\"2021-07-30\",\"2021-07-31\",\"2021-08-01\",\"2021-08-02\",\"2021-08-03\",\"2021-08-04\",\"2021-08-05\",\"2021-08-06\",\"2021-08-07\",\"2021-08-08\",\"2021-08-09\",\"2021-08-10\",\"2021-08-11\",\"2021-08-12\",\"2021-08-13\",\"2021-08-14\",\"2021-08-15\",\"2021-08-16\",\"2021-08-17\",\"2021-08-18\",\"2021-08-19\",\"2021-08-20\",\"2021-08-21\",\"2021-08-22\",\"2021-08-23\",\"2021-08-24\",\"2021-08-25\",\"2021-08-26\",\"2021-08-27\",\"2021-08-28\",\"2021-08-29\",\"2021-08-30\",\"2021-08-31\",\"2021-09-01\",\"2021-09-02\",\"2021-09-03\",\"2021-09-04\",\"2021-09-05\",\"2021-09-06\",\"2021-09-07\",\"2021-09-08\",\"2021-09-09\",\"2021-09-10\",\"2021-09-11\",\"2021-09-12\",\"2021-09-13\",\"2021-09-14\",\"2021-09-15\",\"2021-09-16\",\"2021-09-17\",\"2021-09-18\",\"2021-09-19\",\"2021-09-20\",\"2021-09-21\",\"2021-09-22\",\"2021-09-23\",\"2021-09-24\",\"2021-09-25\",\"2021-09-26\",\"2021-09-27\",\"2021-09-28\",\"2021-09-29\",\"2021-09-30\",\"2021-10-01\",\"2021-10-02\",\"2021-10-03\",\"2021-10-04\",\"2021-10-05\",\"2021-10-06\",\"2021-10-07\",\"2021-10-08\",\"2021-10-09\",\"2021-10-10\",\"2021-10-11\",\"2021-10-12\",\"2021-10-13\",\"2021-10-14\",\"2021-10-15\",\"2021-10-16\",\"2021-10-17\",\"2021-10-18\",\"2021-10-19\",\"2021-10-20\",\"2021-10-21\",\"2021-10-22\",\"2021-10-23\",\"2021-10-24\",\"2021-10-25\",\"2021-10-26\",\"2021-10-27\",\"2021-10-28\",\"2021-10-29\",\"2021-10-30\",\"2021-10-31\",\"2021-11-01\",\"2021-11-02\",\"2021-11-03\",\"2021-11-04\",\"2021-11-05\",\"2021-11-06\",\"2021-11-07\",\"2021-11-08\",\"2021-11-09\",\"2021-11-10\",\"2021-11-11\",\"2021-11-12\",\"2021-11-13\",\"2021-11-14\",\"2021-11-15\",\"2021-11-16\",\"2021-11-17\",\"2021-11-18\",\"2021-11-19\",\"2021-11-20\",\"2021-11-21\",\"2021-11-22\",\"2021-11-23\",\"2021-11-24\",\"2021-11-25\",\"2021-11-26\",\"2021-11-27\",\"2021-11-28\",\"2021-11-29\",\"2021-11-30\",\"2021-12-01\",\"2021-12-02\",\"2021-12-03\",\"2021-12-04\",\"2021-12-05\",\"2021-12-06\",\"2021-12-07\",\"2021-12-08\",\"2021-12-09\",\"2021-12-10\",\"2021-12-11\",\"2021-12-12\",\"2021-12-13\",\"2021-12-14\",\"2021-12-15\",\"2021-12-16\",\"2021-12-17\",\"2021-12-18\",\"2021-12-19\",\"2021-12-20\",\"2021-12-21\",\"2021-12-22\",\"2021-12-23\",\"2021-12-24\",\"2021-12-25\",\"2021-12-26\",\"2021-12-27\",\"2021-12-28\",\"2021-12-29\",\"2021-12-30\",\"2021-12-31\",\"2022-01-01\",\"2022-01-02\",\"2022-01-03\",\"2022-01-04\",\"2022-01-05\",\"2022-01-06\",\"2022-01-07\",\"2022-01-08\",\"2022-01-09\",\"2022-01-10\",\"2022-01-11\",\"2022-01-12\",\"2022-01-13\",\"2022-01-14\",\"2022-01-15\",\"2022-01-16\",\"2022-01-17\",\"2022-01-18\",\"2022-01-19\",\"2022-01-20\",\"2022-01-21\",\"2022-01-22\",\"2022-01-23\",\"2022-01-24\",\"2022-01-25\",\"2022-01-26\",\"2022-01-27\",\"2022-01-28\",\"2022-01-29\",\"2022-01-30\",\"2022-01-31\",\"2022-02-01\",\"2022-02-02\",\"2022-02-03\",\"2022-02-04\",\"2022-02-05\",\"2022-02-06\",\"2022-02-07\",\"2022-02-08\",\"2022-02-09\",\"2022-02-10\",\"2022-02-11\",\"2022-02-12\",\"2022-02-13\",\"2022-02-14\",\"2022-02-15\",\"2022-02-16\",\"2022-02-17\",\"2022-02-18\",\"2022-02-19\",\"2022-02-20\",\"2022-02-21\",\"2022-02-22\",\"2022-02-23\",\"2022-02-24\",\"2022-02-25\",\"2022-02-26\",\"2022-02-27\",\"2022-02-28\",\"2022-03-01\"],\"y\":[977.26,1012.27,1020.0,1076.56,1043.61,934.46,869.62,914.22,893.5,902.64,846.29,782.97,807.22,827.43,817.13,827.98,876.17,885.38,893.33,895.57,917.65,922.68,920.18,907.21,894.51,905.79,917.18,918.31,916.79,916.97,940.4,970.84,992.71,1011.96,1017.77,1020.06,1020.83,1042.36,1053.71,1024.69,977.84,1007.57,1003.39,998.82,1006.06,1009.28,1026.62,1046.71,1061.41,1053.34,1057.22,1100.06,1122.63,1147.13,1185.38,1167.65,1164.59,1185.91,1192.45,1206.17,1239.78,1272.25,1269.07,1258.5,1274.41,1254.58,1197.91,1176.87,1202.48,1167.54,1196.62,1234.13,1243.64,1251.36,1220.42,1131.0,1034.99,1009.35,1033.96,1083.6,1053.91,1035.56,990.54,927.03,964.19,998.22,1043.04,1032.94,1033.52,1051.52,1077.4,1079.86,1126.43,1142.37,1130.08,1167.24,1189.52,1187.91,1193.76,1207.96,1213.32,1217.01,1188.35,1173.33,1178.08,1170.05,1172.13,1200.07,1201.1,1220.48,1241.29,1237.57,1235.56,1243.77,1264.72,1287.91,1313.06,1324.26,1330.0,1331.06,1376.56,1433.09,1471.1,1539.87,1557.04,1540.55,1542.85,1587.93,1704.5,1746.43,1825.76,1770.51,1706.67,1782.16,1733.57,1709.14,1774.1,1824.95,1926.01,1974.19,2022.7,2109.04,2191.78,2366.94,2555.78,2384.66,2097.2,2188.69,2237.86,2274.11,2253.84,2389.73,2429.25,2518.8,2524.8,2600.67,2835.15,2816.13,2753.68,2823.97,2854.19,2906.58,2803.81,2716.32,2653.49,2356.93,2450.26,2556.09,2566.72,2558.08,2661.6,2712.47,2680.91,2718.33,2657.29,2559.65,2465.04,2407.81,2533.87,2558.76,2523.9,2462.46,2444.75,2523.95,2596.62,2569.9,2593.81,2543.14,2516.3,2539.37,2455.18,2339.61,2343.88,2371.03,2279.5,2073.97,1939.97,2056.47,2280.83,2311.84,2491.55,2718.73,2779.71,2767.33,2753.71,2624.39,2499.13,2569.2,2737.36,2718.12,2675.63,2760.47,2769.54,2713.82,2743.19,2826.85,3153.26,3235.87,3307.85,3416.41,3341.35,3392.04,3503.18,3757.78,4023.13,4168.13,4167.83,4166.0,4345.82,4228.13,4055.15,4060.17,4022.82,3922.21,4141.6,4180.8,4356.8,4311.42,4340.59,4304.76,4464.38,4576.32,4669.5,4801.83,4685.12,4576.62,4362.37,4252.43,4529.2,4584.42,4482.93,4292.36,4180.77,4210.5,4253.4,3934.58,3625.29,3409.08,3696.85,3634.54,3940.88,3963.16,3937.3,3791.66,3626.79,3713.68,3694.98,3820.01,3914.89,4035.8,4188.73,4145.11,4270.15,4290.93,4395.61,4311.99,4249.82,4255.41,4359.23,4351.36,4495.66,4643.5,4811.78,4787.4,5114.49,5618.34,5666.39,5610.57,5674.0,5625.86,5402.69,5654.06,5788.66,6073.68,5910.16,5869.75,5660.03,5547.91,5826.81,5822.88,5750.04,5883.46,6122.67,6240.02,6502.46,6952.4,7240.71,7258.26,7458.56,7228.76,7103.28,7387.19,7245.21,6962.24,6557.04,6115.02,6346.93,6590.91,7046.38,7459.55,7827.83,7697.72,7825.82,8090.66,8158.23,8195.05,8176.17,8168.29,8428.69,8972.49,9556.62,9833.23,10404.05,9889.5,10195.18,10938.83,11291.53,11347.16,11656.46,12579.4,14776.24,15433.77,14808.79,14135.84,16201.12,16730.51,16541.2,16343.48,17364.94,18175.52,19189.77,18719.58,18321.43,16835.58,16221.08,13762.16,14768.29,13656.27,13966.67,15243.94,15582.46,14249.41,14534.66,13214.34,13338.16,13425.64,13876.36,14962.19,14816.67,15790.23,16667.04,16517.3,15301.39,14868.89,14193.25,13697.89,13661.78,14225.51,13680.86,13823.5,12166.04,10681.39,11496.22,11514.26,12471.63,11896.4,11132.97,10725.28,11007.9,11301.83,11011.98,11238.77,11673.0,11284.36,10630.14,9987.58,9498.77,8558.97,8911.81,8723.18,7612.42,6827.44,7915.33,8215.94,8261.73,8657.19,8189.21,8624.32,8610.15,9025.07,9803.29,10026.06,10677.51,10738.17,10866.99,11498.86,10792.76,10273.23,10013.04,9931.36,9595.43,9909.62,10552.37,10621.28,10650.0,10980.43,11344.18,11241.83,11520.98,11022.3,10400.53,9706.0,8908.21,9237.43,9057.62,9436.96,9155.84,8770.09,8112.69,8315.07,8079.77,7679.7,8354.95,8622.33,8982.96,8793.36,8529.74,8858.31,8535.66,8208.41,7965.65,7916.42,7518.86,6888.12,7005.33,6797.76,6978.03,7325.68,7078.47,6758.67,6650.19,6891.86,6988.8,6891.9,6779.0,6879.93,7335.88,7992.85,8010.71,8215.05,8080.05,8036.61,8057.21,8213.37,8445.22,8800.34,8888.58,8895.45,9313.9,9221.93,8882.89,9217.49,9240.26,9356.03,9291.02,8988.6,9112.78,9379.31,9656.81,9829.11,9615.92,9344.25,9261.15,9193.28,9265.47,8701.96,8423.0,8550.36,8581.39,8642.31,8282.73,8278.34,8106.63,8255.15,8361.99,8455.21,8233.59,7785.07,7538.73,7486.72,7489.96,7317.32,7255.63,7293.56,7432.54,7500.12,7481.14,7596.94,7690.76,7575.52,7491.5,7606.28,7692.54,7629.63,7630.24,7134.13,6760.8,6754.51,6443.26,6501.5,6551.12,6462.49,6509.02,6522.75,6718.24,6681.09,6736.65,6360.52,6135.87,6024.61,6203.34,6202.04,6095.94,6082.07,5903.82,6363.6,6349.98,6452.95,6596.74,6571.21,6580.95,6541.91,6573.25,6739.32,6705.72,6480.75,6354.27,6219.31,6236.75,6235.98,6318.29,6521.02,6877.43,7402.72,7389.89,7420.62,7347.7,7447.93,7679.29,8071.04,8253.79,8196.8,8021.16,8179.99,8202.77,8133.92,7915.37,7569.94,7590.15,7394.04,7248.75,6995.5,6987.76,6986.7,6444.97,6394.11,6395.24,6188.25,6304.27,6345.85,6056.39,6369.25,6344.71,6466.92,6446.84,6398.11,6445.12,6399.4,6579.57,6433.51,6551.93,6713.62,6669.84,6712.58,6986.99,7049.09,6929.03,6979.68,7104.91,7239.14,7259.67,7321.91,7126.25,6421.8,6443.25,6360.3,6289.62,6287.28,6290.31,6268.16,6440.51,6500.24,6518.75,6483.85,6398.04,6295.73,6336.29,6411.63,6658.2,6705.52,6706.82,6638.16,6413.1,6461.25,6520.53,6665.03,6539.71,6577.3,6574.77,6541.71,6447.12,6547.18,6544.51,6556.27,6533.52,6586.66,6587.6,6517.04,6213.58,6201.42,6196.31,6225.56,6368.47,6437.58,6438.51,6427.47,6385.33,6396.69,6433.62,6405.36,6395.71,6425.26,6400.46,6400.71,6406.99,6402.5,6330.05,6264.45,6277.31,6310.47,6351.82,6333.95,6364.25,6404.64,6412.72,6506.78,6449.51,6365.85,6354.81,6339.4,6350.96,6290.0,6020.22,5494.59,5530.71,5485.1,5533.97,5203.63,4531.22,4446.92,4468.45,4248.16,4203.63,3756.17,3850.84,3702.94,4057.31,4224.32,4075.3,4077.98,4120.46,3925.22,3904.89,3802.85,3695.05,3360.17,3384.54,3467.79,3468.86,3365.56,3397.18,3360.92,3233.88,3180.07,3217.01,3332.86,3508.53,3748.28,3922.88,3972.68,3851.7,3978.1,4125.29,3773.42,3779.52,3717.9,3700.6,3873.52,3787.82,3757.3,3700.17,3822.8,3830.0,3784.8,3834.21,3874.16,4022.69,4006.13,4010.6,3795.72,3636.66,3626.56,3580.54,3579.84,3641.53,3603.46,3602.88,3615.59,3671.43,3607.24,3535.77,3551.58,3569.45,3553.89,3557.11,3571.25,3545.6,3437.96,3398.58,3422.99,3424.81,3416.32,3431.73,3425.37,3414.12,3419.28,3371.59,3366.4,3451.32,3614.77,3608.04,3595.16,3577.76,3582.14,3569.1,3570.38,3587.53,3585.41,3755.91,3900.56,3910.81,3906.68,3925.3,3979.95,3989.73,3792.54,3799.86,3795.3,3810.28,3813.26,3805.2,3801.4,3725.07,3765.64,3838.77,3861.39,3871.91,3889.95,3892.99,3864.65,3847.29,3853.48,3850.23,3877.52,3978.44,3963.05,3969.48,3976.97,3995.38,4005.98,3981.58,3980.68,3968.56,3949.78,3908.38,3993.88,4009.18,4057.44,4083.8,4088.32,4125.61,4646.52,5038.45,4971.61,4980.89,5042.67,5128.37,5241.55,5221.39,5270.27,5129.84,5047.57,5084.54,5078.65,5122.1,5098.27,5218.66,5263.75,5258.99,5313.14,5288.68,5317.47,5531.91,5486.86,5423.44,5149.59,5165.23,5169.86,5154.98,5199.82,5304.24,5361.43,5617.33,5694.57,5722.05,5656.6,5863.9,5843.8,6046.99,6290.32,6806.25,7155.5,7408.33,7992.63,8054.53,7994.18,7263.66,7325.95,7933.36,7907.01,7953.39,7891.08,7703.36,7983.51,8046.23,8126.71,8784.06,8726.91,8647.71,8632.83,8351.27,8543.59,8669.52,8532.79,7852.36,7773.1,7751.66,7938.68,7941.14,7800.0,7819.46,7897.17,8036.65,8169.79,8352.86,8727.31,9095.02,9235.94,9153.15,9147.98,9353.22,9801.77,10725.34,10746.92,10846.4,11315.01,12643.73,11806.47,11678.85,11854.53,11542.98,10688.78,10304.19,11345.16,11760.12,11140.9,11416.17,11311.59,11794.19,12514.11,12650.57,11584.64,11585.1,11430.48,10861.07,10418.33,10357.8,9577.18,10053.23,10472.86,10680.46,10577.49,10450.96,10071.73,9703.1,10023.11,9775.32,9731.71,9486.06,9540.22,9540.95,9856.51,10085.2,10475.29,10785.69,10821.02,11675.64,11758.36,11711.43,11802.17,11820.35,11582.54,11378.29,11395.71,11138.34,10439.98,10011.98,10231.94,10296.97,10291.44,10615.14,10752.42,10194.28,10045.45,10262.41,10156.4,10099.98,10344.69,10173.7,10044.59,9519.84,9534.95,9593.42,9625.0,9947.0,10521.69,10563.48,10564.26,10658.69,10422.77,10459.39,10301.29,10222.15,10063.55,10218.73,10316.34,10340.84,10316.34,10252.43,10216.73,10194.57,9989.17,10173.62,10039.22,9978.93,9878.62,9425.31,8448.9,8251.88,8039.21,8158.8,8074.65,8072.45,8361.77,8256.81,8244.67,8146.32,8107.94,7979.9,8039.85,8208.68,8337.45,8559.7,8397.6,8332.53,8357.38,8307.31,8263.56,8064.23,8031.75,7962.21,7958.7,8018.29,8221.42,8198.93,7745.62,7449.65,7878.73,9317.35,9410.66,9474.87,9381.98,9192.37,9171.59,9153.4,9279.13,9217.07,9254.59,9342.23,9335.35,9237.91,8981.76,8810.67,8890.84,8796.59,8733.65,8747.16,8655.03,8539.05,8469.69,8513.61,8378.9,8115.02,8097.98,7848.6,7342.39,7241.9,7146.01,6962.11,7140.37,7251.54,7522.21,7611.34,7654.5,7353.05,7309.2,7318.42,7276.09,7327.84,7404.25,7532.19,7495.45,7461.29,7300.35,7210.51,7171.94,7226.27,7164.27,7089.13,7032.9,6790.43,6770.15,7147.81,7150.24,7147.79,7226.29,7503.57,7295.71,7210.86,7220.36,7191.45,7298.35,7344.76,7297.66,7198.68,7195.54,7072.44,7217.39,7321.57,7429.92,7532.94,7928.97,8235.13,7898.14,7887.5,8112.95,8110.87,8102.12,8573.86,8743.05,8673.44,8851.77,8891.19,8846.75,8644.18,8645.46,8665.16,8435.92,8382.82,8320.65,8428.81,8722.29,9040.53,9330.24,9369.47,9341.48,9371.5,9376.0,9328.92,9201.91,9401.32,9687.45,9774.84,9811.6,10079.58,9921.35,9956.31,10342.72,10284.43,10260.13,10142.72,9903.5,9718.86,9844.46,10098.17,9580.49,9687.96,9659.43,9868.6,9733.39,9488.81,9032.77,8795.02,8697.25,8685.44,8556.83,8746.72,8790.43,8760.61,9018.66,9097.26,9053.57,8570.31,7881.32,7947.06,7849.54,6668.84,5295.36,5410.85,5299.74,4988.5,5313.43,5286.39,5759.29,6361.08,6169.16,6139.65,6105.26,6652.98,6661.8,6671.88,6691.82,6227.59,6106.92,6272.47,6451.55,6308.11,6723.34,6813.93,6772.32,6796.42,7089.78,7317.74,7302.1,7304.99,6976.61,6871.73,6947.7,6751.41,6884.53,6801.88,6911.87,7072.06,7152.36,7167.87,7052.47,6867.5,7000.26,7293.69,7521.34,7544.61,7600.55,7715.64,7730.73,8244.22,8894.94,8783.97,8872.68,8979.79,8772.03,8930.52,9162.41,9490.12,9925.02,9727.24,8688.19,8707.19,8773.96,9044.74,9576.29,9523.68,9402.92,9623.74,9721.19,9669.91,9672.16,9280.68,9125.05,9206.66,9123.53,8819.21,8859.35,9026.41,9319.37,9454.05,9506.43,9546.65,9583.26,9880.11,9551.14,9699.18,9742.16,9635.87,9620.85,9725.28,9712.15,9787.55,9643.83,9410.72,9426.56,9404.19,9244.21,9493.46,9442.88,9406.09,9326.43,9301.34,9348.61,9480.65,9638.24,9441.06,9231.72,9181.25,9107.44,9055.16,9115.92,9150.85,9191.26,9166.73,9093.71,9091.08,9063.96,9211.96,9268.98,9345.32,9329.43,9199.61,9238.65,9249.32,9278.0,9219.52,9221.45,9131.94,9134.2,9161.45,9154.54,9177.3,9306.85,9365.17,9540.43,9556.6,9618.68,9832.94,10434.0,10984.98,11095.49,11033.19,11195.08,11608.11,11332.63,11253.36,11242.26,11463.46,11754.82,11715.78,11683.65,11671.58,11898.26,11632.5,11462.2,11549.52,11753.93,11875.96,11849.55,12053.59,12163.19,11796.49,11798.24,11743.87,11559.15,11620.48,11732.97,11508.38,11401.98,11345.38,11441.28,11506.68,11607.77,11683.95,11873.61,11576.83,11039.8,10390.94,10269.63,10201.04,10159.78,10147.77,10187.42,10338.74,10302.33,10372.64,10395.37,10510.21,10773.04,10894.14,10891.98,10924.67,11011.21,10915.54,10677.08,10467.52,10432.22,10442.34,10670.78,10715.77,10716.8,10878.32,10728.74,10740.74,10755.67,10528.12,10549.08,10604.56,10704.46,10699.25,10620.44,10733.1,10981.33,11335.79,11359.46,11445.95,11450.2,11405.26,11414.02,11364.7,11343.34,11429.87,11581.27,11844.37,12457.75,12932.19,12933.03,13028.95,13055.33,13066.8,13362.01,13444.92,13330.63,13435.91,13737.33,13767.63,13597.26,13611.97,13898.93,14729.15,15582.92,15345.74,15199.55,15382.24,15326.81,15593.28,15927.91,16290.9,16030.21,15996.55,16371.94,17082.88,17885.17,17843.32,18336.27,18711.4,18432.0,18419.09,23660.91,23260.82,23097.23,23530.57,23217.69,24015.99,25266.03,27045.52,26963.08,26671.01,28141.22,28881.56,29288.9,30757.31,33467.15,31856.85,32272.71,34906.72,38069.99,39811.49,40399.36,39731.37,34282.96,34844.01,34675.06,38509.28,37472.1,36846.06,35652.95,36047.36,36861.35,35155.9,32955.28,31860.22,32354.99,32226.84,33352.88,31996.53,31149.33,31791.32,35054.48,34055.32,33451.51,33705.95,34713.46,36571.74,37541.82,37630.72,39814.61,38713.78,41190.65,46686.75,45801.72,46274.05,47606.83,47277.39,48598.02,47863.7,48846.27,50913.87,51895.61,53084.12,56272.96,57041.02,54712.82,48971.77,49800.35,49989.61,46660.6,47134.52,44823.8,47640.28,48621.24,50428.4,49402.17,47718.57,48373.25,50214.96,50797.91,53978.97,55374.4,56273.25,56828.88,58794.72,60459.97,57516.75,55342.87,56158.04,58475.81,58285.03,58780.42,57314.7,56790.88,54704.4,55134.95,52124.95,53240.06,55192.29,55834.22,56911.25,58346.97,58706.22,58874.9,59271.28,58936.56,57727.27,58093.64,58461.34,56975.0,57180.72,58209.24,59858.02,59776.63,60090.97,62172.85,63482.35,62921.4,61760.88,61335.37,56071.09,56410.13,55533.1,55451.35,53804.03,49872.43,50076.7,49650.37,53034.8,54602.95,54798.29,53892.64,55298.08,57809.87,56867.93,57929.35,55300.58,55905.29,56980.74,56832.76,58552.96,57995.23,57762.06,55876.23,55932.4,49845.49,50196.25,48853.33,47715.53,44305.65,44192.04,39083.82,39857.95,39110.9,37506.63,35044.93,37018.25,38082.65,39262.48,38813.37,36610.91,35258.07,35487.11,36163.37,36580.24,37281.88,38533.98,37097.42,36593.69,35965.15,35890.97,32887.27,34874.35,37007.58,37006.02,35726.37,36390.04,39677.14,40220.14,39418.74,38608.05,36996.97,35759.61,35066.27,33140.7,32006.21,33754.33,33752.68,33373.57,31486.95,33054.15,34475.29,35560.42,34929.98,33727.53,33293.51,34308.97,35283.88,34102.15,34161.22,34562.89,32901.67,33177.82,33710.67,33801.15,33698.03,32852.21,32489.83,32099.69,31754.03,31561.65,31772.28,31179.15,29835.47,31193.6,32136.79,32491.96,33879.65,34391.62,38319.56,37694.75,39874.6,39866.76,39638.81,41644.67,41485.39,39604.36,38460.4,38710.17,39431.0,41365.56,43571.83,44357.95,44906.61,45604.33,46093.53,44933.21,46213.75,47126.46,46447.07,46927.54,45969.87,45148.07,45219.55,47778.57,49052.79,48907.04,49893.02,48914.65,48268.93,47354.44,47746.17,48906.82,48671.89,48091.55,47308.78,47689.85,49670.0,49912.94,50082.65,50366.47,51791.94,49974.89,46302.95,46426.07,45928.14,45379.01,45644.43,44809.17,46056.14,47592.2,47903.6,47584.2,48243.54,47735.39,44630.22,42445.37,42576.41,44103.13,43138.32,42600.42,42805.68,43528.4,41938.09,41826.87,43266.4,46067.79,47849.57,48031.56,48166.46,50083.76,52927.58,54366.19,54462.1,54747.18,55168.71,56716.22,56629.78,56051.95,57646.52,59886.15,61279.04,60847.09,61797.13,62738.71,64962.58,64332.43,62181.6,61092.77,60712.75,62612.67,62308.86,59514.57,60253.55,61582.92,61623.59,61115.88,61292.13,62550.99,62859.77,61860.09,61533.64,60992.19,62140.14,65801.97,67535.14,66870.4,64933.76,64187.95,64052.64,64481.45,65105.72,60814.8,59891.85,59016.07,57233.17,58717.87,59173.29,57379.33,56924.17,56764.52,58280.27,55688.03,54689.56,54630.4,57613.43,57367.48,57408.5,56710.79,55878.31,49047.62,49145.94,48856.86,51025.54,50329.12,49081.35,48254.99,48488.24,49596.31,48211.73,47209.95,48137.02,48597.6,47081.77,46637.8,47199.66,46436.48,48426.18,48995.26,49104.24,51064.87,50862.35,50176.93,51087.8,48871.05,47590.42,47106.7,47294.26,47126.11,47251.97,46825.26,46433.13,45879.72,43097.13,42000.24,41714.79,41911.08,41618.88,42214.68,43206.59,43439.92,42767.34,43151.51,43115.94,42552.93,41945.81,41921.97,42216.94,38666.48,35509.53,35439.14,35106.82,36521.3,37517.84,36368.91,37062.82,37841.98,37968.7,37576.35,38580.37,38061.16,36822.08,38683.01,41543.76,41623.38,43133.64,43887.23,43959.86,44358.1,43193.39,42347.13,42355.24,42246.8,43902.95,44016.06,42658.43,40421.5,40083.88,38763.48,38506.61,37422.98,38231.8,36139.87,38839.03,39234.31,38719.76,39415.15,43266.11],\"type\":\"scatter\"},{\"mode\":\"lines\",\"name\":\"Close\",\"x\":[\"2017-01-01\",\"2017-01-02\",\"2017-01-03\",\"2017-01-04\",\"2017-01-05\",\"2017-01-06\",\"2017-01-07\",\"2017-01-08\",\"2017-01-09\",\"2017-01-10\",\"2017-01-11\",\"2017-01-12\",\"2017-01-13\",\"2017-01-14\",\"2017-01-15\",\"2017-01-16\",\"2017-01-17\",\"2017-01-18\",\"2017-01-19\",\"2017-01-20\",\"2017-01-21\",\"2017-01-22\",\"2017-01-23\",\"2017-01-24\",\"2017-01-25\",\"2017-01-26\",\"2017-01-27\",\"2017-01-28\",\"2017-01-29\",\"2017-01-30\",\"2017-01-31\",\"2017-02-01\",\"2017-02-02\",\"2017-02-03\",\"2017-02-04\",\"2017-02-05\",\"2017-02-06\",\"2017-02-07\",\"2017-02-08\",\"2017-02-09\",\"2017-02-10\",\"2017-02-11\",\"2017-02-12\",\"2017-02-13\",\"2017-02-14\",\"2017-02-15\",\"2017-02-16\",\"2017-02-17\",\"2017-02-18\",\"2017-02-19\",\"2017-02-20\",\"2017-02-21\",\"2017-02-22\",\"2017-02-23\",\"2017-02-24\",\"2017-02-25\",\"2017-02-26\",\"2017-02-27\",\"2017-02-28\",\"2017-03-01\",\"2017-03-02\",\"2017-03-03\",\"2017-03-04\",\"2017-03-05\",\"2017-03-06\",\"2017-03-07\",\"2017-03-08\",\"2017-03-09\",\"2017-03-10\",\"2017-03-11\",\"2017-03-12\",\"2017-03-13\",\"2017-03-14\",\"2017-03-15\",\"2017-03-16\",\"2017-03-17\",\"2017-03-18\",\"2017-03-19\",\"2017-03-20\",\"2017-03-21\",\"2017-03-22\",\"2017-03-23\",\"2017-03-24\",\"2017-03-25\",\"2017-03-26\",\"2017-03-27\",\"2017-03-28\",\"2017-03-29\",\"2017-03-30\",\"2017-03-31\",\"2017-04-01\",\"2017-04-02\",\"2017-04-03\",\"2017-04-04\",\"2017-04-05\",\"2017-04-06\",\"2017-04-07\",\"2017-04-08\",\"2017-04-09\",\"2017-04-10\",\"2017-04-11\",\"2017-04-12\",\"2017-04-13\",\"2017-04-14\",\"2017-04-15\",\"2017-04-16\",\"2017-04-17\",\"2017-04-18\",\"2017-04-19\",\"2017-04-20\",\"2017-04-21\",\"2017-04-22\",\"2017-04-23\",\"2017-04-24\",\"2017-04-25\",\"2017-04-26\",\"2017-04-27\",\"2017-04-28\",\"2017-04-29\",\"2017-04-30\",\"2017-05-01\",\"2017-05-02\",\"2017-05-03\",\"2017-05-04\",\"2017-05-05\",\"2017-05-06\",\"2017-05-07\",\"2017-05-08\",\"2017-05-09\",\"2017-05-10\",\"2017-05-11\",\"2017-05-12\",\"2017-05-13\",\"2017-05-14\",\"2017-05-15\",\"2017-05-16\",\"2017-05-17\",\"2017-05-18\",\"2017-05-19\",\"2017-05-20\",\"2017-05-21\",\"2017-05-22\",\"2017-05-23\",\"2017-05-24\",\"2017-05-25\",\"2017-05-26\",\"2017-05-27\",\"2017-05-28\",\"2017-05-29\",\"2017-05-30\",\"2017-05-31\",\"2017-06-01\",\"2017-06-02\",\"2017-06-03\",\"2017-06-04\",\"2017-06-05\",\"2017-06-06\",\"2017-06-07\",\"2017-06-08\",\"2017-06-09\",\"2017-06-10\",\"2017-06-11\",\"2017-06-12\",\"2017-06-13\",\"2017-06-14\",\"2017-06-15\",\"2017-06-16\",\"2017-06-17\",\"2017-06-18\",\"2017-06-19\",\"2017-06-20\",\"2017-06-21\",\"2017-06-22\",\"2017-06-23\",\"2017-06-24\",\"2017-06-25\",\"2017-06-26\",\"2017-06-27\",\"2017-06-28\",\"2017-06-29\",\"2017-06-30\",\"2017-07-01\",\"2017-07-02\",\"2017-07-03\",\"2017-07-04\",\"2017-07-05\",\"2017-07-06\",\"2017-07-07\",\"2017-07-08\",\"2017-07-09\",\"2017-07-10\",\"2017-07-11\",\"2017-07-12\",\"2017-07-13\",\"2017-07-14\",\"2017-07-15\",\"2017-07-16\",\"2017-07-17\",\"2017-07-18\",\"2017-07-19\",\"2017-07-20\",\"2017-07-21\",\"2017-07-22\",\"2017-07-23\",\"2017-07-24\",\"2017-07-25\",\"2017-07-26\",\"2017-07-27\",\"2017-07-28\",\"2017-07-29\",\"2017-07-30\",\"2017-07-31\",\"2017-08-01\",\"2017-08-02\",\"2017-08-03\",\"2017-08-04\",\"2017-08-05\",\"2017-08-06\",\"2017-08-07\",\"2017-08-08\",\"2017-08-09\",\"2017-08-10\",\"2017-08-11\",\"2017-08-12\",\"2017-08-13\",\"2017-08-14\",\"2017-08-15\",\"2017-08-16\",\"2017-08-17\",\"2017-08-18\",\"2017-08-19\",\"2017-08-20\",\"2017-08-21\",\"2017-08-22\",\"2017-08-23\",\"2017-08-24\",\"2017-08-25\",\"2017-08-26\",\"2017-08-27\",\"2017-08-28\",\"2017-08-29\",\"2017-08-30\",\"2017-08-31\",\"2017-09-01\",\"2017-09-02\",\"2017-09-03\",\"2017-09-04\",\"2017-09-05\",\"2017-09-06\",\"2017-09-07\",\"2017-09-08\",\"2017-09-09\",\"2017-09-10\",\"2017-09-11\",\"2017-09-12\",\"2017-09-13\",\"2017-09-14\",\"2017-09-15\",\"2017-09-16\",\"2017-09-17\",\"2017-09-18\",\"2017-09-19\",\"2017-09-20\",\"2017-09-21\",\"2017-09-22\",\"2017-09-23\",\"2017-09-24\",\"2017-09-25\",\"2017-09-26\",\"2017-09-27\",\"2017-09-28\",\"2017-09-29\",\"2017-09-30\",\"2017-10-01\",\"2017-10-02\",\"2017-10-03\",\"2017-10-04\",\"2017-10-05\",\"2017-10-06\",\"2017-10-07\",\"2017-10-08\",\"2017-10-09\",\"2017-10-10\",\"2017-10-11\",\"2017-10-12\",\"2017-10-13\",\"2017-10-14\",\"2017-10-15\",\"2017-10-16\",\"2017-10-17\",\"2017-10-18\",\"2017-10-19\",\"2017-10-20\",\"2017-10-21\",\"2017-10-22\",\"2017-10-23\",\"2017-10-24\",\"2017-10-25\",\"2017-10-26\",\"2017-10-27\",\"2017-10-28\",\"2017-10-29\",\"2017-10-30\",\"2017-10-31\",\"2017-11-01\",\"2017-11-02\",\"2017-11-03\",\"2017-11-04\",\"2017-11-05\",\"2017-11-06\",\"2017-11-07\",\"2017-11-08\",\"2017-11-09\",\"2017-11-10\",\"2017-11-11\",\"2017-11-12\",\"2017-11-13\",\"2017-11-14\",\"2017-11-15\",\"2017-11-16\",\"2017-11-17\",\"2017-11-18\",\"2017-11-19\",\"2017-11-20\",\"2017-11-21\",\"2017-11-22\",\"2017-11-23\",\"2017-11-24\",\"2017-11-25\",\"2017-11-26\",\"2017-11-27\",\"2017-11-28\",\"2017-11-29\",\"2017-11-30\",\"2017-12-01\",\"2017-12-02\",\"2017-12-03\",\"2017-12-04\",\"2017-12-05\",\"2017-12-06\",\"2017-12-07\",\"2017-12-08\",\"2017-12-09\",\"2017-12-10\",\"2017-12-11\",\"2017-12-12\",\"2017-12-13\",\"2017-12-14\",\"2017-12-15\",\"2017-12-16\",\"2017-12-17\",\"2017-12-18\",\"2017-12-19\",\"2017-12-20\",\"2017-12-21\",\"2017-12-22\",\"2017-12-23\",\"2017-12-24\",\"2017-12-25\",\"2017-12-26\",\"2017-12-27\",\"2017-12-28\",\"2017-12-29\",\"2017-12-30\",\"2017-12-31\",\"2018-01-01\",\"2018-01-02\",\"2018-01-03\",\"2018-01-04\",\"2018-01-05\",\"2018-01-06\",\"2018-01-07\",\"2018-01-08\",\"2018-01-09\",\"2018-01-10\",\"2018-01-11\",\"2018-01-12\",\"2018-01-13\",\"2018-01-14\",\"2018-01-15\",\"2018-01-16\",\"2018-01-17\",\"2018-01-18\",\"2018-01-19\",\"2018-01-20\",\"2018-01-21\",\"2018-01-22\",\"2018-01-23\",\"2018-01-24\",\"2018-01-25\",\"2018-01-26\",\"2018-01-27\",\"2018-01-28\",\"2018-01-29\",\"2018-01-30\",\"2018-01-31\",\"2018-02-01\",\"2018-02-02\",\"2018-02-03\",\"2018-02-04\",\"2018-02-05\",\"2018-02-06\",\"2018-02-07\",\"2018-02-08\",\"2018-02-09\",\"2018-02-10\",\"2018-02-11\",\"2018-02-12\",\"2018-02-13\",\"2018-02-14\",\"2018-02-15\",\"2018-02-16\",\"2018-02-17\",\"2018-02-18\",\"2018-02-19\",\"2018-02-20\",\"2018-02-21\",\"2018-02-22\",\"2018-02-23\",\"2018-02-24\",\"2018-02-25\",\"2018-02-26\",\"2018-02-27\",\"2018-02-28\",\"2018-03-01\",\"2018-03-02\",\"2018-03-03\",\"2018-03-04\",\"2018-03-05\",\"2018-03-06\",\"2018-03-07\",\"2018-03-08\",\"2018-03-09\",\"2018-03-10\",\"2018-03-11\",\"2018-03-12\",\"2018-03-13\",\"2018-03-14\",\"2018-03-15\",\"2018-03-16\",\"2018-03-17\",\"2018-03-18\",\"2018-03-19\",\"2018-03-20\",\"2018-03-21\",\"2018-03-22\",\"2018-03-23\",\"2018-03-24\",\"2018-03-25\",\"2018-03-26\",\"2018-03-27\",\"2018-03-28\",\"2018-03-29\",\"2018-03-30\",\"2018-03-31\",\"2018-04-01\",\"2018-04-02\",\"2018-04-03\",\"2018-04-04\",\"2018-04-05\",\"2018-04-06\",\"2018-04-07\",\"2018-04-08\",\"2018-04-09\",\"2018-04-10\",\"2018-04-11\",\"2018-04-12\",\"2018-04-13\",\"2018-04-14\",\"2018-04-15\",\"2018-04-16\",\"2018-04-17\",\"2018-04-18\",\"2018-04-19\",\"2018-04-20\",\"2018-04-21\",\"2018-04-22\",\"2018-04-23\",\"2018-04-24\",\"2018-04-25\",\"2018-04-26\",\"2018-04-27\",\"2018-04-28\",\"2018-04-29\",\"2018-04-30\",\"2018-05-01\",\"2018-05-02\",\"2018-05-03\",\"2018-05-04\",\"2018-05-05\",\"2018-05-06\",\"2018-05-07\",\"2018-05-08\",\"2018-05-09\",\"2018-05-10\",\"2018-05-11\",\"2018-05-12\",\"2018-05-13\",\"2018-05-14\",\"2018-05-15\",\"2018-05-16\",\"2018-05-17\",\"2018-05-18\",\"2018-05-19\",\"2018-05-20\",\"2018-05-21\",\"2018-05-22\",\"2018-05-23\",\"2018-05-24\",\"2018-05-25\",\"2018-05-26\",\"2018-05-27\",\"2018-05-28\",\"2018-05-29\",\"2018-05-30\",\"2018-05-31\",\"2018-06-01\",\"2018-06-02\",\"2018-06-03\",\"2018-06-04\",\"2018-06-05\",\"2018-06-06\",\"2018-06-07\",\"2018-06-08\",\"2018-06-09\",\"2018-06-10\",\"2018-06-11\",\"2018-06-12\",\"2018-06-13\",\"2018-06-14\",\"2018-06-15\",\"2018-06-16\",\"2018-06-17\",\"2018-06-18\",\"2018-06-19\",\"2018-06-20\",\"2018-06-21\",\"2018-06-22\",\"2018-06-23\",\"2018-06-24\",\"2018-06-25\",\"2018-06-26\",\"2018-06-27\",\"2018-06-28\",\"2018-06-29\",\"2018-06-30\",\"2018-07-01\",\"2018-07-02\",\"2018-07-03\",\"2018-07-04\",\"2018-07-05\",\"2018-07-06\",\"2018-07-07\",\"2018-07-08\",\"2018-07-09\",\"2018-07-10\",\"2018-07-11\",\"2018-07-12\",\"2018-07-13\",\"2018-07-14\",\"2018-07-15\",\"2018-07-16\",\"2018-07-17\",\"2018-07-18\",\"2018-07-19\",\"2018-07-20\",\"2018-07-21\",\"2018-07-22\",\"2018-07-23\",\"2018-07-24\",\"2018-07-25\",\"2018-07-26\",\"2018-07-27\",\"2018-07-28\",\"2018-07-29\",\"2018-07-30\",\"2018-07-31\",\"2018-08-01\",\"2018-08-02\",\"2018-08-03\",\"2018-08-04\",\"2018-08-05\",\"2018-08-06\",\"2018-08-07\",\"2018-08-08\",\"2018-08-09\",\"2018-08-10\",\"2018-08-11\",\"2018-08-12\",\"2018-08-13\",\"2018-08-14\",\"2018-08-15\",\"2018-08-16\",\"2018-08-17\",\"2018-08-18\",\"2018-08-19\",\"2018-08-20\",\"2018-08-21\",\"2018-08-22\",\"2018-08-23\",\"2018-08-24\",\"2018-08-25\",\"2018-08-26\",\"2018-08-27\",\"2018-08-28\",\"2018-08-29\",\"2018-08-30\",\"2018-08-31\",\"2018-09-01\",\"2018-09-02\",\"2018-09-03\",\"2018-09-04\",\"2018-09-05\",\"2018-09-06\",\"2018-09-07\",\"2018-09-08\",\"2018-09-09\",\"2018-09-10\",\"2018-09-11\",\"2018-09-12\",\"2018-09-13\",\"2018-09-14\",\"2018-09-15\",\"2018-09-16\",\"2018-09-17\",\"2018-09-18\",\"2018-09-19\",\"2018-09-20\",\"2018-09-21\",\"2018-09-22\",\"2018-09-23\",\"2018-09-24\",\"2018-09-25\",\"2018-09-26\",\"2018-09-27\",\"2018-09-28\",\"2018-09-29\",\"2018-09-30\",\"2018-10-01\",\"2018-10-02\",\"2018-10-03\",\"2018-10-04\",\"2018-10-05\",\"2018-10-06\",\"2018-10-07\",\"2018-10-08\",\"2018-10-09\",\"2018-10-10\",\"2018-10-11\",\"2018-10-12\",\"2018-10-13\",\"2018-10-14\",\"2018-10-15\",\"2018-10-16\",\"2018-10-17\",\"2018-10-18\",\"2018-10-19\",\"2018-10-20\",\"2018-10-21\",\"2018-10-22\",\"2018-10-23\",\"2018-10-24\",\"2018-10-25\",\"2018-10-26\",\"2018-10-27\",\"2018-10-28\",\"2018-10-29\",\"2018-10-30\",\"2018-10-31\",\"2018-11-01\",\"2018-11-02\",\"2018-11-03\",\"2018-11-04\",\"2018-11-05\",\"2018-11-06\",\"2018-11-07\",\"2018-11-08\",\"2018-11-09\",\"2018-11-10\",\"2018-11-11\",\"2018-11-12\",\"2018-11-13\",\"2018-11-14\",\"2018-11-15\",\"2018-11-16\",\"2018-11-17\",\"2018-11-18\",\"2018-11-19\",\"2018-11-20\",\"2018-11-21\",\"2018-11-22\",\"2018-11-23\",\"2018-11-24\",\"2018-11-25\",\"2018-11-26\",\"2018-11-27\",\"2018-11-28\",\"2018-11-29\",\"2018-11-30\",\"2018-12-01\",\"2018-12-02\",\"2018-12-03\",\"2018-12-04\",\"2018-12-05\",\"2018-12-06\",\"2018-12-07\",\"2018-12-08\",\"2018-12-09\",\"2018-12-10\",\"2018-12-11\",\"2018-12-12\",\"2018-12-13\",\"2018-12-14\",\"2018-12-15\",\"2018-12-16\",\"2018-12-17\",\"2018-12-18\",\"2018-12-19\",\"2018-12-20\",\"2018-12-21\",\"2018-12-22\",\"2018-12-23\",\"2018-12-24\",\"2018-12-25\",\"2018-12-26\",\"2018-12-27\",\"2018-12-28\",\"2018-12-29\",\"2018-12-30\",\"2018-12-31\",\"2019-01-01\",\"2019-01-02\",\"2019-01-03\",\"2019-01-04\",\"2019-01-05\",\"2019-01-06\",\"2019-01-07\",\"2019-01-08\",\"2019-01-09\",\"2019-01-10\",\"2019-01-11\",\"2019-01-12\",\"2019-01-13\",\"2019-01-14\",\"2019-01-15\",\"2019-01-16\",\"2019-01-17\",\"2019-01-18\",\"2019-01-19\",\"2019-01-20\",\"2019-01-21\",\"2019-01-22\",\"2019-01-23\",\"2019-01-24\",\"2019-01-25\",\"2019-01-26\",\"2019-01-27\",\"2019-01-28\",\"2019-01-29\",\"2019-01-30\",\"2019-01-31\",\"2019-02-01\",\"2019-02-02\",\"2019-02-03\",\"2019-02-04\",\"2019-02-05\",\"2019-02-06\",\"2019-02-07\",\"2019-02-08\",\"2019-02-09\",\"2019-02-10\",\"2019-02-11\",\"2019-02-12\",\"2019-02-13\",\"2019-02-14\",\"2019-02-15\",\"2019-02-16\",\"2019-02-17\",\"2019-02-18\",\"2019-02-19\",\"2019-02-20\",\"2019-02-21\",\"2019-02-22\",\"2019-02-23\",\"2019-02-24\",\"2019-02-25\",\"2019-02-26\",\"2019-02-27\",\"2019-02-28\",\"2019-03-01\",\"2019-03-02\",\"2019-03-03\",\"2019-03-04\",\"2019-03-05\",\"2019-03-06\",\"2019-03-07\",\"2019-03-08\",\"2019-03-09\",\"2019-03-10\",\"2019-03-11\",\"2019-03-12\",\"2019-03-13\",\"2019-03-14\",\"2019-03-15\",\"2019-03-16\",\"2019-03-17\",\"2019-03-18\",\"2019-03-19\",\"2019-03-20\",\"2019-03-21\",\"2019-03-22\",\"2019-03-23\",\"2019-03-24\",\"2019-03-25\",\"2019-03-26\",\"2019-03-27\",\"2019-03-28\",\"2019-03-29\",\"2019-03-30\",\"2019-03-31\",\"2019-04-01\",\"2019-04-02\",\"2019-04-03\",\"2019-04-04\",\"2019-04-05\",\"2019-04-06\",\"2019-04-07\",\"2019-04-08\",\"2019-04-09\",\"2019-04-10\",\"2019-04-11\",\"2019-04-12\",\"2019-04-13\",\"2019-04-14\",\"2019-04-15\",\"2019-04-16\",\"2019-04-17\",\"2019-04-18\",\"2019-04-19\",\"2019-04-20\",\"2019-04-21\",\"2019-04-22\",\"2019-04-23\",\"2019-04-24\",\"2019-04-25\",\"2019-04-26\",\"2019-04-27\",\"2019-04-28\",\"2019-04-29\",\"2019-04-30\",\"2019-05-01\",\"2019-05-02\",\"2019-05-03\",\"2019-05-04\",\"2019-05-05\",\"2019-05-06\",\"2019-05-07\",\"2019-05-08\",\"2019-05-09\",\"2019-05-10\",\"2019-05-11\",\"2019-05-12\",\"2019-05-13\",\"2019-05-14\",\"2019-05-15\",\"2019-05-16\",\"2019-05-17\",\"2019-05-18\",\"2019-05-19\",\"2019-05-20\",\"2019-05-21\",\"2019-05-22\",\"2019-05-23\",\"2019-05-24\",\"2019-05-25\",\"2019-05-26\",\"2019-05-27\",\"2019-05-28\",\"2019-05-29\",\"2019-05-30\",\"2019-05-31\",\"2019-06-01\",\"2019-06-02\",\"2019-06-03\",\"2019-06-04\",\"2019-06-05\",\"2019-06-06\",\"2019-06-07\",\"2019-06-08\",\"2019-06-09\",\"2019-06-10\",\"2019-06-11\",\"2019-06-12\",\"2019-06-13\",\"2019-06-14\",\"2019-06-15\",\"2019-06-16\",\"2019-06-17\",\"2019-06-18\",\"2019-06-19\",\"2019-06-20\",\"2019-06-21\",\"2019-06-22\",\"2019-06-23\",\"2019-06-24\",\"2019-06-25\",\"2019-06-26\",\"2019-06-27\",\"2019-06-28\",\"2019-06-29\",\"2019-06-30\",\"2019-07-01\",\"2019-07-02\",\"2019-07-03\",\"2019-07-04\",\"2019-07-05\",\"2019-07-06\",\"2019-07-07\",\"2019-07-08\",\"2019-07-09\",\"2019-07-10\",\"2019-07-11\",\"2019-07-12\",\"2019-07-13\",\"2019-07-14\",\"2019-07-15\",\"2019-07-16\",\"2019-07-17\",\"2019-07-18\",\"2019-07-19\",\"2019-07-20\",\"2019-07-21\",\"2019-07-22\",\"2019-07-23\",\"2019-07-24\",\"2019-07-25\",\"2019-07-26\",\"2019-07-27\",\"2019-07-28\",\"2019-07-29\",\"2019-07-30\",\"2019-07-31\",\"2019-08-01\",\"2019-08-02\",\"2019-08-03\",\"2019-08-04\",\"2019-08-05\",\"2019-08-06\",\"2019-08-07\",\"2019-08-08\",\"2019-08-09\",\"2019-08-10\",\"2019-08-11\",\"2019-08-12\",\"2019-08-13\",\"2019-08-14\",\"2019-08-15\",\"2019-08-16\",\"2019-08-17\",\"2019-08-18\",\"2019-08-19\",\"2019-08-20\",\"2019-08-21\",\"2019-08-22\",\"2019-08-23\",\"2019-08-24\",\"2019-08-25\",\"2019-08-26\",\"2019-08-27\",\"2019-08-28\",\"2019-08-29\",\"2019-08-30\",\"2019-08-31\",\"2019-09-01\",\"2019-09-02\",\"2019-09-03\",\"2019-09-04\",\"2019-09-05\",\"2019-09-06\",\"2019-09-07\",\"2019-09-08\",\"2019-09-09\",\"2019-09-10\",\"2019-09-11\",\"2019-09-12\",\"2019-09-13\",\"2019-09-14\",\"2019-09-15\",\"2019-09-16\",\"2019-09-17\",\"2019-09-18\",\"2019-09-19\",\"2019-09-20\",\"2019-09-21\",\"2019-09-22\",\"2019-09-23\",\"2019-09-24\",\"2019-09-25\",\"2019-09-26\",\"2019-09-27\",\"2019-09-28\",\"2019-09-29\",\"2019-09-30\",\"2019-10-01\",\"2019-10-02\",\"2019-10-03\",\"2019-10-04\",\"2019-10-05\",\"2019-10-06\",\"2019-10-07\",\"2019-10-08\",\"2019-10-09\",\"2019-10-10\",\"2019-10-11\",\"2019-10-12\",\"2019-10-13\",\"2019-10-14\",\"2019-10-15\",\"2019-10-16\",\"2019-10-17\",\"2019-10-18\",\"2019-10-19\",\"2019-10-20\",\"2019-10-21\",\"2019-10-22\",\"2019-10-23\",\"2019-10-24\",\"2019-10-25\",\"2019-10-26\",\"2019-10-27\",\"2019-10-28\",\"2019-10-29\",\"2019-10-30\",\"2019-10-31\",\"2019-11-01\",\"2019-11-02\",\"2019-11-03\",\"2019-11-04\",\"2019-11-05\",\"2019-11-06\",\"2019-11-07\",\"2019-11-08\",\"2019-11-09\",\"2019-11-10\",\"2019-11-11\",\"2019-11-12\",\"2019-11-13\",\"2019-11-14\",\"2019-11-15\",\"2019-11-16\",\"2019-11-17\",\"2019-11-18\",\"2019-11-19\",\"2019-11-20\",\"2019-11-21\",\"2019-11-22\",\"2019-11-23\",\"2019-11-24\",\"2019-11-25\",\"2019-11-26\",\"2019-11-27\",\"2019-11-28\",\"2019-11-29\",\"2019-11-30\",\"2019-12-01\",\"2019-12-02\",\"2019-12-03\",\"2019-12-04\",\"2019-12-05\",\"2019-12-06\",\"2019-12-07\",\"2019-12-08\",\"2019-12-09\",\"2019-12-10\",\"2019-12-11\",\"2019-12-12\",\"2019-12-13\",\"2019-12-14\",\"2019-12-15\",\"2019-12-16\",\"2019-12-17\",\"2019-12-18\",\"2019-12-19\",\"2019-12-20\",\"2019-12-21\",\"2019-12-22\",\"2019-12-23\",\"2019-12-24\",\"2019-12-25\",\"2019-12-26\",\"2019-12-27\",\"2019-12-28\",\"2019-12-29\",\"2019-12-30\",\"2019-12-31\",\"2020-01-01\",\"2020-01-02\",\"2020-01-03\",\"2020-01-04\",\"2020-01-05\",\"2020-01-06\",\"2020-01-07\",\"2020-01-08\",\"2020-01-09\",\"2020-01-10\",\"2020-01-11\",\"2020-01-12\",\"2020-01-13\",\"2020-01-14\",\"2020-01-15\",\"2020-01-16\",\"2020-01-17\",\"2020-01-18\",\"2020-01-19\",\"2020-01-20\",\"2020-01-21\",\"2020-01-22\",\"2020-01-23\",\"2020-01-24\",\"2020-01-25\",\"2020-01-26\",\"2020-01-27\",\"2020-01-28\",\"2020-01-29\",\"2020-01-30\",\"2020-01-31\",\"2020-02-01\",\"2020-02-02\",\"2020-02-03\",\"2020-02-04\",\"2020-02-05\",\"2020-02-06\",\"2020-02-07\",\"2020-02-08\",\"2020-02-09\",\"2020-02-10\",\"2020-02-11\",\"2020-02-12\",\"2020-02-13\",\"2020-02-14\",\"2020-02-15\",\"2020-02-16\",\"2020-02-17\",\"2020-02-18\",\"2020-02-19\",\"2020-02-20\",\"2020-02-21\",\"2020-02-22\",\"2020-02-23\",\"2020-02-24\",\"2020-02-25\",\"2020-02-26\",\"2020-02-27\",\"2020-02-28\",\"2020-02-29\",\"2020-03-01\",\"2020-03-02\",\"2020-03-03\",\"2020-03-04\",\"2020-03-05\",\"2020-03-06\",\"2020-03-07\",\"2020-03-08\",\"2020-03-09\",\"2020-03-10\",\"2020-03-11\",\"2020-03-12\",\"2020-03-13\",\"2020-03-14\",\"2020-03-15\",\"2020-03-16\",\"2020-03-17\",\"2020-03-18\",\"2020-03-19\",\"2020-03-20\",\"2020-03-21\",\"2020-03-22\",\"2020-03-23\",\"2020-03-24\",\"2020-03-25\",\"2020-03-26\",\"2020-03-27\",\"2020-03-28\",\"2020-03-29\",\"2020-03-30\",\"2020-03-31\",\"2020-04-01\",\"2020-04-02\",\"2020-04-03\",\"2020-04-04\",\"2020-04-05\",\"2020-04-06\",\"2020-04-07\",\"2020-04-08\",\"2020-04-09\",\"2020-04-10\",\"2020-04-11\",\"2020-04-12\",\"2020-04-13\",\"2020-04-14\",\"2020-04-15\",\"2020-04-16\",\"2020-04-17\",\"2020-04-18\",\"2020-04-19\",\"2020-04-20\",\"2020-04-21\",\"2020-04-22\",\"2020-04-23\",\"2020-04-24\",\"2020-04-25\",\"2020-04-26\",\"2020-04-27\",\"2020-04-28\",\"2020-04-29\",\"2020-04-30\",\"2020-05-01\",\"2020-05-02\",\"2020-05-03\",\"2020-05-04\",\"2020-05-05\",\"2020-05-06\",\"2020-05-07\",\"2020-05-08\",\"2020-05-09\",\"2020-05-10\",\"2020-05-11\",\"2020-05-12\",\"2020-05-13\",\"2020-05-14\",\"2020-05-15\",\"2020-05-16\",\"2020-05-17\",\"2020-05-18\",\"2020-05-19\",\"2020-05-20\",\"2020-05-21\",\"2020-05-22\",\"2020-05-23\",\"2020-05-24\",\"2020-05-25\",\"2020-05-26\",\"2020-05-27\",\"2020-05-28\",\"2020-05-29\",\"2020-05-30\",\"2020-05-31\",\"2020-06-01\",\"2020-06-02\",\"2020-06-03\",\"2020-06-04\",\"2020-06-05\",\"2020-06-06\",\"2020-06-07\",\"2020-06-08\",\"2020-06-09\",\"2020-06-10\",\"2020-06-11\",\"2020-06-12\",\"2020-06-13\",\"2020-06-14\",\"2020-06-15\",\"2020-06-16\",\"2020-06-17\",\"2020-06-18\",\"2020-06-19\",\"2020-06-20\",\"2020-06-21\",\"2020-06-22\",\"2020-06-23\",\"2020-06-24\",\"2020-06-25\",\"2020-06-26\",\"2020-06-27\",\"2020-06-28\",\"2020-06-29\",\"2020-06-30\",\"2020-07-01\",\"2020-07-02\",\"2020-07-03\",\"2020-07-04\",\"2020-07-05\",\"2020-07-06\",\"2020-07-07\",\"2020-07-08\",\"2020-07-09\",\"2020-07-10\",\"2020-07-11\",\"2020-07-12\",\"2020-07-13\",\"2020-07-14\",\"2020-07-15\",\"2020-07-16\",\"2020-07-17\",\"2020-07-18\",\"2020-07-19\",\"2020-07-20\",\"2020-07-21\",\"2020-07-22\",\"2020-07-23\",\"2020-07-24\",\"2020-07-25\",\"2020-07-26\",\"2020-07-27\",\"2020-07-28\",\"2020-07-29\",\"2020-07-30\",\"2020-07-31\",\"2020-08-01\",\"2020-08-02\",\"2020-08-03\",\"2020-08-04\",\"2020-08-05\",\"2020-08-06\",\"2020-08-07\",\"2020-08-08\",\"2020-08-09\",\"2020-08-10\",\"2020-08-11\",\"2020-08-12\",\"2020-08-13\",\"2020-08-14\",\"2020-08-15\",\"2020-08-16\",\"2020-08-17\",\"2020-08-18\",\"2020-08-19\",\"2020-08-20\",\"2020-08-21\",\"2020-08-22\",\"2020-08-23\",\"2020-08-24\",\"2020-08-25\",\"2020-08-26\",\"2020-08-27\",\"2020-08-28\",\"2020-08-29\",\"2020-08-30\",\"2020-08-31\",\"2020-09-01\",\"2020-09-02\",\"2020-09-03\",\"2020-09-04\",\"2020-09-05\",\"2020-09-06\",\"2020-09-07\",\"2020-09-08\",\"2020-09-09\",\"2020-09-10\",\"2020-09-11\",\"2020-09-12\",\"2020-09-13\",\"2020-09-14\",\"2020-09-15\",\"2020-09-16\",\"2020-09-17\",\"2020-09-18\",\"2020-09-19\",\"2020-09-20\",\"2020-09-21\",\"2020-09-22\",\"2020-09-23\",\"2020-09-24\",\"2020-09-25\",\"2020-09-26\",\"2020-09-27\",\"2020-09-28\",\"2020-09-29\",\"2020-09-30\",\"2020-10-01\",\"2020-10-02\",\"2020-10-03\",\"2020-10-04\",\"2020-10-05\",\"2020-10-06\",\"2020-10-07\",\"2020-10-08\",\"2020-10-09\",\"2020-10-10\",\"2020-10-11\",\"2020-10-12\",\"2020-10-13\",\"2020-10-14\",\"2020-10-15\",\"2020-10-16\",\"2020-10-17\",\"2020-10-18\",\"2020-10-19\",\"2020-10-20\",\"2020-10-21\",\"2020-10-22\",\"2020-10-23\",\"2020-10-24\",\"2020-10-25\",\"2020-10-26\",\"2020-10-27\",\"2020-10-28\",\"2020-10-29\",\"2020-10-30\",\"2020-10-31\",\"2020-11-01\",\"2020-11-02\",\"2020-11-03\",\"2020-11-04\",\"2020-11-05\",\"2020-11-06\",\"2020-11-07\",\"2020-11-08\",\"2020-11-09\",\"2020-11-10\",\"2020-11-11\",\"2020-11-12\",\"2020-11-13\",\"2020-11-14\",\"2020-11-15\",\"2020-11-16\",\"2020-11-17\",\"2020-11-18\",\"2020-11-19\",\"2020-11-20\",\"2020-11-21\",\"2020-11-22\",\"2020-11-23\",\"2020-12-20\",\"2020-12-21\",\"2020-12-22\",\"2020-12-23\",\"2020-12-24\",\"2020-12-25\",\"2020-12-26\",\"2020-12-27\",\"2020-12-28\",\"2020-12-29\",\"2020-12-30\",\"2020-12-31\",\"2021-01-01\",\"2021-01-02\",\"2021-01-03\",\"2021-01-04\",\"2021-01-05\",\"2021-01-06\",\"2021-01-07\",\"2021-01-08\",\"2021-01-09\",\"2021-01-10\",\"2021-01-11\",\"2021-01-12\",\"2021-01-13\",\"2021-01-14\",\"2021-01-15\",\"2021-01-16\",\"2021-01-17\",\"2021-01-18\",\"2021-01-19\",\"2021-01-20\",\"2021-01-21\",\"2021-01-22\",\"2021-01-23\",\"2021-01-24\",\"2021-01-25\",\"2021-01-26\",\"2021-01-27\",\"2021-01-28\",\"2021-01-29\",\"2021-01-30\",\"2021-01-31\",\"2021-02-01\",\"2021-02-02\",\"2021-02-03\",\"2021-02-04\",\"2021-02-05\",\"2021-02-06\",\"2021-02-07\",\"2021-02-08\",\"2021-02-09\",\"2021-02-10\",\"2021-02-11\",\"2021-02-12\",\"2021-02-13\",\"2021-02-14\",\"2021-02-15\",\"2021-02-16\",\"2021-02-17\",\"2021-02-18\",\"2021-02-19\",\"2021-02-20\",\"2021-02-21\",\"2021-02-22\",\"2021-02-23\",\"2021-02-24\",\"2021-02-25\",\"2021-02-26\",\"2021-02-27\",\"2021-02-28\",\"2021-03-01\",\"2021-03-02\",\"2021-03-03\",\"2021-03-04\",\"2021-03-05\",\"2021-03-06\",\"2021-03-07\",\"2021-03-08\",\"2021-03-09\",\"2021-03-10\",\"2021-03-11\",\"2021-03-12\",\"2021-03-13\",\"2021-03-14\",\"2021-03-15\",\"2021-03-16\",\"2021-03-17\",\"2021-03-18\",\"2021-03-19\",\"2021-03-20\",\"2021-03-21\",\"2021-03-22\",\"2021-03-23\",\"2021-03-24\",\"2021-03-25\",\"2021-03-26\",\"2021-03-27\",\"2021-03-28\",\"2021-03-29\",\"2021-03-30\",\"2021-03-31\",\"2021-04-01\",\"2021-04-02\",\"2021-04-03\",\"2021-04-04\",\"2021-04-05\",\"2021-04-06\",\"2021-04-07\",\"2021-04-08\",\"2021-04-09\",\"2021-04-10\",\"2021-04-11\",\"2021-04-12\",\"2021-04-13\",\"2021-04-14\",\"2021-04-15\",\"2021-04-16\",\"2021-04-17\",\"2021-04-18\",\"2021-04-19\",\"2021-04-20\",\"2021-04-21\",\"2021-04-22\",\"2021-04-23\",\"2021-04-24\",\"2021-04-25\",\"2021-04-26\",\"2021-04-27\",\"2021-04-28\",\"2021-04-29\",\"2021-04-30\",\"2021-05-01\",\"2021-05-02\",\"2021-05-03\",\"2021-05-04\",\"2021-05-05\",\"2021-05-06\",\"2021-05-07\",\"2021-05-08\",\"2021-05-09\",\"2021-05-10\",\"2021-05-11\",\"2021-05-12\",\"2021-05-13\",\"2021-05-14\",\"2021-05-15\",\"2021-05-16\",\"2021-05-17\",\"2021-05-18\",\"2021-05-19\",\"2021-05-20\",\"2021-05-21\",\"2021-05-22\",\"2021-05-23\",\"2021-05-24\",\"2021-05-25\",\"2021-05-26\",\"2021-05-27\",\"2021-05-28\",\"2021-05-29\",\"2021-05-30\",\"2021-05-31\",\"2021-06-01\",\"2021-06-02\",\"2021-06-03\",\"2021-06-04\",\"2021-06-05\",\"2021-06-06\",\"2021-06-07\",\"2021-06-08\",\"2021-06-09\",\"2021-06-10\",\"2021-06-11\",\"2021-06-12\",\"2021-06-13\",\"2021-06-14\",\"2021-06-15\",\"2021-06-16\",\"2021-06-17\",\"2021-06-18\",\"2021-06-19\",\"2021-06-20\",\"2021-06-21\",\"2021-06-22\",\"2021-06-23\",\"2021-06-24\",\"2021-06-25\",\"2021-06-26\",\"2021-06-27\",\"2021-06-28\",\"2021-06-29\",\"2021-06-30\",\"2021-07-01\",\"2021-07-02\",\"2021-07-03\",\"2021-07-04\",\"2021-07-05\",\"2021-07-06\",\"2021-07-07\",\"2021-07-08\",\"2021-07-09\",\"2021-07-10\",\"2021-07-11\",\"2021-07-12\",\"2021-07-13\",\"2021-07-14\",\"2021-07-15\",\"2021-07-16\",\"2021-07-17\",\"2021-07-18\",\"2021-07-19\",\"2021-07-20\",\"2021-07-21\",\"2021-07-22\",\"2021-07-23\",\"2021-07-24\",\"2021-07-25\",\"2021-07-26\",\"2021-07-27\",\"2021-07-28\",\"2021-07-29\",\"2021-07-30\",\"2021-07-31\",\"2021-08-01\",\"2021-08-02\",\"2021-08-03\",\"2021-08-04\",\"2021-08-05\",\"2021-08-06\",\"2021-08-07\",\"2021-08-08\",\"2021-08-09\",\"2021-08-10\",\"2021-08-11\",\"2021-08-12\",\"2021-08-13\",\"2021-08-14\",\"2021-08-15\",\"2021-08-16\",\"2021-08-17\",\"2021-08-18\",\"2021-08-19\",\"2021-08-20\",\"2021-08-21\",\"2021-08-22\",\"2021-08-23\",\"2021-08-24\",\"2021-08-25\",\"2021-08-26\",\"2021-08-27\",\"2021-08-28\",\"2021-08-29\",\"2021-08-30\",\"2021-08-31\",\"2021-09-01\",\"2021-09-02\",\"2021-09-03\",\"2021-09-04\",\"2021-09-05\",\"2021-09-06\",\"2021-09-07\",\"2021-09-08\",\"2021-09-09\",\"2021-09-10\",\"2021-09-11\",\"2021-09-12\",\"2021-09-13\",\"2021-09-14\",\"2021-09-15\",\"2021-09-16\",\"2021-09-17\",\"2021-09-18\",\"2021-09-19\",\"2021-09-20\",\"2021-09-21\",\"2021-09-22\",\"2021-09-23\",\"2021-09-24\",\"2021-09-25\",\"2021-09-26\",\"2021-09-27\",\"2021-09-28\",\"2021-09-29\",\"2021-09-30\",\"2021-10-01\",\"2021-10-02\",\"2021-10-03\",\"2021-10-04\",\"2021-10-05\",\"2021-10-06\",\"2021-10-07\",\"2021-10-08\",\"2021-10-09\",\"2021-10-10\",\"2021-10-11\",\"2021-10-12\",\"2021-10-13\",\"2021-10-14\",\"2021-10-15\",\"2021-10-16\",\"2021-10-17\",\"2021-10-18\",\"2021-10-19\",\"2021-10-20\",\"2021-10-21\",\"2021-10-22\",\"2021-10-23\",\"2021-10-24\",\"2021-10-25\",\"2021-10-26\",\"2021-10-27\",\"2021-10-28\",\"2021-10-29\",\"2021-10-30\",\"2021-10-31\",\"2021-11-01\",\"2021-11-02\",\"2021-11-03\",\"2021-11-04\",\"2021-11-05\",\"2021-11-06\",\"2021-11-07\",\"2021-11-08\",\"2021-11-09\",\"2021-11-10\",\"2021-11-11\",\"2021-11-12\",\"2021-11-13\",\"2021-11-14\",\"2021-11-15\",\"2021-11-16\",\"2021-11-17\",\"2021-11-18\",\"2021-11-19\",\"2021-11-20\",\"2021-11-21\",\"2021-11-22\",\"2021-11-23\",\"2021-11-24\",\"2021-11-25\",\"2021-11-26\",\"2021-11-27\",\"2021-11-28\",\"2021-11-29\",\"2021-11-30\",\"2021-12-01\",\"2021-12-02\",\"2021-12-03\",\"2021-12-04\",\"2021-12-05\",\"2021-12-06\",\"2021-12-07\",\"2021-12-08\",\"2021-12-09\",\"2021-12-10\",\"2021-12-11\",\"2021-12-12\",\"2021-12-13\",\"2021-12-14\",\"2021-12-15\",\"2021-12-16\",\"2021-12-17\",\"2021-12-18\",\"2021-12-19\",\"2021-12-20\",\"2021-12-21\",\"2021-12-22\",\"2021-12-23\",\"2021-12-24\",\"2021-12-25\",\"2021-12-26\",\"2021-12-27\",\"2021-12-28\",\"2021-12-29\",\"2021-12-30\",\"2021-12-31\",\"2022-01-01\",\"2022-01-02\",\"2022-01-03\",\"2022-01-04\",\"2022-01-05\",\"2022-01-06\",\"2022-01-07\",\"2022-01-08\",\"2022-01-09\",\"2022-01-10\",\"2022-01-11\",\"2022-01-12\",\"2022-01-13\",\"2022-01-14\",\"2022-01-15\",\"2022-01-16\",\"2022-01-17\",\"2022-01-18\",\"2022-01-19\",\"2022-01-20\",\"2022-01-21\",\"2022-01-22\",\"2022-01-23\",\"2022-01-24\",\"2022-01-25\",\"2022-01-26\",\"2022-01-27\",\"2022-01-28\",\"2022-01-29\",\"2022-01-30\",\"2022-01-31\",\"2022-02-01\",\"2022-02-02\",\"2022-02-03\",\"2022-02-04\",\"2022-02-05\",\"2022-02-06\",\"2022-02-07\",\"2022-02-08\",\"2022-02-09\",\"2022-02-10\",\"2022-02-11\",\"2022-02-12\",\"2022-02-13\",\"2022-02-14\",\"2022-02-15\",\"2022-02-16\",\"2022-02-17\",\"2022-02-18\",\"2022-02-19\",\"2022-02-20\",\"2022-02-21\",\"2022-02-22\",\"2022-02-23\",\"2022-02-24\",\"2022-02-25\",\"2022-02-26\",\"2022-02-27\",\"2022-02-28\",\"2022-03-01\"],\"y\":[977.28,1012.27,1020.04,1076.55,1043.55,934.42,869.74,913.97,893.47,902.64,846.17,782.96,807.18,827.41,817.08,827.98,876.18,885.35,893.29,895.55,917.68,922.69,920.19,907.19,894.51,905.8,917.18,918.31,916.78,916.97,940.45,970.87,992.76,1011.99,1017.8,1020.08,1020.89,1042.41,1053.73,1024.65,977.93,1007.61,1003.4,998.88,1006.08,1009.32,1026.71,1046.79,1061.47,1053.42,1057.35,1100.13,1122.67,1147.21,1185.39,1167.69,1164.64,1186.03,1192.55,1206.26,1239.86,1272.27,1269.11,1258.51,1274.44,1254.57,1197.92,1176.92,1202.49,1167.67,1196.71,1234.22,1243.74,1251.48,1220.42,1130.97,1034.96,1009.41,1034.06,1083.69,1053.95,1035.66,990.53,927.03,964.26,998.41,1043.16,1033.03,1033.58,1051.6,1077.52,1079.92,1126.59,1142.4,1130.15,1167.35,1189.48,1187.91,1193.85,1208.02,1213.41,1217.08,1188.34,1173.41,1178.21,1170.24,1172.29,1200.18,1201.19,1220.54,1241.37,1237.61,1235.67,1243.87,1264.91,1288.01,1313.13,1324.27,1330.03,1331.22,1376.71,1433.23,1471.2,1539.87,1557.04,1540.57,1542.83,1587.97,1704.5,1746.4,1825.76,1770.4,1706.61,1782.12,1733.34,1709.08,1774.0,1824.89,1925.95,1974.0,2022.65,2109.23,2191.83,2367.12,2555.55,2384.46,2096.44,2188.76,2237.84,2274.07,2253.64,2389.71,2429.3,2518.75,2524.75,2600.74,2835.13,2815.7,2753.57,2823.85,2853.87,2906.47,2803.58,2715.93,2653.05,2356.73,2450.15,2555.92,2566.56,2558.14,2661.56,2712.27,2680.86,2718.26,2657.01,2559.34,2464.92,2407.79,2533.6,2558.77,2524.05,2462.33,2444.77,2524.04,2596.61,2569.91,2593.84,2543.12,2516.35,2539.28,2455.03,2339.67,2343.99,2371.1,2279.32,2073.94,1939.77,2056.52,2280.83,2311.8,2492.0,2718.66,2779.75,2767.12,2753.61,2624.1,2499.12,2569.32,2737.29,2718.18,2675.8,2760.6,2769.7,2713.94,2743.28,2827.01,3153.66,3236.01,3308.09,3416.07,3341.19,3391.81,3503.1,3757.49,4023.29,4167.99,4167.69,4166.0,4345.92,4228.19,4055.16,4060.07,4022.7,3922.03,4141.48,4180.54,4356.69,4311.37,4340.42,4304.71,4464.28,4575.96,4669.39,4801.71,4684.14,4576.0,4361.94,4252.46,4528.7,4584.3,4482.6,4292.22,4180.85,4210.23,4253.14,3934.01,3624.54,3409.16,3696.29,3634.36,3941.12,3962.96,3937.19,3791.33,3626.57,3713.82,3695.2,3820.0,3914.81,4035.88,4188.61,4144.98,4270.21,4290.9,4395.49,4311.99,4249.64,4255.33,4359.17,4351.29,4495.81,4643.43,4811.7,4787.35,5114.76,5618.34,5666.47,5610.08,5673.47,5625.58,5402.31,5654.1,5788.78,6073.86,5910.38,5869.14,5659.77,5547.82,5826.56,5822.68,5749.92,5883.72,6122.4,6240.41,6502.71,6952.34,7240.37,7258.12,7458.39,7228.16,7102.9,7386.52,7244.33,6961.36,6556.02,6114.23,6346.99,6590.39,7046.02,7459.53,7827.06,7697.01,7825.93,8090.02,8157.69,8194.89,8175.67,8168.09,8428.86,8972.45,9556.81,9833.03,10403.94,9888.91,10194.86,10938.31,11291.63,11346.53,11656.5,12580.53,14778.21,15432.87,14806.8,14134.66,16202.5,16730.93,16540.33,16343.04,17365.63,18176.73,19190.34,18720.01,18320.42,16834.52,16221.42,13761.15,14768.56,13656.09,13966.07,15243.62,15581.44,14248.63,14534.97,13212.86,13339.22,13425.13,13879.36,14963.7,14818.78,15792.45,16666.92,16517.01,15300.75,14868.2,14194.69,13697.1,13661.49,14224.95,13679.93,13821.28,12164.62,10680.23,11495.75,11513.54,12471.65,11895.59,11131.14,10724.71,11007.91,11300.59,11011.94,11238.78,11673.1,11283.9,10628.61,9987.0,9497.75,8558.5,8912.28,8722.6,7611.72,6828.46,7914.38,8216.32,8261.49,8656.49,8188.49,8624.08,8609.81,9025.64,9803.04,10025.99,10677.81,10737.34,10867.44,11498.19,10791.7,10272.66,10013.16,9931.7,9595.84,9910.59,10552.67,10621.07,10650.84,10980.79,11344.27,11242.1,11520.93,11021.74,10400.0,9705.39,8908.0,9236.66,9058.14,9436.36,9155.81,8769.35,8112.52,8315.01,8079.59,7679.65,8355.26,8622.5,8983.08,8793.33,8529.94,8857.92,8535.65,8208.19,7965.76,7916.93,7518.69,6888.19,7005.67,6797.42,6978.02,7325.3,7077.71,6758.11,6649.45,6891.67,6988.43,6891.47,6779.24,6879.95,7336.71,7992.69,8010.87,8215.49,8080.02,8036.63,8057.31,8213.27,8445.64,8800.28,8888.39,8895.62,9314.52,9221.08,8883.21,9217.02,9240.57,9356.16,9290.62,8988.6,9112.69,9379.66,9656.52,9829.18,9615.7,9344.1,9260.79,9193.33,9265.52,8701.56,8423.31,8550.49,8581.47,8642.1,8282.71,8277.96,8106.67,8254.92,8361.97,8455.09,8233.26,7784.58,7538.57,7486.67,7490.14,7317.31,7255.43,7293.89,7432.49,7500.11,7481.19,7597.25,7690.67,7575.32,7491.72,7606.39,7692.52,7629.56,7630.16,7133.65,6760.72,6754.1,6443.02,6501.83,6550.99,6462.63,6509.1,6522.89,6718.14,6680.92,6736.71,6359.65,6135.98,6024.73,6203.31,6201.93,6096.06,6082.03,5903.82,6363.48,6350.03,6453.06,6596.76,6571.15,6581.06,6541.89,6573.32,6739.14,6705.73,6480.46,6354.41,6219.17,6236.78,6236.17,6318.54,6521.18,6877.72,7402.69,7390.09,7420.57,7347.86,7448.0,7679.6,8071.49,8253.58,8196.51,8021.52,8180.0,8202.69,8133.95,7915.12,7569.98,7590.18,7394.1,7248.66,6995.64,6987.84,6986.74,6444.73,6394.32,6394.92,6188.14,6304.35,6345.71,6056.11,6369.12,6344.47,6466.79,6446.21,6397.76,6444.96,6399.59,6579.5,6433.54,6551.87,6713.86,6669.95,6712.78,6986.98,7049.23,6929.05,6979.79,7105.35,7239.42,7259.91,7322.05,7125.83,6421.73,6443.36,6360.32,6289.75,6287.39,6290.23,6268.19,6440.58,6500.25,6519.02,6484.17,6398.07,6295.92,6336.49,6411.72,6658.61,6705.59,6706.8,6638.19,6413.13,6461.36,6520.75,6665.08,6539.94,6577.55,6574.94,6541.68,6447.23,6547.23,6544.55,6556.29,6533.51,6586.73,6587.59,6517.04,6213.51,6201.43,6196.31,6225.61,6368.97,6437.69,6438.6,6427.55,6385.54,6396.78,6433.67,6405.4,6395.75,6425.27,6400.47,6400.77,6407.06,6402.55,6330.0,6264.57,6277.43,6310.57,6351.96,6333.97,6364.34,6404.68,6412.87,6506.88,6449.53,6365.88,6354.91,6339.54,6350.98,6290.06,6019.9,5494.72,5530.69,5485.18,5534.09,5203.16,4531.13,4447.25,4468.59,4248.51,4203.43,3756.95,3850.88,3702.97,4057.76,4224.6,4075.23,4078.27,4120.35,3924.92,3904.99,3802.76,3694.97,3360.19,3384.92,3468.01,3468.81,3365.57,3397.27,3360.92,3233.87,3180.22,3217.12,3333.07,3508.65,3748.38,3923.04,3972.55,3851.87,3978.13,4125.49,3773.23,3779.55,3717.8,3700.84,3873.55,3788.03,3757.36,3700.33,3823.11,3830.18,3785.05,3834.45,3874.55,4022.67,4006.26,4010.75,3795.52,3636.7,3626.57,3580.62,3580.01,3641.57,3603.47,3602.95,3615.67,3671.64,3607.24,3535.86,3551.57,3569.47,3553.94,3557.15,3571.37,3545.67,3438.03,3398.64,3423.1,3424.86,3416.37,3431.84,3425.44,3414.2,3419.37,3371.58,3366.42,3451.49,3614.88,3608.16,3595.2,3577.85,3582.24,3569.14,3570.4,3587.66,3585.49,3756.02,3900.65,3910.84,3906.73,3925.34,3980.22,3989.58,3792.78,3799.93,3795.36,3810.28,3813.27,3805.28,3801.46,3725.05,3765.77,3838.79,3861.38,3871.9,3889.98,3893.02,3864.61,3847.29,3853.51,3850.27,3877.47,3978.55,3963.1,3969.49,3977.04,3995.41,4005.96,3981.57,3980.76,3968.61,3949.8,3908.43,3994.0,4009.19,4057.54,4083.77,4088.35,4125.55,4647.14,5038.51,4971.66,4981.01,5042.75,5128.47,5241.55,5221.41,5270.48,5129.76,5047.64,5084.52,5078.8,5122.11,5098.62,5218.72,5263.98,5259.16,5313.28,5288.68,5317.53,5531.95,5486.83,5423.3,5149.68,5165.26,5169.92,5154.87,5199.33,5303.56,5360.95,5617.31,5694.24,5721.58,5656.33,5863.7,5843.87,6047.25,6290.58,6806.68,7155.47,7408.98,7993.16,8054.81,7993.71,7263.2,7326.35,7934.05,7906.76,7952.99,7890.88,7703.52,7983.82,8045.21,8125.43,8782.53,8726.03,8646.49,8631.69,8350.29,8542.02,8668.06,8531.11,7851.14,7771.94,7751.16,7938.75,7941.17,7799.95,7820.27,7897.23,8036.86,8169.98,8353.57,8727.9,9096.02,9236.64,9153.26,9148.23,9353.45,9802.45,10725.6,10747.12,10844.87,11314.39,12643.55,11803.96,11678.36,11850.86,11540.01,10687.82,10305.09,11345.89,11760.03,11141.25,11416.44,11311.68,11794.19,12514.22,12649.91,11584.54,11585.79,11430.24,10860.67,10419.18,10356.28,9577.3,10053.26,10473.08,10680.94,10578.37,10451.46,10071.96,9703.44,10023.55,9775.52,9731.7,9486.49,9541.11,9541.57,9857.41,10085.62,10475.72,10785.77,10820.89,11676.33,11758.31,11712.38,11802.53,11820.87,11582.25,11379.08,11396.02,11138.49,10439.85,10012.66,10232.26,10296.94,10291.97,10616.02,10752.26,10192.57,10044.01,10261.47,10154.09,10097.65,10343.26,10171.56,10042.28,9517.9,9532.49,9590.36,9622.24,9944.62,10519.82,10561.1,10561.88,10656.88,10419.69,10456.39,10298.72,10219.31,10060.98,10216.49,10313.12,10337.55,10313.6,10249.9,10215.0,10192.95,9988.44,10172.01,10036.81,9975.93,9875.4,9422.62,8448.02,8249.82,8037.27,8155.99,8071.72,8070.43,8360.04,8255.49,8243.18,8145.48,8106.66,7978.85,8039.44,8208.51,8337.86,8559.44,8397.59,8332.7,8357.56,8306.82,8262.81,8063.58,8031.53,7962.06,7958.52,8018.32,8221.3,8198.77,7744.95,7448.84,7879.14,9318.09,9410.96,9475.0,9382.78,9192.74,9171.98,9154.14,9279.77,9217.95,9255.59,9343.0,9335.84,9238.38,8982.09,8810.76,8891.03,8796.94,8733.55,8747.26,8655.01,8538.93,8469.29,8513.55,8378.44,8114.96,8097.59,7848.35,7342.33,7241.77,7145.5,6962.0,7140.44,7251.57,7522.11,7611.32,7654.02,7352.87,7309.4,7318.28,7275.86,7327.94,7404.35,7531.97,7495.61,7461.01,7300.12,7210.36,7171.9,7226.6,7163.7,7089.37,7032.79,6790.18,6770.71,7147.47,7150.54,7147.98,7226.01,7503.32,7295.81,7210.79,7220.62,7191.5,7298.45,7344.87,7297.83,7198.75,7195.47,7072.44,7217.61,7321.51,7429.77,7533.28,7929.37,8235.34,7898.3,7887.64,8112.92,8110.95,8102.12,8574.33,8743.14,8673.14,8852.23,8890.91,8847.04,8644.11,8645.58,8665.42,8435.95,8383.22,8320.79,8428.66,8722.29,9041.03,9330.04,9369.68,9341.25,9371.4,9375.74,9329.29,9202.14,9400.97,9687.49,9775.79,9812.21,10079.68,9920.9,9956.39,10342.78,10284.81,10260.13,10143.2,9903.58,9718.71,9844.99,10098.32,9581.63,9688.95,9659.62,9868.75,9734.37,9489.21,9032.85,8795.39,8697.95,8685.84,8557.45,8746.59,8790.05,8760.35,9019.08,9097.34,9053.45,8569.64,7881.43,7947.4,7849.35,6666.84,5295.34,5410.28,5299.79,4987.49,5313.4,5286.61,5759.6,6360.77,6169.17,6139.14,6105.48,6652.99,6661.96,6671.94,6691.75,6227.6,6106.27,6272.46,6451.12,6308.06,6723.47,6813.68,6772.34,6796.44,7090.14,7317.67,7301.73,7304.99,6976.3,6871.62,6947.53,6751.62,6884.5,6801.81,6912.16,7072.33,7152.63,7167.93,7052.49,6867.57,7000.43,7294.04,7521.62,7544.5,7600.13,7715.59,7730.82,8244.95,8894.67,8784.0,8872.73,8980.13,8772.43,8930.76,9162.09,9490.68,9925.16,9727.45,8687.42,8707.08,8773.93,9045.18,9576.71,9523.97,9403.12,9623.96,9721.69,9670.03,9672.19,9280.53,9125.24,9206.5,9123.22,8819.14,8859.39,9026.77,9319.71,9454.14,9506.56,9546.46,9583.92,9879.88,9551.34,9699.5,9742.4,9635.95,9621.04,9725.4,9712.13,9787.56,9643.82,9411.14,9426.57,9404.04,9244.6,9493.58,9443.0,9406.32,9326.51,9301.21,9348.79,9480.89,9638.37,9441.01,9231.77,9181.33,9107.38,9055.14,9115.96,9150.84,9191.29,9166.84,9093.8,9091.23,9064.04,9212.26,9268.92,9345.35,9329.39,9199.68,9238.83,9249.46,9277.99,9219.77,9221.59,9132.12,9134.41,9161.56,9154.56,9177.47,9306.94,9365.52,9540.84,9557.1,9619.27,9833.77,10435.32,10985.54,11095.82,11033.47,11196.17,11609.17,11333.01,11254.05,11243.05,11464.15,11755.26,11716.17,11684.67,11672.1,11898.85,11632.18,11462.5,11550.24,11754.65,11876.6,11850.41,12054.46,12163.73,11796.85,11798.07,11743.61,11559.23,11620.5,11733.05,11508.07,11402.38,11345.25,11441.41,11506.73,11607.95,11683.98,11873.95,11576.61,11038.92,10391.22,10269.22,10200.84,10159.79,10147.69,10187.31,10338.74,10302.37,10372.46,10395.1,10510.24,10773.03,10894.24,10892.12,10924.66,11011.15,10915.35,10676.34,10467.65,10431.98,10442.77,10670.72,10715.88,10716.86,10878.12,10728.96,10740.81,10755.59,10528.39,10549.22,10604.53,10704.49,10699.33,10620.57,10733.3,10981.63,11336.1,11359.58,11446.25,11450.17,11405.47,11414.12,11364.59,11343.44,11430.13,11581.76,11844.58,12458.46,12932.32,12933.03,13029.17,13055.26,13067.0,13362.83,13444.67,13330.44,13435.72,13737.89,13767.55,13596.98,13612.48,13899.12,14730.3,15583.43,15345.26,15199.62,15382.01,15326.62,15593.25,15928.37,16291.47,16030.03,15996.74,16372.39,17083.64,17885.35,17843.97,18336.95,18712.13,18431.88,18414.87,23661.3,23260.27,23097.92,23530.75,23218.05,24016.31,25267.46,27046.21,26965.15,26670.9,28142.41,28882.01,29289.52,30759.93,33468.16,31856.17,32274.55,34907.6,38071.51,39811.64,40399.01,39730.88,34280.36,34842.9,34676.48,38511.56,37473.24,36845.87,35653.81,36048.22,36860.7,35155.45,32953.42,31861.93,32354.09,32226.34,33351.57,31997.18,31147.48,31793.19,35054.1,34054.75,33449.89,33706.72,34713.21,36572.6,37541.28,37630.93,39814.74,38714.43,41195.89,46685.85,45801.33,46275.12,47605.61,47276.9,48599.04,47864.52,48847.63,50915.2,51896.39,53087.16,56273.8,57042.55,54711.73,48970.21,49801.36,49988.48,46661.63,47135.69,44824.24,47643.89,48621.25,50429.82,49402.11,47719.1,48374.97,50215.94,50799.02,53981.03,55375.18,56273.03,56828.66,58798.11,60460.52,57515.89,55343.7,56160.99,58476.0,58286.28,58783.08,57317.03,56790.53,54706.29,55135.1,52126.32,53242.8,55194.45,55835.61,56912.0,58348.52,58706.94,58876.12,59271.63,58936.22,57728.2,58094.26,58461.54,56974.51,57182.02,58210.63,59859.5,59778.56,60092.36,62176.81,63482.73,62920.64,61760.36,61335.29,56068.4,56410.94,55534.36,55449.39,53802.6,49871.45,50074.77,49651.23,53038.97,54603.75,54799.27,53891.26,55302.25,57811.41,56869.05,57929.92,55297.22,55908.98,56979.21,56833.06,58553.59,57996.01,57761.36,55877.29,55927.41,49844.22,50196.89,48854.05,47717.12,44303.29,44192.46,39080.62,39861.24,39109.15,37506.13,35045.83,37022.85,38081.66,39264.04,38812.19,36610.28,35257.59,35488.65,36164.13,36580.39,37283.39,38535.24,37095.93,36592.73,35965.82,35889.21,32886.99,34877.08,37008.5,37005.9,35725.57,36392.76,39678.89,40220.13,39419.79,38607.79,36994.12,35757.56,35064.36,33136.59,32005.58,33755.35,33751.35,33371.82,31487.11,33055.86,34475.56,35561.85,34930.06,33727.86,33293.88,34310.35,35284.79,34102.25,34161.55,34562.72,32900.71,33177.99,33710.92,33802.76,33697.05,32852.17,32489.65,32099.67,31754.21,31562.07,31772.81,31178.38,29834.73,31195.31,32137.78,32492.65,33879.63,34393.28,38322.52,37696.89,39876.15,39867.32,39640.17,41645.59,41484.26,39602.96,38456.44,38709.84,39432.45,41366.99,43573.95,44358.47,44908.67,45603.51,46094.02,44933.78,46216.58,47124.9,46446.65,46927.41,45969.69,45147.9,45219.73,47780.73,49053.11,48908.36,49893.54,48914.39,48268.9,47352.55,47748.19,48906.95,48670.75,48090.94,47310.03,47690.74,49670.09,49912.85,50082.7,50367.74,51793.07,49971.92,46303.07,46427.55,45927.53,45379.01,45645.83,44808.91,46057.29,47592.41,47903.21,47584.03,48243.89,47735.28,44628.28,42444.23,42578.03,44104.44,43136.31,42600.15,42805.92,43528.74,41937.49,41828.44,43268.6,46070.14,47849.81,48032.07,48167.35,50085.13,52929.97,54366.67,54463.79,54748.58,55168.94,56717.45,56629.95,56053.12,57647.08,59888.05,61280.15,60847.77,61799.46,62739.63,64964.9,64330.76,62182.19,61093.02,60713.72,62613.93,62308.09,59512.59,60255.64,61583.59,61623.92,61115.5,61292.56,62552.25,62860.45,61859.3,61533.86,60993.14,62140.61,65805.35,67534.72,66869.56,64933.31,64187.58,64052.61,64482.45,65105.42,60811.51,59890.78,59014.8,57232.41,58718.63,59171.78,57376.63,56924.88,56763.5,58281.25,55685.06,54689.72,54631.74,57615.21,57367.25,57408.93,56709.38,55877.45,49043.73,49146.64,48857.98,51025.73,50328.21,49079.53,48255.11,48489.3,49597.16,48208.99,47211.29,48136.15,48596.55,47080.31,46637.99,47199.14,46434.97,48428.22,48995.09,49105.35,51064.81,50861.42,50176.88,51087.12,48869.49,47589.2,47108.0,47294.85,47126.78,47252.38,46825.45,46432.69,45878.82,43096.45,41998.07,41715.23,41911.87,41618.74,42215.62,43207.99,43439.19,42767.77,43152.32,43115.59,42552.88,41946.5,41922.14,42217.51,38663.83,35508.56,35439.54,35107.45,36521.4,37517.42,36368.86,37063.7,37841.96,37969.31,37576.22,38580.98,38059.68,36822.65,38686.08,41543.9,41624.69,43133.28,43886.72,43960.42,44356.62,43193.14,42348.58,42355.91,42248.04,43906.4,44016.82,42656.93,40421.78,40084.74,38762.17,38506.08,37424.3,38232.23,36140.67,38840.62,39235.27,38718.65,39420.51,43266.24],\"type\":\"scatter\"},{\"mode\":\"lines\",\"name\":\"High\",\"x\":[\"2017-01-01\",\"2017-01-02\",\"2017-01-03\",\"2017-01-04\",\"2017-01-05\",\"2017-01-06\",\"2017-01-07\",\"2017-01-08\",\"2017-01-09\",\"2017-01-10\",\"2017-01-11\",\"2017-01-12\",\"2017-01-13\",\"2017-01-14\",\"2017-01-15\",\"2017-01-16\",\"2017-01-17\",\"2017-01-18\",\"2017-01-19\",\"2017-01-20\",\"2017-01-21\",\"2017-01-22\",\"2017-01-23\",\"2017-01-24\",\"2017-01-25\",\"2017-01-26\",\"2017-01-27\",\"2017-01-28\",\"2017-01-29\",\"2017-01-30\",\"2017-01-31\",\"2017-02-01\",\"2017-02-02\",\"2017-02-03\",\"2017-02-04\",\"2017-02-05\",\"2017-02-06\",\"2017-02-07\",\"2017-02-08\",\"2017-02-09\",\"2017-02-10\",\"2017-02-11\",\"2017-02-12\",\"2017-02-13\",\"2017-02-14\",\"2017-02-15\",\"2017-02-16\",\"2017-02-17\",\"2017-02-18\",\"2017-02-19\",\"2017-02-20\",\"2017-02-21\",\"2017-02-22\",\"2017-02-23\",\"2017-02-24\",\"2017-02-25\",\"2017-02-26\",\"2017-02-27\",\"2017-02-28\",\"2017-03-01\",\"2017-03-02\",\"2017-03-03\",\"2017-03-04\",\"2017-03-05\",\"2017-03-06\",\"2017-03-07\",\"2017-03-08\",\"2017-03-09\",\"2017-03-10\",\"2017-03-11\",\"2017-03-12\",\"2017-03-13\",\"2017-03-14\",\"2017-03-15\",\"2017-03-16\",\"2017-03-17\",\"2017-03-18\",\"2017-03-19\",\"2017-03-20\",\"2017-03-21\",\"2017-03-22\",\"2017-03-23\",\"2017-03-24\",\"2017-03-25\",\"2017-03-26\",\"2017-03-27\",\"2017-03-28\",\"2017-03-29\",\"2017-03-30\",\"2017-03-31\",\"2017-04-01\",\"2017-04-02\",\"2017-04-03\",\"2017-04-04\",\"2017-04-05\",\"2017-04-06\",\"2017-04-07\",\"2017-04-08\",\"2017-04-09\",\"2017-04-10\",\"2017-04-11\",\"2017-04-12\",\"2017-04-13\",\"2017-04-14\",\"2017-04-15\",\"2017-04-16\",\"2017-04-17\",\"2017-04-18\",\"2017-04-19\",\"2017-04-20\",\"2017-04-21\",\"2017-04-22\",\"2017-04-23\",\"2017-04-24\",\"2017-04-25\",\"2017-04-26\",\"2017-04-27\",\"2017-04-28\",\"2017-04-29\",\"2017-04-30\",\"2017-05-01\",\"2017-05-02\",\"2017-05-03\",\"2017-05-04\",\"2017-05-05\",\"2017-05-06\",\"2017-05-07\",\"2017-05-08\",\"2017-05-09\",\"2017-05-10\",\"2017-05-11\",\"2017-05-12\",\"2017-05-13\",\"2017-05-14\",\"2017-05-15\",\"2017-05-16\",\"2017-05-17\",\"2017-05-18\",\"2017-05-19\",\"2017-05-20\",\"2017-05-21\",\"2017-05-22\",\"2017-05-23\",\"2017-05-24\",\"2017-05-25\",\"2017-05-26\",\"2017-05-27\",\"2017-05-28\",\"2017-05-29\",\"2017-05-30\",\"2017-05-31\",\"2017-06-01\",\"2017-06-02\",\"2017-06-03\",\"2017-06-04\",\"2017-06-05\",\"2017-06-06\",\"2017-06-07\",\"2017-06-08\",\"2017-06-09\",\"2017-06-10\",\"2017-06-11\",\"2017-06-12\",\"2017-06-13\",\"2017-06-14\",\"2017-06-15\",\"2017-06-16\",\"2017-06-17\",\"2017-06-18\",\"2017-06-19\",\"2017-06-20\",\"2017-06-21\",\"2017-06-22\",\"2017-06-23\",\"2017-06-24\",\"2017-06-25\",\"2017-06-26\",\"2017-06-27\",\"2017-06-28\",\"2017-06-29\",\"2017-06-30\",\"2017-07-01\",\"2017-07-02\",\"2017-07-03\",\"2017-07-04\",\"2017-07-05\",\"2017-07-06\",\"2017-07-07\",\"2017-07-08\",\"2017-07-09\",\"2017-07-10\",\"2017-07-11\",\"2017-07-12\",\"2017-07-13\",\"2017-07-14\",\"2017-07-15\",\"2017-07-16\",\"2017-07-17\",\"2017-07-18\",\"2017-07-19\",\"2017-07-20\",\"2017-07-21\",\"2017-07-22\",\"2017-07-23\",\"2017-07-24\",\"2017-07-25\",\"2017-07-26\",\"2017-07-27\",\"2017-07-28\",\"2017-07-29\",\"2017-07-30\",\"2017-07-31\",\"2017-08-01\",\"2017-08-02\",\"2017-08-03\",\"2017-08-04\",\"2017-08-05\",\"2017-08-06\",\"2017-08-07\",\"2017-08-08\",\"2017-08-09\",\"2017-08-10\",\"2017-08-11\",\"2017-08-12\",\"2017-08-13\",\"2017-08-14\",\"2017-08-15\",\"2017-08-16\",\"2017-08-17\",\"2017-08-18\",\"2017-08-19\",\"2017-08-20\",\"2017-08-21\",\"2017-08-22\",\"2017-08-23\",\"2017-08-24\",\"2017-08-25\",\"2017-08-26\",\"2017-08-27\",\"2017-08-28\",\"2017-08-29\",\"2017-08-30\",\"2017-08-31\",\"2017-09-01\",\"2017-09-02\",\"2017-09-03\",\"2017-09-04\",\"2017-09-05\",\"2017-09-06\",\"2017-09-07\",\"2017-09-08\",\"2017-09-09\",\"2017-09-10\",\"2017-09-11\",\"2017-09-12\",\"2017-09-13\",\"2017-09-14\",\"2017-09-15\",\"2017-09-16\",\"2017-09-17\",\"2017-09-18\",\"2017-09-19\",\"2017-09-20\",\"2017-09-21\",\"2017-09-22\",\"2017-09-23\",\"2017-09-24\",\"2017-09-25\",\"2017-09-26\",\"2017-09-27\",\"2017-09-28\",\"2017-09-29\",\"2017-09-30\",\"2017-10-01\",\"2017-10-02\",\"2017-10-03\",\"2017-10-04\",\"2017-10-05\",\"2017-10-06\",\"2017-10-07\",\"2017-10-08\",\"2017-10-09\",\"2017-10-10\",\"2017-10-11\",\"2017-10-12\",\"2017-10-13\",\"2017-10-14\",\"2017-10-15\",\"2017-10-16\",\"2017-10-17\",\"2017-10-18\",\"2017-10-19\",\"2017-10-20\",\"2017-10-21\",\"2017-10-22\",\"2017-10-23\",\"2017-10-24\",\"2017-10-25\",\"2017-10-26\",\"2017-10-27\",\"2017-10-28\",\"2017-10-29\",\"2017-10-30\",\"2017-10-31\",\"2017-11-01\",\"2017-11-02\",\"2017-11-03\",\"2017-11-04\",\"2017-11-05\",\"2017-11-06\",\"2017-11-07\",\"2017-11-08\",\"2017-11-09\",\"2017-11-10\",\"2017-11-11\",\"2017-11-12\",\"2017-11-13\",\"2017-11-14\",\"2017-11-15\",\"2017-11-16\",\"2017-11-17\",\"2017-11-18\",\"2017-11-19\",\"2017-11-20\",\"2017-11-21\",\"2017-11-22\",\"2017-11-23\",\"2017-11-24\",\"2017-11-25\",\"2017-11-26\",\"2017-11-27\",\"2017-11-28\",\"2017-11-29\",\"2017-11-30\",\"2017-12-01\",\"2017-12-02\",\"2017-12-03\",\"2017-12-04\",\"2017-12-05\",\"2017-12-06\",\"2017-12-07\",\"2017-12-08\",\"2017-12-09\",\"2017-12-10\",\"2017-12-11\",\"2017-12-12\",\"2017-12-13\",\"2017-12-14\",\"2017-12-15\",\"2017-12-16\",\"2017-12-17\",\"2017-12-18\",\"2017-12-19\",\"2017-12-20\",\"2017-12-21\",\"2017-12-22\",\"2017-12-23\",\"2017-12-24\",\"2017-12-25\",\"2017-12-26\",\"2017-12-27\",\"2017-12-28\",\"2017-12-29\",\"2017-12-30\",\"2017-12-31\",\"2018-01-01\",\"2018-01-02\",\"2018-01-03\",\"2018-01-04\",\"2018-01-05\",\"2018-01-06\",\"2018-01-07\",\"2018-01-08\",\"2018-01-09\",\"2018-01-10\",\"2018-01-11\",\"2018-01-12\",\"2018-01-13\",\"2018-01-14\",\"2018-01-15\",\"2018-01-16\",\"2018-01-17\",\"2018-01-18\",\"2018-01-19\",\"2018-01-20\",\"2018-01-21\",\"2018-01-22\",\"2018-01-23\",\"2018-01-24\",\"2018-01-25\",\"2018-01-26\",\"2018-01-27\",\"2018-01-28\",\"2018-01-29\",\"2018-01-30\",\"2018-01-31\",\"2018-02-01\",\"2018-02-02\",\"2018-02-03\",\"2018-02-04\",\"2018-02-05\",\"2018-02-06\",\"2018-02-07\",\"2018-02-08\",\"2018-02-09\",\"2018-02-10\",\"2018-02-11\",\"2018-02-12\",\"2018-02-13\",\"2018-02-14\",\"2018-02-15\",\"2018-02-16\",\"2018-02-17\",\"2018-02-18\",\"2018-02-19\",\"2018-02-20\",\"2018-02-21\",\"2018-02-22\",\"2018-02-23\",\"2018-02-24\",\"2018-02-25\",\"2018-02-26\",\"2018-02-27\",\"2018-02-28\",\"2018-03-01\",\"2018-03-02\",\"2018-03-03\",\"2018-03-04\",\"2018-03-05\",\"2018-03-06\",\"2018-03-07\",\"2018-03-08\",\"2018-03-09\",\"2018-03-10\",\"2018-03-11\",\"2018-03-12\",\"2018-03-13\",\"2018-03-14\",\"2018-03-15\",\"2018-03-16\",\"2018-03-17\",\"2018-03-18\",\"2018-03-19\",\"2018-03-20\",\"2018-03-21\",\"2018-03-22\",\"2018-03-23\",\"2018-03-24\",\"2018-03-25\",\"2018-03-26\",\"2018-03-27\",\"2018-03-28\",\"2018-03-29\",\"2018-03-30\",\"2018-03-31\",\"2018-04-01\",\"2018-04-02\",\"2018-04-03\",\"2018-04-04\",\"2018-04-05\",\"2018-04-06\",\"2018-04-07\",\"2018-04-08\",\"2018-04-09\",\"2018-04-10\",\"2018-04-11\",\"2018-04-12\",\"2018-04-13\",\"2018-04-14\",\"2018-04-15\",\"2018-04-16\",\"2018-04-17\",\"2018-04-18\",\"2018-04-19\",\"2018-04-20\",\"2018-04-21\",\"2018-04-22\",\"2018-04-23\",\"2018-04-24\",\"2018-04-25\",\"2018-04-26\",\"2018-04-27\",\"2018-04-28\",\"2018-04-29\",\"2018-04-30\",\"2018-05-01\",\"2018-05-02\",\"2018-05-03\",\"2018-05-04\",\"2018-05-05\",\"2018-05-06\",\"2018-05-07\",\"2018-05-08\",\"2018-05-09\",\"2018-05-10\",\"2018-05-11\",\"2018-05-12\",\"2018-05-13\",\"2018-05-14\",\"2018-05-15\",\"2018-05-16\",\"2018-05-17\",\"2018-05-18\",\"2018-05-19\",\"2018-05-20\",\"2018-05-21\",\"2018-05-22\",\"2018-05-23\",\"2018-05-24\",\"2018-05-25\",\"2018-05-26\",\"2018-05-27\",\"2018-05-28\",\"2018-05-29\",\"2018-05-30\",\"2018-05-31\",\"2018-06-01\",\"2018-06-02\",\"2018-06-03\",\"2018-06-04\",\"2018-06-05\",\"2018-06-06\",\"2018-06-07\",\"2018-06-08\",\"2018-06-09\",\"2018-06-10\",\"2018-06-11\",\"2018-06-12\",\"2018-06-13\",\"2018-06-14\",\"2018-06-15\",\"2018-06-16\",\"2018-06-17\",\"2018-06-18\",\"2018-06-19\",\"2018-06-20\",\"2018-06-21\",\"2018-06-22\",\"2018-06-23\",\"2018-06-24\",\"2018-06-25\",\"2018-06-26\",\"2018-06-27\",\"2018-06-28\",\"2018-06-29\",\"2018-06-30\",\"2018-07-01\",\"2018-07-02\",\"2018-07-03\",\"2018-07-04\",\"2018-07-05\",\"2018-07-06\",\"2018-07-07\",\"2018-07-08\",\"2018-07-09\",\"2018-07-10\",\"2018-07-11\",\"2018-07-12\",\"2018-07-13\",\"2018-07-14\",\"2018-07-15\",\"2018-07-16\",\"2018-07-17\",\"2018-07-18\",\"2018-07-19\",\"2018-07-20\",\"2018-07-21\",\"2018-07-22\",\"2018-07-23\",\"2018-07-24\",\"2018-07-25\",\"2018-07-26\",\"2018-07-27\",\"2018-07-28\",\"2018-07-29\",\"2018-07-30\",\"2018-07-31\",\"2018-08-01\",\"2018-08-02\",\"2018-08-03\",\"2018-08-04\",\"2018-08-05\",\"2018-08-06\",\"2018-08-07\",\"2018-08-08\",\"2018-08-09\",\"2018-08-10\",\"2018-08-11\",\"2018-08-12\",\"2018-08-13\",\"2018-08-14\",\"2018-08-15\",\"2018-08-16\",\"2018-08-17\",\"2018-08-18\",\"2018-08-19\",\"2018-08-20\",\"2018-08-21\",\"2018-08-22\",\"2018-08-23\",\"2018-08-24\",\"2018-08-25\",\"2018-08-26\",\"2018-08-27\",\"2018-08-28\",\"2018-08-29\",\"2018-08-30\",\"2018-08-31\",\"2018-09-01\",\"2018-09-02\",\"2018-09-03\",\"2018-09-04\",\"2018-09-05\",\"2018-09-06\",\"2018-09-07\",\"2018-09-08\",\"2018-09-09\",\"2018-09-10\",\"2018-09-11\",\"2018-09-12\",\"2018-09-13\",\"2018-09-14\",\"2018-09-15\",\"2018-09-16\",\"2018-09-17\",\"2018-09-18\",\"2018-09-19\",\"2018-09-20\",\"2018-09-21\",\"2018-09-22\",\"2018-09-23\",\"2018-09-24\",\"2018-09-25\",\"2018-09-26\",\"2018-09-27\",\"2018-09-28\",\"2018-09-29\",\"2018-09-30\",\"2018-10-01\",\"2018-10-02\",\"2018-10-03\",\"2018-10-04\",\"2018-10-05\",\"2018-10-06\",\"2018-10-07\",\"2018-10-08\",\"2018-10-09\",\"2018-10-10\",\"2018-10-11\",\"2018-10-12\",\"2018-10-13\",\"2018-10-14\",\"2018-10-15\",\"2018-10-16\",\"2018-10-17\",\"2018-10-18\",\"2018-10-19\",\"2018-10-20\",\"2018-10-21\",\"2018-10-22\",\"2018-10-23\",\"2018-10-24\",\"2018-10-25\",\"2018-10-26\",\"2018-10-27\",\"2018-10-28\",\"2018-10-29\",\"2018-10-30\",\"2018-10-31\",\"2018-11-01\",\"2018-11-02\",\"2018-11-03\",\"2018-11-04\",\"2018-11-05\",\"2018-11-06\",\"2018-11-07\",\"2018-11-08\",\"2018-11-09\",\"2018-11-10\",\"2018-11-11\",\"2018-11-12\",\"2018-11-13\",\"2018-11-14\",\"2018-11-15\",\"2018-11-16\",\"2018-11-17\",\"2018-11-18\",\"2018-11-19\",\"2018-11-20\",\"2018-11-21\",\"2018-11-22\",\"2018-11-23\",\"2018-11-24\",\"2018-11-25\",\"2018-11-26\",\"2018-11-27\",\"2018-11-28\",\"2018-11-29\",\"2018-11-30\",\"2018-12-01\",\"2018-12-02\",\"2018-12-03\",\"2018-12-04\",\"2018-12-05\",\"2018-12-06\",\"2018-12-07\",\"2018-12-08\",\"2018-12-09\",\"2018-12-10\",\"2018-12-11\",\"2018-12-12\",\"2018-12-13\",\"2018-12-14\",\"2018-12-15\",\"2018-12-16\",\"2018-12-17\",\"2018-12-18\",\"2018-12-19\",\"2018-12-20\",\"2018-12-21\",\"2018-12-22\",\"2018-12-23\",\"2018-12-24\",\"2018-12-25\",\"2018-12-26\",\"2018-12-27\",\"2018-12-28\",\"2018-12-29\",\"2018-12-30\",\"2018-12-31\",\"2019-01-01\",\"2019-01-02\",\"2019-01-03\",\"2019-01-04\",\"2019-01-05\",\"2019-01-06\",\"2019-01-07\",\"2019-01-08\",\"2019-01-09\",\"2019-01-10\",\"2019-01-11\",\"2019-01-12\",\"2019-01-13\",\"2019-01-14\",\"2019-01-15\",\"2019-01-16\",\"2019-01-17\",\"2019-01-18\",\"2019-01-19\",\"2019-01-20\",\"2019-01-21\",\"2019-01-22\",\"2019-01-23\",\"2019-01-24\",\"2019-01-25\",\"2019-01-26\",\"2019-01-27\",\"2019-01-28\",\"2019-01-29\",\"2019-01-30\",\"2019-01-31\",\"2019-02-01\",\"2019-02-02\",\"2019-02-03\",\"2019-02-04\",\"2019-02-05\",\"2019-02-06\",\"2019-02-07\",\"2019-02-08\",\"2019-02-09\",\"2019-02-10\",\"2019-02-11\",\"2019-02-12\",\"2019-02-13\",\"2019-02-14\",\"2019-02-15\",\"2019-02-16\",\"2019-02-17\",\"2019-02-18\",\"2019-02-19\",\"2019-02-20\",\"2019-02-21\",\"2019-02-22\",\"2019-02-23\",\"2019-02-24\",\"2019-02-25\",\"2019-02-26\",\"2019-02-27\",\"2019-02-28\",\"2019-03-01\",\"2019-03-02\",\"2019-03-03\",\"2019-03-04\",\"2019-03-05\",\"2019-03-06\",\"2019-03-07\",\"2019-03-08\",\"2019-03-09\",\"2019-03-10\",\"2019-03-11\",\"2019-03-12\",\"2019-03-13\",\"2019-03-14\",\"2019-03-15\",\"2019-03-16\",\"2019-03-17\",\"2019-03-18\",\"2019-03-19\",\"2019-03-20\",\"2019-03-21\",\"2019-03-22\",\"2019-03-23\",\"2019-03-24\",\"2019-03-25\",\"2019-03-26\",\"2019-03-27\",\"2019-03-28\",\"2019-03-29\",\"2019-03-30\",\"2019-03-31\",\"2019-04-01\",\"2019-04-02\",\"2019-04-03\",\"2019-04-04\",\"2019-04-05\",\"2019-04-06\",\"2019-04-07\",\"2019-04-08\",\"2019-04-09\",\"2019-04-10\",\"2019-04-11\",\"2019-04-12\",\"2019-04-13\",\"2019-04-14\",\"2019-04-15\",\"2019-04-16\",\"2019-04-17\",\"2019-04-18\",\"2019-04-19\",\"2019-04-20\",\"2019-04-21\",\"2019-04-22\",\"2019-04-23\",\"2019-04-24\",\"2019-04-25\",\"2019-04-26\",\"2019-04-27\",\"2019-04-28\",\"2019-04-29\",\"2019-04-30\",\"2019-05-01\",\"2019-05-02\",\"2019-05-03\",\"2019-05-04\",\"2019-05-05\",\"2019-05-06\",\"2019-05-07\",\"2019-05-08\",\"2019-05-09\",\"2019-05-10\",\"2019-05-11\",\"2019-05-12\",\"2019-05-13\",\"2019-05-14\",\"2019-05-15\",\"2019-05-16\",\"2019-05-17\",\"2019-05-18\",\"2019-05-19\",\"2019-05-20\",\"2019-05-21\",\"2019-05-22\",\"2019-05-23\",\"2019-05-24\",\"2019-05-25\",\"2019-05-26\",\"2019-05-27\",\"2019-05-28\",\"2019-05-29\",\"2019-05-30\",\"2019-05-31\",\"2019-06-01\",\"2019-06-02\",\"2019-06-03\",\"2019-06-04\",\"2019-06-05\",\"2019-06-06\",\"2019-06-07\",\"2019-06-08\",\"2019-06-09\",\"2019-06-10\",\"2019-06-11\",\"2019-06-12\",\"2019-06-13\",\"2019-06-14\",\"2019-06-15\",\"2019-06-16\",\"2019-06-17\",\"2019-06-18\",\"2019-06-19\",\"2019-06-20\",\"2019-06-21\",\"2019-06-22\",\"2019-06-23\",\"2019-06-24\",\"2019-06-25\",\"2019-06-26\",\"2019-06-27\",\"2019-06-28\",\"2019-06-29\",\"2019-06-30\",\"2019-07-01\",\"2019-07-02\",\"2019-07-03\",\"2019-07-04\",\"2019-07-05\",\"2019-07-06\",\"2019-07-07\",\"2019-07-08\",\"2019-07-09\",\"2019-07-10\",\"2019-07-11\",\"2019-07-12\",\"2019-07-13\",\"2019-07-14\",\"2019-07-15\",\"2019-07-16\",\"2019-07-17\",\"2019-07-18\",\"2019-07-19\",\"2019-07-20\",\"2019-07-21\",\"2019-07-22\",\"2019-07-23\",\"2019-07-24\",\"2019-07-25\",\"2019-07-26\",\"2019-07-27\",\"2019-07-28\",\"2019-07-29\",\"2019-07-30\",\"2019-07-31\",\"2019-08-01\",\"2019-08-02\",\"2019-08-03\",\"2019-08-04\",\"2019-08-05\",\"2019-08-06\",\"2019-08-07\",\"2019-08-08\",\"2019-08-09\",\"2019-08-10\",\"2019-08-11\",\"2019-08-12\",\"2019-08-13\",\"2019-08-14\",\"2019-08-15\",\"2019-08-16\",\"2019-08-17\",\"2019-08-18\",\"2019-08-19\",\"2019-08-20\",\"2019-08-21\",\"2019-08-22\",\"2019-08-23\",\"2019-08-24\",\"2019-08-25\",\"2019-08-26\",\"2019-08-27\",\"2019-08-28\",\"2019-08-29\",\"2019-08-30\",\"2019-08-31\",\"2019-09-01\",\"2019-09-02\",\"2019-09-03\",\"2019-09-04\",\"2019-09-05\",\"2019-09-06\",\"2019-09-07\",\"2019-09-08\",\"2019-09-09\",\"2019-09-10\",\"2019-09-11\",\"2019-09-12\",\"2019-09-13\",\"2019-09-14\",\"2019-09-15\",\"2019-09-16\",\"2019-09-17\",\"2019-09-18\",\"2019-09-19\",\"2019-09-20\",\"2019-09-21\",\"2019-09-22\",\"2019-09-23\",\"2019-09-24\",\"2019-09-25\",\"2019-09-26\",\"2019-09-27\",\"2019-09-28\",\"2019-09-29\",\"2019-09-30\",\"2019-10-01\",\"2019-10-02\",\"2019-10-03\",\"2019-10-04\",\"2019-10-05\",\"2019-10-06\",\"2019-10-07\",\"2019-10-08\",\"2019-10-09\",\"2019-10-10\",\"2019-10-11\",\"2019-10-12\",\"2019-10-13\",\"2019-10-14\",\"2019-10-15\",\"2019-10-16\",\"2019-10-17\",\"2019-10-18\",\"2019-10-19\",\"2019-10-20\",\"2019-10-21\",\"2019-10-22\",\"2019-10-23\",\"2019-10-24\",\"2019-10-25\",\"2019-10-26\",\"2019-10-27\",\"2019-10-28\",\"2019-10-29\",\"2019-10-30\",\"2019-10-31\",\"2019-11-01\",\"2019-11-02\",\"2019-11-03\",\"2019-11-04\",\"2019-11-05\",\"2019-11-06\",\"2019-11-07\",\"2019-11-08\",\"2019-11-09\",\"2019-11-10\",\"2019-11-11\",\"2019-11-12\",\"2019-11-13\",\"2019-11-14\",\"2019-11-15\",\"2019-11-16\",\"2019-11-17\",\"2019-11-18\",\"2019-11-19\",\"2019-11-20\",\"2019-11-21\",\"2019-11-22\",\"2019-11-23\",\"2019-11-24\",\"2019-11-25\",\"2019-11-26\",\"2019-11-27\",\"2019-11-28\",\"2019-11-29\",\"2019-11-30\",\"2019-12-01\",\"2019-12-02\",\"2019-12-03\",\"2019-12-04\",\"2019-12-05\",\"2019-12-06\",\"2019-12-07\",\"2019-12-08\",\"2019-12-09\",\"2019-12-10\",\"2019-12-11\",\"2019-12-12\",\"2019-12-13\",\"2019-12-14\",\"2019-12-15\",\"2019-12-16\",\"2019-12-17\",\"2019-12-18\",\"2019-12-19\",\"2019-12-20\",\"2019-12-21\",\"2019-12-22\",\"2019-12-23\",\"2019-12-24\",\"2019-12-25\",\"2019-12-26\",\"2019-12-27\",\"2019-12-28\",\"2019-12-29\",\"2019-12-30\",\"2019-12-31\",\"2020-01-01\",\"2020-01-02\",\"2020-01-03\",\"2020-01-04\",\"2020-01-05\",\"2020-01-06\",\"2020-01-07\",\"2020-01-08\",\"2020-01-09\",\"2020-01-10\",\"2020-01-11\",\"2020-01-12\",\"2020-01-13\",\"2020-01-14\",\"2020-01-15\",\"2020-01-16\",\"2020-01-17\",\"2020-01-18\",\"2020-01-19\",\"2020-01-20\",\"2020-01-21\",\"2020-01-22\",\"2020-01-23\",\"2020-01-24\",\"2020-01-25\",\"2020-01-26\",\"2020-01-27\",\"2020-01-28\",\"2020-01-29\",\"2020-01-30\",\"2020-01-31\",\"2020-02-01\",\"2020-02-02\",\"2020-02-03\",\"2020-02-04\",\"2020-02-05\",\"2020-02-06\",\"2020-02-07\",\"2020-02-08\",\"2020-02-09\",\"2020-02-10\",\"2020-02-11\",\"2020-02-12\",\"2020-02-13\",\"2020-02-14\",\"2020-02-15\",\"2020-02-16\",\"2020-02-17\",\"2020-02-18\",\"2020-02-19\",\"2020-02-20\",\"2020-02-21\",\"2020-02-22\",\"2020-02-23\",\"2020-02-24\",\"2020-02-25\",\"2020-02-26\",\"2020-02-27\",\"2020-02-28\",\"2020-02-29\",\"2020-03-01\",\"2020-03-02\",\"2020-03-03\",\"2020-03-04\",\"2020-03-05\",\"2020-03-06\",\"2020-03-07\",\"2020-03-08\",\"2020-03-09\",\"2020-03-10\",\"2020-03-11\",\"2020-03-12\",\"2020-03-13\",\"2020-03-14\",\"2020-03-15\",\"2020-03-16\",\"2020-03-17\",\"2020-03-18\",\"2020-03-19\",\"2020-03-20\",\"2020-03-21\",\"2020-03-22\",\"2020-03-23\",\"2020-03-24\",\"2020-03-25\",\"2020-03-26\",\"2020-03-27\",\"2020-03-28\",\"2020-03-29\",\"2020-03-30\",\"2020-03-31\",\"2020-04-01\",\"2020-04-02\",\"2020-04-03\",\"2020-04-04\",\"2020-04-05\",\"2020-04-06\",\"2020-04-07\",\"2020-04-08\",\"2020-04-09\",\"2020-04-10\",\"2020-04-11\",\"2020-04-12\",\"2020-04-13\",\"2020-04-14\",\"2020-04-15\",\"2020-04-16\",\"2020-04-17\",\"2020-04-18\",\"2020-04-19\",\"2020-04-20\",\"2020-04-21\",\"2020-04-22\",\"2020-04-23\",\"2020-04-24\",\"2020-04-25\",\"2020-04-26\",\"2020-04-27\",\"2020-04-28\",\"2020-04-29\",\"2020-04-30\",\"2020-05-01\",\"2020-05-02\",\"2020-05-03\",\"2020-05-04\",\"2020-05-05\",\"2020-05-06\",\"2020-05-07\",\"2020-05-08\",\"2020-05-09\",\"2020-05-10\",\"2020-05-11\",\"2020-05-12\",\"2020-05-13\",\"2020-05-14\",\"2020-05-15\",\"2020-05-16\",\"2020-05-17\",\"2020-05-18\",\"2020-05-19\",\"2020-05-20\",\"2020-05-21\",\"2020-05-22\",\"2020-05-23\",\"2020-05-24\",\"2020-05-25\",\"2020-05-26\",\"2020-05-27\",\"2020-05-28\",\"2020-05-29\",\"2020-05-30\",\"2020-05-31\",\"2020-06-01\",\"2020-06-02\",\"2020-06-03\",\"2020-06-04\",\"2020-06-05\",\"2020-06-06\",\"2020-06-07\",\"2020-06-08\",\"2020-06-09\",\"2020-06-10\",\"2020-06-11\",\"2020-06-12\",\"2020-06-13\",\"2020-06-14\",\"2020-06-15\",\"2020-06-16\",\"2020-06-17\",\"2020-06-18\",\"2020-06-19\",\"2020-06-20\",\"2020-06-21\",\"2020-06-22\",\"2020-06-23\",\"2020-06-24\",\"2020-06-25\",\"2020-06-26\",\"2020-06-27\",\"2020-06-28\",\"2020-06-29\",\"2020-06-30\",\"2020-07-01\",\"2020-07-02\",\"2020-07-03\",\"2020-07-04\",\"2020-07-05\",\"2020-07-06\",\"2020-07-07\",\"2020-07-08\",\"2020-07-09\",\"2020-07-10\",\"2020-07-11\",\"2020-07-12\",\"2020-07-13\",\"2020-07-14\",\"2020-07-15\",\"2020-07-16\",\"2020-07-17\",\"2020-07-18\",\"2020-07-19\",\"2020-07-20\",\"2020-07-21\",\"2020-07-22\",\"2020-07-23\",\"2020-07-24\",\"2020-07-25\",\"2020-07-26\",\"2020-07-27\",\"2020-07-28\",\"2020-07-29\",\"2020-07-30\",\"2020-07-31\",\"2020-08-01\",\"2020-08-02\",\"2020-08-03\",\"2020-08-04\",\"2020-08-05\",\"2020-08-06\",\"2020-08-07\",\"2020-08-08\",\"2020-08-09\",\"2020-08-10\",\"2020-08-11\",\"2020-08-12\",\"2020-08-13\",\"2020-08-14\",\"2020-08-15\",\"2020-08-16\",\"2020-08-17\",\"2020-08-18\",\"2020-08-19\",\"2020-08-20\",\"2020-08-21\",\"2020-08-22\",\"2020-08-23\",\"2020-08-24\",\"2020-08-25\",\"2020-08-26\",\"2020-08-27\",\"2020-08-28\",\"2020-08-29\",\"2020-08-30\",\"2020-08-31\",\"2020-09-01\",\"2020-09-02\",\"2020-09-03\",\"2020-09-04\",\"2020-09-05\",\"2020-09-06\",\"2020-09-07\",\"2020-09-08\",\"2020-09-09\",\"2020-09-10\",\"2020-09-11\",\"2020-09-12\",\"2020-09-13\",\"2020-09-14\",\"2020-09-15\",\"2020-09-16\",\"2020-09-17\",\"2020-09-18\",\"2020-09-19\",\"2020-09-20\",\"2020-09-21\",\"2020-09-22\",\"2020-09-23\",\"2020-09-24\",\"2020-09-25\",\"2020-09-26\",\"2020-09-27\",\"2020-09-28\",\"2020-09-29\",\"2020-09-30\",\"2020-10-01\",\"2020-10-02\",\"2020-10-03\",\"2020-10-04\",\"2020-10-05\",\"2020-10-06\",\"2020-10-07\",\"2020-10-08\",\"2020-10-09\",\"2020-10-10\",\"2020-10-11\",\"2020-10-12\",\"2020-10-13\",\"2020-10-14\",\"2020-10-15\",\"2020-10-16\",\"2020-10-17\",\"2020-10-18\",\"2020-10-19\",\"2020-10-20\",\"2020-10-21\",\"2020-10-22\",\"2020-10-23\",\"2020-10-24\",\"2020-10-25\",\"2020-10-26\",\"2020-10-27\",\"2020-10-28\",\"2020-10-29\",\"2020-10-30\",\"2020-10-31\",\"2020-11-01\",\"2020-11-02\",\"2020-11-03\",\"2020-11-04\",\"2020-11-05\",\"2020-11-06\",\"2020-11-07\",\"2020-11-08\",\"2020-11-09\",\"2020-11-10\",\"2020-11-11\",\"2020-11-12\",\"2020-11-13\",\"2020-11-14\",\"2020-11-15\",\"2020-11-16\",\"2020-11-17\",\"2020-11-18\",\"2020-11-19\",\"2020-11-20\",\"2020-11-21\",\"2020-11-22\",\"2020-11-23\",\"2020-12-20\",\"2020-12-21\",\"2020-12-22\",\"2020-12-23\",\"2020-12-24\",\"2020-12-25\",\"2020-12-26\",\"2020-12-27\",\"2020-12-28\",\"2020-12-29\",\"2020-12-30\",\"2020-12-31\",\"2021-01-01\",\"2021-01-02\",\"2021-01-03\",\"2021-01-04\",\"2021-01-05\",\"2021-01-06\",\"2021-01-07\",\"2021-01-08\",\"2021-01-09\",\"2021-01-10\",\"2021-01-11\",\"2021-01-12\",\"2021-01-13\",\"2021-01-14\",\"2021-01-15\",\"2021-01-16\",\"2021-01-17\",\"2021-01-18\",\"2021-01-19\",\"2021-01-20\",\"2021-01-21\",\"2021-01-22\",\"2021-01-23\",\"2021-01-24\",\"2021-01-25\",\"2021-01-26\",\"2021-01-27\",\"2021-01-28\",\"2021-01-29\",\"2021-01-30\",\"2021-01-31\",\"2021-02-01\",\"2021-02-02\",\"2021-02-03\",\"2021-02-04\",\"2021-02-05\",\"2021-02-06\",\"2021-02-07\",\"2021-02-08\",\"2021-02-09\",\"2021-02-10\",\"2021-02-11\",\"2021-02-12\",\"2021-02-13\",\"2021-02-14\",\"2021-02-15\",\"2021-02-16\",\"2021-02-17\",\"2021-02-18\",\"2021-02-19\",\"2021-02-20\",\"2021-02-21\",\"2021-02-22\",\"2021-02-23\",\"2021-02-24\",\"2021-02-25\",\"2021-02-26\",\"2021-02-27\",\"2021-02-28\",\"2021-03-01\",\"2021-03-02\",\"2021-03-03\",\"2021-03-04\",\"2021-03-05\",\"2021-03-06\",\"2021-03-07\",\"2021-03-08\",\"2021-03-09\",\"2021-03-10\",\"2021-03-11\",\"2021-03-12\",\"2021-03-13\",\"2021-03-14\",\"2021-03-15\",\"2021-03-16\",\"2021-03-17\",\"2021-03-18\",\"2021-03-19\",\"2021-03-20\",\"2021-03-21\",\"2021-03-22\",\"2021-03-23\",\"2021-03-24\",\"2021-03-25\",\"2021-03-26\",\"2021-03-27\",\"2021-03-28\",\"2021-03-29\",\"2021-03-30\",\"2021-03-31\",\"2021-04-01\",\"2021-04-02\",\"2021-04-03\",\"2021-04-04\",\"2021-04-05\",\"2021-04-06\",\"2021-04-07\",\"2021-04-08\",\"2021-04-09\",\"2021-04-10\",\"2021-04-11\",\"2021-04-12\",\"2021-04-13\",\"2021-04-14\",\"2021-04-15\",\"2021-04-16\",\"2021-04-17\",\"2021-04-18\",\"2021-04-19\",\"2021-04-20\",\"2021-04-21\",\"2021-04-22\",\"2021-04-23\",\"2021-04-24\",\"2021-04-25\",\"2021-04-26\",\"2021-04-27\",\"2021-04-28\",\"2021-04-29\",\"2021-04-30\",\"2021-05-01\",\"2021-05-02\",\"2021-05-03\",\"2021-05-04\",\"2021-05-05\",\"2021-05-06\",\"2021-05-07\",\"2021-05-08\",\"2021-05-09\",\"2021-05-10\",\"2021-05-11\",\"2021-05-12\",\"2021-05-13\",\"2021-05-14\",\"2021-05-15\",\"2021-05-16\",\"2021-05-17\",\"2021-05-18\",\"2021-05-19\",\"2021-05-20\",\"2021-05-21\",\"2021-05-22\",\"2021-05-23\",\"2021-05-24\",\"2021-05-25\",\"2021-05-26\",\"2021-05-27\",\"2021-05-28\",\"2021-05-29\",\"2021-05-30\",\"2021-05-31\",\"2021-06-01\",\"2021-06-02\",\"2021-06-03\",\"2021-06-04\",\"2021-06-05\",\"2021-06-06\",\"2021-06-07\",\"2021-06-08\",\"2021-06-09\",\"2021-06-10\",\"2021-06-11\",\"2021-06-12\",\"2021-06-13\",\"2021-06-14\",\"2021-06-15\",\"2021-06-16\",\"2021-06-17\",\"2021-06-18\",\"2021-06-19\",\"2021-06-20\",\"2021-06-21\",\"2021-06-22\",\"2021-06-23\",\"2021-06-24\",\"2021-06-25\",\"2021-06-26\",\"2021-06-27\",\"2021-06-28\",\"2021-06-29\",\"2021-06-30\",\"2021-07-01\",\"2021-07-02\",\"2021-07-03\",\"2021-07-04\",\"2021-07-05\",\"2021-07-06\",\"2021-07-07\",\"2021-07-08\",\"2021-07-09\",\"2021-07-10\",\"2021-07-11\",\"2021-07-12\",\"2021-07-13\",\"2021-07-14\",\"2021-07-15\",\"2021-07-16\",\"2021-07-17\",\"2021-07-18\",\"2021-07-19\",\"2021-07-20\",\"2021-07-21\",\"2021-07-22\",\"2021-07-23\",\"2021-07-24\",\"2021-07-25\",\"2021-07-26\",\"2021-07-27\",\"2021-07-28\",\"2021-07-29\",\"2021-07-30\",\"2021-07-31\",\"2021-08-01\",\"2021-08-02\",\"2021-08-03\",\"2021-08-04\",\"2021-08-05\",\"2021-08-06\",\"2021-08-07\",\"2021-08-08\",\"2021-08-09\",\"2021-08-10\",\"2021-08-11\",\"2021-08-12\",\"2021-08-13\",\"2021-08-14\",\"2021-08-15\",\"2021-08-16\",\"2021-08-17\",\"2021-08-18\",\"2021-08-19\",\"2021-08-20\",\"2021-08-21\",\"2021-08-22\",\"2021-08-23\",\"2021-08-24\",\"2021-08-25\",\"2021-08-26\",\"2021-08-27\",\"2021-08-28\",\"2021-08-29\",\"2021-08-30\",\"2021-08-31\",\"2021-09-01\",\"2021-09-02\",\"2021-09-03\",\"2021-09-04\",\"2021-09-05\",\"2021-09-06\",\"2021-09-07\",\"2021-09-08\",\"2021-09-09\",\"2021-09-10\",\"2021-09-11\",\"2021-09-12\",\"2021-09-13\",\"2021-09-14\",\"2021-09-15\",\"2021-09-16\",\"2021-09-17\",\"2021-09-18\",\"2021-09-19\",\"2021-09-20\",\"2021-09-21\",\"2021-09-22\",\"2021-09-23\",\"2021-09-24\",\"2021-09-25\",\"2021-09-26\",\"2021-09-27\",\"2021-09-28\",\"2021-09-29\",\"2021-09-30\",\"2021-10-01\",\"2021-10-02\",\"2021-10-03\",\"2021-10-04\",\"2021-10-05\",\"2021-10-06\",\"2021-10-07\",\"2021-10-08\",\"2021-10-09\",\"2021-10-10\",\"2021-10-11\",\"2021-10-12\",\"2021-10-13\",\"2021-10-14\",\"2021-10-15\",\"2021-10-16\",\"2021-10-17\",\"2021-10-18\",\"2021-10-19\",\"2021-10-20\",\"2021-10-21\",\"2021-10-22\",\"2021-10-23\",\"2021-10-24\",\"2021-10-25\",\"2021-10-26\",\"2021-10-27\",\"2021-10-28\",\"2021-10-29\",\"2021-10-30\",\"2021-10-31\",\"2021-11-01\",\"2021-11-02\",\"2021-11-03\",\"2021-11-04\",\"2021-11-05\",\"2021-11-06\",\"2021-11-07\",\"2021-11-08\",\"2021-11-09\",\"2021-11-10\",\"2021-11-11\",\"2021-11-12\",\"2021-11-13\",\"2021-11-14\",\"2021-11-15\",\"2021-11-16\",\"2021-11-17\",\"2021-11-18\",\"2021-11-19\",\"2021-11-20\",\"2021-11-21\",\"2021-11-22\",\"2021-11-23\",\"2021-11-24\",\"2021-11-25\",\"2021-11-26\",\"2021-11-27\",\"2021-11-28\",\"2021-11-29\",\"2021-11-30\",\"2021-12-01\",\"2021-12-02\",\"2021-12-03\",\"2021-12-04\",\"2021-12-05\",\"2021-12-06\",\"2021-12-07\",\"2021-12-08\",\"2021-12-09\",\"2021-12-10\",\"2021-12-11\",\"2021-12-12\",\"2021-12-13\",\"2021-12-14\",\"2021-12-15\",\"2021-12-16\",\"2021-12-17\",\"2021-12-18\",\"2021-12-19\",\"2021-12-20\",\"2021-12-21\",\"2021-12-22\",\"2021-12-23\",\"2021-12-24\",\"2021-12-25\",\"2021-12-26\",\"2021-12-27\",\"2021-12-28\",\"2021-12-29\",\"2021-12-30\",\"2021-12-31\",\"2022-01-01\",\"2022-01-02\",\"2022-01-03\",\"2022-01-04\",\"2022-01-05\",\"2022-01-06\",\"2022-01-07\",\"2022-01-08\",\"2022-01-09\",\"2022-01-10\",\"2022-01-11\",\"2022-01-12\",\"2022-01-13\",\"2022-01-14\",\"2022-01-15\",\"2022-01-16\",\"2022-01-17\",\"2022-01-18\",\"2022-01-19\",\"2022-01-20\",\"2022-01-21\",\"2022-01-22\",\"2022-01-23\",\"2022-01-24\",\"2022-01-25\",\"2022-01-26\",\"2022-01-27\",\"2022-01-28\",\"2022-01-29\",\"2022-01-30\",\"2022-01-31\",\"2022-02-01\",\"2022-02-02\",\"2022-02-03\",\"2022-02-04\",\"2022-02-05\",\"2022-02-06\",\"2022-02-07\",\"2022-02-08\",\"2022-02-09\",\"2022-02-10\",\"2022-02-11\",\"2022-02-12\",\"2022-02-13\",\"2022-02-14\",\"2022-02-15\",\"2022-02-16\",\"2022-02-17\",\"2022-02-18\",\"2022-02-19\",\"2022-02-20\",\"2022-02-21\",\"2022-02-22\",\"2022-02-23\",\"2022-02-24\",\"2022-02-25\",\"2022-02-26\",\"2022-02-27\",\"2022-02-28\",\"2022-03-01\"],\"y\":[977.39,1012.52,1020.23,1077.27,1044.91,935.42,870.7,914.64,893.86,902.86,847.31,783.54,807.67,827.57,817.3,828.11,876.64,885.7,893.59,895.7,917.8,922.9,920.33,907.42,894.62,905.91,917.27,918.35,916.83,917.08,940.62,971.03,992.93,1012.23,1017.95,1020.2,1021.03,1042.58,1054.04,1025.48,978.47,1007.85,1003.54,999.1,1006.37,1009.45,1026.99,1047.02,1061.69,1053.56,1057.52,1100.43,1123.1,1147.62,1186.11,1168.05,1164.9,1186.33,1192.81,1206.51,1240.26,1272.68,1269.41,1259.0,1274.64,1255.06,1198.56,1177.29,1203.95,1168.19,1197.11,1234.56,1243.92,1251.68,1221.02,1131.83,1036.17,1009.99,1034.38,1084.01,1054.61,1036.0,991.29,927.62,964.69,998.81,1043.53,1033.36,1034.02,1052.26,1077.84,1080.5,1127.13,1142.84,1130.43,1167.73,1189.85,1188.11,1194.03,1208.2,1213.56,1217.34,1188.73,1173.94,1178.34,1170.48,1172.45,1200.37,1201.43,1220.82,1241.69,1237.83,1235.86,1244.02,1265.16,1288.4,1313.44,1324.91,1330.54,1331.54,1377.49,1433.79,1471.89,1541.22,1558.41,1541.3,1543.74,1589.65,1705.78,1747.27,1826.76,1771.71,1707.78,1782.95,1735.05,1710.66,1776.66,1826.22,1927.13,1975.64,2024.03,2111.66,2193.66,2369.21,2560.53,2389.16,2101.19,2191.31,2239.53,2276.16,2255.69,2391.72,2430.54,2520.05,2526.1,2601.99,2837.84,2818.22,2755.25,2825.14,2855.57,2907.55,2807.02,2718.22,2656.32,2360.53,2452.07,2557.65,2568.34,2559.8,2663.73,2714.97,2683.04,2719.63,2659.5,2561.38,2467.59,2410.13,2535.72,2560.25,2525.39,2463.91,2445.96,2525.17,2597.85,2570.82,2594.62,2544.36,2517.33,2540.11,2456.74,2341.52,2345.59,2372.13,2280.85,2076.25,1942.63,2058.76,2283.41,2313.95,2494.76,2722.12,2781.98,2769.69,2755.19,2627.06,2501.95,2570.99,2739.34,2719.89,2677.46,2762.34,2772.71,2715.73,2744.24,2828.33,3157.09,3238.36,3310.36,3418.8,3343.65,3393.96,3505.46,3760.97,4027.54,4171.42,4172.49,4169.77,4350.16,4232.3,4058.32,4062.67,4025.96,3927.02,4145.9,4183.44,4359.36,4312.97,4342.5,4306.79,4466.65,4578.74,4671.83,4804.45,4689.85,4580.2,4368.0,4257.97,4533.04,4587.08,4487.41,4296.17,4184.95,4213.91,4256.47,3938.98,3631.14,3417.38,3701.45,3638.06,3945.18,3966.72,3940.0,3794.71,3629.92,3716.03,3697.06,3822.54,3916.97,4038.44,4190.72,4147.48,4271.82,4292.44,4397.64,4314.11,4251.54,4257.08,4360.95,4352.54,4497.85,4645.98,4814.05,4789.48,5118.43,5623.82,5669.42,5614.47,5676.93,5628.54,5406.76,5657.37,5792.05,6077.73,5914.38,5873.82,5665.3,5551.69,5829.77,5826.17,5751.95,5886.92,6126.01,6242.87,6505.82,6958.99,7246.66,7262.19,7462.93,7234.54,7108.41,7394.27,7251.18,6969.19,6563.83,6126.29,6356.17,6596.73,7052.24,7465.82,7834.7,7703.12,7829.21,8094.93,8163.58,8199.21,8179.84,8173.24,8433.08,8979.37,9562.76,9839.23,10417.83,9906.49,10208.91,10947.03,11301.72,11358.37,11664.88,12589.97,14799.56,15467.61,14834.44,14165.29,16221.26,16752.8,16560.56,16363.93,17382.7,18188.78,19204.56,18738.92,18343.25,16866.89,16249.79,13810.35,14798.32,13685.86,13990.39,15266.99,15606.4,14277.56,14560.69,13240.88,13362.24,13444.48,13898.51,14984.43,14839.29,15811.53,16682.82,16533.21,15324.14,14890.46,14217.57,13726.54,13682.75,14240.43,13695.51,13836.91,12195.94,10711.76,11521.09,11534.51,12487.76,11914.1,11152.6,10745.0,11022.01,11314.07,11025.38,11251.11,11685.56,11295.88,10643.06,10000.23,9513.21,8578.81,8925.73,8736.75,7631.07,6852.24,7931.9,8228.86,8272.24,8668.52,8199.73,8633.94,8618.67,9033.65,9814.37,10035.25,10686.27,10750.44,10878.02,11508.15,10805.76,10284.43,10023.16,9941.3,9603.63,9918.99,10559.76,10629.23,10658.09,10988.35,11350.14,11247.45,11526.45,11029.84,10411.69,9717.51,8923.63,9246.24,9068.78,9447.05,9167.09,8778.91,8123.77,8323.08,8085.99,7689.2,8364.64,8630.02,8989.33,8798.83,8535.92,8863.65,8541.43,8214.39,7973.04,7922.15,7526.14,6898.21,7012.08,6804.02,6983.09,7330.29,7082.9,6763.54,6653.7,6895.29,6991.88,6896.94,6783.87,6883.6,7342.93,8000.94,8017.42,8220.12,8086.1,8041.76,8061.58,8217.9,8450.22,8806.31,8894.07,8900.1,9320.15,9231.41,8890.32,9222.71,9246.31,9361.57,9296.17,8993.88,9116.97,9385.46,9662.16,9834.04,9620.87,9349.82,9266.18,9197.65,9270.78,8708.52,8429.96,8555.28,8588.34,8649.22,8289.18,8284.14,8112.27,8260.25,8366.5,8460.25,8238.44,7792.12,7544.8,7492.07,7493.78,7321.29,7259.89,7298.36,7436.6,7503.65,7484.97,7600.07,7693.79,7579.18,7495.36,7609.43,7695.86,7632.99,7632.8,7139.15,6764.81,6758.06,6448.25,6506.23,6554.98,6465.42,6511.18,6526.02,6721.31,6683.66,6739.3,6364.85,6138.64,6028.74,6206.73,6205.44,6099.3,6084.81,5907.82,6367.7,6353.39,6456.8,6599.89,6574.67,6585.01,6545.2,6575.74,6741.63,6708.38,6484.07,6357.17,6222.0,6239.32,6237.9,6320.25,6524.07,6881.82,7407.91,7393.85,7424.38,7350.29,7451.22,7683.21,8076.55,8257.68,8199.72,8024.36,8182.03,8204.76,8137.37,7918.69,7573.36,7592.89,7397.24,7251.46,6997.88,6990.24,6989.47,6448.98,6396.89,6398.78,6191.26,6307.32,6348.17,6059.82,6373.18,6347.86,6469.92,6449.06,6399.81,6447.3,6401.71,6583.2,6435.47,6554.17,6715.81,6671.53,6714.44,6989.27,7051.1,6931.11,6981.71,7107.02,7241.21,7261.53,7323.79,7129.5,6425.43,6445.53,6362.04,6291.49,6288.89,6292.19,6269.5,6442.33,6502.04,6519.92,6485.11,6399.83,6297.3,6338.2,6413.22,6661.28,6707.39,6707.82,6639.42,6415.18,6462.54,6522.15,6666.96,6541.77,6578.54,6576.07,6542.87,6448.47,6548.27,6545.42,6557.0,6534.12,6587.62,6588.12,6517.79,6216.21,6202.39,6196.89,6226.28,6372.29,6438.91,6439.28,6428.46,6386.16,6397.22,6434.11,6406.06,6396.49,6425.9,6400.97,6401.3,6407.4,6402.77,6331.14,6265.18,6278.12,6310.96,6352.46,6334.25,6364.92,6405.22,6413.46,6507.7,6450.35,6366.71,6355.61,6340.02,6351.82,6291.14,6024.41,5499.08,5532.46,5486.07,5534.83,5208.12,4538.77,4451.89,4470.96,4251.86,4206.0,3762.18,3855.63,3706.52,4061.11,4227.73,4078.24,4080.14,4122.83,3927.45,3907.26,3804.83,3697.91,3363.92,3387.11,3469.55,3470.59,3367.08,3398.65,3362.49,3235.34,3181.24,3217.88,3334.97,3510.58,3751.17,3927.18,3976.39,3853.82,3979.87,4128.16,3776.22,3781.55,3719.75,3702.73,3875.23,3789.48,3758.73,3701.44,3824.35,3831.06,3786.18,3835.35,3875.71,4024.01,4007.65,4011.78,3797.59,3638.0,3627.23,3581.5,3581.08,3642.49,3604.6,3604.05,3616.34,3672.27,3607.91,3536.64,3552.66,3570.22,3554.61,3557.81,3571.78,3546.24,3439.29,3399.49,3423.79,3425.49,3417.09,3432.3,3425.86,3414.65,3419.8,3372.24,3366.84,3452.66,3615.46,3608.7,3595.96,3578.7,3582.97,3569.8,3571.04,3588.18,3586.12,3757.85,3902.21,3911.93,3907.58,3926.25,3981.19,3991.43,3793.85,3800.66,3796.23,3811.34,3813.85,3805.71,3801.81,3725.91,3766.8,3839.54,3862.26,3872.7,3890.7,3893.43,3865.4,3848.02,3854.0,3850.89,3878.29,3979.47,3963.47,3970.21,3977.66,3996.15,4006.76,3982.01,3981.1,3969.05,3950.45,3908.93,3994.75,4009.77,4058.28,4084.32,4088.61,4126.39,4650.98,5043.15,4975.19,4983.16,5045.1,5130.82,5244.67,5223.59,5272.64,5132.62,5049.3,5085.53,5079.68,5123.61,5099.88,5220.06,5265.19,5260.25,5314.24,5289.91,5319.05,5534.0,5488.83,5425.35,5152.17,5166.26,5170.75,5156.62,5201.72,5305.55,5363.09,5620.52,5697.43,5724.18,5659.08,5867.13,5846.44,6049.79,6293.92,6812.86,7164.19,7416.65,8002.68,8062.05,8001.96,7274.27,7330.74,7940.79,7914.3,7958.52,7896.13,7708.25,7988.14,8050.32,8133.12,8791.69,8732.22,8652.93,8639.28,8357.65,8548.01,8674.31,8538.45,7860.48,7778.77,7756.09,7942.26,7944.29,7803.11,7823.7,7900.34,8040.34,8172.85,8356.81,8731.36,9102.32,9241.88,9158.49,9151.85,9357.48,9807.49,10736.14,10754.92,10854.33,11324.35,12664.77,11831.69,11696.61,11868.99,11555.59,10702.95,10317.92,11358.8,11770.16,11150.67,11424.26,11318.03,11801.46,12524.81,12662.79,11597.3,11593.16,11437.96,10871.18,10430.0,10370.24,9589.78,10065.69,10482.31,10687.78,10583.42,10457.79,10078.17,9709.05,10028.25,9779.52,9737.01,9490.36,9545.01,9545.3,9861.9,10090.19,10480.5,10790.78,10826.46,11684.54,11766.82,11720.49,11809.06,11826.87,11587.43,11382.69,11400.02,11143.6,10446.41,10020.94,10239.88,10301.63,10295.53,10620.74,10757.42,10201.74,10052.69,10267.5,10160.89,10104.67,10351.33,10177.95,10049.54,9524.94,9539.84,9596.41,9627.8,9952.34,10527.72,10569.14,10568.99,10665.28,10426.72,10463.1,10306.17,10226.76,10068.47,10222.9,10320.56,10343.78,10318.74,10256.38,10220.29,10197.77,9995.02,10177.4,10042.62,9982.46,9883.66,9434.55,8458.14,8259.36,8044.94,8163.12,8078.65,8078.15,8368.08,8262.57,8249.29,8150.98,8111.51,7984.46,8045.51,8213.49,8343.14,8564.17,8403.73,8336.81,8361.43,8311.51,8267.74,8068.0,8035.57,7966.11,7962.15,8022.65,8225.33,8202.6,7750.49,7453.71,7886.66,9333.14,9420.42,9484.56,9390.32,9199.62,9178.38,9159.35,9284.49,9222.15,9260.79,9348.21,9339.17,9241.22,8985.79,8812.63,8893.35,8801.29,8738.25,8751.49,8659.29,8543.67,8472.72,8517.25,8383.59,8119.6,8102.1,7852.6,7350.78,7247.49,7151.49,6970.57,7146.48,7258.16,7527.17,7616.6,7657.91,7357.4,7313.3,7322.12,7281.82,7333.59,7408.94,7535.68,7498.45,7464.82,7303.67,7213.43,7175.2,7229.3,7167.0,7092.31,7036.41,6794.46,6777.22,7152.86,7154.08,7150.45,7229.94,7508.26,7299.88,7213.65,7223.65,7194.87,7301.13,7347.19,7300.16,7201.28,7197.78,7075.31,7221.73,7324.15,7432.58,7536.97,7935.06,8242.1,7902.78,7892.93,8117.13,8114.34,8105.29,8581.45,8749.5,8678.9,8858.81,8895.96,8852.36,8648.29,8649.54,8668.56,8440.15,8387.34,8325.19,8433.12,8728.27,9048.31,9336.96,9376.81,9347.84,9377.01,9382.44,9335.67,9208.4,9408.18,9695.68,9781.96,9817.62,10085.9,9928.41,9963.59,10350.01,10293.62,10268.15,10149.2,9911.75,9727.65,9852.83,10105.41,9587.77,9694.72,9663.45,9873.81,9740.96,9496.05,9040.71,8802.26,8704.98,8690.39,8562.56,8752.04,8795.95,8765.14,9023.78,9101.41,9057.38,8575.4,7889.6,7953.18,7855.23,6684.52,5317.06,5418.99,5305.96,4999.5,5321.06,5292.91,5767.01,6371.14,6175.54,6145.48,6113.15,6660.77,6668.51,6676.43,6695.9,6232.43,6109.99,6277.55,6455.04,6311.97,6729.21,6818.56,6775.97,6799.21,7095.0,7322.63,7306.06,7308.24,6980.13,6873.9,6950.07,6755.53,6887.64,6804.54,6917.09,7075.08,7154.93,7170.17,7056.32,6870.18,7002.68,7297.86,7524.49,7546.67,7603.33,7719.2,7733.18,8251.93,8904.82,8789.61,8876.61,8985.43,8777.52,8935.73,9167.97,9497.7,9930.95,9732.9,8698.38,8717.23,8780.09,9050.73,9584.02,9531.29,9407.96,9628.95,9727.4,9675.73,9677.27,9286.78,9129.6,9209.7,9127.58,8824.39,8863.46,9030.71,9324.42,9458.33,9510.72,9550.52,9588.98,9886.34,9554.95,9703.5,9746.23,9638.52,9624.31,9728.56,9715.59,9790.85,9648.67,9414.01,9428.57,9406.14,9248.86,9496.65,9446.05,9409.1,9329.64,9304.01,9350.73,9483.75,9640.84,9444.03,9235.12,9184.62,9110.36,9057.62,9118.58,9153.12,9193.89,9169.17,9095.45,9092.47,9065.89,9214.59,9270.88,9347.61,9331.63,9201.58,9240.17,9250.99,9280.09,9221.96,9223.34,9133.92,9136.0,9162.79,9155.88,9178.9,9309.28,9367.1,9543.29,9559.3,9621.72,9836.75,10443.57,10993.2,11101.3,11037.77,11200.57,11614.89,11341.2,11258.92,11247.99,11469.59,11759.88,11721.05,11688.08,11675.5,11904.88,11638.71,11468.11,11555.39,11758.94,11880.91,11853.99,12060.66,12170.01,11803.21,11802.58,11748.61,11563.06,11623.04,11736.77,11513.62,11406.47,11350.69,11446.25,11509.95,11611.48,11688.41,11879.21,11582.4,11047.47,10398.84,10277.26,10205.96,10164.91,10153.52,10191.55,10343.53,10305.97,10375.32,10398.47,10514.59,10777.25,10898.72,10895.85,10927.9,11013.66,10918.58,10681.29,10470.77,10435.41,10445.79,10673.99,10717.93,10718.85,10880.89,10731.46,10743.43,10759.09,10531.83,10551.06,10606.21,10707.0,10702.28,10623.07,10736.35,10984.42,11339.31,11361.86,11449.61,11453.29,11408.35,11417.31,11367.87,11345.64,11431.42,11584.6,11848.41,12465.68,12938.56,12937.15,13032.2,13059.1,13071.53,13367.91,13452.05,13336.67,13442.5,13743.19,13771.74,13602.86,13618.47,13906.92,14739.7,15593.96,15354.47,15205.86,15391.79,15333.38,15600.2,15937.4,16297.99,16035.97,16001.59,16379.26,17092.53,17901.16,17854.34,18347.06,18720.9,18443.23,18437.04,23675.64,23279.32,23114.08,23550.34,23234.8,24030.78,25282.41,27071.95,26984.36,26689.38,28164.19,28903.07,29305.83,30788.24,33507.98,31903.71,32314.15,34947.41,38118.92,39873.26,40436.38,39778.41,34379.04,34900.24,34721.27,38547.5,37517.04,36881.23,35684.28,36074.98,36887.76,35189.05,33001.56,31904.05,32381.19,32248.63,33384.35,32030.58,31185.83,31822.35,35117.29,34090.66,33475.12,33736.33,34741.63,36598.04,37573.01,37653.26,39841.94,38740.07,41238.53,46736.13,45842.19,46315.25,47642.45,47304.49,48625.88,47899.17,48886.44,50950.94,51921.53,53119.36,56309.93,57071.53,54782.24,49081.28,49858.74,50038.51,46725.27,47169.47,44867.88,47680.6,48655.66,50464.36,49446.99,47759.07,48398.05,50240.17,50829.38,54013.59,55415.85,56315.79,56867.78,58831.68,60490.39,57565.24,55388.03,56200.46,58511.49,58319.59,58807.77,57344.76,56828.1,54741.99,55177.59,52171.44,53273.16,55218.55,55858.21,56942.49,58371.04,58739.57,58901.15,59294.23,58956.53,57745.77,58114.7,58483.31,57009.5,57203.32,58227.45,59885.74,59798.09,60115.18,62209.03,63521.6,62950.35,61795.26,61362.87,56146.44,56451.06,55577.41,55486.77,53856.28,49931.26,50106.72,49679.52,53077.1,54630.76,54828.68,53920.39,55329.48,57833.06,56888.79,57957.46,55340.33,55944.33,57015.13,56867.87,58581.94,58022.32,57802.12,55913.47,55973.31,49915.29,50232.72,48896.83,47765.57,44368.35,44238.97,39201.6,39947.07,39186.76,37557.87,35115.19,37074.78,38125.16,39295.91,38845.41,36653.31,35296.03,35513.33,36192.83,36606.18,37303.78,38555.74,37122.86,36617.82,35981.79,35911.26,32919.21,34907.84,37037.88,37029.79,35747.26,36411.68,39703.53,40243.08,39441.98,38627.15,37019.68,35779.89,35090.83,33182.39,32049.71,33785.74,33776.31,33401.18,31514.92,33077.42,34496.06,35581.9,34948.73,33745.38,33310.69,34320.64,35293.96,34116.25,34177.28,34575.71,32918.19,33192.16,33721.99,33811.68,33709.41,32863.48,32502.89,32113.16,31766.16,31571.64,31780.63,31189.09,29848.8,31211.72,32149.41,32503.68,33891.27,34405.26,38362.11,37725.77,39905.2,39886.62,39660.73,41661.67,41504.1,39624.0,38481.4,38730.34,39457.24,41391.43,43601.23,44385.95,44937.82,45626.07,46113.79,44954.77,46235.47,47142.32,46464.44,46947.94,45995.56,45169.21,45241.82,47798.89,49070.28,48921.16,49910.34,48933.53,48287.93,47375.89,47767.56,48918.51,48684.43,48107.9,47330.67,47710.24,49689.12,49933.09,50096.34,50379.74,51805.25,50013.69,46334.93,46447.8,45950.0,45392.35,45657.57,44834.02,46074.69,47608.03,47919.94,47599.49,48256.79,47746.76,44661.6,42488.45,42604.96,44124.97,43168.24,42617.75,42826.62,43547.46,41958.69,41844.55,43290.19,46096.16,47863.86,48045.79,48191.18,50107.72,52958.89,54392.27,54485.99,54764.14,55189.7,56739.73,56656.22,56079.7,57669.53,59922.89,61301.08,60868.64,61832.41,62769.41,64987.9,64373.87,62212.98,61112.42,60733.26,62632.46,62330.68,59546.4,60292.82,61613.59,61641.12,61131.53,61318.7,62579.17,62885.82,61883.04,61554.0,61009.31,62155.63,65831.34,67560.93,66908.11,64957.39,64216.66,64069.45,64497.28,65125.83,60856.04,59929.96,59061.11,57264.63,58737.22,59186.86,57409.0,56956.87,56787.49,58302.41,55727.01,54711.33,54651.77,57638.82,57402.45,57438.86,56736.76,55906.17,49100.84,49181.91,48892.76,51048.17,50349.45,49105.23,48281.56,48508.03,49612.62,48236.64,47232.43,48160.64,48614.83,47103.14,46653.76,47212.06,46452.77,48444.61,49009.67,49121.17,51080.08,50873.2,50190.08,51101.88,48891.63,47607.68,47123.86,47312.68,47139.58,47262.62,46838.26,46449.78,45901.61,43116.52,42023.69,41731.52,41925.57,41641.77,42233.64,43222.54,43454.17,42782.03,43161.37,43124.68,42564.93,41959.29,41935.19,42231.85,38701.8,35540.29,35457.66,35144.69,36543.89,37544.2,36390.9,37081.41,37852.79,37977.4,37590.44,38596.44,38074.96,36836.25,38705.12,41557.3,41633.79,43154.17,43909.91,43977.59,44382.08,43216.41,42360.49,42364.81,42262.75,43919.63,44027.83,42675.11,40438.88,40092.38,38773.55,38530.6,37443.87,38247.16,36175.75,38860.58,39247.22,38735.42,39444.93,43287.12],\"type\":\"scatter\"},{\"mode\":\"lines\",\"name\":\"Low\",\"x\":[\"2017-01-01\",\"2017-01-02\",\"2017-01-03\",\"2017-01-04\",\"2017-01-05\",\"2017-01-06\",\"2017-01-07\",\"2017-01-08\",\"2017-01-09\",\"2017-01-10\",\"2017-01-11\",\"2017-01-12\",\"2017-01-13\",\"2017-01-14\",\"2017-01-15\",\"2017-01-16\",\"2017-01-17\",\"2017-01-18\",\"2017-01-19\",\"2017-01-20\",\"2017-01-21\",\"2017-01-22\",\"2017-01-23\",\"2017-01-24\",\"2017-01-25\",\"2017-01-26\",\"2017-01-27\",\"2017-01-28\",\"2017-01-29\",\"2017-01-30\",\"2017-01-31\",\"2017-02-01\",\"2017-02-02\",\"2017-02-03\",\"2017-02-04\",\"2017-02-05\",\"2017-02-06\",\"2017-02-07\",\"2017-02-08\",\"2017-02-09\",\"2017-02-10\",\"2017-02-11\",\"2017-02-12\",\"2017-02-13\",\"2017-02-14\",\"2017-02-15\",\"2017-02-16\",\"2017-02-17\",\"2017-02-18\",\"2017-02-19\",\"2017-02-20\",\"2017-02-21\",\"2017-02-22\",\"2017-02-23\",\"2017-02-24\",\"2017-02-25\",\"2017-02-26\",\"2017-02-27\",\"2017-02-28\",\"2017-03-01\",\"2017-03-02\",\"2017-03-03\",\"2017-03-04\",\"2017-03-05\",\"2017-03-06\",\"2017-03-07\",\"2017-03-08\",\"2017-03-09\",\"2017-03-10\",\"2017-03-11\",\"2017-03-12\",\"2017-03-13\",\"2017-03-14\",\"2017-03-15\",\"2017-03-16\",\"2017-03-17\",\"2017-03-18\",\"2017-03-19\",\"2017-03-20\",\"2017-03-21\",\"2017-03-22\",\"2017-03-23\",\"2017-03-24\",\"2017-03-25\",\"2017-03-26\",\"2017-03-27\",\"2017-03-28\",\"2017-03-29\",\"2017-03-30\",\"2017-03-31\",\"2017-04-01\",\"2017-04-02\",\"2017-04-03\",\"2017-04-04\",\"2017-04-05\",\"2017-04-06\",\"2017-04-07\",\"2017-04-08\",\"2017-04-09\",\"2017-04-10\",\"2017-04-11\",\"2017-04-12\",\"2017-04-13\",\"2017-04-14\",\"2017-04-15\",\"2017-04-16\",\"2017-04-17\",\"2017-04-18\",\"2017-04-19\",\"2017-04-20\",\"2017-04-21\",\"2017-04-22\",\"2017-04-23\",\"2017-04-24\",\"2017-04-25\",\"2017-04-26\",\"2017-04-27\",\"2017-04-28\",\"2017-04-29\",\"2017-04-30\",\"2017-05-01\",\"2017-05-02\",\"2017-05-03\",\"2017-05-04\",\"2017-05-05\",\"2017-05-06\",\"2017-05-07\",\"2017-05-08\",\"2017-05-09\",\"2017-05-10\",\"2017-05-11\",\"2017-05-12\",\"2017-05-13\",\"2017-05-14\",\"2017-05-15\",\"2017-05-16\",\"2017-05-17\",\"2017-05-18\",\"2017-05-19\",\"2017-05-20\",\"2017-05-21\",\"2017-05-22\",\"2017-05-23\",\"2017-05-24\",\"2017-05-25\",\"2017-05-26\",\"2017-05-27\",\"2017-05-28\",\"2017-05-29\",\"2017-05-30\",\"2017-05-31\",\"2017-06-01\",\"2017-06-02\",\"2017-06-03\",\"2017-06-04\",\"2017-06-05\",\"2017-06-06\",\"2017-06-07\",\"2017-06-08\",\"2017-06-09\",\"2017-06-10\",\"2017-06-11\",\"2017-06-12\",\"2017-06-13\",\"2017-06-14\",\"2017-06-15\",\"2017-06-16\",\"2017-06-17\",\"2017-06-18\",\"2017-06-19\",\"2017-06-20\",\"2017-06-21\",\"2017-06-22\",\"2017-06-23\",\"2017-06-24\",\"2017-06-25\",\"2017-06-26\",\"2017-06-27\",\"2017-06-28\",\"2017-06-29\",\"2017-06-30\",\"2017-07-01\",\"2017-07-02\",\"2017-07-03\",\"2017-07-04\",\"2017-07-05\",\"2017-07-06\",\"2017-07-07\",\"2017-07-08\",\"2017-07-09\",\"2017-07-10\",\"2017-07-11\",\"2017-07-12\",\"2017-07-13\",\"2017-07-14\",\"2017-07-15\",\"2017-07-16\",\"2017-07-17\",\"2017-07-18\",\"2017-07-19\",\"2017-07-20\",\"2017-07-21\",\"2017-07-22\",\"2017-07-23\",\"2017-07-24\",\"2017-07-25\",\"2017-07-26\",\"2017-07-27\",\"2017-07-28\",\"2017-07-29\",\"2017-07-30\",\"2017-07-31\",\"2017-08-01\",\"2017-08-02\",\"2017-08-03\",\"2017-08-04\",\"2017-08-05\",\"2017-08-06\",\"2017-08-07\",\"2017-08-08\",\"2017-08-09\",\"2017-08-10\",\"2017-08-11\",\"2017-08-12\",\"2017-08-13\",\"2017-08-14\",\"2017-08-15\",\"2017-08-16\",\"2017-08-17\",\"2017-08-18\",\"2017-08-19\",\"2017-08-20\",\"2017-08-21\",\"2017-08-22\",\"2017-08-23\",\"2017-08-24\",\"2017-08-25\",\"2017-08-26\",\"2017-08-27\",\"2017-08-28\",\"2017-08-29\",\"2017-08-30\",\"2017-08-31\",\"2017-09-01\",\"2017-09-02\",\"2017-09-03\",\"2017-09-04\",\"2017-09-05\",\"2017-09-06\",\"2017-09-07\",\"2017-09-08\",\"2017-09-09\",\"2017-09-10\",\"2017-09-11\",\"2017-09-12\",\"2017-09-13\",\"2017-09-14\",\"2017-09-15\",\"2017-09-16\",\"2017-09-17\",\"2017-09-18\",\"2017-09-19\",\"2017-09-20\",\"2017-09-21\",\"2017-09-22\",\"2017-09-23\",\"2017-09-24\",\"2017-09-25\",\"2017-09-26\",\"2017-09-27\",\"2017-09-28\",\"2017-09-29\",\"2017-09-30\",\"2017-10-01\",\"2017-10-02\",\"2017-10-03\",\"2017-10-04\",\"2017-10-05\",\"2017-10-06\",\"2017-10-07\",\"2017-10-08\",\"2017-10-09\",\"2017-10-10\",\"2017-10-11\",\"2017-10-12\",\"2017-10-13\",\"2017-10-14\",\"2017-10-15\",\"2017-10-16\",\"2017-10-17\",\"2017-10-18\",\"2017-10-19\",\"2017-10-20\",\"2017-10-21\",\"2017-10-22\",\"2017-10-23\",\"2017-10-24\",\"2017-10-25\",\"2017-10-26\",\"2017-10-27\",\"2017-10-28\",\"2017-10-29\",\"2017-10-30\",\"2017-10-31\",\"2017-11-01\",\"2017-11-02\",\"2017-11-03\",\"2017-11-04\",\"2017-11-05\",\"2017-11-06\",\"2017-11-07\",\"2017-11-08\",\"2017-11-09\",\"2017-11-10\",\"2017-11-11\",\"2017-11-12\",\"2017-11-13\",\"2017-11-14\",\"2017-11-15\",\"2017-11-16\",\"2017-11-17\",\"2017-11-18\",\"2017-11-19\",\"2017-11-20\",\"2017-11-21\",\"2017-11-22\",\"2017-11-23\",\"2017-11-24\",\"2017-11-25\",\"2017-11-26\",\"2017-11-27\",\"2017-11-28\",\"2017-11-29\",\"2017-11-30\",\"2017-12-01\",\"2017-12-02\",\"2017-12-03\",\"2017-12-04\",\"2017-12-05\",\"2017-12-06\",\"2017-12-07\",\"2017-12-08\",\"2017-12-09\",\"2017-12-10\",\"2017-12-11\",\"2017-12-12\",\"2017-12-13\",\"2017-12-14\",\"2017-12-15\",\"2017-12-16\",\"2017-12-17\",\"2017-12-18\",\"2017-12-19\",\"2017-12-20\",\"2017-12-21\",\"2017-12-22\",\"2017-12-23\",\"2017-12-24\",\"2017-12-25\",\"2017-12-26\",\"2017-12-27\",\"2017-12-28\",\"2017-12-29\",\"2017-12-30\",\"2017-12-31\",\"2018-01-01\",\"2018-01-02\",\"2018-01-03\",\"2018-01-04\",\"2018-01-05\",\"2018-01-06\",\"2018-01-07\",\"2018-01-08\",\"2018-01-09\",\"2018-01-10\",\"2018-01-11\",\"2018-01-12\",\"2018-01-13\",\"2018-01-14\",\"2018-01-15\",\"2018-01-16\",\"2018-01-17\",\"2018-01-18\",\"2018-01-19\",\"2018-01-20\",\"2018-01-21\",\"2018-01-22\",\"2018-01-23\",\"2018-01-24\",\"2018-01-25\",\"2018-01-26\",\"2018-01-27\",\"2018-01-28\",\"2018-01-29\",\"2018-01-30\",\"2018-01-31\",\"2018-02-01\",\"2018-02-02\",\"2018-02-03\",\"2018-02-04\",\"2018-02-05\",\"2018-02-06\",\"2018-02-07\",\"2018-02-08\",\"2018-02-09\",\"2018-02-10\",\"2018-02-11\",\"2018-02-12\",\"2018-02-13\",\"2018-02-14\",\"2018-02-15\",\"2018-02-16\",\"2018-02-17\",\"2018-02-18\",\"2018-02-19\",\"2018-02-20\",\"2018-02-21\",\"2018-02-22\",\"2018-02-23\",\"2018-02-24\",\"2018-02-25\",\"2018-02-26\",\"2018-02-27\",\"2018-02-28\",\"2018-03-01\",\"2018-03-02\",\"2018-03-03\",\"2018-03-04\",\"2018-03-05\",\"2018-03-06\",\"2018-03-07\",\"2018-03-08\",\"2018-03-09\",\"2018-03-10\",\"2018-03-11\",\"2018-03-12\",\"2018-03-13\",\"2018-03-14\",\"2018-03-15\",\"2018-03-16\",\"2018-03-17\",\"2018-03-18\",\"2018-03-19\",\"2018-03-20\",\"2018-03-21\",\"2018-03-22\",\"2018-03-23\",\"2018-03-24\",\"2018-03-25\",\"2018-03-26\",\"2018-03-27\",\"2018-03-28\",\"2018-03-29\",\"2018-03-30\",\"2018-03-31\",\"2018-04-01\",\"2018-04-02\",\"2018-04-03\",\"2018-04-04\",\"2018-04-05\",\"2018-04-06\",\"2018-04-07\",\"2018-04-08\",\"2018-04-09\",\"2018-04-10\",\"2018-04-11\",\"2018-04-12\",\"2018-04-13\",\"2018-04-14\",\"2018-04-15\",\"2018-04-16\",\"2018-04-17\",\"2018-04-18\",\"2018-04-19\",\"2018-04-20\",\"2018-04-21\",\"2018-04-22\",\"2018-04-23\",\"2018-04-24\",\"2018-04-25\",\"2018-04-26\",\"2018-04-27\",\"2018-04-28\",\"2018-04-29\",\"2018-04-30\",\"2018-05-01\",\"2018-05-02\",\"2018-05-03\",\"2018-05-04\",\"2018-05-05\",\"2018-05-06\",\"2018-05-07\",\"2018-05-08\",\"2018-05-09\",\"2018-05-10\",\"2018-05-11\",\"2018-05-12\",\"2018-05-13\",\"2018-05-14\",\"2018-05-15\",\"2018-05-16\",\"2018-05-17\",\"2018-05-18\",\"2018-05-19\",\"2018-05-20\",\"2018-05-21\",\"2018-05-22\",\"2018-05-23\",\"2018-05-24\",\"2018-05-25\",\"2018-05-26\",\"2018-05-27\",\"2018-05-28\",\"2018-05-29\",\"2018-05-30\",\"2018-05-31\",\"2018-06-01\",\"2018-06-02\",\"2018-06-03\",\"2018-06-04\",\"2018-06-05\",\"2018-06-06\",\"2018-06-07\",\"2018-06-08\",\"2018-06-09\",\"2018-06-10\",\"2018-06-11\",\"2018-06-12\",\"2018-06-13\",\"2018-06-14\",\"2018-06-15\",\"2018-06-16\",\"2018-06-17\",\"2018-06-18\",\"2018-06-19\",\"2018-06-20\",\"2018-06-21\",\"2018-06-22\",\"2018-06-23\",\"2018-06-24\",\"2018-06-25\",\"2018-06-26\",\"2018-06-27\",\"2018-06-28\",\"2018-06-29\",\"2018-06-30\",\"2018-07-01\",\"2018-07-02\",\"2018-07-03\",\"2018-07-04\",\"2018-07-05\",\"2018-07-06\",\"2018-07-07\",\"2018-07-08\",\"2018-07-09\",\"2018-07-10\",\"2018-07-11\",\"2018-07-12\",\"2018-07-13\",\"2018-07-14\",\"2018-07-15\",\"2018-07-16\",\"2018-07-17\",\"2018-07-18\",\"2018-07-19\",\"2018-07-20\",\"2018-07-21\",\"2018-07-22\",\"2018-07-23\",\"2018-07-24\",\"2018-07-25\",\"2018-07-26\",\"2018-07-27\",\"2018-07-28\",\"2018-07-29\",\"2018-07-30\",\"2018-07-31\",\"2018-08-01\",\"2018-08-02\",\"2018-08-03\",\"2018-08-04\",\"2018-08-05\",\"2018-08-06\",\"2018-08-07\",\"2018-08-08\",\"2018-08-09\",\"2018-08-10\",\"2018-08-11\",\"2018-08-12\",\"2018-08-13\",\"2018-08-14\",\"2018-08-15\",\"2018-08-16\",\"2018-08-17\",\"2018-08-18\",\"2018-08-19\",\"2018-08-20\",\"2018-08-21\",\"2018-08-22\",\"2018-08-23\",\"2018-08-24\",\"2018-08-25\",\"2018-08-26\",\"2018-08-27\",\"2018-08-28\",\"2018-08-29\",\"2018-08-30\",\"2018-08-31\",\"2018-09-01\",\"2018-09-02\",\"2018-09-03\",\"2018-09-04\",\"2018-09-05\",\"2018-09-06\",\"2018-09-07\",\"2018-09-08\",\"2018-09-09\",\"2018-09-10\",\"2018-09-11\",\"2018-09-12\",\"2018-09-13\",\"2018-09-14\",\"2018-09-15\",\"2018-09-16\",\"2018-09-17\",\"2018-09-18\",\"2018-09-19\",\"2018-09-20\",\"2018-09-21\",\"2018-09-22\",\"2018-09-23\",\"2018-09-24\",\"2018-09-25\",\"2018-09-26\",\"2018-09-27\",\"2018-09-28\",\"2018-09-29\",\"2018-09-30\",\"2018-10-01\",\"2018-10-02\",\"2018-10-03\",\"2018-10-04\",\"2018-10-05\",\"2018-10-06\",\"2018-10-07\",\"2018-10-08\",\"2018-10-09\",\"2018-10-10\",\"2018-10-11\",\"2018-10-12\",\"2018-10-13\",\"2018-10-14\",\"2018-10-15\",\"2018-10-16\",\"2018-10-17\",\"2018-10-18\",\"2018-10-19\",\"2018-10-20\",\"2018-10-21\",\"2018-10-22\",\"2018-10-23\",\"2018-10-24\",\"2018-10-25\",\"2018-10-26\",\"2018-10-27\",\"2018-10-28\",\"2018-10-29\",\"2018-10-30\",\"2018-10-31\",\"2018-11-01\",\"2018-11-02\",\"2018-11-03\",\"2018-11-04\",\"2018-11-05\",\"2018-11-06\",\"2018-11-07\",\"2018-11-08\",\"2018-11-09\",\"2018-11-10\",\"2018-11-11\",\"2018-11-12\",\"2018-11-13\",\"2018-11-14\",\"2018-11-15\",\"2018-11-16\",\"2018-11-17\",\"2018-11-18\",\"2018-11-19\",\"2018-11-20\",\"2018-11-21\",\"2018-11-22\",\"2018-11-23\",\"2018-11-24\",\"2018-11-25\",\"2018-11-26\",\"2018-11-27\",\"2018-11-28\",\"2018-11-29\",\"2018-11-30\",\"2018-12-01\",\"2018-12-02\",\"2018-12-03\",\"2018-12-04\",\"2018-12-05\",\"2018-12-06\",\"2018-12-07\",\"2018-12-08\",\"2018-12-09\",\"2018-12-10\",\"2018-12-11\",\"2018-12-12\",\"2018-12-13\",\"2018-12-14\",\"2018-12-15\",\"2018-12-16\",\"2018-12-17\",\"2018-12-18\",\"2018-12-19\",\"2018-12-20\",\"2018-12-21\",\"2018-12-22\",\"2018-12-23\",\"2018-12-24\",\"2018-12-25\",\"2018-12-26\",\"2018-12-27\",\"2018-12-28\",\"2018-12-29\",\"2018-12-30\",\"2018-12-31\",\"2019-01-01\",\"2019-01-02\",\"2019-01-03\",\"2019-01-04\",\"2019-01-05\",\"2019-01-06\",\"2019-01-07\",\"2019-01-08\",\"2019-01-09\",\"2019-01-10\",\"2019-01-11\",\"2019-01-12\",\"2019-01-13\",\"2019-01-14\",\"2019-01-15\",\"2019-01-16\",\"2019-01-17\",\"2019-01-18\",\"2019-01-19\",\"2019-01-20\",\"2019-01-21\",\"2019-01-22\",\"2019-01-23\",\"2019-01-24\",\"2019-01-25\",\"2019-01-26\",\"2019-01-27\",\"2019-01-28\",\"2019-01-29\",\"2019-01-30\",\"2019-01-31\",\"2019-02-01\",\"2019-02-02\",\"2019-02-03\",\"2019-02-04\",\"2019-02-05\",\"2019-02-06\",\"2019-02-07\",\"2019-02-08\",\"2019-02-09\",\"2019-02-10\",\"2019-02-11\",\"2019-02-12\",\"2019-02-13\",\"2019-02-14\",\"2019-02-15\",\"2019-02-16\",\"2019-02-17\",\"2019-02-18\",\"2019-02-19\",\"2019-02-20\",\"2019-02-21\",\"2019-02-22\",\"2019-02-23\",\"2019-02-24\",\"2019-02-25\",\"2019-02-26\",\"2019-02-27\",\"2019-02-28\",\"2019-03-01\",\"2019-03-02\",\"2019-03-03\",\"2019-03-04\",\"2019-03-05\",\"2019-03-06\",\"2019-03-07\",\"2019-03-08\",\"2019-03-09\",\"2019-03-10\",\"2019-03-11\",\"2019-03-12\",\"2019-03-13\",\"2019-03-14\",\"2019-03-15\",\"2019-03-16\",\"2019-03-17\",\"2019-03-18\",\"2019-03-19\",\"2019-03-20\",\"2019-03-21\",\"2019-03-22\",\"2019-03-23\",\"2019-03-24\",\"2019-03-25\",\"2019-03-26\",\"2019-03-27\",\"2019-03-28\",\"2019-03-29\",\"2019-03-30\",\"2019-03-31\",\"2019-04-01\",\"2019-04-02\",\"2019-04-03\",\"2019-04-04\",\"2019-04-05\",\"2019-04-06\",\"2019-04-07\",\"2019-04-08\",\"2019-04-09\",\"2019-04-10\",\"2019-04-11\",\"2019-04-12\",\"2019-04-13\",\"2019-04-14\",\"2019-04-15\",\"2019-04-16\",\"2019-04-17\",\"2019-04-18\",\"2019-04-19\",\"2019-04-20\",\"2019-04-21\",\"2019-04-22\",\"2019-04-23\",\"2019-04-24\",\"2019-04-25\",\"2019-04-26\",\"2019-04-27\",\"2019-04-28\",\"2019-04-29\",\"2019-04-30\",\"2019-05-01\",\"2019-05-02\",\"2019-05-03\",\"2019-05-04\",\"2019-05-05\",\"2019-05-06\",\"2019-05-07\",\"2019-05-08\",\"2019-05-09\",\"2019-05-10\",\"2019-05-11\",\"2019-05-12\",\"2019-05-13\",\"2019-05-14\",\"2019-05-15\",\"2019-05-16\",\"2019-05-17\",\"2019-05-18\",\"2019-05-19\",\"2019-05-20\",\"2019-05-21\",\"2019-05-22\",\"2019-05-23\",\"2019-05-24\",\"2019-05-25\",\"2019-05-26\",\"2019-05-27\",\"2019-05-28\",\"2019-05-29\",\"2019-05-30\",\"2019-05-31\",\"2019-06-01\",\"2019-06-02\",\"2019-06-03\",\"2019-06-04\",\"2019-06-05\",\"2019-06-06\",\"2019-06-07\",\"2019-06-08\",\"2019-06-09\",\"2019-06-10\",\"2019-06-11\",\"2019-06-12\",\"2019-06-13\",\"2019-06-14\",\"2019-06-15\",\"2019-06-16\",\"2019-06-17\",\"2019-06-18\",\"2019-06-19\",\"2019-06-20\",\"2019-06-21\",\"2019-06-22\",\"2019-06-23\",\"2019-06-24\",\"2019-06-25\",\"2019-06-26\",\"2019-06-27\",\"2019-06-28\",\"2019-06-29\",\"2019-06-30\",\"2019-07-01\",\"2019-07-02\",\"2019-07-03\",\"2019-07-04\",\"2019-07-05\",\"2019-07-06\",\"2019-07-07\",\"2019-07-08\",\"2019-07-09\",\"2019-07-10\",\"2019-07-11\",\"2019-07-12\",\"2019-07-13\",\"2019-07-14\",\"2019-07-15\",\"2019-07-16\",\"2019-07-17\",\"2019-07-18\",\"2019-07-19\",\"2019-07-20\",\"2019-07-21\",\"2019-07-22\",\"2019-07-23\",\"2019-07-24\",\"2019-07-25\",\"2019-07-26\",\"2019-07-27\",\"2019-07-28\",\"2019-07-29\",\"2019-07-30\",\"2019-07-31\",\"2019-08-01\",\"2019-08-02\",\"2019-08-03\",\"2019-08-04\",\"2019-08-05\",\"2019-08-06\",\"2019-08-07\",\"2019-08-08\",\"2019-08-09\",\"2019-08-10\",\"2019-08-11\",\"2019-08-12\",\"2019-08-13\",\"2019-08-14\",\"2019-08-15\",\"2019-08-16\",\"2019-08-17\",\"2019-08-18\",\"2019-08-19\",\"2019-08-20\",\"2019-08-21\",\"2019-08-22\",\"2019-08-23\",\"2019-08-24\",\"2019-08-25\",\"2019-08-26\",\"2019-08-27\",\"2019-08-28\",\"2019-08-29\",\"2019-08-30\",\"2019-08-31\",\"2019-09-01\",\"2019-09-02\",\"2019-09-03\",\"2019-09-04\",\"2019-09-05\",\"2019-09-06\",\"2019-09-07\",\"2019-09-08\",\"2019-09-09\",\"2019-09-10\",\"2019-09-11\",\"2019-09-12\",\"2019-09-13\",\"2019-09-14\",\"2019-09-15\",\"2019-09-16\",\"2019-09-17\",\"2019-09-18\",\"2019-09-19\",\"2019-09-20\",\"2019-09-21\",\"2019-09-22\",\"2019-09-23\",\"2019-09-24\",\"2019-09-25\",\"2019-09-26\",\"2019-09-27\",\"2019-09-28\",\"2019-09-29\",\"2019-09-30\",\"2019-10-01\",\"2019-10-02\",\"2019-10-03\",\"2019-10-04\",\"2019-10-05\",\"2019-10-06\",\"2019-10-07\",\"2019-10-08\",\"2019-10-09\",\"2019-10-10\",\"2019-10-11\",\"2019-10-12\",\"2019-10-13\",\"2019-10-14\",\"2019-10-15\",\"2019-10-16\",\"2019-10-17\",\"2019-10-18\",\"2019-10-19\",\"2019-10-20\",\"2019-10-21\",\"2019-10-22\",\"2019-10-23\",\"2019-10-24\",\"2019-10-25\",\"2019-10-26\",\"2019-10-27\",\"2019-10-28\",\"2019-10-29\",\"2019-10-30\",\"2019-10-31\",\"2019-11-01\",\"2019-11-02\",\"2019-11-03\",\"2019-11-04\",\"2019-11-05\",\"2019-11-06\",\"2019-11-07\",\"2019-11-08\",\"2019-11-09\",\"2019-11-10\",\"2019-11-11\",\"2019-11-12\",\"2019-11-13\",\"2019-11-14\",\"2019-11-15\",\"2019-11-16\",\"2019-11-17\",\"2019-11-18\",\"2019-11-19\",\"2019-11-20\",\"2019-11-21\",\"2019-11-22\",\"2019-11-23\",\"2019-11-24\",\"2019-11-25\",\"2019-11-26\",\"2019-11-27\",\"2019-11-28\",\"2019-11-29\",\"2019-11-30\",\"2019-12-01\",\"2019-12-02\",\"2019-12-03\",\"2019-12-04\",\"2019-12-05\",\"2019-12-06\",\"2019-12-07\",\"2019-12-08\",\"2019-12-09\",\"2019-12-10\",\"2019-12-11\",\"2019-12-12\",\"2019-12-13\",\"2019-12-14\",\"2019-12-15\",\"2019-12-16\",\"2019-12-17\",\"2019-12-18\",\"2019-12-19\",\"2019-12-20\",\"2019-12-21\",\"2019-12-22\",\"2019-12-23\",\"2019-12-24\",\"2019-12-25\",\"2019-12-26\",\"2019-12-27\",\"2019-12-28\",\"2019-12-29\",\"2019-12-30\",\"2019-12-31\",\"2020-01-01\",\"2020-01-02\",\"2020-01-03\",\"2020-01-04\",\"2020-01-05\",\"2020-01-06\",\"2020-01-07\",\"2020-01-08\",\"2020-01-09\",\"2020-01-10\",\"2020-01-11\",\"2020-01-12\",\"2020-01-13\",\"2020-01-14\",\"2020-01-15\",\"2020-01-16\",\"2020-01-17\",\"2020-01-18\",\"2020-01-19\",\"2020-01-20\",\"2020-01-21\",\"2020-01-22\",\"2020-01-23\",\"2020-01-24\",\"2020-01-25\",\"2020-01-26\",\"2020-01-27\",\"2020-01-28\",\"2020-01-29\",\"2020-01-30\",\"2020-01-31\",\"2020-02-01\",\"2020-02-02\",\"2020-02-03\",\"2020-02-04\",\"2020-02-05\",\"2020-02-06\",\"2020-02-07\",\"2020-02-08\",\"2020-02-09\",\"2020-02-10\",\"2020-02-11\",\"2020-02-12\",\"2020-02-13\",\"2020-02-14\",\"2020-02-15\",\"2020-02-16\",\"2020-02-17\",\"2020-02-18\",\"2020-02-19\",\"2020-02-20\",\"2020-02-21\",\"2020-02-22\",\"2020-02-23\",\"2020-02-24\",\"2020-02-25\",\"2020-02-26\",\"2020-02-27\",\"2020-02-28\",\"2020-02-29\",\"2020-03-01\",\"2020-03-02\",\"2020-03-03\",\"2020-03-04\",\"2020-03-05\",\"2020-03-06\",\"2020-03-07\",\"2020-03-08\",\"2020-03-09\",\"2020-03-10\",\"2020-03-11\",\"2020-03-12\",\"2020-03-13\",\"2020-03-14\",\"2020-03-15\",\"2020-03-16\",\"2020-03-17\",\"2020-03-18\",\"2020-03-19\",\"2020-03-20\",\"2020-03-21\",\"2020-03-22\",\"2020-03-23\",\"2020-03-24\",\"2020-03-25\",\"2020-03-26\",\"2020-03-27\",\"2020-03-28\",\"2020-03-29\",\"2020-03-30\",\"2020-03-31\",\"2020-04-01\",\"2020-04-02\",\"2020-04-03\",\"2020-04-04\",\"2020-04-05\",\"2020-04-06\",\"2020-04-07\",\"2020-04-08\",\"2020-04-09\",\"2020-04-10\",\"2020-04-11\",\"2020-04-12\",\"2020-04-13\",\"2020-04-14\",\"2020-04-15\",\"2020-04-16\",\"2020-04-17\",\"2020-04-18\",\"2020-04-19\",\"2020-04-20\",\"2020-04-21\",\"2020-04-22\",\"2020-04-23\",\"2020-04-24\",\"2020-04-25\",\"2020-04-26\",\"2020-04-27\",\"2020-04-28\",\"2020-04-29\",\"2020-04-30\",\"2020-05-01\",\"2020-05-02\",\"2020-05-03\",\"2020-05-04\",\"2020-05-05\",\"2020-05-06\",\"2020-05-07\",\"2020-05-08\",\"2020-05-09\",\"2020-05-10\",\"2020-05-11\",\"2020-05-12\",\"2020-05-13\",\"2020-05-14\",\"2020-05-15\",\"2020-05-16\",\"2020-05-17\",\"2020-05-18\",\"2020-05-19\",\"2020-05-20\",\"2020-05-21\",\"2020-05-22\",\"2020-05-23\",\"2020-05-24\",\"2020-05-25\",\"2020-05-26\",\"2020-05-27\",\"2020-05-28\",\"2020-05-29\",\"2020-05-30\",\"2020-05-31\",\"2020-06-01\",\"2020-06-02\",\"2020-06-03\",\"2020-06-04\",\"2020-06-05\",\"2020-06-06\",\"2020-06-07\",\"2020-06-08\",\"2020-06-09\",\"2020-06-10\",\"2020-06-11\",\"2020-06-12\",\"2020-06-13\",\"2020-06-14\",\"2020-06-15\",\"2020-06-16\",\"2020-06-17\",\"2020-06-18\",\"2020-06-19\",\"2020-06-20\",\"2020-06-21\",\"2020-06-22\",\"2020-06-23\",\"2020-06-24\",\"2020-06-25\",\"2020-06-26\",\"2020-06-27\",\"2020-06-28\",\"2020-06-29\",\"2020-06-30\",\"2020-07-01\",\"2020-07-02\",\"2020-07-03\",\"2020-07-04\",\"2020-07-05\",\"2020-07-06\",\"2020-07-07\",\"2020-07-08\",\"2020-07-09\",\"2020-07-10\",\"2020-07-11\",\"2020-07-12\",\"2020-07-13\",\"2020-07-14\",\"2020-07-15\",\"2020-07-16\",\"2020-07-17\",\"2020-07-18\",\"2020-07-19\",\"2020-07-20\",\"2020-07-21\",\"2020-07-22\",\"2020-07-23\",\"2020-07-24\",\"2020-07-25\",\"2020-07-26\",\"2020-07-27\",\"2020-07-28\",\"2020-07-29\",\"2020-07-30\",\"2020-07-31\",\"2020-08-01\",\"2020-08-02\",\"2020-08-03\",\"2020-08-04\",\"2020-08-05\",\"2020-08-06\",\"2020-08-07\",\"2020-08-08\",\"2020-08-09\",\"2020-08-10\",\"2020-08-11\",\"2020-08-12\",\"2020-08-13\",\"2020-08-14\",\"2020-08-15\",\"2020-08-16\",\"2020-08-17\",\"2020-08-18\",\"2020-08-19\",\"2020-08-20\",\"2020-08-21\",\"2020-08-22\",\"2020-08-23\",\"2020-08-24\",\"2020-08-25\",\"2020-08-26\",\"2020-08-27\",\"2020-08-28\",\"2020-08-29\",\"2020-08-30\",\"2020-08-31\",\"2020-09-01\",\"2020-09-02\",\"2020-09-03\",\"2020-09-04\",\"2020-09-05\",\"2020-09-06\",\"2020-09-07\",\"2020-09-08\",\"2020-09-09\",\"2020-09-10\",\"2020-09-11\",\"2020-09-12\",\"2020-09-13\",\"2020-09-14\",\"2020-09-15\",\"2020-09-16\",\"2020-09-17\",\"2020-09-18\",\"2020-09-19\",\"2020-09-20\",\"2020-09-21\",\"2020-09-22\",\"2020-09-23\",\"2020-09-24\",\"2020-09-25\",\"2020-09-26\",\"2020-09-27\",\"2020-09-28\",\"2020-09-29\",\"2020-09-30\",\"2020-10-01\",\"2020-10-02\",\"2020-10-03\",\"2020-10-04\",\"2020-10-05\",\"2020-10-06\",\"2020-10-07\",\"2020-10-08\",\"2020-10-09\",\"2020-10-10\",\"2020-10-11\",\"2020-10-12\",\"2020-10-13\",\"2020-10-14\",\"2020-10-15\",\"2020-10-16\",\"2020-10-17\",\"2020-10-18\",\"2020-10-19\",\"2020-10-20\",\"2020-10-21\",\"2020-10-22\",\"2020-10-23\",\"2020-10-24\",\"2020-10-25\",\"2020-10-26\",\"2020-10-27\",\"2020-10-28\",\"2020-10-29\",\"2020-10-30\",\"2020-10-31\",\"2020-11-01\",\"2020-11-02\",\"2020-11-03\",\"2020-11-04\",\"2020-11-05\",\"2020-11-06\",\"2020-11-07\",\"2020-11-08\",\"2020-11-09\",\"2020-11-10\",\"2020-11-11\",\"2020-11-12\",\"2020-11-13\",\"2020-11-14\",\"2020-11-15\",\"2020-11-16\",\"2020-11-17\",\"2020-11-18\",\"2020-11-19\",\"2020-11-20\",\"2020-11-21\",\"2020-11-22\",\"2020-11-23\",\"2020-12-20\",\"2020-12-21\",\"2020-12-22\",\"2020-12-23\",\"2020-12-24\",\"2020-12-25\",\"2020-12-26\",\"2020-12-27\",\"2020-12-28\",\"2020-12-29\",\"2020-12-30\",\"2020-12-31\",\"2021-01-01\",\"2021-01-02\",\"2021-01-03\",\"2021-01-04\",\"2021-01-05\",\"2021-01-06\",\"2021-01-07\",\"2021-01-08\",\"2021-01-09\",\"2021-01-10\",\"2021-01-11\",\"2021-01-12\",\"2021-01-13\",\"2021-01-14\",\"2021-01-15\",\"2021-01-16\",\"2021-01-17\",\"2021-01-18\",\"2021-01-19\",\"2021-01-20\",\"2021-01-21\",\"2021-01-22\",\"2021-01-23\",\"2021-01-24\",\"2021-01-25\",\"2021-01-26\",\"2021-01-27\",\"2021-01-28\",\"2021-01-29\",\"2021-01-30\",\"2021-01-31\",\"2021-02-01\",\"2021-02-02\",\"2021-02-03\",\"2021-02-04\",\"2021-02-05\",\"2021-02-06\",\"2021-02-07\",\"2021-02-08\",\"2021-02-09\",\"2021-02-10\",\"2021-02-11\",\"2021-02-12\",\"2021-02-13\",\"2021-02-14\",\"2021-02-15\",\"2021-02-16\",\"2021-02-17\",\"2021-02-18\",\"2021-02-19\",\"2021-02-20\",\"2021-02-21\",\"2021-02-22\",\"2021-02-23\",\"2021-02-24\",\"2021-02-25\",\"2021-02-26\",\"2021-02-27\",\"2021-02-28\",\"2021-03-01\",\"2021-03-02\",\"2021-03-03\",\"2021-03-04\",\"2021-03-05\",\"2021-03-06\",\"2021-03-07\",\"2021-03-08\",\"2021-03-09\",\"2021-03-10\",\"2021-03-11\",\"2021-03-12\",\"2021-03-13\",\"2021-03-14\",\"2021-03-15\",\"2021-03-16\",\"2021-03-17\",\"2021-03-18\",\"2021-03-19\",\"2021-03-20\",\"2021-03-21\",\"2021-03-22\",\"2021-03-23\",\"2021-03-24\",\"2021-03-25\",\"2021-03-26\",\"2021-03-27\",\"2021-03-28\",\"2021-03-29\",\"2021-03-30\",\"2021-03-31\",\"2021-04-01\",\"2021-04-02\",\"2021-04-03\",\"2021-04-04\",\"2021-04-05\",\"2021-04-06\",\"2021-04-07\",\"2021-04-08\",\"2021-04-09\",\"2021-04-10\",\"2021-04-11\",\"2021-04-12\",\"2021-04-13\",\"2021-04-14\",\"2021-04-15\",\"2021-04-16\",\"2021-04-17\",\"2021-04-18\",\"2021-04-19\",\"2021-04-20\",\"2021-04-21\",\"2021-04-22\",\"2021-04-23\",\"2021-04-24\",\"2021-04-25\",\"2021-04-26\",\"2021-04-27\",\"2021-04-28\",\"2021-04-29\",\"2021-04-30\",\"2021-05-01\",\"2021-05-02\",\"2021-05-03\",\"2021-05-04\",\"2021-05-05\",\"2021-05-06\",\"2021-05-07\",\"2021-05-08\",\"2021-05-09\",\"2021-05-10\",\"2021-05-11\",\"2021-05-12\",\"2021-05-13\",\"2021-05-14\",\"2021-05-15\",\"2021-05-16\",\"2021-05-17\",\"2021-05-18\",\"2021-05-19\",\"2021-05-20\",\"2021-05-21\",\"2021-05-22\",\"2021-05-23\",\"2021-05-24\",\"2021-05-25\",\"2021-05-26\",\"2021-05-27\",\"2021-05-28\",\"2021-05-29\",\"2021-05-30\",\"2021-05-31\",\"2021-06-01\",\"2021-06-02\",\"2021-06-03\",\"2021-06-04\",\"2021-06-05\",\"2021-06-06\",\"2021-06-07\",\"2021-06-08\",\"2021-06-09\",\"2021-06-10\",\"2021-06-11\",\"2021-06-12\",\"2021-06-13\",\"2021-06-14\",\"2021-06-15\",\"2021-06-16\",\"2021-06-17\",\"2021-06-18\",\"2021-06-19\",\"2021-06-20\",\"2021-06-21\",\"2021-06-22\",\"2021-06-23\",\"2021-06-24\",\"2021-06-25\",\"2021-06-26\",\"2021-06-27\",\"2021-06-28\",\"2021-06-29\",\"2021-06-30\",\"2021-07-01\",\"2021-07-02\",\"2021-07-03\",\"2021-07-04\",\"2021-07-05\",\"2021-07-06\",\"2021-07-07\",\"2021-07-08\",\"2021-07-09\",\"2021-07-10\",\"2021-07-11\",\"2021-07-12\",\"2021-07-13\",\"2021-07-14\",\"2021-07-15\",\"2021-07-16\",\"2021-07-17\",\"2021-07-18\",\"2021-07-19\",\"2021-07-20\",\"2021-07-21\",\"2021-07-22\",\"2021-07-23\",\"2021-07-24\",\"2021-07-25\",\"2021-07-26\",\"2021-07-27\",\"2021-07-28\",\"2021-07-29\",\"2021-07-30\",\"2021-07-31\",\"2021-08-01\",\"2021-08-02\",\"2021-08-03\",\"2021-08-04\",\"2021-08-05\",\"2021-08-06\",\"2021-08-07\",\"2021-08-08\",\"2021-08-09\",\"2021-08-10\",\"2021-08-11\",\"2021-08-12\",\"2021-08-13\",\"2021-08-14\",\"2021-08-15\",\"2021-08-16\",\"2021-08-17\",\"2021-08-18\",\"2021-08-19\",\"2021-08-20\",\"2021-08-21\",\"2021-08-22\",\"2021-08-23\",\"2021-08-24\",\"2021-08-25\",\"2021-08-26\",\"2021-08-27\",\"2021-08-28\",\"2021-08-29\",\"2021-08-30\",\"2021-08-31\",\"2021-09-01\",\"2021-09-02\",\"2021-09-03\",\"2021-09-04\",\"2021-09-05\",\"2021-09-06\",\"2021-09-07\",\"2021-09-08\",\"2021-09-09\",\"2021-09-10\",\"2021-09-11\",\"2021-09-12\",\"2021-09-13\",\"2021-09-14\",\"2021-09-15\",\"2021-09-16\",\"2021-09-17\",\"2021-09-18\",\"2021-09-19\",\"2021-09-20\",\"2021-09-21\",\"2021-09-22\",\"2021-09-23\",\"2021-09-24\",\"2021-09-25\",\"2021-09-26\",\"2021-09-27\",\"2021-09-28\",\"2021-09-29\",\"2021-09-30\",\"2021-10-01\",\"2021-10-02\",\"2021-10-03\",\"2021-10-04\",\"2021-10-05\",\"2021-10-06\",\"2021-10-07\",\"2021-10-08\",\"2021-10-09\",\"2021-10-10\",\"2021-10-11\",\"2021-10-12\",\"2021-10-13\",\"2021-10-14\",\"2021-10-15\",\"2021-10-16\",\"2021-10-17\",\"2021-10-18\",\"2021-10-19\",\"2021-10-20\",\"2021-10-21\",\"2021-10-22\",\"2021-10-23\",\"2021-10-24\",\"2021-10-25\",\"2021-10-26\",\"2021-10-27\",\"2021-10-28\",\"2021-10-29\",\"2021-10-30\",\"2021-10-31\",\"2021-11-01\",\"2021-11-02\",\"2021-11-03\",\"2021-11-04\",\"2021-11-05\",\"2021-11-06\",\"2021-11-07\",\"2021-11-08\",\"2021-11-09\",\"2021-11-10\",\"2021-11-11\",\"2021-11-12\",\"2021-11-13\",\"2021-11-14\",\"2021-11-15\",\"2021-11-16\",\"2021-11-17\",\"2021-11-18\",\"2021-11-19\",\"2021-11-20\",\"2021-11-21\",\"2021-11-22\",\"2021-11-23\",\"2021-11-24\",\"2021-11-25\",\"2021-11-26\",\"2021-11-27\",\"2021-11-28\",\"2021-11-29\",\"2021-11-30\",\"2021-12-01\",\"2021-12-02\",\"2021-12-03\",\"2021-12-04\",\"2021-12-05\",\"2021-12-06\",\"2021-12-07\",\"2021-12-08\",\"2021-12-09\",\"2021-12-10\",\"2021-12-11\",\"2021-12-12\",\"2021-12-13\",\"2021-12-14\",\"2021-12-15\",\"2021-12-16\",\"2021-12-17\",\"2021-12-18\",\"2021-12-19\",\"2021-12-20\",\"2021-12-21\",\"2021-12-22\",\"2021-12-23\",\"2021-12-24\",\"2021-12-25\",\"2021-12-26\",\"2021-12-27\",\"2021-12-28\",\"2021-12-29\",\"2021-12-30\",\"2021-12-31\",\"2022-01-01\",\"2022-01-02\",\"2022-01-03\",\"2022-01-04\",\"2022-01-05\",\"2022-01-06\",\"2022-01-07\",\"2022-01-08\",\"2022-01-09\",\"2022-01-10\",\"2022-01-11\",\"2022-01-12\",\"2022-01-13\",\"2022-01-14\",\"2022-01-15\",\"2022-01-16\",\"2022-01-17\",\"2022-01-18\",\"2022-01-19\",\"2022-01-20\",\"2022-01-21\",\"2022-01-22\",\"2022-01-23\",\"2022-01-24\",\"2022-01-25\",\"2022-01-26\",\"2022-01-27\",\"2022-01-28\",\"2022-01-29\",\"2022-01-30\",\"2022-01-31\",\"2022-02-01\",\"2022-02-02\",\"2022-02-03\",\"2022-02-04\",\"2022-02-05\",\"2022-02-06\",\"2022-02-07\",\"2022-02-08\",\"2022-02-09\",\"2022-02-10\",\"2022-02-11\",\"2022-02-12\",\"2022-02-13\",\"2022-02-14\",\"2022-02-15\",\"2022-02-16\",\"2022-02-17\",\"2022-02-18\",\"2022-02-19\",\"2022-02-20\",\"2022-02-21\",\"2022-02-22\",\"2022-02-23\",\"2022-02-24\",\"2022-02-25\",\"2022-02-26\",\"2022-02-27\",\"2022-02-28\",\"2022-03-01\"],\"y\":[977.13,1011.99,1019.79,1075.57,1042.09,933.27,868.9,913.6,893.05,902.34,845.15,782.39,806.78,827.27,816.91,827.84,875.76,885.05,893.05,895.42,917.53,922.45,920.0,906.93,894.38,905.69,917.09,918.26,916.74,916.86,940.22,970.64,992.53,1011.68,1017.62,1019.94,1020.65,1042.18,1053.36,1023.79,977.32,1007.35,1003.25,998.58,1005.8,1009.13,1026.37,1046.51,1061.2,1053.19,1057.07,1099.77,1122.28,1146.75,1184.59,1167.24,1164.33,1185.58,1192.16,1205.93,1239.35,1271.8,1268.73,1258.1,1274.2,1254.04,1197.2,1176.44,1200.87,1167.06,1196.31,1233.74,1243.45,1251.16,1219.76,1129.95,1033.62,1008.7,1033.59,1083.23,1053.23,1035.19,989.63,926.43,963.72,997.8,1042.64,1032.6,1033.06,1050.88,1077.06,1079.38,1125.86,1141.92,1129.77,1166.87,1189.13,1187.71,1193.59,1207.77,1213.16,1216.75,1187.89,1172.66,1177.96,1169.82,1171.96,1199.87,1200.89,1220.13,1240.98,1237.33,1235.35,1243.61,1264.45,1287.53,1312.73,1323.54,1329.45,1330.7,1375.73,1432.43,1470.2,1538.36,1555.47,1539.83,1542.04,1586.23,1702.96,1745.46,1824.51,1769.12,1705.42,1781.31,1731.61,1707.46,1771.61,1823.51,1924.73,1972.62,2021.18,2106.14,2189.92,2364.35,2550.45,2379.67,2092.34,2186.13,2236.04,2271.75,2251.63,2387.57,2427.88,2517.33,2523.38,2599.13,2831.84,2813.53,2751.84,2822.44,2852.34,2905.39,2800.27,2713.71,2650.01,2352.87,2448.06,2554.38,2564.84,2556.34,2659.16,2709.52,2678.67,2716.71,2654.91,2557.44,2461.98,2405.27,2531.7,2557.02,2522.14,2460.67,2443.44,2522.58,2595.29,2568.86,2592.92,2541.8,2515.19,2538.43,2453.32,2337.27,2341.89,2369.8,2277.67,2071.44,1936.81,2053.99,2278.17,2309.51,2488.65,2715.03,2777.43,2764.75,2751.82,2621.15,2495.71,2567.29,2735.17,2716.26,2673.54,2758.57,2766.45,2711.97,2741.89,2825.38,3149.32,3233.41,3305.13,3413.36,3338.49,3389.56,3500.12,3753.38,4018.18,4164.01,4161.58,4161.61,4340.51,4223.09,4050.89,4056.97,4019.24,3916.72,4136.35,4176.67,4353.23,4309.16,4338.23,4301.92,4460.96,4572.81,4666.09,4797.52,4678.62,4571.01,4355.34,4245.99,4524.09,4580.67,4477.63,4287.77,4176.22,4206.07,4249.44,3929.25,3618.51,3400.68,3690.34,3630.31,3936.11,3959.06,3934.22,3788.06,3623.17,3711.22,3692.94,3817.46,3912.66,4032.96,4186.16,4142.13,4268.35,4289.11,4392.91,4309.24,4247.24,4253.33,4357.18,4349.9,4492.8,4640.22,4808.71,4784.49,5109.89,5611.51,5662.48,5605.59,5669.71,5622.28,5397.3,5650.22,5784.01,6068.61,5905.1,5863.6,5653.73,5542.84,5822.86,5818.71,5747.52,5879.39,6118.04,6236.29,6497.93,6944.23,7233.64,7252.98,7452.22,7220.82,7097.11,7379.14,7237.9,6954.13,6548.96,6102.65,6337.38,6584.69,7039.87,7452.03,7819.32,7691.03,7821.72,8085.26,8151.17,8189.35,8170.71,8162.06,8423.06,8963.26,9547.8,9824.0,10386.86,9868.54,10179.36,10927.82,11278.33,11331.98,11643.65,12563.24,14747.12,15393.03,14774.27,14102.12,16176.8,16704.35,16513.87,16311.82,17341.22,18155.33,19167.36,18692.63,18294.05,16797.72,16188.97,13710.41,14727.43,13620.1,13938.13,15217.77,15552.0,14216.34,14506.49,13174.18,13313.41,13404.08,13855.03,14939.79,14793.34,15768.26,16648.18,16500.39,15274.91,14843.31,14169.09,13667.06,13639.61,14209.5,13663.33,13806.47,12132.46,10649.47,11469.52,11492.97,12455.01,11877.4,11112.26,10704.5,10992.94,11287.39,10997.98,11225.59,11660.95,11272.04,10613.97,9971.16,9482.29,8538.15,8897.51,8708.3,7592.16,6804.67,7896.67,8203.53,8249.35,8644.47,8177.31,8613.8,8600.79,9016.58,9791.13,10015.7,10668.41,10725.31,10855.03,11486.79,10778.21,10260.98,10001.96,9921.73,9587.01,9901.11,10544.87,10612.69,10642.48,10972.41,11337.9,11236.24,11515.43,11014.24,10389.1,9693.86,8893.48,9227.67,9047.98,9426.35,9144.77,8760.11,8102.05,8306.56,8073.3,7669.66,8345.72,8615.72,8976.9,8787.62,8524.19,8852.79,8530.2,8202.53,7958.84,7911.05,7511.07,6877.64,6998.71,6790.58,6972.26,7320.0,7072.82,6752.36,6645.08,6888.03,6985.02,6886.94,6775.02,6876.05,7329.21,7985.54,8004.79,8210.23,8073.75,8030.85,8051.89,8207.86,8439.54,8793.7,8882.28,8889.63,9307.46,9211.64,8875.4,9211.04,9233.6,9349.82,9284.59,8983.13,9107.59,9373.16,9650.1,9823.49,9610.0,9337.87,9255.06,9188.04,9259.55,8694.6,8416.18,8544.86,8574.29,8634.6,8275.0,8271.24,8099.82,8249.35,8356.51,8449.83,8227.35,7777.13,7531.59,7480.64,7485.76,7312.37,7249.78,7287.53,7428.07,7496.16,7476.96,7593.6,7686.78,7570.87,7487.67,7602.82,7689.09,7625.47,7627.32,7127.33,6755.24,6749.02,6436.52,6495.37,6546.27,6459.13,6506.42,6519.32,6714.67,6677.77,6733.71,6354.62,6132.59,6020.29,6199.05,6197.97,6092.22,6078.77,5899.3,6359.49,6346.4,6449.21,6593.26,6567.3,6576.76,6538.49,6570.78,6736.55,6702.96,6476.93,6351.28,6216.06,6233.79,6234.04,6316.36,6517.62,6873.57,7397.68,7386.27,7416.34,7344.67,7444.25,7675.16,8065.65,8249.32,8193.29,8018.23,8177.76,8200.38,8130.51,7911.32,7566.37,7587.23,7390.81,7245.56,6992.79,6985.01,6983.78,6440.49,6391.11,6390.96,6185.07,6301.38,6343.24,6052.39,6365.15,6341.27,6463.71,6443.75,6395.94,6442.72,6397.27,6575.85,6431.64,6549.54,6711.7,6668.08,6710.95,6984.56,7047.08,6926.8,6977.63,7103.16,7237.27,7258.01,7320.08,7122.75,6418.01,6440.9,6358.44,6287.66,6285.5,6288.04,6266.75,6438.62,6498.14,6517.75,6482.73,6395.85,6294.1,6334.62,6410.0,6655.22,6703.76,6705.77,6636.81,6410.85,6459.92,6519.0,6663.03,6538.03,6576.33,6573.51,6540.42,6445.89,6546.18,6543.64,6555.47,6532.82,6585.83,6587.03,6516.24,6210.83,6200.45,6195.69,6224.92,6365.18,6436.34,6437.77,6426.56,6384.74,6396.23,6433.15,6404.63,6394.88,6424.46,6399.88,6400.12,6406.69,6402.27,6328.9,6263.75,6276.52,6310.03,6351.28,6333.65,6363.7,6404.08,6412.08,6505.99,6448.6,6364.96,6353.94,6338.85,6350.02,6288.94,6015.42,5490.1,5528.93,5484.23,5533.19,5198.41,4523.67,4442.18,4466.01,4245.02,4200.94,3751.06,3846.1,3699.49,4053.98,4221.21,4072.24,4076.06,4117.92,3922.53,3902.54,3800.65,3692.09,3356.69,3382.47,3466.32,3467.06,3364.04,3395.86,3359.24,3232.39,3179.04,3216.2,3331.07,3506.65,3745.51,3918.76,3968.57,3849.76,3976.24,4122.44,3770.33,3777.53,3715.95,3698.76,3871.84,3786.36,3755.9,3699.22,3821.67,3829.04,3783.71,3833.3,3873.0,4021.29,4004.71,4009.54,3793.6,3635.27,3625.85,3579.59,3578.69,3640.56,3602.31,3601.79,3614.86,3670.91,3606.49,3535.03,3550.65,3568.7,3553.25,3556.43,3570.81,3545.01,3436.65,3397.74,3422.29,3424.12,3415.6,3431.3,3424.9,3413.67,3418.86,3370.96,3365.98,3450.16,3614.2,3607.52,3594.37,3576.96,3581.44,3568.43,3569.77,3587.0,3584.77,3754.14,3899.01,3909.68,3905.81,3924.43,3979.02,3987.75,3791.43,3799.09,3794.35,3809.22,3812.66,3804.74,3801.0,3724.11,3764.7,3837.99,3860.47,3871.06,3889.24,3892.56,3863.91,3846.58,3852.93,3849.55,3876.77,3977.61,3962.64,3968.69,3976.35,3994.64,4005.21,3981.1,3980.3,3968.05,3949.06,3907.86,3993.1,4008.55,4056.65,4083.22,4088.04,4124.72,4642.49,5033.39,4968.15,4978.64,5040.23,5125.94,5238.49,5219.04,5267.98,5126.5,5045.74,5083.43,5077.75,5120.49,5096.93,5217.22,5262.54,5257.81,5312.1,5287.38,5316.0,5529.71,5484.67,5421.3,5146.78,5164.09,5168.87,5153.43,5197.82,5302.6,5359.64,5614.45,5691.63,5719.64,5654.07,5860.81,5841.42,6044.54,6287.07,6799.56,7145.64,7399.5,7982.17,8047.17,7985.66,7252.18,7320.74,7926.16,7898.75,7946.88,7885.12,7697.92,7978.92,8041.55,8120.53,8776.54,8721.66,8642.61,8625.84,8344.55,8538.85,8664.84,8526.3,7843.04,7767.09,7746.67,7934.83,7937.55,7796.42,7815.9,7893.71,8033.05,8166.57,8349.4,8723.82,9088.53,9230.02,9147.12,9143.8,9348.75,9795.59,10713.97,10738.7,10838.26,11306.07,12620.82,11778.7,11661.43,11838.54,11528.91,10674.45,10291.0,11331.61,11749.24,11129.96,11408.36,11304.47,11786.66,12503.73,12636.02,11570.18,11576.55,11421.45,10849.32,10405.63,10343.1,9565.21,10041.4,10462.7,10673.13,10571.94,10443.95,10064.6,9696.13,10016.97,9770.66,9725.54,9481.27,9535.5,9536.43,9851.37,10079.9,10469.43,10779.63,10815.57,11666.49,11748.28,11703.0,11794.54,11813.22,11576.19,11373.89,11391.21,11132.35,10432.2,10002.97,10223.28,10291.68,10287.58,10609.98,10747.1,10185.85,10038.38,10257.44,10150.57,10093.81,10338.16,10167.97,10037.74,9512.66,9528.27,9588.32,9620.14,9940.84,10515.27,10556.61,10558.29,10650.75,10417.03,10453.92,10294.72,10215.94,10057.37,10213.47,10310.27,10335.52,10312.03,10247.11,10211.98,10190.34,9983.64,10169.01,10034.3,9973.35,9871.6,9413.99,8439.53,8243.3,8032.45,8152.92,8068.97,8065.98,8355.3,8252.02,8239.96,8142.37,8104.43,7975.88,8035.41,8205.32,8333.4,8556.05,8393.24,8330.15,8354.88,8304.32,8260.11,8060.68,8029.05,7958.92,7956.25,8015.55,8218.81,8196.07,7740.95,7446.01,7872.98,9303.44,9402.77,9467.36,9376.08,9186.69,9166.84,9149.41,9276.5,9214.13,9250.92,9338.22,9332.31,9234.45,8976.9,8808.55,8888.44,8792.06,8729.34,8743.22,8650.45,8534.15,8466.71,8510.33,8374.01,8110.42,8093.95,7843.4,7333.64,7237.27,7140.46,6953.34,7134.68,7245.36,7517.17,7606.33,7650.63,7348.65,7304.9,7314.77,7270.67,7323.31,7400.05,7528.85,7492.73,7457.3,7296.41,7207.22,7168.46,7223.3,7161.13,7086.42,7029.23,6786.04,6764.27,7142.78,7146.79,7145.78,7223.14,7498.73,7291.58,7207.96,7217.22,7188.05,7295.74,7342.54,7295.13,7196.09,7193.55,7069.47,7213.34,7319.0,7427.37,7529.51,7923.7,8228.58,7893.95,7882.19,8108.98,8107.99,8098.95,8567.11,8737.06,8668.65,8846.01,8886.83,8841.62,8640.27,8642.03,8662.16,8431.59,8379.0,8316.9,8425.08,8717.22,9034.49,9324.0,9363.69,9335.81,9367.21,9370.84,9323.9,9196.95,9396.03,9681.62,9770.34,9807.83,10075.08,9915.56,9950.87,10337.04,10277.62,10254.92,10137.22,9898.21,9711.72,9838.01,10091.23,9574.5,9683.28,9656.53,9864.79,9727.53,9482.9,9025.07,8788.21,8690.84,8681.16,8551.67,8741.71,8785.27,8756.33,9014.44,9093.67,9049.82,8564.31,7873.72,7941.67,7844.28,6650.32,5270.73,5401.66,5293.56,4976.63,5306.0,5279.77,5751.6,6350.51,6162.7,6133.19,6097.94,6645.33,6655.25,6667.62,6687.39,6222.49,6103.0,6267.79,6447.82,6304.13,6717.68,6808.74,6768.84,6793.67,7084.89,7312.63,7297.62,7301.44,6972.14,6869.35,6945.05,6747.38,6881.1,6798.9,6907.12,7069.13,7150.27,7165.53,7048.56,6864.72,6997.97,7290.11,7518.44,7542.4,7597.42,7711.8,7727.88,8237.07,8883.34,8777.94,8868.8,8974.41,8766.72,8925.46,9156.55,9482.85,9918.36,9721.37,8676.72,8696.15,8767.65,9039.38,9569.0,9515.65,9398.3,9619.26,9715.17,9664.02,9666.41,9273.8,9120.78,9203.67,9119.36,8814.68,8855.31,9023.14,9315.41,9450.18,9502.87,9543.06,9579.19,9873.24,9547.38,9695.04,9737.92,9633.29,9617.36,9722.43,9708.81,9784.49,9638.67,9407.56,9424.53,9402.1,9239.85,9490.46,9439.8,9403.16,9323.13,9298.58,9346.67,9477.75,9635.46,9437.38,9227.78,9177.53,9104.36,9052.87,9113.37,9148.55,9188.67,9163.9,9091.8,9089.77,9062.04,9210.04,9267.2,9342.98,9327.1,9197.71,9237.4,9247.99,9275.99,9217.37,9219.57,9129.79,9132.57,9160.32,9153.39,9175.91,9304.85,9363.73,9538.31,9554.72,9616.5,9829.96,10425.47,10976.6,11089.74,11028.75,11190.75,11602.82,11324.16,11249.21,11238.32,11459.2,11750.17,11710.93,11681.0,11668.89,11893.21,11625.81,11457.72,11545.33,11750.28,11872.22,11846.76,12048.36,12157.75,11790.63,11794.62,11739.19,11556.27,11618.43,11730.21,11503.37,11398.5,11340.49,11437.47,11503.74,11605.02,11680.13,11869.1,11570.52,11030.95,10383.2,10261.22,10196.52,10154.99,10141.73,10183.67,10334.29,10299.22,10370.28,10392.27,10506.72,10768.98,10890.0,10888.52,10921.7,11009.11,10912.65,10672.11,10464.35,10428.86,10439.43,10667.69,10713.93,10714.94,10875.7,10726.3,10738.17,10752.18,10524.6,10547.48,10603.18,10702.49,10696.53,10618.11,10730.64,10979.06,11333.11,11357.57,11443.11,11447.12,11402.65,11411.16,11361.34,11341.38,11428.76,11578.75,11840.57,12450.21,12926.05,12928.92,13025.84,13051.61,13062.4,13356.65,13436.55,13323.49,13428.59,13731.98,13763.82,13591.17,13605.76,13891.11,14718.77,15571.52,15336.2,15193.33,15371.67,15320.13,15586.32,15918.54,16283.59,16023.78,15991.49,16364.52,17073.58,17867.87,17831.93,18325.11,18701.22,18420.85,18399.1,23645.45,23239.01,23080.53,23510.53,23202.67,24000.62,25250.06,27016.13,26942.88,26651.52,28117.59,28857.99,29271.41,30723.94,33425.66,31807.24,32230.93,34862.61,38015.81,39745.85,40357.89,39678.69,34180.65,34786.43,34629.7,38470.91,37425.11,36810.02,35621.95,36020.07,36833.16,35121.01,32904.71,31818.58,32326.46,32205.4,33321.93,31963.61,31112.27,31762.66,34986.57,34019.21,33427.33,33678.04,34686.43,36548.06,37509.66,37607.49,39785.72,38686.94,41144.18,46634.66,45758.33,46232.03,47567.99,47247.56,48569.03,47829.99,48807.64,50876.06,51867.9,53049.17,56233.96,57010.13,54637.41,48861.96,49742.4,49937.38,46594.55,47098.9,44778.85,47603.92,48583.88,50392.53,49354.35,47679.18,48349.32,50190.5,50767.42,53947.84,55332.21,56230.64,56788.93,58757.4,60428.18,57462.95,55297.9,56118.45,58437.67,58251.44,58754.08,57285.75,56752.56,54667.34,55091.22,52078.32,53210.56,55167.96,55811.16,56881.69,58323.2,58672.22,58849.54,59247.2,58914.96,57708.67,58073.14,58437.65,56938.51,57160.09,58190.3,59829.06,59756.06,60066.94,62140.93,63440.11,62891.49,61723.04,61306.91,55996.92,56373.09,55491.49,55412.25,53747.9,49812.75,50045.56,49621.98,52998.9,54575.61,54769.86,53862.8,55272.16,57786.72,56846.9,57901.49,55255.9,55870.79,56943.03,56798.01,58525.31,57968.43,57719.34,55841.43,55884.06,49773.67,50162.63,48810.29,47669.16,44241.37,44146.16,38971.29,39784.19,39039.09,37458.46,34980.51,36971.72,38041.37,39228.64,38782.64,36570.36,35221.08,35463.25,36136.34,36552.66,37262.08,38513.65,37068.57,36567.26,35948.79,35866.66,32854.89,34844.47,36978.09,36982.68,35703.81,36372.09,39652.33,40195.9,39394.12,38585.59,36968.68,35736.82,35041.07,33094.67,31962.17,33723.52,33728.17,33342.64,31458.68,33033.13,34455.04,35540.37,34909.37,33707.75,33275.98,34298.33,35274.58,34087.03,34144.73,34548.73,32881.77,33163.95,33698.54,33792.15,33684.32,32839.71,32475.55,32083.84,31740.98,31551.37,31764.23,31166.38,29819.5,31178.17,32124.41,32480.79,33868.04,34379.06,38276.4,37666.07,39843.24,39846.19,39616.25,41627.17,41463.88,39582.2,38434.54,38688.75,39404.03,41339.33,43540.54,44327.66,44877.19,45580.04,46072.55,44909.52,46195.4,47107.11,46428.02,46904.49,45942.52,45125.76,45197.71,47759.24,49033.76,48893.31,49873.96,48893.1,48248.51,47328.87,47726.47,48893.86,48656.38,48072.88,47287.9,47668.19,49648.91,49890.26,50067.16,50353.77,51778.31,49930.0,46269.98,46405.02,45903.02,45364.32,45632.32,44782.94,46038.05,47575.85,47884.22,47567.38,48230.1,47722.2,44593.11,42402.03,42549.98,44082.53,43103.38,42582.89,42785.04,43508.55,41916.27,41810.14,43245.91,46042.94,47834.76,48017.43,48143.23,50061.98,52896.33,54339.08,54438.18,54731.26,55144.68,56692.93,56601.42,56024.24,57622.67,59850.63,61256.96,60824.33,61761.29,62706.62,64937.46,64284.58,62148.4,61072.41,60692.79,62594.22,62283.0,59479.51,60217.04,61552.45,61605.04,61098.42,61265.28,62524.95,62832.02,61835.32,61512.31,60975.48,62124.47,65775.5,67507.76,66829.53,64908.26,64154.97,64035.51,64466.57,65085.05,60767.16,59852.07,58969.17,57199.82,58698.81,59157.88,57345.87,56891.16,56739.8,58258.37,55644.42,54668.86,54610.67,57589.31,57330.32,57376.82,56682.21,55847.49,48986.8,49109.21,48819.82,51000.66,50307.1,49054.05,48227.86,48468.96,49580.33,48180.82,47187.0,48110.85,48577.89,47056.87,46621.52,47186.03,46416.81,48409.41,48978.66,49086.35,51046.88,50848.9,50162.09,51071.91,48845.92,47568.87,47089.18,47275.01,47113.06,47240.53,46811.23,46414.37,45854.17,43074.94,41970.95,41696.8,41896.23,41593.23,42196.39,43191.11,43422.37,42751.58,43140.61,43106.03,42539.01,41932.71,41907.08,42200.76,38626.52,35476.98,35419.7,35072.71,36498.49,37490.94,36346.15,37044.38,37829.95,37959.88,37561.35,38563.42,38044.45,36807.93,38665.62,41528.85,41613.01,43112.77,43862.9,43942.42,44331.78,43168.36,42334.31,42345.49,42232.02,43890.31,44004.22,42637.47,40403.71,40075.36,38749.8,38481.23,37402.46,38214.88,36102.12,38818.37,39221.63,38701.27,39391.1,43243.34],\"type\":\"scatter\"}],                        {\"template\":{\"data\":{\"barpolar\":[{\"marker\":{\"line\":{\"color\":\"#E5ECF6\",\"width\":0.5},\"pattern\":{\"fillmode\":\"overlay\",\"size\":10,\"solidity\":0.2}},\"type\":\"barpolar\"}],\"bar\":[{\"error_x\":{\"color\":\"#2a3f5f\"},\"error_y\":{\"color\":\"#2a3f5f\"},\"marker\":{\"line\":{\"color\":\"#E5ECF6\",\"width\":0.5},\"pattern\":{\"fillmode\":\"overlay\",\"size\":10,\"solidity\":0.2}},\"type\":\"bar\"}],\"carpet\":[{\"aaxis\":{\"endlinecolor\":\"#2a3f5f\",\"gridcolor\":\"white\",\"linecolor\":\"white\",\"minorgridcolor\":\"white\",\"startlinecolor\":\"#2a3f5f\"},\"baxis\":{\"endlinecolor\":\"#2a3f5f\",\"gridcolor\":\"white\",\"linecolor\":\"white\",\"minorgridcolor\":\"white\",\"startlinecolor\":\"#2a3f5f\"},\"type\":\"carpet\"}],\"choropleth\":[{\"colorbar\":{\"outlinewidth\":0,\"ticks\":\"\"},\"type\":\"choropleth\"}],\"contourcarpet\":[{\"colorbar\":{\"outlinewidth\":0,\"ticks\":\"\"},\"type\":\"contourcarpet\"}],\"contour\":[{\"colorbar\":{\"outlinewidth\":0,\"ticks\":\"\"},\"colorscale\":[[0.0,\"#0d0887\"],[0.1111111111111111,\"#46039f\"],[0.2222222222222222,\"#7201a8\"],[0.3333333333333333,\"#9c179e\"],[0.4444444444444444,\"#bd3786\"],[0.5555555555555556,\"#d8576b\"],[0.6666666666666666,\"#ed7953\"],[0.7777777777777778,\"#fb9f3a\"],[0.8888888888888888,\"#fdca26\"],[1.0,\"#f0f921\"]],\"type\":\"contour\"}],\"heatmapgl\":[{\"colorbar\":{\"outlinewidth\":0,\"ticks\":\"\"},\"colorscale\":[[0.0,\"#0d0887\"],[0.1111111111111111,\"#46039f\"],[0.2222222222222222,\"#7201a8\"],[0.3333333333333333,\"#9c179e\"],[0.4444444444444444,\"#bd3786\"],[0.5555555555555556,\"#d8576b\"],[0.6666666666666666,\"#ed7953\"],[0.7777777777777778,\"#fb9f3a\"],[0.8888888888888888,\"#fdca26\"],[1.0,\"#f0f921\"]],\"type\":\"heatmapgl\"}],\"heatmap\":[{\"colorbar\":{\"outlinewidth\":0,\"ticks\":\"\"},\"colorscale\":[[0.0,\"#0d0887\"],[0.1111111111111111,\"#46039f\"],[0.2222222222222222,\"#7201a8\"],[0.3333333333333333,\"#9c179e\"],[0.4444444444444444,\"#bd3786\"],[0.5555555555555556,\"#d8576b\"],[0.6666666666666666,\"#ed7953\"],[0.7777777777777778,\"#fb9f3a\"],[0.8888888888888888,\"#fdca26\"],[1.0,\"#f0f921\"]],\"type\":\"heatmap\"}],\"histogram2dcontour\":[{\"colorbar\":{\"outlinewidth\":0,\"ticks\":\"\"},\"colorscale\":[[0.0,\"#0d0887\"],[0.1111111111111111,\"#46039f\"],[0.2222222222222222,\"#7201a8\"],[0.3333333333333333,\"#9c179e\"],[0.4444444444444444,\"#bd3786\"],[0.5555555555555556,\"#d8576b\"],[0.6666666666666666,\"#ed7953\"],[0.7777777777777778,\"#fb9f3a\"],[0.8888888888888888,\"#fdca26\"],[1.0,\"#f0f921\"]],\"type\":\"histogram2dcontour\"}],\"histogram2d\":[{\"colorbar\":{\"outlinewidth\":0,\"ticks\":\"\"},\"colorscale\":[[0.0,\"#0d0887\"],[0.1111111111111111,\"#46039f\"],[0.2222222222222222,\"#7201a8\"],[0.3333333333333333,\"#9c179e\"],[0.4444444444444444,\"#bd3786\"],[0.5555555555555556,\"#d8576b\"],[0.6666666666666666,\"#ed7953\"],[0.7777777777777778,\"#fb9f3a\"],[0.8888888888888888,\"#fdca26\"],[1.0,\"#f0f921\"]],\"type\":\"histogram2d\"}],\"histogram\":[{\"marker\":{\"pattern\":{\"fillmode\":\"overlay\",\"size\":10,\"solidity\":0.2}},\"type\":\"histogram\"}],\"mesh3d\":[{\"colorbar\":{\"outlinewidth\":0,\"ticks\":\"\"},\"type\":\"mesh3d\"}],\"parcoords\":[{\"line\":{\"colorbar\":{\"outlinewidth\":0,\"ticks\":\"\"}},\"type\":\"parcoords\"}],\"pie\":[{\"automargin\":true,\"type\":\"pie\"}],\"scatter3d\":[{\"line\":{\"colorbar\":{\"outlinewidth\":0,\"ticks\":\"\"}},\"marker\":{\"colorbar\":{\"outlinewidth\":0,\"ticks\":\"\"}},\"type\":\"scatter3d\"}],\"scattercarpet\":[{\"marker\":{\"colorbar\":{\"outlinewidth\":0,\"ticks\":\"\"}},\"type\":\"scattercarpet\"}],\"scattergeo\":[{\"marker\":{\"colorbar\":{\"outlinewidth\":0,\"ticks\":\"\"}},\"type\":\"scattergeo\"}],\"scattergl\":[{\"marker\":{\"colorbar\":{\"outlinewidth\":0,\"ticks\":\"\"}},\"type\":\"scattergl\"}],\"scattermapbox\":[{\"marker\":{\"colorbar\":{\"outlinewidth\":0,\"ticks\":\"\"}},\"type\":\"scattermapbox\"}],\"scatterpolargl\":[{\"marker\":{\"colorbar\":{\"outlinewidth\":0,\"ticks\":\"\"}},\"type\":\"scatterpolargl\"}],\"scatterpolar\":[{\"marker\":{\"colorbar\":{\"outlinewidth\":0,\"ticks\":\"\"}},\"type\":\"scatterpolar\"}],\"scatter\":[{\"fillpattern\":{\"fillmode\":\"overlay\",\"size\":10,\"solidity\":0.2},\"type\":\"scatter\"}],\"scatterternary\":[{\"marker\":{\"colorbar\":{\"outlinewidth\":0,\"ticks\":\"\"}},\"type\":\"scatterternary\"}],\"surface\":[{\"colorbar\":{\"outlinewidth\":0,\"ticks\":\"\"},\"colorscale\":[[0.0,\"#0d0887\"],[0.1111111111111111,\"#46039f\"],[0.2222222222222222,\"#7201a8\"],[0.3333333333333333,\"#9c179e\"],[0.4444444444444444,\"#bd3786\"],[0.5555555555555556,\"#d8576b\"],[0.6666666666666666,\"#ed7953\"],[0.7777777777777778,\"#fb9f3a\"],[0.8888888888888888,\"#fdca26\"],[1.0,\"#f0f921\"]],\"type\":\"surface\"}],\"table\":[{\"cells\":{\"fill\":{\"color\":\"#EBF0F8\"},\"line\":{\"color\":\"white\"}},\"header\":{\"fill\":{\"color\":\"#C8D4E3\"},\"line\":{\"color\":\"white\"}},\"type\":\"table\"}]},\"layout\":{\"annotationdefaults\":{\"arrowcolor\":\"#2a3f5f\",\"arrowhead\":0,\"arrowwidth\":1},\"autotypenumbers\":\"strict\",\"coloraxis\":{\"colorbar\":{\"outlinewidth\":0,\"ticks\":\"\"}},\"colorscale\":{\"diverging\":[[0,\"#8e0152\"],[0.1,\"#c51b7d\"],[0.2,\"#de77ae\"],[0.3,\"#f1b6da\"],[0.4,\"#fde0ef\"],[0.5,\"#f7f7f7\"],[0.6,\"#e6f5d0\"],[0.7,\"#b8e186\"],[0.8,\"#7fbc41\"],[0.9,\"#4d9221\"],[1,\"#276419\"]],\"sequential\":[[0.0,\"#0d0887\"],[0.1111111111111111,\"#46039f\"],[0.2222222222222222,\"#7201a8\"],[0.3333333333333333,\"#9c179e\"],[0.4444444444444444,\"#bd3786\"],[0.5555555555555556,\"#d8576b\"],[0.6666666666666666,\"#ed7953\"],[0.7777777777777778,\"#fb9f3a\"],[0.8888888888888888,\"#fdca26\"],[1.0,\"#f0f921\"]],\"sequentialminus\":[[0.0,\"#0d0887\"],[0.1111111111111111,\"#46039f\"],[0.2222222222222222,\"#7201a8\"],[0.3333333333333333,\"#9c179e\"],[0.4444444444444444,\"#bd3786\"],[0.5555555555555556,\"#d8576b\"],[0.6666666666666666,\"#ed7953\"],[0.7777777777777778,\"#fb9f3a\"],[0.8888888888888888,\"#fdca26\"],[1.0,\"#f0f921\"]]},\"colorway\":[\"#636efa\",\"#EF553B\",\"#00cc96\",\"#ab63fa\",\"#FFA15A\",\"#19d3f3\",\"#FF6692\",\"#B6E880\",\"#FF97FF\",\"#FECB52\"],\"font\":{\"color\":\"#2a3f5f\"},\"geo\":{\"bgcolor\":\"white\",\"lakecolor\":\"white\",\"landcolor\":\"#E5ECF6\",\"showlakes\":true,\"showland\":true,\"subunitcolor\":\"white\"},\"hoverlabel\":{\"align\":\"left\"},\"hovermode\":\"closest\",\"mapbox\":{\"style\":\"light\"},\"paper_bgcolor\":\"white\",\"plot_bgcolor\":\"#E5ECF6\",\"polar\":{\"angularaxis\":{\"gridcolor\":\"white\",\"linecolor\":\"white\",\"ticks\":\"\"},\"bgcolor\":\"#E5ECF6\",\"radialaxis\":{\"gridcolor\":\"white\",\"linecolor\":\"white\",\"ticks\":\"\"}},\"scene\":{\"xaxis\":{\"backgroundcolor\":\"#E5ECF6\",\"gridcolor\":\"white\",\"gridwidth\":2,\"linecolor\":\"white\",\"showbackground\":true,\"ticks\":\"\",\"zerolinecolor\":\"white\"},\"yaxis\":{\"backgroundcolor\":\"#E5ECF6\",\"gridcolor\":\"white\",\"gridwidth\":2,\"linecolor\":\"white\",\"showbackground\":true,\"ticks\":\"\",\"zerolinecolor\":\"white\"},\"zaxis\":{\"backgroundcolor\":\"#E5ECF6\",\"gridcolor\":\"white\",\"gridwidth\":2,\"linecolor\":\"white\",\"showbackground\":true,\"ticks\":\"\",\"zerolinecolor\":\"white\"}},\"shapedefaults\":{\"line\":{\"color\":\"#2a3f5f\"}},\"ternary\":{\"aaxis\":{\"gridcolor\":\"white\",\"linecolor\":\"white\",\"ticks\":\"\"},\"baxis\":{\"gridcolor\":\"white\",\"linecolor\":\"white\",\"ticks\":\"\"},\"bgcolor\":\"#E5ECF6\",\"caxis\":{\"gridcolor\":\"white\",\"linecolor\":\"white\",\"ticks\":\"\"}},\"title\":{\"x\":0.05},\"xaxis\":{\"automargin\":true,\"gridcolor\":\"white\",\"linecolor\":\"white\",\"ticks\":\"\",\"title\":{\"standoff\":15},\"zerolinecolor\":\"white\",\"zerolinewidth\":2},\"yaxis\":{\"automargin\":true,\"gridcolor\":\"white\",\"linecolor\":\"white\",\"ticks\":\"\",\"title\":{\"standoff\":15},\"zerolinecolor\":\"white\",\"zerolinewidth\":2}}},\"title\":{\"text\":\"Historical Bitcoin Prices (2017 - 2021) with the Slider \"},\"xaxis\":{\"rangeselector\":{\"buttons\":[{\"count\":1,\"label\":\"1m\",\"step\":\"month\",\"stepmode\":\"backward\"},{\"count\":6,\"label\":\"6m\",\"step\":\"month\",\"stepmode\":\"backward\"},{\"count\":12,\"label\":\"1y\",\"step\":\"month\",\"stepmode\":\"backward\"},{\"count\":36,\"label\":\"3y\",\"step\":\"month\",\"stepmode\":\"backward\"},{\"step\":\"all\"}]},\"rangeslider\":{\"visible\":true},\"type\":\"date\"}},                        {\"responsive\": true}                    ).then(function(){\n",
              "                            \n",
              "var gd = document.getElementById('1779e3b7-69bc-4904-9b30-cb99faa13dbf');\n",
              "var x = new MutationObserver(function (mutations, observer) {{\n",
              "        var display = window.getComputedStyle(gd).display;\n",
              "        if (!display || display === 'none') {{\n",
              "            console.log([gd, 'removed!']);\n",
              "            Plotly.purge(gd);\n",
              "            observer.disconnect();\n",
              "        }}\n",
              "}});\n",
              "\n",
              "// Listen for the removal of the full notebook cells\n",
              "var notebookContainer = gd.closest('#notebook-container');\n",
              "if (notebookContainer) {{\n",
              "    x.observe(notebookContainer, {childList: true});\n",
              "}}\n",
              "\n",
              "// Listen for the clearing of the current output cell\n",
              "var outputEl = gd.closest('.output');\n",
              "if (outputEl) {{\n",
              "    x.observe(outputEl, {childList: true});\n",
              "}}\n",
              "\n",
              "                        })                };                            </script>        </div>\n",
              "</body>\n",
              "</html>"
            ]
          },
          "metadata": {}
        }
      ]
    },
    {
      "cell_type": "markdown",
      "source": [
        "Lets visualize Historical Bitcoin Market Volume (2015-2018)"
      ],
      "metadata": {
        "id": "Z2H27hwNgKV8"
      }
    },
    {
      "cell_type": "code",
      "source": [
        "trace1 = go.Scatter(\n",
        "    x = mean_df_pandas['date'],\n",
        "    y = mean_df_pandas['mean_volume_usd'].astype(float),\n",
        "    mode = 'lines',\n",
        "    name = 'Bitcoin Price (Open)'\n",
        ")\n",
        "\n",
        "layout = dict(\n",
        "    title='Historical Bitcoin Volume (USD) (2017-2021) with the slider',\n",
        "    xaxis=dict(\n",
        "        rangeselector=dict(\n",
        "            buttons=list([\n",
        "                dict(count=1,\n",
        "                     label='1m',\n",
        "                     step='month',\n",
        "                     stepmode='backward'),\n",
        "                dict(count=6,\n",
        "                     label='6m',\n",
        "                     step='month',\n",
        "                     stepmode='backward'),\n",
        "                dict(count=12,\n",
        "                     label='1y',\n",
        "                     step='month',\n",
        "                     stepmode='backward'),\n",
        "                dict(count=36,\n",
        "                     label='3y',\n",
        "                     step='month',\n",
        "                     stepmode='backward'),\n",
        "                dict(step='all')\n",
        "            ])\n",
        "        ),\n",
        "        rangeslider=dict(\n",
        "            visible = True\n",
        "        ),\n",
        "        type='date'\n",
        "    )\n",
        ")\n",
        "\n",
        "data = [trace1]\n",
        "fig = dict(data=data, layout=layout)\n",
        "iplot(fig, filename = \"Time Series with Rangeslider\")"
      ],
      "metadata": {
        "colab": {
          "base_uri": "https://localhost:8080/",
          "height": 542
        },
        "id": "Jabv_iZ4gKl6",
        "outputId": "c300090a-ccd3-4793-9d18-be6aa109a6bd"
      },
      "execution_count": 31,
      "outputs": [
        {
          "output_type": "display_data",
          "data": {
            "text/html": [
              "<html>\n",
              "<head><meta charset=\"utf-8\" /></head>\n",
              "<body>\n",
              "    <div>            <script src=\"https://cdnjs.cloudflare.com/ajax/libs/mathjax/2.7.5/MathJax.js?config=TeX-AMS-MML_SVG\"></script><script type=\"text/javascript\">if (window.MathJax && window.MathJax.Hub && window.MathJax.Hub.Config) {window.MathJax.Hub.Config({SVG: {font: \"STIX-Web\"}});}</script>                <script type=\"text/javascript\">window.PlotlyConfig = {MathJaxConfig: 'local'};</script>\n",
              "        <script src=\"https://cdn.plot.ly/plotly-2.18.2.min.js\"></script>                <div id=\"cc221ebb-c7d0-4c4b-ba8c-a10dcb01af2c\" class=\"plotly-graph-div\" style=\"height:525px; width:100%;\"></div>            <script type=\"text/javascript\">                                    window.PLOTLYENV=window.PLOTLYENV || {};                                    if (document.getElementById(\"cc221ebb-c7d0-4c4b-ba8c-a10dcb01af2c\")) {                    Plotly.newPlot(                        \"cc221ebb-c7d0-4c4b-ba8c-a10dcb01af2c\",                        [{\"mode\":\"lines\",\"name\":\"Bitcoin Price (Open)\",\"x\":[\"2017-01-01\",\"2017-01-02\",\"2017-01-03\",\"2017-01-04\",\"2017-01-05\",\"2017-01-06\",\"2017-01-07\",\"2017-01-08\",\"2017-01-09\",\"2017-01-10\",\"2017-01-11\",\"2017-01-12\",\"2017-01-13\",\"2017-01-14\",\"2017-01-15\",\"2017-01-16\",\"2017-01-17\",\"2017-01-18\",\"2017-01-19\",\"2017-01-20\",\"2017-01-21\",\"2017-01-22\",\"2017-01-23\",\"2017-01-24\",\"2017-01-25\",\"2017-01-26\",\"2017-01-27\",\"2017-01-28\",\"2017-01-29\",\"2017-01-30\",\"2017-01-31\",\"2017-02-01\",\"2017-02-02\",\"2017-02-03\",\"2017-02-04\",\"2017-02-05\",\"2017-02-06\",\"2017-02-07\",\"2017-02-08\",\"2017-02-09\",\"2017-02-10\",\"2017-02-11\",\"2017-02-12\",\"2017-02-13\",\"2017-02-14\",\"2017-02-15\",\"2017-02-16\",\"2017-02-17\",\"2017-02-18\",\"2017-02-19\",\"2017-02-20\",\"2017-02-21\",\"2017-02-22\",\"2017-02-23\",\"2017-02-24\",\"2017-02-25\",\"2017-02-26\",\"2017-02-27\",\"2017-02-28\",\"2017-03-01\",\"2017-03-02\",\"2017-03-03\",\"2017-03-04\",\"2017-03-05\",\"2017-03-06\",\"2017-03-07\",\"2017-03-08\",\"2017-03-09\",\"2017-03-10\",\"2017-03-11\",\"2017-03-12\",\"2017-03-13\",\"2017-03-14\",\"2017-03-15\",\"2017-03-16\",\"2017-03-17\",\"2017-03-18\",\"2017-03-19\",\"2017-03-20\",\"2017-03-21\",\"2017-03-22\",\"2017-03-23\",\"2017-03-24\",\"2017-03-25\",\"2017-03-26\",\"2017-03-27\",\"2017-03-28\",\"2017-03-29\",\"2017-03-30\",\"2017-03-31\",\"2017-04-01\",\"2017-04-02\",\"2017-04-03\",\"2017-04-04\",\"2017-04-05\",\"2017-04-06\",\"2017-04-07\",\"2017-04-08\",\"2017-04-09\",\"2017-04-10\",\"2017-04-11\",\"2017-04-12\",\"2017-04-13\",\"2017-04-14\",\"2017-04-15\",\"2017-04-16\",\"2017-04-17\",\"2017-04-18\",\"2017-04-19\",\"2017-04-20\",\"2017-04-21\",\"2017-04-22\",\"2017-04-23\",\"2017-04-24\",\"2017-04-25\",\"2017-04-26\",\"2017-04-27\",\"2017-04-28\",\"2017-04-29\",\"2017-04-30\",\"2017-05-01\",\"2017-05-02\",\"2017-05-03\",\"2017-05-04\",\"2017-05-05\",\"2017-05-06\",\"2017-05-07\",\"2017-05-08\",\"2017-05-09\",\"2017-05-10\",\"2017-05-11\",\"2017-05-12\",\"2017-05-13\",\"2017-05-14\",\"2017-05-15\",\"2017-05-16\",\"2017-05-17\",\"2017-05-18\",\"2017-05-19\",\"2017-05-20\",\"2017-05-21\",\"2017-05-22\",\"2017-05-23\",\"2017-05-24\",\"2017-05-25\",\"2017-05-26\",\"2017-05-27\",\"2017-05-28\",\"2017-05-29\",\"2017-05-30\",\"2017-05-31\",\"2017-06-01\",\"2017-06-02\",\"2017-06-03\",\"2017-06-04\",\"2017-06-05\",\"2017-06-06\",\"2017-06-07\",\"2017-06-08\",\"2017-06-09\",\"2017-06-10\",\"2017-06-11\",\"2017-06-12\",\"2017-06-13\",\"2017-06-14\",\"2017-06-15\",\"2017-06-16\",\"2017-06-17\",\"2017-06-18\",\"2017-06-19\",\"2017-06-20\",\"2017-06-21\",\"2017-06-22\",\"2017-06-23\",\"2017-06-24\",\"2017-06-25\",\"2017-06-26\",\"2017-06-27\",\"2017-06-28\",\"2017-06-29\",\"2017-06-30\",\"2017-07-01\",\"2017-07-02\",\"2017-07-03\",\"2017-07-04\",\"2017-07-05\",\"2017-07-06\",\"2017-07-07\",\"2017-07-08\",\"2017-07-09\",\"2017-07-10\",\"2017-07-11\",\"2017-07-12\",\"2017-07-13\",\"2017-07-14\",\"2017-07-15\",\"2017-07-16\",\"2017-07-17\",\"2017-07-18\",\"2017-07-19\",\"2017-07-20\",\"2017-07-21\",\"2017-07-22\",\"2017-07-23\",\"2017-07-24\",\"2017-07-25\",\"2017-07-26\",\"2017-07-27\",\"2017-07-28\",\"2017-07-29\",\"2017-07-30\",\"2017-07-31\",\"2017-08-01\",\"2017-08-02\",\"2017-08-03\",\"2017-08-04\",\"2017-08-05\",\"2017-08-06\",\"2017-08-07\",\"2017-08-08\",\"2017-08-09\",\"2017-08-10\",\"2017-08-11\",\"2017-08-12\",\"2017-08-13\",\"2017-08-14\",\"2017-08-15\",\"2017-08-16\",\"2017-08-17\",\"2017-08-18\",\"2017-08-19\",\"2017-08-20\",\"2017-08-21\",\"2017-08-22\",\"2017-08-23\",\"2017-08-24\",\"2017-08-25\",\"2017-08-26\",\"2017-08-27\",\"2017-08-28\",\"2017-08-29\",\"2017-08-30\",\"2017-08-31\",\"2017-09-01\",\"2017-09-02\",\"2017-09-03\",\"2017-09-04\",\"2017-09-05\",\"2017-09-06\",\"2017-09-07\",\"2017-09-08\",\"2017-09-09\",\"2017-09-10\",\"2017-09-11\",\"2017-09-12\",\"2017-09-13\",\"2017-09-14\",\"2017-09-15\",\"2017-09-16\",\"2017-09-17\",\"2017-09-18\",\"2017-09-19\",\"2017-09-20\",\"2017-09-21\",\"2017-09-22\",\"2017-09-23\",\"2017-09-24\",\"2017-09-25\",\"2017-09-26\",\"2017-09-27\",\"2017-09-28\",\"2017-09-29\",\"2017-09-30\",\"2017-10-01\",\"2017-10-02\",\"2017-10-03\",\"2017-10-04\",\"2017-10-05\",\"2017-10-06\",\"2017-10-07\",\"2017-10-08\",\"2017-10-09\",\"2017-10-10\",\"2017-10-11\",\"2017-10-12\",\"2017-10-13\",\"2017-10-14\",\"2017-10-15\",\"2017-10-16\",\"2017-10-17\",\"2017-10-18\",\"2017-10-19\",\"2017-10-20\",\"2017-10-21\",\"2017-10-22\",\"2017-10-23\",\"2017-10-24\",\"2017-10-25\",\"2017-10-26\",\"2017-10-27\",\"2017-10-28\",\"2017-10-29\",\"2017-10-30\",\"2017-10-31\",\"2017-11-01\",\"2017-11-02\",\"2017-11-03\",\"2017-11-04\",\"2017-11-05\",\"2017-11-06\",\"2017-11-07\",\"2017-11-08\",\"2017-11-09\",\"2017-11-10\",\"2017-11-11\",\"2017-11-12\",\"2017-11-13\",\"2017-11-14\",\"2017-11-15\",\"2017-11-16\",\"2017-11-17\",\"2017-11-18\",\"2017-11-19\",\"2017-11-20\",\"2017-11-21\",\"2017-11-22\",\"2017-11-23\",\"2017-11-24\",\"2017-11-25\",\"2017-11-26\",\"2017-11-27\",\"2017-11-28\",\"2017-11-29\",\"2017-11-30\",\"2017-12-01\",\"2017-12-02\",\"2017-12-03\",\"2017-12-04\",\"2017-12-05\",\"2017-12-06\",\"2017-12-07\",\"2017-12-08\",\"2017-12-09\",\"2017-12-10\",\"2017-12-11\",\"2017-12-12\",\"2017-12-13\",\"2017-12-14\",\"2017-12-15\",\"2017-12-16\",\"2017-12-17\",\"2017-12-18\",\"2017-12-19\",\"2017-12-20\",\"2017-12-21\",\"2017-12-22\",\"2017-12-23\",\"2017-12-24\",\"2017-12-25\",\"2017-12-26\",\"2017-12-27\",\"2017-12-28\",\"2017-12-29\",\"2017-12-30\",\"2017-12-31\",\"2018-01-01\",\"2018-01-02\",\"2018-01-03\",\"2018-01-04\",\"2018-01-05\",\"2018-01-06\",\"2018-01-07\",\"2018-01-08\",\"2018-01-09\",\"2018-01-10\",\"2018-01-11\",\"2018-01-12\",\"2018-01-13\",\"2018-01-14\",\"2018-01-15\",\"2018-01-16\",\"2018-01-17\",\"2018-01-18\",\"2018-01-19\",\"2018-01-20\",\"2018-01-21\",\"2018-01-22\",\"2018-01-23\",\"2018-01-24\",\"2018-01-25\",\"2018-01-26\",\"2018-01-27\",\"2018-01-28\",\"2018-01-29\",\"2018-01-30\",\"2018-01-31\",\"2018-02-01\",\"2018-02-02\",\"2018-02-03\",\"2018-02-04\",\"2018-02-05\",\"2018-02-06\",\"2018-02-07\",\"2018-02-08\",\"2018-02-09\",\"2018-02-10\",\"2018-02-11\",\"2018-02-12\",\"2018-02-13\",\"2018-02-14\",\"2018-02-15\",\"2018-02-16\",\"2018-02-17\",\"2018-02-18\",\"2018-02-19\",\"2018-02-20\",\"2018-02-21\",\"2018-02-22\",\"2018-02-23\",\"2018-02-24\",\"2018-02-25\",\"2018-02-26\",\"2018-02-27\",\"2018-02-28\",\"2018-03-01\",\"2018-03-02\",\"2018-03-03\",\"2018-03-04\",\"2018-03-05\",\"2018-03-06\",\"2018-03-07\",\"2018-03-08\",\"2018-03-09\",\"2018-03-10\",\"2018-03-11\",\"2018-03-12\",\"2018-03-13\",\"2018-03-14\",\"2018-03-15\",\"2018-03-16\",\"2018-03-17\",\"2018-03-18\",\"2018-03-19\",\"2018-03-20\",\"2018-03-21\",\"2018-03-22\",\"2018-03-23\",\"2018-03-24\",\"2018-03-25\",\"2018-03-26\",\"2018-03-27\",\"2018-03-28\",\"2018-03-29\",\"2018-03-30\",\"2018-03-31\",\"2018-04-01\",\"2018-04-02\",\"2018-04-03\",\"2018-04-04\",\"2018-04-05\",\"2018-04-06\",\"2018-04-07\",\"2018-04-08\",\"2018-04-09\",\"2018-04-10\",\"2018-04-11\",\"2018-04-12\",\"2018-04-13\",\"2018-04-14\",\"2018-04-15\",\"2018-04-16\",\"2018-04-17\",\"2018-04-18\",\"2018-04-19\",\"2018-04-20\",\"2018-04-21\",\"2018-04-22\",\"2018-04-23\",\"2018-04-24\",\"2018-04-25\",\"2018-04-26\",\"2018-04-27\",\"2018-04-28\",\"2018-04-29\",\"2018-04-30\",\"2018-05-01\",\"2018-05-02\",\"2018-05-03\",\"2018-05-04\",\"2018-05-05\",\"2018-05-06\",\"2018-05-07\",\"2018-05-08\",\"2018-05-09\",\"2018-05-10\",\"2018-05-11\",\"2018-05-12\",\"2018-05-13\",\"2018-05-14\",\"2018-05-15\",\"2018-05-16\",\"2018-05-17\",\"2018-05-18\",\"2018-05-19\",\"2018-05-20\",\"2018-05-21\",\"2018-05-22\",\"2018-05-23\",\"2018-05-24\",\"2018-05-25\",\"2018-05-26\",\"2018-05-27\",\"2018-05-28\",\"2018-05-29\",\"2018-05-30\",\"2018-05-31\",\"2018-06-01\",\"2018-06-02\",\"2018-06-03\",\"2018-06-04\",\"2018-06-05\",\"2018-06-06\",\"2018-06-07\",\"2018-06-08\",\"2018-06-09\",\"2018-06-10\",\"2018-06-11\",\"2018-06-12\",\"2018-06-13\",\"2018-06-14\",\"2018-06-15\",\"2018-06-16\",\"2018-06-17\",\"2018-06-18\",\"2018-06-19\",\"2018-06-20\",\"2018-06-21\",\"2018-06-22\",\"2018-06-23\",\"2018-06-24\",\"2018-06-25\",\"2018-06-26\",\"2018-06-27\",\"2018-06-28\",\"2018-06-29\",\"2018-06-30\",\"2018-07-01\",\"2018-07-02\",\"2018-07-03\",\"2018-07-04\",\"2018-07-05\",\"2018-07-06\",\"2018-07-07\",\"2018-07-08\",\"2018-07-09\",\"2018-07-10\",\"2018-07-11\",\"2018-07-12\",\"2018-07-13\",\"2018-07-14\",\"2018-07-15\",\"2018-07-16\",\"2018-07-17\",\"2018-07-18\",\"2018-07-19\",\"2018-07-20\",\"2018-07-21\",\"2018-07-22\",\"2018-07-23\",\"2018-07-24\",\"2018-07-25\",\"2018-07-26\",\"2018-07-27\",\"2018-07-28\",\"2018-07-29\",\"2018-07-30\",\"2018-07-31\",\"2018-08-01\",\"2018-08-02\",\"2018-08-03\",\"2018-08-04\",\"2018-08-05\",\"2018-08-06\",\"2018-08-07\",\"2018-08-08\",\"2018-08-09\",\"2018-08-10\",\"2018-08-11\",\"2018-08-12\",\"2018-08-13\",\"2018-08-14\",\"2018-08-15\",\"2018-08-16\",\"2018-08-17\",\"2018-08-18\",\"2018-08-19\",\"2018-08-20\",\"2018-08-21\",\"2018-08-22\",\"2018-08-23\",\"2018-08-24\",\"2018-08-25\",\"2018-08-26\",\"2018-08-27\",\"2018-08-28\",\"2018-08-29\",\"2018-08-30\",\"2018-08-31\",\"2018-09-01\",\"2018-09-02\",\"2018-09-03\",\"2018-09-04\",\"2018-09-05\",\"2018-09-06\",\"2018-09-07\",\"2018-09-08\",\"2018-09-09\",\"2018-09-10\",\"2018-09-11\",\"2018-09-12\",\"2018-09-13\",\"2018-09-14\",\"2018-09-15\",\"2018-09-16\",\"2018-09-17\",\"2018-09-18\",\"2018-09-19\",\"2018-09-20\",\"2018-09-21\",\"2018-09-22\",\"2018-09-23\",\"2018-09-24\",\"2018-09-25\",\"2018-09-26\",\"2018-09-27\",\"2018-09-28\",\"2018-09-29\",\"2018-09-30\",\"2018-10-01\",\"2018-10-02\",\"2018-10-03\",\"2018-10-04\",\"2018-10-05\",\"2018-10-06\",\"2018-10-07\",\"2018-10-08\",\"2018-10-09\",\"2018-10-10\",\"2018-10-11\",\"2018-10-12\",\"2018-10-13\",\"2018-10-14\",\"2018-10-15\",\"2018-10-16\",\"2018-10-17\",\"2018-10-18\",\"2018-10-19\",\"2018-10-20\",\"2018-10-21\",\"2018-10-22\",\"2018-10-23\",\"2018-10-24\",\"2018-10-25\",\"2018-10-26\",\"2018-10-27\",\"2018-10-28\",\"2018-10-29\",\"2018-10-30\",\"2018-10-31\",\"2018-11-01\",\"2018-11-02\",\"2018-11-03\",\"2018-11-04\",\"2018-11-05\",\"2018-11-06\",\"2018-11-07\",\"2018-11-08\",\"2018-11-09\",\"2018-11-10\",\"2018-11-11\",\"2018-11-12\",\"2018-11-13\",\"2018-11-14\",\"2018-11-15\",\"2018-11-16\",\"2018-11-17\",\"2018-11-18\",\"2018-11-19\",\"2018-11-20\",\"2018-11-21\",\"2018-11-22\",\"2018-11-23\",\"2018-11-24\",\"2018-11-25\",\"2018-11-26\",\"2018-11-27\",\"2018-11-28\",\"2018-11-29\",\"2018-11-30\",\"2018-12-01\",\"2018-12-02\",\"2018-12-03\",\"2018-12-04\",\"2018-12-05\",\"2018-12-06\",\"2018-12-07\",\"2018-12-08\",\"2018-12-09\",\"2018-12-10\",\"2018-12-11\",\"2018-12-12\",\"2018-12-13\",\"2018-12-14\",\"2018-12-15\",\"2018-12-16\",\"2018-12-17\",\"2018-12-18\",\"2018-12-19\",\"2018-12-20\",\"2018-12-21\",\"2018-12-22\",\"2018-12-23\",\"2018-12-24\",\"2018-12-25\",\"2018-12-26\",\"2018-12-27\",\"2018-12-28\",\"2018-12-29\",\"2018-12-30\",\"2018-12-31\",\"2019-01-01\",\"2019-01-02\",\"2019-01-03\",\"2019-01-04\",\"2019-01-05\",\"2019-01-06\",\"2019-01-07\",\"2019-01-08\",\"2019-01-09\",\"2019-01-10\",\"2019-01-11\",\"2019-01-12\",\"2019-01-13\",\"2019-01-14\",\"2019-01-15\",\"2019-01-16\",\"2019-01-17\",\"2019-01-18\",\"2019-01-19\",\"2019-01-20\",\"2019-01-21\",\"2019-01-22\",\"2019-01-23\",\"2019-01-24\",\"2019-01-25\",\"2019-01-26\",\"2019-01-27\",\"2019-01-28\",\"2019-01-29\",\"2019-01-30\",\"2019-01-31\",\"2019-02-01\",\"2019-02-02\",\"2019-02-03\",\"2019-02-04\",\"2019-02-05\",\"2019-02-06\",\"2019-02-07\",\"2019-02-08\",\"2019-02-09\",\"2019-02-10\",\"2019-02-11\",\"2019-02-12\",\"2019-02-13\",\"2019-02-14\",\"2019-02-15\",\"2019-02-16\",\"2019-02-17\",\"2019-02-18\",\"2019-02-19\",\"2019-02-20\",\"2019-02-21\",\"2019-02-22\",\"2019-02-23\",\"2019-02-24\",\"2019-02-25\",\"2019-02-26\",\"2019-02-27\",\"2019-02-28\",\"2019-03-01\",\"2019-03-02\",\"2019-03-03\",\"2019-03-04\",\"2019-03-05\",\"2019-03-06\",\"2019-03-07\",\"2019-03-08\",\"2019-03-09\",\"2019-03-10\",\"2019-03-11\",\"2019-03-12\",\"2019-03-13\",\"2019-03-14\",\"2019-03-15\",\"2019-03-16\",\"2019-03-17\",\"2019-03-18\",\"2019-03-19\",\"2019-03-20\",\"2019-03-21\",\"2019-03-22\",\"2019-03-23\",\"2019-03-24\",\"2019-03-25\",\"2019-03-26\",\"2019-03-27\",\"2019-03-28\",\"2019-03-29\",\"2019-03-30\",\"2019-03-31\",\"2019-04-01\",\"2019-04-02\",\"2019-04-03\",\"2019-04-04\",\"2019-04-05\",\"2019-04-06\",\"2019-04-07\",\"2019-04-08\",\"2019-04-09\",\"2019-04-10\",\"2019-04-11\",\"2019-04-12\",\"2019-04-13\",\"2019-04-14\",\"2019-04-15\",\"2019-04-16\",\"2019-04-17\",\"2019-04-18\",\"2019-04-19\",\"2019-04-20\",\"2019-04-21\",\"2019-04-22\",\"2019-04-23\",\"2019-04-24\",\"2019-04-25\",\"2019-04-26\",\"2019-04-27\",\"2019-04-28\",\"2019-04-29\",\"2019-04-30\",\"2019-05-01\",\"2019-05-02\",\"2019-05-03\",\"2019-05-04\",\"2019-05-05\",\"2019-05-06\",\"2019-05-07\",\"2019-05-08\",\"2019-05-09\",\"2019-05-10\",\"2019-05-11\",\"2019-05-12\",\"2019-05-13\",\"2019-05-14\",\"2019-05-15\",\"2019-05-16\",\"2019-05-17\",\"2019-05-18\",\"2019-05-19\",\"2019-05-20\",\"2019-05-21\",\"2019-05-22\",\"2019-05-23\",\"2019-05-24\",\"2019-05-25\",\"2019-05-26\",\"2019-05-27\",\"2019-05-28\",\"2019-05-29\",\"2019-05-30\",\"2019-05-31\",\"2019-06-01\",\"2019-06-02\",\"2019-06-03\",\"2019-06-04\",\"2019-06-05\",\"2019-06-06\",\"2019-06-07\",\"2019-06-08\",\"2019-06-09\",\"2019-06-10\",\"2019-06-11\",\"2019-06-12\",\"2019-06-13\",\"2019-06-14\",\"2019-06-15\",\"2019-06-16\",\"2019-06-17\",\"2019-06-18\",\"2019-06-19\",\"2019-06-20\",\"2019-06-21\",\"2019-06-22\",\"2019-06-23\",\"2019-06-24\",\"2019-06-25\",\"2019-06-26\",\"2019-06-27\",\"2019-06-28\",\"2019-06-29\",\"2019-06-30\",\"2019-07-01\",\"2019-07-02\",\"2019-07-03\",\"2019-07-04\",\"2019-07-05\",\"2019-07-06\",\"2019-07-07\",\"2019-07-08\",\"2019-07-09\",\"2019-07-10\",\"2019-07-11\",\"2019-07-12\",\"2019-07-13\",\"2019-07-14\",\"2019-07-15\",\"2019-07-16\",\"2019-07-17\",\"2019-07-18\",\"2019-07-19\",\"2019-07-20\",\"2019-07-21\",\"2019-07-22\",\"2019-07-23\",\"2019-07-24\",\"2019-07-25\",\"2019-07-26\",\"2019-07-27\",\"2019-07-28\",\"2019-07-29\",\"2019-07-30\",\"2019-07-31\",\"2019-08-01\",\"2019-08-02\",\"2019-08-03\",\"2019-08-04\",\"2019-08-05\",\"2019-08-06\",\"2019-08-07\",\"2019-08-08\",\"2019-08-09\",\"2019-08-10\",\"2019-08-11\",\"2019-08-12\",\"2019-08-13\",\"2019-08-14\",\"2019-08-15\",\"2019-08-16\",\"2019-08-17\",\"2019-08-18\",\"2019-08-19\",\"2019-08-20\",\"2019-08-21\",\"2019-08-22\",\"2019-08-23\",\"2019-08-24\",\"2019-08-25\",\"2019-08-26\",\"2019-08-27\",\"2019-08-28\",\"2019-08-29\",\"2019-08-30\",\"2019-08-31\",\"2019-09-01\",\"2019-09-02\",\"2019-09-03\",\"2019-09-04\",\"2019-09-05\",\"2019-09-06\",\"2019-09-07\",\"2019-09-08\",\"2019-09-09\",\"2019-09-10\",\"2019-09-11\",\"2019-09-12\",\"2019-09-13\",\"2019-09-14\",\"2019-09-15\",\"2019-09-16\",\"2019-09-17\",\"2019-09-18\",\"2019-09-19\",\"2019-09-20\",\"2019-09-21\",\"2019-09-22\",\"2019-09-23\",\"2019-09-24\",\"2019-09-25\",\"2019-09-26\",\"2019-09-27\",\"2019-09-28\",\"2019-09-29\",\"2019-09-30\",\"2019-10-01\",\"2019-10-02\",\"2019-10-03\",\"2019-10-04\",\"2019-10-05\",\"2019-10-06\",\"2019-10-07\",\"2019-10-08\",\"2019-10-09\",\"2019-10-10\",\"2019-10-11\",\"2019-10-12\",\"2019-10-13\",\"2019-10-14\",\"2019-10-15\",\"2019-10-16\",\"2019-10-17\",\"2019-10-18\",\"2019-10-19\",\"2019-10-20\",\"2019-10-21\",\"2019-10-22\",\"2019-10-23\",\"2019-10-24\",\"2019-10-25\",\"2019-10-26\",\"2019-10-27\",\"2019-10-28\",\"2019-10-29\",\"2019-10-30\",\"2019-10-31\",\"2019-11-01\",\"2019-11-02\",\"2019-11-03\",\"2019-11-04\",\"2019-11-05\",\"2019-11-06\",\"2019-11-07\",\"2019-11-08\",\"2019-11-09\",\"2019-11-10\",\"2019-11-11\",\"2019-11-12\",\"2019-11-13\",\"2019-11-14\",\"2019-11-15\",\"2019-11-16\",\"2019-11-17\",\"2019-11-18\",\"2019-11-19\",\"2019-11-20\",\"2019-11-21\",\"2019-11-22\",\"2019-11-23\",\"2019-11-24\",\"2019-11-25\",\"2019-11-26\",\"2019-11-27\",\"2019-11-28\",\"2019-11-29\",\"2019-11-30\",\"2019-12-01\",\"2019-12-02\",\"2019-12-03\",\"2019-12-04\",\"2019-12-05\",\"2019-12-06\",\"2019-12-07\",\"2019-12-08\",\"2019-12-09\",\"2019-12-10\",\"2019-12-11\",\"2019-12-12\",\"2019-12-13\",\"2019-12-14\",\"2019-12-15\",\"2019-12-16\",\"2019-12-17\",\"2019-12-18\",\"2019-12-19\",\"2019-12-20\",\"2019-12-21\",\"2019-12-22\",\"2019-12-23\",\"2019-12-24\",\"2019-12-25\",\"2019-12-26\",\"2019-12-27\",\"2019-12-28\",\"2019-12-29\",\"2019-12-30\",\"2019-12-31\",\"2020-01-01\",\"2020-01-02\",\"2020-01-03\",\"2020-01-04\",\"2020-01-05\",\"2020-01-06\",\"2020-01-07\",\"2020-01-08\",\"2020-01-09\",\"2020-01-10\",\"2020-01-11\",\"2020-01-12\",\"2020-01-13\",\"2020-01-14\",\"2020-01-15\",\"2020-01-16\",\"2020-01-17\",\"2020-01-18\",\"2020-01-19\",\"2020-01-20\",\"2020-01-21\",\"2020-01-22\",\"2020-01-23\",\"2020-01-24\",\"2020-01-25\",\"2020-01-26\",\"2020-01-27\",\"2020-01-28\",\"2020-01-29\",\"2020-01-30\",\"2020-01-31\",\"2020-02-01\",\"2020-02-02\",\"2020-02-03\",\"2020-02-04\",\"2020-02-05\",\"2020-02-06\",\"2020-02-07\",\"2020-02-08\",\"2020-02-09\",\"2020-02-10\",\"2020-02-11\",\"2020-02-12\",\"2020-02-13\",\"2020-02-14\",\"2020-02-15\",\"2020-02-16\",\"2020-02-17\",\"2020-02-18\",\"2020-02-19\",\"2020-02-20\",\"2020-02-21\",\"2020-02-22\",\"2020-02-23\",\"2020-02-24\",\"2020-02-25\",\"2020-02-26\",\"2020-02-27\",\"2020-02-28\",\"2020-02-29\",\"2020-03-01\",\"2020-03-02\",\"2020-03-03\",\"2020-03-04\",\"2020-03-05\",\"2020-03-06\",\"2020-03-07\",\"2020-03-08\",\"2020-03-09\",\"2020-03-10\",\"2020-03-11\",\"2020-03-12\",\"2020-03-13\",\"2020-03-14\",\"2020-03-15\",\"2020-03-16\",\"2020-03-17\",\"2020-03-18\",\"2020-03-19\",\"2020-03-20\",\"2020-03-21\",\"2020-03-22\",\"2020-03-23\",\"2020-03-24\",\"2020-03-25\",\"2020-03-26\",\"2020-03-27\",\"2020-03-28\",\"2020-03-29\",\"2020-03-30\",\"2020-03-31\",\"2020-04-01\",\"2020-04-02\",\"2020-04-03\",\"2020-04-04\",\"2020-04-05\",\"2020-04-06\",\"2020-04-07\",\"2020-04-08\",\"2020-04-09\",\"2020-04-10\",\"2020-04-11\",\"2020-04-12\",\"2020-04-13\",\"2020-04-14\",\"2020-04-15\",\"2020-04-16\",\"2020-04-17\",\"2020-04-18\",\"2020-04-19\",\"2020-04-20\",\"2020-04-21\",\"2020-04-22\",\"2020-04-23\",\"2020-04-24\",\"2020-04-25\",\"2020-04-26\",\"2020-04-27\",\"2020-04-28\",\"2020-04-29\",\"2020-04-30\",\"2020-05-01\",\"2020-05-02\",\"2020-05-03\",\"2020-05-04\",\"2020-05-05\",\"2020-05-06\",\"2020-05-07\",\"2020-05-08\",\"2020-05-09\",\"2020-05-10\",\"2020-05-11\",\"2020-05-12\",\"2020-05-13\",\"2020-05-14\",\"2020-05-15\",\"2020-05-16\",\"2020-05-17\",\"2020-05-18\",\"2020-05-19\",\"2020-05-20\",\"2020-05-21\",\"2020-05-22\",\"2020-05-23\",\"2020-05-24\",\"2020-05-25\",\"2020-05-26\",\"2020-05-27\",\"2020-05-28\",\"2020-05-29\",\"2020-05-30\",\"2020-05-31\",\"2020-06-01\",\"2020-06-02\",\"2020-06-03\",\"2020-06-04\",\"2020-06-05\",\"2020-06-06\",\"2020-06-07\",\"2020-06-08\",\"2020-06-09\",\"2020-06-10\",\"2020-06-11\",\"2020-06-12\",\"2020-06-13\",\"2020-06-14\",\"2020-06-15\",\"2020-06-16\",\"2020-06-17\",\"2020-06-18\",\"2020-06-19\",\"2020-06-20\",\"2020-06-21\",\"2020-06-22\",\"2020-06-23\",\"2020-06-24\",\"2020-06-25\",\"2020-06-26\",\"2020-06-27\",\"2020-06-28\",\"2020-06-29\",\"2020-06-30\",\"2020-07-01\",\"2020-07-02\",\"2020-07-03\",\"2020-07-04\",\"2020-07-05\",\"2020-07-06\",\"2020-07-07\",\"2020-07-08\",\"2020-07-09\",\"2020-07-10\",\"2020-07-11\",\"2020-07-12\",\"2020-07-13\",\"2020-07-14\",\"2020-07-15\",\"2020-07-16\",\"2020-07-17\",\"2020-07-18\",\"2020-07-19\",\"2020-07-20\",\"2020-07-21\",\"2020-07-22\",\"2020-07-23\",\"2020-07-24\",\"2020-07-25\",\"2020-07-26\",\"2020-07-27\",\"2020-07-28\",\"2020-07-29\",\"2020-07-30\",\"2020-07-31\",\"2020-08-01\",\"2020-08-02\",\"2020-08-03\",\"2020-08-04\",\"2020-08-05\",\"2020-08-06\",\"2020-08-07\",\"2020-08-08\",\"2020-08-09\",\"2020-08-10\",\"2020-08-11\",\"2020-08-12\",\"2020-08-13\",\"2020-08-14\",\"2020-08-15\",\"2020-08-16\",\"2020-08-17\",\"2020-08-18\",\"2020-08-19\",\"2020-08-20\",\"2020-08-21\",\"2020-08-22\",\"2020-08-23\",\"2020-08-24\",\"2020-08-25\",\"2020-08-26\",\"2020-08-27\",\"2020-08-28\",\"2020-08-29\",\"2020-08-30\",\"2020-08-31\",\"2020-09-01\",\"2020-09-02\",\"2020-09-03\",\"2020-09-04\",\"2020-09-05\",\"2020-09-06\",\"2020-09-07\",\"2020-09-08\",\"2020-09-09\",\"2020-09-10\",\"2020-09-11\",\"2020-09-12\",\"2020-09-13\",\"2020-09-14\",\"2020-09-15\",\"2020-09-16\",\"2020-09-17\",\"2020-09-18\",\"2020-09-19\",\"2020-09-20\",\"2020-09-21\",\"2020-09-22\",\"2020-09-23\",\"2020-09-24\",\"2020-09-25\",\"2020-09-26\",\"2020-09-27\",\"2020-09-28\",\"2020-09-29\",\"2020-09-30\",\"2020-10-01\",\"2020-10-02\",\"2020-10-03\",\"2020-10-04\",\"2020-10-05\",\"2020-10-06\",\"2020-10-07\",\"2020-10-08\",\"2020-10-09\",\"2020-10-10\",\"2020-10-11\",\"2020-10-12\",\"2020-10-13\",\"2020-10-14\",\"2020-10-15\",\"2020-10-16\",\"2020-10-17\",\"2020-10-18\",\"2020-10-19\",\"2020-10-20\",\"2020-10-21\",\"2020-10-22\",\"2020-10-23\",\"2020-10-24\",\"2020-10-25\",\"2020-10-26\",\"2020-10-27\",\"2020-10-28\",\"2020-10-29\",\"2020-10-30\",\"2020-10-31\",\"2020-11-01\",\"2020-11-02\",\"2020-11-03\",\"2020-11-04\",\"2020-11-05\",\"2020-11-06\",\"2020-11-07\",\"2020-11-08\",\"2020-11-09\",\"2020-11-10\",\"2020-11-11\",\"2020-11-12\",\"2020-11-13\",\"2020-11-14\",\"2020-11-15\",\"2020-11-16\",\"2020-11-17\",\"2020-11-18\",\"2020-11-19\",\"2020-11-20\",\"2020-11-21\",\"2020-11-22\",\"2020-11-23\",\"2020-12-20\",\"2020-12-21\",\"2020-12-22\",\"2020-12-23\",\"2020-12-24\",\"2020-12-25\",\"2020-12-26\",\"2020-12-27\",\"2020-12-28\",\"2020-12-29\",\"2020-12-30\",\"2020-12-31\",\"2021-01-01\",\"2021-01-02\",\"2021-01-03\",\"2021-01-04\",\"2021-01-05\",\"2021-01-06\",\"2021-01-07\",\"2021-01-08\",\"2021-01-09\",\"2021-01-10\",\"2021-01-11\",\"2021-01-12\",\"2021-01-13\",\"2021-01-14\",\"2021-01-15\",\"2021-01-16\",\"2021-01-17\",\"2021-01-18\",\"2021-01-19\",\"2021-01-20\",\"2021-01-21\",\"2021-01-22\",\"2021-01-23\",\"2021-01-24\",\"2021-01-25\",\"2021-01-26\",\"2021-01-27\",\"2021-01-28\",\"2021-01-29\",\"2021-01-30\",\"2021-01-31\",\"2021-02-01\",\"2021-02-02\",\"2021-02-03\",\"2021-02-04\",\"2021-02-05\",\"2021-02-06\",\"2021-02-07\",\"2021-02-08\",\"2021-02-09\",\"2021-02-10\",\"2021-02-11\",\"2021-02-12\",\"2021-02-13\",\"2021-02-14\",\"2021-02-15\",\"2021-02-16\",\"2021-02-17\",\"2021-02-18\",\"2021-02-19\",\"2021-02-20\",\"2021-02-21\",\"2021-02-22\",\"2021-02-23\",\"2021-02-24\",\"2021-02-25\",\"2021-02-26\",\"2021-02-27\",\"2021-02-28\",\"2021-03-01\",\"2021-03-02\",\"2021-03-03\",\"2021-03-04\",\"2021-03-05\",\"2021-03-06\",\"2021-03-07\",\"2021-03-08\",\"2021-03-09\",\"2021-03-10\",\"2021-03-11\",\"2021-03-12\",\"2021-03-13\",\"2021-03-14\",\"2021-03-15\",\"2021-03-16\",\"2021-03-17\",\"2021-03-18\",\"2021-03-19\",\"2021-03-20\",\"2021-03-21\",\"2021-03-22\",\"2021-03-23\",\"2021-03-24\",\"2021-03-25\",\"2021-03-26\",\"2021-03-27\",\"2021-03-28\",\"2021-03-29\",\"2021-03-30\",\"2021-03-31\",\"2021-04-01\",\"2021-04-02\",\"2021-04-03\",\"2021-04-04\",\"2021-04-05\",\"2021-04-06\",\"2021-04-07\",\"2021-04-08\",\"2021-04-09\",\"2021-04-10\",\"2021-04-11\",\"2021-04-12\",\"2021-04-13\",\"2021-04-14\",\"2021-04-15\",\"2021-04-16\",\"2021-04-17\",\"2021-04-18\",\"2021-04-19\",\"2021-04-20\",\"2021-04-21\",\"2021-04-22\",\"2021-04-23\",\"2021-04-24\",\"2021-04-25\",\"2021-04-26\",\"2021-04-27\",\"2021-04-28\",\"2021-04-29\",\"2021-04-30\",\"2021-05-01\",\"2021-05-02\",\"2021-05-03\",\"2021-05-04\",\"2021-05-05\",\"2021-05-06\",\"2021-05-07\",\"2021-05-08\",\"2021-05-09\",\"2021-05-10\",\"2021-05-11\",\"2021-05-12\",\"2021-05-13\",\"2021-05-14\",\"2021-05-15\",\"2021-05-16\",\"2021-05-17\",\"2021-05-18\",\"2021-05-19\",\"2021-05-20\",\"2021-05-21\",\"2021-05-22\",\"2021-05-23\",\"2021-05-24\",\"2021-05-25\",\"2021-05-26\",\"2021-05-27\",\"2021-05-28\",\"2021-05-29\",\"2021-05-30\",\"2021-05-31\",\"2021-06-01\",\"2021-06-02\",\"2021-06-03\",\"2021-06-04\",\"2021-06-05\",\"2021-06-06\",\"2021-06-07\",\"2021-06-08\",\"2021-06-09\",\"2021-06-10\",\"2021-06-11\",\"2021-06-12\",\"2021-06-13\",\"2021-06-14\",\"2021-06-15\",\"2021-06-16\",\"2021-06-17\",\"2021-06-18\",\"2021-06-19\",\"2021-06-20\",\"2021-06-21\",\"2021-06-22\",\"2021-06-23\",\"2021-06-24\",\"2021-06-25\",\"2021-06-26\",\"2021-06-27\",\"2021-06-28\",\"2021-06-29\",\"2021-06-30\",\"2021-07-01\",\"2021-07-02\",\"2021-07-03\",\"2021-07-04\",\"2021-07-05\",\"2021-07-06\",\"2021-07-07\",\"2021-07-08\",\"2021-07-09\",\"2021-07-10\",\"2021-07-11\",\"2021-07-12\",\"2021-07-13\",\"2021-07-14\",\"2021-07-15\",\"2021-07-16\",\"2021-07-17\",\"2021-07-18\",\"2021-07-19\",\"2021-07-20\",\"2021-07-21\",\"2021-07-22\",\"2021-07-23\",\"2021-07-24\",\"2021-07-25\",\"2021-07-26\",\"2021-07-27\",\"2021-07-28\",\"2021-07-29\",\"2021-07-30\",\"2021-07-31\",\"2021-08-01\",\"2021-08-02\",\"2021-08-03\",\"2021-08-04\",\"2021-08-05\",\"2021-08-06\",\"2021-08-07\",\"2021-08-08\",\"2021-08-09\",\"2021-08-10\",\"2021-08-11\",\"2021-08-12\",\"2021-08-13\",\"2021-08-14\",\"2021-08-15\",\"2021-08-16\",\"2021-08-17\",\"2021-08-18\",\"2021-08-19\",\"2021-08-20\",\"2021-08-21\",\"2021-08-22\",\"2021-08-23\",\"2021-08-24\",\"2021-08-25\",\"2021-08-26\",\"2021-08-27\",\"2021-08-28\",\"2021-08-29\",\"2021-08-30\",\"2021-08-31\",\"2021-09-01\",\"2021-09-02\",\"2021-09-03\",\"2021-09-04\",\"2021-09-05\",\"2021-09-06\",\"2021-09-07\",\"2021-09-08\",\"2021-09-09\",\"2021-09-10\",\"2021-09-11\",\"2021-09-12\",\"2021-09-13\",\"2021-09-14\",\"2021-09-15\",\"2021-09-16\",\"2021-09-17\",\"2021-09-18\",\"2021-09-19\",\"2021-09-20\",\"2021-09-21\",\"2021-09-22\",\"2021-09-23\",\"2021-09-24\",\"2021-09-25\",\"2021-09-26\",\"2021-09-27\",\"2021-09-28\",\"2021-09-29\",\"2021-09-30\",\"2021-10-01\",\"2021-10-02\",\"2021-10-03\",\"2021-10-04\",\"2021-10-05\",\"2021-10-06\",\"2021-10-07\",\"2021-10-08\",\"2021-10-09\",\"2021-10-10\",\"2021-10-11\",\"2021-10-12\",\"2021-10-13\",\"2021-10-14\",\"2021-10-15\",\"2021-10-16\",\"2021-10-17\",\"2021-10-18\",\"2021-10-19\",\"2021-10-20\",\"2021-10-21\",\"2021-10-22\",\"2021-10-23\",\"2021-10-24\",\"2021-10-25\",\"2021-10-26\",\"2021-10-27\",\"2021-10-28\",\"2021-10-29\",\"2021-10-30\",\"2021-10-31\",\"2021-11-01\",\"2021-11-02\",\"2021-11-03\",\"2021-11-04\",\"2021-11-05\",\"2021-11-06\",\"2021-11-07\",\"2021-11-08\",\"2021-11-09\",\"2021-11-10\",\"2021-11-11\",\"2021-11-12\",\"2021-11-13\",\"2021-11-14\",\"2021-11-15\",\"2021-11-16\",\"2021-11-17\",\"2021-11-18\",\"2021-11-19\",\"2021-11-20\",\"2021-11-21\",\"2021-11-22\",\"2021-11-23\",\"2021-11-24\",\"2021-11-25\",\"2021-11-26\",\"2021-11-27\",\"2021-11-28\",\"2021-11-29\",\"2021-11-30\",\"2021-12-01\",\"2021-12-02\",\"2021-12-03\",\"2021-12-04\",\"2021-12-05\",\"2021-12-06\",\"2021-12-07\",\"2021-12-08\",\"2021-12-09\",\"2021-12-10\",\"2021-12-11\",\"2021-12-12\",\"2021-12-13\",\"2021-12-14\",\"2021-12-15\",\"2021-12-16\",\"2021-12-17\",\"2021-12-18\",\"2021-12-19\",\"2021-12-20\",\"2021-12-21\",\"2021-12-22\",\"2021-12-23\",\"2021-12-24\",\"2021-12-25\",\"2021-12-26\",\"2021-12-27\",\"2021-12-28\",\"2021-12-29\",\"2021-12-30\",\"2021-12-31\",\"2022-01-01\",\"2022-01-02\",\"2022-01-03\",\"2022-01-04\",\"2022-01-05\",\"2022-01-06\",\"2022-01-07\",\"2022-01-08\",\"2022-01-09\",\"2022-01-10\",\"2022-01-11\",\"2022-01-12\",\"2022-01-13\",\"2022-01-14\",\"2022-01-15\",\"2022-01-16\",\"2022-01-17\",\"2022-01-18\",\"2022-01-19\",\"2022-01-20\",\"2022-01-21\",\"2022-01-22\",\"2022-01-23\",\"2022-01-24\",\"2022-01-25\",\"2022-01-26\",\"2022-01-27\",\"2022-01-28\",\"2022-01-29\",\"2022-01-30\",\"2022-01-31\",\"2022-02-01\",\"2022-02-02\",\"2022-02-03\",\"2022-02-04\",\"2022-02-05\",\"2022-02-06\",\"2022-02-07\",\"2022-02-08\",\"2022-02-09\",\"2022-02-10\",\"2022-02-11\",\"2022-02-12\",\"2022-02-13\",\"2022-02-14\",\"2022-02-15\",\"2022-02-16\",\"2022-02-17\",\"2022-02-18\",\"2022-02-19\",\"2022-02-20\",\"2022-02-21\",\"2022-02-22\",\"2022-02-23\",\"2022-02-24\",\"2022-02-25\",\"2022-02-26\",\"2022-02-27\",\"2022-02-28\",\"2022-03-01\"],\"y\":[4701.83,5747.24,6442.18,16303.13,25132.51,17730.16,12235.47,5669.45,5404.27,5351.66,20452.91,9466.99,6406.23,3798.43,2399.24,3546.83,7482.62,6826.41,6894.84,4108.14,3731.78,4559.92,2246.28,5900.7,3281.9,3255.66,3079.09,749.18,857.53,1989.45,6267.6,4687.58,5710.44,7657.46,4085.99,3067.03,3603.72,3892.9,6996.4,17407.46,7284.61,3128.95,1867.88,3140.58,4726.35,2169.39,4283.8,4434.78,3296.34,1658.92,2711.47,6440.25,9126.97,9411.69,15990.07,5017.3,2866.28,3827.19,6261.24,5053.57,6721.36,6677.55,4331.79,2644.78,3762.86,12419.8,11047.81,6263.86,26945.09,5921.13,4860.61,4836.61,4969.94,3416.81,12687.42,12997.57,14967.4,8567.73,5393.49,8381.63,10460.54,4260.43,10906.25,8659.25,6072.11,6079.55,6624.65,6720.78,6197.65,8830.75,3900.79,5746.4,8672.11,5883.58,4375.42,7423.95,4504.65,2239.42,4004.11,3067.36,2937.7,2934.19,5841.38,7276.87,1477.99,2149.13,2925.26,4608.9,5035.65,5071.39,4332.0,3560.42,2235.32,2631.16,4619.18,7817.87,6120.27,7558.55,3629.75,3277.39,8279.87,8910.59,11376.06,20913.6,16848.29,8457.5,8200.3,21288.17,19961.57,13680.32,18745.56,20733.84,12361.27,5961.62,15940.39,19623.82,21944.18,15111.96,18903.58,16839.74,9475.47,23969.64,21625.64,36653.48,57656.83,46152.64,37578.2,23372.81,19007.73,21828.96,25600.74,30549.01,20962.63,18957.52,15462.5,22169.22,52267.91,32775.86,25300.12,15765.46,19051.33,13812.79,59567.92,30706.64,52859.99,58997.4,23496.22,19838.15,16683.36,18758.34,29541.91,29377.59,20109.53,15519.81,24265.31,18227.79,37564.13,31793.46,21599.06,14426.33,15244.99,15108.53,14853.71,20289.88,17435.07,19412.0,14950.66,16577.51,9434.52,7890.82,28919.31,28579.06,21014.51,13861.1,19673.1,28426.36,34040.2,38238.17,40052.42,27261.58,55825.41,39205.62,24866.19,21047.95,19140.72,38277.6,30632.49,21160.33,26857.52,20251.45,17951.57,21371.81,23832.76,17848.44,15237.76,15034.48,37406.23,13482.89,27940.96,37533.02,32886.08,21293.09,29092.37,32505.73,44221.06,41555.16,72687.71,37639.9,43903.95,50863.7,42098.74,17567.41,27225.9,63616.62,43146.68,31381.12,29360.1,19605.74,11989.67,25751.77,37157.59,27640.46,28979.73,51314.79,55198.07,35494.38,74875.33,61425.38,52302.34,29472.95,71922.02,29648.68,42392.76,32741.84,39074.7,80219.79,101470.79,141112.43,58967.38,29629.57,47220.04,41944.32,31843.31,46534.05,37695.61,26122.42,16679.38,40027.09,27234.77,42541.43,27994.91,34958.39,22268.91,21444.61,25203.56,37193.95,25050.21,24941.03,25387.05,14113.19,31595.59,41998.92,38954.73,32820.33,71230.16,108219.48,33187.38,44770.08,35769.54,35438.72,70605.68,38949.12,61829.12,64528.21,49935.1,62173.12,67768.13,47487.88,47976.08,47958.33,23609.88,66932.66,40723.01,58591.56,58962.19,128454.53,80586.19,46351.69,47672.89,96244.41,57392.73,127431.24,74297.17,125889.37,67233.12,156693.58,120810.3,55213.68,82767.98,101230.44,95915.78,39079.19,45372.92,46086.24,76942.36,45988.25,44208.29,52612.81,67793.59,75365.88,87830.94,76738.4,240930.8,171590.72,119364.8,70324.45,111212.1,107063.04,96126.76,174045.31,265785.26,270461.04,165950.62,182825.47,187662.58,158252.05,195593.5,152293.57,228727.68,124947.5,129404.93,189965.72,268910.17,362123.99,226910.89,536315.25,223688.56,173954.93,112033.39,160411.47,167996.23,162765.63,135933.09,198690.81,107330.25,71399.68,159116.63,127545.72,154305.61,180373.35,110000.52,98298.63,174949.87,142095.37,181412.21,185353.06,127374.48,74028.61,71333.3,91008.14,317879.09,300832.47,177851.51,105441.61,89524.09,95248.9,129166.94,128044.45,89447.91,80146.35,113915.5,80809.66,80915.06,78334.96,152189.81,88019.73,168821.81,259322.9,100498.17,112505.77,237707.82,338617.64,181062.56,129983.9,105606.63,88235.57,71911.0,90666.38,67841.39,110313.84,143638.69,82541.74,107865.87,131045.56,88763.46,126516.73,149552.03,143048.59,111658.17,95676.68,73189.77,112724.57,76453.47,77393.99,70583.23,63514.27,61281.41,53519.67,79588.56,112144.98,183354.56,150935.56,178502.84,82026.6,104009.34,121586.67,101485.84,126505.82,103178.25,95303.84,67559.52,104391.08,112775.32,80897.86,75420.89,76337.42,81347.59,59585.24,54171.11,100866.77,68392.59,46383.06,113876.11,138412.84,56485.44,84155.78,66103.08,81972.69,77048.87,55744.06,39102.63,36805.0,21168.04,47977.42,30543.35,27892.61,99804.16,109313.32,49750.9,43240.62,61093.95,51709.26,51763.05,53804.02,94647.53,93719.28,57700.21,63512.6,132452.81,210413.76,123618.2,72671.56,99825.77,71074.99,52069.96,75709.81,66911.04,76346.83,48461.3,50525.86,54265.03,88202.05,73206.29,72446.47,75050.58,123097.98,90319.63,58534.86,112606.32,74329.37,72943.78,47367.29,40348.86,21700.65,30914.91,35952.46,51762.74,94546.64,60764.04,52341.21,20989.9,15971.58,33090.56,56138.88,46147.11,36354.21,35134.73,21169.0,25261.98,36719.1,51881.27,37276.13,40322.96,24739.94,14314.73,69620.2,53536.72,41033.01,85269.42,63992.77,32423.04,15946.31,12787.58,27032.3,25449.21,24095.26,22616.83,80901.76,19551.52,47513.49,41762.41,33305.38,31503.37,37123.0,49767.66,30601.94,18345.16,39701.76,27089.76,30634.0,35156.06,24803.37,22261.76,24079.86,33377.35,41009.98,28074.48,33521.85,25527.21,11203.3,15648.47,42890.4,62120.17,68583.46,39047.19,46876.86,20597.13,26428.15,61123.1,105077.94,59117.45,45731.72,48447.7,15693.77,22685.4,66327.05,65337.95,59882.07,27727.89,49234.9,33899.3,29297.06,35348.92,48320.51,65381.3,42077.52,61880.65,29432.51,31411.35,39166.67,59757.57,55615.05,31286.27,29827.36,15630.97,13992.27,27801.64,25148.82,54279.62,18002.28,29052.7,23218.07,16076.77,27445.93,39973.79,27986.77,32990.59,28069.53,22825.74,16596.22,14267.71,23074.35,60473.7,65360.16,29230.71,18676.55,17935.57,23446.62,30885.97,18574.13,30812.08,20732.72,6014.77,4928.39,19243.21,18363.22,31791.22,23065.15,39720.45,25552.97,15137.73,18542.26,36556.38,19303.83,25824.33,35342.68,15365.89,11335.9,21847.5,18656.11,21361.29,17434.93,17328.85,9204.32,11172.73,18678.88,10312.19,23321.58,41414.44,13965.28,8406.14,10923.98,75778.9,21032.08,13236.51,17040.91,10152.2,5607.17,6885.38,10704.78,12659.17,15787.74,13534.88,14794.11,3959.13,3731.63,22702.51,10976.15,22453.67,9610.19,11814.48,4767.03,11883.32,10385.35,19039.75,21701.5,17756.01,14220.05,6721.25,7532.26,15541.23,15833.65,99975.99,75449.68,30734.39,10283.86,9926.33,102196.95,123135.87,63916.19,31609.27,39164.82,39247.79,70651.07,64424.78,43220.71,65465.52,46904.53,40283.92,18252.67,20104.39,29064.41,33212.52,35299.95,39319.57,61742.5,23903.52,19438.84,24833.67,20872.03,17248.34,27194.82,32280.56,12808.9,13498.0,38621.6,33688.26,55242.28,71788.52,46697.78,20652.5,12732.45,34483.89,30986.29,26386.96,30123.74,33957.47,18533.49,15083.17,17366.95,13267.46,14725.45,12737.66,19596.22,9735.54,14879.59,20762.52,32971.87,19448.14,38051.29,26682.96,8012.46,14539.83,24903.46,20305.48,19209.77,18761.05,12600.91,10483.46,13863.35,14295.62,16930.54,15276.84,11078.23,12237.17,6717.93,9464.54,24670.33,17157.05,13579.98,14139.31,15789.09,7284.0,6685.73,7690.63,9611.46,14375.84,10033.35,34906.57,10180.68,10414.5,19810.0,25032.37,19667.93,14642.83,15465.56,8577.5,12507.11,40739.86,33956.48,26780.11,21858.0,17972.6,22250.32,37210.44,23294.7,17248.71,19899.84,17880.82,12618.64,8607.65,6615.31,18826.03,19097.41,17080.51,21358.57,20695.56,13878.28,8107.38,17716.45,15474.27,11437.67,13812.25,17274.75,19253.21,7461.89,14934.08,14661.82,17334.93,21004.4,9547.79,6247.47,6071.46,18882.97,11708.5,22632.18,10933.59,23680.36,11132.24,6821.55,20698.44,100587.44,103097.6,54759.13,45084.35,35428.03,38807.73,48547.36,34083.63,39394.7,53517.22,28205.02,15970.14,12159.73,26310.84,27263.0,24433.51,23318.07,19276.21,13527.68,16964.52,26391.31,38984.56,40054.53,36606.57,53836.02,14484.69,14198.34,20571.09,18292.0,15504.53,22022.76,49797.0,33718.54,20504.57,26804.77,43718.57,25633.2,38077.76,60403.12,107046.15,136719.57,144344.6,104900.15,92953.15,94825.86,135713.29,38521.0,86066.63,73688.15,41485.16,45650.95,44848.62,52091.91,18799.82,49915.38,54612.42,37161.3,45410.84,90888.14,57644.51,30650.7,25760.5,57551.47,84002.96,49588.85,46702.61,49766.76,26769.23,20924.05,38966.56,30376.78,48003.41,41129.86,50660.31,32039.07,95096.02,81980.91,71800.7,29791.03,51282.59,85637.34,101992.42,54599.14,62099.04,95462.71,331288.29,289720.75,151527.41,100570.73,99216.04,168903.76,143531.94,153078.31,90958.13,91824.82,62543.51,52680.09,98751.86,131082.88,172458.47,147709.54,73624.58,73591.44,89875.23,115613.22,143912.28,112430.53,128287.77,99926.09,74143.56,41329.11,67470.99,62973.84,63624.13,44350.74,37806.71,64163.59,25291.82,33559.79,36770.58,54304.86,53983.36,67631.47,52388.68,56896.15,139839.65,134410.82,126532.81,83099.86,60205.97,59633.3,34441.57,26997.07,69064.74,91363.75,104157.95,78088.25,27754.19,24359.33,59675.19,43928.31,69238.66,46622.47,39720.79,35791.5,27734.86,51696.32,33735.79,63973.82,50828.64,35238.06,10462.38,12071.32,43215.35,83972.44,74016.69,33406.7,78988.58,22873.02,22640.27,43346.38,32709.25,32225.93,33597.99,26859.17,19099.84,16442.05,39026.13,35995.68,27952.28,51600.0,31485.93,28851.71,22262.62,37159.06,172690.83,102162.34,94041.17,56708.19,35807.67,30007.81,53319.04,59501.35,28381.91,49587.87,35532.17,25008.71,35618.85,52477.36,20389.4,68277.1,44167.94,45853.58,10586.11,25742.57,24793.67,28917.59,48134.2,30175.54,30900.53,19138.44,35703.88,28091.43,32279.11,69984.89,25839.17,109064.3,253096.46,117350.94,97145.32,59025.08,56089.71,64440.91,42242.8,17411.14,16188.94,32189.65,32255.41,30289.63,25458.26,59986.73,13899.02,16606.21,38853.64,28591.96,19367.17,20470.81,30965.95,6947.1,12268.86,27838.32,24816.94,16850.14,50306.99,100597.13,27849.59,29802.12,89856.86,37895.18,76633.49,36174.82,40708.97,28870.83,28001.82,21893.87,12975.35,39501.6,23678.66,21546.45,10659.58,9364.61,34014.43,20694.28,17113.98,21831.37,15952.99,9955.07,9118.65,28697.62,33257.82,61067.44,29426.29,15904.65,8376.08,19382.64,34904.9,21278.73,7518.63,15713.15,20058.5,8005.87,13274.83,18825.77,13183.28,5568.06,19391.92,40536.65,16544.77,13962.85,35510.66,66919.29,68004.02,32650.96,49654.31,21365.79,11577.0,22562.61,101547.4,52363.31,40363.56,57774.28,22718.11,53553.02,26511.57,20355.18,18907.98,50304.67,37394.37,16268.36,37124.18,58627.67,60408.34,42025.93,51834.94,32480.27,10865.4,19559.86,30923.98,31097.55,53126.06,50962.02,27267.62,22262.1,33752.02,52037.26,56809.1,47079.4,66640.84,44064.38,40220.82,28318.1,39763.87,46630.48,68589.04,43934.75,28752.86,14064.21,22868.61,39673.02,41230.35,72089.25,56609.67,39302.37,14087.88,24665.19,37739.72,28235.74,20375.85,40465.39,26141.16,17615.62,52870.92,66577.14,45645.51,39492.9,250126.91,197418.61,57565.72,62326.05,118189.89,64668.2,82352.74,101546.99,134353.03,50411.25,45322.77,82231.55,91213.47,77391.43,34228.6,49940.41,50113.33,39066.49,65685.45,28393.05,49974.34,81529.29,50252.92,28433.91,18770.8,67647.63,59172.97,44245.87,42174.42,51693.21,15859.12,35455.11,50720.65,34767.2,38142.03,76039.37,41939.26,25418.94,23185.02,55130.53,26543.46,30730.28,75980.05,38456.26,19960.01,27741.74,36849.37,38868.11,152685.0,149157.8,69627.87,34150.98,57589.09,61027.03,59493.92,96617.38,167598.16,132248.46,76054.98,190665.81,207820.24,85500.43,80607.9,133765.33,114221.33,40332.16,64112.58,83550.91,81680.37,82268.51,107462.14,46037.87,22198.14,55416.89,54510.65,36389.82,43360.6,75127.43,47441.23,44940.91,37725.2,82995.97,154614.98,45962.34,60277.65,48341.59,27052.75,45065.4,36325.72,46707.37,48490.87,108354.83,45320.89,19237.39,22628.78,75071.44,45248.88,38636.93,26082.34,34347.1,19841.7,9316.26,43802.52,32573.48,65650.63,55567.9,50284.77,27554.74,20373.04,31252.69,17656.23,27632.74,43427.49,22159.17,13787.99,19282.69,34412.5,30250.86,40746.62,29541.0,24953.48,9316.88,13095.16,24971.19,28671.37,24376.91,35063.12,22787.24,8644.53,10081.36,19526.2,36052.27,35999.97,69030.13,53211.6,33895.83,62616.97,203326.05,129936.22,96250.65,80064.16,81323.69,90439.03,99070.0,54729.67,43012.54,60299.05,80463.48,84982.74,32350.85,21463.78,63531.09,84009.67,45127.33,54781.59,45093.14,32847.4,20505.89,82610.31,73992.78,76878.23,34352.77,52018.31,27266.72,13178.25,23547.63,56085.29,33776.97,61430.65,48088.24,16751.94,18798.26,36801.92,65754.69,103895.77,138568.65,125410.51,86133.56,36242.11,61243.54,74071.97,41581.18,73418.16,37520.8,18071.31,31084.0,53653.49,48411.77,63052.87,41712.31,33360.37,17278.53,24608.24,73022.05,34890.89,41161.76,48915.2,46989.36,18990.93,17012.17,37676.83,30028.53,32116.0,64423.92,60853.36,8316.37,7803.66,26912.85,35487.79,41019.07,52156.45,40955.86,25768.74,17193.44,56435.82,40477.65,30009.33,38554.4,33926.75,8855.82,8325.98,44212.6,48343.56,175612.78,83526.09,44812.98,25565.08,33236.45,51938.44,104987.93,99104.82,82289.41,83619.51,60590.79,24218.02,66460.85,68418.16,105534.61,191175.83,145771.56,114506.87,53465.99,154347.83,95424.73,108834.78,180006.07,88678.66,56014.61,35796.81,85604.55,117769.23,195135.45,129838.24,127833.28,77160.08,81517.6,172283.06,87760.21,202708.97,150562.12,188264.68,115794.21,108407.61,133280.15,248901.01,149571.38,177284.8,229794.52,189675.35,178662.05,389096.89,329115.86,484732.83,332598.72,466962.31,614568.51,616201.72,239206.19,434391.75,951261.42,441266.4,329765.77,292942.94,345109.23,196486.49,167675.18,156869.14,168695.08,294424.15,476316.13,370717.24,118018.63,103822.25,233448.28,256721.24,479344.95,396988.95,776839.89,171859.69,109843.64,196492.11,174942.16,223340.53,305977.36,136553.48,238881.71,160000.87,570194.25,405636.56,300064.32,305694.45,197139.69,139819.07,176120.0,228423.37,285008.89,339022.25,227950.09,345400.54,202947.44,141435.53,632798.77,597203.8,303831.34,274120.59,262223.13,100151.87,206398.67,283737.35,166895.95,217294.3,193032.91,172706.99,71806.91,98695.46,156090.25,203498.55,267311.08,259796.78,206089.61,256442.43,137410.15,306554.64,295599.77,228489.57,224455.59,142674.67,97333.82,144136.63,255320.99,189552.67,261883.83,240809.38,180500.1,100254.14,80187.79,213175.13,137760.89,187168.65,113841.63,105754.61,67672.21,57597.77,97248.6,109806.07,214721.11,182452.58,107596.46,163356.13,75694.29,154917.39,246471.95,264006.82,150090.58,246712.74,131207.16,496567.14,226426.27,225992.72,176063.21,290486.62,401410.93,119532.5,142460.51,222343.02,156028.17,172945.57,155454.65,185806.54,90303.2,74421.96,146243.49,220086.54,214745.52,202970.3,167707.9,119325.98,104134.94,260720.6,162955.16,240700.64,312595.2,140112.17,121500.32,185839.93,375084.33,192000.3,856133.0,406659.94,348238.77,148286.04,222475.58,264735.08,152227.82,114870.35,111326.62,155795.74,108889.85,73322.53,110382.2,110502.13,110805.49,108836.57,148448.62,103653.74,63021.69,121337.68,205159.17,208631.15,148533.75,96221.44,92315.7,92527.02,173813.54,113950.42,109322.11,95313.29,108379.37,77688.02,95675.23,195332.39,212158.16,137405.63,110729.6,117178.64,71682.7,75163.14,80789.14,78663.74,81931.98,72760.98,48271.88,29731.0,29605.04,53341.63,56798.65,36960.61,67173.76,37664.98,33750.08,38467.33,43874.61,42620.38,62048.26,54767.56,42137.35,34014.92,27736.62,54112.96,70620.55,105497.86,53414.9,44710.48,33881.2,49326.28,235572.92,154134.78,109250.84,63931.35,101119.56,43658.55,58313.49,66124.95,87247.17,109012.49,160072.87,84848.26,148111.43,112589.52,155917.66,75756.02,83623.21,76745.22,94863.7,62250.77,55577.59,78552.71,104635.36,70554.3,87741.74,93821.35,60189.29,33426.43,83913.59,75030.44,63667.03,68554.73,64502.76,23522.93,35289.81,55839.78,73582.61,72840.79,78311.12,77421.41,30187.63,34670.6,73952.75,228122.83,106045.6,83842.07,75982.82,28577.25,32239.76,71671.19,52850.27,43265.53,62644.18,51368.31,48720.08,33044.42,130646.22,174219.37,90114.31,71108.95,128584.54,25947.96,49225.84,58214.38,65288.03,52308.06,78596.39,111673.52,45290.44,38981.33,91847.49,77234.3,165073.07,88565.72,84263.72,40432.11,66675.95,77147.55,126163.35,130175.35,75221.8,175652.16,53745.16,53150.96,246624.67,142740.72,140116.42,174256.26,136200.75,44793.09,50610.43,75388.77,84489.89,143445.26,157231.24,165996.43,65988.2,65676.78,106752.32,144699.25,93433.15,64690.4,66976.65,53616.94,48208.76,124029.58,100150.86,157328.07,71393.07,111811.17,36961.04,55857.56,90412.65,195365.08,154410.61,251114.72,130179.01,47860.76,36812.94,117212.99,108180.99,71246.43,55170.18,200590.78,51528.05,52569.68,82847.85,142106.66,100244.59,108569.18,113256.18,332887.31,175866.63,158019.65,61011.95,55606.06,87624.99,90610.94,44411.79,42729.39,110427.35,66242.79,86606.45,49077.32,67319.66,26725.28,41898.15,55595.83,56401.4,44457.9,58889.22,51327.29,29032.48,35369.8,39175.61,74997.01,68807.05,70654.3,58989.9,24236.67,23040.51,36958.81,59178.5,106576.97,73309.65,86682.63,45541.92,44715.26,99861.31,71746.24,75545.56,60177.54,41093.48,21193.42,18620.65,31250.64,47588.03,48477.04,71206.99,164683.99,110747.07,62578.15,152348.54,70968.94,95671.07,78340.34,62318.02,34114.09,18676.71,52562.5,55632.9,43944.01,41460.75,106291.55,54574.04,24773.1,78039.34,78956.29,49620.23,83099.22,64954.47,26224.5,15151.45,37283.42,54162.93,38194.59,71296.79,61904.77,19336.76,34450.18,93100.47,61994.96,47235.64,156936.05,59697.01,24931.77,45272.24,88897.29,82136.68],\"type\":\"scatter\"}],                        {\"template\":{\"data\":{\"barpolar\":[{\"marker\":{\"line\":{\"color\":\"#E5ECF6\",\"width\":0.5},\"pattern\":{\"fillmode\":\"overlay\",\"size\":10,\"solidity\":0.2}},\"type\":\"barpolar\"}],\"bar\":[{\"error_x\":{\"color\":\"#2a3f5f\"},\"error_y\":{\"color\":\"#2a3f5f\"},\"marker\":{\"line\":{\"color\":\"#E5ECF6\",\"width\":0.5},\"pattern\":{\"fillmode\":\"overlay\",\"size\":10,\"solidity\":0.2}},\"type\":\"bar\"}],\"carpet\":[{\"aaxis\":{\"endlinecolor\":\"#2a3f5f\",\"gridcolor\":\"white\",\"linecolor\":\"white\",\"minorgridcolor\":\"white\",\"startlinecolor\":\"#2a3f5f\"},\"baxis\":{\"endlinecolor\":\"#2a3f5f\",\"gridcolor\":\"white\",\"linecolor\":\"white\",\"minorgridcolor\":\"white\",\"startlinecolor\":\"#2a3f5f\"},\"type\":\"carpet\"}],\"choropleth\":[{\"colorbar\":{\"outlinewidth\":0,\"ticks\":\"\"},\"type\":\"choropleth\"}],\"contourcarpet\":[{\"colorbar\":{\"outlinewidth\":0,\"ticks\":\"\"},\"type\":\"contourcarpet\"}],\"contour\":[{\"colorbar\":{\"outlinewidth\":0,\"ticks\":\"\"},\"colorscale\":[[0.0,\"#0d0887\"],[0.1111111111111111,\"#46039f\"],[0.2222222222222222,\"#7201a8\"],[0.3333333333333333,\"#9c179e\"],[0.4444444444444444,\"#bd3786\"],[0.5555555555555556,\"#d8576b\"],[0.6666666666666666,\"#ed7953\"],[0.7777777777777778,\"#fb9f3a\"],[0.8888888888888888,\"#fdca26\"],[1.0,\"#f0f921\"]],\"type\":\"contour\"}],\"heatmapgl\":[{\"colorbar\":{\"outlinewidth\":0,\"ticks\":\"\"},\"colorscale\":[[0.0,\"#0d0887\"],[0.1111111111111111,\"#46039f\"],[0.2222222222222222,\"#7201a8\"],[0.3333333333333333,\"#9c179e\"],[0.4444444444444444,\"#bd3786\"],[0.5555555555555556,\"#d8576b\"],[0.6666666666666666,\"#ed7953\"],[0.7777777777777778,\"#fb9f3a\"],[0.8888888888888888,\"#fdca26\"],[1.0,\"#f0f921\"]],\"type\":\"heatmapgl\"}],\"heatmap\":[{\"colorbar\":{\"outlinewidth\":0,\"ticks\":\"\"},\"colorscale\":[[0.0,\"#0d0887\"],[0.1111111111111111,\"#46039f\"],[0.2222222222222222,\"#7201a8\"],[0.3333333333333333,\"#9c179e\"],[0.4444444444444444,\"#bd3786\"],[0.5555555555555556,\"#d8576b\"],[0.6666666666666666,\"#ed7953\"],[0.7777777777777778,\"#fb9f3a\"],[0.8888888888888888,\"#fdca26\"],[1.0,\"#f0f921\"]],\"type\":\"heatmap\"}],\"histogram2dcontour\":[{\"colorbar\":{\"outlinewidth\":0,\"ticks\":\"\"},\"colorscale\":[[0.0,\"#0d0887\"],[0.1111111111111111,\"#46039f\"],[0.2222222222222222,\"#7201a8\"],[0.3333333333333333,\"#9c179e\"],[0.4444444444444444,\"#bd3786\"],[0.5555555555555556,\"#d8576b\"],[0.6666666666666666,\"#ed7953\"],[0.7777777777777778,\"#fb9f3a\"],[0.8888888888888888,\"#fdca26\"],[1.0,\"#f0f921\"]],\"type\":\"histogram2dcontour\"}],\"histogram2d\":[{\"colorbar\":{\"outlinewidth\":0,\"ticks\":\"\"},\"colorscale\":[[0.0,\"#0d0887\"],[0.1111111111111111,\"#46039f\"],[0.2222222222222222,\"#7201a8\"],[0.3333333333333333,\"#9c179e\"],[0.4444444444444444,\"#bd3786\"],[0.5555555555555556,\"#d8576b\"],[0.6666666666666666,\"#ed7953\"],[0.7777777777777778,\"#fb9f3a\"],[0.8888888888888888,\"#fdca26\"],[1.0,\"#f0f921\"]],\"type\":\"histogram2d\"}],\"histogram\":[{\"marker\":{\"pattern\":{\"fillmode\":\"overlay\",\"size\":10,\"solidity\":0.2}},\"type\":\"histogram\"}],\"mesh3d\":[{\"colorbar\":{\"outlinewidth\":0,\"ticks\":\"\"},\"type\":\"mesh3d\"}],\"parcoords\":[{\"line\":{\"colorbar\":{\"outlinewidth\":0,\"ticks\":\"\"}},\"type\":\"parcoords\"}],\"pie\":[{\"automargin\":true,\"type\":\"pie\"}],\"scatter3d\":[{\"line\":{\"colorbar\":{\"outlinewidth\":0,\"ticks\":\"\"}},\"marker\":{\"colorbar\":{\"outlinewidth\":0,\"ticks\":\"\"}},\"type\":\"scatter3d\"}],\"scattercarpet\":[{\"marker\":{\"colorbar\":{\"outlinewidth\":0,\"ticks\":\"\"}},\"type\":\"scattercarpet\"}],\"scattergeo\":[{\"marker\":{\"colorbar\":{\"outlinewidth\":0,\"ticks\":\"\"}},\"type\":\"scattergeo\"}],\"scattergl\":[{\"marker\":{\"colorbar\":{\"outlinewidth\":0,\"ticks\":\"\"}},\"type\":\"scattergl\"}],\"scattermapbox\":[{\"marker\":{\"colorbar\":{\"outlinewidth\":0,\"ticks\":\"\"}},\"type\":\"scattermapbox\"}],\"scatterpolargl\":[{\"marker\":{\"colorbar\":{\"outlinewidth\":0,\"ticks\":\"\"}},\"type\":\"scatterpolargl\"}],\"scatterpolar\":[{\"marker\":{\"colorbar\":{\"outlinewidth\":0,\"ticks\":\"\"}},\"type\":\"scatterpolar\"}],\"scatter\":[{\"fillpattern\":{\"fillmode\":\"overlay\",\"size\":10,\"solidity\":0.2},\"type\":\"scatter\"}],\"scatterternary\":[{\"marker\":{\"colorbar\":{\"outlinewidth\":0,\"ticks\":\"\"}},\"type\":\"scatterternary\"}],\"surface\":[{\"colorbar\":{\"outlinewidth\":0,\"ticks\":\"\"},\"colorscale\":[[0.0,\"#0d0887\"],[0.1111111111111111,\"#46039f\"],[0.2222222222222222,\"#7201a8\"],[0.3333333333333333,\"#9c179e\"],[0.4444444444444444,\"#bd3786\"],[0.5555555555555556,\"#d8576b\"],[0.6666666666666666,\"#ed7953\"],[0.7777777777777778,\"#fb9f3a\"],[0.8888888888888888,\"#fdca26\"],[1.0,\"#f0f921\"]],\"type\":\"surface\"}],\"table\":[{\"cells\":{\"fill\":{\"color\":\"#EBF0F8\"},\"line\":{\"color\":\"white\"}},\"header\":{\"fill\":{\"color\":\"#C8D4E3\"},\"line\":{\"color\":\"white\"}},\"type\":\"table\"}]},\"layout\":{\"annotationdefaults\":{\"arrowcolor\":\"#2a3f5f\",\"arrowhead\":0,\"arrowwidth\":1},\"autotypenumbers\":\"strict\",\"coloraxis\":{\"colorbar\":{\"outlinewidth\":0,\"ticks\":\"\"}},\"colorscale\":{\"diverging\":[[0,\"#8e0152\"],[0.1,\"#c51b7d\"],[0.2,\"#de77ae\"],[0.3,\"#f1b6da\"],[0.4,\"#fde0ef\"],[0.5,\"#f7f7f7\"],[0.6,\"#e6f5d0\"],[0.7,\"#b8e186\"],[0.8,\"#7fbc41\"],[0.9,\"#4d9221\"],[1,\"#276419\"]],\"sequential\":[[0.0,\"#0d0887\"],[0.1111111111111111,\"#46039f\"],[0.2222222222222222,\"#7201a8\"],[0.3333333333333333,\"#9c179e\"],[0.4444444444444444,\"#bd3786\"],[0.5555555555555556,\"#d8576b\"],[0.6666666666666666,\"#ed7953\"],[0.7777777777777778,\"#fb9f3a\"],[0.8888888888888888,\"#fdca26\"],[1.0,\"#f0f921\"]],\"sequentialminus\":[[0.0,\"#0d0887\"],[0.1111111111111111,\"#46039f\"],[0.2222222222222222,\"#7201a8\"],[0.3333333333333333,\"#9c179e\"],[0.4444444444444444,\"#bd3786\"],[0.5555555555555556,\"#d8576b\"],[0.6666666666666666,\"#ed7953\"],[0.7777777777777778,\"#fb9f3a\"],[0.8888888888888888,\"#fdca26\"],[1.0,\"#f0f921\"]]},\"colorway\":[\"#636efa\",\"#EF553B\",\"#00cc96\",\"#ab63fa\",\"#FFA15A\",\"#19d3f3\",\"#FF6692\",\"#B6E880\",\"#FF97FF\",\"#FECB52\"],\"font\":{\"color\":\"#2a3f5f\"},\"geo\":{\"bgcolor\":\"white\",\"lakecolor\":\"white\",\"landcolor\":\"#E5ECF6\",\"showlakes\":true,\"showland\":true,\"subunitcolor\":\"white\"},\"hoverlabel\":{\"align\":\"left\"},\"hovermode\":\"closest\",\"mapbox\":{\"style\":\"light\"},\"paper_bgcolor\":\"white\",\"plot_bgcolor\":\"#E5ECF6\",\"polar\":{\"angularaxis\":{\"gridcolor\":\"white\",\"linecolor\":\"white\",\"ticks\":\"\"},\"bgcolor\":\"#E5ECF6\",\"radialaxis\":{\"gridcolor\":\"white\",\"linecolor\":\"white\",\"ticks\":\"\"}},\"scene\":{\"xaxis\":{\"backgroundcolor\":\"#E5ECF6\",\"gridcolor\":\"white\",\"gridwidth\":2,\"linecolor\":\"white\",\"showbackground\":true,\"ticks\":\"\",\"zerolinecolor\":\"white\"},\"yaxis\":{\"backgroundcolor\":\"#E5ECF6\",\"gridcolor\":\"white\",\"gridwidth\":2,\"linecolor\":\"white\",\"showbackground\":true,\"ticks\":\"\",\"zerolinecolor\":\"white\"},\"zaxis\":{\"backgroundcolor\":\"#E5ECF6\",\"gridcolor\":\"white\",\"gridwidth\":2,\"linecolor\":\"white\",\"showbackground\":true,\"ticks\":\"\",\"zerolinecolor\":\"white\"}},\"shapedefaults\":{\"line\":{\"color\":\"#2a3f5f\"}},\"ternary\":{\"aaxis\":{\"gridcolor\":\"white\",\"linecolor\":\"white\",\"ticks\":\"\"},\"baxis\":{\"gridcolor\":\"white\",\"linecolor\":\"white\",\"ticks\":\"\"},\"bgcolor\":\"#E5ECF6\",\"caxis\":{\"gridcolor\":\"white\",\"linecolor\":\"white\",\"ticks\":\"\"}},\"title\":{\"x\":0.05},\"xaxis\":{\"automargin\":true,\"gridcolor\":\"white\",\"linecolor\":\"white\",\"ticks\":\"\",\"title\":{\"standoff\":15},\"zerolinecolor\":\"white\",\"zerolinewidth\":2},\"yaxis\":{\"automargin\":true,\"gridcolor\":\"white\",\"linecolor\":\"white\",\"ticks\":\"\",\"title\":{\"standoff\":15},\"zerolinecolor\":\"white\",\"zerolinewidth\":2}}},\"title\":{\"text\":\"Historical Bitcoin Volume (USD) (2017-2021) with the slider\"},\"xaxis\":{\"rangeselector\":{\"buttons\":[{\"count\":1,\"label\":\"1m\",\"step\":\"month\",\"stepmode\":\"backward\"},{\"count\":6,\"label\":\"6m\",\"step\":\"month\",\"stepmode\":\"backward\"},{\"count\":12,\"label\":\"1y\",\"step\":\"month\",\"stepmode\":\"backward\"},{\"count\":36,\"label\":\"3y\",\"step\":\"month\",\"stepmode\":\"backward\"},{\"step\":\"all\"}]},\"rangeslider\":{\"visible\":true},\"type\":\"date\"}},                        {\"responsive\": true}                    ).then(function(){\n",
              "                            \n",
              "var gd = document.getElementById('cc221ebb-c7d0-4c4b-ba8c-a10dcb01af2c');\n",
              "var x = new MutationObserver(function (mutations, observer) {{\n",
              "        var display = window.getComputedStyle(gd).display;\n",
              "        if (!display || display === 'none') {{\n",
              "            console.log([gd, 'removed!']);\n",
              "            Plotly.purge(gd);\n",
              "            observer.disconnect();\n",
              "        }}\n",
              "}});\n",
              "\n",
              "// Listen for the removal of the full notebook cells\n",
              "var notebookContainer = gd.closest('#notebook-container');\n",
              "if (notebookContainer) {{\n",
              "    x.observe(notebookContainer, {childList: true});\n",
              "}}\n",
              "\n",
              "// Listen for the clearing of the current output cell\n",
              "var outputEl = gd.closest('.output');\n",
              "if (outputEl) {{\n",
              "    x.observe(outputEl, {childList: true});\n",
              "}}\n",
              "\n",
              "                        })                };                            </script>        </div>\n",
              "</body>\n",
              "</html>"
            ]
          },
          "metadata": {}
        }
      ]
    },
    {
      "cell_type": "markdown",
      "source": [
        "TODO: BTC Volume vs USD visualization"
      ],
      "metadata": {
        "id": "s4JSSCiGgQnH"
      }
    },
    {
      "cell_type": "code",
      "source": [
        "#BTC Volume vs USD visualization\n",
        "trace = go.Scattergl(\n",
        "    y = mean_df_pandas['mean_volume_btc'].astype(float),\n",
        "    x = mean_df_pandas['Weighted_Price'].astype(float),\n",
        "    mode = 'markers',\n",
        "    marker = dict(\n",
        "        color = '#FFBAD2',\n",
        "        line = dict(width = 1)\n",
        "    )\n",
        ")\n",
        "layout = go.Layout(\n",
        "    title='BTC Volume v/s USD',\n",
        "    xaxis=dict(\n",
        "        title='Weighted Price',\n",
        "        titlefont=dict(\n",
        "            family='Courier New, monospace',\n",
        "            size=18,\n",
        "            color='#7f7f7f'\n",
        "        )\n",
        "    ),\n",
        "    yaxis=dict(\n",
        "        title='Volume BTC',\n",
        "        titlefont=dict(\n",
        "            family='Courier New, monospace',\n",
        "            size=18,\n",
        "            color='#7f7f7f'\n",
        "        )))\n",
        "data = [trace]\n",
        "fig = go.Figure(data=data, layout=layout)\n",
        "iplot(fig, filename='compare_webgl')"
      ],
      "metadata": {
        "id": "baLMCJeSgQ4r"
      },
      "execution_count": null,
      "outputs": []
    },
    {
      "cell_type": "markdown",
      "metadata": {
        "id": "3ff-kINgcP4e"
      },
      "source": [
        "## **3.** Model preparation"
      ]
    },
    {
      "cell_type": "markdown",
      "metadata": {
        "id": "9zhw9XcxlX95"
      },
      "source": [
        "First Step is Preparing Data for Training and Testing.\n",
        "As we want to predict Close Price of the Bitcoin so we are just Considering Close aand Date\n",
        "\n",
        "TODO: Since Bitcoin price has drastically flucated from 200 dollar in year 2014 to 15000 dollar in year 2018 to 3000 dollar in year 2019(theses values are apporx) so we will just consider 1 Year to avoid this type of flucation in the data.\n"
      ]
    },
    {
      "cell_type": "code",
      "execution_count": null,
      "metadata": {
        "id": "onQoz12alhdw",
        "colab": {
          "base_uri": "https://localhost:8080/"
        },
        "outputId": "c99983d2-c380-4a77-aa47-57056848c7c2"
      },
      "outputs": [
        {
          "output_type": "stream",
          "name": "stdout",
          "text": [
            "Shape of close dataframe: (2675301, 2)\n"
          ]
        }
      ],
      "source": [
        "# Lets First Take all the Close Price \n",
        "# df_pandas = df.toPandas()\n",
        "\n",
        "close_df = df_pandas[['date','close']]\n",
        "\n",
        "print(\"Shape of close dataframe:\", close_df.shape)"
      ]
    },
    {
      "cell_type": "markdown",
      "source": [
        "**Normalizing Data**\n",
        "\n",
        "Normalization is a technique often applied as part of data preparation for machine learning. The goal of normalization is to change the values of numeric columns in the dataset to use a common scale, without distorting differences in the ranges of values or losing information.\n",
        "MinMaxScaler. For each value in a feature, MinMaxScaler subtracts the minimum value in the feature and then divides by the range. The range is the difference between the original maximum and original minimum. MinMaxScaler preserves the shape of the original distribution."
      ],
      "metadata": {
        "id": "APPYQGnUi6o2"
      }
    },
    {
      "cell_type": "code",
      "source": [
        "# deleting date column and normalizing using MinMax Scaler\n",
        "del close_df['date']\n",
        "\n",
        "from sklearn.preprocessing import MinMaxScaler\n",
        "\n",
        "scaler =  MinMaxScaler(feature_range=(0,1))\n",
        "close_df = scaler.fit_transform(np.array(close_df).reshape(-1,1))\n",
        "print(close_df.shape)"
      ],
      "metadata": {
        "colab": {
          "base_uri": "https://localhost:8080/"
        },
        "id": "02Rks09rieQ9",
        "outputId": "6fa2c2de-d82c-4332-82a5-29b4017a2b61"
      },
      "execution_count": null,
      "outputs": [
        {
          "output_type": "stream",
          "name": "stdout",
          "text": [
            "(2675301, 1)\n"
          ]
        }
      ]
    },
    {
      "cell_type": "markdown",
      "source": [
        "\n",
        "Slicing data into Training set and Testing set"
      ],
      "metadata": {
        "id": "DxpEipKCjnqD"
      }
    },
    {
      "cell_type": "code",
      "source": [
        "# we keep the training set as 60% and 40% testing set\n",
        "training_size=int(len(close_df)*0.60)\n",
        "test_size=len(close_df)-training_size\n",
        "train_data,test_data=close_df[0:training_size,:],close_df[training_size:len(close_df),:1]\n",
        "print(\"train_data: \", train_data.shape)\n",
        "print(\"test_data: \", test_data.shape)"
      ],
      "metadata": {
        "colab": {
          "base_uri": "https://localhost:8080/"
        },
        "id": "tZ0NFjFTjrCB",
        "outputId": "582defc4-e8ad-45b5-c0c6-ac784c1c0ccc"
      },
      "execution_count": null,
      "outputs": [
        {
          "output_type": "stream",
          "name": "stdout",
          "text": [
            "train_data:  (1605180, 1)\n",
            "test_data:  (1070121, 1)\n"
          ]
        }
      ]
    },
    {
      "cell_type": "markdown",
      "source": [
        "Now we Transform the Close price based on Time-series-analysis forecasting requirement , Here we will take 15\n"
      ],
      "metadata": {
        "id": "_fARQftKjoK3"
      }
    },
    {
      "cell_type": "code",
      "source": [
        "# convert an array of values into a dataset matrix\n",
        "def create_dataset(dataset, time_step=1):\n",
        "    dataX, dataY = [], []\n",
        "    for i in range(len(dataset)-time_step-1):\n",
        "        a = dataset[i:(i+time_step), 0]   ###i=0, 0,1,2,3-----99   100 \n",
        "        dataX.append(a)\n",
        "        dataY.append(dataset[i + time_step, 0])\n",
        "    return np.array(dataX), np.array(dataY)\n",
        "time_step = 15\n",
        "X_train, y_train = create_dataset(train_data, time_step)\n",
        "X_test, y_test = create_dataset(test_data, time_step)\n",
        "\n",
        "print(\"X_train: \", X_train.shape)\n",
        "print(\"y_train: \", y_train.shape)\n",
        "print(\"X_test: \", X_test.shape)\n",
        "print(\"y_test\", y_test.shape)"
      ],
      "metadata": {
        "colab": {
          "base_uri": "https://localhost:8080/"
        },
        "id": "HIdCD0jdjvmo",
        "outputId": "87f6f406-3b30-464d-8e82-eb321db4b9c4"
      },
      "execution_count": null,
      "outputs": [
        {
          "output_type": "stream",
          "name": "stdout",
          "text": [
            "X_train:  (1605164, 15)\n",
            "y_train:  (1605164,)\n",
            "X_test:  (1070105, 15)\n",
            "y_test (1070105,)\n"
          ]
        }
      ]
    },
    {
      "cell_type": "code",
      "source": [
        "# reshape input to be [samples, time steps, features] which is required for LSTM\n",
        "X_train =X_train.reshape(X_train.shape[0],X_train.shape[1] , 1)\n",
        "X_test = X_test.reshape(X_test.shape[0],X_test.shape[1] , 1)\n",
        "\n",
        "print(\"X_train: \", X_train.shape)\n",
        "print(\"X_test: \", X_test.shape)"
      ],
      "metadata": {
        "colab": {
          "base_uri": "https://localhost:8080/"
        },
        "id": "jVXXwOECj1AX",
        "outputId": "89b08b3f-40cb-494b-9a20-949eacf824f8"
      },
      "execution_count": null,
      "outputs": [
        {
          "output_type": "stream",
          "name": "stdout",
          "text": [
            "X_train:  (1605164, 15, 1)\n",
            "X_test:  (1070105, 15, 1)\n"
          ]
        }
      ]
    },
    {
      "cell_type": "markdown",
      "metadata": {
        "id": "SB98AYjZIx5Q"
      },
      "source": [
        "### 3.4 Feature Selection\n"
      ]
    },
    {
      "cell_type": "markdown",
      "metadata": {
        "id": "zu3OAsdaLjhE"
      },
      "source": [
        "The aim of this section is to remove the features that have less of an impact to the final result from the dataframe. This operation is called feature selection. Let's plot a correlation map to see how features are correlated among each other:"
      ]
    },
    {
      "cell_type": "code",
      "execution_count": null,
      "metadata": {
        "colab": {
          "base_uri": "https://localhost:8080/",
          "height": 394
        },
        "id": "dJT2S9NlACq2",
        "outputId": "f3723b98-abd0-4527-a873-f0110ec1de0b"
      },
      "outputs": [
        {
          "data": {
            "text/html": [
              "<style type=\"text/css\">\n",
              "#T_e762c_row0_col0, #T_e762c_row1_col1, #T_e762c_row2_col2, #T_e762c_row3_col3, #T_e762c_row4_col4, #T_e762c_row5_col5, #T_e762c_row6_col6, #T_e762c_row7_col7, #T_e762c_row8_col8, #T_e762c_row9_col9, #T_e762c_row10_col10 {\n",
              "  background-color: #03051a;\n",
              "  color: #f1f1f1;\n",
              "}\n",
              "#T_e762c_row0_col1, #T_e762c_row3_col5 {\n",
              "  background-color: #f58a61;\n",
              "  color: #f1f1f1;\n",
              "}\n",
              "#T_e762c_row0_col2, #T_e762c_row8_col3, #T_e762c_row10_col0 {\n",
              "  background-color: #f8d1b8;\n",
              "  color: #000000;\n",
              "}\n",
              "#T_e762c_row0_col3, #T_e762c_row5_col0, #T_e762c_row7_col0 {\n",
              "  background-color: #f6c19f;\n",
              "  color: #000000;\n",
              "}\n",
              "#T_e762c_row0_col4, #T_e762c_row6_col9, #T_e762c_row10_col5 {\n",
              "  background-color: #f58b63;\n",
              "  color: #f1f1f1;\n",
              "}\n",
              "#T_e762c_row0_col5 {\n",
              "  background-color: #f26d4b;\n",
              "  color: #f1f1f1;\n",
              "}\n",
              "#T_e762c_row0_col6, #T_e762c_row1_col5, #T_e762c_row2_col6, #T_e762c_row5_col1, #T_e762c_row5_col2, #T_e762c_row5_col3, #T_e762c_row5_col4, #T_e762c_row5_col6, #T_e762c_row5_col7, #T_e762c_row5_col8, #T_e762c_row5_col9, #T_e762c_row5_col10, #T_e762c_row7_col6, #T_e762c_row9_col0 {\n",
              "  background-color: #faebdd;\n",
              "  color: #000000;\n",
              "}\n",
              "#T_e762c_row0_col7 {\n",
              "  background-color: #f7c6a6;\n",
              "  color: #000000;\n",
              "}\n",
              "#T_e762c_row0_col8, #T_e762c_row7_col2 {\n",
              "  background-color: #f5966c;\n",
              "  color: #000000;\n",
              "}\n",
              "#T_e762c_row0_col9, #T_e762c_row7_col3 {\n",
              "  background-color: #f6a37a;\n",
              "  color: #000000;\n",
              "}\n",
              "#T_e762c_row0_col10, #T_e762c_row6_col2, #T_e762c_row8_col5, #T_e762c_row9_col5 {\n",
              "  background-color: #f8dcc7;\n",
              "  color: #000000;\n",
              "}\n",
              "#T_e762c_row1_col0, #T_e762c_row8_col0 {\n",
              "  background-color: #f9dfcb;\n",
              "  color: #000000;\n",
              "}\n",
              "#T_e762c_row1_col2 {\n",
              "  background-color: #f26b49;\n",
              "  color: #f1f1f1;\n",
              "}\n",
              "#T_e762c_row1_col3, #T_e762c_row7_col9 {\n",
              "  background-color: #f37852;\n",
              "  color: #f1f1f1;\n",
              "}\n",
              "#T_e762c_row1_col4, #T_e762c_row4_col1 {\n",
              "  background-color: #5b1e51;\n",
              "  color: #f1f1f1;\n",
              "}\n",
              "#T_e762c_row1_col6, #T_e762c_row10_col6 {\n",
              "  background-color: #f9e3d2;\n",
              "  color: #000000;\n",
              "}\n",
              "#T_e762c_row1_col7, #T_e762c_row6_col1 {\n",
              "  background-color: #f47c55;\n",
              "  color: #f1f1f1;\n",
              "}\n",
              "#T_e762c_row1_col8 {\n",
              "  background-color: #ce1d4e;\n",
              "  color: #f1f1f1;\n",
              "}\n",
              "#T_e762c_row1_col9 {\n",
              "  background-color: #df2f44;\n",
              "  color: #f1f1f1;\n",
              "}\n",
              "#T_e762c_row1_col10, #T_e762c_row3_col8, #T_e762c_row10_col8 {\n",
              "  background-color: #f47f58;\n",
              "  color: #f1f1f1;\n",
              "}\n",
              "#T_e762c_row2_col0 {\n",
              "  background-color: #f7cdb1;\n",
              "  color: #000000;\n",
              "}\n",
              "#T_e762c_row2_col1 {\n",
              "  background-color: #d62449;\n",
              "  color: #f1f1f1;\n",
              "}\n",
              "#T_e762c_row2_col3 {\n",
              "  background-color: #f6b995;\n",
              "  color: #000000;\n",
              "}\n",
              "#T_e762c_row2_col4 {\n",
              "  background-color: #eb483e;\n",
              "  color: #f1f1f1;\n",
              "}\n",
              "#T_e762c_row2_col5, #T_e762c_row7_col5 {\n",
              "  background-color: #f59067;\n",
              "  color: #f1f1f1;\n",
              "}\n",
              "#T_e762c_row2_col7, #T_e762c_row8_col7 {\n",
              "  background-color: #f5976e;\n",
              "  color: #000000;\n",
              "}\n",
              "#T_e762c_row2_col8 {\n",
              "  background-color: #ee523f;\n",
              "  color: #f1f1f1;\n",
              "}\n",
              "#T_e762c_row2_col9 {\n",
              "  background-color: #f26747;\n",
              "  color: #f1f1f1;\n",
              "}\n",
              "#T_e762c_row2_col10, #T_e762c_row9_col2 {\n",
              "  background-color: #f6b089;\n",
              "  color: #000000;\n",
              "}\n",
              "#T_e762c_row3_col0, #T_e762c_row4_col3 {\n",
              "  background-color: #f6b691;\n",
              "  color: #000000;\n",
              "}\n",
              "#T_e762c_row3_col1, #T_e762c_row9_col1 {\n",
              "  background-color: #d82748;\n",
              "  color: #f1f1f1;\n",
              "}\n",
              "#T_e762c_row3_col2 {\n",
              "  background-color: #f6b18b;\n",
              "  color: #000000;\n",
              "}\n",
              "#T_e762c_row3_col4 {\n",
              "  background-color: #ef5a41;\n",
              "  color: #f1f1f1;\n",
              "}\n",
              "#T_e762c_row3_col6 {\n",
              "  background-color: #fae8d8;\n",
              "  color: #000000;\n",
              "}\n",
              "#T_e762c_row3_col7 {\n",
              "  background-color: #f69c73;\n",
              "  color: #000000;\n",
              "}\n",
              "#T_e762c_row3_col9 {\n",
              "  background-color: #f47d57;\n",
              "  color: #f1f1f1;\n",
              "}\n",
              "#T_e762c_row3_col10 {\n",
              "  background-color: #f6ad85;\n",
              "  color: #000000;\n",
              "}\n",
              "#T_e762c_row4_col0, #T_e762c_row6_col3 {\n",
              "  background-color: #f9e0cd;\n",
              "  color: #000000;\n",
              "}\n",
              "#T_e762c_row4_col2, #T_e762c_row8_col2 {\n",
              "  background-color: #f69b71;\n",
              "  color: #000000;\n",
              "}\n",
              "#T_e762c_row4_col5, #T_e762c_row8_col6 {\n",
              "  background-color: #fae9da;\n",
              "  color: #000000;\n",
              "}\n",
              "#T_e762c_row4_col6 {\n",
              "  background-color: #fae6d6;\n",
              "  color: #000000;\n",
              "}\n",
              "#T_e762c_row4_col7 {\n",
              "  background-color: #f69e75;\n",
              "  color: #000000;\n",
              "}\n",
              "#T_e762c_row4_col8 {\n",
              "  background-color: #cb1b4f;\n",
              "  color: #f1f1f1;\n",
              "}\n",
              "#T_e762c_row4_col9 {\n",
              "  background-color: #e03143;\n",
              "  color: #f1f1f1;\n",
              "}\n",
              "#T_e762c_row4_col10 {\n",
              "  background-color: #f6b893;\n",
              "  color: #000000;\n",
              "}\n",
              "#T_e762c_row6_col0 {\n",
              "  background-color: #f8d7c0;\n",
              "  color: #000000;\n",
              "}\n",
              "#T_e762c_row6_col4 {\n",
              "  background-color: #f4815a;\n",
              "  color: #f1f1f1;\n",
              "}\n",
              "#T_e762c_row6_col5 {\n",
              "  background-color: #f4835b;\n",
              "  color: #f1f1f1;\n",
              "}\n",
              "#T_e762c_row6_col7, #T_e762c_row6_col10 {\n",
              "  background-color: #f8dac5;\n",
              "  color: #000000;\n",
              "}\n",
              "#T_e762c_row6_col8 {\n",
              "  background-color: #f58f66;\n",
              "  color: #f1f1f1;\n",
              "}\n",
              "#T_e762c_row7_col1 {\n",
              "  background-color: #de2e44;\n",
              "  color: #f1f1f1;\n",
              "}\n",
              "#T_e762c_row7_col4 {\n",
              "  background-color: #ec4a3e;\n",
              "  color: #f1f1f1;\n",
              "}\n",
              "#T_e762c_row7_col8 {\n",
              "  background-color: #ed503e;\n",
              "  color: #f1f1f1;\n",
              "}\n",
              "#T_e762c_row7_col10, #T_e762c_row10_col3 {\n",
              "  background-color: #f6ae87;\n",
              "  color: #000000;\n",
              "}\n",
              "#T_e762c_row8_col1 {\n",
              "  background-color: #c71951;\n",
              "  color: #f1f1f1;\n",
              "}\n",
              "#T_e762c_row8_col4 {\n",
              "  background-color: #c51852;\n",
              "  color: #f1f1f1;\n",
              "}\n",
              "#T_e762c_row8_col9, #T_e762c_row9_col8 {\n",
              "  background-color: #e73d3f;\n",
              "  color: #f1f1f1;\n",
              "}\n",
              "#T_e762c_row8_col10 {\n",
              "  background-color: #f7d0b5;\n",
              "  color: #000000;\n",
              "}\n",
              "#T_e762c_row9_col3 {\n",
              "  background-color: #f7cfb3;\n",
              "  color: #000000;\n",
              "}\n",
              "#T_e762c_row9_col4 {\n",
              "  background-color: #db2946;\n",
              "  color: #f1f1f1;\n",
              "}\n",
              "#T_e762c_row9_col6 {\n",
              "  background-color: #f9e5d4;\n",
              "  color: #000000;\n",
              "}\n",
              "#T_e762c_row9_col7 {\n",
              "  background-color: #f7c2a2;\n",
              "  color: #000000;\n",
              "}\n",
              "#T_e762c_row9_col10 {\n",
              "  background-color: #f8d6be;\n",
              "  color: #000000;\n",
              "}\n",
              "#T_e762c_row10_col1 {\n",
              "  background-color: #dc2b46;\n",
              "  color: #f1f1f1;\n",
              "}\n",
              "#T_e762c_row10_col2 {\n",
              "  background-color: #f6a981;\n",
              "  color: #000000;\n",
              "}\n",
              "#T_e762c_row10_col4 {\n",
              "  background-color: #f05c42;\n",
              "  color: #f1f1f1;\n",
              "}\n",
              "#T_e762c_row10_col7 {\n",
              "  background-color: #f6a880;\n",
              "  color: #000000;\n",
              "}\n",
              "#T_e762c_row10_col9 {\n",
              "  background-color: #f4845d;\n",
              "  color: #f1f1f1;\n",
              "}\n",
              "</style>\n",
              "<table id=\"T_e762c_\" class=\"dataframe\">\n",
              "  <thead>\n",
              "    <tr>\n",
              "      <th class=\"blank level0\" >&nbsp;</th>\n",
              "      <th class=\"col_heading level0 col0\" >gender</th>\n",
              "      <th class=\"col_heading level0 col1\" >age</th>\n",
              "      <th class=\"col_heading level0 col2\" >hypertension</th>\n",
              "      <th class=\"col_heading level0 col3\" >heart_disease</th>\n",
              "      <th class=\"col_heading level0 col4\" >ever_married</th>\n",
              "      <th class=\"col_heading level0 col5\" >work_type</th>\n",
              "      <th class=\"col_heading level0 col6\" >Residence_type</th>\n",
              "      <th class=\"col_heading level0 col7\" >avg_glucose_level</th>\n",
              "      <th class=\"col_heading level0 col8\" >bmi</th>\n",
              "      <th class=\"col_heading level0 col9\" >smoking_status</th>\n",
              "      <th class=\"col_heading level0 col10\" >stroke</th>\n",
              "    </tr>\n",
              "  </thead>\n",
              "  <tbody>\n",
              "    <tr>\n",
              "      <th id=\"T_e762c_level0_row0\" class=\"row_heading level0 row0\" >gender</th>\n",
              "      <td id=\"T_e762c_row0_col0\" class=\"data row0 col0\" >1.000000</td>\n",
              "      <td id=\"T_e762c_row0_col1\" class=\"data row0 col1\" >-0.027752</td>\n",
              "      <td id=\"T_e762c_row0_col2\" class=\"data row0 col2\" >0.021223</td>\n",
              "      <td id=\"T_e762c_row0_col3\" class=\"data row0 col3\" >0.085685</td>\n",
              "      <td id=\"T_e762c_row0_col4\" class=\"data row0 col4\" >-0.030171</td>\n",
              "      <td id=\"T_e762c_row0_col5\" class=\"data row0 col5\" >0.056576</td>\n",
              "      <td id=\"T_e762c_row0_col6\" class=\"data row0 col6\" >-0.006105</td>\n",
              "      <td id=\"T_e762c_row0_col7\" class=\"data row0 col7\" >0.054722</td>\n",
              "      <td id=\"T_e762c_row0_col8\" class=\"data row0 col8\" >-0.025293</td>\n",
              "      <td id=\"T_e762c_row0_col9\" class=\"data row0 col9\" >-0.062423</td>\n",
              "      <td id=\"T_e762c_row0_col10\" class=\"data row0 col10\" >0.009081</td>\n",
              "    </tr>\n",
              "    <tr>\n",
              "      <th id=\"T_e762c_level0_row1\" class=\"row_heading level0 row1\" >age</th>\n",
              "      <td id=\"T_e762c_row1_col0\" class=\"data row1 col0\" >-0.027752</td>\n",
              "      <td id=\"T_e762c_row1_col1\" class=\"data row1 col1\" >1.000000</td>\n",
              "      <td id=\"T_e762c_row1_col2\" class=\"data row1 col2\" >0.276367</td>\n",
              "      <td id=\"T_e762c_row1_col3\" class=\"data row1 col3\" >0.263777</td>\n",
              "      <td id=\"T_e762c_row1_col4\" class=\"data row1 col4\" >0.679084</td>\n",
              "      <td id=\"T_e762c_row1_col5\" class=\"data row1 col5\" >-0.361686</td>\n",
              "      <td id=\"T_e762c_row1_col6\" class=\"data row1 col6\" >0.014031</td>\n",
              "      <td id=\"T_e762c_row1_col7\" class=\"data row1 col7\" >0.238323</td>\n",
              "      <td id=\"T_e762c_row1_col8\" class=\"data row1 col8\" >0.334690</td>\n",
              "      <td id=\"T_e762c_row1_col9\" class=\"data row1 col9\" >0.265165</td>\n",
              "      <td id=\"T_e762c_row1_col10\" class=\"data row1 col10\" >0.245239</td>\n",
              "    </tr>\n",
              "    <tr>\n",
              "      <th id=\"T_e762c_level0_row2\" class=\"row_heading level0 row2\" >hypertension</th>\n",
              "      <td id=\"T_e762c_row2_col0\" class=\"data row2 col0\" >0.021223</td>\n",
              "      <td id=\"T_e762c_row2_col1\" class=\"data row2 col1\" >0.276367</td>\n",
              "      <td id=\"T_e762c_row2_col2\" class=\"data row2 col2\" >1.000000</td>\n",
              "      <td id=\"T_e762c_row2_col3\" class=\"data row2 col3\" >0.108292</td>\n",
              "      <td id=\"T_e762c_row2_col4\" class=\"data row2 col4\" >0.164187</td>\n",
              "      <td id=\"T_e762c_row2_col5\" class=\"data row2 col5\" >-0.051772</td>\n",
              "      <td id=\"T_e762c_row2_col6\" class=\"data row2 col6\" >-0.007980</td>\n",
              "      <td id=\"T_e762c_row2_col7\" class=\"data row2 col7\" >0.174540</td>\n",
              "      <td id=\"T_e762c_row2_col8\" class=\"data row2 col8\" >0.164873</td>\n",
              "      <td id=\"T_e762c_row2_col9\" class=\"data row2 col9\" >0.111018</td>\n",
              "      <td id=\"T_e762c_row2_col10\" class=\"data row2 col10\" >0.127891</td>\n",
              "    </tr>\n",
              "    <tr>\n",
              "      <th id=\"T_e762c_level0_row3\" class=\"row_heading level0 row3\" >heart_disease</th>\n",
              "      <td id=\"T_e762c_row3_col0\" class=\"data row3 col0\" >0.085685</td>\n",
              "      <td id=\"T_e762c_row3_col1\" class=\"data row3 col1\" >0.263777</td>\n",
              "      <td id=\"T_e762c_row3_col2\" class=\"data row3 col2\" >0.108292</td>\n",
              "      <td id=\"T_e762c_row3_col3\" class=\"data row3 col3\" >1.000000</td>\n",
              "      <td id=\"T_e762c_row3_col4\" class=\"data row3 col4\" >0.114601</td>\n",
              "      <td id=\"T_e762c_row3_col5\" class=\"data row3 col5\" >-0.028031</td>\n",
              "      <td id=\"T_e762c_row3_col6\" class=\"data row3 col6\" >0.003045</td>\n",
              "      <td id=\"T_e762c_row3_col7\" class=\"data row3 col7\" >0.161907</td>\n",
              "      <td id=\"T_e762c_row3_col8\" class=\"data row3 col8\" >0.043588</td>\n",
              "      <td id=\"T_e762c_row3_col9\" class=\"data row3 col9\" >0.048445</td>\n",
              "      <td id=\"T_e762c_row3_col10\" class=\"data row3 col10\" >0.134905</td>\n",
              "    </tr>\n",
              "    <tr>\n",
              "      <th id=\"T_e762c_level0_row4\" class=\"row_heading level0 row4\" >ever_married</th>\n",
              "      <td id=\"T_e762c_row4_col0\" class=\"data row4 col0\" >-0.030171</td>\n",
              "      <td id=\"T_e762c_row4_col1\" class=\"data row4 col1\" >0.679084</td>\n",
              "      <td id=\"T_e762c_row4_col2\" class=\"data row4 col2\" >0.164187</td>\n",
              "      <td id=\"T_e762c_row4_col3\" class=\"data row4 col3\" >0.114601</td>\n",
              "      <td id=\"T_e762c_row4_col4\" class=\"data row4 col4\" >1.000000</td>\n",
              "      <td id=\"T_e762c_row4_col5\" class=\"data row4 col5\" >-0.352831</td>\n",
              "      <td id=\"T_e762c_row4_col6\" class=\"data row4 col6\" >0.005988</td>\n",
              "      <td id=\"T_e762c_row4_col7\" class=\"data row4 col7\" >0.155329</td>\n",
              "      <td id=\"T_e762c_row4_col8\" class=\"data row4 col8\" >0.343210</td>\n",
              "      <td id=\"T_e762c_row4_col9\" class=\"data row4 col9\" >0.259604</td>\n",
              "      <td id=\"T_e762c_row4_col10\" class=\"data row4 col10\" >0.108299</td>\n",
              "    </tr>\n",
              "    <tr>\n",
              "      <th id=\"T_e762c_level0_row5\" class=\"row_heading level0 row5\" >work_type</th>\n",
              "      <td id=\"T_e762c_row5_col0\" class=\"data row5 col0\" >0.056576</td>\n",
              "      <td id=\"T_e762c_row5_col1\" class=\"data row5 col1\" >-0.361686</td>\n",
              "      <td id=\"T_e762c_row5_col2\" class=\"data row5 col2\" >-0.051772</td>\n",
              "      <td id=\"T_e762c_row5_col3\" class=\"data row5 col3\" >-0.028031</td>\n",
              "      <td id=\"T_e762c_row5_col4\" class=\"data row5 col4\" >-0.352831</td>\n",
              "      <td id=\"T_e762c_row5_col5\" class=\"data row5 col5\" >1.000000</td>\n",
              "      <td id=\"T_e762c_row5_col6\" class=\"data row5 col6\" >-0.007348</td>\n",
              "      <td id=\"T_e762c_row5_col7\" class=\"data row5 col7\" >-0.050492</td>\n",
              "      <td id=\"T_e762c_row5_col8\" class=\"data row5 col8\" >-0.305980</td>\n",
              "      <td id=\"T_e762c_row5_col9\" class=\"data row5 col9\" >-0.305942</td>\n",
              "      <td id=\"T_e762c_row5_col10\" class=\"data row5 col10\" >-0.032323</td>\n",
              "    </tr>\n",
              "    <tr>\n",
              "      <th id=\"T_e762c_level0_row6\" class=\"row_heading level0 row6\" >Residence_type</th>\n",
              "      <td id=\"T_e762c_row6_col0\" class=\"data row6 col0\" >-0.006105</td>\n",
              "      <td id=\"T_e762c_row6_col1\" class=\"data row6 col1\" >0.014031</td>\n",
              "      <td id=\"T_e762c_row6_col2\" class=\"data row6 col2\" >-0.007980</td>\n",
              "      <td id=\"T_e762c_row6_col3\" class=\"data row6 col3\" >0.003045</td>\n",
              "      <td id=\"T_e762c_row6_col4\" class=\"data row6 col4\" >0.005988</td>\n",
              "      <td id=\"T_e762c_row6_col5\" class=\"data row6 col5\" >-0.007348</td>\n",
              "      <td id=\"T_e762c_row6_col6\" class=\"data row6 col6\" >1.000000</td>\n",
              "      <td id=\"T_e762c_row6_col7\" class=\"data row6 col7\" >-0.004783</td>\n",
              "      <td id=\"T_e762c_row6_col8\" class=\"data row6 col8\" >-0.001106</td>\n",
              "      <td id=\"T_e762c_row6_col9\" class=\"data row6 col9\" >0.008168</td>\n",
              "      <td id=\"T_e762c_row6_col10\" class=\"data row6 col10\" >0.015415</td>\n",
              "    </tr>\n",
              "    <tr>\n",
              "      <th id=\"T_e762c_level0_row7\" class=\"row_heading level0 row7\" >avg_glucose_level</th>\n",
              "      <td id=\"T_e762c_row7_col0\" class=\"data row7 col0\" >0.054722</td>\n",
              "      <td id=\"T_e762c_row7_col1\" class=\"data row7 col1\" >0.238323</td>\n",
              "      <td id=\"T_e762c_row7_col2\" class=\"data row7 col2\" >0.174540</td>\n",
              "      <td id=\"T_e762c_row7_col3\" class=\"data row7 col3\" >0.161907</td>\n",
              "      <td id=\"T_e762c_row7_col4\" class=\"data row7 col4\" >0.155329</td>\n",
              "      <td id=\"T_e762c_row7_col5\" class=\"data row7 col5\" >-0.050492</td>\n",
              "      <td id=\"T_e762c_row7_col6\" class=\"data row7 col6\" >-0.004783</td>\n",
              "      <td id=\"T_e762c_row7_col7\" class=\"data row7 col7\" >1.000000</td>\n",
              "      <td id=\"T_e762c_row7_col8\" class=\"data row7 col8\" >0.172687</td>\n",
              "      <td id=\"T_e762c_row7_col9\" class=\"data row7 col9\" >0.063498</td>\n",
              "      <td id=\"T_e762c_row7_col10\" class=\"data row7 col10\" >0.131991</td>\n",
              "    </tr>\n",
              "    <tr>\n",
              "      <th id=\"T_e762c_level0_row8\" class=\"row_heading level0 row8\" >bmi</th>\n",
              "      <td id=\"T_e762c_row8_col0\" class=\"data row8 col0\" >-0.025293</td>\n",
              "      <td id=\"T_e762c_row8_col1\" class=\"data row8 col1\" >0.334690</td>\n",
              "      <td id=\"T_e762c_row8_col2\" class=\"data row8 col2\" >0.164873</td>\n",
              "      <td id=\"T_e762c_row8_col3\" class=\"data row8 col3\" >0.043588</td>\n",
              "      <td id=\"T_e762c_row8_col4\" class=\"data row8 col4\" >0.343210</td>\n",
              "      <td id=\"T_e762c_row8_col5\" class=\"data row8 col5\" >-0.305980</td>\n",
              "      <td id=\"T_e762c_row8_col6\" class=\"data row8 col6\" >-0.001106</td>\n",
              "      <td id=\"T_e762c_row8_col7\" class=\"data row8 col7\" >0.172687</td>\n",
              "      <td id=\"T_e762c_row8_col8\" class=\"data row8 col8\" >1.000000</td>\n",
              "      <td id=\"T_e762c_row8_col9\" class=\"data row8 col9\" >0.223653</td>\n",
              "      <td id=\"T_e762c_row8_col10\" class=\"data row8 col10\" >0.041482</td>\n",
              "    </tr>\n",
              "    <tr>\n",
              "      <th id=\"T_e762c_level0_row9\" class=\"row_heading level0 row9\" >smoking_status</th>\n",
              "      <td id=\"T_e762c_row9_col0\" class=\"data row9 col0\" >-0.062423</td>\n",
              "      <td id=\"T_e762c_row9_col1\" class=\"data row9 col1\" >0.265165</td>\n",
              "      <td id=\"T_e762c_row9_col2\" class=\"data row9 col2\" >0.111018</td>\n",
              "      <td id=\"T_e762c_row9_col3\" class=\"data row9 col3\" >0.048445</td>\n",
              "      <td id=\"T_e762c_row9_col4\" class=\"data row9 col4\" >0.259604</td>\n",
              "      <td id=\"T_e762c_row9_col5\" class=\"data row9 col5\" >-0.305942</td>\n",
              "      <td id=\"T_e762c_row9_col6\" class=\"data row9 col6\" >0.008168</td>\n",
              "      <td id=\"T_e762c_row9_col7\" class=\"data row9 col7\" >0.063498</td>\n",
              "      <td id=\"T_e762c_row9_col8\" class=\"data row9 col8\" >0.223653</td>\n",
              "      <td id=\"T_e762c_row9_col9\" class=\"data row9 col9\" >1.000000</td>\n",
              "      <td id=\"T_e762c_row9_col10\" class=\"data row9 col10\" >0.028108</td>\n",
              "    </tr>\n",
              "    <tr>\n",
              "      <th id=\"T_e762c_level0_row10\" class=\"row_heading level0 row10\" >stroke</th>\n",
              "      <td id=\"T_e762c_row10_col0\" class=\"data row10 col0\" >0.009081</td>\n",
              "      <td id=\"T_e762c_row10_col1\" class=\"data row10 col1\" >0.245239</td>\n",
              "      <td id=\"T_e762c_row10_col2\" class=\"data row10 col2\" >0.127891</td>\n",
              "      <td id=\"T_e762c_row10_col3\" class=\"data row10 col3\" >0.134905</td>\n",
              "      <td id=\"T_e762c_row10_col4\" class=\"data row10 col4\" >0.108299</td>\n",
              "      <td id=\"T_e762c_row10_col5\" class=\"data row10 col5\" >-0.032323</td>\n",
              "      <td id=\"T_e762c_row10_col6\" class=\"data row10 col6\" >0.015415</td>\n",
              "      <td id=\"T_e762c_row10_col7\" class=\"data row10 col7\" >0.131991</td>\n",
              "      <td id=\"T_e762c_row10_col8\" class=\"data row10 col8\" >0.041482</td>\n",
              "      <td id=\"T_e762c_row10_col9\" class=\"data row10 col9\" >0.028108</td>\n",
              "      <td id=\"T_e762c_row10_col10\" class=\"data row10 col10\" >1.000000</td>\n",
              "    </tr>\n",
              "  </tbody>\n",
              "</table>\n"
            ],
            "text/plain": [
              "<pandas.io.formats.style.Styler at 0x7f2b3f467b20>"
            ]
          },
          "execution_count": 22,
          "metadata": {},
          "output_type": "execute_result"
        }
      ],
      "source": [
        "df.corr().style.background_gradient(cmap=\"rocket_r\")"
      ]
    },
    {
      "cell_type": "markdown",
      "metadata": {
        "id": "xS6xeGPiLpoM"
      },
      "source": [
        "Selecting the k=6 best features using SelectKBest and chi2 as score function."
      ]
    },
    {
      "cell_type": "code",
      "execution_count": null,
      "metadata": {
        "colab": {
          "base_uri": "https://localhost:8080/"
        },
        "id": "uW0gEbILJClR",
        "outputId": "19a75f16-83a5-4da5-8742-e1b9cd0ddad8"
      },
      "outputs": [
        {
          "name": "stdout",
          "output_type": "stream",
          "text": [
            "The best features are:['age', 'hypertension', 'heart_disease', 'ever_married', 'avg_glucose_level', 'bmi']\n",
            "Removed features: ['gender', 'work_type', 'Residence_type', 'smoking_status']\n"
          ]
        }
      ],
      "source": [
        "X_6_best= SelectKBest(chi2, k=6).fit(X_train, y_train)\n",
        "mask = X_6_best.get_support() #list of booleans for selected features\n",
        "new_feat = [] \n",
        "removed_features = []\n",
        "for bool, feature in zip(mask, X_train.columns):\n",
        "    if bool:\n",
        "        new_feat.append(feature)\n",
        "    else:\n",
        "      removed_features.append(feature)\n",
        "print(f\"The best features are:{new_feat}\")\n",
        "print(f\"Removed features: {removed_features}\")"
      ]
    },
    {
      "cell_type": "code",
      "execution_count": null,
      "metadata": {
        "colab": {
          "base_uri": "https://localhost:8080/",
          "height": 424
        },
        "id": "FkBv6DxMJOQp",
        "outputId": "37c05d94-7d2b-4b0b-926b-165c64e33290"
      },
      "outputs": [
        {
          "data": {
            "text/html": [
              "\n",
              "  <div id=\"df-a0fd5075-1e81-442d-a601-300d6c3f8af7\">\n",
              "    <div class=\"colab-df-container\">\n",
              "      <div>\n",
              "<style scoped>\n",
              "    .dataframe tbody tr th:only-of-type {\n",
              "        vertical-align: middle;\n",
              "    }\n",
              "\n",
              "    .dataframe tbody tr th {\n",
              "        vertical-align: top;\n",
              "    }\n",
              "\n",
              "    .dataframe thead th {\n",
              "        text-align: right;\n",
              "    }\n",
              "</style>\n",
              "<table border=\"1\" class=\"dataframe\">\n",
              "  <thead>\n",
              "    <tr style=\"text-align: right;\">\n",
              "      <th></th>\n",
              "      <th>age</th>\n",
              "      <th>hypertension</th>\n",
              "      <th>heart_disease</th>\n",
              "      <th>ever_married</th>\n",
              "      <th>avg_glucose_level</th>\n",
              "      <th>bmi</th>\n",
              "      <th>stroke</th>\n",
              "    </tr>\n",
              "  </thead>\n",
              "  <tbody>\n",
              "    <tr>\n",
              "      <th>0</th>\n",
              "      <td>67.0</td>\n",
              "      <td>0</td>\n",
              "      <td>1</td>\n",
              "      <td>1</td>\n",
              "      <td>228.69</td>\n",
              "      <td>36.600000</td>\n",
              "      <td>1</td>\n",
              "    </tr>\n",
              "    <tr>\n",
              "      <th>1</th>\n",
              "      <td>61.0</td>\n",
              "      <td>0</td>\n",
              "      <td>0</td>\n",
              "      <td>1</td>\n",
              "      <td>202.21</td>\n",
              "      <td>29.879487</td>\n",
              "      <td>1</td>\n",
              "    </tr>\n",
              "    <tr>\n",
              "      <th>2</th>\n",
              "      <td>80.0</td>\n",
              "      <td>0</td>\n",
              "      <td>1</td>\n",
              "      <td>1</td>\n",
              "      <td>105.92</td>\n",
              "      <td>32.500000</td>\n",
              "      <td>1</td>\n",
              "    </tr>\n",
              "    <tr>\n",
              "      <th>3</th>\n",
              "      <td>49.0</td>\n",
              "      <td>0</td>\n",
              "      <td>0</td>\n",
              "      <td>1</td>\n",
              "      <td>171.23</td>\n",
              "      <td>34.400000</td>\n",
              "      <td>1</td>\n",
              "    </tr>\n",
              "    <tr>\n",
              "      <th>4</th>\n",
              "      <td>79.0</td>\n",
              "      <td>1</td>\n",
              "      <td>0</td>\n",
              "      <td>1</td>\n",
              "      <td>174.12</td>\n",
              "      <td>24.000000</td>\n",
              "      <td>1</td>\n",
              "    </tr>\n",
              "    <tr>\n",
              "      <th>...</th>\n",
              "      <td>...</td>\n",
              "      <td>...</td>\n",
              "      <td>...</td>\n",
              "      <td>...</td>\n",
              "      <td>...</td>\n",
              "      <td>...</td>\n",
              "      <td>...</td>\n",
              "    </tr>\n",
              "    <tr>\n",
              "      <th>5105</th>\n",
              "      <td>80.0</td>\n",
              "      <td>1</td>\n",
              "      <td>0</td>\n",
              "      <td>1</td>\n",
              "      <td>83.75</td>\n",
              "      <td>28.476923</td>\n",
              "      <td>0</td>\n",
              "    </tr>\n",
              "    <tr>\n",
              "      <th>5106</th>\n",
              "      <td>81.0</td>\n",
              "      <td>0</td>\n",
              "      <td>0</td>\n",
              "      <td>1</td>\n",
              "      <td>125.20</td>\n",
              "      <td>40.000000</td>\n",
              "      <td>0</td>\n",
              "    </tr>\n",
              "    <tr>\n",
              "      <th>5107</th>\n",
              "      <td>35.0</td>\n",
              "      <td>0</td>\n",
              "      <td>0</td>\n",
              "      <td>1</td>\n",
              "      <td>82.99</td>\n",
              "      <td>30.600000</td>\n",
              "      <td>0</td>\n",
              "    </tr>\n",
              "    <tr>\n",
              "      <th>5108</th>\n",
              "      <td>51.0</td>\n",
              "      <td>0</td>\n",
              "      <td>0</td>\n",
              "      <td>1</td>\n",
              "      <td>166.29</td>\n",
              "      <td>25.600000</td>\n",
              "      <td>0</td>\n",
              "    </tr>\n",
              "    <tr>\n",
              "      <th>5109</th>\n",
              "      <td>44.0</td>\n",
              "      <td>0</td>\n",
              "      <td>0</td>\n",
              "      <td>1</td>\n",
              "      <td>85.28</td>\n",
              "      <td>26.200000</td>\n",
              "      <td>0</td>\n",
              "    </tr>\n",
              "  </tbody>\n",
              "</table>\n",
              "<p>5109 rows × 7 columns</p>\n",
              "</div>\n",
              "      <button class=\"colab-df-convert\" onclick=\"convertToInteractive('df-a0fd5075-1e81-442d-a601-300d6c3f8af7')\"\n",
              "              title=\"Convert this dataframe to an interactive table.\"\n",
              "              style=\"display:none;\">\n",
              "        \n",
              "  <svg xmlns=\"http://www.w3.org/2000/svg\" height=\"24px\"viewBox=\"0 0 24 24\"\n",
              "       width=\"24px\">\n",
              "    <path d=\"M0 0h24v24H0V0z\" fill=\"none\"/>\n",
              "    <path d=\"M18.56 5.44l.94 2.06.94-2.06 2.06-.94-2.06-.94-.94-2.06-.94 2.06-2.06.94zm-11 1L8.5 8.5l.94-2.06 2.06-.94-2.06-.94L8.5 2.5l-.94 2.06-2.06.94zm10 10l.94 2.06.94-2.06 2.06-.94-2.06-.94-.94-2.06-.94 2.06-2.06.94z\"/><path d=\"M17.41 7.96l-1.37-1.37c-.4-.4-.92-.59-1.43-.59-.52 0-1.04.2-1.43.59L10.3 9.45l-7.72 7.72c-.78.78-.78 2.05 0 2.83L4 21.41c.39.39.9.59 1.41.59.51 0 1.02-.2 1.41-.59l7.78-7.78 2.81-2.81c.8-.78.8-2.07 0-2.86zM5.41 20L4 18.59l7.72-7.72 1.47 1.35L5.41 20z\"/>\n",
              "  </svg>\n",
              "      </button>\n",
              "      \n",
              "  <style>\n",
              "    .colab-df-container {\n",
              "      display:flex;\n",
              "      flex-wrap:wrap;\n",
              "      gap: 12px;\n",
              "    }\n",
              "\n",
              "    .colab-df-convert {\n",
              "      background-color: #E8F0FE;\n",
              "      border: none;\n",
              "      border-radius: 50%;\n",
              "      cursor: pointer;\n",
              "      display: none;\n",
              "      fill: #1967D2;\n",
              "      height: 32px;\n",
              "      padding: 0 0 0 0;\n",
              "      width: 32px;\n",
              "    }\n",
              "\n",
              "    .colab-df-convert:hover {\n",
              "      background-color: #E2EBFA;\n",
              "      box-shadow: 0px 1px 2px rgba(60, 64, 67, 0.3), 0px 1px 3px 1px rgba(60, 64, 67, 0.15);\n",
              "      fill: #174EA6;\n",
              "    }\n",
              "\n",
              "    [theme=dark] .colab-df-convert {\n",
              "      background-color: #3B4455;\n",
              "      fill: #D2E3FC;\n",
              "    }\n",
              "\n",
              "    [theme=dark] .colab-df-convert:hover {\n",
              "      background-color: #434B5C;\n",
              "      box-shadow: 0px 1px 3px 1px rgba(0, 0, 0, 0.15);\n",
              "      filter: drop-shadow(0px 1px 2px rgba(0, 0, 0, 0.3));\n",
              "      fill: #FFFFFF;\n",
              "    }\n",
              "  </style>\n",
              "\n",
              "      <script>\n",
              "        const buttonEl =\n",
              "          document.querySelector('#df-a0fd5075-1e81-442d-a601-300d6c3f8af7 button.colab-df-convert');\n",
              "        buttonEl.style.display =\n",
              "          google.colab.kernel.accessAllowed ? 'block' : 'none';\n",
              "\n",
              "        async function convertToInteractive(key) {\n",
              "          const element = document.querySelector('#df-a0fd5075-1e81-442d-a601-300d6c3f8af7');\n",
              "          const dataTable =\n",
              "            await google.colab.kernel.invokeFunction('convertToInteractive',\n",
              "                                                     [key], {});\n",
              "          if (!dataTable) return;\n",
              "\n",
              "          const docLinkHtml = 'Like what you see? Visit the ' +\n",
              "            '<a target=\"_blank\" href=https://colab.research.google.com/notebooks/data_table.ipynb>data table notebook</a>'\n",
              "            + ' to learn more about interactive tables.';\n",
              "          element.innerHTML = '';\n",
              "          dataTable['output_type'] = 'display_data';\n",
              "          await google.colab.output.renderOutput(dataTable, element);\n",
              "          const docLink = document.createElement('div');\n",
              "          docLink.innerHTML = docLinkHtml;\n",
              "          element.appendChild(docLink);\n",
              "        }\n",
              "      </script>\n",
              "    </div>\n",
              "  </div>\n",
              "  "
            ],
            "text/plain": [
              "       age  hypertension  heart_disease  ever_married  avg_glucose_level  \\\n",
              "0     67.0             0              1             1             228.69   \n",
              "1     61.0             0              0             1             202.21   \n",
              "2     80.0             0              1             1             105.92   \n",
              "3     49.0             0              0             1             171.23   \n",
              "4     79.0             1              0             1             174.12   \n",
              "...    ...           ...            ...           ...                ...   \n",
              "5105  80.0             1              0             1              83.75   \n",
              "5106  81.0             0              0             1             125.20   \n",
              "5107  35.0             0              0             1              82.99   \n",
              "5108  51.0             0              0             1             166.29   \n",
              "5109  44.0             0              0             1              85.28   \n",
              "\n",
              "            bmi  stroke  \n",
              "0     36.600000       1  \n",
              "1     29.879487       1  \n",
              "2     32.500000       1  \n",
              "3     34.400000       1  \n",
              "4     24.000000       1  \n",
              "...         ...     ...  \n",
              "5105  28.476923       0  \n",
              "5106  40.000000       0  \n",
              "5107  30.600000       0  \n",
              "5108  25.600000       0  \n",
              "5109  26.200000       0  \n",
              "\n",
              "[5109 rows x 7 columns]"
            ]
          },
          "execution_count": 24,
          "metadata": {},
          "output_type": "execute_result"
        }
      ],
      "source": [
        "df = df.drop(removed_features, axis = 1)\n",
        "df"
      ]
    },
    {
      "cell_type": "markdown",
      "metadata": {
        "id": "YtongHHmNitd"
      },
      "source": [
        "### 3.5 Oversampling the dataset\n"
      ]
    },
    {
      "cell_type": "markdown",
      "metadata": {
        "id": "8IUtE0QqS-sn"
      },
      "source": [
        "Since the dataset was highly imbalanced concerning the occurrence of stroke, we balanced it using an over-sampling technique on the training set, in particular we applied the Synthetic Minority Oversampling Technique (SMOTE). "
      ]
    },
    {
      "cell_type": "code",
      "execution_count": null,
      "metadata": {
        "id": "KCY3pj3u0IrI"
      },
      "outputs": [],
      "source": [
        "X, y = df.iloc[:, 0:-1], df.iloc[:, -1:] # old dataset\n",
        "X_train, X_test, y_train, y_test = train_test_split(X.values, y.values, test_size = 0.2, random_state = 0)\n",
        "y_train, y_test = y_train.ravel(), y_test.ravel()\n",
        "\n",
        "oversample = SMOTE()\n",
        "X_train, y_train = oversample.fit_resample(X_train, y_train)"
      ]
    },
    {
      "cell_type": "markdown",
      "metadata": {
        "id": "gUgLymffQns_"
      },
      "source": [
        "We applied SMOTE only on the training set, increasing the minority class samples, and not on the entire dataset in order to avoid having a test set that have exact duplicates of the minority samples of the training set, hence not to have mistaken high performance score when we would apply our models."
      ]
    },
    {
      "cell_type": "code",
      "execution_count": null,
      "metadata": {
        "colab": {
          "base_uri": "https://localhost:8080/",
          "height": 291
        },
        "id": "4Zpe7FOy3rUl",
        "outputId": "69228247-ddf3-41dd-f75d-75a6f00c4748"
      },
      "outputs": [
        {
          "data": {
            "image/png": "[encoded data removed]",
            "text/plain": [
              "<Figure size 432x288 with 1 Axes>"
            ]
          },
          "metadata": {},
          "output_type": "display_data"
        }
      ],
      "source": [
        "df = pd.concat([X, y], axis = 1)\n",
        "\n",
        "y_zero = np.count_nonzero(y_train==0)\n",
        "y_one = np.count_nonzero(y_train==1)\n",
        "\n",
        "oneZero_count = pd.DataFrame(data = [y_zero, y_one])\n",
        "\n",
        "fig, ax = plt.subplots()\n",
        "ax.pie(oneZero_count.values.flatten(), labels=['No Stroke', 'Stroke'], colors=['grey', 'red'], autopct='%.1f%%')\n",
        "ax.axis('equal')\n",
        "ax.set_title('Visualization after SMOTE', pad = \"20\")\n",
        "plt.show()"
      ]
    },
    {
      "cell_type": "code",
      "execution_count": null,
      "metadata": {
        "colab": {
          "base_uri": "https://localhost:8080/"
        },
        "id": "GwcsnWon2g2h",
        "outputId": "52018d93-c0eb-4303-e293-7b11050091f2"
      },
      "outputs": [
        {
          "name": "stdout",
          "output_type": "stream",
          "text": [
            "Number of negative examples: 3892\n",
            "Number of positive examples: 3892\n"
          ]
        }
      ],
      "source": [
        "print(\"Number of negative examples: \" + str(y_zero))\n",
        "print(\"Number of positive examples: \" + str(y_one))"
      ]
    },
    {
      "cell_type": "markdown",
      "metadata": {
        "id": "h2xWBd_cT31Y"
      },
      "source": [
        "Now we are going to run different classification algorithms to see how they perform on this dataset and collect the most relevant results into a vector."
      ]
    },
    {
      "cell_type": "code",
      "execution_count": null,
      "metadata": {
        "id": "tJww1Qq8WIqV"
      },
      "outputs": [],
      "source": [
        "models_score = []"
      ]
    },
    {
      "cell_type": "markdown",
      "metadata": {
        "id": "xMCpzz2fe9Vi"
      },
      "source": [
        "# 4. Application of models"
      ]
    },
    {
      "cell_type": "markdown",
      "metadata": {
        "id": "63I7p0CDKwN8"
      },
      "source": [
        "### 4.1 Logistic Regression\n",
        "We now apply Logistic Regression in order to build a model that allows us to predict new samples:"
      ]
    },
    {
      "cell_type": "code",
      "execution_count": null,
      "metadata": {
        "id": "7fQ23RZlLIOJ"
      },
      "outputs": [],
      "source": [
        "#Apply the sigmoid function over the vector z\n",
        "def sigmoid(z):\n",
        "  z = 1 / (1 + np.exp(-z))\n",
        "  return z\n",
        "\n",
        "#Compute the loss\n",
        "def cost_function(X, y, theta):\n",
        "  N = X.shape[0]\n",
        "  sigmoid_func = sigmoid(np.dot(X, theta))\n",
        "  cost =- np.sum(y * np.log(sigmoid_func) + (1 - y) * np.log(1 - sigmoid_func)) / N #Negative log likelihood (to be minimized)\n",
        "  return cost\n",
        "\n",
        "#Compute the gradient to be used in gradient descent\n",
        "def compute_gradient(X, y, theta):\n",
        "  N = X.shape[0]\n",
        "  sigmoid_func = sigmoid(np.dot(X, theta))\n",
        "  dt = np.dot(X.T, (sigmoid_func - y)) / N\n",
        "  return dt\n",
        "\n",
        "#Compute gradient descent\n",
        "def gradient_descent(X, y, iterations, alpha):\n",
        "    y = y.reshape(-1, 1)\n",
        "    theta = np.zeros((X.shape[1], 1))\n",
        "    costs = {}\n",
        "\n",
        "    for it in range(iterations):\n",
        "      cost = cost_function(X, y, theta)\n",
        "      costs[it] = cost #Keep track of the loss at each iteration\n",
        "      dt = compute_gradient(X, y, theta)\n",
        "      theta = theta - alpha * dt #Update function\n",
        "    \n",
        "    return costs, theta #theta is the optimized weight vector\n",
        "\n",
        "#Make the prediction on the samples X with parameters theta\n",
        "def make_prediction(X, theta):\n",
        "    theta = theta.reshape(X.shape[1], 1)\n",
        "    y_pred = sigmoid(np.dot(X, theta))\n",
        "    return y_pred\n"
      ]
    },
    {
      "cell_type": "markdown",
      "metadata": {
        "id": "pqfxIFi6abFA"
      },
      "source": [
        "This is an implementation from scratch of the Logistic Regression algorithm that makes use of gradient descent to try to reduce the cost at each step. We preferred using a lower learning rate and a higher number of iterations because we noticed that with a slightly higher learning rate the function diverges quickly. Using a n=1000 iterations and a learning rate of α=0.0004, the variation of the cost is the following:"
      ]
    },
    {
      "cell_type": "code",
      "execution_count": null,
      "metadata": {
        "colab": {
          "base_uri": "https://localhost:8080/",
          "height": 320
        },
        "id": "fworM7CfbB31",
        "outputId": "edf2e718-c899-400f-8096-25fa3f0e19fc"
      },
      "outputs": [
        {
          "data": {
            "text/plain": [
              "Text(0, 0.5, 'Loss')"
            ]
          },
          "execution_count": 30,
          "metadata": {},
          "output_type": "execute_result"
        },
        {
          "data": {
            "image/png": "[encoded data removed]",
            "text/plain": [
              "<Figure size 432x288 with 1 Axes>"
            ]
          },
          "metadata": {},
          "output_type": "display_data"
        }
      ],
      "source": [
        "costs, theta = gradient_descent(X_train, y_train, 1000, 4e-4)\n",
        "y_pred_train = make_prediction(X_train, theta)\n",
        "y_pred_test = make_prediction(X_test, theta)\n",
        "\n",
        "plt.plot(list(costs.keys()), list(costs.values()))\n",
        "plt.xlabel('Number of iterations')\n",
        "plt.ylabel('Loss')"
      ]
    },
    {
      "cell_type": "markdown",
      "metadata": {
        "id": "tBo_NqbxQl6a"
      },
      "source": [
        "Now, we see what happens when varying the threshold on the training set and the testing set:"
      ]
    },
    {
      "cell_type": "code",
      "execution_count": null,
      "metadata": {
        "colab": {
          "base_uri": "https://localhost:8080/",
          "height": 367
        },
        "id": "bMuow1GpcD-8",
        "outputId": "0675d49f-6ece-4328-e91f-b1665d8c360b"
      },
      "outputs": [
        {
          "name": "stdout",
          "output_type": "stream",
          "text": [
            "Training set metrics:\n"
          ]
        },
        {
          "data": {
            "text/html": [
              "\n",
              "  <div id=\"df-c2a6fd20-031c-44d4-a444-18f8bcfd5285\">\n",
              "    <div class=\"colab-df-container\">\n",
              "      <div>\n",
              "<style scoped>\n",
              "    .dataframe tbody tr th:only-of-type {\n",
              "        vertical-align: middle;\n",
              "    }\n",
              "\n",
              "    .dataframe tbody tr th {\n",
              "        vertical-align: top;\n",
              "    }\n",
              "\n",
              "    .dataframe thead th {\n",
              "        text-align: right;\n",
              "    }\n",
              "</style>\n",
              "<table border=\"1\" class=\"dataframe\">\n",
              "  <thead>\n",
              "    <tr style=\"text-align: right;\">\n",
              "      <th></th>\n",
              "      <th>0.05</th>\n",
              "      <th>0.10</th>\n",
              "      <th>0.15</th>\n",
              "      <th>0.20</th>\n",
              "      <th>0.25</th>\n",
              "      <th>0.30</th>\n",
              "      <th>0.35</th>\n",
              "      <th>0.40</th>\n",
              "      <th>0.45</th>\n",
              "      <th>0.50</th>\n",
              "      <th>0.55</th>\n",
              "      <th>0.60</th>\n",
              "      <th>0.65</th>\n",
              "      <th>0.70</th>\n",
              "      <th>0.75</th>\n",
              "      <th>0.80</th>\n",
              "      <th>0.85</th>\n",
              "      <th>0.90</th>\n",
              "      <th>0.95</th>\n",
              "    </tr>\n",
              "  </thead>\n",
              "  <tbody>\n",
              "    <tr>\n",
              "      <th>accuracy</th>\n",
              "      <td>0.519913</td>\n",
              "      <td>0.552158</td>\n",
              "      <td>0.603931</td>\n",
              "      <td>0.659173</td>\n",
              "      <td>0.697842</td>\n",
              "      <td>0.721865</td>\n",
              "      <td>0.732785</td>\n",
              "      <td>0.736639</td>\n",
              "      <td>0.735997</td>\n",
              "      <td>0.727261</td>\n",
              "      <td>0.723022</td>\n",
              "      <td>0.723664</td>\n",
              "      <td>0.714157</td>\n",
              "      <td>0.708890</td>\n",
              "      <td>0.680884</td>\n",
              "      <td>0.641316</td>\n",
              "      <td>0.590185</td>\n",
              "      <td>0.527107</td>\n",
              "      <td>0.500257</td>\n",
              "    </tr>\n",
              "    <tr>\n",
              "      <th>precision</th>\n",
              "      <td>0.510159</td>\n",
              "      <td>0.527552</td>\n",
              "      <td>0.558243</td>\n",
              "      <td>0.596240</td>\n",
              "      <td>0.627780</td>\n",
              "      <td>0.651677</td>\n",
              "      <td>0.669346</td>\n",
              "      <td>0.684791</td>\n",
              "      <td>0.699284</td>\n",
              "      <td>0.710345</td>\n",
              "      <td>0.725924</td>\n",
              "      <td>0.749355</td>\n",
              "      <td>0.766549</td>\n",
              "      <td>0.787076</td>\n",
              "      <td>0.803972</td>\n",
              "      <td>0.815729</td>\n",
              "      <td>0.831132</td>\n",
              "      <td>0.807580</td>\n",
              "      <td>0.600000</td>\n",
              "    </tr>\n",
              "    <tr>\n",
              "      <th>recall</th>\n",
              "      <td>1.000000</td>\n",
              "      <td>0.998715</td>\n",
              "      <td>0.996146</td>\n",
              "      <td>0.986125</td>\n",
              "      <td>0.971994</td>\n",
              "      <td>0.953237</td>\n",
              "      <td>0.920092</td>\n",
              "      <td>0.876927</td>\n",
              "      <td>0.828109</td>\n",
              "      <td>0.767472</td>\n",
              "      <td>0.716598</td>\n",
              "      <td>0.672148</td>\n",
              "      <td>0.615879</td>\n",
              "      <td>0.572713</td>\n",
              "      <td>0.478417</td>\n",
              "      <td>0.365108</td>\n",
              "      <td>0.226362</td>\n",
              "      <td>0.071172</td>\n",
              "      <td>0.001542</td>\n",
              "    </tr>\n",
              "    <tr>\n",
              "      <th>f1</th>\n",
              "      <td>0.675636</td>\n",
              "      <td>0.690409</td>\n",
              "      <td>0.715512</td>\n",
              "      <td>0.743150</td>\n",
              "      <td>0.762855</td>\n",
              "      <td>0.774126</td>\n",
              "      <td>0.774940</td>\n",
              "      <td>0.769040</td>\n",
              "      <td>0.758264</td>\n",
              "      <td>0.737804</td>\n",
              "      <td>0.721231</td>\n",
              "      <td>0.708655</td>\n",
              "      <td>0.683003</td>\n",
              "      <td>0.662998</td>\n",
              "      <td>0.599871</td>\n",
              "      <td>0.504437</td>\n",
              "      <td>0.355816</td>\n",
              "      <td>0.130815</td>\n",
              "      <td>0.003075</td>\n",
              "    </tr>\n",
              "  </tbody>\n",
              "</table>\n",
              "</div>\n",
              "      <button class=\"colab-df-convert\" onclick=\"convertToInteractive('df-c2a6fd20-031c-44d4-a444-18f8bcfd5285')\"\n",
              "              title=\"Convert this dataframe to an interactive table.\"\n",
              "              style=\"display:none;\">\n",
              "        \n",
              "  <svg xmlns=\"http://www.w3.org/2000/svg\" height=\"24px\"viewBox=\"0 0 24 24\"\n",
              "       width=\"24px\">\n",
              "    <path d=\"M0 0h24v24H0V0z\" fill=\"none\"/>\n",
              "    <path d=\"M18.56 5.44l.94 2.06.94-2.06 2.06-.94-2.06-.94-.94-2.06-.94 2.06-2.06.94zm-11 1L8.5 8.5l.94-2.06 2.06-.94-2.06-.94L8.5 2.5l-.94 2.06-2.06.94zm10 10l.94 2.06.94-2.06 2.06-.94-2.06-.94-.94-2.06-.94 2.06-2.06.94z\"/><path d=\"M17.41 7.96l-1.37-1.37c-.4-.4-.92-.59-1.43-.59-.52 0-1.04.2-1.43.59L10.3 9.45l-7.72 7.72c-.78.78-.78 2.05 0 2.83L4 21.41c.39.39.9.59 1.41.59.51 0 1.02-.2 1.41-.59l7.78-7.78 2.81-2.81c.8-.78.8-2.07 0-2.86zM5.41 20L4 18.59l7.72-7.72 1.47 1.35L5.41 20z\"/>\n",
              "  </svg>\n",
              "      </button>\n",
              "      \n",
              "  <style>\n",
              "    .colab-df-container {\n",
              "      display:flex;\n",
              "      flex-wrap:wrap;\n",
              "      gap: 12px;\n",
              "    }\n",
              "\n",
              "    .colab-df-convert {\n",
              "      background-color: #E8F0FE;\n",
              "      border: none;\n",
              "      border-radius: 50%;\n",
              "      cursor: pointer;\n",
              "      display: none;\n",
              "      fill: #1967D2;\n",
              "      height: 32px;\n",
              "      padding: 0 0 0 0;\n",
              "      width: 32px;\n",
              "    }\n",
              "\n",
              "    .colab-df-convert:hover {\n",
              "      background-color: #E2EBFA;\n",
              "      box-shadow: 0px 1px 2px rgba(60, 64, 67, 0.3), 0px 1px 3px 1px rgba(60, 64, 67, 0.15);\n",
              "      fill: #174EA6;\n",
              "    }\n",
              "\n",
              "    [theme=dark] .colab-df-convert {\n",
              "      background-color: #3B4455;\n",
              "      fill: #D2E3FC;\n",
              "    }\n",
              "\n",
              "    [theme=dark] .colab-df-convert:hover {\n",
              "      background-color: #434B5C;\n",
              "      box-shadow: 0px 1px 3px 1px rgba(0, 0, 0, 0.15);\n",
              "      filter: drop-shadow(0px 1px 2px rgba(0, 0, 0, 0.3));\n",
              "      fill: #FFFFFF;\n",
              "    }\n",
              "  </style>\n",
              "\n",
              "      <script>\n",
              "        const buttonEl =\n",
              "          document.querySelector('#df-c2a6fd20-031c-44d4-a444-18f8bcfd5285 button.colab-df-convert');\n",
              "        buttonEl.style.display =\n",
              "          google.colab.kernel.accessAllowed ? 'block' : 'none';\n",
              "\n",
              "        async function convertToInteractive(key) {\n",
              "          const element = document.querySelector('#df-c2a6fd20-031c-44d4-a444-18f8bcfd5285');\n",
              "          const dataTable =\n",
              "            await google.colab.kernel.invokeFunction('convertToInteractive',\n",
              "                                                     [key], {});\n",
              "          if (!dataTable) return;\n",
              "\n",
              "          const docLinkHtml = 'Like what you see? Visit the ' +\n",
              "            '<a target=\"_blank\" href=https://colab.research.google.com/notebooks/data_table.ipynb>data table notebook</a>'\n",
              "            + ' to learn more about interactive tables.';\n",
              "          element.innerHTML = '';\n",
              "          dataTable['output_type'] = 'display_data';\n",
              "          await google.colab.output.renderOutput(dataTable, element);\n",
              "          const docLink = document.createElement('div');\n",
              "          docLink.innerHTML = docLinkHtml;\n",
              "          element.appendChild(docLink);\n",
              "        }\n",
              "      </script>\n",
              "    </div>\n",
              "  </div>\n",
              "  "
            ],
            "text/plain": [
              "               0.05      0.10      0.15      0.20      0.25      0.30  \\\n",
              "accuracy   0.519913  0.552158  0.603931  0.659173  0.697842  0.721865   \n",
              "precision  0.510159  0.527552  0.558243  0.596240  0.627780  0.651677   \n",
              "recall     1.000000  0.998715  0.996146  0.986125  0.971994  0.953237   \n",
              "f1         0.675636  0.690409  0.715512  0.743150  0.762855  0.774126   \n",
              "\n",
              "               0.35      0.40      0.45      0.50      0.55      0.60  \\\n",
              "accuracy   0.732785  0.736639  0.735997  0.727261  0.723022  0.723664   \n",
              "precision  0.669346  0.684791  0.699284  0.710345  0.725924  0.749355   \n",
              "recall     0.920092  0.876927  0.828109  0.767472  0.716598  0.672148   \n",
              "f1         0.774940  0.769040  0.758264  0.737804  0.721231  0.708655   \n",
              "\n",
              "               0.65      0.70      0.75      0.80      0.85      0.90  \\\n",
              "accuracy   0.714157  0.708890  0.680884  0.641316  0.590185  0.527107   \n",
              "precision  0.766549  0.787076  0.803972  0.815729  0.831132  0.807580   \n",
              "recall     0.615879  0.572713  0.478417  0.365108  0.226362  0.071172   \n",
              "f1         0.683003  0.662998  0.599871  0.504437  0.355816  0.130815   \n",
              "\n",
              "               0.95  \n",
              "accuracy   0.500257  \n",
              "precision  0.600000  \n",
              "recall     0.001542  \n",
              "f1         0.003075  "
            ]
          },
          "metadata": {},
          "output_type": "display_data"
        },
        {
          "name": "stdout",
          "output_type": "stream",
          "text": [
            "Testing Set metrics:\n"
          ]
        },
        {
          "data": {
            "text/html": [
              "\n",
              "  <div id=\"df-722c7b00-f140-4c56-8d59-5feb35d70dc6\">\n",
              "    <div class=\"colab-df-container\">\n",
              "      <div>\n",
              "<style scoped>\n",
              "    .dataframe tbody tr th:only-of-type {\n",
              "        vertical-align: middle;\n",
              "    }\n",
              "\n",
              "    .dataframe tbody tr th {\n",
              "        vertical-align: top;\n",
              "    }\n",
              "\n",
              "    .dataframe thead th {\n",
              "        text-align: right;\n",
              "    }\n",
              "</style>\n",
              "<table border=\"1\" class=\"dataframe\">\n",
              "  <thead>\n",
              "    <tr style=\"text-align: right;\">\n",
              "      <th></th>\n",
              "      <th>0.05</th>\n",
              "      <th>0.10</th>\n",
              "      <th>0.15</th>\n",
              "      <th>0.20</th>\n",
              "      <th>0.25</th>\n",
              "      <th>0.30</th>\n",
              "      <th>0.35</th>\n",
              "      <th>0.40</th>\n",
              "      <th>0.45</th>\n",
              "      <th>0.50</th>\n",
              "      <th>0.55</th>\n",
              "      <th>0.60</th>\n",
              "      <th>0.65</th>\n",
              "      <th>0.70</th>\n",
              "      <th>0.75</th>\n",
              "      <th>0.80</th>\n",
              "      <th>0.85</th>\n",
              "      <th>0.90</th>\n",
              "      <th>0.95</th>\n",
              "    </tr>\n",
              "  </thead>\n",
              "  <tbody>\n",
              "    <tr>\n",
              "      <th>accuracy</th>\n",
              "      <td>0.083170</td>\n",
              "      <td>0.168297</td>\n",
              "      <td>0.278865</td>\n",
              "      <td>0.407045</td>\n",
              "      <td>0.472603</td>\n",
              "      <td>0.539139</td>\n",
              "      <td>0.587084</td>\n",
              "      <td>0.632094</td>\n",
              "      <td>0.679061</td>\n",
              "      <td>0.710372</td>\n",
              "      <td>0.755382</td>\n",
              "      <td>0.785714</td>\n",
              "      <td>0.818004</td>\n",
              "      <td>0.855186</td>\n",
              "      <td>0.877691</td>\n",
              "      <td>0.900196</td>\n",
              "      <td>0.917808</td>\n",
              "      <td>0.934442</td>\n",
              "      <td>0.945205</td>\n",
              "    </tr>\n",
              "    <tr>\n",
              "      <th>precision</th>\n",
              "      <td>0.053589</td>\n",
              "      <td>0.056793</td>\n",
              "      <td>0.063857</td>\n",
              "      <td>0.075385</td>\n",
              "      <td>0.084048</td>\n",
              "      <td>0.091977</td>\n",
              "      <td>0.098253</td>\n",
              "      <td>0.103448</td>\n",
              "      <td>0.106322</td>\n",
              "      <td>0.117089</td>\n",
              "      <td>0.137037</td>\n",
              "      <td>0.136564</td>\n",
              "      <td>0.141304</td>\n",
              "      <td>0.173611</td>\n",
              "      <td>0.185841</td>\n",
              "      <td>0.184211</td>\n",
              "      <td>0.200000</td>\n",
              "      <td>0.066667</td>\n",
              "      <td>0.000000</td>\n",
              "    </tr>\n",
              "    <tr>\n",
              "      <th>recall</th>\n",
              "      <td>0.981481</td>\n",
              "      <td>0.944444</td>\n",
              "      <td>0.925926</td>\n",
              "      <td>0.907407</td>\n",
              "      <td>0.907407</td>\n",
              "      <td>0.870370</td>\n",
              "      <td>0.833333</td>\n",
              "      <td>0.777778</td>\n",
              "      <td>0.685185</td>\n",
              "      <td>0.685185</td>\n",
              "      <td>0.685185</td>\n",
              "      <td>0.574074</td>\n",
              "      <td>0.481481</td>\n",
              "      <td>0.462963</td>\n",
              "      <td>0.388889</td>\n",
              "      <td>0.259259</td>\n",
              "      <td>0.185185</td>\n",
              "      <td>0.018519</td>\n",
              "      <td>0.000000</td>\n",
              "    </tr>\n",
              "    <tr>\n",
              "      <th>f1</th>\n",
              "      <td>0.101630</td>\n",
              "      <td>0.107143</td>\n",
              "      <td>0.119474</td>\n",
              "      <td>0.139205</td>\n",
              "      <td>0.153846</td>\n",
              "      <td>0.166372</td>\n",
              "      <td>0.175781</td>\n",
              "      <td>0.182609</td>\n",
              "      <td>0.184080</td>\n",
              "      <td>0.200000</td>\n",
              "      <td>0.228395</td>\n",
              "      <td>0.220641</td>\n",
              "      <td>0.218487</td>\n",
              "      <td>0.252525</td>\n",
              "      <td>0.251497</td>\n",
              "      <td>0.215385</td>\n",
              "      <td>0.192308</td>\n",
              "      <td>0.028986</td>\n",
              "      <td>0.000000</td>\n",
              "    </tr>\n",
              "  </tbody>\n",
              "</table>\n",
              "</div>\n",
              "      <button class=\"colab-df-convert\" onclick=\"convertToInteractive('df-722c7b00-f140-4c56-8d59-5feb35d70dc6')\"\n",
              "              title=\"Convert this dataframe to an interactive table.\"\n",
              "              style=\"display:none;\">\n",
              "        \n",
              "  <svg xmlns=\"http://www.w3.org/2000/svg\" height=\"24px\"viewBox=\"0 0 24 24\"\n",
              "       width=\"24px\">\n",
              "    <path d=\"M0 0h24v24H0V0z\" fill=\"none\"/>\n",
              "    <path d=\"M18.56 5.44l.94 2.06.94-2.06 2.06-.94-2.06-.94-.94-2.06-.94 2.06-2.06.94zm-11 1L8.5 8.5l.94-2.06 2.06-.94-2.06-.94L8.5 2.5l-.94 2.06-2.06.94zm10 10l.94 2.06.94-2.06 2.06-.94-2.06-.94-.94-2.06-.94 2.06-2.06.94z\"/><path d=\"M17.41 7.96l-1.37-1.37c-.4-.4-.92-.59-1.43-.59-.52 0-1.04.2-1.43.59L10.3 9.45l-7.72 7.72c-.78.78-.78 2.05 0 2.83L4 21.41c.39.39.9.59 1.41.59.51 0 1.02-.2 1.41-.59l7.78-7.78 2.81-2.81c.8-.78.8-2.07 0-2.86zM5.41 20L4 18.59l7.72-7.72 1.47 1.35L5.41 20z\"/>\n",
              "  </svg>\n",
              "      </button>\n",
              "      \n",
              "  <style>\n",
              "    .colab-df-container {\n",
              "      display:flex;\n",
              "      flex-wrap:wrap;\n",
              "      gap: 12px;\n",
              "    }\n",
              "\n",
              "    .colab-df-convert {\n",
              "      background-color: #E8F0FE;\n",
              "      border: none;\n",
              "      border-radius: 50%;\n",
              "      cursor: pointer;\n",
              "      display: none;\n",
              "      fill: #1967D2;\n",
              "      height: 32px;\n",
              "      padding: 0 0 0 0;\n",
              "      width: 32px;\n",
              "    }\n",
              "\n",
              "    .colab-df-convert:hover {\n",
              "      background-color: #E2EBFA;\n",
              "      box-shadow: 0px 1px 2px rgba(60, 64, 67, 0.3), 0px 1px 3px 1px rgba(60, 64, 67, 0.15);\n",
              "      fill: #174EA6;\n",
              "    }\n",
              "\n",
              "    [theme=dark] .colab-df-convert {\n",
              "      background-color: #3B4455;\n",
              "      fill: #D2E3FC;\n",
              "    }\n",
              "\n",
              "    [theme=dark] .colab-df-convert:hover {\n",
              "      background-color: #434B5C;\n",
              "      box-shadow: 0px 1px 3px 1px rgba(0, 0, 0, 0.15);\n",
              "      filter: drop-shadow(0px 1px 2px rgba(0, 0, 0, 0.3));\n",
              "      fill: #FFFFFF;\n",
              "    }\n",
              "  </style>\n",
              "\n",
              "      <script>\n",
              "        const buttonEl =\n",
              "          document.querySelector('#df-722c7b00-f140-4c56-8d59-5feb35d70dc6 button.colab-df-convert');\n",
              "        buttonEl.style.display =\n",
              "          google.colab.kernel.accessAllowed ? 'block' : 'none';\n",
              "\n",
              "        async function convertToInteractive(key) {\n",
              "          const element = document.querySelector('#df-722c7b00-f140-4c56-8d59-5feb35d70dc6');\n",
              "          const dataTable =\n",
              "            await google.colab.kernel.invokeFunction('convertToInteractive',\n",
              "                                                     [key], {});\n",
              "          if (!dataTable) return;\n",
              "\n",
              "          const docLinkHtml = 'Like what you see? Visit the ' +\n",
              "            '<a target=\"_blank\" href=https://colab.research.google.com/notebooks/data_table.ipynb>data table notebook</a>'\n",
              "            + ' to learn more about interactive tables.';\n",
              "          element.innerHTML = '';\n",
              "          dataTable['output_type'] = 'display_data';\n",
              "          await google.colab.output.renderOutput(dataTable, element);\n",
              "          const docLink = document.createElement('div');\n",
              "          docLink.innerHTML = docLinkHtml;\n",
              "          element.appendChild(docLink);\n",
              "        }\n",
              "      </script>\n",
              "    </div>\n",
              "  </div>\n",
              "  "
            ],
            "text/plain": [
              "               0.05      0.10      0.15      0.20      0.25      0.30  \\\n",
              "accuracy   0.083170  0.168297  0.278865  0.407045  0.472603  0.539139   \n",
              "precision  0.053589  0.056793  0.063857  0.075385  0.084048  0.091977   \n",
              "recall     0.981481  0.944444  0.925926  0.907407  0.907407  0.870370   \n",
              "f1         0.101630  0.107143  0.119474  0.139205  0.153846  0.166372   \n",
              "\n",
              "               0.35      0.40      0.45      0.50      0.55      0.60  \\\n",
              "accuracy   0.587084  0.632094  0.679061  0.710372  0.755382  0.785714   \n",
              "precision  0.098253  0.103448  0.106322  0.117089  0.137037  0.136564   \n",
              "recall     0.833333  0.777778  0.685185  0.685185  0.685185  0.574074   \n",
              "f1         0.175781  0.182609  0.184080  0.200000  0.228395  0.220641   \n",
              "\n",
              "               0.65      0.70      0.75      0.80      0.85      0.90  \\\n",
              "accuracy   0.818004  0.855186  0.877691  0.900196  0.917808  0.934442   \n",
              "precision  0.141304  0.173611  0.185841  0.184211  0.200000  0.066667   \n",
              "recall     0.481481  0.462963  0.388889  0.259259  0.185185  0.018519   \n",
              "f1         0.218487  0.252525  0.251497  0.215385  0.192308  0.028986   \n",
              "\n",
              "               0.95  \n",
              "accuracy   0.945205  \n",
              "precision  0.000000  \n",
              "recall     0.000000  \n",
              "f1         0.000000  "
            ]
          },
          "metadata": {},
          "output_type": "display_data"
        }
      ],
      "source": [
        "dataFrame = {}\n",
        "thresholds = np.arange(0.05, 1, 0.05, dtype=float)\n",
        "for i, t in np.ndenumerate(thresholds):\n",
        "    y_thres = np.array([0 if p < t else 1 for p in y_pred_train])\n",
        "    acc = accuracy_score(y_train, y_thres)\n",
        "    prec = precision_score(y_train, y_thres)\n",
        "    rec = recall_score(y_train, y_thres)\n",
        "    f1 = f1_score(y_train, y_thres)\n",
        "    dataFrame[float(t)] = [acc, prec, rec, f1]\n",
        "dataFrame = pd.DataFrame(dataFrame, index = [\"accuracy\", \"precision\", \"recall\", \"f1\"])\n",
        "print(\"Training set metrics:\")\n",
        "display(dataFrame)\n",
        "\n",
        "dataFrame = {}\n",
        "thresholds = np.arange(0.05, 1, 0.05, dtype=float)\n",
        "for i, t in np.ndenumerate(thresholds):\n",
        "    y_thres = np.array([0 if p < t else 1 for p in y_pred_test])\n",
        "    acc = accuracy_score(y_test, y_thres)\n",
        "    prec = precision_score(y_test, y_thres)\n",
        "    rec = recall_score(y_test, y_thres)\n",
        "    f1 = f1_score(y_test, y_thres)\n",
        "    dataFrame[float(t)] = [acc, prec, rec, f1]\n",
        "dataFrame = pd.DataFrame(dataFrame, index = [\"accuracy\", \"precision\", \"recall\", \"f1\"])\n",
        "print(\"Testing Set metrics:\")\n",
        "display(dataFrame)"
      ]
    },
    {
      "cell_type": "markdown",
      "metadata": {
        "id": "a6KOjKAbc8BF"
      },
      "source": [
        "Since our goal is to reduce the number of false negatives (so we would like to have a high recall) trying to keep a high accuracy, a possible trade-off might be choosing a threshold t = 0.55. Choosing this threshold, we have the following outcome:"
      ]
    },
    {
      "cell_type": "code",
      "execution_count": null,
      "metadata": {
        "colab": {
          "base_uri": "https://localhost:8080/",
          "height": 389
        },
        "id": "7vHekorHSlGh",
        "outputId": "d878284d-980c-4b78-ac76-fd8da4847068"
      },
      "outputs": [
        {
          "data": {
            "text/plain": [
              "[Text(0, 0.5, 'False'), Text(0, 1.5, 'True')]"
            ]
          },
          "execution_count": 32,
          "metadata": {},
          "output_type": "execute_result"
        },
        {
          "data": {
            "image/png": "[encoded data removed]",
            "text/plain": [
              "<Figure size 504x360 with 2 Axes>"
            ]
          },
          "metadata": {},
          "output_type": "display_data"
        }
      ],
      "source": [
        "y_thres_test = np.array([0 if p < 0.55 else 1 for p in y_pred_test])\n",
        "tn, fp, fn, tp = confusion_matrix(y_test, y_thres_test).ravel()\n",
        "\n",
        "models_score.append([\"LR\", accuracy_score(y_test, y_thres_test), recall_score(y_test, y_thres_test)]) # LR SCORE\n",
        "\n",
        "fig, ax = plt.subplots(1,1, figsize=(7,5))\n",
        "cf_matrix = confusion_matrix(y_test, y_thres_test)\n",
        "plt.title('Confusion Matrix: Logistic Regression')\n",
        "sns.heatmap(cf_matrix, annot = True, fmt = \"g\", cmap = \"rocket_r\")\n",
        "ax.set_xlabel('Predicted labels')\n",
        "ax.set_ylabel('True labels') \n",
        "ax.xaxis.set_ticklabels(['False', 'True'])\n",
        "ax.yaxis.set_ticklabels(['False', 'True'])\n"
      ]
    },
    {
      "cell_type": "markdown",
      "metadata": {
        "id": "9vOcj1d7gBpe"
      },
      "source": [
        "### 4.2 K-Nearest Neighbors\n"
      ]
    },
    {
      "cell_type": "markdown",
      "metadata": {
        "id": "WeQ0v88yhkpu"
      },
      "source": [
        "This is a possible implementation of KNN using Sklearn with an efficient selection of K value using GridSearchCV. The GridSearchCV is a library function that is a member of sklearn's model_selection package. It helps to loop through predefined hyperparameters and fit your estimator (model) on your training set. So, in the end, we can select the best parameters from the listed hyperparameters."
      ]
    },
    {
      "cell_type": "code",
      "execution_count": null,
      "metadata": {
        "colab": {
          "base_uri": "https://localhost:8080/"
        },
        "id": "8H3Cqia6y6n8",
        "outputId": "eda09fe0-8685-4aa3-ac2d-9ad234a7cd65"
      },
      "outputs": [
        {
          "name": "stdout",
          "output_type": "stream",
          "text": [
            "Best recall: 98.72%\n",
            "Best parameter:  {'metric': 'manhattan', 'n_neighbors': 16, 'weights': 'distance'}\n"
          ]
        }
      ],
      "source": [
        "knn_grid = KNeighborsClassifier()\n",
        "\n",
        "k_values= range(1, 20)\n",
        "\n",
        "param_grid = {\"n_neighbors\": k_values, \"weights\": ['uniform', 'distance'], \"metric\": ['euclidean', 'manhattan']}\n",
        "\n",
        "knn_grid_model = GridSearchCV(knn_grid, param_grid, cv = 10, scoring = 'recall', return_train_score = False)\n",
        "\n",
        "knn_grid_model.fit(X_train, y_train)\n",
        "\n",
        "best_recall = knn_grid_model.best_score_ * 100\n",
        "best_param = knn_grid_model.best_params_\n",
        "\n",
        "print(\"Best recall: {:.2f}%\".format(best_recall))\n",
        "print('Best parameter: ', best_param)"
      ]
    },
    {
      "cell_type": "markdown",
      "metadata": {
        "id": "0JgLOFkAy-7h"
      },
      "source": [
        "By fitting the model with grid search we found out the optimal parameter of K with the best recall score."
      ]
    },
    {
      "cell_type": "code",
      "execution_count": null,
      "metadata": {
        "id": "JpmaRiSry_jB"
      },
      "outputs": [],
      "source": [
        "best_k = best_param[\"n_neighbors\"]\n",
        "\n",
        "knn = KNeighborsClassifier(n_neighbors=best_k)\n",
        "knn.fit(X_train, y_train)\n",
        "\n",
        "y_pred = knn.predict(X_test)\n",
        "\n",
        "models_score.append([\"KNN\", accuracy_score(y_test, y_pred), recall_score(y_test, y_pred)]) # KNN"
      ]
    },
    {
      "cell_type": "code",
      "execution_count": null,
      "metadata": {
        "colab": {
          "base_uri": "https://localhost:8080/",
          "height": 407
        },
        "id": "eQwEr0FDzBl3",
        "outputId": "14fab4b1-0a4a-4d5e-a87c-63873527e5c4"
      },
      "outputs": [
        {
          "name": "stdout",
          "output_type": "stream",
          "text": [
            "Testing Accuracy: 76.71%\n",
            "Testing Recall: 62.96%\n"
          ]
        },
        {
          "data": {
            "image/png": "[encoded data removed]",
            "text/plain": [
              "<Figure size 504x360 with 2 Axes>"
            ]
          },
          "metadata": {},
          "output_type": "display_data"
        }
      ],
      "source": [
        "tn, fp, fn, tp = confusion_matrix(y_test, y_pred).ravel()\n",
        "\n",
        "fig, ax = plt.subplots(1,1, figsize=(7,5))\n",
        "cf_matrix = confusion_matrix(y_test, y_pred)\n",
        "plt.title('Confusion Matrix: KNN')\n",
        "sns.heatmap(cf_matrix, annot = True, fmt = \"g\", cmap = \"rocket_r\")\n",
        "ax.set_xlabel('Predicted labels')\n",
        "ax.set_ylabel('True labels') \n",
        "ax.xaxis.set_ticklabels(['False', 'True'])\n",
        "ax.yaxis.set_ticklabels(['False', 'True'])\n",
        "\n",
        "print(\"Testing Accuracy: {:.2f}%\".format(accuracy_score(y_test, y_pred) * 100))\n",
        "print(\"Testing Recall: {:.2f}%\".format(recall_score(y_test, y_pred) * 100))"
      ]
    },
    {
      "cell_type": "markdown",
      "metadata": {
        "id": "p68farabrFFV"
      },
      "source": [
        "### 4.3 Gaussian Discriminant Analysis"
      ]
    },
    {
      "cell_type": "markdown",
      "metadata": {
        "id": "X8cGLSAeqeiv"
      },
      "source": [
        "We decided to apply both Linear Discriminant Analysis and Quadratid Discriminant Analysis in order to compare the performances.\n",
        "Here are the parameters that we have to compute for the QDA:\n",
        "- $\\phi = P(y=1)$: the probability of a person having a stroke;\n",
        "- $\\mu_0$ the mean vector of the class 0 (person doesn't have a stroke);\n",
        "- $\\mu_1$ the mean vector of the class 1 (person does have a stroke);\n",
        "- $\\Sigma_0$ the covariance matrix relative to the class 0.\n",
        "- $\\Sigma_1$ the covariance matrix relative to the class 1.\n",
        "\n",
        "Regarding the LDA, the parameters are the same but we only compute one covariance matrix $\\sigma$ for both the classes."
      ]
    },
    {
      "cell_type": "code",
      "execution_count": null,
      "metadata": {
        "id": "2WdkKl-eqjbR"
      },
      "outputs": [],
      "source": [
        "def qda_fit(X_train, y_train):\n",
        "    mu_0 = np.mean(X_train[y_train == 0], axis=0) #Mean vector of class 0 (hasn't stroke)\n",
        "    mu_1 = np.mean(X_train[y_train == 1], axis=0) #Mean vector of class 1 (has stroke)\n",
        "    sigma_0 = np.cov(X_train[y_train == 0], rowvar=0) \n",
        "    sigma_1 = np.cov(X_train[y_train == 1], rowvar=0) \n",
        "    phi = float(np.sum(y_train)) / y_train.shape[0] #Probability of a person having a stroke\n",
        "    return phi, mu_0, mu_1, sigma_0, sigma_1\n",
        "  \n",
        "def lda_fit(X_train, y_train):\n",
        "    mu_0 = np.mean(X_train[y_train == 0], axis=0) #Mean vector of class 0 (hasn't stroke)\n",
        "    mu_1 = np.mean(X_train[y_train == 1], axis=0) #Mean vector of class 1 (has stroke)\n",
        "    sigma = np.cov(X_train, rowvar=0) \n",
        "    phi = float(np.sum(y_train)) / y_train.shape[0] #Probability of a person having a stroke\n",
        "    return phi, mu_0, mu_1, sigma"
      ]
    },
    {
      "cell_type": "markdown",
      "metadata": {
        "id": "W8qmZes_qoJJ"
      },
      "source": [
        "Now that we have the parameters needed, we can built the function that computes the predicted $y$ array.\n",
        "\n",
        "Since we assume that $P(x|y=k) \\sim 𝒩(\\mu_k, \\Sigma_k)$, where $k \\in \\{0,1\\}$ are the possible classes, we can calculate the probability of an example being in class $k$:\n",
        "\\begin{align}\n",
        "P(x|y=k) = \\frac{1}{2\\pi^{\\frac{n}{2}}|\\Sigma_k|^{\\frac{1}{2}}}\\exp\\left(-\\frac{1}{2}(x-\\mu_k)^T\\Sigma_k^{-1}(x-\\mu_k)\\right)\n",
        "\\end{align}\n",
        "\n",
        "(The probability distribution for LDA is the same, but we have only one shared covariance matrix $\\Sigma$ instead of many covariances matrixes $\\Sigma_k$ for every class $k$)\n",
        "\n",
        "In order to predict the correct value, we want to know which is the $y$ that has the highest $P(y=k|x)$. We can do it by applying the $argmax$ on $P(y=k|x)$, that we can obtain by applying the bayes rule:\n",
        "\n",
        "\\begin{align}\n",
        "  argmax_y P(y=k|x) = argmax_y\\frac{P(x|y=k)P(y=k)}{P(x)}\n",
        "\\end{align}\n",
        "\n",
        "$P(x)$ is a costant, so we can delete it from the equation since it won't make a difference for the $argmax$ result.\n",
        "\n",
        "\\begin{align}\n",
        "  argmax_y P(y=k|x) = argmax_y{P(x|y=k)P(y=k)}\n",
        "\\end{align}"
      ]
    },
    {
      "cell_type": "code",
      "execution_count": null,
      "metadata": {
        "id": "Ce2jOLtkqlnb"
      },
      "outputs": [],
      "source": [
        "def qda_predict(X_test, phi, mu_0, mu_1, sigma_0, sigma_1):\n",
        "    scores = np.zeros((X_test.shape[0], 2))  # Initially we set the each class probability to zero.\n",
        "\n",
        "    mn_0 = multivariate_normal(mean=mu_0, cov=sigma_0)\n",
        "    mn_1 = multivariate_normal(mean=mu_1, cov=sigma_1)\n",
        "\n",
        "    for i, x in enumerate(X_test):\n",
        "      if type(x) != str:\n",
        "        scores[i,0] = mn_0.pdf(x) * (1-phi)\n",
        "        scores[i,1] = mn_1.pdf(x) * phi\n",
        "    \n",
        "    predictions = np.argmax(scores, axis=1)\n",
        "    return predictions\n",
        "  \n",
        "def lda_predict(X_test, phi, mu_0, mu_1, sigma):\n",
        "    scores = np.zeros((X_test.shape[0], 2))  # Initially we set the each class probability to zero.\n",
        "\n",
        "    mn_0 = multivariate_normal(mean=mu_0, cov=sigma)\n",
        "    mn_1 = multivariate_normal(mean=mu_1, cov=sigma)\n",
        "\n",
        "    for i, x in enumerate(X_test):\n",
        "      if type(x) != str:\n",
        "        scores[i,0] = mn_0.pdf(x) * (1-phi)\n",
        "        scores[i,1] = mn_1.pdf(x) * phi\n",
        "\n",
        "    predictions = np.argmax(scores, axis=1)\n",
        "    return predictions"
      ]
    },
    {
      "cell_type": "markdown",
      "metadata": {
        "id": "CLrQ1L_82Lrn"
      },
      "source": [
        "Now we're ready to fit the model on the oversampled data and predict the values"
      ]
    },
    {
      "cell_type": "code",
      "execution_count": null,
      "metadata": {
        "colab": {
          "base_uri": "https://localhost:8080/",
          "height": 528
        },
        "id": "DIqw66ypqqS3",
        "outputId": "249efa59-9995-47f6-abc0-97da8d7a2b5e"
      },
      "outputs": [
        {
          "name": "stdout",
          "output_type": "stream",
          "text": [
            "              precision    recall  f1-score   support\n",
            "\n",
            "           0       0.98      0.73      0.84       968\n",
            "           1       0.13      0.74      0.23        54\n",
            "\n",
            "    accuracy                           0.73      1022\n",
            "   macro avg       0.56      0.74      0.53      1022\n",
            "weighted avg       0.94      0.73      0.81      1022\n",
            "\n"
          ]
        },
        {
          "data": {
            "image/png": "[encoded data removed]",
            "text/plain": [
              "<Figure size 504x360 with 2 Axes>"
            ]
          },
          "metadata": {},
          "output_type": "display_data"
        }
      ],
      "source": [
        "phi, mu_0, mu_1, sigma_0, sigma_1 = qda_fit(X_train, y_train)\n",
        "\n",
        "y_pred = qda_predict(X_test, phi, mu_0, mu_1, sigma_0, sigma_1)\n",
        "\n",
        "models_score.append([\"GDA\", accuracy_score(y_test, y_pred), recall_score(y_test, y_pred)]) # GDA SCORE\n",
        "\n",
        "report = classification_report(y_test, y_pred)\n",
        "\n",
        "fig, ax = plt.subplots(1,1, figsize=(7,5))\n",
        "cf_matrix = confusion_matrix(y_test, y_pred)\n",
        "plt.title('Confusion Matrix: GDA (QDA)')\n",
        "sns.heatmap(cf_matrix, annot = True, fmt = \"g\", cmap = \"rocket_r\")\n",
        "ax.set_xlabel('Predicted labels')\n",
        "ax.set_ylabel('True labels') \n",
        "ax.xaxis.set_ticklabels(['False', 'True'])\n",
        "ax.yaxis.set_ticklabels(['False', 'True'])\n",
        "\n",
        "print(report)"
      ]
    },
    {
      "cell_type": "markdown",
      "metadata": {
        "id": "OqDO1Uas6m_W"
      },
      "source": [
        "We can now compare QDA to LDA and see how QDA performs a little bit better."
      ]
    },
    {
      "cell_type": "code",
      "execution_count": null,
      "metadata": {
        "colab": {
          "base_uri": "https://localhost:8080/",
          "height": 528
        },
        "id": "5GsgXpXx3G3W",
        "outputId": "5d01a547-83e1-4c69-b32b-bd4eab81b8cc"
      },
      "outputs": [
        {
          "name": "stdout",
          "output_type": "stream",
          "text": [
            "              precision    recall  f1-score   support\n",
            "\n",
            "           0       0.98      0.74      0.85       968\n",
            "           1       0.14      0.72      0.23        54\n",
            "\n",
            "    accuracy                           0.74      1022\n",
            "   macro avg       0.56      0.73      0.54      1022\n",
            "weighted avg       0.94      0.74      0.81      1022\n",
            "\n"
          ]
        },
        {
          "data": {
            "image/png": "[encoded data removed]",
            "text/plain": [
              "<Figure size 504x360 with 2 Axes>"
            ]
          },
          "metadata": {},
          "output_type": "display_data"
        }
      ],
      "source": [
        "phi, mu_0, mu_1, sigma = lda_fit(X_train, y_train)\n",
        "\n",
        "y_pred = lda_predict(X_test, phi, mu_0, mu_1, sigma)\n",
        "\n",
        "report = classification_report(y_test, y_pred)\n",
        "\n",
        "fig, ax = plt.subplots(1,1, figsize=(7,5))\n",
        "cf_matrix = confusion_matrix(y_test, y_pred)\n",
        "plt.title('Confusion Matrix: GDA (LDA)')\n",
        "sns.heatmap(cf_matrix, annot = True, fmt = \"g\", cmap = \"rocket_r\")\n",
        "ax.set_xlabel('Predicted labels')\n",
        "ax.set_ylabel('True labels') \n",
        "ax.xaxis.set_ticklabels(['False', 'True'])\n",
        "ax.yaxis.set_ticklabels(['False', 'True'])\n",
        "\n",
        "print(report)"
      ]
    },
    {
      "cell_type": "markdown",
      "metadata": {
        "id": "EOK0fFlsCCC-"
      },
      "source": [
        "Let's verify if the data is normally distributed with the D’Agostino and Pearson’s normality test."
      ]
    },
    {
      "cell_type": "code",
      "execution_count": null,
      "metadata": {
        "colab": {
          "base_uri": "https://localhost:8080/"
        },
        "id": "0Qy56wTyCLC9",
        "outputId": "dbd2f660-a062-4625-9c3a-286018f898c4"
      },
      "outputs": [
        {
          "name": "stdout",
          "output_type": "stream",
          "text": [
            "p-value for class 0: 0.0\n",
            "p-value for class 1: 1.9304748181889902e-162\n",
            "Class 0 is not likely to be Gaussian\n",
            "Class 1 is not likely to be Gaussian\n"
          ]
        }
      ],
      "source": [
        "from scipy.stats import normaltest\n",
        "\n",
        "# Flatten the array to create a 1D sample\n",
        "sample_0 = df[df.stroke == 0].values.flatten()\n",
        "sample_1 = df[df.stroke == 1].values.flatten()\n",
        "\n",
        "# Perform the Normaltest test\n",
        "statistic_0, pvalue_0 = normaltest(sample_0)\n",
        "statistic_1, pvalue_1 = normaltest(sample_1)\n",
        "\n",
        "print(f\"p-value for class 0: {pvalue_0}\")\n",
        "print(f\"p-value for class 1: {pvalue_1}\")\n",
        "\n",
        "# If the p-value is greater than 0.05, it suggests that the data is likely to be Gaussian\n",
        "if pvalue_0 > 0.05:\n",
        "    print(\"Class 0 is likely to be Gaussian\")\n",
        "else:\n",
        "    print(\"Class 0 is not likely to be Gaussian\")\n",
        "\n",
        "if pvalue_1 > 0.05:\n",
        "    print(\"Class 1 is likely to be Gaussian\")\n",
        "else:\n",
        "    print(\"Class 1 is not likely to be Gaussian\")\n"
      ]
    },
    {
      "cell_type": "markdown",
      "metadata": {
        "id": "YhtT30wzV9I2"
      },
      "source": [
        "From the normality test we can see that none of both classes are normally distributed.\n",
        "If they were, Gaussian Discriminant Analysis would have had better performances.\n",
        "We can assume that GDA performs quite good with respect to the other methods because the dataset has a small number of samples."
      ]
    },
    {
      "cell_type": "markdown",
      "metadata": {
        "id": "Z4YOcDgjCRAt"
      },
      "source": [
        "### 4.4 Support Vector Classification"
      ]
    },
    {
      "cell_type": "markdown",
      "metadata": {
        "id": "bDy-m448QPMX"
      },
      "source": [
        "We now try to see how a Support Vector Classifier works using SKLearn. We use a linear kernel:"
      ]
    },
    {
      "cell_type": "code",
      "execution_count": null,
      "metadata": {
        "colab": {
          "base_uri": "https://localhost:8080/",
          "height": 459
        },
        "id": "I-a5mkWmCdy1",
        "outputId": "b97fe0fe-cce7-485b-d069-0217999f0e7a"
      },
      "outputs": [
        {
          "name": "stdout",
          "output_type": "stream",
          "text": [
            "Training Accuracy: 0.7718396711202467\n",
            "Training Recall: 0.803186022610483\n",
            "Testing Accuracy: 0.7563600782778865\n",
            "Testing Recall: 0.6851851851851852\n"
          ]
        },
        {
          "data": {
            "text/plain": [
              "[Text(0, 0.5, 'False'), Text(0, 1.5, 'True')]"
            ]
          },
          "execution_count": 41,
          "metadata": {},
          "output_type": "execute_result"
        },
        {
          "data": {
            "image/png": "[encoded data removed]",
            "text/plain": [
              "<Figure size 504x360 with 2 Axes>"
            ]
          },
          "metadata": {},
          "output_type": "display_data"
        }
      ],
      "source": [
        "svc = SVC(kernel='linear')\n",
        "svc.fit(X_train, y_train)\n",
        "\n",
        "y_pred_train = svc.predict(X_train)\n",
        "y_pred_test = svc.predict(X_test)\n",
        "\n",
        "models_score.append([\"SVC\", accuracy_score(y_test, y_pred_test), recall_score(y_test, y_pred_test)]) # SVC SCORE\n",
        "\n",
        "print('Training Accuracy:', accuracy_score(y_train, y_pred_train))\n",
        "print('Training Recall:', recall_score(y_train, y_pred_train))\n",
        "print('Testing Accuracy:', accuracy_score(y_test, y_pred_test))\n",
        "print('Testing Recall:', recall_score(y_test, y_pred_test))\n",
        "\n",
        "fig, ax = plt.subplots(1,1, figsize=(7,5))\n",
        "cf_matrix = confusion_matrix(y_test, y_pred_test)\n",
        "plt.title('Confusion Matrix: SVC')\n",
        "sns.heatmap(cf_matrix, annot = True, fmt = \"g\", cmap = \"rocket_r\")\n",
        "ax.set_xlabel('Predicted labels')\n",
        "ax.set_ylabel('True labels') \n",
        "ax.xaxis.set_ticklabels(['False', 'True'])\n",
        "ax.yaxis.set_ticklabels(['False', 'True'])"
      ]
    },
    {
      "cell_type": "markdown",
      "metadata": {
        "id": "VNXEY6lEI0Vj"
      },
      "source": [
        "### 4.5 Random Forest Classifier"
      ]
    },
    {
      "cell_type": "markdown",
      "metadata": {
        "id": "pSGd3zCxQfzf"
      },
      "source": [
        "We now try to see how a Random Forest Classifier works using SKLearn. We use a maximum depth of 5:"
      ]
    },
    {
      "cell_type": "code",
      "execution_count": null,
      "metadata": {
        "colab": {
          "base_uri": "https://localhost:8080/",
          "height": 459
        },
        "id": "iHmDvZNxI5d6",
        "outputId": "de863c94-ad4e-4c2b-c371-76be97d7ff12"
      },
      "outputs": [
        {
          "name": "stdout",
          "output_type": "stream",
          "text": [
            "Training Accuracy: 0.848792394655704\n",
            "Training Recall: 0.9116135662898253\n",
            "Testing Accuracy: 0.7837573385518591\n",
            "Testing Recall: 0.6481481481481481\n"
          ]
        },
        {
          "data": {
            "text/plain": [
              "[Text(0, 0.5, 'False'), Text(0, 1.5, 'True')]"
            ]
          },
          "execution_count": 42,
          "metadata": {},
          "output_type": "execute_result"
        },
        {
          "data": {
            "image/png": "[encoded data removed]",
            "text/plain": [
              "<Figure size 504x360 with 2 Axes>"
            ]
          },
          "metadata": {},
          "output_type": "display_data"
        }
      ],
      "source": [
        "rfc = RandomForestClassifier(max_depth=5, random_state=0)\n",
        "rfc.fit(X_train, y_train)\n",
        "\n",
        "y_pred_train = rfc.predict(X_train)\n",
        "y_pred_test = rfc.predict(X_test)\n",
        "\n",
        "models_score.append([\"RFC\", accuracy_score(y_test, y_pred_test), recall_score(y_test, y_pred_test)]) # RFC SCORE\n",
        "\n",
        "print('Training Accuracy:', accuracy_score(y_train, y_pred_train))\n",
        "print('Training Recall:', recall_score(y_train, y_pred_train))\n",
        "print('Testing Accuracy:', accuracy_score(y_test, y_pred_test))\n",
        "print('Testing Recall:', recall_score(y_test, y_pred_test))\n",
        "\n",
        "fig, ax = plt.subplots(1,1, figsize=(7,5))\n",
        "cf_matrix = confusion_matrix(y_test, y_pred_test)\n",
        "plt.title('Confusion Matrix: Random Forest')\n",
        "sns.heatmap(cf_matrix, annot = True, fmt = \"g\", cmap = \"rocket_r\")\n",
        "ax.set_xlabel('Predicted labels')\n",
        "ax.set_ylabel('True labels') \n",
        "ax.xaxis.set_ticklabels(['False', 'True'])\n",
        "ax.yaxis.set_ticklabels(['False', 'True'])\n"
      ]
    },
    {
      "cell_type": "markdown",
      "metadata": {
        "id": "zK1eMlqXWioB"
      },
      "source": [
        "# 5. Conclusions"
      ]
    },
    {
      "cell_type": "code",
      "execution_count": null,
      "metadata": {
        "colab": {
          "base_uri": "https://localhost:8080/",
          "height": 422
        },
        "id": "aHLs0TeqWjAp",
        "outputId": "d8ac4e75-38d9-4ebf-f92f-4669632d2a8e"
      },
      "outputs": [
        {
          "data": {
            "text/plain": [
              "[Text(0.5, 1.0, 'Recall score')]"
            ]
          },
          "execution_count": 43,
          "metadata": {},
          "output_type": "execute_result"
        },
        {
          "data": {
            "image/png": "[encoded data removed]",
            "text/plain": [
              "<Figure size 1080x432 with 2 Axes>"
            ]
          },
          "metadata": {},
          "output_type": "display_data"
        }
      ],
      "source": [
        "# Barplot to show the test accuracy and recall scores of each algorithms\n",
        "fig, axes = plt.subplots(1, 2, figsize = (15, 6))\n",
        "\n",
        "sns.barplot(x = np.array(models_score)[:, 0], y=np.array(models_score)[:, 1].astype('float64'), ax=axes[0]).set(title='Accuracy score')\n",
        "sns.barplot(x = np.array(models_score)[:, 0], y=np.array(models_score)[:, 2].astype('float64'), ax=axes[1]).set(title='Recall score')"
      ]
    },
    {
      "cell_type": "code",
      "execution_count": null,
      "metadata": {
        "colab": {
          "base_uri": "https://localhost:8080/"
        },
        "id": "cvZkS-kV2S3S",
        "outputId": "e0d7b4d9-28fd-4297-ecf5-ddb14d85ae5f"
      },
      "outputs": [
        {
          "name": "stdout",
          "output_type": "stream",
          "text": [
            "LR Accuracy score: 0.7553816046966731\n",
            "LR Recall score: 0.6851851851851852\n",
            "\n",
            "KNN Accuracy score: 0.7671232876712328\n",
            "KNN Recall score: 0.6296296296296297\n",
            "\n",
            "GDA Accuracy score: 0.7328767123287672\n",
            "GDA Recall score: 0.7407407407407407\n",
            "\n",
            "SVC Accuracy score: 0.7563600782778865\n",
            "SVC Recall score: 0.6851851851851852\n",
            "\n",
            "RFC Accuracy score: 0.7837573385518591\n",
            "RFC Recall score: 0.6481481481481481\n",
            "\n"
          ]
        }
      ],
      "source": [
        "# metrics in details\n",
        "for metric in models_score:\n",
        "    print(np.array(metric)[0] + \" Accuracy score: \" + np.array(metric)[1])    \n",
        "    print(np.array(metric)[0] + \" Recall score: \" + np.array(metric)[2] + \"\\n\")  "
      ]
    }
  ],
  "metadata": {
    "colab": {
      "provenance": [],
      "toc_visible": true,
      "include_colab_link": true
    },
    "kernelspec": {
      "display_name": "Python 3.9.12 ('base')",
      "language": "python",
      "name": "python3"
    },
    "language_info": {
      "codemirror_mode": {
        "name": "ipython",
        "version": 3
      },
      "file_extension": ".py",
      "mimetype": "text/x-python",
      "name": "python",
      "nbconvert_exporter": "python",
      "pygments_lexer": "ipython3",
      "version": "3.9.13"
    },
    "vscode": {
      "interpreter": {
        "hash": "303fa613b6f3e1efefe7bb28036e305e1021fa6bdb083a5f9fd57f9d9bbad8eb"
      }
    }
  },
  "nbformat": 4,
  "nbformat_minor": 0
}