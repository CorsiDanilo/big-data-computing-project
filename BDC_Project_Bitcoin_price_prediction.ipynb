{
  "cells": [
    {
      "cell_type": "markdown",
      "metadata": {
        "id": "view-in-github",
        "colab_type": "text"
      },
      "source": [
        "<a href=\"https://colab.research.google.com/github/CorsiDanilo/big-data-computing-project/blob/main/BDC_Project_Bitcoin_price_prediction.ipynb\" target=\"_parent\"><img src=\"https://colab.research.google.com/assets/colab-badge.svg\" alt=\"Open In Colab\"/></a>"
      ]
    },
    {
      "cell_type": "markdown",
      "metadata": {
        "id": "e452Ydj7chNV"
      },
      "source": [
        "# Machine Learning Model for Bitcoin price prediction\n",
        "## Big Data Computing a.y. 22-23"
      ]
    },
    {
      "cell_type": "markdown",
      "metadata": {
        "id": "zj3uksxTc5vc"
      },
      "source": [
        "This project was done by:\n",
        "\n",
        "\n",
        "*   Danilo Corsi (matr. 1742375)\n",
        "\n",
        "We have undertaken a kaggle competition for our final project taken from:\n",
        "\n",
        "https://www.kaggle.com/datasets/prasoonkottarathil/btcinusd\n",
        "\n"
      ]
    },
    {
      "cell_type": "markdown",
      "metadata": {
        "id": "laFEbOtkdTI0"
      },
      "source": [
        "# **Introduction**"
      ]
    },
    {
      "cell_type": "markdown",
      "metadata": {
        "id": "oXOyBeuFdVqc"
      },
      "source": [
        "According to the World Health Organization (WHO) stroke is the 2nd leading cause of death globally, responsible for approximately 11% of total deaths. This project aims to build a model to predict whether a patient is likely to get stroke based on the input parameters like gender, age, various diseases, and smoking status. Each row in the data provides relavant information about the patient."
      ]
    },
    {
      "cell_type": "markdown",
      "metadata": {
        "id": "YtmWjQUVSvq2"
      },
      "source": [
        "# **Spark + Google Colab Setup**"
      ]
    },
    {
      "cell_type": "markdown",
      "source": [
        "## **0.** Global Constants\n"
      ],
      "metadata": {
        "id": "AkQaY6VAf4v_"
      }
    },
    {
      "cell_type": "code",
      "source": [
        "JAVA_HOME = \"/usr/lib/jvm/java-8-openjdk-amd64\"\n",
        "GDRIVE_DIR = \"/content/drive\"\n",
        "GDRIVE_DATASET_DIR = GDRIVE_DIR + \"/MyDrive/Computer_Science/BDC/project/datasets\"\n",
        "\n",
        "GDRIVE_DATASET = GDRIVE_DATASET_DIR + \"/BTC-2017_2021.csv\"\n",
        "\n",
        "RANDOM_SEED = 42 # for reproducibility"
      ],
      "metadata": {
        "id": "L7-8QQvKf5CR"
      },
      "execution_count": 2,
      "outputs": []
    },
    {
      "cell_type": "markdown",
      "metadata": {
        "id": "OlRW_JLjSvrA"
      },
      "source": [
        "## **1.** Install PySpark and related dependencies\n",
        "\n",
        "\n",
        "\n"
      ]
    },
    {
      "cell_type": "code",
      "execution_count": 3,
      "metadata": {
        "id": "Si82CaUYSvrA",
        "colab": {
          "base_uri": "https://localhost:8080/"
        },
        "outputId": "0715d32f-a935-4747-f647-a2790390311a"
      },
      "outputs": [
        {
          "output_type": "stream",
          "name": "stdout",
          "text": [
            "Looking in indexes: https://pypi.org/simple, https://us-python.pkg.dev/colab-wheels/public/simple/\n",
            "Collecting pyspark\n",
            "  Downloading pyspark-3.4.0.tar.gz (310.8 MB)\n",
            "\u001b[2K     \u001b[90m━━━━━━━━━━━━━━━━━━━━━━━━━━━━━━━━━━━━━━━\u001b[0m \u001b[32m310.8/310.8 MB\u001b[0m \u001b[31m3.0 MB/s\u001b[0m eta \u001b[36m0:00:00\u001b[0m\n",
            "\u001b[?25h  Preparing metadata (setup.py) ... \u001b[?25l\u001b[?25hdone\n",
            "Requirement already satisfied: py4j==0.10.9.7 in /usr/local/lib/python3.10/dist-packages (from pyspark) (0.10.9.7)\n",
            "Building wheels for collected packages: pyspark\n",
            "  Building wheel for pyspark (setup.py) ... \u001b[?25l\u001b[?25hdone\n",
            "  Created wheel for pyspark: filename=pyspark-3.4.0-py2.py3-none-any.whl size=311317145 sha256=f933e14163e780b0c8733c3947c50a17429c9257a571399e9e836b15aae71e8c\n",
            "  Stored in directory: /root/.cache/pip/wheels/7b/1b/4b/3363a1d04368e7ff0d408e57ff57966fcdf00583774e761327\n",
            "Successfully built pyspark\n",
            "Installing collected packages: pyspark\n",
            "Successfully installed pyspark-3.4.0\n",
            "The following additional packages will be installed:\n",
            "  libxtst6 openjdk-8-jre-headless\n",
            "Suggested packages:\n",
            "  openjdk-8-demo openjdk-8-source libnss-mdns fonts-dejavu-extra\n",
            "  fonts-ipafont-gothic fonts-ipafont-mincho fonts-wqy-microhei\n",
            "  fonts-wqy-zenhei fonts-indic\n",
            "The following NEW packages will be installed:\n",
            "  libxtst6 openjdk-8-jdk-headless openjdk-8-jre-headless\n",
            "0 upgraded, 3 newly installed, 0 to remove and 24 not upgraded.\n",
            "Need to get 36.5 MB of archives.\n",
            "After this operation, 144 MB of additional disk space will be used.\n",
            "Selecting previously unselected package libxtst6:amd64.\n",
            "(Reading database ... 122518 files and directories currently installed.)\n",
            "Preparing to unpack .../libxtst6_2%3a1.2.3-1_amd64.deb ...\n",
            "Unpacking libxtst6:amd64 (2:1.2.3-1) ...\n",
            "Selecting previously unselected package openjdk-8-jre-headless:amd64.\n",
            "Preparing to unpack .../openjdk-8-jre-headless_8u362-ga-0ubuntu1~20.04.1_amd64.deb ...\n",
            "Unpacking openjdk-8-jre-headless:amd64 (8u362-ga-0ubuntu1~20.04.1) ...\n",
            "Selecting previously unselected package openjdk-8-jdk-headless:amd64.\n",
            "Preparing to unpack .../openjdk-8-jdk-headless_8u362-ga-0ubuntu1~20.04.1_amd64.deb ...\n",
            "Unpacking openjdk-8-jdk-headless:amd64 (8u362-ga-0ubuntu1~20.04.1) ...\n",
            "Setting up libxtst6:amd64 (2:1.2.3-1) ...\n",
            "Setting up openjdk-8-jre-headless:amd64 (8u362-ga-0ubuntu1~20.04.1) ...\n",
            "update-alternatives: using /usr/lib/jvm/java-8-openjdk-amd64/jre/bin/orbd to provide /usr/bin/orbd (orbd) in auto mode\n",
            "update-alternatives: using /usr/lib/jvm/java-8-openjdk-amd64/jre/bin/servertool to provide /usr/bin/servertool (servertool) in auto mode\n",
            "update-alternatives: using /usr/lib/jvm/java-8-openjdk-amd64/jre/bin/tnameserv to provide /usr/bin/tnameserv (tnameserv) in auto mode\n",
            "Setting up openjdk-8-jdk-headless:amd64 (8u362-ga-0ubuntu1~20.04.1) ...\n",
            "update-alternatives: using /usr/lib/jvm/java-8-openjdk-amd64/bin/idlj to provide /usr/bin/idlj (idlj) in auto mode\n",
            "update-alternatives: using /usr/lib/jvm/java-8-openjdk-amd64/bin/wsimport to provide /usr/bin/wsimport (wsimport) in auto mode\n",
            "update-alternatives: using /usr/lib/jvm/java-8-openjdk-amd64/bin/jsadebugd to provide /usr/bin/jsadebugd (jsadebugd) in auto mode\n",
            "update-alternatives: using /usr/lib/jvm/java-8-openjdk-amd64/bin/native2ascii to provide /usr/bin/native2ascii (native2ascii) in auto mode\n",
            "update-alternatives: using /usr/lib/jvm/java-8-openjdk-amd64/bin/javah to provide /usr/bin/javah (javah) in auto mode\n",
            "update-alternatives: using /usr/lib/jvm/java-8-openjdk-amd64/bin/hsdb to provide /usr/bin/hsdb (hsdb) in auto mode\n",
            "update-alternatives: using /usr/lib/jvm/java-8-openjdk-amd64/bin/clhsdb to provide /usr/bin/clhsdb (clhsdb) in auto mode\n",
            "update-alternatives: using /usr/lib/jvm/java-8-openjdk-amd64/bin/xjc to provide /usr/bin/xjc (xjc) in auto mode\n",
            "update-alternatives: using /usr/lib/jvm/java-8-openjdk-amd64/bin/schemagen to provide /usr/bin/schemagen (schemagen) in auto mode\n",
            "update-alternatives: using /usr/lib/jvm/java-8-openjdk-amd64/bin/extcheck to provide /usr/bin/extcheck (extcheck) in auto mode\n",
            "update-alternatives: using /usr/lib/jvm/java-8-openjdk-amd64/bin/jhat to provide /usr/bin/jhat (jhat) in auto mode\n",
            "update-alternatives: using /usr/lib/jvm/java-8-openjdk-amd64/bin/wsgen to provide /usr/bin/wsgen (wsgen) in auto mode\n",
            "Processing triggers for libc-bin (2.31-0ubuntu9.9) ...\n"
          ]
        }
      ],
      "source": [
        "!pip install pyspark\n",
        "# Alternatively, if you want to install a specific version of pyspark:\n",
        "#!pip install pyspark==3.2.1\n",
        "!pip install -U -q PyDrive # To use files that are stored in Google Drive directly (e.g., without downloading them from an external URL)\n",
        "!apt install openjdk-8-jdk-headless -qq\n",
        "import os\n",
        "os.environ[\"JAVA_HOME\"] = JAVA_HOME\n"
      ]
    },
    {
      "cell_type": "markdown",
      "metadata": {
        "id": "kOOZptveSvrB"
      },
      "source": [
        "## **2.** Import useful Python packages"
      ]
    },
    {
      "cell_type": "code",
      "execution_count": 4,
      "metadata": {
        "id": "PX7xDYw4SvrB"
      },
      "outputs": [],
      "source": [
        "import requests\n",
        "import pandas as pd\n",
        "import numpy as np\n",
        "import matplotlib.pyplot as plt\n",
        "import seaborn as sns\n",
        "%matplotlib inline\n",
        "\n",
        "import pyspark\n",
        "from pyspark.sql import *\n",
        "from pyspark.sql.types import *\n",
        "from pyspark.sql.functions import *\n",
        "from pyspark import SparkContext, SparkConf"
      ]
    },
    {
      "cell_type": "markdown",
      "metadata": {
        "id": "PYvwgAvGSvrB"
      },
      "source": [
        "## **3.** Create Spark context"
      ]
    },
    {
      "cell_type": "code",
      "execution_count": 5,
      "metadata": {
        "id": "Fhi5bmOeSvrB"
      },
      "outputs": [],
      "source": [
        "# Create the session\n",
        "conf = SparkConf().\\\n",
        "                set('spark.ui.port', \"4050\").\\\n",
        "                set('spark.executor.memory', '4G').\\\n",
        "                set('spark.driver.memory', '45G').\\\n",
        "                set('spark.driver.maxResultSize', '10G').\\\n",
        "                setAppName(\"BitcoinPricePrediction\").\\\n",
        "                setMaster(\"local[*]\")\n",
        "\n",
        "# Create the context\n",
        "sc = pyspark.SparkContext(conf=conf)\n",
        "spark = SparkSession.builder.getOrCreate()"
      ]
    },
    {
      "cell_type": "markdown",
      "metadata": {
        "id": "FWSfSKX6SvrB"
      },
      "source": [
        "## **4.** Create <code>ngrok</code> tunnel to check the Spark UI"
      ]
    },
    {
      "cell_type": "code",
      "execution_count": 6,
      "metadata": {
        "id": "F9luPyVNSvrB",
        "colab": {
          "base_uri": "https://localhost:8080/"
        },
        "outputId": "25346846-7b08-408a-d100-2ab27a419de8"
      },
      "outputs": [
        {
          "output_type": "stream",
          "name": "stdout",
          "text": [
            "Looking in indexes: https://pypi.org/simple, https://us-python.pkg.dev/colab-wheels/public/simple/\n",
            "Collecting pyngrok\n",
            "  Downloading pyngrok-6.0.0.tar.gz (681 kB)\n",
            "\u001b[2K     \u001b[90m━━━━━━━━━━━━━━━━━━━━━━━━━━━━━━━━━━━━━━\u001b[0m \u001b[32m681.2/681.2 kB\u001b[0m \u001b[31m10.4 MB/s\u001b[0m eta \u001b[36m0:00:00\u001b[0m\n",
            "\u001b[?25h  Preparing metadata (setup.py) ... \u001b[?25l\u001b[?25hdone\n",
            "Requirement already satisfied: PyYAML in /usr/local/lib/python3.10/dist-packages (from pyngrok) (6.0)\n",
            "Building wheels for collected packages: pyngrok\n",
            "  Building wheel for pyngrok (setup.py) ... \u001b[?25l\u001b[?25hdone\n",
            "  Created wheel for pyngrok: filename=pyngrok-6.0.0-py3-none-any.whl size=19879 sha256=d97b836ba2004c5054548149c103ca37d506c9a4b4ff46e3caa3715026fd6836\n",
            "  Stored in directory: /root/.cache/pip/wheels/5c/42/78/0c3d438d7f5730451a25f7ac6cbf4391759d22a67576ed7c2c\n",
            "Successfully built pyngrok\n",
            "Installing collected packages: pyngrok\n",
            "Successfully installed pyngrok-6.0.0\n"
          ]
        }
      ],
      "source": [
        "# Install ngrok\n",
        "!pip install pyngrok"
      ]
    },
    {
      "cell_type": "code",
      "execution_count": 7,
      "metadata": {
        "id": "tKGaSV0F7Sh5",
        "colab": {
          "base_uri": "https://localhost:8080/"
        },
        "outputId": "42e3bd38-ea84-4b89-eda9-963e4d771079"
      },
      "outputs": [
        {
          "output_type": "stream",
          "name": "stdout",
          "text": [
            "Authtoken saved to configuration file: /root/.ngrok2/ngrok.yml\n"
          ]
        }
      ],
      "source": [
        "# Saving authtoken \n",
        "!ngrok authtoken 2PKOO1E6Ghw65dpEG4QNSVzu9PY_GufsrTiussGmBxF664RD "
      ]
    },
    {
      "cell_type": "code",
      "execution_count": 8,
      "metadata": {
        "id": "ROQzVuNu7ZE_",
        "colab": {
          "base_uri": "https://localhost:8080/"
        },
        "outputId": "cb135951-f090-474d-f840-a324fe7d8dd8"
      },
      "outputs": [
        {
          "output_type": "stream",
          "name": "stderr",
          "text": [
            "WARNING:pyngrok.process.ngrok:t=2023-05-07T09:10:41+0000 lvl=warn msg=\"ngrok config file found at legacy location, move to XDG location\" xdg_path=/root/.config/ngrok/ngrok.yml legacy_path=/root/.ngrok2/ngrok.yml\n"
          ]
        }
      ],
      "source": [
        "from pyngrok import ngrok\n",
        "\n",
        "# Open a ngrok tunnel on the port 4050 where Spark is running\n",
        "port = '4050'\n",
        "public_url = ngrok.connect(port).public_url"
      ]
    },
    {
      "cell_type": "code",
      "execution_count": 9,
      "metadata": {
        "id": "jwwPauep7bm4",
        "colab": {
          "base_uri": "https://localhost:8080/"
        },
        "outputId": "c6e1012f-802d-4c26-857d-5c928a87536a"
      },
      "outputs": [
        {
          "output_type": "stream",
          "name": "stdout",
          "text": [
            "To access the Spark Web UI console, please click on the following link to the ngrok tunnel \"https://fac6-34-125-112-55.ngrok-free.app\" -> \"http://127.0.0.1:4050\"\n"
          ]
        }
      ],
      "source": [
        "print(\"To access the Spark Web UI console, please click on the following link to the ngrok tunnel \\\"{}\\\" -> \\\"http://127.0.0.1:{}\\\"\".format(public_url, port))"
      ]
    },
    {
      "cell_type": "markdown",
      "metadata": {
        "id": "vo9prfkJSvrB"
      },
      "source": [
        "## **5.** Link Colab to our Google Drive"
      ]
    },
    {
      "cell_type": "code",
      "execution_count": 10,
      "metadata": {
        "id": "au2-MqC-SvrB",
        "colab": {
          "base_uri": "https://localhost:8080/"
        },
        "outputId": "0608eed3-cc88-4212-fcf9-2815c7138e27"
      },
      "outputs": [
        {
          "output_type": "stream",
          "name": "stdout",
          "text": [
            "Mounted at /content/drive\n"
          ]
        }
      ],
      "source": [
        "# Point Colaboratory to our Google Drive\n",
        "\n",
        "from google.colab import drive\n",
        "\n",
        "drive.mount(GDRIVE_DIR, force_remount=True)"
      ]
    },
    {
      "cell_type": "markdown",
      "metadata": {
        "id": "vEsgE-WfSvrB"
      },
      "source": [
        "## **6.** Check everything is ok"
      ]
    },
    {
      "cell_type": "code",
      "execution_count": 11,
      "metadata": {
        "id": "8X312aarSvrB",
        "colab": {
          "base_uri": "https://localhost:8080/",
          "height": 222
        },
        "outputId": "8e1ff7fe-db22-4146-eadc-1a854a05b55e"
      },
      "outputs": [
        {
          "output_type": "execute_result",
          "data": {
            "text/plain": [
              "<pyspark.sql.session.SparkSession at 0x7fb8a4251990>"
            ],
            "text/html": [
              "\n",
              "            <div>\n",
              "                <p><b>SparkSession - in-memory</b></p>\n",
              "                \n",
              "        <div>\n",
              "            <p><b>SparkContext</b></p>\n",
              "\n",
              "            <p><a href=\"http://a130448c21aa:4050\">Spark UI</a></p>\n",
              "\n",
              "            <dl>\n",
              "              <dt>Version</dt>\n",
              "                <dd><code>v3.4.0</code></dd>\n",
              "              <dt>Master</dt>\n",
              "                <dd><code>local[*]</code></dd>\n",
              "              <dt>AppName</dt>\n",
              "                <dd><code>BitcoinPricePrediction</code></dd>\n",
              "            </dl>\n",
              "        </div>\n",
              "        \n",
              "            </div>\n",
              "        "
            ]
          },
          "metadata": {},
          "execution_count": 11
        }
      ],
      "source": [
        "spark"
      ]
    },
    {
      "cell_type": "code",
      "execution_count": 12,
      "metadata": {
        "id": "GEvgsXRkSvrC",
        "colab": {
          "base_uri": "https://localhost:8080/"
        },
        "outputId": "5d3a67d1-5d7c-45cb-901d-a34695e202da"
      },
      "outputs": [
        {
          "output_type": "execute_result",
          "data": {
            "text/plain": [
              "[('spark.driver.port', '44321'),\n",
              " ('spark.driver.memory', '45G'),\n",
              " ('spark.app.id', 'local-1683450619187'),\n",
              " ('spark.driver.host', 'a130448c21aa'),\n",
              " ('spark.executor.id', 'driver'),\n",
              " ('spark.sql.warehouse.dir', 'file:/content/spark-warehouse'),\n",
              " ('spark.driver.maxResultSize', '10G'),\n",
              " ('spark.driver.extraJavaOptions',\n",
              "  '-Djava.net.preferIPv6Addresses=false -XX:+IgnoreUnrecognizedVMOptions --add-opens=java.base/java.lang=ALL-UNNAMED --add-opens=java.base/java.lang.invoke=ALL-UNNAMED --add-opens=java.base/java.lang.reflect=ALL-UNNAMED --add-opens=java.base/java.io=ALL-UNNAMED --add-opens=java.base/java.net=ALL-UNNAMED --add-opens=java.base/java.nio=ALL-UNNAMED --add-opens=java.base/java.util=ALL-UNNAMED --add-opens=java.base/java.util.concurrent=ALL-UNNAMED --add-opens=java.base/java.util.concurrent.atomic=ALL-UNNAMED --add-opens=java.base/sun.nio.ch=ALL-UNNAMED --add-opens=java.base/sun.nio.cs=ALL-UNNAMED --add-opens=java.base/sun.security.action=ALL-UNNAMED --add-opens=java.base/sun.util.calendar=ALL-UNNAMED --add-opens=java.security.jgss/sun.security.krb5=ALL-UNNAMED -Djdk.reflect.useDirectMethodHandle=false'),\n",
              " ('spark.ui.port', '4050'),\n",
              " ('spark.app.startTime', '1683450616055'),\n",
              " ('spark.app.submitTime', '1683450615712'),\n",
              " ('spark.rdd.compress', 'True'),\n",
              " ('spark.serializer.objectStreamReset', '100'),\n",
              " ('spark.master', 'local[*]'),\n",
              " ('spark.submit.pyFiles', ''),\n",
              " ('spark.submit.deployMode', 'client'),\n",
              " ('spark.executor.memory', '4G'),\n",
              " ('spark.ui.showConsoleProgress', 'true'),\n",
              " ('spark.app.name', 'BitcoinPricePrediction'),\n",
              " ('spark.executor.extraJavaOptions',\n",
              "  '-Djava.net.preferIPv6Addresses=false -XX:+IgnoreUnrecognizedVMOptions --add-opens=java.base/java.lang=ALL-UNNAMED --add-opens=java.base/java.lang.invoke=ALL-UNNAMED --add-opens=java.base/java.lang.reflect=ALL-UNNAMED --add-opens=java.base/java.io=ALL-UNNAMED --add-opens=java.base/java.net=ALL-UNNAMED --add-opens=java.base/java.nio=ALL-UNNAMED --add-opens=java.base/java.util=ALL-UNNAMED --add-opens=java.base/java.util.concurrent=ALL-UNNAMED --add-opens=java.base/java.util.concurrent.atomic=ALL-UNNAMED --add-opens=java.base/sun.nio.ch=ALL-UNNAMED --add-opens=java.base/sun.nio.cs=ALL-UNNAMED --add-opens=java.base/sun.security.action=ALL-UNNAMED --add-opens=java.base/sun.util.calendar=ALL-UNNAMED --add-opens=java.security.jgss/sun.security.krb5=ALL-UNNAMED -Djdk.reflect.useDirectMethodHandle=false')]"
            ]
          },
          "metadata": {},
          "execution_count": 12
        }
      ],
      "source": [
        "sc._conf.getAll()"
      ]
    },
    {
      "cell_type": "markdown",
      "metadata": {
        "id": "dpaf8RMIcP4a"
      },
      "source": [
        "# **Dataset, processing and feature extraction**\n",
        "\n",
        "In this section we are going to explore the dataset, to clean it from null values, and to determine which variables are relevant and which are not."
      ]
    },
    {
      "cell_type": "markdown",
      "source": [
        "## **1.** Data cleaning"
      ],
      "metadata": {
        "id": "8uieUMGPeDse"
      }
    },
    {
      "cell_type": "code",
      "source": [
        "df = spark.read.load(GDRIVE_DATASET, \n",
        "                         format=\"csv\", \n",
        "                         sep=\",\", \n",
        "                         inferSchema=\"true\", \n",
        "                         header=\"true\"\n",
        "                         )"
      ],
      "metadata": {
        "id": "lYhxXT2beFOk"
      },
      "execution_count": 13,
      "outputs": []
    },
    {
      "cell_type": "markdown",
      "source": [
        "Check the shape of the loaded dataset, i.e.,"
      ],
      "metadata": {
        "id": "_S3X_lIrePnt"
      }
    },
    {
      "cell_type": "code",
      "source": [
        "print(\"The shape of the dataset is {:d} rows by {:d} columns\".format(df.count(), len(df.columns)))"
      ],
      "metadata": {
        "id": "Oi76aMGReRYu",
        "colab": {
          "base_uri": "https://localhost:8080/"
        },
        "outputId": "030af184-e231-424f-f068-9a0956edf0b3"
      },
      "execution_count": 14,
      "outputs": [
        {
          "output_type": "stream",
          "name": "stdout",
          "text": [
            "The shape of the dataset is 2675301 rows by 9 columns\n"
          ]
        }
      ]
    },
    {
      "cell_type": "markdown",
      "source": [
        "Print out the schema of the loaded dataset"
      ],
      "metadata": {
        "id": "a38G4dJJeSzb"
      }
    },
    {
      "cell_type": "code",
      "source": [
        "df.printSchema()\n",
        "df.show(5)\t\n",
        "\n",
        "# showing the last 5 rows\n",
        "from pyspark.sql.functions import desc\n",
        "from pyspark.sql.functions import monotonically_increasing_id\n",
        "df.withColumn(\"index\", monotonically_increasing_id()).orderBy(desc(\"index\")).drop(\"index\").show(5)\t"
      ],
      "metadata": {
        "id": "5Oc7B9gEeTq4",
        "colab": {
          "base_uri": "https://localhost:8080/"
        },
        "outputId": "8110625e-c511-4297-b0d1-47b897a4d158"
      },
      "execution_count": 15,
      "outputs": [
        {
          "output_type": "stream",
          "name": "stdout",
          "text": [
            "root\n",
            " |-- unix: integer (nullable = true)\n",
            " |-- date: timestamp (nullable = true)\n",
            " |-- symbol: string (nullable = true)\n",
            " |-- open: double (nullable = true)\n",
            " |-- high: double (nullable = true)\n",
            " |-- low: double (nullable = true)\n",
            " |-- close: double (nullable = true)\n",
            " |-- Volume BTC: double (nullable = true)\n",
            " |-- Volume USD: double (nullable = true)\n",
            "\n",
            "+----------+-------------------+-------+--------+--------+--------+--------+----------+----------------+\n",
            "|      unix|               date| symbol|    open|    high|     low|   close|Volume BTC|      Volume USD|\n",
            "+----------+-------------------+-------+--------+--------+--------+--------+----------+----------------+\n",
            "|1514764740|2017-12-31 23:59:00|BTC/USD|13913.28|13913.28|13867.18| 13880.0|0.59174759|    8213.4565492|\n",
            "|1514764680|2017-12-31 23:58:00|BTC/USD|13913.26|13953.83|13884.69|13953.77|1.39878396|19518.3096575292|\n",
            "|1514764620|2017-12-31 23:57:00|BTC/USD|13908.73|13913.26|13874.99|13913.26|0.77501206|10782.9442939156|\n",
            "|1514764560|2017-12-31 23:56:00|BTC/USD| 13827.0|13908.69| 13827.0|13859.58|0.66645895|  9236.841134241|\n",
            "|1514764500|2017-12-31 23:55:00|BTC/USD|13825.05|13825.05|13825.05|13825.05| 0.0655014|    905.56013007|\n",
            "+----------+-------------------+-------+--------+--------+--------+--------+----------+----------------+\n",
            "only showing top 5 rows\n",
            "\n",
            "+----------+-------------------+-------+--------+--------+--------+--------+-----------+------------------+\n",
            "|      unix|               date| symbol|    open|    high|     low|   close| Volume BTC|        Volume USD|\n",
            "+----------+-------------------+-------+--------+--------+--------+--------+-----------+------------------+\n",
            "|1609459260|2021-01-01 00:01:00|BTC/USD|29007.31| 29086.9|29007.31|29083.47|14.56195084|423512.06039661483|\n",
            "|1609459320|2021-01-01 00:02:00|BTC/USD| 29069.8|29073.02|29028.14|29035.89| 3.03030144|  87987.4992786816|\n",
            "|1609459380|2021-01-01 00:03:00|BTC/USD|29037.68|29069.39| 29019.0|29048.13| 2.18962055|  63604.3823870715|\n",
            "|1609459440|2021-01-01 00:04:00|BTC/USD|29048.13|29057.73|29035.61|29045.19|  1.4465376|   42014.959434144|\n",
            "|1609459500|2021-01-01 00:05:00|BTC/USD|29021.86|29023.38|28982.33| 28999.5| 1.06235967|   30807.899250165|\n",
            "+----------+-------------------+-------+--------+--------+--------+--------+-----------+------------------+\n",
            "only showing top 5 rows\n",
            "\n"
          ]
        }
      ]
    },
    {
      "cell_type": "markdown",
      "metadata": {
        "id": "meEqQLa9ealV"
      },
      "source": [
        "We can eliminate the \"symbol\" and \"unix\"column since we are not gonna use it and changing the name of \"Volume BTC\" and \"Volume USD\"\n"
      ]
    },
    {
      "cell_type": "code",
      "execution_count": 34,
      "metadata": {
        "colab": {
          "base_uri": "https://localhost:8080/"
        },
        "id": "BaoEONycf0ps",
        "outputId": "a7cf2d04-3dbd-4184-d8b6-0fa7d645b368"
      },
      "outputs": [
        {
          "output_type": "stream",
          "name": "stdout",
          "text": [
            "root\n",
            " |-- date: timestamp (nullable = true)\n",
            " |-- open: double (nullable = true)\n",
            " |-- high: double (nullable = true)\n",
            " |-- low: double (nullable = true)\n",
            " |-- close: double (nullable = true)\n",
            " |-- volume_btc: double (nullable = true)\n",
            " |-- volume_usd: double (nullable = true)\n",
            "\n",
            "+-------------------+--------+--------+--------+--------+----------+----------------+\n",
            "|               date|    open|    high|     low|   close|volume_btc|      volume_usd|\n",
            "+-------------------+--------+--------+--------+--------+----------+----------------+\n",
            "|2017-12-31 23:59:00|13913.28|13913.28|13867.18| 13880.0|0.59174759|    8213.4565492|\n",
            "|2017-12-31 23:58:00|13913.26|13953.83|13884.69|13953.77|1.39878396|19518.3096575292|\n",
            "|2017-12-31 23:57:00|13908.73|13913.26|13874.99|13913.26|0.77501206|10782.9442939156|\n",
            "|2017-12-31 23:56:00| 13827.0|13908.69| 13827.0|13859.58|0.66645895|  9236.841134241|\n",
            "|2017-12-31 23:55:00|13825.05|13825.05|13825.05|13825.05| 0.0655014|    905.56013007|\n",
            "+-------------------+--------+--------+--------+--------+----------+----------------+\n",
            "only showing top 5 rows\n",
            "\n"
          ]
        }
      ],
      "source": [
        "df = df.withColumnRenamed(\"Volume BTC\",\"volume_btc\") \\\n",
        "    .withColumnRenamed(\"Volume USD\",\"volume_usd\")\n",
        "df = df.drop(\"symbol\") \\\n",
        "    .drop(\"unix\") \n",
        "\n",
        "df.printSchema()\n",
        "df.show(5)\t"
      ]
    },
    {
      "cell_type": "markdown",
      "source": [
        "Here, we can check how many Nan values we have in the dataset."
      ],
      "metadata": {
        "id": "Af9r5wOML9Fr"
      }
    },
    {
      "cell_type": "code",
      "source": [
        "from pyspark.sql import functions as F\n",
        "\n",
        "df.select(*[\n",
        "    (\n",
        "        F.count(F.when((F.isnan(c) | F.col(c).isNull()), c)) if t not in (\"timestamp\", \"date\")\n",
        "        else F.count(F.when(F.col(c).isNull(), c))\n",
        "    ).alias(c)\n",
        "    for c, t in df.dtypes if c in df.columns\n",
        "]).show()"
      ],
      "metadata": {
        "colab": {
          "base_uri": "https://localhost:8080/"
        },
        "id": "w9TD51tuL9Wj",
        "outputId": "e0144b47-6e84-42a8-811c-b373e719835f"
      },
      "execution_count": 19,
      "outputs": [
        {
          "output_type": "stream",
          "name": "stdout",
          "text": [
            "+----+----+----+---+-----+----------+----------+\n",
            "|date|open|high|low|close|volume_btc|volume_usd|\n",
            "+----+----+----+---+-----+----------+----------+\n",
            "|   0|   0|   0|  0|    0|         0|         0|\n",
            "+----+----+----+---+-----+----------+----------+\n",
            "\n"
          ]
        }
      ]
    },
    {
      "cell_type": "markdown",
      "metadata": {
        "id": "abnufXWQcP4e"
      },
      "source": [
        "## **2.** Exploring the data\n",
        "Now, before building a model to predict the Bitcoin price, let's try a have a better visualization of the data."
      ]
    },
    {
      "cell_type": "markdown",
      "source": [
        "Analysis from 2017 to 2021"
      ],
      "metadata": {
        "id": "3mbQPDqRQksU"
      }
    },
    {
      "cell_type": "code",
      "source": [
        "# TODO: fai vedere il prezzo open / close, high / low e il corrispettivo volume in btc e usd\n",
        "# Per ogni anno\n",
        "#   Per ogni mese\n",
        "#     Per ogni giorno\n",
        "#       Calcola la media del open / close, high / low e il corrispettivo volume in btc e usd\n",
        "#       Aggiungili in un nuovo mean_df\n",
        "\n",
        "\n",
        "# Creazione di una colonna per il giorno\n",
        "df_with_dates = df.withColumn(\"date\", date_format(df.date, \"yyyy-MM-dd\"))\n",
        "\n",
        "# Calcolo della media per ogni giorno\n",
        "mean_df = df_with_dates.groupBy(\"date\").agg(\n",
        "    avg(\"open\").alias(\"mean_open\"),\n",
        "    avg(\"close\").alias(\"mean_close\"),\n",
        "    avg(\"high\").alias(\"mean_high\"),\n",
        "    avg(\"low\").alias(\"mean_low\"),\n",
        "    avg(\"volume_btc\").alias(\"mean_volume_btc\"),\n",
        "    avg(\"volume_usd\").alias(\"mean_volume_usd\")\n",
        ").sort(\"date\")\n",
        "\n",
        "# Visualizzazione del DataFrame risultante\n",
        "mean_df.show(5)"
      ],
      "metadata": {
        "colab": {
          "base_uri": "https://localhost:8080/"
        },
        "id": "Kuitd2D1QKbo",
        "outputId": "fb62526c-1d4c-47b6-fb32-39ffd3b6c7b2"
      },
      "execution_count": 32,
      "outputs": [
        {
          "output_type": "stream",
          "name": "stdout",
          "text": [
            "+----------+------------------+------------------+------------------+------------------+------------------+------------------+\n",
            "|      date|         mean_open|        mean_close|         mean_high|          mean_low|   mean_volume_btc|   mean_volume_usd|\n",
            "+----------+------------------+------------------+------------------+------------------+------------------+------------------+\n",
            "|2017-01-01| 977.2566018068101| 977.2760597637248| 977.3852328005559| 977.1326198749132| 4.760662479909663| 4701.831942402646|\n",
            "|2017-01-02|1012.2676041666633|1012.2739027777743|1012.5171805555518|1011.9888263888854| 5.671792382069449|5747.2436063655605|\n",
            "|2017-01-03|1020.0015347222242|1020.0404722222253|1020.2268402777802|1019.7944375000026| 6.312262517562504|6442.1767920604625|\n",
            "|2017-01-04|1076.5588402777805| 1076.553638888891|1077.2711666666694|1075.5725416666696| 14.97392845275002|16303.129214266797|\n",
            "|2017-01-05|1043.6086458333343|1043.5479513888906|1044.9055486111122|1042.0941250000017|25.013097999937482|25132.509464633993|\n",
            "+----------+------------------+------------------+------------------+------------------+------------------+------------------+\n",
            "only showing top 5 rows\n",
            "\n"
          ]
        }
      ]
    },
    {
      "cell_type": "code",
      "source": [
        "# TODO: visualizza lo stock analysis chart di mean_df\n",
        "\n",
        "# Convertire il DataFrame PySpark in un DataFrame pandas\n",
        "mean_df_pandas = mean_df.toPandas()\n",
        "\n",
        "from itertools import cycle\n",
        "\n",
        "names = cycle(['Stock Open Price','Stock Close Price','Stock High Price','Stock Low Price'])\n",
        "\n",
        "import plotly.express as px\n",
        "fig = px.line(mean_df_pandas, x=mean_df_pandas.date, y=[mean_df_pandas['mean_open'], mean_df_pandas['mean_close'], \n",
        "                                          mean_df_pandas['mean_high'], mean_df_pandas['mean_low']],\n",
        "             labels={'Date': 'Date','value':'Stock value'})\n",
        "fig.update_layout(title_text='Stock analysis chart', font_size=15, font_color='black',legend_title_text='Stock Parameters')\n",
        "fig.for_each_trace(lambda t:  t.update(name = next(names)))\n",
        "fig.update_xaxes(showgrid=False)\n",
        "fig.update_yaxes(showgrid=False)\n",
        "\n",
        "fig.show()"
      ],
      "metadata": {
        "colab": {
          "base_uri": "https://localhost:8080/",
          "height": 542
        },
        "id": "w0ojdflVS3z_",
        "outputId": "cbee7df7-5004-457e-ccbf-774cf57339b6"
      },
      "execution_count": 38,
      "outputs": [
        {
          "output_type": "display_data",
          "data": {
            "text/html": [
              "<html>\n",
              "<head><meta charset=\"utf-8\" /></head>\n",
              "<body>\n",
              "    <div>            <script src=\"https://cdnjs.cloudflare.com/ajax/libs/mathjax/2.7.5/MathJax.js?config=TeX-AMS-MML_SVG\"></script><script type=\"text/javascript\">if (window.MathJax && window.MathJax.Hub && window.MathJax.Hub.Config) {window.MathJax.Hub.Config({SVG: {font: \"STIX-Web\"}});}</script>                <script type=\"text/javascript\">window.PlotlyConfig = {MathJaxConfig: 'local'};</script>\n",
              "        <script src=\"https://cdn.plot.ly/plotly-2.18.2.min.js\"></script>                <div id=\"cb1e67b4-1cee-412c-9502-d299fd831dc0\" class=\"plotly-graph-div\" style=\"height:525px; width:100%;\"></div>            <script type=\"text/javascript\">                                    window.PLOTLYENV=window.PLOTLYENV || {};                                    if (document.getElementById(\"cb1e67b4-1cee-412c-9502-d299fd831dc0\")) {                    Plotly.newPlot(                        \"cb1e67b4-1cee-412c-9502-d299fd831dc0\",                        [{\"hovertemplate\":\"variable=mean_open<br>date=%{x}<br>Stock value=%{y}<extra></extra>\",\"legendgroup\":\"mean_open\",\"line\":{\"color\":\"#636efa\",\"dash\":\"solid\"},\"marker\":{\"symbol\":\"circle\"},\"mode\":\"lines\",\"name\":\"Stock Open Price\",\"showlegend\":true,\"x\":[\"2017-01-01\",\"2017-01-02\",\"2017-01-03\",\"2017-01-04\",\"2017-01-05\",\"2017-01-06\",\"2017-01-07\",\"2017-01-08\",\"2017-01-09\",\"2017-01-10\",\"2017-01-11\",\"2017-01-12\",\"2017-01-13\",\"2017-01-14\",\"2017-01-15\",\"2017-01-16\",\"2017-01-17\",\"2017-01-18\",\"2017-01-19\",\"2017-01-20\",\"2017-01-21\",\"2017-01-22\",\"2017-01-23\",\"2017-01-24\",\"2017-01-25\",\"2017-01-26\",\"2017-01-27\",\"2017-01-28\",\"2017-01-29\",\"2017-01-30\",\"2017-01-31\",\"2017-02-01\",\"2017-02-02\",\"2017-02-03\",\"2017-02-04\",\"2017-02-05\",\"2017-02-06\",\"2017-02-07\",\"2017-02-08\",\"2017-02-09\",\"2017-02-10\",\"2017-02-11\",\"2017-02-12\",\"2017-02-13\",\"2017-02-14\",\"2017-02-15\",\"2017-02-16\",\"2017-02-17\",\"2017-02-18\",\"2017-02-19\",\"2017-02-20\",\"2017-02-21\",\"2017-02-22\",\"2017-02-23\",\"2017-02-24\",\"2017-02-25\",\"2017-02-26\",\"2017-02-27\",\"2017-02-28\",\"2017-03-01\",\"2017-03-02\",\"2017-03-03\",\"2017-03-04\",\"2017-03-05\",\"2017-03-06\",\"2017-03-07\",\"2017-03-08\",\"2017-03-09\",\"2017-03-10\",\"2017-03-11\",\"2017-03-12\",\"2017-03-13\",\"2017-03-14\",\"2017-03-15\",\"2017-03-16\",\"2017-03-17\",\"2017-03-18\",\"2017-03-19\",\"2017-03-20\",\"2017-03-21\",\"2017-03-22\",\"2017-03-23\",\"2017-03-24\",\"2017-03-25\",\"2017-03-26\",\"2017-03-27\",\"2017-03-28\",\"2017-03-29\",\"2017-03-30\",\"2017-03-31\",\"2017-04-01\",\"2017-04-02\",\"2017-04-03\",\"2017-04-04\",\"2017-04-05\",\"2017-04-06\",\"2017-04-07\",\"2017-04-08\",\"2017-04-09\",\"2017-04-10\",\"2017-04-11\",\"2017-04-12\",\"2017-04-13\",\"2017-04-14\",\"2017-04-15\",\"2017-04-16\",\"2017-04-17\",\"2017-04-18\",\"2017-04-19\",\"2017-04-20\",\"2017-04-21\",\"2017-04-22\",\"2017-04-23\",\"2017-04-24\",\"2017-04-25\",\"2017-04-26\",\"2017-04-27\",\"2017-04-28\",\"2017-04-29\",\"2017-04-30\",\"2017-05-01\",\"2017-05-02\",\"2017-05-03\",\"2017-05-04\",\"2017-05-05\",\"2017-05-06\",\"2017-05-07\",\"2017-05-08\",\"2017-05-09\",\"2017-05-10\",\"2017-05-11\",\"2017-05-12\",\"2017-05-13\",\"2017-05-14\",\"2017-05-15\",\"2017-05-16\",\"2017-05-17\",\"2017-05-18\",\"2017-05-19\",\"2017-05-20\",\"2017-05-21\",\"2017-05-22\",\"2017-05-23\",\"2017-05-24\",\"2017-05-25\",\"2017-05-26\",\"2017-05-27\",\"2017-05-28\",\"2017-05-29\",\"2017-05-30\",\"2017-05-31\",\"2017-06-01\",\"2017-06-02\",\"2017-06-03\",\"2017-06-04\",\"2017-06-05\",\"2017-06-06\",\"2017-06-07\",\"2017-06-08\",\"2017-06-09\",\"2017-06-10\",\"2017-06-11\",\"2017-06-12\",\"2017-06-13\",\"2017-06-14\",\"2017-06-15\",\"2017-06-16\",\"2017-06-17\",\"2017-06-18\",\"2017-06-19\",\"2017-06-20\",\"2017-06-21\",\"2017-06-22\",\"2017-06-23\",\"2017-06-24\",\"2017-06-25\",\"2017-06-26\",\"2017-06-27\",\"2017-06-28\",\"2017-06-29\",\"2017-06-30\",\"2017-07-01\",\"2017-07-02\",\"2017-07-03\",\"2017-07-04\",\"2017-07-05\",\"2017-07-06\",\"2017-07-07\",\"2017-07-08\",\"2017-07-09\",\"2017-07-10\",\"2017-07-11\",\"2017-07-12\",\"2017-07-13\",\"2017-07-14\",\"2017-07-15\",\"2017-07-16\",\"2017-07-17\",\"2017-07-18\",\"2017-07-19\",\"2017-07-20\",\"2017-07-21\",\"2017-07-22\",\"2017-07-23\",\"2017-07-24\",\"2017-07-25\",\"2017-07-26\",\"2017-07-27\",\"2017-07-28\",\"2017-07-29\",\"2017-07-30\",\"2017-07-31\",\"2017-08-01\",\"2017-08-02\",\"2017-08-03\",\"2017-08-04\",\"2017-08-05\",\"2017-08-06\",\"2017-08-07\",\"2017-08-08\",\"2017-08-09\",\"2017-08-10\",\"2017-08-11\",\"2017-08-12\",\"2017-08-13\",\"2017-08-14\",\"2017-08-15\",\"2017-08-16\",\"2017-08-17\",\"2017-08-18\",\"2017-08-19\",\"2017-08-20\",\"2017-08-21\",\"2017-08-22\",\"2017-08-23\",\"2017-08-24\",\"2017-08-25\",\"2017-08-26\",\"2017-08-27\",\"2017-08-28\",\"2017-08-29\",\"2017-08-30\",\"2017-08-31\",\"2017-09-01\",\"2017-09-02\",\"2017-09-03\",\"2017-09-04\",\"2017-09-05\",\"2017-09-06\",\"2017-09-07\",\"2017-09-08\",\"2017-09-09\",\"2017-09-10\",\"2017-09-11\",\"2017-09-12\",\"2017-09-13\",\"2017-09-14\",\"2017-09-15\",\"2017-09-16\",\"2017-09-17\",\"2017-09-18\",\"2017-09-19\",\"2017-09-20\",\"2017-09-21\",\"2017-09-22\",\"2017-09-23\",\"2017-09-24\",\"2017-09-25\",\"2017-09-26\",\"2017-09-27\",\"2017-09-28\",\"2017-09-29\",\"2017-09-30\",\"2017-10-01\",\"2017-10-02\",\"2017-10-03\",\"2017-10-04\",\"2017-10-05\",\"2017-10-06\",\"2017-10-07\",\"2017-10-08\",\"2017-10-09\",\"2017-10-10\",\"2017-10-11\",\"2017-10-12\",\"2017-10-13\",\"2017-10-14\",\"2017-10-15\",\"2017-10-16\",\"2017-10-17\",\"2017-10-18\",\"2017-10-19\",\"2017-10-20\",\"2017-10-21\",\"2017-10-22\",\"2017-10-23\",\"2017-10-24\",\"2017-10-25\",\"2017-10-26\",\"2017-10-27\",\"2017-10-28\",\"2017-10-29\",\"2017-10-30\",\"2017-10-31\",\"2017-11-01\",\"2017-11-02\",\"2017-11-03\",\"2017-11-04\",\"2017-11-05\",\"2017-11-06\",\"2017-11-07\",\"2017-11-08\",\"2017-11-09\",\"2017-11-10\",\"2017-11-11\",\"2017-11-12\",\"2017-11-13\",\"2017-11-14\",\"2017-11-15\",\"2017-11-16\",\"2017-11-17\",\"2017-11-18\",\"2017-11-19\",\"2017-11-20\",\"2017-11-21\",\"2017-11-22\",\"2017-11-23\",\"2017-11-24\",\"2017-11-25\",\"2017-11-26\",\"2017-11-27\",\"2017-11-28\",\"2017-11-29\",\"2017-11-30\",\"2017-12-01\",\"2017-12-02\",\"2017-12-03\",\"2017-12-04\",\"2017-12-05\",\"2017-12-06\",\"2017-12-07\",\"2017-12-08\",\"2017-12-09\",\"2017-12-10\",\"2017-12-11\",\"2017-12-12\",\"2017-12-13\",\"2017-12-14\",\"2017-12-15\",\"2017-12-16\",\"2017-12-17\",\"2017-12-18\",\"2017-12-19\",\"2017-12-20\",\"2017-12-21\",\"2017-12-22\",\"2017-12-23\",\"2017-12-24\",\"2017-12-25\",\"2017-12-26\",\"2017-12-27\",\"2017-12-28\",\"2017-12-29\",\"2017-12-30\",\"2017-12-31\",\"2018-01-01\",\"2018-01-02\",\"2018-01-03\",\"2018-01-04\",\"2018-01-05\",\"2018-01-06\",\"2018-01-07\",\"2018-01-08\",\"2018-01-09\",\"2018-01-10\",\"2018-01-11\",\"2018-01-12\",\"2018-01-13\",\"2018-01-14\",\"2018-01-15\",\"2018-01-16\",\"2018-01-17\",\"2018-01-18\",\"2018-01-19\",\"2018-01-20\",\"2018-01-21\",\"2018-01-22\",\"2018-01-23\",\"2018-01-24\",\"2018-01-25\",\"2018-01-26\",\"2018-01-27\",\"2018-01-28\",\"2018-01-29\",\"2018-01-30\",\"2018-01-31\",\"2018-02-01\",\"2018-02-02\",\"2018-02-03\",\"2018-02-04\",\"2018-02-05\",\"2018-02-06\",\"2018-02-07\",\"2018-02-08\",\"2018-02-09\",\"2018-02-10\",\"2018-02-11\",\"2018-02-12\",\"2018-02-13\",\"2018-02-14\",\"2018-02-15\",\"2018-02-16\",\"2018-02-17\",\"2018-02-18\",\"2018-02-19\",\"2018-02-20\",\"2018-02-21\",\"2018-02-22\",\"2018-02-23\",\"2018-02-24\",\"2018-02-25\",\"2018-02-26\",\"2018-02-27\",\"2018-02-28\",\"2018-03-01\",\"2018-03-02\",\"2018-03-03\",\"2018-03-04\",\"2018-03-05\",\"2018-03-06\",\"2018-03-07\",\"2018-03-08\",\"2018-03-09\",\"2018-03-10\",\"2018-03-11\",\"2018-03-12\",\"2018-03-13\",\"2018-03-14\",\"2018-03-15\",\"2018-03-16\",\"2018-03-17\",\"2018-03-18\",\"2018-03-19\",\"2018-03-20\",\"2018-03-21\",\"2018-03-22\",\"2018-03-23\",\"2018-03-24\",\"2018-03-25\",\"2018-03-26\",\"2018-03-27\",\"2018-03-28\",\"2018-03-29\",\"2018-03-30\",\"2018-03-31\",\"2018-04-01\",\"2018-04-02\",\"2018-04-03\",\"2018-04-04\",\"2018-04-05\",\"2018-04-06\",\"2018-04-07\",\"2018-04-08\",\"2018-04-09\",\"2018-04-10\",\"2018-04-11\",\"2018-04-12\",\"2018-04-13\",\"2018-04-14\",\"2018-04-15\",\"2018-04-16\",\"2018-04-17\",\"2018-04-18\",\"2018-04-19\",\"2018-04-20\",\"2018-04-21\",\"2018-04-22\",\"2018-04-23\",\"2018-04-24\",\"2018-04-25\",\"2018-04-26\",\"2018-04-27\",\"2018-04-28\",\"2018-04-29\",\"2018-04-30\",\"2018-05-01\",\"2018-05-02\",\"2018-05-03\",\"2018-05-04\",\"2018-05-05\",\"2018-05-06\",\"2018-05-07\",\"2018-05-08\",\"2018-05-09\",\"2018-05-10\",\"2018-05-11\",\"2018-05-12\",\"2018-05-13\",\"2018-05-14\",\"2018-05-15\",\"2018-05-16\",\"2018-05-17\",\"2018-05-18\",\"2018-05-19\",\"2018-05-20\",\"2018-05-21\",\"2018-05-22\",\"2018-05-23\",\"2018-05-24\",\"2018-05-25\",\"2018-05-26\",\"2018-05-27\",\"2018-05-28\",\"2018-05-29\",\"2018-05-30\",\"2018-05-31\",\"2018-06-01\",\"2018-06-02\",\"2018-06-03\",\"2018-06-04\",\"2018-06-05\",\"2018-06-06\",\"2018-06-07\",\"2018-06-08\",\"2018-06-09\",\"2018-06-10\",\"2018-06-11\",\"2018-06-12\",\"2018-06-13\",\"2018-06-14\",\"2018-06-15\",\"2018-06-16\",\"2018-06-17\",\"2018-06-18\",\"2018-06-19\",\"2018-06-20\",\"2018-06-21\",\"2018-06-22\",\"2018-06-23\",\"2018-06-24\",\"2018-06-25\",\"2018-06-26\",\"2018-06-27\",\"2018-06-28\",\"2018-06-29\",\"2018-06-30\",\"2018-07-01\",\"2018-07-02\",\"2018-07-03\",\"2018-07-04\",\"2018-07-05\",\"2018-07-06\",\"2018-07-07\",\"2018-07-08\",\"2018-07-09\",\"2018-07-10\",\"2018-07-11\",\"2018-07-12\",\"2018-07-13\",\"2018-07-14\",\"2018-07-15\",\"2018-07-16\",\"2018-07-17\",\"2018-07-18\",\"2018-07-19\",\"2018-07-20\",\"2018-07-21\",\"2018-07-22\",\"2018-07-23\",\"2018-07-24\",\"2018-07-25\",\"2018-07-26\",\"2018-07-27\",\"2018-07-28\",\"2018-07-29\",\"2018-07-30\",\"2018-07-31\",\"2018-08-01\",\"2018-08-02\",\"2018-08-03\",\"2018-08-04\",\"2018-08-05\",\"2018-08-06\",\"2018-08-07\",\"2018-08-08\",\"2018-08-09\",\"2018-08-10\",\"2018-08-11\",\"2018-08-12\",\"2018-08-13\",\"2018-08-14\",\"2018-08-15\",\"2018-08-16\",\"2018-08-17\",\"2018-08-18\",\"2018-08-19\",\"2018-08-20\",\"2018-08-21\",\"2018-08-22\",\"2018-08-23\",\"2018-08-24\",\"2018-08-25\",\"2018-08-26\",\"2018-08-27\",\"2018-08-28\",\"2018-08-29\",\"2018-08-30\",\"2018-08-31\",\"2018-09-01\",\"2018-09-02\",\"2018-09-03\",\"2018-09-04\",\"2018-09-05\",\"2018-09-06\",\"2018-09-07\",\"2018-09-08\",\"2018-09-09\",\"2018-09-10\",\"2018-09-11\",\"2018-09-12\",\"2018-09-13\",\"2018-09-14\",\"2018-09-15\",\"2018-09-16\",\"2018-09-17\",\"2018-09-18\",\"2018-09-19\",\"2018-09-20\",\"2018-09-21\",\"2018-09-22\",\"2018-09-23\",\"2018-09-24\",\"2018-09-25\",\"2018-09-26\",\"2018-09-27\",\"2018-09-28\",\"2018-09-29\",\"2018-09-30\",\"2018-10-01\",\"2018-10-02\",\"2018-10-03\",\"2018-10-04\",\"2018-10-05\",\"2018-10-06\",\"2018-10-07\",\"2018-10-08\",\"2018-10-09\",\"2018-10-10\",\"2018-10-11\",\"2018-10-12\",\"2018-10-13\",\"2018-10-14\",\"2018-10-15\",\"2018-10-16\",\"2018-10-17\",\"2018-10-18\",\"2018-10-19\",\"2018-10-20\",\"2018-10-21\",\"2018-10-22\",\"2018-10-23\",\"2018-10-24\",\"2018-10-25\",\"2018-10-26\",\"2018-10-27\",\"2018-10-28\",\"2018-10-29\",\"2018-10-30\",\"2018-10-31\",\"2018-11-01\",\"2018-11-02\",\"2018-11-03\",\"2018-11-04\",\"2018-11-05\",\"2018-11-06\",\"2018-11-07\",\"2018-11-08\",\"2018-11-09\",\"2018-11-10\",\"2018-11-11\",\"2018-11-12\",\"2018-11-13\",\"2018-11-14\",\"2018-11-15\",\"2018-11-16\",\"2018-11-17\",\"2018-11-18\",\"2018-11-19\",\"2018-11-20\",\"2018-11-21\",\"2018-11-22\",\"2018-11-23\",\"2018-11-24\",\"2018-11-25\",\"2018-11-26\",\"2018-11-27\",\"2018-11-28\",\"2018-11-29\",\"2018-11-30\",\"2018-12-01\",\"2018-12-02\",\"2018-12-03\",\"2018-12-04\",\"2018-12-05\",\"2018-12-06\",\"2018-12-07\",\"2018-12-08\",\"2018-12-09\",\"2018-12-10\",\"2018-12-11\",\"2018-12-12\",\"2018-12-13\",\"2018-12-14\",\"2018-12-15\",\"2018-12-16\",\"2018-12-17\",\"2018-12-18\",\"2018-12-19\",\"2018-12-20\",\"2018-12-21\",\"2018-12-22\",\"2018-12-23\",\"2018-12-24\",\"2018-12-25\",\"2018-12-26\",\"2018-12-27\",\"2018-12-28\",\"2018-12-29\",\"2018-12-30\",\"2018-12-31\",\"2019-01-01\",\"2019-01-02\",\"2019-01-03\",\"2019-01-04\",\"2019-01-05\",\"2019-01-06\",\"2019-01-07\",\"2019-01-08\",\"2019-01-09\",\"2019-01-10\",\"2019-01-11\",\"2019-01-12\",\"2019-01-13\",\"2019-01-14\",\"2019-01-15\",\"2019-01-16\",\"2019-01-17\",\"2019-01-18\",\"2019-01-19\",\"2019-01-20\",\"2019-01-21\",\"2019-01-22\",\"2019-01-23\",\"2019-01-24\",\"2019-01-25\",\"2019-01-26\",\"2019-01-27\",\"2019-01-28\",\"2019-01-29\",\"2019-01-30\",\"2019-01-31\",\"2019-02-01\",\"2019-02-02\",\"2019-02-03\",\"2019-02-04\",\"2019-02-05\",\"2019-02-06\",\"2019-02-07\",\"2019-02-08\",\"2019-02-09\",\"2019-02-10\",\"2019-02-11\",\"2019-02-12\",\"2019-02-13\",\"2019-02-14\",\"2019-02-15\",\"2019-02-16\",\"2019-02-17\",\"2019-02-18\",\"2019-02-19\",\"2019-02-20\",\"2019-02-21\",\"2019-02-22\",\"2019-02-23\",\"2019-02-24\",\"2019-02-25\",\"2019-02-26\",\"2019-02-27\",\"2019-02-28\",\"2019-03-01\",\"2019-03-02\",\"2019-03-03\",\"2019-03-04\",\"2019-03-05\",\"2019-03-06\",\"2019-03-07\",\"2019-03-08\",\"2019-03-09\",\"2019-03-10\",\"2019-03-11\",\"2019-03-12\",\"2019-03-13\",\"2019-03-14\",\"2019-03-15\",\"2019-03-16\",\"2019-03-17\",\"2019-03-18\",\"2019-03-19\",\"2019-03-20\",\"2019-03-21\",\"2019-03-22\",\"2019-03-23\",\"2019-03-24\",\"2019-03-25\",\"2019-03-26\",\"2019-03-27\",\"2019-03-28\",\"2019-03-29\",\"2019-03-30\",\"2019-03-31\",\"2019-04-01\",\"2019-04-02\",\"2019-04-03\",\"2019-04-04\",\"2019-04-05\",\"2019-04-06\",\"2019-04-07\",\"2019-04-08\",\"2019-04-09\",\"2019-04-10\",\"2019-04-11\",\"2019-04-12\",\"2019-04-13\",\"2019-04-14\",\"2019-04-15\",\"2019-04-16\",\"2019-04-17\",\"2019-04-18\",\"2019-04-19\",\"2019-04-20\",\"2019-04-21\",\"2019-04-22\",\"2019-04-23\",\"2019-04-24\",\"2019-04-25\",\"2019-04-26\",\"2019-04-27\",\"2019-04-28\",\"2019-04-29\",\"2019-04-30\",\"2019-05-01\",\"2019-05-02\",\"2019-05-03\",\"2019-05-04\",\"2019-05-05\",\"2019-05-06\",\"2019-05-07\",\"2019-05-08\",\"2019-05-09\",\"2019-05-10\",\"2019-05-11\",\"2019-05-12\",\"2019-05-13\",\"2019-05-14\",\"2019-05-15\",\"2019-05-16\",\"2019-05-17\",\"2019-05-18\",\"2019-05-19\",\"2019-05-20\",\"2019-05-21\",\"2019-05-22\",\"2019-05-23\",\"2019-05-24\",\"2019-05-25\",\"2019-05-26\",\"2019-05-27\",\"2019-05-28\",\"2019-05-29\",\"2019-05-30\",\"2019-05-31\",\"2019-06-01\",\"2019-06-02\",\"2019-06-03\",\"2019-06-04\",\"2019-06-05\",\"2019-06-06\",\"2019-06-07\",\"2019-06-08\",\"2019-06-09\",\"2019-06-10\",\"2019-06-11\",\"2019-06-12\",\"2019-06-13\",\"2019-06-14\",\"2019-06-15\",\"2019-06-16\",\"2019-06-17\",\"2019-06-18\",\"2019-06-19\",\"2019-06-20\",\"2019-06-21\",\"2019-06-22\",\"2019-06-23\",\"2019-06-24\",\"2019-06-25\",\"2019-06-26\",\"2019-06-27\",\"2019-06-28\",\"2019-06-29\",\"2019-06-30\",\"2019-07-01\",\"2019-07-02\",\"2019-07-03\",\"2019-07-04\",\"2019-07-05\",\"2019-07-06\",\"2019-07-07\",\"2019-07-08\",\"2019-07-09\",\"2019-07-10\",\"2019-07-11\",\"2019-07-12\",\"2019-07-13\",\"2019-07-14\",\"2019-07-15\",\"2019-07-16\",\"2019-07-17\",\"2019-07-18\",\"2019-07-19\",\"2019-07-20\",\"2019-07-21\",\"2019-07-22\",\"2019-07-23\",\"2019-07-24\",\"2019-07-25\",\"2019-07-26\",\"2019-07-27\",\"2019-07-28\",\"2019-07-29\",\"2019-07-30\",\"2019-07-31\",\"2019-08-01\",\"2019-08-02\",\"2019-08-03\",\"2019-08-04\",\"2019-08-05\",\"2019-08-06\",\"2019-08-07\",\"2019-08-08\",\"2019-08-09\",\"2019-08-10\",\"2019-08-11\",\"2019-08-12\",\"2019-08-13\",\"2019-08-14\",\"2019-08-15\",\"2019-08-16\",\"2019-08-17\",\"2019-08-18\",\"2019-08-19\",\"2019-08-20\",\"2019-08-21\",\"2019-08-22\",\"2019-08-23\",\"2019-08-24\",\"2019-08-25\",\"2019-08-26\",\"2019-08-27\",\"2019-08-28\",\"2019-08-29\",\"2019-08-30\",\"2019-08-31\",\"2019-09-01\",\"2019-09-02\",\"2019-09-03\",\"2019-09-04\",\"2019-09-05\",\"2019-09-06\",\"2019-09-07\",\"2019-09-08\",\"2019-09-09\",\"2019-09-10\",\"2019-09-11\",\"2019-09-12\",\"2019-09-13\",\"2019-09-14\",\"2019-09-15\",\"2019-09-16\",\"2019-09-17\",\"2019-09-18\",\"2019-09-19\",\"2019-09-20\",\"2019-09-21\",\"2019-09-22\",\"2019-09-23\",\"2019-09-24\",\"2019-09-25\",\"2019-09-26\",\"2019-09-27\",\"2019-09-28\",\"2019-09-29\",\"2019-09-30\",\"2019-10-01\",\"2019-10-02\",\"2019-10-03\",\"2019-10-04\",\"2019-10-05\",\"2019-10-06\",\"2019-10-07\",\"2019-10-08\",\"2019-10-09\",\"2019-10-10\",\"2019-10-11\",\"2019-10-12\",\"2019-10-13\",\"2019-10-14\",\"2019-10-15\",\"2019-10-16\",\"2019-10-17\",\"2019-10-18\",\"2019-10-19\",\"2019-10-20\",\"2019-10-21\",\"2019-10-22\",\"2019-10-23\",\"2019-10-24\",\"2019-10-25\",\"2019-10-26\",\"2019-10-27\",\"2019-10-28\",\"2019-10-29\",\"2019-10-30\",\"2019-10-31\",\"2019-11-01\",\"2019-11-02\",\"2019-11-03\",\"2019-11-04\",\"2019-11-05\",\"2019-11-06\",\"2019-11-07\",\"2019-11-08\",\"2019-11-09\",\"2019-11-10\",\"2019-11-11\",\"2019-11-12\",\"2019-11-13\",\"2019-11-14\",\"2019-11-15\",\"2019-11-16\",\"2019-11-17\",\"2019-11-18\",\"2019-11-19\",\"2019-11-20\",\"2019-11-21\",\"2019-11-22\",\"2019-11-23\",\"2019-11-24\",\"2019-11-25\",\"2019-11-26\",\"2019-11-27\",\"2019-11-28\",\"2019-11-29\",\"2019-11-30\",\"2019-12-01\",\"2019-12-02\",\"2019-12-03\",\"2019-12-04\",\"2019-12-05\",\"2019-12-06\",\"2019-12-07\",\"2019-12-08\",\"2019-12-09\",\"2019-12-10\",\"2019-12-11\",\"2019-12-12\",\"2019-12-13\",\"2019-12-14\",\"2019-12-15\",\"2019-12-16\",\"2019-12-17\",\"2019-12-18\",\"2019-12-19\",\"2019-12-20\",\"2019-12-21\",\"2019-12-22\",\"2019-12-23\",\"2019-12-24\",\"2019-12-25\",\"2019-12-26\",\"2019-12-27\",\"2019-12-28\",\"2019-12-29\",\"2019-12-30\",\"2019-12-31\",\"2020-01-01\",\"2020-01-02\",\"2020-01-03\",\"2020-01-04\",\"2020-01-05\",\"2020-01-06\",\"2020-01-07\",\"2020-01-08\",\"2020-01-09\",\"2020-01-10\",\"2020-01-11\",\"2020-01-12\",\"2020-01-13\",\"2020-01-14\",\"2020-01-15\",\"2020-01-16\",\"2020-01-17\",\"2020-01-18\",\"2020-01-19\",\"2020-01-20\",\"2020-01-21\",\"2020-01-22\",\"2020-01-23\",\"2020-01-24\",\"2020-01-25\",\"2020-01-26\",\"2020-01-27\",\"2020-01-28\",\"2020-01-29\",\"2020-01-30\",\"2020-01-31\",\"2020-02-01\",\"2020-02-02\",\"2020-02-03\",\"2020-02-04\",\"2020-02-05\",\"2020-02-06\",\"2020-02-07\",\"2020-02-08\",\"2020-02-09\",\"2020-02-10\",\"2020-02-11\",\"2020-02-12\",\"2020-02-13\",\"2020-02-14\",\"2020-02-15\",\"2020-02-16\",\"2020-02-17\",\"2020-02-18\",\"2020-02-19\",\"2020-02-20\",\"2020-02-21\",\"2020-02-22\",\"2020-02-23\",\"2020-02-24\",\"2020-02-25\",\"2020-02-26\",\"2020-02-27\",\"2020-02-28\",\"2020-02-29\",\"2020-03-01\",\"2020-03-02\",\"2020-03-03\",\"2020-03-04\",\"2020-03-05\",\"2020-03-06\",\"2020-03-07\",\"2020-03-08\",\"2020-03-09\",\"2020-03-10\",\"2020-03-11\",\"2020-03-12\",\"2020-03-13\",\"2020-03-14\",\"2020-03-15\",\"2020-03-16\",\"2020-03-17\",\"2020-03-18\",\"2020-03-19\",\"2020-03-20\",\"2020-03-21\",\"2020-03-22\",\"2020-03-23\",\"2020-03-24\",\"2020-03-25\",\"2020-03-26\",\"2020-03-27\",\"2020-03-28\",\"2020-03-29\",\"2020-03-30\",\"2020-03-31\",\"2020-04-01\",\"2020-04-02\",\"2020-04-03\",\"2020-04-04\",\"2020-04-05\",\"2020-04-06\",\"2020-04-07\",\"2020-04-08\",\"2020-04-09\",\"2020-04-10\",\"2020-04-11\",\"2020-04-12\",\"2020-04-13\",\"2020-04-14\",\"2020-04-15\",\"2020-04-16\",\"2020-04-17\",\"2020-04-18\",\"2020-04-19\",\"2020-04-20\",\"2020-04-21\",\"2020-04-22\",\"2020-04-23\",\"2020-04-24\",\"2020-04-25\",\"2020-04-26\",\"2020-04-27\",\"2020-04-28\",\"2020-04-29\",\"2020-04-30\",\"2020-05-01\",\"2020-05-02\",\"2020-05-03\",\"2020-05-04\",\"2020-05-05\",\"2020-05-06\",\"2020-05-07\",\"2020-05-08\",\"2020-05-09\",\"2020-05-10\",\"2020-05-11\",\"2020-05-12\",\"2020-05-13\",\"2020-05-14\",\"2020-05-15\",\"2020-05-16\",\"2020-05-17\",\"2020-05-18\",\"2020-05-19\",\"2020-05-20\",\"2020-05-21\",\"2020-05-22\",\"2020-05-23\",\"2020-05-24\",\"2020-05-25\",\"2020-05-26\",\"2020-05-27\",\"2020-05-28\",\"2020-05-29\",\"2020-05-30\",\"2020-05-31\",\"2020-06-01\",\"2020-06-02\",\"2020-06-03\",\"2020-06-04\",\"2020-06-05\",\"2020-06-06\",\"2020-06-07\",\"2020-06-08\",\"2020-06-09\",\"2020-06-10\",\"2020-06-11\",\"2020-06-12\",\"2020-06-13\",\"2020-06-14\",\"2020-06-15\",\"2020-06-16\",\"2020-06-17\",\"2020-06-18\",\"2020-06-19\",\"2020-06-20\",\"2020-06-21\",\"2020-06-22\",\"2020-06-23\",\"2020-06-24\",\"2020-06-25\",\"2020-06-26\",\"2020-06-27\",\"2020-06-28\",\"2020-06-29\",\"2020-06-30\",\"2020-07-01\",\"2020-07-02\",\"2020-07-03\",\"2020-07-04\",\"2020-07-05\",\"2020-07-06\",\"2020-07-07\",\"2020-07-08\",\"2020-07-09\",\"2020-07-10\",\"2020-07-11\",\"2020-07-12\",\"2020-07-13\",\"2020-07-14\",\"2020-07-15\",\"2020-07-16\",\"2020-07-17\",\"2020-07-18\",\"2020-07-19\",\"2020-07-20\",\"2020-07-21\",\"2020-07-22\",\"2020-07-23\",\"2020-07-24\",\"2020-07-25\",\"2020-07-26\",\"2020-07-27\",\"2020-07-28\",\"2020-07-29\",\"2020-07-30\",\"2020-07-31\",\"2020-08-01\",\"2020-08-02\",\"2020-08-03\",\"2020-08-04\",\"2020-08-05\",\"2020-08-06\",\"2020-08-07\",\"2020-08-08\",\"2020-08-09\",\"2020-08-10\",\"2020-08-11\",\"2020-08-12\",\"2020-08-13\",\"2020-08-14\",\"2020-08-15\",\"2020-08-16\",\"2020-08-17\",\"2020-08-18\",\"2020-08-19\",\"2020-08-20\",\"2020-08-21\",\"2020-08-22\",\"2020-08-23\",\"2020-08-24\",\"2020-08-25\",\"2020-08-26\",\"2020-08-27\",\"2020-08-28\",\"2020-08-29\",\"2020-08-30\",\"2020-08-31\",\"2020-09-01\",\"2020-09-02\",\"2020-09-03\",\"2020-09-04\",\"2020-09-05\",\"2020-09-06\",\"2020-09-07\",\"2020-09-08\",\"2020-09-09\",\"2020-09-10\",\"2020-09-11\",\"2020-09-12\",\"2020-09-13\",\"2020-09-14\",\"2020-09-15\",\"2020-09-16\",\"2020-09-17\",\"2020-09-18\",\"2020-09-19\",\"2020-09-20\",\"2020-09-21\",\"2020-09-22\",\"2020-09-23\",\"2020-09-24\",\"2020-09-25\",\"2020-09-26\",\"2020-09-27\",\"2020-09-28\",\"2020-09-29\",\"2020-09-30\",\"2020-10-01\",\"2020-10-02\",\"2020-10-03\",\"2020-10-04\",\"2020-10-05\",\"2020-10-06\",\"2020-10-07\",\"2020-10-08\",\"2020-10-09\",\"2020-10-10\",\"2020-10-11\",\"2020-10-12\",\"2020-10-13\",\"2020-10-14\",\"2020-10-15\",\"2020-10-16\",\"2020-10-17\",\"2020-10-18\",\"2020-10-19\",\"2020-10-20\",\"2020-10-21\",\"2020-10-22\",\"2020-10-23\",\"2020-10-24\",\"2020-10-25\",\"2020-10-26\",\"2020-10-27\",\"2020-10-28\",\"2020-10-29\",\"2020-10-30\",\"2020-10-31\",\"2020-11-01\",\"2020-11-02\",\"2020-11-03\",\"2020-11-04\",\"2020-11-05\",\"2020-11-06\",\"2020-11-07\",\"2020-11-08\",\"2020-11-09\",\"2020-11-10\",\"2020-11-11\",\"2020-11-12\",\"2020-11-13\",\"2020-11-14\",\"2020-11-15\",\"2020-11-16\",\"2020-11-17\",\"2020-11-18\",\"2020-11-19\",\"2020-11-20\",\"2020-11-21\",\"2020-11-22\",\"2020-11-23\",\"2020-12-20\",\"2020-12-21\",\"2020-12-22\",\"2020-12-23\",\"2020-12-24\",\"2020-12-25\",\"2020-12-26\",\"2020-12-27\",\"2020-12-28\",\"2020-12-29\",\"2020-12-30\",\"2020-12-31\",\"2021-01-01\",\"2021-01-02\",\"2021-01-03\",\"2021-01-04\",\"2021-01-05\",\"2021-01-06\",\"2021-01-07\",\"2021-01-08\",\"2021-01-09\",\"2021-01-10\",\"2021-01-11\",\"2021-01-12\",\"2021-01-13\",\"2021-01-14\",\"2021-01-15\",\"2021-01-16\",\"2021-01-17\",\"2021-01-18\",\"2021-01-19\",\"2021-01-20\",\"2021-01-21\",\"2021-01-22\",\"2021-01-23\",\"2021-01-24\",\"2021-01-25\",\"2021-01-26\",\"2021-01-27\",\"2021-01-28\",\"2021-01-29\",\"2021-01-30\",\"2021-01-31\",\"2021-02-01\",\"2021-02-02\",\"2021-02-03\",\"2021-02-04\",\"2021-02-05\",\"2021-02-06\",\"2021-02-07\",\"2021-02-08\",\"2021-02-09\",\"2021-02-10\",\"2021-02-11\",\"2021-02-12\",\"2021-02-13\",\"2021-02-14\",\"2021-02-15\",\"2021-02-16\",\"2021-02-17\",\"2021-02-18\",\"2021-02-19\",\"2021-02-20\",\"2021-02-21\",\"2021-02-22\",\"2021-02-23\",\"2021-02-24\",\"2021-02-25\",\"2021-02-26\",\"2021-02-27\",\"2021-02-28\",\"2021-03-01\",\"2021-03-02\",\"2021-03-03\",\"2021-03-04\",\"2021-03-05\",\"2021-03-06\",\"2021-03-07\",\"2021-03-08\",\"2021-03-09\",\"2021-03-10\",\"2021-03-11\",\"2021-03-12\",\"2021-03-13\",\"2021-03-14\",\"2021-03-15\",\"2021-03-16\",\"2021-03-17\",\"2021-03-18\",\"2021-03-19\",\"2021-03-20\",\"2021-03-21\",\"2021-03-22\",\"2021-03-23\",\"2021-03-24\",\"2021-03-25\",\"2021-03-26\",\"2021-03-27\",\"2021-03-28\",\"2021-03-29\",\"2021-03-30\",\"2021-03-31\",\"2021-04-01\",\"2021-04-02\",\"2021-04-03\",\"2021-04-04\",\"2021-04-05\",\"2021-04-06\",\"2021-04-07\",\"2021-04-08\",\"2021-04-09\",\"2021-04-10\",\"2021-04-11\",\"2021-04-12\",\"2021-04-13\",\"2021-04-14\",\"2021-04-15\",\"2021-04-16\",\"2021-04-17\",\"2021-04-18\",\"2021-04-19\",\"2021-04-20\",\"2021-04-21\",\"2021-04-22\",\"2021-04-23\",\"2021-04-24\",\"2021-04-25\",\"2021-04-26\",\"2021-04-27\",\"2021-04-28\",\"2021-04-29\",\"2021-04-30\",\"2021-05-01\",\"2021-05-02\",\"2021-05-03\",\"2021-05-04\",\"2021-05-05\",\"2021-05-06\",\"2021-05-07\",\"2021-05-08\",\"2021-05-09\",\"2021-05-10\",\"2021-05-11\",\"2021-05-12\",\"2021-05-13\",\"2021-05-14\",\"2021-05-15\",\"2021-05-16\",\"2021-05-17\",\"2021-05-18\",\"2021-05-19\",\"2021-05-20\",\"2021-05-21\",\"2021-05-22\",\"2021-05-23\",\"2021-05-24\",\"2021-05-25\",\"2021-05-26\",\"2021-05-27\",\"2021-05-28\",\"2021-05-29\",\"2021-05-30\",\"2021-05-31\",\"2021-06-01\",\"2021-06-02\",\"2021-06-03\",\"2021-06-04\",\"2021-06-05\",\"2021-06-06\",\"2021-06-07\",\"2021-06-08\",\"2021-06-09\",\"2021-06-10\",\"2021-06-11\",\"2021-06-12\",\"2021-06-13\",\"2021-06-14\",\"2021-06-15\",\"2021-06-16\",\"2021-06-17\",\"2021-06-18\",\"2021-06-19\",\"2021-06-20\",\"2021-06-21\",\"2021-06-22\",\"2021-06-23\",\"2021-06-24\",\"2021-06-25\",\"2021-06-26\",\"2021-06-27\",\"2021-06-28\",\"2021-06-29\",\"2021-06-30\",\"2021-07-01\",\"2021-07-02\",\"2021-07-03\",\"2021-07-04\",\"2021-07-05\",\"2021-07-06\",\"2021-07-07\",\"2021-07-08\",\"2021-07-09\",\"2021-07-10\",\"2021-07-11\",\"2021-07-12\",\"2021-07-13\",\"2021-07-14\",\"2021-07-15\",\"2021-07-16\",\"2021-07-17\",\"2021-07-18\",\"2021-07-19\",\"2021-07-20\",\"2021-07-21\",\"2021-07-22\",\"2021-07-23\",\"2021-07-24\",\"2021-07-25\",\"2021-07-26\",\"2021-07-27\",\"2021-07-28\",\"2021-07-29\",\"2021-07-30\",\"2021-07-31\",\"2021-08-01\",\"2021-08-02\",\"2021-08-03\",\"2021-08-04\",\"2021-08-05\",\"2021-08-06\",\"2021-08-07\",\"2021-08-08\",\"2021-08-09\",\"2021-08-10\",\"2021-08-11\",\"2021-08-12\",\"2021-08-13\",\"2021-08-14\",\"2021-08-15\",\"2021-08-16\",\"2021-08-17\",\"2021-08-18\",\"2021-08-19\",\"2021-08-20\",\"2021-08-21\",\"2021-08-22\",\"2021-08-23\",\"2021-08-24\",\"2021-08-25\",\"2021-08-26\",\"2021-08-27\",\"2021-08-28\",\"2021-08-29\",\"2021-08-30\",\"2021-08-31\",\"2021-09-01\",\"2021-09-02\",\"2021-09-03\",\"2021-09-04\",\"2021-09-05\",\"2021-09-06\",\"2021-09-07\",\"2021-09-08\",\"2021-09-09\",\"2021-09-10\",\"2021-09-11\",\"2021-09-12\",\"2021-09-13\",\"2021-09-14\",\"2021-09-15\",\"2021-09-16\",\"2021-09-17\",\"2021-09-18\",\"2021-09-19\",\"2021-09-20\",\"2021-09-21\",\"2021-09-22\",\"2021-09-23\",\"2021-09-24\",\"2021-09-25\",\"2021-09-26\",\"2021-09-27\",\"2021-09-28\",\"2021-09-29\",\"2021-09-30\",\"2021-10-01\",\"2021-10-02\",\"2021-10-03\",\"2021-10-04\",\"2021-10-05\",\"2021-10-06\",\"2021-10-07\",\"2021-10-08\",\"2021-10-09\",\"2021-10-10\",\"2021-10-11\",\"2021-10-12\",\"2021-10-13\",\"2021-10-14\",\"2021-10-15\",\"2021-10-16\",\"2021-10-17\",\"2021-10-18\",\"2021-10-19\",\"2021-10-20\",\"2021-10-21\",\"2021-10-22\",\"2021-10-23\",\"2021-10-24\",\"2021-10-25\",\"2021-10-26\",\"2021-10-27\",\"2021-10-28\",\"2021-10-29\",\"2021-10-30\",\"2021-10-31\",\"2021-11-01\",\"2021-11-02\",\"2021-11-03\",\"2021-11-04\",\"2021-11-05\",\"2021-11-06\",\"2021-11-07\",\"2021-11-08\",\"2021-11-09\",\"2021-11-10\",\"2021-11-11\",\"2021-11-12\",\"2021-11-13\",\"2021-11-14\",\"2021-11-15\",\"2021-11-16\",\"2021-11-17\",\"2021-11-18\",\"2021-11-19\",\"2021-11-20\",\"2021-11-21\",\"2021-11-22\",\"2021-11-23\",\"2021-11-24\",\"2021-11-25\",\"2021-11-26\",\"2021-11-27\",\"2021-11-28\",\"2021-11-29\",\"2021-11-30\",\"2021-12-01\",\"2021-12-02\",\"2021-12-03\",\"2021-12-04\",\"2021-12-05\",\"2021-12-06\",\"2021-12-07\",\"2021-12-08\",\"2021-12-09\",\"2021-12-10\",\"2021-12-11\",\"2021-12-12\",\"2021-12-13\",\"2021-12-14\",\"2021-12-15\",\"2021-12-16\",\"2021-12-17\",\"2021-12-18\",\"2021-12-19\",\"2021-12-20\",\"2021-12-21\",\"2021-12-22\",\"2021-12-23\",\"2021-12-24\",\"2021-12-25\",\"2021-12-26\",\"2021-12-27\",\"2021-12-28\",\"2021-12-29\",\"2021-12-30\",\"2021-12-31\",\"2022-01-01\",\"2022-01-02\",\"2022-01-03\",\"2022-01-04\",\"2022-01-05\",\"2022-01-06\",\"2022-01-07\",\"2022-01-08\",\"2022-01-09\",\"2022-01-10\",\"2022-01-11\",\"2022-01-12\",\"2022-01-13\",\"2022-01-14\",\"2022-01-15\",\"2022-01-16\",\"2022-01-17\",\"2022-01-18\",\"2022-01-19\",\"2022-01-20\",\"2022-01-21\",\"2022-01-22\",\"2022-01-23\",\"2022-01-24\",\"2022-01-25\",\"2022-01-26\",\"2022-01-27\",\"2022-01-28\",\"2022-01-29\",\"2022-01-30\",\"2022-01-31\",\"2022-02-01\",\"2022-02-02\",\"2022-02-03\",\"2022-02-04\",\"2022-02-05\",\"2022-02-06\",\"2022-02-07\",\"2022-02-08\",\"2022-02-09\",\"2022-02-10\",\"2022-02-11\",\"2022-02-12\",\"2022-02-13\",\"2022-02-14\",\"2022-02-15\",\"2022-02-16\",\"2022-02-17\",\"2022-02-18\",\"2022-02-19\",\"2022-02-20\",\"2022-02-21\",\"2022-02-22\",\"2022-02-23\",\"2022-02-24\",\"2022-02-25\",\"2022-02-26\",\"2022-02-27\",\"2022-02-28\",\"2022-03-01\"],\"xaxis\":\"x\",\"y\":[977.2566018068101,1012.2676041666633,1020.0015347222242,1076.5588402777805,1043.6086458333343,934.4552777777786,869.6189513888894,914.2249166666654,893.4954027777762,902.6373124999981,846.2857013888893,782.9702916666644,807.2223611111106,827.4339583333337,817.1270763888884,827.9833124999973,876.1742638888915,885.3802291666693,893.3260902777765,895.5666180555586,917.6542013888906,922.678097222218,920.1782847222211,907.212305555556,894.5055625000015,905.7928402777795,917.1810972222244,918.3096875000031,916.7867499999954,916.9664791666687,940.39990277778,970.8360624999998,992.7071458333313,1011.9633749999982,1017.7707152777754,1020.0614861111075,1020.8320486111127,1042.3600486111131,1053.7074305555548,1024.6890208333314,977.8442986111131,1007.5711041666679,1003.3897291666652,998.815659722221,1006.0631597222222,1009.27625694444,1026.6247013888856,1046.7133750000007,1061.4110486111092,1053.344895833335,1057.219333333336,1100.061854166666,1122.628770833335,1147.1340694444461,1185.3778402777764,1167.6479097222314,1164.5900347222187,1185.9080486111113,1192.4497708333345,1206.1725763888885,1239.776541666668,1272.2522291666685,1269.0666527777826,1258.4977986111098,1274.408333333338,1254.5814513888856,1197.911298611112,1176.8655694444428,1202.4810277777783,1167.5410694444427,1196.6196597222217,1234.125333333332,1243.6425277777803,1251.357923611111,1220.4157361111131,1130.998131944445,1034.989805555557,1009.3481527777743,1033.9631875000016,1083.5973402777786,1053.9100694444433,1035.561861111113,990.5356805555558,927.0336944444459,964.1868541666647,998.2223472222217,1043.0387291666655,1032.938618055555,1033.515604166668,1051.5228402777757,1077.404798611113,1079.857659722227,1126.4299652777775,1142.3713125000002,1130.0837499999996,1167.2425208333345,1189.519270833334,1187.91261805556,1193.7610208333358,1207.9556111111108,1213.3230138888887,1217.0119374999988,1188.3532291666636,1173.3261458333327,1178.0840624999912,1170.0451666666663,1172.1322013888896,1200.0721388888849,1201.0984930555562,1220.4767152777795,1241.2939375000005,1237.5691180555566,1235.5561805555565,1243.7697152777753,1264.7168749999976,1287.913881944445,1313.0569305555543,1324.2622083333351,1329.997479166664,1331.0615555555496,1376.5588819444417,1433.0943263888914,1471.0972986111124,1539.8716874999984,1557.0402430555566,1540.5522222222205,1542.8486944444464,1587.929027777775,1704.5038333333328,1746.4262361111137,1825.762736111111,1770.5121805555557,1706.671222222223,1782.1569027777755,1733.565159722222,1709.1440000000016,1774.096243055556,1824.9509861111123,1926.0076875000016,1974.1901111111194,2022.7020138888913,2109.03575694444,2191.7816111111156,2366.9368124999955,2555.7809930555522,2384.6588125000053,2097.2015277777755,2188.6855138888923,2237.855048611107,2274.1053541666643,2253.8356597222228,2389.7288611111144,2429.245916666669,2518.800145833342,2524.8030972222264,2600.667000000005,2835.1527152777867,2816.1252083333356,2753.67918055556,2823.9700624999996,2854.187263888892,2906.5793125000055,2803.8100694444383,2716.315277777782,2653.491236111114,2356.930083333335,2450.2598263888917,2556.0893819444495,2566.7211249999996,2558.0784652777843,2661.596236111114,2712.470409722221,2680.9091944444463,2718.3275486111156,2657.2892777777765,2559.645923611109,2465.042402777781,2407.808951388894,2533.868493055556,2558.7589583333333,2523.8959236111177,2462.457631944443,2444.7469444444496,2523.9520138888897,2596.615743055558,2569.8980486111077,2593.8127361111083,2543.138881944445,2516.298833333335,2539.368687499998,2455.1793819444506,2339.6069513888865,2343.883131944443,2371.0312569444463,2279.497923611113,2073.9748402777736,1939.9690972222236,2056.4747916666715,2280.833673611112,2311.8392013888874,2491.5461874999987,2718.7256805555494,2779.71279166667,2767.3278472222214,2753.7064236111196,2624.389986111109,2499.130673611108,2569.198277777779,2737.355166666666,2718.120736111106,2675.631541666666,2760.4722708333356,2769.5380694444502,2713.824277777784,2743.187659722236,2826.853743055556,3153.256215277782,3235.867944444447,3307.8528611111105,3416.4120555555637,3341.354041666672,3392.043923611114,3503.1752500000093,3757.778888888894,4023.1262152777776,4168.133104166663,4167.829500000008,4166.001694444449,4345.820229166665,4228.129194444452,4055.145222222237,4060.1658472222366,4022.8187708333317,3922.2108611111166,4141.601486111114,4180.8042569444515,4356.8002083333395,4311.417243055562,4340.585104166667,4304.761569444451,4464.3782986111255,4576.318708333338,4669.497861111126,4801.829888888905,4685.124208333333,4576.620180555563,4362.36816666667,4252.434111111113,4529.197111111115,4584.416722222228,4482.933520833331,4292.359437500014,4180.772861111107,4210.4958541666665,4253.404756944454,3934.576868055554,3625.28520833333,3409.0776111111095,3696.8518333333363,3634.5386388888955,3940.8754513888944,3963.163666666666,3937.295638888892,3791.6570347222273,3626.788048611113,3713.6841527777797,3694.984319444452,3820.014152777781,3914.8893958333356,4035.8033888888945,4188.725756944447,4145.1068888888885,4270.1502222222125,4290.933104166667,4395.611583333342,4311.9909652777815,4249.815715277788,4255.405861111117,4359.225729166671,4351.357958333333,4495.664638888896,4643.498826388888,4811.780729166669,4787.401173611112,5114.494895833337,5618.341375000008,5666.387180555557,5610.572854166666,5674.0034722222235,5625.863034722226,5402.694763888893,5654.064256944444,5788.661430555548,6073.67822916667,5910.161027777772,5869.74603472223,5660.027833333333,5547.905277777793,5826.808722222232,5822.877826388887,5750.03656250001,5883.459180555543,6122.667284722223,6240.021347222235,6502.459458333334,6952.39761805556,7240.713777777769,7258.258263888879,7458.559673611123,7228.755034722234,7103.275750000013,7387.188597222235,7245.208520833335,6962.243652777786,6557.042180555558,6115.018006944448,6346.934319444445,6590.9082500000095,7046.38477083334,7459.552472222223,7827.829555555574,7697.719652777777,7825.824298611101,8090.663958333323,8158.2327083333485,8195.050916666676,8176.167090277763,8168.293937500009,8428.691472222257,8972.489166666679,9556.6239513889,9833.233701388905,10404.054229166677,9889.5017638889,10195.177465277768,10938.828326388899,11291.529055555542,11347.155576388921,11656.458708333335,12579.403979166686,14776.237201388876,15433.76898611111,14808.787784722206,14135.844847222259,16201.119486111098,16730.51295138888,16541.19704166665,16343.477437500009,17364.9368958333,18175.520805555563,19189.771083333344,18719.580881944425,18321.428354166605,16835.57545833333,16221.084868055537,13762.157527777767,14768.28961805558,13656.27166666667,13966.668847222214,15243.936465277753,15582.458444444479,14249.407201388876,14534.657256944429,13214.337340277785,13338.160430555576,13425.640771369042,13876.355194444468,14962.191284722221,14816.6675902778,15790.230722222206,16667.040590277764,16517.296923611135,15301.392791666685,14868.893909722241,14193.247868055543,13697.891041666637,13661.775784722222,14225.507479166643,13680.860631944457,13823.496215277773,12166.041347222239,10681.389243055559,11496.216465277765,11514.256298611117,12471.633402777776,11896.40313194444,11132.969500000005,10725.277388888906,11007.896562500004,11301.827979166677,11011.983256944457,11238.766527777783,11672.99626388891,11284.361444444474,10630.136097222236,9987.579312500016,9498.76926388891,8558.969041666658,8911.807298611118,8723.183826388895,7612.417520833342,6827.4448263888935,7915.334708333334,8215.942909722215,8261.727423611117,8657.192951388875,8189.214201388872,8624.316624999996,8610.147527777806,9025.07281944447,9803.28848611112,10026.055888888885,10677.51304861113,10738.17443750001,10866.992749999992,11498.85686805556,10792.756819444443,10273.23202083334,10013.03722222223,9931.358125000022,9595.429951388938,9909.617770833382,10552.36966666671,10621.281798611155,10649.995930555606,10980.430138888922,11344.1763194445,11241.826826388931,11520.977583333342,11022.295840277791,10400.527145833343,9706.003194444465,8908.214618055576,9237.430354166669,9057.616215277787,9436.962111111116,9155.837479166685,8770.09164583335,8112.692583333357,8315.074270833342,8079.769062499998,7679.701645833334,8354.95486805555,8622.331902777796,8982.962986111133,8793.36400000003,8529.74339583335,8858.309333333345,8535.662715277796,8208.414347222266,7965.6489027778025,7916.421013888906,7518.857444444442,6888.120013888885,7005.326256944459,6797.761673611122,6978.031395833343,7325.682138888891,7078.470006944445,6758.66855555556,6650.186201388899,6891.86176388889,6988.799583333342,6891.903256944449,6779.004805555583,6879.930930555577,7335.8756736111245,7992.852652777777,8010.707756944461,8215.0503888889,8080.050145833351,8036.607527777773,8057.20859722222,8213.365701388915,8445.218069444458,8800.339312500024,8888.577173611115,8895.445798611127,9313.903493055597,9221.929736111104,8882.89329861115,9217.4882638889,9240.260763888913,9356.02519444444,9291.01541666668,8988.599097222253,9112.780312500017,9379.305875000004,9656.811854166675,9829.107798611125,9615.916034722237,9344.250319444469,9261.154111111122,9193.284277777806,9265.472437500002,8701.962194444453,8423.002527777804,8550.35578472226,8581.394840277782,8642.309118055584,8282.730104166694,8278.337263888925,8106.625222222243,8255.149486111137,8361.987736111127,8455.21322916668,8233.59154861112,7785.074548611135,7538.727465277812,7486.720312500029,7489.964451388946,7317.319527777788,7255.632895833351,7293.563638888906,7432.543770833334,7500.12019444443,7481.136069444464,7596.935625000027,7690.760423611163,7575.522930555586,7491.500437500029,7606.280909722261,7692.541333333366,7629.627923611138,7630.235527777792,7134.132263888923,6760.802631944454,6754.505819444447,6443.258979166677,6501.497972222236,6551.11922222224,6462.486972222234,6509.020791666678,6522.745555555571,6718.236562499993,6681.0897291666715,6736.651125000017,6360.519041666669,6135.868944444453,6024.608354166675,6203.34286805559,6202.038875000006,6095.936916666687,6082.072298611122,5903.821500000004,6363.603576388883,6349.980201388894,6452.953354166686,6596.744923611132,6571.212902777779,6580.949854166687,6541.905375000006,6573.245868055566,6739.324312500013,6705.719680555571,6480.749229166672,6354.267208333344,6219.307291666668,6236.746902777825,6235.982166666703,6318.287812500032,6521.015833333359,6877.430284722223,7402.721159722234,7389.885500000034,7420.617465277809,7347.697229166704,7447.930625000054,7679.292819444479,8071.041756944471,8253.790638888893,8196.801111111125,8021.1632152778,8179.990006944472,8202.771444444457,8133.916756944459,7915.374138888891,7569.942840277785,7590.154951388887,7394.038993055601,7248.751666666699,6995.4955208333595,6987.764833333368,6986.698930555584,6444.965486111138,6394.113104166669,6395.242687500006,6188.247555555551,6304.273513888892,6345.85291666668,6056.385166666666,6369.2460694444435,6344.712076388882,6466.917430555556,6446.842451388905,6398.108416666666,6445.117583333375,6399.398840277801,6579.574708333353,6433.513361111128,6551.932826388909,6713.623173611135,6669.84239583337,6712.584027777788,6986.985437499994,7049.090659722239,6929.0275763888885,6979.680680555571,7104.906291666677,7239.144138888897,7259.673319444453,7321.911291666657,7126.248798611121,6421.803986111113,6443.248152777816,6360.295361111128,6289.619979166674,6287.281006944458,6290.310500000013,6268.159340277794,6440.511479166688,6500.2436597222295,6518.745381944476,6483.847222222244,6398.03579166668,6295.732000000033,6336.286576388903,6411.630159722225,6658.202881944476,6705.520388888891,6706.823319444447,6638.15638194446,6413.0986736111045,6461.246652777775,6520.527354166671,6665.0336249999855,6539.713881944435,6577.302027777778,6574.770986111118,6541.709229166677,6447.115819444442,6547.177048611108,6544.506527777762,6556.267874999995,6533.517604166654,6586.662124999995,6587.597659722222,6517.03940972223,6213.579701388887,6201.422131944448,6196.309125000017,6225.559111111118,6368.466270833322,6437.582541666662,6438.510847222206,6427.4731180555455,6385.331340277766,6396.686763888884,6433.618277777771,6405.363006944431,6395.707187500005,6425.261694444451,6400.459368055555,6400.709326388896,6406.985583333301,6402.504222222218,6330.049624999975,6264.448194444446,6277.310486111111,6310.468159722208,6351.821513888889,6333.951395833317,6364.24556944443,6404.63984722224,6412.716062500003,6506.77979861111,6449.511784722237,6365.854249999997,6354.807361111118,6339.39861805556,6350.961222222224,6290.001416666688,6020.224701388889,5494.589395833339,5530.710361111124,5485.101375,5533.974368055568,5203.634729166669,4531.216111111114,4446.917298611116,4468.454888888893,4248.1556736111015,4203.631298611109,3756.1744652777793,3850.83583333333,3702.939118055549,4057.3108888888873,4224.319749999992,4075.296277777776,4077.9824652777847,4120.456569444456,3925.219833333341,3904.8880000000045,3802.8452986111165,3695.053375000001,3360.168416666665,3384.540256944448,3467.7876111111036,3468.861215277776,3365.5607499999996,3397.1812708333314,3360.9237430555518,3233.8759722222217,3180.070145833335,3217.0103333333286,3332.862680555558,3508.534020833337,3748.281340277781,3922.8807708333284,3972.6837291666657,3851.7004861111113,3978.095402777782,4125.285944444439,3773.4185069444466,3779.522388888889,3717.8975138888886,3700.601312499999,3873.5185486111222,3787.820118055567,3757.2997222222252,3700.172661570525,3822.798229166664,3829.9952638888954,3784.8049722222177,3834.211055555563,3874.155694444445,4022.6926111111056,4006.132319444438,4010.596472222225,3795.723284722225,3636.655590277773,3626.5569513888886,3580.540152777777,3579.839590277777,3641.5290972222206,3603.4550208333258,3602.87509027778,3615.594756944433,3671.4329027777817,3607.244201388893,3535.7734930555557,3551.58065972222,3569.446958333335,3553.8886874999953,3557.113923611102,3571.2465347222246,3545.5985069444428,3437.9639583333324,3398.5813402777817,3422.9913750000005,3424.8070416666737,3416.320097222218,3431.7308819444393,3425.37370138889,3414.1239513888895,3419.278736111113,3371.590381944436,3366.3954583333334,3451.316416666668,3614.766777777782,3608.037951388899,3595.156444444436,3577.757618055558,3582.140944444454,3569.1027708333354,3570.381409722215,3587.531041666669,3585.4068749999983,3755.90633333333,3900.564944444439,3910.8091319444407,3906.6829652777733,3925.3044999999984,3979.9544027777756,3989.7262291666625,3792.5383402777834,3799.8630833333305,3795.2991736111094,3810.283875000009,3813.2629236111125,3805.2045347222133,3801.398680555556,3725.0665208333335,3765.6434652777816,3838.772736111108,3861.386437499991,3871.910444444441,3889.94711111111,3892.9913472222247,3864.6544930555633,3847.2910277777783,3853.481645833335,3850.230097222223,3877.5222013888824,3978.4432430555503,3963.051249999996,3969.478111111115,3976.9673055555613,3995.3808055555623,4005.9774305555516,3981.5775138889,3980.678576388903,3968.5637361111108,3949.783333333333,3908.3770277777758,3993.881479166673,4009.182833333329,4057.4352291666687,4083.7990624999998,4088.3200763888813,4125.611243055556,4646.52165277778,5038.453784722222,4971.6056805555545,4980.892888888882,5042.668097222226,5128.367652777776,5241.548895833332,5221.3867083333325,5270.27461111111,5129.844805555551,5047.567923611109,5084.539402777773,5078.650229166664,5122.097944444448,5098.267791666666,5218.656402777784,5263.752263888883,5258.988618055556,5313.136812500002,5288.678506944455,5317.468062499996,5531.911215277777,5486.860013888881,5423.43799305556,5149.594659722223,5165.230493055564,5169.863881944448,5154.981993055553,5199.824881944443,5304.242694444443,5361.434500000011,5617.329986111112,5694.566687499998,5722.054666666675,5656.6037083333285,5863.899868055559,5843.797875000006,6046.9884930555545,6290.316416666675,6806.245638888884,7155.495249999999,7408.326138888903,7992.628229166672,8054.526749999991,7994.178819444441,7263.657354166667,7325.950416666663,7933.359194444449,7907.011902777785,7953.3885694444425,7891.076534722224,7703.357291666669,7983.513972222236,8046.233034722206,8126.713937500004,8784.057256944448,8726.910534722201,8647.710013888895,8632.830048611122,8351.269756944443,8543.591916666664,8669.524236111121,8532.7852986111,7852.355374999999,7773.100006944442,7751.663548611105,7938.68438888888,7941.1426250000095,7799.996666666671,7819.46345833334,7897.171298611116,8036.652229166667,8169.791361111099,8352.864659722234,8727.309284722223,9095.023305555542,9235.937,9153.151770833352,9147.979083333334,9353.21869444444,9801.767881944463,10725.336569444456,10746.916902777772,10846.398374999997,11315.01213194444,12643.730708333314,11806.47368750001,11678.851743055557,11854.527312499993,11542.981833333322,10688.780354166656,10304.18997222222,11345.159798611114,11760.120868055561,11140.903416666675,11416.169805555563,11311.590263888891,11794.186326388888,12514.109513888883,12650.574847222219,11584.644472222231,11585.096083333316,11430.48081944445,10861.066756944434,10418.331999999993,10357.79605555556,9577.177409722217,10053.23158333335,10472.857041666663,10680.459736111101,10577.494006944455,10450.958770833335,10071.730118055582,9703.096527777765,10023.110493055548,9775.323604166673,9731.706312499986,9486.059750000011,9540.222368055558,9540.949937500003,9856.514243055562,10085.201847222212,10475.287590277774,10785.688486111112,10821.021173611107,11675.637104166673,11758.363048611118,11711.426305555566,11802.165597222225,11820.345256944438,11582.535805555543,11378.285833333328,11395.70505555556,11138.339680555586,10439.978708333356,10011.980590277786,10231.93955555554,10296.974520833337,10291.437687500007,10615.141145833335,10752.416062499999,10194.27927083333,10045.450541666663,10262.413326388887,10156.403090277767,10099.9785138889,10344.686027777781,10173.699812500005,10044.588451388898,9519.843472222234,9534.945840277787,9593.415548611116,9624.998680555542,9947.003965277776,10521.686833333328,10563.477437500016,10564.255152777769,10658.688652777777,10422.77210416668,10459.391576388884,10301.285631944456,10222.152819444449,10063.55036805557,10218.733652777753,10316.341638888885,10340.842166666678,10316.341256944444,10252.42776388889,10216.732027777787,10194.570555555554,9989.169486111114,10173.620833333332,10039.223229166682,9978.929527777798,9878.616076388895,9425.307847222217,8448.90258333333,8251.881541666698,8039.213520833325,8158.795000000009,8074.6455000000005,8072.448972222233,8361.773173611113,8256.813430555556,8244.665763888876,8146.323659722224,8107.940048611106,7979.903493055566,8039.850243055554,8208.677145833331,8337.44719444444,8559.70321527777,8397.59512500001,8332.527826388887,8357.384819444433,8307.307006944446,8263.55876388889,8064.227076388895,8031.747298611081,7962.2148125,7958.69929166665,8018.286812499992,8221.424861111125,8198.925895833323,7745.623020833343,7449.646479166658,7878.729583333314,9317.353236111107,9410.659645833352,9474.86891666667,9381.97647222221,9192.367361111108,9171.592631944448,9153.403041666672,9279.127909722218,9217.071666666658,9254.590701388874,9342.228854166658,9335.349201388897,9237.906909722224,8981.762062500009,8810.665756944449,8890.838020833346,8796.589430555554,8733.64855555556,8747.15837499999,8655.02670138887,8539.05297222222,8469.689347222225,8513.605819444429,8378.901451388881,8115.0207083333335,8097.976687499987,7848.601180555547,7342.387749999997,7241.904159722228,7146.005159722206,6962.109423611113,7140.37239583332,7251.543312500002,7522.207340277783,7611.343965277789,7654.504152777776,7353.047402777776,7309.19677083333,7318.41782638889,7276.08802083334,7327.8375486111045,7404.252125000012,7532.192562500003,7495.448138888883,7461.291715277796,7300.349513888883,7210.506930555545,7171.935111111112,7226.273361111103,7164.268847222233,7089.134861111104,7032.904111111137,6790.428256944437,6770.151847222235,7147.812548611108,7150.240958333349,7147.793513888891,7226.291236111116,7503.567902777776,7295.705395833333,7210.862458333329,7220.362965277783,7191.446368055547,7298.354819444444,7344.763694444442,7297.657499999991,7198.675437499992,7195.544405837388,7072.444243055551,7217.38796527779,7321.569263888881,7429.922041666661,7532.939645833326,7928.974076388882,8235.129013888904,7898.144875000002,7887.503145833329,8112.952687500006,8110.86913194443,8102.115826388887,8573.861361111105,8743.047381944454,8673.44133333332,8851.768819444444,8891.187229166651,8846.75197916667,8644.177305555553,8645.455312500002,8665.161284722215,8435.917298611106,8382.82287500001,8320.645243055562,8428.81234027777,8722.290909722224,9040.525791666661,9330.242159722218,9369.466777777772,9341.475534722205,9371.496298611108,9376.004381944436,9328.921805555567,9201.90770138889,9401.323881944436,9687.450381944454,9774.838555555549,9811.599923611113,10079.58315277777,9921.348138888889,9956.3116875,10342.722916666662,10284.4270486111,10260.131868055543,10142.723118055543,9903.501000000002,9718.862194444451,9844.464638888887,10098.174097222223,9580.485729166667,9687.957201388894,9659.429819444436,9868.603624999996,9733.387305555549,9488.810715277752,9032.773895833334,8795.016423611116,8697.248645833344,8685.443388888898,8556.831576388888,8746.719000000005,8790.431506944442,8760.614479166667,9018.660569444444,9097.256736111112,9053.566805555554,8570.30925694443,7881.320604166666,7947.061041666679,7849.53552083332,6668.844173611116,5295.364479166666,5410.848888888884,5299.736201388886,4988.5014166666715,5313.425000000003,5286.391020833339,5759.28693055555,6361.079368055557,6169.158687499983,6139.65190972223,6105.259965277784,6652.979215277782,6661.8042638888855,6671.884631944447,6691.819500000004,6227.587743055551,6106.922326388891,6272.473347222239,6451.547881944454,6308.112263888884,6723.343173611113,6813.930173611103,6772.31514583333,6796.421784722215,7089.78090972224,7317.739138888885,7302.099097222223,7304.991798611104,6976.609888888884,6871.72964583334,6947.695305555547,6751.412645833333,6884.529618055554,6801.876034722226,6911.86790972223,7072.064895833335,7152.363999999996,7167.865173611088,7052.46897916667,6867.501874999998,7000.263291666662,7293.690861111102,7521.336763888892,7544.606916666674,7600.546006944472,7715.637520833338,7730.732291666683,8244.218305555554,8894.935340277783,8783.966118055561,8872.683284722232,8979.789965277785,8772.02506944445,8930.5183263889,9162.40800694444,9490.12190972222,9925.018236111118,9727.241909722221,8688.190090277783,8707.18799305556,8773.964493055548,9044.735368055546,9576.29038194445,9523.675763888881,9402.915381944445,9623.737465277794,9721.19102777777,9669.911972222226,9672.159784722217,9280.675076388878,9125.051409722246,9206.662930555562,9123.529958333333,8819.212625000007,8859.35165277779,9026.410555555556,9319.372104166672,9454.045472222208,9506.433027777775,9546.652784722224,9583.2571875,9880.113201388878,9551.143340277782,9699.179479166663,9742.164687499995,9635.865618055539,9620.847173611131,9725.284402777776,9712.148666666664,9787.55443055556,9643.829069444451,9410.724722222234,9426.564437499997,9404.19229861111,9244.208312499999,9493.462048611114,9442.882847222238,9406.086263888928,9326.430236111111,9301.34018055556,9348.605298611128,9480.650777777772,9638.242916666672,9441.064729166681,9231.718437500002,9181.246090277777,9107.436125000007,9055.162354166661,9115.92227777778,9150.846055555561,9191.258756944455,9166.727722222247,9093.714062499997,9091.075104166635,9063.962472222229,9211.956506944438,9268.982111111129,9345.318034722215,9329.427312499998,9199.611263888897,9238.646291666666,9249.315145833332,9277.99698611111,9219.521243055551,9221.453527777781,9131.938916666646,9134.198409722216,9161.454875,9154.543430555535,9177.301527777774,9306.849388888888,9365.168840277784,9540.43456944444,9556.595430555553,9618.67536805556,9832.941930555548,10434.002569444445,10984.976840277792,11095.487930555553,11033.189770833327,11195.080243055563,11608.110312499995,11332.626409722217,11253.361013888894,11242.260166666661,11463.458444444443,11754.816937500016,11715.782236111123,11683.652333333324,11671.584715277764,11898.262694444456,11632.504847222237,11462.202104166674,11549.524618055562,11753.926055555552,11875.963527777783,11849.55208333333,12053.594423611126,12163.190472222232,11796.493673611107,11798.241604166693,11743.870805555549,11559.148145833347,11620.48355555556,11732.97276388888,11508.378013888892,11401.980666666701,11345.384243055552,11441.28290277775,11506.684673611107,11607.771736111123,11683.95337499999,11873.60980555555,11576.834798611115,11039.796791666673,10390.935312499996,10269.62597222223,10201.04100694444,10159.77561805555,10147.771652777785,10187.415854166702,10338.741993055552,10302.330791666665,10372.641611111127,10395.36718055557,10510.21245833333,10773.036395833342,10894.14240277778,10891.979347222205,10924.673062499993,11011.206944444437,10915.535111111114,10677.07569444444,10467.522993055554,10432.221715277787,10442.34023611111,10670.77745138889,10715.772423611113,10716.797743055558,10878.318715277785,10728.736833333334,10740.743020833324,10755.669381944452,10528.122819444436,10549.083902777782,10604.559201388869,10704.455333333333,10699.24951388889,10620.437437499986,10733.101930555553,10981.327722222215,11335.793548611106,11359.46445833333,11445.950013888889,11450.202861111116,11405.257361111102,11414.022937499984,11364.69650694442,11343.33784027778,11429.866222222212,11581.270937499998,11844.368326388902,12457.754249999993,12932.19499999999,12933.03367361109,13028.947902777807,13055.329104166645,13066.803576388878,13362.008034722236,13444.917916666649,13330.628451388899,13435.906256944456,13737.326506944433,13767.633527777769,13597.263319444437,13611.96855555558,13898.933493055567,14729.146083333317,15582.922875000017,15345.73756944444,15199.552020833333,15382.240694444487,15326.806166666664,15593.275208333343,15927.907486111093,16290.898326388866,16030.206305555566,15996.551576388916,16371.935756944467,17082.877999999997,17885.16518750001,17843.32163194445,18336.26821527781,18711.40439583335,18431.9996388889,18419.0875,23660.906266804537,23260.816819444426,23097.230354166713,23530.565472222217,23217.685312499976,24015.988500000018,25266.030256944516,27045.516159722192,26963.081993055526,26671.01302083332,28141.217201388885,28881.55941666669,29288.897817929108,30757.30814583337,33467.14710416664,31856.851236111128,32272.71436111106,34906.71972916668,38069.9911736111,39811.48801388895,40399.36442361102,39731.367395833375,34282.961000000025,34844.01293055554,34675.063194444505,38509.2756597222,37472.09815972224,36846.060826388835,35652.9471041667,36047.362493055574,36861.34966666665,35155.89904861112,32955.279125000015,31860.215520833375,32354.988479166663,32226.838687499952,33352.87988194445,31996.525722222254,31149.33137499998,31791.324249999987,35054.48406944441,34055.32347222226,33451.51095833334,33705.94725694453,34713.46205555553,36571.737604166694,37541.8223819444,37630.72465972227,39814.61025694441,38713.78022916672,41190.65459027783,46686.74665277785,45801.716652777795,46274.05045138884,47606.831347222265,47277.391402777794,48598.024374999986,47863.70332638885,48846.274048611085,50913.87106249998,51895.60862499997,53084.12337499999,56272.95556944442,57041.024618055526,54712.818444444354,48971.767506944416,49800.3510902777,49989.611222222244,46660.60256944445,47134.521604166686,44823.80295833334,47640.27956944447,48621.23558333332,50428.3970277778,49402.170958333314,47718.566826389,48373.24778472223,50214.95765277778,50797.91405555557,53978.96531944438,55374.40397222223,56273.25320833333,56828.88393749995,58794.721284722254,60459.97099999995,57516.7450416667,55342.87488888887,56158.03681249997,58475.809777777795,58285.02600694443,58780.42241666667,57314.69794444448,56790.884854166616,54704.39634027773,55134.94827083341,52124.95111111113,53240.06398611126,55192.29118749999,55834.21543750013,56911.25432638888,58346.970868055665,58706.21566666673,58874.904638888846,59271.282048611094,58936.56274305561,57727.26609722218,58093.64426388896,58461.33813194452,56975.00022916667,57180.7157569444,58209.23859722226,59858.02236805552,59776.62590972221,60090.96964583347,62172.84649999994,63482.34850694442,62921.39782638887,61760.88217361102,61335.37333333336,56071.08743055562,56410.13115277781,55533.10304166664,55451.34740277776,53804.02757638892,49872.42504166671,50076.70043750002,49650.371798611115,53034.80054166667,54602.94636111109,54798.28614583337,53892.6424791667,55298.07698611119,57809.87148611113,56867.93227083325,57929.35058333333,55300.581916666655,55905.29063194444,56980.73590972226,56832.75683333326,58552.964805555486,57995.23436805564,57762.05639583333,55876.23491666664,55932.39699305557,49845.49134722225,50196.245506944484,48853.32795138897,47715.52968055553,44305.654729166745,44192.03997916669,39083.815715277786,39857.94604166673,39110.90154861107,37506.629659722224,35044.925618055626,37018.25196527778,38082.65172916675,39262.48222916662,38813.370013888874,36610.90998611106,35258.0655625,35487.1105486111,36163.37009027776,36580.24434722223,37281.87963194447,38533.980583333345,37097.42315277786,36593.69029166669,35965.154187500004,35890.971125000004,32887.27422222221,34874.35372222228,37007.57847222216,37006.01760416669,35726.37181250007,36390.04166666668,39677.144520833404,40220.135333333295,39418.743763888924,38608.052027777754,36996.97340277784,35759.6135902778,35066.270034722205,33140.70331944449,32006.20928472223,33754.33218749998,33752.67896527773,33373.569013888904,31486.954319444452,33054.1523819444,34475.29086111109,35560.424722222255,34929.97536111114,33727.528583333275,33293.514319444475,34308.96573611112,35283.88088194443,34102.152256944515,34161.219159722175,34562.89249305564,32901.669972222204,33177.81836805546,33710.66813888889,33801.15320138891,33698.03067361114,32852.20938194438,32489.829736111107,32099.692173611144,31754.030715277786,31561.648868055585,31772.28025694448,31179.153020833353,29835.46890972226,31193.597798611103,32136.79074305557,32491.958368055606,33879.649576388874,34391.623104166676,38319.563611111116,37694.747034722204,39874.59588194442,39866.75661805552,39638.808548611116,41644.669784722246,41485.394881944485,39604.36075694445,38460.39746527774,38710.17115972222,39431.00138194459,41365.555034722274,43571.82840277778,44357.95426388887,44906.605798611105,45604.33086805557,46093.532006944464,44933.20834027784,46213.74509027776,47126.46316666658,46447.066583333246,46927.54186805549,45969.867541666696,45148.06965972217,45219.54769444439,47778.56835416666,49052.78684027785,48907.04406250008,49893.02440277785,48914.650513888955,48268.92738194445,47354.43672222229,47746.16854166671,48906.82479861112,48671.88740277782,48091.55452777774,47308.776402777796,47689.854819444496,49669.99534027773,49912.93690972223,50082.6486250001,50366.46913194448,51791.93613888899,49974.88810416667,46302.94573611112,46426.0678680555,45928.13510416664,45379.008305555544,45644.430756944384,44809.1736458333,46056.138305555585,47592.20249305557,47903.59595833331,47584.201062500055,48243.54271527777,47735.38727083325,44630.21996527777,42445.37324305558,42576.41338194456,44103.1346388889,43138.3174166667,42600.42357638884,42805.68160416662,43528.39725000004,41938.087618055535,41826.87084027775,43266.402555555556,46067.79150694446,47849.5722361111,48031.563590277794,48166.45889583338,50083.76265277775,52927.57655555557,54366.193951388865,54462.101888888836,54747.179590277745,55168.70890277784,56716.224951388955,56629.78266666667,56051.952798611186,57646.52074305553,59886.148993055605,61279.042611111036,60847.08652083326,61797.12552777776,62738.70751388893,64962.58035416675,64332.431243055544,62181.59977777767,61092.77140972219,60712.754694444426,62612.66965277768,62308.86401388876,59514.57293055553,60253.545819444334,61582.92074305565,61623.593659722166,61115.875722222096,61292.131236111105,62550.98834027782,62859.76764583343,61860.0926041666,61533.63518055543,60992.18854861118,62140.1374791667,65801.97456944446,67535.13714583333,66870.40390277773,64933.76022222227,64187.94843750003,64052.63702777776,64481.446618055685,65105.72104861101,60814.80292361109,59891.84820138891,59016.071458333376,57233.172993055516,58717.86640277785,59173.29195833341,57379.329763888854,56924.16584722234,56764.52262499997,58280.26728472216,55688.03151388893,54689.560874999974,54630.40097222222,57613.42912499998,57367.48326388891,57408.50185416665,56710.787694444414,55878.30930555551,49047.624305555575,49145.93559027782,48856.85565972228,51025.53806249995,50329.11856249996,49081.35213194446,48254.99197916669,48488.23984027771,49596.31312500007,48211.73147916669,47209.94851388895,48137.0212986112,48597.6008194445,47081.772291666624,46637.798131944495,47199.662138888874,46436.48183333334,48426.176319444436,48995.25628472221,49104.24346527779,51064.86610416666,50862.34941666673,50176.92566666662,51087.802083333285,48871.052506944434,47590.42239583335,47106.697326388865,47294.25675694446,47126.11152777784,47251.97193749999,46825.258694444514,46433.133777777744,45879.71532638878,43097.12944444451,42000.243180555495,41714.78894444452,41911.07931250003,41618.883749999986,42214.67728472216,43206.59272222231,43439.91945833343,42767.337055555516,43151.51363194443,43115.94427777781,42552.93063888898,41945.8106597222,41921.97136805559,42216.94043055551,38666.47889583337,35509.53488194446,35439.137020833376,35106.81892361112,36521.29645833335,37517.83599999998,36368.914222222236,37062.82153472216,37841.976840277785,37968.70206944454,37576.348868055575,38580.369576388905,38061.16154166672,36822.0784444445,38683.01272222231,41543.7600972222,41623.377437499905,43133.64168750002,43887.22519444444,43959.85832638887,44358.102576388825,43193.38915277779,42347.13356944438,42355.239111111136,42246.79938194444,43902.947395833304,44016.05881944445,42658.43121527776,40421.49904861114,40083.884347222236,38763.48489583323,38506.611375000044,37422.98262499993,38231.800784722174,36139.866791666725,38839.029090277756,39234.30661111112,38719.76020138891,39415.15193055555,43266.10704035879],\"yaxis\":\"y\",\"type\":\"scattergl\"},{\"hovertemplate\":\"variable=mean_close<br>date=%{x}<br>Stock value=%{y}<extra></extra>\",\"legendgroup\":\"mean_close\",\"line\":{\"color\":\"#EF553B\",\"dash\":\"solid\"},\"marker\":{\"symbol\":\"circle\"},\"mode\":\"lines\",\"name\":\"Stock Close Price\",\"showlegend\":true,\"x\":[\"2017-01-01\",\"2017-01-02\",\"2017-01-03\",\"2017-01-04\",\"2017-01-05\",\"2017-01-06\",\"2017-01-07\",\"2017-01-08\",\"2017-01-09\",\"2017-01-10\",\"2017-01-11\",\"2017-01-12\",\"2017-01-13\",\"2017-01-14\",\"2017-01-15\",\"2017-01-16\",\"2017-01-17\",\"2017-01-18\",\"2017-01-19\",\"2017-01-20\",\"2017-01-21\",\"2017-01-22\",\"2017-01-23\",\"2017-01-24\",\"2017-01-25\",\"2017-01-26\",\"2017-01-27\",\"2017-01-28\",\"2017-01-29\",\"2017-01-30\",\"2017-01-31\",\"2017-02-01\",\"2017-02-02\",\"2017-02-03\",\"2017-02-04\",\"2017-02-05\",\"2017-02-06\",\"2017-02-07\",\"2017-02-08\",\"2017-02-09\",\"2017-02-10\",\"2017-02-11\",\"2017-02-12\",\"2017-02-13\",\"2017-02-14\",\"2017-02-15\",\"2017-02-16\",\"2017-02-17\",\"2017-02-18\",\"2017-02-19\",\"2017-02-20\",\"2017-02-21\",\"2017-02-22\",\"2017-02-23\",\"2017-02-24\",\"2017-02-25\",\"2017-02-26\",\"2017-02-27\",\"2017-02-28\",\"2017-03-01\",\"2017-03-02\",\"2017-03-03\",\"2017-03-04\",\"2017-03-05\",\"2017-03-06\",\"2017-03-07\",\"2017-03-08\",\"2017-03-09\",\"2017-03-10\",\"2017-03-11\",\"2017-03-12\",\"2017-03-13\",\"2017-03-14\",\"2017-03-15\",\"2017-03-16\",\"2017-03-17\",\"2017-03-18\",\"2017-03-19\",\"2017-03-20\",\"2017-03-21\",\"2017-03-22\",\"2017-03-23\",\"2017-03-24\",\"2017-03-25\",\"2017-03-26\",\"2017-03-27\",\"2017-03-28\",\"2017-03-29\",\"2017-03-30\",\"2017-03-31\",\"2017-04-01\",\"2017-04-02\",\"2017-04-03\",\"2017-04-04\",\"2017-04-05\",\"2017-04-06\",\"2017-04-07\",\"2017-04-08\",\"2017-04-09\",\"2017-04-10\",\"2017-04-11\",\"2017-04-12\",\"2017-04-13\",\"2017-04-14\",\"2017-04-15\",\"2017-04-16\",\"2017-04-17\",\"2017-04-18\",\"2017-04-19\",\"2017-04-20\",\"2017-04-21\",\"2017-04-22\",\"2017-04-23\",\"2017-04-24\",\"2017-04-25\",\"2017-04-26\",\"2017-04-27\",\"2017-04-28\",\"2017-04-29\",\"2017-04-30\",\"2017-05-01\",\"2017-05-02\",\"2017-05-03\",\"2017-05-04\",\"2017-05-05\",\"2017-05-06\",\"2017-05-07\",\"2017-05-08\",\"2017-05-09\",\"2017-05-10\",\"2017-05-11\",\"2017-05-12\",\"2017-05-13\",\"2017-05-14\",\"2017-05-15\",\"2017-05-16\",\"2017-05-17\",\"2017-05-18\",\"2017-05-19\",\"2017-05-20\",\"2017-05-21\",\"2017-05-22\",\"2017-05-23\",\"2017-05-24\",\"2017-05-25\",\"2017-05-26\",\"2017-05-27\",\"2017-05-28\",\"2017-05-29\",\"2017-05-30\",\"2017-05-31\",\"2017-06-01\",\"2017-06-02\",\"2017-06-03\",\"2017-06-04\",\"2017-06-05\",\"2017-06-06\",\"2017-06-07\",\"2017-06-08\",\"2017-06-09\",\"2017-06-10\",\"2017-06-11\",\"2017-06-12\",\"2017-06-13\",\"2017-06-14\",\"2017-06-15\",\"2017-06-16\",\"2017-06-17\",\"2017-06-18\",\"2017-06-19\",\"2017-06-20\",\"2017-06-21\",\"2017-06-22\",\"2017-06-23\",\"2017-06-24\",\"2017-06-25\",\"2017-06-26\",\"2017-06-27\",\"2017-06-28\",\"2017-06-29\",\"2017-06-30\",\"2017-07-01\",\"2017-07-02\",\"2017-07-03\",\"2017-07-04\",\"2017-07-05\",\"2017-07-06\",\"2017-07-07\",\"2017-07-08\",\"2017-07-09\",\"2017-07-10\",\"2017-07-11\",\"2017-07-12\",\"2017-07-13\",\"2017-07-14\",\"2017-07-15\",\"2017-07-16\",\"2017-07-17\",\"2017-07-18\",\"2017-07-19\",\"2017-07-20\",\"2017-07-21\",\"2017-07-22\",\"2017-07-23\",\"2017-07-24\",\"2017-07-25\",\"2017-07-26\",\"2017-07-27\",\"2017-07-28\",\"2017-07-29\",\"2017-07-30\",\"2017-07-31\",\"2017-08-01\",\"2017-08-02\",\"2017-08-03\",\"2017-08-04\",\"2017-08-05\",\"2017-08-06\",\"2017-08-07\",\"2017-08-08\",\"2017-08-09\",\"2017-08-10\",\"2017-08-11\",\"2017-08-12\",\"2017-08-13\",\"2017-08-14\",\"2017-08-15\",\"2017-08-16\",\"2017-08-17\",\"2017-08-18\",\"2017-08-19\",\"2017-08-20\",\"2017-08-21\",\"2017-08-22\",\"2017-08-23\",\"2017-08-24\",\"2017-08-25\",\"2017-08-26\",\"2017-08-27\",\"2017-08-28\",\"2017-08-29\",\"2017-08-30\",\"2017-08-31\",\"2017-09-01\",\"2017-09-02\",\"2017-09-03\",\"2017-09-04\",\"2017-09-05\",\"2017-09-06\",\"2017-09-07\",\"2017-09-08\",\"2017-09-09\",\"2017-09-10\",\"2017-09-11\",\"2017-09-12\",\"2017-09-13\",\"2017-09-14\",\"2017-09-15\",\"2017-09-16\",\"2017-09-17\",\"2017-09-18\",\"2017-09-19\",\"2017-09-20\",\"2017-09-21\",\"2017-09-22\",\"2017-09-23\",\"2017-09-24\",\"2017-09-25\",\"2017-09-26\",\"2017-09-27\",\"2017-09-28\",\"2017-09-29\",\"2017-09-30\",\"2017-10-01\",\"2017-10-02\",\"2017-10-03\",\"2017-10-04\",\"2017-10-05\",\"2017-10-06\",\"2017-10-07\",\"2017-10-08\",\"2017-10-09\",\"2017-10-10\",\"2017-10-11\",\"2017-10-12\",\"2017-10-13\",\"2017-10-14\",\"2017-10-15\",\"2017-10-16\",\"2017-10-17\",\"2017-10-18\",\"2017-10-19\",\"2017-10-20\",\"2017-10-21\",\"2017-10-22\",\"2017-10-23\",\"2017-10-24\",\"2017-10-25\",\"2017-10-26\",\"2017-10-27\",\"2017-10-28\",\"2017-10-29\",\"2017-10-30\",\"2017-10-31\",\"2017-11-01\",\"2017-11-02\",\"2017-11-03\",\"2017-11-04\",\"2017-11-05\",\"2017-11-06\",\"2017-11-07\",\"2017-11-08\",\"2017-11-09\",\"2017-11-10\",\"2017-11-11\",\"2017-11-12\",\"2017-11-13\",\"2017-11-14\",\"2017-11-15\",\"2017-11-16\",\"2017-11-17\",\"2017-11-18\",\"2017-11-19\",\"2017-11-20\",\"2017-11-21\",\"2017-11-22\",\"2017-11-23\",\"2017-11-24\",\"2017-11-25\",\"2017-11-26\",\"2017-11-27\",\"2017-11-28\",\"2017-11-29\",\"2017-11-30\",\"2017-12-01\",\"2017-12-02\",\"2017-12-03\",\"2017-12-04\",\"2017-12-05\",\"2017-12-06\",\"2017-12-07\",\"2017-12-08\",\"2017-12-09\",\"2017-12-10\",\"2017-12-11\",\"2017-12-12\",\"2017-12-13\",\"2017-12-14\",\"2017-12-15\",\"2017-12-16\",\"2017-12-17\",\"2017-12-18\",\"2017-12-19\",\"2017-12-20\",\"2017-12-21\",\"2017-12-22\",\"2017-12-23\",\"2017-12-24\",\"2017-12-25\",\"2017-12-26\",\"2017-12-27\",\"2017-12-28\",\"2017-12-29\",\"2017-12-30\",\"2017-12-31\",\"2018-01-01\",\"2018-01-02\",\"2018-01-03\",\"2018-01-04\",\"2018-01-05\",\"2018-01-06\",\"2018-01-07\",\"2018-01-08\",\"2018-01-09\",\"2018-01-10\",\"2018-01-11\",\"2018-01-12\",\"2018-01-13\",\"2018-01-14\",\"2018-01-15\",\"2018-01-16\",\"2018-01-17\",\"2018-01-18\",\"2018-01-19\",\"2018-01-20\",\"2018-01-21\",\"2018-01-22\",\"2018-01-23\",\"2018-01-24\",\"2018-01-25\",\"2018-01-26\",\"2018-01-27\",\"2018-01-28\",\"2018-01-29\",\"2018-01-30\",\"2018-01-31\",\"2018-02-01\",\"2018-02-02\",\"2018-02-03\",\"2018-02-04\",\"2018-02-05\",\"2018-02-06\",\"2018-02-07\",\"2018-02-08\",\"2018-02-09\",\"2018-02-10\",\"2018-02-11\",\"2018-02-12\",\"2018-02-13\",\"2018-02-14\",\"2018-02-15\",\"2018-02-16\",\"2018-02-17\",\"2018-02-18\",\"2018-02-19\",\"2018-02-20\",\"2018-02-21\",\"2018-02-22\",\"2018-02-23\",\"2018-02-24\",\"2018-02-25\",\"2018-02-26\",\"2018-02-27\",\"2018-02-28\",\"2018-03-01\",\"2018-03-02\",\"2018-03-03\",\"2018-03-04\",\"2018-03-05\",\"2018-03-06\",\"2018-03-07\",\"2018-03-08\",\"2018-03-09\",\"2018-03-10\",\"2018-03-11\",\"2018-03-12\",\"2018-03-13\",\"2018-03-14\",\"2018-03-15\",\"2018-03-16\",\"2018-03-17\",\"2018-03-18\",\"2018-03-19\",\"2018-03-20\",\"2018-03-21\",\"2018-03-22\",\"2018-03-23\",\"2018-03-24\",\"2018-03-25\",\"2018-03-26\",\"2018-03-27\",\"2018-03-28\",\"2018-03-29\",\"2018-03-30\",\"2018-03-31\",\"2018-04-01\",\"2018-04-02\",\"2018-04-03\",\"2018-04-04\",\"2018-04-05\",\"2018-04-06\",\"2018-04-07\",\"2018-04-08\",\"2018-04-09\",\"2018-04-10\",\"2018-04-11\",\"2018-04-12\",\"2018-04-13\",\"2018-04-14\",\"2018-04-15\",\"2018-04-16\",\"2018-04-17\",\"2018-04-18\",\"2018-04-19\",\"2018-04-20\",\"2018-04-21\",\"2018-04-22\",\"2018-04-23\",\"2018-04-24\",\"2018-04-25\",\"2018-04-26\",\"2018-04-27\",\"2018-04-28\",\"2018-04-29\",\"2018-04-30\",\"2018-05-01\",\"2018-05-02\",\"2018-05-03\",\"2018-05-04\",\"2018-05-05\",\"2018-05-06\",\"2018-05-07\",\"2018-05-08\",\"2018-05-09\",\"2018-05-10\",\"2018-05-11\",\"2018-05-12\",\"2018-05-13\",\"2018-05-14\",\"2018-05-15\",\"2018-05-16\",\"2018-05-17\",\"2018-05-18\",\"2018-05-19\",\"2018-05-20\",\"2018-05-21\",\"2018-05-22\",\"2018-05-23\",\"2018-05-24\",\"2018-05-25\",\"2018-05-26\",\"2018-05-27\",\"2018-05-28\",\"2018-05-29\",\"2018-05-30\",\"2018-05-31\",\"2018-06-01\",\"2018-06-02\",\"2018-06-03\",\"2018-06-04\",\"2018-06-05\",\"2018-06-06\",\"2018-06-07\",\"2018-06-08\",\"2018-06-09\",\"2018-06-10\",\"2018-06-11\",\"2018-06-12\",\"2018-06-13\",\"2018-06-14\",\"2018-06-15\",\"2018-06-16\",\"2018-06-17\",\"2018-06-18\",\"2018-06-19\",\"2018-06-20\",\"2018-06-21\",\"2018-06-22\",\"2018-06-23\",\"2018-06-24\",\"2018-06-25\",\"2018-06-26\",\"2018-06-27\",\"2018-06-28\",\"2018-06-29\",\"2018-06-30\",\"2018-07-01\",\"2018-07-02\",\"2018-07-03\",\"2018-07-04\",\"2018-07-05\",\"2018-07-06\",\"2018-07-07\",\"2018-07-08\",\"2018-07-09\",\"2018-07-10\",\"2018-07-11\",\"2018-07-12\",\"2018-07-13\",\"2018-07-14\",\"2018-07-15\",\"2018-07-16\",\"2018-07-17\",\"2018-07-18\",\"2018-07-19\",\"2018-07-20\",\"2018-07-21\",\"2018-07-22\",\"2018-07-23\",\"2018-07-24\",\"2018-07-25\",\"2018-07-26\",\"2018-07-27\",\"2018-07-28\",\"2018-07-29\",\"2018-07-30\",\"2018-07-31\",\"2018-08-01\",\"2018-08-02\",\"2018-08-03\",\"2018-08-04\",\"2018-08-05\",\"2018-08-06\",\"2018-08-07\",\"2018-08-08\",\"2018-08-09\",\"2018-08-10\",\"2018-08-11\",\"2018-08-12\",\"2018-08-13\",\"2018-08-14\",\"2018-08-15\",\"2018-08-16\",\"2018-08-17\",\"2018-08-18\",\"2018-08-19\",\"2018-08-20\",\"2018-08-21\",\"2018-08-22\",\"2018-08-23\",\"2018-08-24\",\"2018-08-25\",\"2018-08-26\",\"2018-08-27\",\"2018-08-28\",\"2018-08-29\",\"2018-08-30\",\"2018-08-31\",\"2018-09-01\",\"2018-09-02\",\"2018-09-03\",\"2018-09-04\",\"2018-09-05\",\"2018-09-06\",\"2018-09-07\",\"2018-09-08\",\"2018-09-09\",\"2018-09-10\",\"2018-09-11\",\"2018-09-12\",\"2018-09-13\",\"2018-09-14\",\"2018-09-15\",\"2018-09-16\",\"2018-09-17\",\"2018-09-18\",\"2018-09-19\",\"2018-09-20\",\"2018-09-21\",\"2018-09-22\",\"2018-09-23\",\"2018-09-24\",\"2018-09-25\",\"2018-09-26\",\"2018-09-27\",\"2018-09-28\",\"2018-09-29\",\"2018-09-30\",\"2018-10-01\",\"2018-10-02\",\"2018-10-03\",\"2018-10-04\",\"2018-10-05\",\"2018-10-06\",\"2018-10-07\",\"2018-10-08\",\"2018-10-09\",\"2018-10-10\",\"2018-10-11\",\"2018-10-12\",\"2018-10-13\",\"2018-10-14\",\"2018-10-15\",\"2018-10-16\",\"2018-10-17\",\"2018-10-18\",\"2018-10-19\",\"2018-10-20\",\"2018-10-21\",\"2018-10-22\",\"2018-10-23\",\"2018-10-24\",\"2018-10-25\",\"2018-10-26\",\"2018-10-27\",\"2018-10-28\",\"2018-10-29\",\"2018-10-30\",\"2018-10-31\",\"2018-11-01\",\"2018-11-02\",\"2018-11-03\",\"2018-11-04\",\"2018-11-05\",\"2018-11-06\",\"2018-11-07\",\"2018-11-08\",\"2018-11-09\",\"2018-11-10\",\"2018-11-11\",\"2018-11-12\",\"2018-11-13\",\"2018-11-14\",\"2018-11-15\",\"2018-11-16\",\"2018-11-17\",\"2018-11-18\",\"2018-11-19\",\"2018-11-20\",\"2018-11-21\",\"2018-11-22\",\"2018-11-23\",\"2018-11-24\",\"2018-11-25\",\"2018-11-26\",\"2018-11-27\",\"2018-11-28\",\"2018-11-29\",\"2018-11-30\",\"2018-12-01\",\"2018-12-02\",\"2018-12-03\",\"2018-12-04\",\"2018-12-05\",\"2018-12-06\",\"2018-12-07\",\"2018-12-08\",\"2018-12-09\",\"2018-12-10\",\"2018-12-11\",\"2018-12-12\",\"2018-12-13\",\"2018-12-14\",\"2018-12-15\",\"2018-12-16\",\"2018-12-17\",\"2018-12-18\",\"2018-12-19\",\"2018-12-20\",\"2018-12-21\",\"2018-12-22\",\"2018-12-23\",\"2018-12-24\",\"2018-12-25\",\"2018-12-26\",\"2018-12-27\",\"2018-12-28\",\"2018-12-29\",\"2018-12-30\",\"2018-12-31\",\"2019-01-01\",\"2019-01-02\",\"2019-01-03\",\"2019-01-04\",\"2019-01-05\",\"2019-01-06\",\"2019-01-07\",\"2019-01-08\",\"2019-01-09\",\"2019-01-10\",\"2019-01-11\",\"2019-01-12\",\"2019-01-13\",\"2019-01-14\",\"2019-01-15\",\"2019-01-16\",\"2019-01-17\",\"2019-01-18\",\"2019-01-19\",\"2019-01-20\",\"2019-01-21\",\"2019-01-22\",\"2019-01-23\",\"2019-01-24\",\"2019-01-25\",\"2019-01-26\",\"2019-01-27\",\"2019-01-28\",\"2019-01-29\",\"2019-01-30\",\"2019-01-31\",\"2019-02-01\",\"2019-02-02\",\"2019-02-03\",\"2019-02-04\",\"2019-02-05\",\"2019-02-06\",\"2019-02-07\",\"2019-02-08\",\"2019-02-09\",\"2019-02-10\",\"2019-02-11\",\"2019-02-12\",\"2019-02-13\",\"2019-02-14\",\"2019-02-15\",\"2019-02-16\",\"2019-02-17\",\"2019-02-18\",\"2019-02-19\",\"2019-02-20\",\"2019-02-21\",\"2019-02-22\",\"2019-02-23\",\"2019-02-24\",\"2019-02-25\",\"2019-02-26\",\"2019-02-27\",\"2019-02-28\",\"2019-03-01\",\"2019-03-02\",\"2019-03-03\",\"2019-03-04\",\"2019-03-05\",\"2019-03-06\",\"2019-03-07\",\"2019-03-08\",\"2019-03-09\",\"2019-03-10\",\"2019-03-11\",\"2019-03-12\",\"2019-03-13\",\"2019-03-14\",\"2019-03-15\",\"2019-03-16\",\"2019-03-17\",\"2019-03-18\",\"2019-03-19\",\"2019-03-20\",\"2019-03-21\",\"2019-03-22\",\"2019-03-23\",\"2019-03-24\",\"2019-03-25\",\"2019-03-26\",\"2019-03-27\",\"2019-03-28\",\"2019-03-29\",\"2019-03-30\",\"2019-03-31\",\"2019-04-01\",\"2019-04-02\",\"2019-04-03\",\"2019-04-04\",\"2019-04-05\",\"2019-04-06\",\"2019-04-07\",\"2019-04-08\",\"2019-04-09\",\"2019-04-10\",\"2019-04-11\",\"2019-04-12\",\"2019-04-13\",\"2019-04-14\",\"2019-04-15\",\"2019-04-16\",\"2019-04-17\",\"2019-04-18\",\"2019-04-19\",\"2019-04-20\",\"2019-04-21\",\"2019-04-22\",\"2019-04-23\",\"2019-04-24\",\"2019-04-25\",\"2019-04-26\",\"2019-04-27\",\"2019-04-28\",\"2019-04-29\",\"2019-04-30\",\"2019-05-01\",\"2019-05-02\",\"2019-05-03\",\"2019-05-04\",\"2019-05-05\",\"2019-05-06\",\"2019-05-07\",\"2019-05-08\",\"2019-05-09\",\"2019-05-10\",\"2019-05-11\",\"2019-05-12\",\"2019-05-13\",\"2019-05-14\",\"2019-05-15\",\"2019-05-16\",\"2019-05-17\",\"2019-05-18\",\"2019-05-19\",\"2019-05-20\",\"2019-05-21\",\"2019-05-22\",\"2019-05-23\",\"2019-05-24\",\"2019-05-25\",\"2019-05-26\",\"2019-05-27\",\"2019-05-28\",\"2019-05-29\",\"2019-05-30\",\"2019-05-31\",\"2019-06-01\",\"2019-06-02\",\"2019-06-03\",\"2019-06-04\",\"2019-06-05\",\"2019-06-06\",\"2019-06-07\",\"2019-06-08\",\"2019-06-09\",\"2019-06-10\",\"2019-06-11\",\"2019-06-12\",\"2019-06-13\",\"2019-06-14\",\"2019-06-15\",\"2019-06-16\",\"2019-06-17\",\"2019-06-18\",\"2019-06-19\",\"2019-06-20\",\"2019-06-21\",\"2019-06-22\",\"2019-06-23\",\"2019-06-24\",\"2019-06-25\",\"2019-06-26\",\"2019-06-27\",\"2019-06-28\",\"2019-06-29\",\"2019-06-30\",\"2019-07-01\",\"2019-07-02\",\"2019-07-03\",\"2019-07-04\",\"2019-07-05\",\"2019-07-06\",\"2019-07-07\",\"2019-07-08\",\"2019-07-09\",\"2019-07-10\",\"2019-07-11\",\"2019-07-12\",\"2019-07-13\",\"2019-07-14\",\"2019-07-15\",\"2019-07-16\",\"2019-07-17\",\"2019-07-18\",\"2019-07-19\",\"2019-07-20\",\"2019-07-21\",\"2019-07-22\",\"2019-07-23\",\"2019-07-24\",\"2019-07-25\",\"2019-07-26\",\"2019-07-27\",\"2019-07-28\",\"2019-07-29\",\"2019-07-30\",\"2019-07-31\",\"2019-08-01\",\"2019-08-02\",\"2019-08-03\",\"2019-08-04\",\"2019-08-05\",\"2019-08-06\",\"2019-08-07\",\"2019-08-08\",\"2019-08-09\",\"2019-08-10\",\"2019-08-11\",\"2019-08-12\",\"2019-08-13\",\"2019-08-14\",\"2019-08-15\",\"2019-08-16\",\"2019-08-17\",\"2019-08-18\",\"2019-08-19\",\"2019-08-20\",\"2019-08-21\",\"2019-08-22\",\"2019-08-23\",\"2019-08-24\",\"2019-08-25\",\"2019-08-26\",\"2019-08-27\",\"2019-08-28\",\"2019-08-29\",\"2019-08-30\",\"2019-08-31\",\"2019-09-01\",\"2019-09-02\",\"2019-09-03\",\"2019-09-04\",\"2019-09-05\",\"2019-09-06\",\"2019-09-07\",\"2019-09-08\",\"2019-09-09\",\"2019-09-10\",\"2019-09-11\",\"2019-09-12\",\"2019-09-13\",\"2019-09-14\",\"2019-09-15\",\"2019-09-16\",\"2019-09-17\",\"2019-09-18\",\"2019-09-19\",\"2019-09-20\",\"2019-09-21\",\"2019-09-22\",\"2019-09-23\",\"2019-09-24\",\"2019-09-25\",\"2019-09-26\",\"2019-09-27\",\"2019-09-28\",\"2019-09-29\",\"2019-09-30\",\"2019-10-01\",\"2019-10-02\",\"2019-10-03\",\"2019-10-04\",\"2019-10-05\",\"2019-10-06\",\"2019-10-07\",\"2019-10-08\",\"2019-10-09\",\"2019-10-10\",\"2019-10-11\",\"2019-10-12\",\"2019-10-13\",\"2019-10-14\",\"2019-10-15\",\"2019-10-16\",\"2019-10-17\",\"2019-10-18\",\"2019-10-19\",\"2019-10-20\",\"2019-10-21\",\"2019-10-22\",\"2019-10-23\",\"2019-10-24\",\"2019-10-25\",\"2019-10-26\",\"2019-10-27\",\"2019-10-28\",\"2019-10-29\",\"2019-10-30\",\"2019-10-31\",\"2019-11-01\",\"2019-11-02\",\"2019-11-03\",\"2019-11-04\",\"2019-11-05\",\"2019-11-06\",\"2019-11-07\",\"2019-11-08\",\"2019-11-09\",\"2019-11-10\",\"2019-11-11\",\"2019-11-12\",\"2019-11-13\",\"2019-11-14\",\"2019-11-15\",\"2019-11-16\",\"2019-11-17\",\"2019-11-18\",\"2019-11-19\",\"2019-11-20\",\"2019-11-21\",\"2019-11-22\",\"2019-11-23\",\"2019-11-24\",\"2019-11-25\",\"2019-11-26\",\"2019-11-27\",\"2019-11-28\",\"2019-11-29\",\"2019-11-30\",\"2019-12-01\",\"2019-12-02\",\"2019-12-03\",\"2019-12-04\",\"2019-12-05\",\"2019-12-06\",\"2019-12-07\",\"2019-12-08\",\"2019-12-09\",\"2019-12-10\",\"2019-12-11\",\"2019-12-12\",\"2019-12-13\",\"2019-12-14\",\"2019-12-15\",\"2019-12-16\",\"2019-12-17\",\"2019-12-18\",\"2019-12-19\",\"2019-12-20\",\"2019-12-21\",\"2019-12-22\",\"2019-12-23\",\"2019-12-24\",\"2019-12-25\",\"2019-12-26\",\"2019-12-27\",\"2019-12-28\",\"2019-12-29\",\"2019-12-30\",\"2019-12-31\",\"2020-01-01\",\"2020-01-02\",\"2020-01-03\",\"2020-01-04\",\"2020-01-05\",\"2020-01-06\",\"2020-01-07\",\"2020-01-08\",\"2020-01-09\",\"2020-01-10\",\"2020-01-11\",\"2020-01-12\",\"2020-01-13\",\"2020-01-14\",\"2020-01-15\",\"2020-01-16\",\"2020-01-17\",\"2020-01-18\",\"2020-01-19\",\"2020-01-20\",\"2020-01-21\",\"2020-01-22\",\"2020-01-23\",\"2020-01-24\",\"2020-01-25\",\"2020-01-26\",\"2020-01-27\",\"2020-01-28\",\"2020-01-29\",\"2020-01-30\",\"2020-01-31\",\"2020-02-01\",\"2020-02-02\",\"2020-02-03\",\"2020-02-04\",\"2020-02-05\",\"2020-02-06\",\"2020-02-07\",\"2020-02-08\",\"2020-02-09\",\"2020-02-10\",\"2020-02-11\",\"2020-02-12\",\"2020-02-13\",\"2020-02-14\",\"2020-02-15\",\"2020-02-16\",\"2020-02-17\",\"2020-02-18\",\"2020-02-19\",\"2020-02-20\",\"2020-02-21\",\"2020-02-22\",\"2020-02-23\",\"2020-02-24\",\"2020-02-25\",\"2020-02-26\",\"2020-02-27\",\"2020-02-28\",\"2020-02-29\",\"2020-03-01\",\"2020-03-02\",\"2020-03-03\",\"2020-03-04\",\"2020-03-05\",\"2020-03-06\",\"2020-03-07\",\"2020-03-08\",\"2020-03-09\",\"2020-03-10\",\"2020-03-11\",\"2020-03-12\",\"2020-03-13\",\"2020-03-14\",\"2020-03-15\",\"2020-03-16\",\"2020-03-17\",\"2020-03-18\",\"2020-03-19\",\"2020-03-20\",\"2020-03-21\",\"2020-03-22\",\"2020-03-23\",\"2020-03-24\",\"2020-03-25\",\"2020-03-26\",\"2020-03-27\",\"2020-03-28\",\"2020-03-29\",\"2020-03-30\",\"2020-03-31\",\"2020-04-01\",\"2020-04-02\",\"2020-04-03\",\"2020-04-04\",\"2020-04-05\",\"2020-04-06\",\"2020-04-07\",\"2020-04-08\",\"2020-04-09\",\"2020-04-10\",\"2020-04-11\",\"2020-04-12\",\"2020-04-13\",\"2020-04-14\",\"2020-04-15\",\"2020-04-16\",\"2020-04-17\",\"2020-04-18\",\"2020-04-19\",\"2020-04-20\",\"2020-04-21\",\"2020-04-22\",\"2020-04-23\",\"2020-04-24\",\"2020-04-25\",\"2020-04-26\",\"2020-04-27\",\"2020-04-28\",\"2020-04-29\",\"2020-04-30\",\"2020-05-01\",\"2020-05-02\",\"2020-05-03\",\"2020-05-04\",\"2020-05-05\",\"2020-05-06\",\"2020-05-07\",\"2020-05-08\",\"2020-05-09\",\"2020-05-10\",\"2020-05-11\",\"2020-05-12\",\"2020-05-13\",\"2020-05-14\",\"2020-05-15\",\"2020-05-16\",\"2020-05-17\",\"2020-05-18\",\"2020-05-19\",\"2020-05-20\",\"2020-05-21\",\"2020-05-22\",\"2020-05-23\",\"2020-05-24\",\"2020-05-25\",\"2020-05-26\",\"2020-05-27\",\"2020-05-28\",\"2020-05-29\",\"2020-05-30\",\"2020-05-31\",\"2020-06-01\",\"2020-06-02\",\"2020-06-03\",\"2020-06-04\",\"2020-06-05\",\"2020-06-06\",\"2020-06-07\",\"2020-06-08\",\"2020-06-09\",\"2020-06-10\",\"2020-06-11\",\"2020-06-12\",\"2020-06-13\",\"2020-06-14\",\"2020-06-15\",\"2020-06-16\",\"2020-06-17\",\"2020-06-18\",\"2020-06-19\",\"2020-06-20\",\"2020-06-21\",\"2020-06-22\",\"2020-06-23\",\"2020-06-24\",\"2020-06-25\",\"2020-06-26\",\"2020-06-27\",\"2020-06-28\",\"2020-06-29\",\"2020-06-30\",\"2020-07-01\",\"2020-07-02\",\"2020-07-03\",\"2020-07-04\",\"2020-07-05\",\"2020-07-06\",\"2020-07-07\",\"2020-07-08\",\"2020-07-09\",\"2020-07-10\",\"2020-07-11\",\"2020-07-12\",\"2020-07-13\",\"2020-07-14\",\"2020-07-15\",\"2020-07-16\",\"2020-07-17\",\"2020-07-18\",\"2020-07-19\",\"2020-07-20\",\"2020-07-21\",\"2020-07-22\",\"2020-07-23\",\"2020-07-24\",\"2020-07-25\",\"2020-07-26\",\"2020-07-27\",\"2020-07-28\",\"2020-07-29\",\"2020-07-30\",\"2020-07-31\",\"2020-08-01\",\"2020-08-02\",\"2020-08-03\",\"2020-08-04\",\"2020-08-05\",\"2020-08-06\",\"2020-08-07\",\"2020-08-08\",\"2020-08-09\",\"2020-08-10\",\"2020-08-11\",\"2020-08-12\",\"2020-08-13\",\"2020-08-14\",\"2020-08-15\",\"2020-08-16\",\"2020-08-17\",\"2020-08-18\",\"2020-08-19\",\"2020-08-20\",\"2020-08-21\",\"2020-08-22\",\"2020-08-23\",\"2020-08-24\",\"2020-08-25\",\"2020-08-26\",\"2020-08-27\",\"2020-08-28\",\"2020-08-29\",\"2020-08-30\",\"2020-08-31\",\"2020-09-01\",\"2020-09-02\",\"2020-09-03\",\"2020-09-04\",\"2020-09-05\",\"2020-09-06\",\"2020-09-07\",\"2020-09-08\",\"2020-09-09\",\"2020-09-10\",\"2020-09-11\",\"2020-09-12\",\"2020-09-13\",\"2020-09-14\",\"2020-09-15\",\"2020-09-16\",\"2020-09-17\",\"2020-09-18\",\"2020-09-19\",\"2020-09-20\",\"2020-09-21\",\"2020-09-22\",\"2020-09-23\",\"2020-09-24\",\"2020-09-25\",\"2020-09-26\",\"2020-09-27\",\"2020-09-28\",\"2020-09-29\",\"2020-09-30\",\"2020-10-01\",\"2020-10-02\",\"2020-10-03\",\"2020-10-04\",\"2020-10-05\",\"2020-10-06\",\"2020-10-07\",\"2020-10-08\",\"2020-10-09\",\"2020-10-10\",\"2020-10-11\",\"2020-10-12\",\"2020-10-13\",\"2020-10-14\",\"2020-10-15\",\"2020-10-16\",\"2020-10-17\",\"2020-10-18\",\"2020-10-19\",\"2020-10-20\",\"2020-10-21\",\"2020-10-22\",\"2020-10-23\",\"2020-10-24\",\"2020-10-25\",\"2020-10-26\",\"2020-10-27\",\"2020-10-28\",\"2020-10-29\",\"2020-10-30\",\"2020-10-31\",\"2020-11-01\",\"2020-11-02\",\"2020-11-03\",\"2020-11-04\",\"2020-11-05\",\"2020-11-06\",\"2020-11-07\",\"2020-11-08\",\"2020-11-09\",\"2020-11-10\",\"2020-11-11\",\"2020-11-12\",\"2020-11-13\",\"2020-11-14\",\"2020-11-15\",\"2020-11-16\",\"2020-11-17\",\"2020-11-18\",\"2020-11-19\",\"2020-11-20\",\"2020-11-21\",\"2020-11-22\",\"2020-11-23\",\"2020-12-20\",\"2020-12-21\",\"2020-12-22\",\"2020-12-23\",\"2020-12-24\",\"2020-12-25\",\"2020-12-26\",\"2020-12-27\",\"2020-12-28\",\"2020-12-29\",\"2020-12-30\",\"2020-12-31\",\"2021-01-01\",\"2021-01-02\",\"2021-01-03\",\"2021-01-04\",\"2021-01-05\",\"2021-01-06\",\"2021-01-07\",\"2021-01-08\",\"2021-01-09\",\"2021-01-10\",\"2021-01-11\",\"2021-01-12\",\"2021-01-13\",\"2021-01-14\",\"2021-01-15\",\"2021-01-16\",\"2021-01-17\",\"2021-01-18\",\"2021-01-19\",\"2021-01-20\",\"2021-01-21\",\"2021-01-22\",\"2021-01-23\",\"2021-01-24\",\"2021-01-25\",\"2021-01-26\",\"2021-01-27\",\"2021-01-28\",\"2021-01-29\",\"2021-01-30\",\"2021-01-31\",\"2021-02-01\",\"2021-02-02\",\"2021-02-03\",\"2021-02-04\",\"2021-02-05\",\"2021-02-06\",\"2021-02-07\",\"2021-02-08\",\"2021-02-09\",\"2021-02-10\",\"2021-02-11\",\"2021-02-12\",\"2021-02-13\",\"2021-02-14\",\"2021-02-15\",\"2021-02-16\",\"2021-02-17\",\"2021-02-18\",\"2021-02-19\",\"2021-02-20\",\"2021-02-21\",\"2021-02-22\",\"2021-02-23\",\"2021-02-24\",\"2021-02-25\",\"2021-02-26\",\"2021-02-27\",\"2021-02-28\",\"2021-03-01\",\"2021-03-02\",\"2021-03-03\",\"2021-03-04\",\"2021-03-05\",\"2021-03-06\",\"2021-03-07\",\"2021-03-08\",\"2021-03-09\",\"2021-03-10\",\"2021-03-11\",\"2021-03-12\",\"2021-03-13\",\"2021-03-14\",\"2021-03-15\",\"2021-03-16\",\"2021-03-17\",\"2021-03-18\",\"2021-03-19\",\"2021-03-20\",\"2021-03-21\",\"2021-03-22\",\"2021-03-23\",\"2021-03-24\",\"2021-03-25\",\"2021-03-26\",\"2021-03-27\",\"2021-03-28\",\"2021-03-29\",\"2021-03-30\",\"2021-03-31\",\"2021-04-01\",\"2021-04-02\",\"2021-04-03\",\"2021-04-04\",\"2021-04-05\",\"2021-04-06\",\"2021-04-07\",\"2021-04-08\",\"2021-04-09\",\"2021-04-10\",\"2021-04-11\",\"2021-04-12\",\"2021-04-13\",\"2021-04-14\",\"2021-04-15\",\"2021-04-16\",\"2021-04-17\",\"2021-04-18\",\"2021-04-19\",\"2021-04-20\",\"2021-04-21\",\"2021-04-22\",\"2021-04-23\",\"2021-04-24\",\"2021-04-25\",\"2021-04-26\",\"2021-04-27\",\"2021-04-28\",\"2021-04-29\",\"2021-04-30\",\"2021-05-01\",\"2021-05-02\",\"2021-05-03\",\"2021-05-04\",\"2021-05-05\",\"2021-05-06\",\"2021-05-07\",\"2021-05-08\",\"2021-05-09\",\"2021-05-10\",\"2021-05-11\",\"2021-05-12\",\"2021-05-13\",\"2021-05-14\",\"2021-05-15\",\"2021-05-16\",\"2021-05-17\",\"2021-05-18\",\"2021-05-19\",\"2021-05-20\",\"2021-05-21\",\"2021-05-22\",\"2021-05-23\",\"2021-05-24\",\"2021-05-25\",\"2021-05-26\",\"2021-05-27\",\"2021-05-28\",\"2021-05-29\",\"2021-05-30\",\"2021-05-31\",\"2021-06-01\",\"2021-06-02\",\"2021-06-03\",\"2021-06-04\",\"2021-06-05\",\"2021-06-06\",\"2021-06-07\",\"2021-06-08\",\"2021-06-09\",\"2021-06-10\",\"2021-06-11\",\"2021-06-12\",\"2021-06-13\",\"2021-06-14\",\"2021-06-15\",\"2021-06-16\",\"2021-06-17\",\"2021-06-18\",\"2021-06-19\",\"2021-06-20\",\"2021-06-21\",\"2021-06-22\",\"2021-06-23\",\"2021-06-24\",\"2021-06-25\",\"2021-06-26\",\"2021-06-27\",\"2021-06-28\",\"2021-06-29\",\"2021-06-30\",\"2021-07-01\",\"2021-07-02\",\"2021-07-03\",\"2021-07-04\",\"2021-07-05\",\"2021-07-06\",\"2021-07-07\",\"2021-07-08\",\"2021-07-09\",\"2021-07-10\",\"2021-07-11\",\"2021-07-12\",\"2021-07-13\",\"2021-07-14\",\"2021-07-15\",\"2021-07-16\",\"2021-07-17\",\"2021-07-18\",\"2021-07-19\",\"2021-07-20\",\"2021-07-21\",\"2021-07-22\",\"2021-07-23\",\"2021-07-24\",\"2021-07-25\",\"2021-07-26\",\"2021-07-27\",\"2021-07-28\",\"2021-07-29\",\"2021-07-30\",\"2021-07-31\",\"2021-08-01\",\"2021-08-02\",\"2021-08-03\",\"2021-08-04\",\"2021-08-05\",\"2021-08-06\",\"2021-08-07\",\"2021-08-08\",\"2021-08-09\",\"2021-08-10\",\"2021-08-11\",\"2021-08-12\",\"2021-08-13\",\"2021-08-14\",\"2021-08-15\",\"2021-08-16\",\"2021-08-17\",\"2021-08-18\",\"2021-08-19\",\"2021-08-20\",\"2021-08-21\",\"2021-08-22\",\"2021-08-23\",\"2021-08-24\",\"2021-08-25\",\"2021-08-26\",\"2021-08-27\",\"2021-08-28\",\"2021-08-29\",\"2021-08-30\",\"2021-08-31\",\"2021-09-01\",\"2021-09-02\",\"2021-09-03\",\"2021-09-04\",\"2021-09-05\",\"2021-09-06\",\"2021-09-07\",\"2021-09-08\",\"2021-09-09\",\"2021-09-10\",\"2021-09-11\",\"2021-09-12\",\"2021-09-13\",\"2021-09-14\",\"2021-09-15\",\"2021-09-16\",\"2021-09-17\",\"2021-09-18\",\"2021-09-19\",\"2021-09-20\",\"2021-09-21\",\"2021-09-22\",\"2021-09-23\",\"2021-09-24\",\"2021-09-25\",\"2021-09-26\",\"2021-09-27\",\"2021-09-28\",\"2021-09-29\",\"2021-09-30\",\"2021-10-01\",\"2021-10-02\",\"2021-10-03\",\"2021-10-04\",\"2021-10-05\",\"2021-10-06\",\"2021-10-07\",\"2021-10-08\",\"2021-10-09\",\"2021-10-10\",\"2021-10-11\",\"2021-10-12\",\"2021-10-13\",\"2021-10-14\",\"2021-10-15\",\"2021-10-16\",\"2021-10-17\",\"2021-10-18\",\"2021-10-19\",\"2021-10-20\",\"2021-10-21\",\"2021-10-22\",\"2021-10-23\",\"2021-10-24\",\"2021-10-25\",\"2021-10-26\",\"2021-10-27\",\"2021-10-28\",\"2021-10-29\",\"2021-10-30\",\"2021-10-31\",\"2021-11-01\",\"2021-11-02\",\"2021-11-03\",\"2021-11-04\",\"2021-11-05\",\"2021-11-06\",\"2021-11-07\",\"2021-11-08\",\"2021-11-09\",\"2021-11-10\",\"2021-11-11\",\"2021-11-12\",\"2021-11-13\",\"2021-11-14\",\"2021-11-15\",\"2021-11-16\",\"2021-11-17\",\"2021-11-18\",\"2021-11-19\",\"2021-11-20\",\"2021-11-21\",\"2021-11-22\",\"2021-11-23\",\"2021-11-24\",\"2021-11-25\",\"2021-11-26\",\"2021-11-27\",\"2021-11-28\",\"2021-11-29\",\"2021-11-30\",\"2021-12-01\",\"2021-12-02\",\"2021-12-03\",\"2021-12-04\",\"2021-12-05\",\"2021-12-06\",\"2021-12-07\",\"2021-12-08\",\"2021-12-09\",\"2021-12-10\",\"2021-12-11\",\"2021-12-12\",\"2021-12-13\",\"2021-12-14\",\"2021-12-15\",\"2021-12-16\",\"2021-12-17\",\"2021-12-18\",\"2021-12-19\",\"2021-12-20\",\"2021-12-21\",\"2021-12-22\",\"2021-12-23\",\"2021-12-24\",\"2021-12-25\",\"2021-12-26\",\"2021-12-27\",\"2021-12-28\",\"2021-12-29\",\"2021-12-30\",\"2021-12-31\",\"2022-01-01\",\"2022-01-02\",\"2022-01-03\",\"2022-01-04\",\"2022-01-05\",\"2022-01-06\",\"2022-01-07\",\"2022-01-08\",\"2022-01-09\",\"2022-01-10\",\"2022-01-11\",\"2022-01-12\",\"2022-01-13\",\"2022-01-14\",\"2022-01-15\",\"2022-01-16\",\"2022-01-17\",\"2022-01-18\",\"2022-01-19\",\"2022-01-20\",\"2022-01-21\",\"2022-01-22\",\"2022-01-23\",\"2022-01-24\",\"2022-01-25\",\"2022-01-26\",\"2022-01-27\",\"2022-01-28\",\"2022-01-29\",\"2022-01-30\",\"2022-01-31\",\"2022-02-01\",\"2022-02-02\",\"2022-02-03\",\"2022-02-04\",\"2022-02-05\",\"2022-02-06\",\"2022-02-07\",\"2022-02-08\",\"2022-02-09\",\"2022-02-10\",\"2022-02-11\",\"2022-02-12\",\"2022-02-13\",\"2022-02-14\",\"2022-02-15\",\"2022-02-16\",\"2022-02-17\",\"2022-02-18\",\"2022-02-19\",\"2022-02-20\",\"2022-02-21\",\"2022-02-22\",\"2022-02-23\",\"2022-02-24\",\"2022-02-25\",\"2022-02-26\",\"2022-02-27\",\"2022-02-28\",\"2022-03-01\"],\"xaxis\":\"x\",\"y\":[977.2760597637248,1012.2739027777743,1020.0404722222253,1076.553638888891,1043.5479513888906,934.4167291666676,869.7383333333335,913.9660833333338,893.4715347222201,902.6383749999984,846.1733125000001,782.9616874999981,807.1775069444423,827.4124305555562,817.0810069444431,827.9779583333311,876.1814722222249,885.3456527777806,893.2943888888869,895.5526875000025,917.679381944446,922.6891111111082,920.1885069444428,907.1863263888885,894.5093472222239,905.7991805555579,917.1794791666686,918.3100625000029,916.7811458333284,916.9736319444461,940.4473541666705,970.8697291666673,992.7625555555537,1011.9875833333315,1017.7962777777748,1020.0762986111075,1020.8891944444462,1042.406979166669,1053.732097222222,1024.64890972222,977.9281805555576,1007.6119861111117,1003.3971319444437,998.8790763888877,1006.0817708333332,1009.3152847222186,1026.7092152777736,1046.7887777777787,1061.4742430555543,1053.4193541666673,1057.3509652777796,1100.1316944444452,1122.672166666668,1147.2050972222219,1185.388694444442,1167.6945347222302,1164.638201388885,1186.0282569444457,1192.5450555555547,1206.2586319444445,1239.860645833334,1272.2717708333334,1269.106638888893,1258.509680555555,1274.4354722222274,1254.5670069444418,1197.9215138888894,1176.921097222221,1202.4884861111118,1167.6661458333317,1196.70686111111,1234.2165624999993,1243.7354861111132,1251.4782708333337,1220.4173055555564,1130.9736180555553,1034.9615277777796,1009.4128055555531,1034.061756944443,1083.689006944443,1053.9479513888882,1035.6611805555574,990.5281388888876,927.0301111111123,964.2569930555547,998.4059444444435,1043.1623402777755,1033.0288680555557,1033.5806527777786,1051.6004791666646,1077.5205902777789,1079.922000000004,1126.5911805555563,1142.4011736111104,1130.1451805555541,1167.3475138888896,1189.4789791666662,1187.9070416666714,1193.853597222225,1208.0240000000008,1213.413020833332,1217.0818194444425,1188.34448611111,1173.4062499999989,1178.2099722222129,1170.238291666667,1172.2930833333335,1200.1771805555516,1201.194409722223,1220.5386875000015,1241.370784722223,1237.6132777777786,1235.6658611111116,1243.8670486111102,1264.9075555555548,1288.0115000000014,1313.1277499999983,1324.2748680555599,1330.0341319444408,1331.2155138888834,1376.7133194444405,1433.225770833336,1471.2023611111103,1539.865041666668,1557.0353333333362,1540.5736180555534,1542.8250902777802,1587.9661180555527,1704.4954583333335,1746.4008819444457,1825.756479166667,1770.4012638888892,1706.6117916666667,1782.1233402777762,1733.3405347222256,1709.0845833333335,1774.0039861111109,1824.892930555555,1925.9513125000024,1973.9955347222276,2022.649159722224,2109.228125,2191.830951388893,2367.1240694444427,2555.5497569444437,2384.458000000003,2096.4439722222223,2188.7591041666697,2237.842833333329,2274.068666666662,2253.6440972222213,2389.7124652777766,2429.3014722222247,2518.7508888888988,2524.746993055561,2600.744444444449,2835.126055555559,2815.6953194444486,2753.572437500003,2823.8471180555593,2853.8717777777774,2906.4742152777767,2803.5817499999944,2715.9286944444516,2653.0482708333393,2356.729638888891,2450.145048611116,2555.917826388891,2566.558763888891,2558.139180555558,2661.5631666666736,2712.2688124999995,2680.8623333333367,2718.2648888888925,2657.0092152777775,2559.341569444447,2464.9203888888896,2407.7944236111102,2533.601604166667,2558.7705833333325,2524.045381944451,2462.3251597222215,2444.765034722223,2524.0421319444454,2596.6061319444498,2569.914166666661,2593.837180555555,2543.12076388889,2516.348909722222,2539.284756944449,2455.0341527777796,2339.6705972222207,2343.9874027777773,2371.100986111113,2279.320333333334,2073.935305555553,1939.7691666666658,2056.519118055557,2280.8322847222257,2311.804187499995,2492.001180555556,2718.6632986111053,2779.754999999999,2767.1214930555575,2753.612097222223,2624.0992638888833,2499.116409722218,2569.3229652777773,2737.2861944444485,2718.1759166666593,2675.8029027777784,2760.599458333337,2769.7000416666715,2713.936569444448,2743.2846527777897,2827.00571527778,3153.6600694444455,3236.0079166666674,3308.0867569444476,3416.066104166674,3341.1887361111144,3391.8064375000063,3503.1031805555626,3757.4877430555593,4023.2860000000055,4167.9918888888915,4167.6867430555585,4166.003368055561,4345.919243055557,4228.1884027777805,4055.1573333333454,4060.071409722232,4022.701166666658,3922.028104166666,4141.476888888895,4180.539020833334,4356.688888888899,4311.373458333343,4340.4162986111105,4304.705208333344,4464.279500000007,4575.960375000003,4669.390076388903,4801.706236111126,4684.137694444436,4576.001104166669,4361.936166666668,4252.457069444436,4528.704993055557,4584.300256944455,4482.604402777781,4292.220722222225,4180.850256944439,4210.225687499993,4253.140652777784,3934.011493055553,3624.53764583333,3409.1566319444405,3696.2926250000037,3634.36020833334,3941.1198541666713,3962.957874999997,3937.1915555555606,3791.3262638888878,3626.5687777777803,3713.8222500000015,3695.2018541666666,3819.9963263888867,3914.806326388889,4035.8797291666688,4188.612034722222,4144.977381944453,4270.209180555552,4290.900590277782,4395.493111111119,4311.992895833339,4249.64359722223,4255.330979166666,4359.174444444448,4351.288687499998,4495.808520833336,4643.4292222222275,4811.700548611117,4787.352048611115,5114.763874999999,5618.339881944457,5666.474111111107,5610.077659722227,5673.469020833334,5625.583125000003,5402.310152777774,5654.104562500006,5788.776069444444,6073.861625000007,5910.377895833332,5869.137208333337,5659.77275694444,5547.822833333349,5826.562430555568,5822.675326388892,5749.922930555563,5883.724326388886,6122.401979166656,6240.408875000013,6502.706909722222,6952.339833333355,7240.374881944429,7258.124208333339,7458.392979166678,7228.157159722233,7102.9014930555595,7386.520145833319,7244.327472222222,6961.358118055572,6556.024395833324,6114.23185416666,6346.988562500009,6590.393958333341,7046.016361111118,7459.530687499994,7827.064805555559,7697.00591666666,7825.92641666667,8090.02159027777,8157.685722222217,8194.893506944454,8175.670479166668,8168.08722916668,8428.860465277812,8972.452951388905,9556.814923611106,9833.02665972224,10403.943791666681,9888.90854861112,10194.857263888884,10938.311354166684,11291.63018749999,11346.529326388894,11656.49860416666,12580.533465277795,14778.207416666648,15432.868875000024,14806.800236111128,14134.664791666686,16202.500124999953,16730.9296597222,16540.327312499976,16343.036833333335,17365.62792361113,18176.730138888903,19190.3406319444,18720.01349999998,18320.41626388889,16834.52137499998,16221.424986111091,13761.145826388878,14768.55603472226,13656.086034722215,13966.067694444462,15243.615263888887,15581.444701388897,14248.63204861108,14534.974930555549,13212.859868055577,13339.221194444477,13425.126316886755,13879.358895833335,14963.699340277775,14818.780319444426,15792.45250694441,16666.922951388893,16517.014097222214,15300.749152777773,14868.201201388907,14194.68840972224,13697.096187500003,13661.494569444447,14224.945451388903,13679.928909722226,13821.277097222237,12164.619152777777,10680.231659722222,11495.746736111101,11513.53641666668,12471.649145833335,11895.58981944446,11131.135819444466,10724.710277777778,11007.914437499996,11300.592097222225,11011.942013888874,11238.78294444444,11673.103618055562,11283.896194444456,10628.61259722224,9987.00209722223,9497.75062500003,8558.50307638888,8912.28161111111,8722.604465277785,7611.72295833334,6828.462006944439,7914.380222222222,8216.322486111114,8261.487381944462,8656.487229166658,8188.491090277776,8624.076937500005,8609.807222222233,9025.642687500022,9803.039104166666,10025.992506944438,10677.811173611113,10737.341631944459,10867.43639583333,11498.189631944437,10791.702006944442,10272.661736111124,10013.161215277785,9931.702569444466,9595.836423611134,9910.59252777781,10552.6713402778,10621.068048611132,10650.838375000028,10980.791097222256,11344.269083333365,11242.097152777802,11520.9304652778,11021.738861111115,10399.997006944455,9705.391458333352,8908.000243055569,9236.659638888888,9058.136361111125,9436.362006944457,9155.812062500008,8769.348854166663,8112.524034722236,8315.006604166676,8079.593062499998,7679.65105555555,8355.261326388887,8622.497097222222,8983.0816527778,8793.326687500008,8529.94406944446,8857.918083333358,8535.650166666675,8208.193479166694,7965.760694444461,7916.927402777796,7518.686965277773,6888.1882638888865,7005.669125000018,6797.423263888888,6978.018000000001,7325.30433333333,7077.711673611117,6758.105076388891,6649.452291666671,6891.673763888878,6988.428743055564,6891.471625000008,6779.24431944446,6879.948687500008,7336.708215277795,7992.6904513888885,8010.872291666679,8215.487236111105,8080.020305555556,8036.6336180555545,8057.312993055553,8213.267708333336,8445.635604166686,8800.27831250001,8888.387819444442,8895.623312499994,9314.519125000039,9221.075076388892,8883.210298611133,9217.020847222222,9240.572972222251,9356.157784722236,9290.61604166667,8988.59569444447,9112.689791666684,9379.656666666679,9656.51821527777,9829.181138888885,9615.69918055555,9344.100527777784,9260.79092361113,9193.325472222232,9265.524131944454,8701.55643055555,8423.31487500002,8550.49118750004,8581.468430555584,8642.096972222245,8282.70562500001,8277.95993055558,8106.67254861114,8254.920923611126,8361.972944444458,8455.092916666694,8233.255791666674,7784.57540277778,7538.571881944465,7486.668048611138,7490.143826388922,7317.306069444445,7255.434381944456,7293.8934027778,7432.491090277759,7500.111236111128,7481.193180555579,7597.247354166692,7690.673791666691,7575.316763888913,7491.722708333354,7606.389534722242,7692.524618055573,7629.560597222234,7630.158000000011,7133.649305555583,6760.716284722232,6754.097347222234,6443.017722222223,6501.825152777772,6550.993312500002,6462.630548611121,6509.097465277774,6522.887597222221,6718.137923611101,6680.922951388895,6736.712444444457,6359.654034722232,6135.975263888892,6024.727902777787,6203.311555555589,6201.9281527777885,6096.063604166681,6082.033944444452,5903.817750000008,6363.475958333341,6350.025388888886,6453.064812500004,6596.762625000018,6571.15086805556,6581.060631944457,6541.890631944441,6573.324236111115,6739.136618055557,6705.734666666689,6480.456520833335,6354.405493055566,6219.1660347222405,6236.783750000026,6236.17225694446,6318.537784722251,6521.179784722261,6877.720881944446,7402.694743055562,7390.092875000034,7420.56637500004,7347.857055555606,7448.003659722264,7679.597902777801,8071.491902777794,8253.583013888898,8196.509159722238,8021.516604166668,8179.995840277784,8202.688618055578,8133.949777777778,7915.115548611123,7569.983027777784,7590.178583333337,7394.100701388913,7248.656645833355,6995.644215277798,6987.84384722225,6986.739444444465,6444.725208333357,6394.324194444456,6394.919993055558,6188.138604166661,6304.350708333343,6345.708180555565,6056.106715277779,6369.123708333336,6344.468576388885,6466.789486111109,6446.211965277783,6397.7626875000005,6444.960090277805,6399.587041666689,6579.496944444459,6433.539868055571,6551.8679930555645,6713.86165972224,6669.950659722248,6712.779381944454,6986.976090277783,7049.231520833325,6929.053499999989,6979.790395833343,7105.352937500003,7239.421576388909,7259.906250000004,7322.047874999988,7125.833812499995,6421.734145833329,6443.361534722247,6360.320930555576,6289.750152777779,6287.392875000007,6290.232590277796,6268.193548611124,6440.578020833341,6500.248395833343,6519.018743055584,6484.170666666686,6398.067437500009,6295.92330555559,6336.48659722224,6411.717736111111,6658.61240972224,6705.587187500003,6706.800166666676,6638.188326388898,6413.125020833328,6461.356423611113,6520.746958333338,6665.077402777768,6539.937986111116,6577.550055555546,6574.940298611124,6541.682701388895,6447.232340277771,6547.230777777783,6544.547159722208,6556.291826388875,6533.51118055554,6586.734770833327,6587.5929722222245,6517.042173611113,6213.507291666661,6201.429923611114,6196.307437500013,6225.60521527778,6368.968388888868,6437.686604166657,6438.604631944422,6427.54922222221,6385.541597222217,6396.7774930555615,6433.669687499992,6405.400374999993,6395.747611111119,6425.273986111117,6400.46781944445,6400.768423611124,6407.059020833296,6402.554041666662,6329.998576388869,6264.565631944445,6277.430083333328,6310.566062499984,6351.960548611107,6333.967756944426,6364.341784722205,6404.680194444468,6412.868326388891,6506.877368055559,6449.525041666671,6365.883486111113,6354.9110694444535,6339.5379444444525,6350.976541666672,6290.058631944458,6019.896486111096,5494.721548611116,5530.687229166668,5485.180708333341,5534.089902777796,5203.16152777778,4531.132569444441,4447.252770833337,4468.593826388889,4248.508673611093,4203.434506944435,3756.9518958333297,3850.880930555553,3702.9669097222213,4057.7619513888876,4224.601569444444,4075.232791666671,4078.2717499999962,4120.349090277783,3924.919868055552,3904.986423611106,3802.7635277777813,3694.9691111111088,3360.1898402777815,3384.917500000004,3468.010222222218,3468.8128611111038,3365.5704305555555,3397.2696736111093,3360.91896527778,3233.8725902777755,3180.2247847222166,3217.120479166663,3333.0743194444467,3508.6461597222205,3748.3804583333367,3923.0398263888887,3972.5509583333305,3851.870201388879,3978.132437499998,4125.49302777777,3773.2280555555553,3779.5463055555488,3717.803833333331,3700.835333333338,3873.553173611115,3788.032055555558,3757.362416666675,3700.3282140375177,3823.1127291666603,3830.1849722222278,3785.05104861111,3834.4521388888966,3874.545215277775,4022.6665486111015,4006.257034722222,4010.745645833342,3795.517701388897,3636.7025416666543,3626.570631944443,3580.619624999997,3580.0054861111125,3641.574458333334,3603.472354166663,3602.951118055556,3615.668055555551,3671.637499999998,3607.237763888895,3535.8616458333317,3551.568395833333,3569.471916666668,3553.939777777774,3557.152215277776,3571.3676111111145,3545.6714166666666,3438.032173611115,3398.6390763888962,3423.095763888886,3424.856152777782,3416.365868055551,3431.8366666666607,3425.43848611111,3414.204527777779,3419.368138888891,3371.575749999992,3366.4235208333353,3451.4933402777715,3614.884708333329,3608.1552916666737,3595.200687499995,3577.848041666667,3582.2383125000047,3569.140611111113,3570.4032013888796,3587.662909722226,3585.494055555556,3756.0198194444365,3900.6524027777746,3910.843916666663,3906.727222222223,3925.3436805555557,3980.215854166653,3989.5767638888888,3792.778916666675,3799.9307777777767,3795.361083333333,3810.278263888889,3813.2747708333436,3805.2791944444366,3801.4562638888888,3725.0505902777777,3765.7703888888886,3838.7857361111073,3861.3823194444453,3871.895409722222,3889.9806249999983,3893.0191388888834,3864.612562500007,3847.2944444444465,3853.5086458333285,3850.2652013888983,3877.472277777778,3978.552020833334,3963.1048819444377,3969.485395833338,3977.039659722233,3995.4070069444506,4005.9583888888774,3981.56955555557,3980.7612152777897,3968.6129513888945,3949.8018819444496,3908.43132638889,3993.99534722222,4009.194069444432,4057.5414652777836,4083.7723888888904,4088.3488680555465,4125.548659722224,4647.141729166667,5038.50502083333,4971.659173611121,4981.012118055551,5042.754319444454,5128.465159722216,5241.546451388889,5221.4135347222245,5270.4751666666725,5129.7617152777775,5047.637659722224,5084.51536805555,5078.802409722221,5122.114104166672,5098.6200624999965,5218.718937499997,5263.983847222217,5259.158555555558,5313.275881944444,5288.68050694444,5317.525236111109,5531.954062499994,5486.831687499994,5423.299951388887,5149.6822013888905,5165.261513888896,5169.915263888891,5154.869499999991,5199.331576388885,5303.56400694444,5360.94681944445,5617.309986111118,5694.244680555556,5721.58211805554,5656.327006944434,5863.695777777781,5843.8708680555565,6047.245256944446,6290.580548611108,6806.677062499998,7155.474208333339,7408.982965277772,7993.158020833326,8054.80976388888,7993.710437500006,7263.197819444435,7326.347187499994,7934.045673611112,7906.761131944465,7952.989784722225,7890.8769930555445,7703.517611111129,7983.822416666663,8045.214743055559,8125.428284722212,8782.527847222223,8726.034833333324,8646.492763888875,8631.68847916665,8350.288833333327,8542.015763888894,8668.059937499993,8531.105319444438,7851.135395833326,7771.943777777781,7751.162791666673,7938.752041666665,7941.1706180555775,7799.94612500001,7820.271444444437,7897.22656944444,8036.859090277779,8169.982472222209,8353.574541666674,8727.897222222231,9096.01924305554,9236.642777777784,9153.257826388899,9148.226562499996,9353.45185416668,9802.451152777789,10725.602312500014,10747.117999999993,10844.867333333319,11314.388562500002,12643.553618055548,11803.9588125,11678.356861111115,11850.858194444438,11540.011777777772,10687.819687499983,10305.094118055551,11345.89200000001,11760.026750000005,11141.25297222223,11416.435701388893,11311.67844444445,11794.189805555538,12514.217743055562,12649.908881944446,11584.541249999987,11585.79241666665,11430.236854166664,10860.67432638888,10419.180666666669,10356.278006944458,9577.30370833331,10053.263270833344,10473.079361111104,10680.938881944427,10578.37082638891,10451.459284722221,10071.961000000025,9703.44240277777,10023.551999999992,9775.523166666682,9731.698895833337,9486.491520833335,9541.105833333339,9541.569749999999,9857.40768055557,10085.621541666653,10475.718763888894,10785.76695833335,10820.892229166659,11676.326729166669,11758.309784722209,11712.383777777775,11802.534583333345,11820.873673611111,11582.249006944441,11379.078881944433,11396.016298611105,11138.489465277778,10439.853138888884,10012.657395833332,10232.262729166678,10296.942187499993,10291.967534722226,10616.018534722214,10752.261229166683,10192.572729166668,10044.014569444445,10261.473368055547,10154.08541666664,10097.64679166667,10343.264611111113,10171.561069444466,10042.280180555548,9517.900874999994,9532.490666666667,9590.364152777773,9622.23938194443,9944.615604166656,10519.817826388893,10561.103423611125,10561.884034722216,10656.881291666676,10419.687145833344,10456.386034722218,10298.71725694444,10219.312638888889,10060.983756944444,10216.491520833319,10313.118027777771,10337.553944444438,10313.595229166678,10249.895326388885,10215.000145833335,10192.951548611109,9988.435520833353,10172.006055555543,10036.805631944453,9975.930263888893,9875.402868055578,9422.62465972222,8448.021395833337,8249.819881944435,8037.266701388887,8155.993687500008,8071.717277777759,8070.426277777787,8360.037166666658,8255.486715277773,8243.180180555551,8145.484805555557,8106.66132638888,7978.853590277786,8039.4446111111065,8208.512416666666,8337.863347222208,8559.438006944434,8397.591305555565,8332.697534722225,8357.55872916667,8306.82288888889,8262.812277777752,8063.580777777778,8031.534152777752,7962.063055555554,7958.52115972221,8018.3236527777635,8221.303430555568,8198.766673611099,7744.95064583334,7448.844465277762,7879.137479166635,9318.08751388889,9410.960013888915,9474.998527777783,9382.782124999992,9192.738131944441,9171.981354166655,9154.13727083334,9279.769055555551,9217.951722222206,9255.58827083332,9342.998597222226,9335.835583333326,9238.37845833331,8982.09386805554,8810.758381944433,8891.029986111118,8796.935284722214,8733.55061805555,8747.25790277775,8655.005465277773,8538.93229861111,8469.294520833313,8513.549027777764,8378.437395833325,8114.962097222225,8097.59408333332,7848.354097222221,7342.3317013888945,7241.768527777779,7145.5013541666585,6962.002645833326,7140.442145833323,7251.567736111104,7522.10624305555,7611.3185763888905,7654.02013888888,7352.874513888885,7309.397618055561,7318.281013888892,7275.856111111107,7327.939333333335,7404.3504722222415,7531.966972222212,7495.611624999998,7461.013666666667,7300.117847222235,7210.35953472221,7171.899652777772,7226.60044444444,7163.696034722238,7089.373618055559,7032.786583333364,6790.176243055555,6770.714243055557,7147.473402777781,7150.540909722231,7147.982500000015,7226.012472222231,7503.32320833334,7295.81104166666,7210.785736111117,7220.62310416668,7191.498520833325,7298.453409722213,7344.867284722225,7297.834055555561,7198.746319444428,7195.4705976372425,7072.435687500002,7217.607402777773,7321.510687499991,7429.768534722223,7533.2810972222205,7929.370680555546,8235.337180555553,7898.300930555555,7887.638333333334,8112.917541666667,8110.954194444432,8102.120305555553,8574.334854166675,8743.136027777775,8673.136152777783,8852.227479166664,8890.912062500005,8847.039173611107,8644.113159722216,8645.579763888889,8665.420555555555,8435.952659722216,8383.221666666663,8320.785673611106,8428.663263888879,8722.287111111116,9041.031381944438,9330.04275,9369.684201388885,9341.253909722223,9371.398569444444,9375.7393611111,9329.290236111128,9202.141208333338,9400.966312499999,9687.489340277776,9775.785979166661,9812.206222222227,10079.684736111118,9920.902277777774,9956.391687500001,10342.78187499999,10284.806888888901,10260.132270833321,10143.196673611106,9903.582215277756,9718.714847222229,9844.985881944413,10098.323409722228,9581.628520833336,9688.952222222215,9659.623111111125,9868.751423611111,9734.371027777775,9489.207041666643,9032.847895833327,8795.391493055564,8697.951965277787,8685.841861111114,8557.454770833325,8746.592541666681,8790.048645833349,8760.354104166663,9019.08392361111,9097.337270833319,9053.449645833334,8569.642069444444,7881.430569444455,7947.402562500006,7849.347631944434,6666.839097222216,5295.3433125,5410.279194444442,5299.794006944445,4987.489395833334,5313.401993055548,5286.6088819444385,5759.599624999994,6360.770979166663,6169.166812499994,6139.138958333332,6105.48469444444,6652.993840277764,6661.956784722218,6671.944368055561,6691.747250000009,6227.599555555556,6106.268381944449,6272.458326388886,6451.124277777786,6308.061152777772,6723.470965277772,6813.68111805555,6772.340819444439,6796.4444374999985,7090.139902777785,7317.6691666666675,7301.731090277785,7304.9878888888725,6976.29815277777,6871.621069444448,6947.525659722221,6751.618111111117,6884.495395833325,6801.805451388884,6912.162368055555,7072.331944444453,7152.629763888875,7167.931513888887,7052.4863194444515,6867.569777777771,7000.427465277774,7294.040555555545,7521.618972222234,7544.499277777787,7600.132923611152,7715.588263888883,7730.824812500017,8244.948270833336,8894.666194444451,8783.999208333338,8872.73320833333,8980.13039583332,8772.431708333332,8930.762236111123,9162.092812500005,9490.680451388876,9925.163763888879,9727.452937499993,8687.415562499991,8707.084965277772,8773.929020833331,9045.17893055554,9576.71359722223,9523.970229166665,9403.123201388882,9623.957902777784,9721.685520833325,9670.028812500004,9672.188270833332,9280.534645833335,9125.238152777794,9206.504152777787,9123.22256944444,8819.142624999979,8859.394847222216,9026.771423611093,9319.706541666694,9454.1401111111,9506.563076388882,9546.45820138889,9583.92353472221,9879.875916666684,9551.34313888889,9699.502652777766,9742.399055555556,9635.952604166656,9621.038645833345,9725.395034722227,9712.132576388896,9787.56211111112,9643.824430555564,9411.13565277778,9426.568423611114,9404.043270833326,9244.604111111119,9493.582555555557,9442.995638888913,9406.31700000001,9326.508611111107,9301.214298611123,9348.792631944452,9480.890006944437,9638.373874999987,9441.006923611127,9231.765076388885,9181.329701388893,9107.383298611114,9055.143972222226,9115.957173611116,9150.841347222211,9191.286458333316,9166.83722222224,9093.803687500003,9091.225430555518,9064.041930555582,9212.259354166657,9268.923208333345,9345.34920833333,9329.38863888888,9199.680666666678,9238.831208333357,9249.455187500003,9277.99456944446,9219.765375000008,9221.591930555574,9132.115034722205,9134.406263888875,9161.559576388889,9154.55670138888,9177.472874999996,9306.935673611093,9365.518791666667,9540.839645833335,9557.09645138888,9619.271597222234,9833.774993055553,10435.32054166668,10985.538673611121,11095.818631944452,11033.46993055555,11196.16724305555,11609.169701388882,11333.01045138887,11254.05199305555,11243.05455555555,11464.146944444437,11755.25727777778,11716.165652777796,11684.667708333318,11672.095874999997,11898.853326388897,11632.181701388898,11462.49806944444,11550.237201388902,11754.652611111102,11876.602083333351,11850.412909722225,12054.456222222212,12163.73328472223,11796.848868055553,11798.065597222228,11743.61401388891,11559.229611111112,11620.499291666667,11733.053131944449,11508.06536805554,11402.37803472227,11345.246256944463,11441.411479166662,11506.73153472222,11607.95043750002,11683.984493055552,11873.953847222232,11576.611152777787,11038.919131944444,10391.216729166692,10269.222493055551,10200.836125000005,10159.7919375,10147.690576388875,10187.306715277797,10338.743145833349,10302.368208333324,10372.455729166662,10395.101902777791,10510.243944444444,10773.025222222208,10894.236972222221,10892.115548611104,10924.657159722217,11011.146409722222,10915.34955555555,10676.341930555554,10467.646798611107,10431.976840277775,10442.766222222217,10670.72353472222,10715.8796736111,10716.860930555556,10878.123041666657,10728.956305555554,10740.813090277763,10755.591034722222,10528.389618055538,10549.217312500014,10604.527361111108,10704.486423611119,10699.332805555552,10620.573923611106,10733.301645833333,10981.633083333336,11336.102111111106,11359.57584027777,11446.251222222218,11450.16854166668,11405.47006944444,11414.116847222198,11364.588569444435,11343.437298611136,11430.133020833322,11581.755256944452,11844.575937499996,12458.45705555554,12932.320506944458,12933.029854166654,13029.174777777775,13055.25771527774,13066.99569444446,13362.832534722194,13444.672013888903,13330.43911805553,13435.718972222217,13737.887187500024,13767.554791666671,13596.979250000044,13612.482763888913,13899.115951388889,14730.297819444442,15583.427131944458,15345.260354166683,15199.622131944443,15382.007395833327,15326.619756944445,15593.253090277778,15928.370555555557,16291.471736111096,16030.031291666655,15996.744097222218,16372.392729166673,17083.64423611112,17885.34977777778,17843.96600000001,18336.9454097222,18712.12849305554,18431.881756944433,18414.871388888885,23661.30191313338,23260.26684722222,23097.91652083335,23530.75113194443,23218.052104166658,24016.31472222223,25267.461569444484,27046.21292361109,26965.146805555527,26670.904930555553,28142.405784722243,28882.01065277778,29289.51981931898,30759.93216666671,33468.16300000005,31856.172236111128,32274.551041666673,34907.60357638889,38071.50588194447,39811.63969444443,40399.01112500006,39730.883840277726,34280.36008333331,34842.902916666666,34676.47620833329,38511.56284027775,37473.235576388885,36845.87377777776,35653.80851388896,36048.22473611109,36860.698020833304,35155.44606944449,32953.41847222219,31861.926618055517,32354.085729166665,32226.33567361116,33351.57297916672,31997.17753472218,31147.482923611144,31793.18845138891,35054.10393749999,34054.74850694443,33449.890104166654,33706.71983333326,34713.21021527781,36572.60330555553,37541.275819444396,37630.92818055555,39814.74391666665,38714.42988888892,41195.89145833334,46685.85413888888,45801.332041666654,46275.117958333314,47605.61129861107,47276.8987291667,48599.04320833335,47864.5213263889,48847.632375000016,50915.204708333345,51896.39333333325,53087.15995138888,56273.798763888866,57042.54980555549,54711.72528472231,48970.21082638886,49801.360472222295,49988.48127083331,46661.63153472217,47135.69288194446,44824.24242361106,47643.89381944447,48621.24986111108,50429.818465277815,49402.1103333334,47719.09758333335,48374.97018055551,50215.937805555535,50799.02418749998,53981.034812499965,55375.18302083334,56273.029284722164,56828.65870833345,58798.10848611116,60460.51825000007,57515.889861111,55343.69708333333,56160.98923611112,58476.00036111117,58286.280590277696,58783.07831944434,57317.0280902778,56790.53144444442,54706.29185416662,55135.09559027777,52126.32127083343,53242.800145833266,55194.4523194444,55835.61202777783,56911.995659722204,58348.51694444447,58706.93840277781,58876.11820138883,59271.62620138884,58936.21654166667,57728.20415972223,58094.262673611156,58461.53604861114,56974.5069097222,57182.01578472224,58210.62921527781,59859.502673611125,59778.56110416661,60092.35813888892,62176.81148611109,63482.73477083331,62920.63683333343,61760.359451388744,61335.28928472212,56068.400076388876,56410.94324305549,55534.35979166666,55449.39454861108,53802.59895833337,49871.44523611111,50074.76565277778,49651.22534027777,53038.971013888906,54603.75049305548,54799.2723472222,53891.25821527777,55302.25104861111,57811.411159722265,56869.054124999915,57929.91902777768,55297.21898611115,55908.97822916669,56979.214715277805,56833.063444444444,58553.586749999886,57996.006986111155,57761.36247916676,55877.2933888889,55927.41327083334,49844.22418055554,50196.890951388865,48854.04603472225,47717.117284722284,44303.28664583334,44192.458152777814,39080.618986111214,39861.240666666636,39109.1545555556,37506.13495833329,35045.8257083333,37022.84715277771,38081.65614583335,39264.0351458333,38812.19315972218,36610.27977083339,35257.58850694436,35488.645708333344,36164.126340277806,36580.38775000002,37283.3926666667,38535.23840277777,37095.927326388824,36592.73022916673,35965.82439583332,35889.20710416671,32886.98748611112,34877.0786111111,37008.49927083334,37005.90295833336,35725.56593055554,36392.7554791667,39678.889777777724,40220.133499999996,39419.79070138887,38607.789499999955,36994.11852777778,35757.557770833366,35064.363631944434,33136.59177777781,32005.58426388889,33755.35293749989,33751.350805555514,33371.821229166664,31487.105180555576,33055.86057638884,34475.55842361115,35561.84704166664,34930.05936111113,33727.85762500007,33293.87694444444,34310.35172916673,35284.79222222216,34102.24681944444,34161.548868055535,34562.72029166668,32900.71399305545,33177.99112500001,33710.91591666667,33802.75610416663,33697.04856250001,32852.17011111107,32489.65391666662,32099.67068055558,31754.211743055545,31562.065458333378,31772.80895138892,31178.380159722215,29834.728062500028,31195.309847222215,32137.77874305554,32492.646784722216,33879.62533333327,34393.27547222229,38322.51645138895,37696.89276388887,39876.15321527777,39867.323749999996,39640.17404166663,41645.58504861107,41484.2629652778,39602.96012499999,38456.44255555549,38709.83745833328,39432.45163194445,41366.991250000065,43573.95112500001,44358.46789583333,44908.669673611104,45603.50626388884,46094.02112500005,44933.782597222256,46216.57822916666,47124.895631944484,46446.64770833331,46927.41434722217,45969.69299305554,45147.89890972215,45219.72697916667,47780.7349305556,49053.11177083337,48908.3639513888,49893.53552083343,48914.39316666665,48268.89791666675,47352.553611111136,47748.18791666663,48906.94715972222,48670.75399305561,48090.93843750012,47310.02973611111,47690.74113888899,49670.08755555562,49912.85240972226,50082.69984027785,50367.74261805548,51793.0732500001,49971.91613888883,46303.06830555561,46427.55231250001,45927.52583333324,45379.01070833329,45645.83430555555,44808.912319444426,46057.28624305558,47592.41148611117,47903.21371527774,47584.03390972223,48243.89243750004,47735.28043749994,44628.28370833335,42444.22784722222,42578.03128472223,44104.440347222204,43136.307527777746,42600.154736111064,42805.92412499996,43528.74451388887,41937.48685416668,41828.44123611113,43268.59550694449,46070.14398611107,47849.80515277776,48032.072701388824,48167.34847222225,50085.133888888886,52929.97161111116,54366.674972222216,54463.7893402777,54748.57738888896,55168.93728472211,56717.44853472227,56629.94687500002,56053.11688888891,57647.082666666596,59888.05497222225,61280.15215277784,60847.771555555584,61799.45586111119,62739.63255555552,64964.895805555694,64330.76163194451,62182.19276388892,61093.021569444405,60713.71943055537,62613.92713888899,62308.09270833328,59512.5919027778,60255.64327777775,61583.59127083332,61623.922125000136,61115.49706249995,61292.55540972233,62552.250673611066,62860.44805555551,61859.296930555596,61533.86381944442,60993.135715277785,62140.60722916671,65805.3499930556,67534.71641666675,66869.5631805556,64933.31363194444,64187.583048611115,64052.605243055536,64482.45393749999,65105.4246458332,60811.51105555562,59890.77577083344,59014.79797916668,57232.40608333337,58718.63363888889,59171.77589583333,57376.6298680556,56924.88356249998,56763.498604166685,58281.24968055552,55685.060847222194,54689.720249999984,54631.738256944416,57615.21045833329,57367.25302777773,57408.93189583333,56709.382131944476,55877.4532986111,49043.72679861115,49146.639145833295,48857.97545138886,51025.72974305569,50328.21038194449,49079.53289583337,48255.106159722214,48489.30281944445,49597.16231944452,48208.99340277785,47211.29350694441,48136.154104166686,48596.55006944448,47080.311777777824,46637.98763888888,47199.13777777779,46434.97038888896,48428.2222291667,48995.09095833337,49105.34965972225,51064.80811111114,50861.416826388864,50176.87538888879,51087.120868055485,48869.489784722224,47589.200319444426,47107.99515277779,47294.845972222145,47126.78356249998,47252.377965277774,46825.45223611116,46432.6926180555,45878.82104166655,43096.45147222228,41998.067354166706,41715.23025694444,41911.86881249999,41618.74188888885,42215.6158333333,43207.985652777774,43439.18818055553,42767.77008333335,43152.322250000005,43115.590118055596,42552.87965972224,41946.50475000005,41922.14320138889,42217.511472222155,38663.82524999999,35508.56136111104,35439.53693055558,35107.4515208334,36521.40109722219,37517.4248263889,36368.86104166666,37063.7007013889,37841.9558958333,37969.3121250001,37576.21782638888,38580.98047222223,38059.67673611109,36822.65290277781,38686.084069444405,41543.898888888885,41624.68686111098,43133.27903472225,43886.72054166665,43960.41931944449,44356.61545138893,43193.1375625,42348.584715277786,42355.91442361117,42248.03972916666,43906.396215277775,44016.81604861118,42656.92937500001,40421.77519444443,40084.74463888885,38762.16709722218,38506.081618055556,37424.295743055576,38232.22697916668,36140.67431944441,38840.62086805556,39235.267173611144,38718.646743055535,39420.50663194443,43266.23582959642],\"yaxis\":\"y\",\"type\":\"scattergl\"},{\"hovertemplate\":\"variable=mean_high<br>date=%{x}<br>Stock value=%{y}<extra></extra>\",\"legendgroup\":\"mean_high\",\"line\":{\"color\":\"#00cc96\",\"dash\":\"solid\"},\"marker\":{\"symbol\":\"circle\"},\"mode\":\"lines\",\"name\":\"Stock High Price\",\"showlegend\":true,\"x\":[\"2017-01-01\",\"2017-01-02\",\"2017-01-03\",\"2017-01-04\",\"2017-01-05\",\"2017-01-06\",\"2017-01-07\",\"2017-01-08\",\"2017-01-09\",\"2017-01-10\",\"2017-01-11\",\"2017-01-12\",\"2017-01-13\",\"2017-01-14\",\"2017-01-15\",\"2017-01-16\",\"2017-01-17\",\"2017-01-18\",\"2017-01-19\",\"2017-01-20\",\"2017-01-21\",\"2017-01-22\",\"2017-01-23\",\"2017-01-24\",\"2017-01-25\",\"2017-01-26\",\"2017-01-27\",\"2017-01-28\",\"2017-01-29\",\"2017-01-30\",\"2017-01-31\",\"2017-02-01\",\"2017-02-02\",\"2017-02-03\",\"2017-02-04\",\"2017-02-05\",\"2017-02-06\",\"2017-02-07\",\"2017-02-08\",\"2017-02-09\",\"2017-02-10\",\"2017-02-11\",\"2017-02-12\",\"2017-02-13\",\"2017-02-14\",\"2017-02-15\",\"2017-02-16\",\"2017-02-17\",\"2017-02-18\",\"2017-02-19\",\"2017-02-20\",\"2017-02-21\",\"2017-02-22\",\"2017-02-23\",\"2017-02-24\",\"2017-02-25\",\"2017-02-26\",\"2017-02-27\",\"2017-02-28\",\"2017-03-01\",\"2017-03-02\",\"2017-03-03\",\"2017-03-04\",\"2017-03-05\",\"2017-03-06\",\"2017-03-07\",\"2017-03-08\",\"2017-03-09\",\"2017-03-10\",\"2017-03-11\",\"2017-03-12\",\"2017-03-13\",\"2017-03-14\",\"2017-03-15\",\"2017-03-16\",\"2017-03-17\",\"2017-03-18\",\"2017-03-19\",\"2017-03-20\",\"2017-03-21\",\"2017-03-22\",\"2017-03-23\",\"2017-03-24\",\"2017-03-25\",\"2017-03-26\",\"2017-03-27\",\"2017-03-28\",\"2017-03-29\",\"2017-03-30\",\"2017-03-31\",\"2017-04-01\",\"2017-04-02\",\"2017-04-03\",\"2017-04-04\",\"2017-04-05\",\"2017-04-06\",\"2017-04-07\",\"2017-04-08\",\"2017-04-09\",\"2017-04-10\",\"2017-04-11\",\"2017-04-12\",\"2017-04-13\",\"2017-04-14\",\"2017-04-15\",\"2017-04-16\",\"2017-04-17\",\"2017-04-18\",\"2017-04-19\",\"2017-04-20\",\"2017-04-21\",\"2017-04-22\",\"2017-04-23\",\"2017-04-24\",\"2017-04-25\",\"2017-04-26\",\"2017-04-27\",\"2017-04-28\",\"2017-04-29\",\"2017-04-30\",\"2017-05-01\",\"2017-05-02\",\"2017-05-03\",\"2017-05-04\",\"2017-05-05\",\"2017-05-06\",\"2017-05-07\",\"2017-05-08\",\"2017-05-09\",\"2017-05-10\",\"2017-05-11\",\"2017-05-12\",\"2017-05-13\",\"2017-05-14\",\"2017-05-15\",\"2017-05-16\",\"2017-05-17\",\"2017-05-18\",\"2017-05-19\",\"2017-05-20\",\"2017-05-21\",\"2017-05-22\",\"2017-05-23\",\"2017-05-24\",\"2017-05-25\",\"2017-05-26\",\"2017-05-27\",\"2017-05-28\",\"2017-05-29\",\"2017-05-30\",\"2017-05-31\",\"2017-06-01\",\"2017-06-02\",\"2017-06-03\",\"2017-06-04\",\"2017-06-05\",\"2017-06-06\",\"2017-06-07\",\"2017-06-08\",\"2017-06-09\",\"2017-06-10\",\"2017-06-11\",\"2017-06-12\",\"2017-06-13\",\"2017-06-14\",\"2017-06-15\",\"2017-06-16\",\"2017-06-17\",\"2017-06-18\",\"2017-06-19\",\"2017-06-20\",\"2017-06-21\",\"2017-06-22\",\"2017-06-23\",\"2017-06-24\",\"2017-06-25\",\"2017-06-26\",\"2017-06-27\",\"2017-06-28\",\"2017-06-29\",\"2017-06-30\",\"2017-07-01\",\"2017-07-02\",\"2017-07-03\",\"2017-07-04\",\"2017-07-05\",\"2017-07-06\",\"2017-07-07\",\"2017-07-08\",\"2017-07-09\",\"2017-07-10\",\"2017-07-11\",\"2017-07-12\",\"2017-07-13\",\"2017-07-14\",\"2017-07-15\",\"2017-07-16\",\"2017-07-17\",\"2017-07-18\",\"2017-07-19\",\"2017-07-20\",\"2017-07-21\",\"2017-07-22\",\"2017-07-23\",\"2017-07-24\",\"2017-07-25\",\"2017-07-26\",\"2017-07-27\",\"2017-07-28\",\"2017-07-29\",\"2017-07-30\",\"2017-07-31\",\"2017-08-01\",\"2017-08-02\",\"2017-08-03\",\"2017-08-04\",\"2017-08-05\",\"2017-08-06\",\"2017-08-07\",\"2017-08-08\",\"2017-08-09\",\"2017-08-10\",\"2017-08-11\",\"2017-08-12\",\"2017-08-13\",\"2017-08-14\",\"2017-08-15\",\"2017-08-16\",\"2017-08-17\",\"2017-08-18\",\"2017-08-19\",\"2017-08-20\",\"2017-08-21\",\"2017-08-22\",\"2017-08-23\",\"2017-08-24\",\"2017-08-25\",\"2017-08-26\",\"2017-08-27\",\"2017-08-28\",\"2017-08-29\",\"2017-08-30\",\"2017-08-31\",\"2017-09-01\",\"2017-09-02\",\"2017-09-03\",\"2017-09-04\",\"2017-09-05\",\"2017-09-06\",\"2017-09-07\",\"2017-09-08\",\"2017-09-09\",\"2017-09-10\",\"2017-09-11\",\"2017-09-12\",\"2017-09-13\",\"2017-09-14\",\"2017-09-15\",\"2017-09-16\",\"2017-09-17\",\"2017-09-18\",\"2017-09-19\",\"2017-09-20\",\"2017-09-21\",\"2017-09-22\",\"2017-09-23\",\"2017-09-24\",\"2017-09-25\",\"2017-09-26\",\"2017-09-27\",\"2017-09-28\",\"2017-09-29\",\"2017-09-30\",\"2017-10-01\",\"2017-10-02\",\"2017-10-03\",\"2017-10-04\",\"2017-10-05\",\"2017-10-06\",\"2017-10-07\",\"2017-10-08\",\"2017-10-09\",\"2017-10-10\",\"2017-10-11\",\"2017-10-12\",\"2017-10-13\",\"2017-10-14\",\"2017-10-15\",\"2017-10-16\",\"2017-10-17\",\"2017-10-18\",\"2017-10-19\",\"2017-10-20\",\"2017-10-21\",\"2017-10-22\",\"2017-10-23\",\"2017-10-24\",\"2017-10-25\",\"2017-10-26\",\"2017-10-27\",\"2017-10-28\",\"2017-10-29\",\"2017-10-30\",\"2017-10-31\",\"2017-11-01\",\"2017-11-02\",\"2017-11-03\",\"2017-11-04\",\"2017-11-05\",\"2017-11-06\",\"2017-11-07\",\"2017-11-08\",\"2017-11-09\",\"2017-11-10\",\"2017-11-11\",\"2017-11-12\",\"2017-11-13\",\"2017-11-14\",\"2017-11-15\",\"2017-11-16\",\"2017-11-17\",\"2017-11-18\",\"2017-11-19\",\"2017-11-20\",\"2017-11-21\",\"2017-11-22\",\"2017-11-23\",\"2017-11-24\",\"2017-11-25\",\"2017-11-26\",\"2017-11-27\",\"2017-11-28\",\"2017-11-29\",\"2017-11-30\",\"2017-12-01\",\"2017-12-02\",\"2017-12-03\",\"2017-12-04\",\"2017-12-05\",\"2017-12-06\",\"2017-12-07\",\"2017-12-08\",\"2017-12-09\",\"2017-12-10\",\"2017-12-11\",\"2017-12-12\",\"2017-12-13\",\"2017-12-14\",\"2017-12-15\",\"2017-12-16\",\"2017-12-17\",\"2017-12-18\",\"2017-12-19\",\"2017-12-20\",\"2017-12-21\",\"2017-12-22\",\"2017-12-23\",\"2017-12-24\",\"2017-12-25\",\"2017-12-26\",\"2017-12-27\",\"2017-12-28\",\"2017-12-29\",\"2017-12-30\",\"2017-12-31\",\"2018-01-01\",\"2018-01-02\",\"2018-01-03\",\"2018-01-04\",\"2018-01-05\",\"2018-01-06\",\"2018-01-07\",\"2018-01-08\",\"2018-01-09\",\"2018-01-10\",\"2018-01-11\",\"2018-01-12\",\"2018-01-13\",\"2018-01-14\",\"2018-01-15\",\"2018-01-16\",\"2018-01-17\",\"2018-01-18\",\"2018-01-19\",\"2018-01-20\",\"2018-01-21\",\"2018-01-22\",\"2018-01-23\",\"2018-01-24\",\"2018-01-25\",\"2018-01-26\",\"2018-01-27\",\"2018-01-28\",\"2018-01-29\",\"2018-01-30\",\"2018-01-31\",\"2018-02-01\",\"2018-02-02\",\"2018-02-03\",\"2018-02-04\",\"2018-02-05\",\"2018-02-06\",\"2018-02-07\",\"2018-02-08\",\"2018-02-09\",\"2018-02-10\",\"2018-02-11\",\"2018-02-12\",\"2018-02-13\",\"2018-02-14\",\"2018-02-15\",\"2018-02-16\",\"2018-02-17\",\"2018-02-18\",\"2018-02-19\",\"2018-02-20\",\"2018-02-21\",\"2018-02-22\",\"2018-02-23\",\"2018-02-24\",\"2018-02-25\",\"2018-02-26\",\"2018-02-27\",\"2018-02-28\",\"2018-03-01\",\"2018-03-02\",\"2018-03-03\",\"2018-03-04\",\"2018-03-05\",\"2018-03-06\",\"2018-03-07\",\"2018-03-08\",\"2018-03-09\",\"2018-03-10\",\"2018-03-11\",\"2018-03-12\",\"2018-03-13\",\"2018-03-14\",\"2018-03-15\",\"2018-03-16\",\"2018-03-17\",\"2018-03-18\",\"2018-03-19\",\"2018-03-20\",\"2018-03-21\",\"2018-03-22\",\"2018-03-23\",\"2018-03-24\",\"2018-03-25\",\"2018-03-26\",\"2018-03-27\",\"2018-03-28\",\"2018-03-29\",\"2018-03-30\",\"2018-03-31\",\"2018-04-01\",\"2018-04-02\",\"2018-04-03\",\"2018-04-04\",\"2018-04-05\",\"2018-04-06\",\"2018-04-07\",\"2018-04-08\",\"2018-04-09\",\"2018-04-10\",\"2018-04-11\",\"2018-04-12\",\"2018-04-13\",\"2018-04-14\",\"2018-04-15\",\"2018-04-16\",\"2018-04-17\",\"2018-04-18\",\"2018-04-19\",\"2018-04-20\",\"2018-04-21\",\"2018-04-22\",\"2018-04-23\",\"2018-04-24\",\"2018-04-25\",\"2018-04-26\",\"2018-04-27\",\"2018-04-28\",\"2018-04-29\",\"2018-04-30\",\"2018-05-01\",\"2018-05-02\",\"2018-05-03\",\"2018-05-04\",\"2018-05-05\",\"2018-05-06\",\"2018-05-07\",\"2018-05-08\",\"2018-05-09\",\"2018-05-10\",\"2018-05-11\",\"2018-05-12\",\"2018-05-13\",\"2018-05-14\",\"2018-05-15\",\"2018-05-16\",\"2018-05-17\",\"2018-05-18\",\"2018-05-19\",\"2018-05-20\",\"2018-05-21\",\"2018-05-22\",\"2018-05-23\",\"2018-05-24\",\"2018-05-25\",\"2018-05-26\",\"2018-05-27\",\"2018-05-28\",\"2018-05-29\",\"2018-05-30\",\"2018-05-31\",\"2018-06-01\",\"2018-06-02\",\"2018-06-03\",\"2018-06-04\",\"2018-06-05\",\"2018-06-06\",\"2018-06-07\",\"2018-06-08\",\"2018-06-09\",\"2018-06-10\",\"2018-06-11\",\"2018-06-12\",\"2018-06-13\",\"2018-06-14\",\"2018-06-15\",\"2018-06-16\",\"2018-06-17\",\"2018-06-18\",\"2018-06-19\",\"2018-06-20\",\"2018-06-21\",\"2018-06-22\",\"2018-06-23\",\"2018-06-24\",\"2018-06-25\",\"2018-06-26\",\"2018-06-27\",\"2018-06-28\",\"2018-06-29\",\"2018-06-30\",\"2018-07-01\",\"2018-07-02\",\"2018-07-03\",\"2018-07-04\",\"2018-07-05\",\"2018-07-06\",\"2018-07-07\",\"2018-07-08\",\"2018-07-09\",\"2018-07-10\",\"2018-07-11\",\"2018-07-12\",\"2018-07-13\",\"2018-07-14\",\"2018-07-15\",\"2018-07-16\",\"2018-07-17\",\"2018-07-18\",\"2018-07-19\",\"2018-07-20\",\"2018-07-21\",\"2018-07-22\",\"2018-07-23\",\"2018-07-24\",\"2018-07-25\",\"2018-07-26\",\"2018-07-27\",\"2018-07-28\",\"2018-07-29\",\"2018-07-30\",\"2018-07-31\",\"2018-08-01\",\"2018-08-02\",\"2018-08-03\",\"2018-08-04\",\"2018-08-05\",\"2018-08-06\",\"2018-08-07\",\"2018-08-08\",\"2018-08-09\",\"2018-08-10\",\"2018-08-11\",\"2018-08-12\",\"2018-08-13\",\"2018-08-14\",\"2018-08-15\",\"2018-08-16\",\"2018-08-17\",\"2018-08-18\",\"2018-08-19\",\"2018-08-20\",\"2018-08-21\",\"2018-08-22\",\"2018-08-23\",\"2018-08-24\",\"2018-08-25\",\"2018-08-26\",\"2018-08-27\",\"2018-08-28\",\"2018-08-29\",\"2018-08-30\",\"2018-08-31\",\"2018-09-01\",\"2018-09-02\",\"2018-09-03\",\"2018-09-04\",\"2018-09-05\",\"2018-09-06\",\"2018-09-07\",\"2018-09-08\",\"2018-09-09\",\"2018-09-10\",\"2018-09-11\",\"2018-09-12\",\"2018-09-13\",\"2018-09-14\",\"2018-09-15\",\"2018-09-16\",\"2018-09-17\",\"2018-09-18\",\"2018-09-19\",\"2018-09-20\",\"2018-09-21\",\"2018-09-22\",\"2018-09-23\",\"2018-09-24\",\"2018-09-25\",\"2018-09-26\",\"2018-09-27\",\"2018-09-28\",\"2018-09-29\",\"2018-09-30\",\"2018-10-01\",\"2018-10-02\",\"2018-10-03\",\"2018-10-04\",\"2018-10-05\",\"2018-10-06\",\"2018-10-07\",\"2018-10-08\",\"2018-10-09\",\"2018-10-10\",\"2018-10-11\",\"2018-10-12\",\"2018-10-13\",\"2018-10-14\",\"2018-10-15\",\"2018-10-16\",\"2018-10-17\",\"2018-10-18\",\"2018-10-19\",\"2018-10-20\",\"2018-10-21\",\"2018-10-22\",\"2018-10-23\",\"2018-10-24\",\"2018-10-25\",\"2018-10-26\",\"2018-10-27\",\"2018-10-28\",\"2018-10-29\",\"2018-10-30\",\"2018-10-31\",\"2018-11-01\",\"2018-11-02\",\"2018-11-03\",\"2018-11-04\",\"2018-11-05\",\"2018-11-06\",\"2018-11-07\",\"2018-11-08\",\"2018-11-09\",\"2018-11-10\",\"2018-11-11\",\"2018-11-12\",\"2018-11-13\",\"2018-11-14\",\"2018-11-15\",\"2018-11-16\",\"2018-11-17\",\"2018-11-18\",\"2018-11-19\",\"2018-11-20\",\"2018-11-21\",\"2018-11-22\",\"2018-11-23\",\"2018-11-24\",\"2018-11-25\",\"2018-11-26\",\"2018-11-27\",\"2018-11-28\",\"2018-11-29\",\"2018-11-30\",\"2018-12-01\",\"2018-12-02\",\"2018-12-03\",\"2018-12-04\",\"2018-12-05\",\"2018-12-06\",\"2018-12-07\",\"2018-12-08\",\"2018-12-09\",\"2018-12-10\",\"2018-12-11\",\"2018-12-12\",\"2018-12-13\",\"2018-12-14\",\"2018-12-15\",\"2018-12-16\",\"2018-12-17\",\"2018-12-18\",\"2018-12-19\",\"2018-12-20\",\"2018-12-21\",\"2018-12-22\",\"2018-12-23\",\"2018-12-24\",\"2018-12-25\",\"2018-12-26\",\"2018-12-27\",\"2018-12-28\",\"2018-12-29\",\"2018-12-30\",\"2018-12-31\",\"2019-01-01\",\"2019-01-02\",\"2019-01-03\",\"2019-01-04\",\"2019-01-05\",\"2019-01-06\",\"2019-01-07\",\"2019-01-08\",\"2019-01-09\",\"2019-01-10\",\"2019-01-11\",\"2019-01-12\",\"2019-01-13\",\"2019-01-14\",\"2019-01-15\",\"2019-01-16\",\"2019-01-17\",\"2019-01-18\",\"2019-01-19\",\"2019-01-20\",\"2019-01-21\",\"2019-01-22\",\"2019-01-23\",\"2019-01-24\",\"2019-01-25\",\"2019-01-26\",\"2019-01-27\",\"2019-01-28\",\"2019-01-29\",\"2019-01-30\",\"2019-01-31\",\"2019-02-01\",\"2019-02-02\",\"2019-02-03\",\"2019-02-04\",\"2019-02-05\",\"2019-02-06\",\"2019-02-07\",\"2019-02-08\",\"2019-02-09\",\"2019-02-10\",\"2019-02-11\",\"2019-02-12\",\"2019-02-13\",\"2019-02-14\",\"2019-02-15\",\"2019-02-16\",\"2019-02-17\",\"2019-02-18\",\"2019-02-19\",\"2019-02-20\",\"2019-02-21\",\"2019-02-22\",\"2019-02-23\",\"2019-02-24\",\"2019-02-25\",\"2019-02-26\",\"2019-02-27\",\"2019-02-28\",\"2019-03-01\",\"2019-03-02\",\"2019-03-03\",\"2019-03-04\",\"2019-03-05\",\"2019-03-06\",\"2019-03-07\",\"2019-03-08\",\"2019-03-09\",\"2019-03-10\",\"2019-03-11\",\"2019-03-12\",\"2019-03-13\",\"2019-03-14\",\"2019-03-15\",\"2019-03-16\",\"2019-03-17\",\"2019-03-18\",\"2019-03-19\",\"2019-03-20\",\"2019-03-21\",\"2019-03-22\",\"2019-03-23\",\"2019-03-24\",\"2019-03-25\",\"2019-03-26\",\"2019-03-27\",\"2019-03-28\",\"2019-03-29\",\"2019-03-30\",\"2019-03-31\",\"2019-04-01\",\"2019-04-02\",\"2019-04-03\",\"2019-04-04\",\"2019-04-05\",\"2019-04-06\",\"2019-04-07\",\"2019-04-08\",\"2019-04-09\",\"2019-04-10\",\"2019-04-11\",\"2019-04-12\",\"2019-04-13\",\"2019-04-14\",\"2019-04-15\",\"2019-04-16\",\"2019-04-17\",\"2019-04-18\",\"2019-04-19\",\"2019-04-20\",\"2019-04-21\",\"2019-04-22\",\"2019-04-23\",\"2019-04-24\",\"2019-04-25\",\"2019-04-26\",\"2019-04-27\",\"2019-04-28\",\"2019-04-29\",\"2019-04-30\",\"2019-05-01\",\"2019-05-02\",\"2019-05-03\",\"2019-05-04\",\"2019-05-05\",\"2019-05-06\",\"2019-05-07\",\"2019-05-08\",\"2019-05-09\",\"2019-05-10\",\"2019-05-11\",\"2019-05-12\",\"2019-05-13\",\"2019-05-14\",\"2019-05-15\",\"2019-05-16\",\"2019-05-17\",\"2019-05-18\",\"2019-05-19\",\"2019-05-20\",\"2019-05-21\",\"2019-05-22\",\"2019-05-23\",\"2019-05-24\",\"2019-05-25\",\"2019-05-26\",\"2019-05-27\",\"2019-05-28\",\"2019-05-29\",\"2019-05-30\",\"2019-05-31\",\"2019-06-01\",\"2019-06-02\",\"2019-06-03\",\"2019-06-04\",\"2019-06-05\",\"2019-06-06\",\"2019-06-07\",\"2019-06-08\",\"2019-06-09\",\"2019-06-10\",\"2019-06-11\",\"2019-06-12\",\"2019-06-13\",\"2019-06-14\",\"2019-06-15\",\"2019-06-16\",\"2019-06-17\",\"2019-06-18\",\"2019-06-19\",\"2019-06-20\",\"2019-06-21\",\"2019-06-22\",\"2019-06-23\",\"2019-06-24\",\"2019-06-25\",\"2019-06-26\",\"2019-06-27\",\"2019-06-28\",\"2019-06-29\",\"2019-06-30\",\"2019-07-01\",\"2019-07-02\",\"2019-07-03\",\"2019-07-04\",\"2019-07-05\",\"2019-07-06\",\"2019-07-07\",\"2019-07-08\",\"2019-07-09\",\"2019-07-10\",\"2019-07-11\",\"2019-07-12\",\"2019-07-13\",\"2019-07-14\",\"2019-07-15\",\"2019-07-16\",\"2019-07-17\",\"2019-07-18\",\"2019-07-19\",\"2019-07-20\",\"2019-07-21\",\"2019-07-22\",\"2019-07-23\",\"2019-07-24\",\"2019-07-25\",\"2019-07-26\",\"2019-07-27\",\"2019-07-28\",\"2019-07-29\",\"2019-07-30\",\"2019-07-31\",\"2019-08-01\",\"2019-08-02\",\"2019-08-03\",\"2019-08-04\",\"2019-08-05\",\"2019-08-06\",\"2019-08-07\",\"2019-08-08\",\"2019-08-09\",\"2019-08-10\",\"2019-08-11\",\"2019-08-12\",\"2019-08-13\",\"2019-08-14\",\"2019-08-15\",\"2019-08-16\",\"2019-08-17\",\"2019-08-18\",\"2019-08-19\",\"2019-08-20\",\"2019-08-21\",\"2019-08-22\",\"2019-08-23\",\"2019-08-24\",\"2019-08-25\",\"2019-08-26\",\"2019-08-27\",\"2019-08-28\",\"2019-08-29\",\"2019-08-30\",\"2019-08-31\",\"2019-09-01\",\"2019-09-02\",\"2019-09-03\",\"2019-09-04\",\"2019-09-05\",\"2019-09-06\",\"2019-09-07\",\"2019-09-08\",\"2019-09-09\",\"2019-09-10\",\"2019-09-11\",\"2019-09-12\",\"2019-09-13\",\"2019-09-14\",\"2019-09-15\",\"2019-09-16\",\"2019-09-17\",\"2019-09-18\",\"2019-09-19\",\"2019-09-20\",\"2019-09-21\",\"2019-09-22\",\"2019-09-23\",\"2019-09-24\",\"2019-09-25\",\"2019-09-26\",\"2019-09-27\",\"2019-09-28\",\"2019-09-29\",\"2019-09-30\",\"2019-10-01\",\"2019-10-02\",\"2019-10-03\",\"2019-10-04\",\"2019-10-05\",\"2019-10-06\",\"2019-10-07\",\"2019-10-08\",\"2019-10-09\",\"2019-10-10\",\"2019-10-11\",\"2019-10-12\",\"2019-10-13\",\"2019-10-14\",\"2019-10-15\",\"2019-10-16\",\"2019-10-17\",\"2019-10-18\",\"2019-10-19\",\"2019-10-20\",\"2019-10-21\",\"2019-10-22\",\"2019-10-23\",\"2019-10-24\",\"2019-10-25\",\"2019-10-26\",\"2019-10-27\",\"2019-10-28\",\"2019-10-29\",\"2019-10-30\",\"2019-10-31\",\"2019-11-01\",\"2019-11-02\",\"2019-11-03\",\"2019-11-04\",\"2019-11-05\",\"2019-11-06\",\"2019-11-07\",\"2019-11-08\",\"2019-11-09\",\"2019-11-10\",\"2019-11-11\",\"2019-11-12\",\"2019-11-13\",\"2019-11-14\",\"2019-11-15\",\"2019-11-16\",\"2019-11-17\",\"2019-11-18\",\"2019-11-19\",\"2019-11-20\",\"2019-11-21\",\"2019-11-22\",\"2019-11-23\",\"2019-11-24\",\"2019-11-25\",\"2019-11-26\",\"2019-11-27\",\"2019-11-28\",\"2019-11-29\",\"2019-11-30\",\"2019-12-01\",\"2019-12-02\",\"2019-12-03\",\"2019-12-04\",\"2019-12-05\",\"2019-12-06\",\"2019-12-07\",\"2019-12-08\",\"2019-12-09\",\"2019-12-10\",\"2019-12-11\",\"2019-12-12\",\"2019-12-13\",\"2019-12-14\",\"2019-12-15\",\"2019-12-16\",\"2019-12-17\",\"2019-12-18\",\"2019-12-19\",\"2019-12-20\",\"2019-12-21\",\"2019-12-22\",\"2019-12-23\",\"2019-12-24\",\"2019-12-25\",\"2019-12-26\",\"2019-12-27\",\"2019-12-28\",\"2019-12-29\",\"2019-12-30\",\"2019-12-31\",\"2020-01-01\",\"2020-01-02\",\"2020-01-03\",\"2020-01-04\",\"2020-01-05\",\"2020-01-06\",\"2020-01-07\",\"2020-01-08\",\"2020-01-09\",\"2020-01-10\",\"2020-01-11\",\"2020-01-12\",\"2020-01-13\",\"2020-01-14\",\"2020-01-15\",\"2020-01-16\",\"2020-01-17\",\"2020-01-18\",\"2020-01-19\",\"2020-01-20\",\"2020-01-21\",\"2020-01-22\",\"2020-01-23\",\"2020-01-24\",\"2020-01-25\",\"2020-01-26\",\"2020-01-27\",\"2020-01-28\",\"2020-01-29\",\"2020-01-30\",\"2020-01-31\",\"2020-02-01\",\"2020-02-02\",\"2020-02-03\",\"2020-02-04\",\"2020-02-05\",\"2020-02-06\",\"2020-02-07\",\"2020-02-08\",\"2020-02-09\",\"2020-02-10\",\"2020-02-11\",\"2020-02-12\",\"2020-02-13\",\"2020-02-14\",\"2020-02-15\",\"2020-02-16\",\"2020-02-17\",\"2020-02-18\",\"2020-02-19\",\"2020-02-20\",\"2020-02-21\",\"2020-02-22\",\"2020-02-23\",\"2020-02-24\",\"2020-02-25\",\"2020-02-26\",\"2020-02-27\",\"2020-02-28\",\"2020-02-29\",\"2020-03-01\",\"2020-03-02\",\"2020-03-03\",\"2020-03-04\",\"2020-03-05\",\"2020-03-06\",\"2020-03-07\",\"2020-03-08\",\"2020-03-09\",\"2020-03-10\",\"2020-03-11\",\"2020-03-12\",\"2020-03-13\",\"2020-03-14\",\"2020-03-15\",\"2020-03-16\",\"2020-03-17\",\"2020-03-18\",\"2020-03-19\",\"2020-03-20\",\"2020-03-21\",\"2020-03-22\",\"2020-03-23\",\"2020-03-24\",\"2020-03-25\",\"2020-03-26\",\"2020-03-27\",\"2020-03-28\",\"2020-03-29\",\"2020-03-30\",\"2020-03-31\",\"2020-04-01\",\"2020-04-02\",\"2020-04-03\",\"2020-04-04\",\"2020-04-05\",\"2020-04-06\",\"2020-04-07\",\"2020-04-08\",\"2020-04-09\",\"2020-04-10\",\"2020-04-11\",\"2020-04-12\",\"2020-04-13\",\"2020-04-14\",\"2020-04-15\",\"2020-04-16\",\"2020-04-17\",\"2020-04-18\",\"2020-04-19\",\"2020-04-20\",\"2020-04-21\",\"2020-04-22\",\"2020-04-23\",\"2020-04-24\",\"2020-04-25\",\"2020-04-26\",\"2020-04-27\",\"2020-04-28\",\"2020-04-29\",\"2020-04-30\",\"2020-05-01\",\"2020-05-02\",\"2020-05-03\",\"2020-05-04\",\"2020-05-05\",\"2020-05-06\",\"2020-05-07\",\"2020-05-08\",\"2020-05-09\",\"2020-05-10\",\"2020-05-11\",\"2020-05-12\",\"2020-05-13\",\"2020-05-14\",\"2020-05-15\",\"2020-05-16\",\"2020-05-17\",\"2020-05-18\",\"2020-05-19\",\"2020-05-20\",\"2020-05-21\",\"2020-05-22\",\"2020-05-23\",\"2020-05-24\",\"2020-05-25\",\"2020-05-26\",\"2020-05-27\",\"2020-05-28\",\"2020-05-29\",\"2020-05-30\",\"2020-05-31\",\"2020-06-01\",\"2020-06-02\",\"2020-06-03\",\"2020-06-04\",\"2020-06-05\",\"2020-06-06\",\"2020-06-07\",\"2020-06-08\",\"2020-06-09\",\"2020-06-10\",\"2020-06-11\",\"2020-06-12\",\"2020-06-13\",\"2020-06-14\",\"2020-06-15\",\"2020-06-16\",\"2020-06-17\",\"2020-06-18\",\"2020-06-19\",\"2020-06-20\",\"2020-06-21\",\"2020-06-22\",\"2020-06-23\",\"2020-06-24\",\"2020-06-25\",\"2020-06-26\",\"2020-06-27\",\"2020-06-28\",\"2020-06-29\",\"2020-06-30\",\"2020-07-01\",\"2020-07-02\",\"2020-07-03\",\"2020-07-04\",\"2020-07-05\",\"2020-07-06\",\"2020-07-07\",\"2020-07-08\",\"2020-07-09\",\"2020-07-10\",\"2020-07-11\",\"2020-07-12\",\"2020-07-13\",\"2020-07-14\",\"2020-07-15\",\"2020-07-16\",\"2020-07-17\",\"2020-07-18\",\"2020-07-19\",\"2020-07-20\",\"2020-07-21\",\"2020-07-22\",\"2020-07-23\",\"2020-07-24\",\"2020-07-25\",\"2020-07-26\",\"2020-07-27\",\"2020-07-28\",\"2020-07-29\",\"2020-07-30\",\"2020-07-31\",\"2020-08-01\",\"2020-08-02\",\"2020-08-03\",\"2020-08-04\",\"2020-08-05\",\"2020-08-06\",\"2020-08-07\",\"2020-08-08\",\"2020-08-09\",\"2020-08-10\",\"2020-08-11\",\"2020-08-12\",\"2020-08-13\",\"2020-08-14\",\"2020-08-15\",\"2020-08-16\",\"2020-08-17\",\"2020-08-18\",\"2020-08-19\",\"2020-08-20\",\"2020-08-21\",\"2020-08-22\",\"2020-08-23\",\"2020-08-24\",\"2020-08-25\",\"2020-08-26\",\"2020-08-27\",\"2020-08-28\",\"2020-08-29\",\"2020-08-30\",\"2020-08-31\",\"2020-09-01\",\"2020-09-02\",\"2020-09-03\",\"2020-09-04\",\"2020-09-05\",\"2020-09-06\",\"2020-09-07\",\"2020-09-08\",\"2020-09-09\",\"2020-09-10\",\"2020-09-11\",\"2020-09-12\",\"2020-09-13\",\"2020-09-14\",\"2020-09-15\",\"2020-09-16\",\"2020-09-17\",\"2020-09-18\",\"2020-09-19\",\"2020-09-20\",\"2020-09-21\",\"2020-09-22\",\"2020-09-23\",\"2020-09-24\",\"2020-09-25\",\"2020-09-26\",\"2020-09-27\",\"2020-09-28\",\"2020-09-29\",\"2020-09-30\",\"2020-10-01\",\"2020-10-02\",\"2020-10-03\",\"2020-10-04\",\"2020-10-05\",\"2020-10-06\",\"2020-10-07\",\"2020-10-08\",\"2020-10-09\",\"2020-10-10\",\"2020-10-11\",\"2020-10-12\",\"2020-10-13\",\"2020-10-14\",\"2020-10-15\",\"2020-10-16\",\"2020-10-17\",\"2020-10-18\",\"2020-10-19\",\"2020-10-20\",\"2020-10-21\",\"2020-10-22\",\"2020-10-23\",\"2020-10-24\",\"2020-10-25\",\"2020-10-26\",\"2020-10-27\",\"2020-10-28\",\"2020-10-29\",\"2020-10-30\",\"2020-10-31\",\"2020-11-01\",\"2020-11-02\",\"2020-11-03\",\"2020-11-04\",\"2020-11-05\",\"2020-11-06\",\"2020-11-07\",\"2020-11-08\",\"2020-11-09\",\"2020-11-10\",\"2020-11-11\",\"2020-11-12\",\"2020-11-13\",\"2020-11-14\",\"2020-11-15\",\"2020-11-16\",\"2020-11-17\",\"2020-11-18\",\"2020-11-19\",\"2020-11-20\",\"2020-11-21\",\"2020-11-22\",\"2020-11-23\",\"2020-12-20\",\"2020-12-21\",\"2020-12-22\",\"2020-12-23\",\"2020-12-24\",\"2020-12-25\",\"2020-12-26\",\"2020-12-27\",\"2020-12-28\",\"2020-12-29\",\"2020-12-30\",\"2020-12-31\",\"2021-01-01\",\"2021-01-02\",\"2021-01-03\",\"2021-01-04\",\"2021-01-05\",\"2021-01-06\",\"2021-01-07\",\"2021-01-08\",\"2021-01-09\",\"2021-01-10\",\"2021-01-11\",\"2021-01-12\",\"2021-01-13\",\"2021-01-14\",\"2021-01-15\",\"2021-01-16\",\"2021-01-17\",\"2021-01-18\",\"2021-01-19\",\"2021-01-20\",\"2021-01-21\",\"2021-01-22\",\"2021-01-23\",\"2021-01-24\",\"2021-01-25\",\"2021-01-26\",\"2021-01-27\",\"2021-01-28\",\"2021-01-29\",\"2021-01-30\",\"2021-01-31\",\"2021-02-01\",\"2021-02-02\",\"2021-02-03\",\"2021-02-04\",\"2021-02-05\",\"2021-02-06\",\"2021-02-07\",\"2021-02-08\",\"2021-02-09\",\"2021-02-10\",\"2021-02-11\",\"2021-02-12\",\"2021-02-13\",\"2021-02-14\",\"2021-02-15\",\"2021-02-16\",\"2021-02-17\",\"2021-02-18\",\"2021-02-19\",\"2021-02-20\",\"2021-02-21\",\"2021-02-22\",\"2021-02-23\",\"2021-02-24\",\"2021-02-25\",\"2021-02-26\",\"2021-02-27\",\"2021-02-28\",\"2021-03-01\",\"2021-03-02\",\"2021-03-03\",\"2021-03-04\",\"2021-03-05\",\"2021-03-06\",\"2021-03-07\",\"2021-03-08\",\"2021-03-09\",\"2021-03-10\",\"2021-03-11\",\"2021-03-12\",\"2021-03-13\",\"2021-03-14\",\"2021-03-15\",\"2021-03-16\",\"2021-03-17\",\"2021-03-18\",\"2021-03-19\",\"2021-03-20\",\"2021-03-21\",\"2021-03-22\",\"2021-03-23\",\"2021-03-24\",\"2021-03-25\",\"2021-03-26\",\"2021-03-27\",\"2021-03-28\",\"2021-03-29\",\"2021-03-30\",\"2021-03-31\",\"2021-04-01\",\"2021-04-02\",\"2021-04-03\",\"2021-04-04\",\"2021-04-05\",\"2021-04-06\",\"2021-04-07\",\"2021-04-08\",\"2021-04-09\",\"2021-04-10\",\"2021-04-11\",\"2021-04-12\",\"2021-04-13\",\"2021-04-14\",\"2021-04-15\",\"2021-04-16\",\"2021-04-17\",\"2021-04-18\",\"2021-04-19\",\"2021-04-20\",\"2021-04-21\",\"2021-04-22\",\"2021-04-23\",\"2021-04-24\",\"2021-04-25\",\"2021-04-26\",\"2021-04-27\",\"2021-04-28\",\"2021-04-29\",\"2021-04-30\",\"2021-05-01\",\"2021-05-02\",\"2021-05-03\",\"2021-05-04\",\"2021-05-05\",\"2021-05-06\",\"2021-05-07\",\"2021-05-08\",\"2021-05-09\",\"2021-05-10\",\"2021-05-11\",\"2021-05-12\",\"2021-05-13\",\"2021-05-14\",\"2021-05-15\",\"2021-05-16\",\"2021-05-17\",\"2021-05-18\",\"2021-05-19\",\"2021-05-20\",\"2021-05-21\",\"2021-05-22\",\"2021-05-23\",\"2021-05-24\",\"2021-05-25\",\"2021-05-26\",\"2021-05-27\",\"2021-05-28\",\"2021-05-29\",\"2021-05-30\",\"2021-05-31\",\"2021-06-01\",\"2021-06-02\",\"2021-06-03\",\"2021-06-04\",\"2021-06-05\",\"2021-06-06\",\"2021-06-07\",\"2021-06-08\",\"2021-06-09\",\"2021-06-10\",\"2021-06-11\",\"2021-06-12\",\"2021-06-13\",\"2021-06-14\",\"2021-06-15\",\"2021-06-16\",\"2021-06-17\",\"2021-06-18\",\"2021-06-19\",\"2021-06-20\",\"2021-06-21\",\"2021-06-22\",\"2021-06-23\",\"2021-06-24\",\"2021-06-25\",\"2021-06-26\",\"2021-06-27\",\"2021-06-28\",\"2021-06-29\",\"2021-06-30\",\"2021-07-01\",\"2021-07-02\",\"2021-07-03\",\"2021-07-04\",\"2021-07-05\",\"2021-07-06\",\"2021-07-07\",\"2021-07-08\",\"2021-07-09\",\"2021-07-10\",\"2021-07-11\",\"2021-07-12\",\"2021-07-13\",\"2021-07-14\",\"2021-07-15\",\"2021-07-16\",\"2021-07-17\",\"2021-07-18\",\"2021-07-19\",\"2021-07-20\",\"2021-07-21\",\"2021-07-22\",\"2021-07-23\",\"2021-07-24\",\"2021-07-25\",\"2021-07-26\",\"2021-07-27\",\"2021-07-28\",\"2021-07-29\",\"2021-07-30\",\"2021-07-31\",\"2021-08-01\",\"2021-08-02\",\"2021-08-03\",\"2021-08-04\",\"2021-08-05\",\"2021-08-06\",\"2021-08-07\",\"2021-08-08\",\"2021-08-09\",\"2021-08-10\",\"2021-08-11\",\"2021-08-12\",\"2021-08-13\",\"2021-08-14\",\"2021-08-15\",\"2021-08-16\",\"2021-08-17\",\"2021-08-18\",\"2021-08-19\",\"2021-08-20\",\"2021-08-21\",\"2021-08-22\",\"2021-08-23\",\"2021-08-24\",\"2021-08-25\",\"2021-08-26\",\"2021-08-27\",\"2021-08-28\",\"2021-08-29\",\"2021-08-30\",\"2021-08-31\",\"2021-09-01\",\"2021-09-02\",\"2021-09-03\",\"2021-09-04\",\"2021-09-05\",\"2021-09-06\",\"2021-09-07\",\"2021-09-08\",\"2021-09-09\",\"2021-09-10\",\"2021-09-11\",\"2021-09-12\",\"2021-09-13\",\"2021-09-14\",\"2021-09-15\",\"2021-09-16\",\"2021-09-17\",\"2021-09-18\",\"2021-09-19\",\"2021-09-20\",\"2021-09-21\",\"2021-09-22\",\"2021-09-23\",\"2021-09-24\",\"2021-09-25\",\"2021-09-26\",\"2021-09-27\",\"2021-09-28\",\"2021-09-29\",\"2021-09-30\",\"2021-10-01\",\"2021-10-02\",\"2021-10-03\",\"2021-10-04\",\"2021-10-05\",\"2021-10-06\",\"2021-10-07\",\"2021-10-08\",\"2021-10-09\",\"2021-10-10\",\"2021-10-11\",\"2021-10-12\",\"2021-10-13\",\"2021-10-14\",\"2021-10-15\",\"2021-10-16\",\"2021-10-17\",\"2021-10-18\",\"2021-10-19\",\"2021-10-20\",\"2021-10-21\",\"2021-10-22\",\"2021-10-23\",\"2021-10-24\",\"2021-10-25\",\"2021-10-26\",\"2021-10-27\",\"2021-10-28\",\"2021-10-29\",\"2021-10-30\",\"2021-10-31\",\"2021-11-01\",\"2021-11-02\",\"2021-11-03\",\"2021-11-04\",\"2021-11-05\",\"2021-11-06\",\"2021-11-07\",\"2021-11-08\",\"2021-11-09\",\"2021-11-10\",\"2021-11-11\",\"2021-11-12\",\"2021-11-13\",\"2021-11-14\",\"2021-11-15\",\"2021-11-16\",\"2021-11-17\",\"2021-11-18\",\"2021-11-19\",\"2021-11-20\",\"2021-11-21\",\"2021-11-22\",\"2021-11-23\",\"2021-11-24\",\"2021-11-25\",\"2021-11-26\",\"2021-11-27\",\"2021-11-28\",\"2021-11-29\",\"2021-11-30\",\"2021-12-01\",\"2021-12-02\",\"2021-12-03\",\"2021-12-04\",\"2021-12-05\",\"2021-12-06\",\"2021-12-07\",\"2021-12-08\",\"2021-12-09\",\"2021-12-10\",\"2021-12-11\",\"2021-12-12\",\"2021-12-13\",\"2021-12-14\",\"2021-12-15\",\"2021-12-16\",\"2021-12-17\",\"2021-12-18\",\"2021-12-19\",\"2021-12-20\",\"2021-12-21\",\"2021-12-22\",\"2021-12-23\",\"2021-12-24\",\"2021-12-25\",\"2021-12-26\",\"2021-12-27\",\"2021-12-28\",\"2021-12-29\",\"2021-12-30\",\"2021-12-31\",\"2022-01-01\",\"2022-01-02\",\"2022-01-03\",\"2022-01-04\",\"2022-01-05\",\"2022-01-06\",\"2022-01-07\",\"2022-01-08\",\"2022-01-09\",\"2022-01-10\",\"2022-01-11\",\"2022-01-12\",\"2022-01-13\",\"2022-01-14\",\"2022-01-15\",\"2022-01-16\",\"2022-01-17\",\"2022-01-18\",\"2022-01-19\",\"2022-01-20\",\"2022-01-21\",\"2022-01-22\",\"2022-01-23\",\"2022-01-24\",\"2022-01-25\",\"2022-01-26\",\"2022-01-27\",\"2022-01-28\",\"2022-01-29\",\"2022-01-30\",\"2022-01-31\",\"2022-02-01\",\"2022-02-02\",\"2022-02-03\",\"2022-02-04\",\"2022-02-05\",\"2022-02-06\",\"2022-02-07\",\"2022-02-08\",\"2022-02-09\",\"2022-02-10\",\"2022-02-11\",\"2022-02-12\",\"2022-02-13\",\"2022-02-14\",\"2022-02-15\",\"2022-02-16\",\"2022-02-17\",\"2022-02-18\",\"2022-02-19\",\"2022-02-20\",\"2022-02-21\",\"2022-02-22\",\"2022-02-23\",\"2022-02-24\",\"2022-02-25\",\"2022-02-26\",\"2022-02-27\",\"2022-02-28\",\"2022-03-01\"],\"xaxis\":\"x\",\"y\":[977.3852328005559,1012.5171805555518,1020.2268402777802,1077.2711666666694,1044.9055486111122,935.4191874999998,870.7004652777774,914.6379305555537,893.8563194444439,902.8581041666644,847.306472222223,783.5423472222203,807.6744513888866,827.5736805555556,817.2987569444434,828.105756944441,876.6408680555587,885.6954861111138,893.5917499999975,895.6959652777801,917.7979652777798,922.8975902777739,920.3273402777758,907.4186180555561,894.6163819444463,905.9091388888918,917.2691180555576,918.3521041666694,916.8301805555503,917.0797222222234,940.616236111114,971.0326041666668,992.9300902777763,1012.2267986111094,1017.9485833333306,1020.1994652777747,1021.0325069444459,1042.5799027777794,1054.0364930555538,1025.4786388888856,978.4686805555581,1007.8483750000009,1003.5357986111101,999.1010902777759,1006.3678055555556,1009.451687499996,1026.989791666662,1047.0229236111115,1061.6862152777758,1053.5596388888891,1057.5171527777795,1100.4343055555546,1123.1001875000006,1147.6196666666667,1186.1077083333305,1168.0463888888974,1164.904083333329,1186.3339583333343,1192.8106458333318,1206.5122083333333,1240.256798611111,1272.680375000001,1269.4138055555588,1259.0001597222229,1274.64168055556,1255.0639374999957,1198.560416666666,1177.2935277777765,1203.954979166667,1168.1919444444416,1197.1095624999984,1234.5615902777756,1243.9192430555568,1251.6757083333337,1221.0203541666654,1131.8344652777773,1036.1672430555564,1009.9874444444418,1034.3836249999993,1084.0091180555546,1054.611743055554,1036.0047083333357,991.2918750000006,927.6173888888906,964.6876319444419,998.8114583333312,1043.5263888888862,1033.3611319444437,1034.0168194444445,1052.2629722222168,1077.8431111111122,1080.5035347222267,1127.1335069444438,1142.8394583333331,1130.4308680555544,1167.7325972222234,1189.8541041666654,1188.1118958333384,1194.0254236111139,1208.1992361111122,1213.5613124999995,1217.3423472222223,1188.7302569444428,1173.9403611111095,1178.3391527777676,1170.4825625000003,1172.4477638888889,1200.372326388885,1201.4341458333336,1220.815451388891,1241.6904583333321,1237.826104166667,1235.8649027777792,1244.0218958333312,1265.1627777777776,1288.4001666666668,1313.4387152777772,1324.908673611112,1330.5420347222191,1331.5443819444376,1377.4858333333286,1433.7895486111133,1471.889993055553,1541.2194722222207,1558.413590277781,1541.2953819444433,1543.7391805555562,1589.6460277777742,1705.7778958333329,1747.270041666669,1826.7640138888887,1771.707243055556,1707.7833333333347,1782.9489930555521,1735.05099305556,1710.6555625,1776.6565138888898,1826.2237638888903,1927.1288055555594,1975.6387847222306,2024.0265486111166,2111.6647708333335,2193.659340277784,2369.2106180555525,2560.528812500003,2389.1623125000083,2101.1858194444458,2191.3052569444517,2239.5252361111047,2276.15706944444,2255.6865486111137,2391.7239444444485,2430.5350416666674,2520.0545000000066,2526.097430555559,2601.9882222222273,2837.8368750000077,2818.224388888893,2755.247145833339,2825.1392500000006,2855.5660277777774,2907.5506805555638,2807.0158472222174,2718.217263888893,2656.321868055557,2360.5288333333383,2452.072562500001,2557.6541180555587,2568.3425277777783,2559.803118055555,2663.7301736111262,2714.9673263888926,2683.0385763888935,2719.6307847222315,2659.501520833337,2561.3777083333357,2467.5923333333367,2410.1328888888956,2535.7236527777795,2560.2478125000025,2525.393750000008,2463.913847222223,2445.957986111114,2525.1667708333302,2597.850597222231,2570.8201458333306,2594.623173611108,2544.362173611114,2517.3283402777815,2540.1147986111146,2456.7391180555587,2341.5181944444435,2345.5872083333375,2372.128173611117,2280.8510763888944,2076.2461111111074,1942.630416666663,2058.7550000000006,2283.410409722225,2313.9489999999996,2494.760555555556,2722.117145833334,2781.98350694445,2769.685277777779,2755.187263888894,2627.0577569444404,2501.9507708333285,2570.986395833335,2739.3356250000056,2719.89188194444,2677.455951388889,2762.338069444451,2772.714048611117,2715.731895833342,2744.242298611125,2828.333270833339,3157.090819444445,3238.355000000006,3310.3551111111165,3418.8020416666786,3343.6452708333486,3393.964638888894,3505.4639583333446,3760.9661597222266,4027.5384722222316,4171.41885416667,4172.492416666678,4169.768750000006,4350.160354166668,4232.300951388899,4058.3161597222415,4062.669666666686,4025.964458333338,3927.022284722237,4145.902173611125,4183.43559722223,4359.359486111114,4312.968284722234,4342.498451388894,4306.791888888902,4466.649722222229,4578.743777777782,4671.830270833349,4804.446125000006,4689.852395833346,4580.204111111121,4367.99918055556,4257.967520833331,4533.035236111118,4587.083104166678,4487.414555555562,4296.168930555564,4184.94954166667,4213.911520833328,4256.472694444454,3938.97605555555,3631.143541666667,3417.378055555563,3701.4485347222253,3638.0609791666743,3945.183312500004,3966.719534722229,3939.995743055569,3794.705048611113,3629.9171805555643,3716.0325347222224,3697.0556597222276,3822.5392430555676,3916.9725625000056,4038.444034722237,4190.716562500005,4147.475840277784,4271.817624999993,4292.436826388899,4397.642458333344,4314.110743055566,4251.5422500000095,4257.083666666669,4360.948097222233,4352.541576388888,4497.84904166668,4645.982937500006,4814.051694444455,4789.4838611111145,5118.426236111121,5623.822618055564,5669.415138888888,5614.466243055559,5676.93398611111,5628.5360763888875,5406.75628472223,5657.374972222224,5792.046826388887,6077.725027777781,5914.378354166672,5873.824750000011,5665.297874999999,5551.693833333344,5829.773090277793,5826.165951388898,5751.94533333334,5886.918715277767,6126.0105902777705,6242.873284722232,6505.816208333334,6958.985854166686,7246.663069444426,7262.193326388893,7462.931597222234,7234.5377777777885,7108.413638888896,7394.267062500021,7251.18498611112,6969.190187500015,6563.83424305555,6126.291944444461,6356.168875000011,6596.734770833348,7052.240416666684,7465.822673611122,7834.699583333343,7703.120951388899,7829.208777777781,8094.926479166658,8163.577493055571,8199.208923611119,8179.837486111121,8173.242708333345,8433.083326388929,8979.36594444446,9562.756576388889,9839.232305555583,10417.827270833352,9906.492916666699,10208.906312500014,10947.026770833354,11301.72363888889,11358.368895833339,11664.881208333336,12589.972902777794,14799.556076388897,15467.606159722243,14834.436972222225,14165.287680555572,16221.261347222222,16752.798611111128,16560.56286805555,16363.92716666667,17382.70290972219,18188.779291666673,19204.55931250001,18738.923881944407,18343.253472222208,16866.888812499976,16249.790298611104,13810.352763888879,14798.320902777792,13685.86234027781,13990.388479166662,15266.987041666645,15606.402291666696,14277.564465277796,14560.693340277763,13240.878048611132,13362.244347222222,13444.47881862407,13898.50959027779,14984.43258333335,14839.287013888905,15811.529298611122,16682.817868055532,16533.214597222228,15324.14120833335,14890.456888888895,14217.571875000012,13726.543999999996,13682.749784722206,14240.432201388881,13695.509534722236,13836.908347222256,12195.939187500002,10711.763694444468,11521.092972222215,11534.51397222224,12487.755166666662,11914.098291666674,11152.600986111116,10745.001006944462,11022.01030555558,11314.07009027779,11025.381604166669,11251.109895833339,11685.561979166703,11295.875472222255,10643.058618055557,10000.22545833336,9513.210152777794,8578.805881944441,8925.726541666678,8736.752333333347,7631.074541666674,6852.2382152777955,7931.901944444447,8228.85956944446,8272.241527777785,8668.523736111121,8199.726999999988,8633.93515277778,8618.67049305558,9033.646423611142,9814.36863194447,10035.248743055567,10686.273638888923,10750.438250000027,10878.024041666675,11508.154611111124,10805.757013888877,10284.42815972223,10023.156479166675,9941.302986111124,9603.634062500023,9918.99076388895,10559.762618055596,10629.226326388909,10658.09109027781,10988.351680555592,11350.141854166692,11247.446250000019,11526.44918055558,11029.835555555564,10411.691006944464,9717.51347916668,8923.633229166679,9246.243541666676,9068.778881944441,9447.050493055574,9167.089979166678,8778.909902777794,8123.769263888894,8323.083777777783,8085.9901111111085,7689.204506944443,8364.63581944445,8630.017819444445,8989.331625000003,8798.831125000042,8535.923645833353,8863.646381944458,8541.425479166692,8214.389763888925,7973.039937500012,7922.148423611131,7526.144472222233,6898.211763888892,7012.083333333348,6804.024402777784,6983.087513888901,7330.286486111116,7082.896895833341,6763.537861111109,6653.700312500013,6895.285500000001,6991.879708333348,6896.944340277782,6783.87477083335,6883.600500000013,7342.933173611119,8000.939312500018,8017.417902777787,8220.122423611125,8086.099590277801,8041.759243055559,8061.578312500023,8217.903645833352,8450.221687500023,8806.308395833381,8894.065486111129,8900.101666666673,9320.151736111153,9231.41391666667,8890.321402777805,9222.707097222234,9246.310854166697,9361.574472222248,9296.16637500005,8993.87859722227,9116.972902777787,9385.463256944462,9662.157000000016,9834.038319444473,9620.86581250002,9349.816659722257,9266.177875000027,9197.651159722229,9270.781166666678,8708.5189652778,8429.958041666714,8555.28069444449,8588.344013888924,8649.222305555588,8289.181881944463,8284.143423611144,8112.271895833366,8260.252111111127,8366.500555555573,8460.254118055569,8238.436548611144,7792.117784722237,7544.797791666703,7492.068777777807,7493.784416666704,7321.285881944455,7259.8941875000055,7298.356312500006,7436.595729166664,7503.64647916668,7484.968763888911,7600.065020833373,7693.786513888945,7579.1773750000375,7495.363104166699,7609.429500000037,7695.859937500035,7632.986659722246,7632.801076388906,7139.147083333359,6764.810319444453,6758.05761111112,6448.252750000011,6506.228569444438,6554.983381944454,6465.416930555569,6511.178395833338,6526.019458333347,6721.314152777781,6683.655861111112,6739.3038263889,6364.852374999999,6138.641666666682,6028.738250000013,6206.731687500024,6205.436750000002,6099.300013888917,6084.809673611125,5907.820736111133,6367.698819444441,6353.394604166689,6456.7965763889115,6599.886416666688,6574.670708333338,6585.014319444484,6545.204722222223,6575.74148611112,6741.631722222229,6708.377680555583,6484.074888888893,6357.171847222226,6222.002819444463,6239.323659722274,6237.902638888924,6320.253340277824,6524.073631944485,6881.824486111119,7407.906750000018,7393.8476319444835,7424.375534722258,7350.291145833402,7451.216854166727,7683.205861111152,8076.5503888889125,8257.684638888904,8199.721694444457,8024.357548611116,8182.0267708333595,8204.759722222241,8137.373847222247,7918.693048611127,7573.362187500007,7592.889868055578,7397.235284722256,7251.457500000037,6997.8812083333805,6990.241756944484,6989.47193750004,6448.977416666707,6396.894055555574,6398.77766666667,6191.259548611105,6307.319847222228,6348.170312500019,6059.81938194444,6373.183395833331,6347.864576388876,6469.920770833346,6449.063395833343,6399.805930555564,6447.299534722257,6401.712173611139,6583.204000000015,6435.473215277802,6554.166645833349,6715.807201388911,6671.527652777805,6714.437159722231,6989.265395833338,7051.099118055567,6931.107423611107,6981.71414583335,7107.020812500005,7241.209569444461,7261.527243055569,7323.794819444436,7129.502979166684,6425.429611111119,6445.532743055598,6362.0428888889055,6291.486138888901,6288.8865208333345,6292.185756944451,6269.4985763889035,6442.330250000002,6502.035979166677,6519.918541666692,6485.105951388907,6399.827013888912,6297.302138888924,6338.19936805557,6413.217500000001,6661.276000000029,6707.394368055549,6707.820722222233,6639.419451388896,6415.18476388888,6462.540354166669,6522.15260416666,6666.957597222216,6541.773625000005,6578.541263888889,6576.070881944453,6542.870826388898,6448.472729166658,6548.270999999998,6545.419513888866,6556.9954513888815,6534.1160833333215,6587.619881944441,6588.123944444441,6517.790270833338,6216.214465277777,6202.392583333336,6196.8888125000185,6226.282958333335,6372.288791666665,6438.908111111105,6439.283374999986,6428.458027777764,6386.160958333332,6397.221458333342,6434.114840277771,6406.056222222215,6396.490097222221,6425.90485416668,6400.967305555563,6401.298229166674,6407.398659722189,6402.770013888882,6331.1410416666495,6265.176208333337,6278.122465277771,6310.96099999998,6352.4577500000005,6334.247479166646,6364.9184583333135,6405.220270833362,6413.461631944439,6507.698680555548,6450.352416666678,6366.710076388894,6355.606972222237,6340.01617361112,6351.818798611115,6291.139152777789,6024.407541666654,5499.079256944456,5532.455284722219,5486.068868055561,5534.8278680555695,5208.119437500007,4538.765430555555,4451.887423611119,4470.959631944447,4251.863138888885,4206.0028263888835,3762.183937500003,3855.6269999999927,3706.5157361111055,4061.1077013888985,4227.727472222221,4078.244222222228,4080.1432222222206,4122.8295555555715,3927.450194444445,3907.2629027777803,3804.833048611112,3697.9075833333272,3363.9212708333325,3387.111847222227,3469.55162499999,3470.5915763888843,3367.0774374999987,3398.6491111111077,3362.493916666664,3235.338340277776,3181.2412499999964,3217.877534722214,3334.9730138888895,3510.577930555556,3751.1737916666702,3927.17865972222,3976.3911527777705,3853.822090277776,3979.8731666666727,4128.156659722207,3776.2215972222225,3781.5536041666664,3719.752284722222,3702.7324583333434,3875.2276666666758,3789.480194444451,3758.7261666666736,3701.439492703261,3824.346951388883,3831.059736111112,3786.183326388891,3835.3545555555693,3875.708277777775,4024.0097083333317,4007.6478819444383,4011.7801944444395,3797.593361111121,3638.0016041666527,3627.227347222226,3581.5027152777766,3581.0827083333356,3642.493090277775,3604.598555555549,3604.0474375000003,3616.340951388884,3672.273576388892,3607.909305555559,3536.6398055555487,3552.6584861111146,3570.2160625,3554.6067986111116,3557.8094930555485,3571.781944444446,3546.238034722221,3439.2876041666714,3399.4902083333336,3423.794763888891,3425.49186805556,3417.0917638888814,3432.3041736111004,3425.858243055556,3414.652749999999,3419.796027777778,3372.2394236111045,3366.8419722222234,3452.6557083333323,3615.4595833333333,3608.6997708333424,3595.9636388888803,3578.7016249999997,3582.969305555561,3569.801381944446,3571.0423819444363,3588.1773333333367,3586.119555555552,3757.845444444438,3902.2101111111083,3911.92697916667,3907.5826180555528,3926.254874999997,3981.1906874999927,3991.4262222222187,3793.848062500007,3800.6557291666636,3796.2294236111125,3811.338291666668,3813.851812500006,3805.713576388884,3801.805243055555,3725.910729166665,3766.803215277777,3839.538701388884,3862.257479166664,3872.6964583333356,3890.7046250000067,3893.425354166662,3865.396826388892,3848.0150624999997,3854.0001944444402,3850.8919166666683,3878.2945277777767,3979.471173611099,3963.4687777777785,3970.214263888892,3977.657777777786,3996.1541388888922,4006.758826388878,3982.0057152777945,3981.1001458333467,3969.046583333339,3950.454708333338,3908.931770833332,3994.7543819444472,4009.773861111102,4058.2838541666733,4084.3150277777822,4088.6099999999906,4126.390034722221,4650.984513888893,5043.151319444445,4975.1930902777785,4983.156048611108,5045.1030208333395,5130.816479166665,5244.671458333329,5223.594368055553,5272.644618055559,5132.620472222223,5049.303916666665,5085.528555555555,5079.681770833331,5123.609861111113,5099.8772083333315,5220.060902777779,5265.18886111111,5260.249749999998,5314.2363541666655,5289.908229166667,5319.046006944445,5533.995645833328,5488.825812499998,5425.350958333335,5152.173548611111,5166.263291666667,5170.751965277776,5156.61954166666,5201.718763888883,5305.553583333334,5363.0896250000105,5620.523701388896,5697.4309027777745,5724.180701388887,5659.079999999995,5867.125347222227,5846.440499999999,6049.787111111108,6293.919374999998,6812.858298611094,7164.193013888891,7416.64936111111,8002.677388888891,8062.047534722234,8001.957340277786,7274.273777777776,7330.735888888878,7940.7931180555615,7914.30486111112,7958.524354166664,7896.129736111119,7708.254715277792,7988.139354166685,8050.319444444444,8133.118993055566,8791.690368055564,8732.224847222224,8652.926958333344,8639.281409722222,8357.650125000002,8548.009048611118,8674.311131944456,8538.445999999989,7860.478173611107,7778.773527777773,7756.085194444449,7942.261902777759,7944.291923611131,7803.105340277792,7823.704631944438,7900.335097222215,8040.3366041666695,8172.849493055546,8356.806361111112,8731.35675694445,9102.320097222208,9241.880604166681,9158.48717361112,9151.85204166665,9357.481937500008,9807.485694444451,10736.138965277796,10754.921465277765,10854.327069444453,11324.347958333337,12664.774180555563,11831.694958333335,11696.608590277765,11868.989249999991,11555.590083333322,10702.947097222237,10317.915527777794,11358.799284722234,11770.161270833347,11150.668152777771,11424.255243055555,11318.032312500016,11801.464263888878,12524.811083333352,12662.786201388892,11597.299708333325,11593.16406249998,11437.964624999995,10871.180881944443,10429.996194444439,10370.240500000018,9589.777208333344,10065.690340277788,10482.314826388885,10687.777131944418,10583.41990972224,10457.790465277782,10078.167555555574,9709.045138888896,10028.25271527776,9779.517618055563,9737.012083333333,9490.359222222232,9545.009479166692,9545.302750000008,9861.902347222236,10090.188840277753,10480.498590277779,10790.784243055572,10826.458631944433,11684.54036111112,11766.82002083334,11720.488055555566,11809.06479861112,11826.869694444425,11587.430131944431,11382.692562499975,11400.020444444463,11143.59679861111,10446.414750000016,10020.937472222204,10239.87599305554,10301.629631944437,10295.529694444444,10620.74363888891,10757.42153472224,10201.742458333338,10052.691437500016,10267.501972222222,10160.890249999991,10104.669208333326,10351.327548611114,10177.948236111117,10049.544659722227,9524.941048611132,9539.841111111125,9596.410645833317,9627.804749999981,9952.336159722223,10527.7177152778,10569.139763888892,10568.993993055545,10665.277784722233,10426.715236111135,10463.100534722233,10306.166215277786,10226.755784722227,10068.471916666673,10222.895388888877,10320.563909722228,10343.784805555568,10318.744965277783,10256.384812500011,10220.293930555576,10197.767541666679,9995.016055555561,10177.396381944456,10042.618826388903,9982.458784722232,9883.662062500009,9434.546444444448,8458.139722222237,8259.36330555558,8044.943930555555,8163.120701388921,8078.652951388887,8078.147729166673,8368.083618055543,8262.573118055569,8249.288652777783,8150.9758402777925,8111.509749999996,7984.460625000012,8045.505965277755,8213.489722222223,8343.137715277762,8564.174402777755,8403.732347222227,8336.814979166676,8361.426187500014,8311.510743055564,8267.74295138891,8068.004354166679,8035.5734444444715,7966.107027777776,7962.154743055562,8022.645277777788,8225.326041666714,8202.601805555561,7750.48904166668,7453.7075625000225,7886.664750000009,9333.138562500004,9420.419000000005,9484.563541666674,9390.317006944457,9199.617270833327,9178.378777777798,9159.353951388895,9284.492236111115,9222.15220833334,9260.79235416666,9348.212687500014,9339.173375000015,9241.21719444445,8985.788180555552,8812.633416666647,8893.348916666679,8801.286673611121,8738.248263888907,8751.48506944443,8659.288229166648,8543.665583333333,8472.72249305557,8517.246993055549,8383.588430555543,8119.600395833325,8102.103930555556,7852.597291666678,7350.775472222227,7247.487270833341,7151.491506944426,6970.573951388899,7146.482708333318,7258.162472222228,7527.165020833353,7616.597715277798,7657.913694444449,7357.400513888882,7313.296687500011,7322.123770833335,7281.822819444442,7333.589069444441,7408.937805555555,7535.677729166667,7498.454756944441,7464.817930555565,7303.674541666666,7213.426916666657,7175.197479166681,7229.297472222203,7166.999715277793,7092.312104166663,7036.4149444444765,6794.4599861111255,6777.216979166667,7152.864249999993,7154.076187500022,7150.452840277785,7229.940638888897,7508.256145833343,7299.881291666667,7213.651680555563,7223.652305555564,7194.867374999993,7301.127277777773,7347.188826388893,7300.163277777777,7201.281583333353,7197.780416956224,7075.311576388886,7221.728930555556,7324.154479166656,7432.580777777775,7536.965986111109,7935.058409722225,8242.104715277783,7902.779506944447,7892.934347222228,8117.133097222238,8114.341284722219,8105.290659722213,8581.454187500014,8749.501965277803,8678.901090277772,8858.805243055553,8895.96368749999,8852.363229166649,8648.285138888892,8649.541013888886,8668.557868055555,8440.147569444427,8387.344097222225,8325.18659722224,8433.12488888888,8728.26945138891,9048.314451388906,9336.96477777779,9376.808215277792,9347.843805555536,9377.013090277771,9382.439277777785,9335.667500000016,9208.4012986111,9408.177340277794,9695.675847222261,9781.961756944434,9817.62434722222,10085.89990972221,9928.406833333342,9963.59199305557,10350.005750000002,10293.618798611136,10268.148451388908,10149.204222222226,9911.751569444432,9727.651750000008,9852.834270833326,10105.414576388892,9587.769645833332,9694.720888888887,9663.45,9873.810402777752,9740.955854166683,9496.05284027776,9040.710409722224,8802.25807638888,8704.976909722225,8690.390902777764,8562.556722222216,8752.039340277777,8795.952006944444,8765.141534722217,9023.778118055554,9101.412763888886,9057.382333333337,8575.397874999982,7889.604506944437,7953.180958333348,7855.232361111106,6684.516298611108,5317.05849305556,5418.987361111109,5305.957222222217,4999.495520833334,5321.055347222228,5292.908326388895,5767.007055555545,6371.140895833338,6175.544194444435,6145.484486111114,6113.149451388892,6660.766409722218,6668.506611111109,6676.432534722225,6695.897479166657,6232.429798611124,6109.988138888894,6277.553256944448,6455.0448263888975,6311.969402777767,6729.212541666664,6818.5644374999965,6775.967284722224,6799.214826388892,7094.9970694444555,7322.629034722233,7306.056777777796,7308.23832638888,6980.134451388872,6873.897993055561,6950.070423611099,6755.530930555564,6887.639118055558,6804.53595833333,6917.091437500007,7075.080333333327,7154.926874999989,7170.174138888883,7056.322479166673,6870.183479166666,7002.681951388877,7297.855409722217,7524.491930555569,7546.66910416667,7603.3295555555815,7719.203625,7733.179916666683,8251.93413194444,8904.821854166656,8789.611972222236,8876.6106875,8985.426479166666,8777.520416666654,8935.726069444461,9167.973284722213,9497.698895833331,9930.949555555559,9732.895895833322,8698.383215277776,8717.226451388879,8780.085645833318,9050.729326388899,9584.020013888885,9531.290250000016,9407.95736111112,9628.953583333348,9727.39938194444,9675.734215277793,9677.265548611116,9286.783138888894,9129.601284722241,9209.699659722237,9127.582534722216,8824.386999999993,8863.464756944433,9030.709541666662,9324.422187500024,9458.330659722236,9510.720256944425,9550.521201388894,9588.977298611117,9886.342173611129,9554.947104166686,9703.497354166664,9746.226722222224,9638.515750000002,9624.314416666679,9728.55574305556,9715.591006944433,9790.846937500006,9648.667812500013,9414.014381944455,9428.57499305557,9406.14295833333,9248.859930555553,9496.65221527777,9446.048180555576,9409.100666666678,9329.641923611096,9304.01397916667,9350.734777777772,9483.75445138888,9640.843284722221,9444.027381944452,9235.120201388881,9184.623875000007,9110.359493055554,9057.617097222219,9118.577076388887,9153.121395833325,9193.887791666675,9169.168868055574,9095.448381944449,9092.469465277743,9065.887611111131,9214.589562499992,9270.879118055564,9347.606534722227,9331.634152777773,9201.584381944462,9240.171354166674,9250.989145833317,9280.09261111112,9221.963784722228,9223.3382638889,9133.921694444442,9135.995236111092,9162.78769444444,9155.875090277768,9178.897055555559,9309.283104166674,9367.095118055555,9543.294951388893,9559.296333333343,9621.71567361113,9836.74906944444,10443.567298611126,10993.196000000002,11101.296756944466,11037.765395833321,11200.56508333332,11614.885499999993,11341.204916666664,11258.922659722231,11247.987749999982,11469.587652777771,11759.880631944452,11721.053923611125,11688.079833333339,11675.500708333313,11904.877909722234,11638.713604166667,11468.112118055531,11555.393833333339,11758.938847222224,11880.906409722225,11853.98773611111,12060.656583333322,12170.01139583335,11803.210562499993,11802.58340277779,11748.613437499997,11563.055430555578,11623.043333333333,11736.769881944438,11513.616555555544,11406.470256944476,11350.685576388887,11446.252069444447,11509.952625000018,11611.48014583335,11688.412256944435,11879.205659722227,11582.395708333332,11047.470319444445,10398.837583333332,10277.25975694444,10205.957729166674,10164.910861111093,10153.518874999992,10191.548173611136,10343.527506944443,10305.970048611121,10375.32227083333,10398.468298611126,10514.589263888896,10777.248333333326,10898.71527083334,10895.85038888888,10927.89824305557,11013.659201388897,10918.583569444454,10681.288229166668,10470.768138888881,10435.413791666668,10445.794638888896,10673.992451388885,10717.930895833324,10718.85154166667,10880.890569444435,10731.455930555547,10743.431854166663,10759.088868055567,10531.82656944443,10551.061277777788,10606.20838888889,10706.996916666674,10702.283729166653,10623.068118055555,10736.3519861111,10984.423972222214,11339.305506944429,11361.863805555564,11449.609888888885,11453.28831944447,11408.348624999982,11417.311229166638,11367.867361111112,11345.639284722232,11431.424673611104,11584.596000000021,11848.409569444464,12465.675118055562,12938.556951388888,12937.152458333332,13032.200722222224,13059.10273611107,13071.529312500012,13367.909486111137,13452.050249999991,13336.669416666662,13442.496902777775,13743.186951388907,13771.736625000001,13602.856062500032,13618.47465972223,13906.91503472223,14739.704902777748,15593.955152777755,15354.471965277788,15205.855486111104,15391.79459722225,15333.378395833333,15600.203236111109,15937.402965277764,16297.991694444441,16035.968250000014,16001.58967361112,16379.259708333338,17092.5273611111,17901.161263888876,17854.343069444418,18347.060979166654,18720.90375694444,18443.22762499998,18437.037777777772,23675.64380558429,23279.318541666693,23114.079763888913,23550.34169444444,23234.803826388877,24030.779673611098,25282.40600694446,27071.94821527773,26984.362923611105,26689.382486111128,28164.193854166624,28903.074500000006,29305.83118137594,30788.244361111163,33507.97502777778,31903.705937500017,32314.15351388896,34947.4094861111,38118.92105555553,39873.2630972222,40436.382826388886,39778.41175000001,34379.03808333337,34900.24145833339,34721.27048611115,38547.503923611104,37517.044958333245,36881.23383333336,35684.27539583332,36074.983805555625,36887.764166666595,35189.04541666672,33001.55652083337,31904.046472222333,32381.18585416667,32248.626284722217,33384.35181250007,32030.58193055557,31185.82645833335,31822.345187499985,35117.287173611156,34090.66314583335,33475.11743055558,33736.32613194443,34741.63077083333,36598.04432638886,37573.00843055554,37653.26215972222,39841.941055555515,38740.06812500001,41238.52995833337,46736.134638888965,45842.192062499955,46315.24773611107,47642.44631250006,47304.491673611185,48625.875451388885,47899.17375694449,48886.441562500026,50950.937625000035,51921.534222222275,53119.35896527784,56309.93425694444,57071.52705555568,54782.24390972215,49081.28224305563,49858.74362500002,50038.5113611111,46725.26868750003,47169.465368055666,44867.87956249998,47680.59524305555,48655.663229166705,50464.364006944445,49446.98525694449,47759.07389583334,48398.051555555554,50240.16686805561,50829.381986111126,54013.59204166667,55415.84647222219,56315.794562499905,56867.7844652777,58831.68076388897,60490.39359722233,57565.239847222154,55388.02812499997,56200.458930555484,58511.486534722244,58319.59156249993,58807.7683055555,57344.76299999998,56828.09884027782,54741.99021527774,55177.58659722225,52171.44061805556,53273.15984027773,55218.550423611174,55858.20827083339,56942.494305555505,58371.03670138888,58739.57374305558,58901.150006944416,59294.23370138888,58956.532131944434,57745.7735277778,58114.702020833334,58483.31265277784,57009.49666666665,57203.31668749997,58227.452,59885.74169444443,59798.09465972221,60115.18152083337,62209.028215277714,63521.59843750001,62950.34759722221,61795.25837499996,61362.87018055554,56146.43648611115,56451.05687499997,55577.410465277775,55486.7666666667,53856.27985416671,49931.25507638891,50106.7229861111,49679.52471527779,53077.10326388895,54630.7565763888,54828.676006944384,53920.38957638896,55329.483458333445,57833.06263888899,56888.791194444304,57957.457569444385,55340.330097222315,55944.32982638891,57015.12716666666,56867.87173611107,58581.9401527777,58022.31739583328,57802.12347916673,55913.467743055546,55973.30754166667,49915.28528472225,50232.71828472225,48896.83025694449,47765.56641666672,44368.35060416664,44238.974347222276,39201.59518055553,39947.06643055555,39186.76249305559,37557.86648611106,35115.19359027781,37074.78049999999,38125.15797916663,39295.912951388855,38845.405499999964,36653.30681944442,35296.03359027778,35513.33024305554,36192.82931944438,36606.17668749998,37303.78053472228,38555.744034722244,37122.86092361116,36617.824138888885,35981.792159722216,35911.25697916672,32919.2102638889,34907.84386805558,37037.88086111109,37029.79164583341,35747.26213888884,36411.68152083336,39703.525611111094,40243.07887499996,39441.98043055555,38627.153111111096,37019.67990277783,35779.886722222276,35090.8276527778,33182.39495138884,32049.711750000002,33785.7380138889,33776.30577083333,33401.17727777773,31514.91591666674,33077.41501388886,34496.05929861109,35581.90007638886,34948.73447222222,33745.38402777775,33310.6916597222,34320.63913194444,35293.958104166675,34116.24563194449,34177.276354166686,34575.70920833337,32918.187652777764,33192.15881249997,33721.98965972223,33811.681451388904,33709.41037500002,32863.47940277778,32502.89209027776,32113.16432638885,31766.15561805553,31571.64112500003,31780.633854166692,31189.085166666668,29848.8000763889,31211.721500000025,32149.410444444464,32503.678624999957,33891.267743055454,34405.26289583339,38362.108652777766,37725.77162499997,39905.19675000003,39886.62025,39660.72637499993,41661.67496527785,41504.09923611117,39623.996354166644,38481.40088194438,38730.33979861106,39457.24105555565,41391.43411111117,43601.22718055555,44385.95070138882,44937.818090277804,45626.074555555526,46113.79102083335,44954.770229166745,46235.47345833329,47142.3226736111,46464.442736111094,46947.94245138887,45995.5591805556,45169.20523611112,45241.81519444444,47798.889083333386,49070.27958333331,48921.155326388856,49910.33993750011,48933.527312499944,48287.92540972217,47375.88552083335,47767.55818055558,48918.50572916659,48684.4312500001,48107.89968055561,47330.67429861113,47710.23650694438,49689.12265972217,49933.08620833331,50096.33614583338,50379.735486111065,51805.24600694456,50013.691930555535,46334.92647916672,46447.80188888887,45949.99504861115,45392.34813888886,45657.571138888896,44834.0176736112,46074.691881944425,47608.031743055704,47919.94410416668,47599.48973611118,48256.787909722225,47746.76273611101,44661.60027777781,42488.452868055596,42604.961993055615,44124.97288194441,43168.237298611086,42617.75416666666,42826.6226180555,43547.45802777778,41958.69346527779,41844.54721527781,43290.19040972226,46096.16452777775,47863.856659722194,48045.78711111116,48191.182437500036,50107.72237500006,52958.888986111146,54392.26749999996,54485.992180555564,54764.13903472224,55189.70081249994,56739.73065277787,56656.22074305555,56079.70086111117,57669.534458333226,59922.89347222225,61301.0826875,60868.63765972225,61832.40592361105,62769.4063888889,64987.8966250001,64373.86648611114,62212.98411111112,61112.41908333337,60733.261118055416,62632.45743750006,62330.683777777755,59546.401291666676,60292.82265972225,61613.59236111112,61641.1216875,61131.52604166659,61318.697687500004,62579.16508333334,62885.824125000014,61883.04323611102,61553.99930555553,61009.309090277886,62155.629645833455,65831.34397222228,67560.92593055552,66908.1081805556,64957.39099305555,64216.663187499864,64069.45443055545,64497.27929861118,65125.832208333224,60856.040194444526,59929.96051388889,59061.11000694435,57264.62517361109,58737.22414583335,59186.85679861105,57409.000930555565,56956.872416666556,56787.48583333336,58302.41481249998,55727.00647222223,54711.32582638888,54651.77400000004,57638.818729166705,57402.44554166667,57438.85757638891,56736.76345833338,55906.16522222228,49100.84020833332,49181.91145138888,48892.75725694451,51048.16590277772,50349.45213194442,49105.228361111054,48281.56013888888,48508.02984722212,49612.62134722229,48236.639520833385,47232.42643749998,48160.64273611111,48614.827520833394,47103.142368055516,46653.75675000003,47212.06213194441,46452.76813888896,48444.611805555636,49009.66874999994,49121.171159722304,51080.078020833316,50873.204201388915,50190.07585416663,51101.8838194443,48891.628722222245,47607.67793055551,47123.8593125001,47312.6775625,47139.582958333274,47262.618048611075,46838.2622777778,46449.7819375,45901.61399999993,43116.51953472221,42023.69476388883,41731.52477083329,41925.567993055534,41641.767708333326,42233.641895833345,43222.535444444395,43454.17375694448,42782.02797916668,43161.37113888893,43124.68295833343,42564.93195138894,41959.28761111117,41935.18706944446,42231.852236111015,38701.795993055566,35540.28698611114,35457.659756944406,35144.68645138886,36543.88928472221,37544.200145833325,36390.901243055545,37081.40788194444,37852.794368055496,37977.40280555571,37590.43668055562,38596.437090277774,38074.960027777786,36836.25310416669,38705.11770138894,41557.30029166668,41633.78565972208,43154.165055555655,43909.90994444442,43977.592284722254,44382.082902777736,43216.410784722204,42360.48556944448,42364.80797916672,42262.750708333326,43919.6327430555,44027.82821527778,42675.10829861112,40438.88202083333,40092.38277083324,38773.545458333225,38530.60181944451,37443.867881944396,38247.15681944445,36175.74539583336,38860.57629166664,39247.22109722227,38735.41902777775,39444.92972916666,43287.12201793723],\"yaxis\":\"y\",\"type\":\"scattergl\"},{\"hovertemplate\":\"variable=mean_low<br>date=%{x}<br>Stock value=%{y}<extra></extra>\",\"legendgroup\":\"mean_low\",\"line\":{\"color\":\"#ab63fa\",\"dash\":\"solid\"},\"marker\":{\"symbol\":\"circle\"},\"mode\":\"lines\",\"name\":\"Stock Low Price\",\"showlegend\":true,\"x\":[\"2017-01-01\",\"2017-01-02\",\"2017-01-03\",\"2017-01-04\",\"2017-01-05\",\"2017-01-06\",\"2017-01-07\",\"2017-01-08\",\"2017-01-09\",\"2017-01-10\",\"2017-01-11\",\"2017-01-12\",\"2017-01-13\",\"2017-01-14\",\"2017-01-15\",\"2017-01-16\",\"2017-01-17\",\"2017-01-18\",\"2017-01-19\",\"2017-01-20\",\"2017-01-21\",\"2017-01-22\",\"2017-01-23\",\"2017-01-24\",\"2017-01-25\",\"2017-01-26\",\"2017-01-27\",\"2017-01-28\",\"2017-01-29\",\"2017-01-30\",\"2017-01-31\",\"2017-02-01\",\"2017-02-02\",\"2017-02-03\",\"2017-02-04\",\"2017-02-05\",\"2017-02-06\",\"2017-02-07\",\"2017-02-08\",\"2017-02-09\",\"2017-02-10\",\"2017-02-11\",\"2017-02-12\",\"2017-02-13\",\"2017-02-14\",\"2017-02-15\",\"2017-02-16\",\"2017-02-17\",\"2017-02-18\",\"2017-02-19\",\"2017-02-20\",\"2017-02-21\",\"2017-02-22\",\"2017-02-23\",\"2017-02-24\",\"2017-02-25\",\"2017-02-26\",\"2017-02-27\",\"2017-02-28\",\"2017-03-01\",\"2017-03-02\",\"2017-03-03\",\"2017-03-04\",\"2017-03-05\",\"2017-03-06\",\"2017-03-07\",\"2017-03-08\",\"2017-03-09\",\"2017-03-10\",\"2017-03-11\",\"2017-03-12\",\"2017-03-13\",\"2017-03-14\",\"2017-03-15\",\"2017-03-16\",\"2017-03-17\",\"2017-03-18\",\"2017-03-19\",\"2017-03-20\",\"2017-03-21\",\"2017-03-22\",\"2017-03-23\",\"2017-03-24\",\"2017-03-25\",\"2017-03-26\",\"2017-03-27\",\"2017-03-28\",\"2017-03-29\",\"2017-03-30\",\"2017-03-31\",\"2017-04-01\",\"2017-04-02\",\"2017-04-03\",\"2017-04-04\",\"2017-04-05\",\"2017-04-06\",\"2017-04-07\",\"2017-04-08\",\"2017-04-09\",\"2017-04-10\",\"2017-04-11\",\"2017-04-12\",\"2017-04-13\",\"2017-04-14\",\"2017-04-15\",\"2017-04-16\",\"2017-04-17\",\"2017-04-18\",\"2017-04-19\",\"2017-04-20\",\"2017-04-21\",\"2017-04-22\",\"2017-04-23\",\"2017-04-24\",\"2017-04-25\",\"2017-04-26\",\"2017-04-27\",\"2017-04-28\",\"2017-04-29\",\"2017-04-30\",\"2017-05-01\",\"2017-05-02\",\"2017-05-03\",\"2017-05-04\",\"2017-05-05\",\"2017-05-06\",\"2017-05-07\",\"2017-05-08\",\"2017-05-09\",\"2017-05-10\",\"2017-05-11\",\"2017-05-12\",\"2017-05-13\",\"2017-05-14\",\"2017-05-15\",\"2017-05-16\",\"2017-05-17\",\"2017-05-18\",\"2017-05-19\",\"2017-05-20\",\"2017-05-21\",\"2017-05-22\",\"2017-05-23\",\"2017-05-24\",\"2017-05-25\",\"2017-05-26\",\"2017-05-27\",\"2017-05-28\",\"2017-05-29\",\"2017-05-30\",\"2017-05-31\",\"2017-06-01\",\"2017-06-02\",\"2017-06-03\",\"2017-06-04\",\"2017-06-05\",\"2017-06-06\",\"2017-06-07\",\"2017-06-08\",\"2017-06-09\",\"2017-06-10\",\"2017-06-11\",\"2017-06-12\",\"2017-06-13\",\"2017-06-14\",\"2017-06-15\",\"2017-06-16\",\"2017-06-17\",\"2017-06-18\",\"2017-06-19\",\"2017-06-20\",\"2017-06-21\",\"2017-06-22\",\"2017-06-23\",\"2017-06-24\",\"2017-06-25\",\"2017-06-26\",\"2017-06-27\",\"2017-06-28\",\"2017-06-29\",\"2017-06-30\",\"2017-07-01\",\"2017-07-02\",\"2017-07-03\",\"2017-07-04\",\"2017-07-05\",\"2017-07-06\",\"2017-07-07\",\"2017-07-08\",\"2017-07-09\",\"2017-07-10\",\"2017-07-11\",\"2017-07-12\",\"2017-07-13\",\"2017-07-14\",\"2017-07-15\",\"2017-07-16\",\"2017-07-17\",\"2017-07-18\",\"2017-07-19\",\"2017-07-20\",\"2017-07-21\",\"2017-07-22\",\"2017-07-23\",\"2017-07-24\",\"2017-07-25\",\"2017-07-26\",\"2017-07-27\",\"2017-07-28\",\"2017-07-29\",\"2017-07-30\",\"2017-07-31\",\"2017-08-01\",\"2017-08-02\",\"2017-08-03\",\"2017-08-04\",\"2017-08-05\",\"2017-08-06\",\"2017-08-07\",\"2017-08-08\",\"2017-08-09\",\"2017-08-10\",\"2017-08-11\",\"2017-08-12\",\"2017-08-13\",\"2017-08-14\",\"2017-08-15\",\"2017-08-16\",\"2017-08-17\",\"2017-08-18\",\"2017-08-19\",\"2017-08-20\",\"2017-08-21\",\"2017-08-22\",\"2017-08-23\",\"2017-08-24\",\"2017-08-25\",\"2017-08-26\",\"2017-08-27\",\"2017-08-28\",\"2017-08-29\",\"2017-08-30\",\"2017-08-31\",\"2017-09-01\",\"2017-09-02\",\"2017-09-03\",\"2017-09-04\",\"2017-09-05\",\"2017-09-06\",\"2017-09-07\",\"2017-09-08\",\"2017-09-09\",\"2017-09-10\",\"2017-09-11\",\"2017-09-12\",\"2017-09-13\",\"2017-09-14\",\"2017-09-15\",\"2017-09-16\",\"2017-09-17\",\"2017-09-18\",\"2017-09-19\",\"2017-09-20\",\"2017-09-21\",\"2017-09-22\",\"2017-09-23\",\"2017-09-24\",\"2017-09-25\",\"2017-09-26\",\"2017-09-27\",\"2017-09-28\",\"2017-09-29\",\"2017-09-30\",\"2017-10-01\",\"2017-10-02\",\"2017-10-03\",\"2017-10-04\",\"2017-10-05\",\"2017-10-06\",\"2017-10-07\",\"2017-10-08\",\"2017-10-09\",\"2017-10-10\",\"2017-10-11\",\"2017-10-12\",\"2017-10-13\",\"2017-10-14\",\"2017-10-15\",\"2017-10-16\",\"2017-10-17\",\"2017-10-18\",\"2017-10-19\",\"2017-10-20\",\"2017-10-21\",\"2017-10-22\",\"2017-10-23\",\"2017-10-24\",\"2017-10-25\",\"2017-10-26\",\"2017-10-27\",\"2017-10-28\",\"2017-10-29\",\"2017-10-30\",\"2017-10-31\",\"2017-11-01\",\"2017-11-02\",\"2017-11-03\",\"2017-11-04\",\"2017-11-05\",\"2017-11-06\",\"2017-11-07\",\"2017-11-08\",\"2017-11-09\",\"2017-11-10\",\"2017-11-11\",\"2017-11-12\",\"2017-11-13\",\"2017-11-14\",\"2017-11-15\",\"2017-11-16\",\"2017-11-17\",\"2017-11-18\",\"2017-11-19\",\"2017-11-20\",\"2017-11-21\",\"2017-11-22\",\"2017-11-23\",\"2017-11-24\",\"2017-11-25\",\"2017-11-26\",\"2017-11-27\",\"2017-11-28\",\"2017-11-29\",\"2017-11-30\",\"2017-12-01\",\"2017-12-02\",\"2017-12-03\",\"2017-12-04\",\"2017-12-05\",\"2017-12-06\",\"2017-12-07\",\"2017-12-08\",\"2017-12-09\",\"2017-12-10\",\"2017-12-11\",\"2017-12-12\",\"2017-12-13\",\"2017-12-14\",\"2017-12-15\",\"2017-12-16\",\"2017-12-17\",\"2017-12-18\",\"2017-12-19\",\"2017-12-20\",\"2017-12-21\",\"2017-12-22\",\"2017-12-23\",\"2017-12-24\",\"2017-12-25\",\"2017-12-26\",\"2017-12-27\",\"2017-12-28\",\"2017-12-29\",\"2017-12-30\",\"2017-12-31\",\"2018-01-01\",\"2018-01-02\",\"2018-01-03\",\"2018-01-04\",\"2018-01-05\",\"2018-01-06\",\"2018-01-07\",\"2018-01-08\",\"2018-01-09\",\"2018-01-10\",\"2018-01-11\",\"2018-01-12\",\"2018-01-13\",\"2018-01-14\",\"2018-01-15\",\"2018-01-16\",\"2018-01-17\",\"2018-01-18\",\"2018-01-19\",\"2018-01-20\",\"2018-01-21\",\"2018-01-22\",\"2018-01-23\",\"2018-01-24\",\"2018-01-25\",\"2018-01-26\",\"2018-01-27\",\"2018-01-28\",\"2018-01-29\",\"2018-01-30\",\"2018-01-31\",\"2018-02-01\",\"2018-02-02\",\"2018-02-03\",\"2018-02-04\",\"2018-02-05\",\"2018-02-06\",\"2018-02-07\",\"2018-02-08\",\"2018-02-09\",\"2018-02-10\",\"2018-02-11\",\"2018-02-12\",\"2018-02-13\",\"2018-02-14\",\"2018-02-15\",\"2018-02-16\",\"2018-02-17\",\"2018-02-18\",\"2018-02-19\",\"2018-02-20\",\"2018-02-21\",\"2018-02-22\",\"2018-02-23\",\"2018-02-24\",\"2018-02-25\",\"2018-02-26\",\"2018-02-27\",\"2018-02-28\",\"2018-03-01\",\"2018-03-02\",\"2018-03-03\",\"2018-03-04\",\"2018-03-05\",\"2018-03-06\",\"2018-03-07\",\"2018-03-08\",\"2018-03-09\",\"2018-03-10\",\"2018-03-11\",\"2018-03-12\",\"2018-03-13\",\"2018-03-14\",\"2018-03-15\",\"2018-03-16\",\"2018-03-17\",\"2018-03-18\",\"2018-03-19\",\"2018-03-20\",\"2018-03-21\",\"2018-03-22\",\"2018-03-23\",\"2018-03-24\",\"2018-03-25\",\"2018-03-26\",\"2018-03-27\",\"2018-03-28\",\"2018-03-29\",\"2018-03-30\",\"2018-03-31\",\"2018-04-01\",\"2018-04-02\",\"2018-04-03\",\"2018-04-04\",\"2018-04-05\",\"2018-04-06\",\"2018-04-07\",\"2018-04-08\",\"2018-04-09\",\"2018-04-10\",\"2018-04-11\",\"2018-04-12\",\"2018-04-13\",\"2018-04-14\",\"2018-04-15\",\"2018-04-16\",\"2018-04-17\",\"2018-04-18\",\"2018-04-19\",\"2018-04-20\",\"2018-04-21\",\"2018-04-22\",\"2018-04-23\",\"2018-04-24\",\"2018-04-25\",\"2018-04-26\",\"2018-04-27\",\"2018-04-28\",\"2018-04-29\",\"2018-04-30\",\"2018-05-01\",\"2018-05-02\",\"2018-05-03\",\"2018-05-04\",\"2018-05-05\",\"2018-05-06\",\"2018-05-07\",\"2018-05-08\",\"2018-05-09\",\"2018-05-10\",\"2018-05-11\",\"2018-05-12\",\"2018-05-13\",\"2018-05-14\",\"2018-05-15\",\"2018-05-16\",\"2018-05-17\",\"2018-05-18\",\"2018-05-19\",\"2018-05-20\",\"2018-05-21\",\"2018-05-22\",\"2018-05-23\",\"2018-05-24\",\"2018-05-25\",\"2018-05-26\",\"2018-05-27\",\"2018-05-28\",\"2018-05-29\",\"2018-05-30\",\"2018-05-31\",\"2018-06-01\",\"2018-06-02\",\"2018-06-03\",\"2018-06-04\",\"2018-06-05\",\"2018-06-06\",\"2018-06-07\",\"2018-06-08\",\"2018-06-09\",\"2018-06-10\",\"2018-06-11\",\"2018-06-12\",\"2018-06-13\",\"2018-06-14\",\"2018-06-15\",\"2018-06-16\",\"2018-06-17\",\"2018-06-18\",\"2018-06-19\",\"2018-06-20\",\"2018-06-21\",\"2018-06-22\",\"2018-06-23\",\"2018-06-24\",\"2018-06-25\",\"2018-06-26\",\"2018-06-27\",\"2018-06-28\",\"2018-06-29\",\"2018-06-30\",\"2018-07-01\",\"2018-07-02\",\"2018-07-03\",\"2018-07-04\",\"2018-07-05\",\"2018-07-06\",\"2018-07-07\",\"2018-07-08\",\"2018-07-09\",\"2018-07-10\",\"2018-07-11\",\"2018-07-12\",\"2018-07-13\",\"2018-07-14\",\"2018-07-15\",\"2018-07-16\",\"2018-07-17\",\"2018-07-18\",\"2018-07-19\",\"2018-07-20\",\"2018-07-21\",\"2018-07-22\",\"2018-07-23\",\"2018-07-24\",\"2018-07-25\",\"2018-07-26\",\"2018-07-27\",\"2018-07-28\",\"2018-07-29\",\"2018-07-30\",\"2018-07-31\",\"2018-08-01\",\"2018-08-02\",\"2018-08-03\",\"2018-08-04\",\"2018-08-05\",\"2018-08-06\",\"2018-08-07\",\"2018-08-08\",\"2018-08-09\",\"2018-08-10\",\"2018-08-11\",\"2018-08-12\",\"2018-08-13\",\"2018-08-14\",\"2018-08-15\",\"2018-08-16\",\"2018-08-17\",\"2018-08-18\",\"2018-08-19\",\"2018-08-20\",\"2018-08-21\",\"2018-08-22\",\"2018-08-23\",\"2018-08-24\",\"2018-08-25\",\"2018-08-26\",\"2018-08-27\",\"2018-08-28\",\"2018-08-29\",\"2018-08-30\",\"2018-08-31\",\"2018-09-01\",\"2018-09-02\",\"2018-09-03\",\"2018-09-04\",\"2018-09-05\",\"2018-09-06\",\"2018-09-07\",\"2018-09-08\",\"2018-09-09\",\"2018-09-10\",\"2018-09-11\",\"2018-09-12\",\"2018-09-13\",\"2018-09-14\",\"2018-09-15\",\"2018-09-16\",\"2018-09-17\",\"2018-09-18\",\"2018-09-19\",\"2018-09-20\",\"2018-09-21\",\"2018-09-22\",\"2018-09-23\",\"2018-09-24\",\"2018-09-25\",\"2018-09-26\",\"2018-09-27\",\"2018-09-28\",\"2018-09-29\",\"2018-09-30\",\"2018-10-01\",\"2018-10-02\",\"2018-10-03\",\"2018-10-04\",\"2018-10-05\",\"2018-10-06\",\"2018-10-07\",\"2018-10-08\",\"2018-10-09\",\"2018-10-10\",\"2018-10-11\",\"2018-10-12\",\"2018-10-13\",\"2018-10-14\",\"2018-10-15\",\"2018-10-16\",\"2018-10-17\",\"2018-10-18\",\"2018-10-19\",\"2018-10-20\",\"2018-10-21\",\"2018-10-22\",\"2018-10-23\",\"2018-10-24\",\"2018-10-25\",\"2018-10-26\",\"2018-10-27\",\"2018-10-28\",\"2018-10-29\",\"2018-10-30\",\"2018-10-31\",\"2018-11-01\",\"2018-11-02\",\"2018-11-03\",\"2018-11-04\",\"2018-11-05\",\"2018-11-06\",\"2018-11-07\",\"2018-11-08\",\"2018-11-09\",\"2018-11-10\",\"2018-11-11\",\"2018-11-12\",\"2018-11-13\",\"2018-11-14\",\"2018-11-15\",\"2018-11-16\",\"2018-11-17\",\"2018-11-18\",\"2018-11-19\",\"2018-11-20\",\"2018-11-21\",\"2018-11-22\",\"2018-11-23\",\"2018-11-24\",\"2018-11-25\",\"2018-11-26\",\"2018-11-27\",\"2018-11-28\",\"2018-11-29\",\"2018-11-30\",\"2018-12-01\",\"2018-12-02\",\"2018-12-03\",\"2018-12-04\",\"2018-12-05\",\"2018-12-06\",\"2018-12-07\",\"2018-12-08\",\"2018-12-09\",\"2018-12-10\",\"2018-12-11\",\"2018-12-12\",\"2018-12-13\",\"2018-12-14\",\"2018-12-15\",\"2018-12-16\",\"2018-12-17\",\"2018-12-18\",\"2018-12-19\",\"2018-12-20\",\"2018-12-21\",\"2018-12-22\",\"2018-12-23\",\"2018-12-24\",\"2018-12-25\",\"2018-12-26\",\"2018-12-27\",\"2018-12-28\",\"2018-12-29\",\"2018-12-30\",\"2018-12-31\",\"2019-01-01\",\"2019-01-02\",\"2019-01-03\",\"2019-01-04\",\"2019-01-05\",\"2019-01-06\",\"2019-01-07\",\"2019-01-08\",\"2019-01-09\",\"2019-01-10\",\"2019-01-11\",\"2019-01-12\",\"2019-01-13\",\"2019-01-14\",\"2019-01-15\",\"2019-01-16\",\"2019-01-17\",\"2019-01-18\",\"2019-01-19\",\"2019-01-20\",\"2019-01-21\",\"2019-01-22\",\"2019-01-23\",\"2019-01-24\",\"2019-01-25\",\"2019-01-26\",\"2019-01-27\",\"2019-01-28\",\"2019-01-29\",\"2019-01-30\",\"2019-01-31\",\"2019-02-01\",\"2019-02-02\",\"2019-02-03\",\"2019-02-04\",\"2019-02-05\",\"2019-02-06\",\"2019-02-07\",\"2019-02-08\",\"2019-02-09\",\"2019-02-10\",\"2019-02-11\",\"2019-02-12\",\"2019-02-13\",\"2019-02-14\",\"2019-02-15\",\"2019-02-16\",\"2019-02-17\",\"2019-02-18\",\"2019-02-19\",\"2019-02-20\",\"2019-02-21\",\"2019-02-22\",\"2019-02-23\",\"2019-02-24\",\"2019-02-25\",\"2019-02-26\",\"2019-02-27\",\"2019-02-28\",\"2019-03-01\",\"2019-03-02\",\"2019-03-03\",\"2019-03-04\",\"2019-03-05\",\"2019-03-06\",\"2019-03-07\",\"2019-03-08\",\"2019-03-09\",\"2019-03-10\",\"2019-03-11\",\"2019-03-12\",\"2019-03-13\",\"2019-03-14\",\"2019-03-15\",\"2019-03-16\",\"2019-03-17\",\"2019-03-18\",\"2019-03-19\",\"2019-03-20\",\"2019-03-21\",\"2019-03-22\",\"2019-03-23\",\"2019-03-24\",\"2019-03-25\",\"2019-03-26\",\"2019-03-27\",\"2019-03-28\",\"2019-03-29\",\"2019-03-30\",\"2019-03-31\",\"2019-04-01\",\"2019-04-02\",\"2019-04-03\",\"2019-04-04\",\"2019-04-05\",\"2019-04-06\",\"2019-04-07\",\"2019-04-08\",\"2019-04-09\",\"2019-04-10\",\"2019-04-11\",\"2019-04-12\",\"2019-04-13\",\"2019-04-14\",\"2019-04-15\",\"2019-04-16\",\"2019-04-17\",\"2019-04-18\",\"2019-04-19\",\"2019-04-20\",\"2019-04-21\",\"2019-04-22\",\"2019-04-23\",\"2019-04-24\",\"2019-04-25\",\"2019-04-26\",\"2019-04-27\",\"2019-04-28\",\"2019-04-29\",\"2019-04-30\",\"2019-05-01\",\"2019-05-02\",\"2019-05-03\",\"2019-05-04\",\"2019-05-05\",\"2019-05-06\",\"2019-05-07\",\"2019-05-08\",\"2019-05-09\",\"2019-05-10\",\"2019-05-11\",\"2019-05-12\",\"2019-05-13\",\"2019-05-14\",\"2019-05-15\",\"2019-05-16\",\"2019-05-17\",\"2019-05-18\",\"2019-05-19\",\"2019-05-20\",\"2019-05-21\",\"2019-05-22\",\"2019-05-23\",\"2019-05-24\",\"2019-05-25\",\"2019-05-26\",\"2019-05-27\",\"2019-05-28\",\"2019-05-29\",\"2019-05-30\",\"2019-05-31\",\"2019-06-01\",\"2019-06-02\",\"2019-06-03\",\"2019-06-04\",\"2019-06-05\",\"2019-06-06\",\"2019-06-07\",\"2019-06-08\",\"2019-06-09\",\"2019-06-10\",\"2019-06-11\",\"2019-06-12\",\"2019-06-13\",\"2019-06-14\",\"2019-06-15\",\"2019-06-16\",\"2019-06-17\",\"2019-06-18\",\"2019-06-19\",\"2019-06-20\",\"2019-06-21\",\"2019-06-22\",\"2019-06-23\",\"2019-06-24\",\"2019-06-25\",\"2019-06-26\",\"2019-06-27\",\"2019-06-28\",\"2019-06-29\",\"2019-06-30\",\"2019-07-01\",\"2019-07-02\",\"2019-07-03\",\"2019-07-04\",\"2019-07-05\",\"2019-07-06\",\"2019-07-07\",\"2019-07-08\",\"2019-07-09\",\"2019-07-10\",\"2019-07-11\",\"2019-07-12\",\"2019-07-13\",\"2019-07-14\",\"2019-07-15\",\"2019-07-16\",\"2019-07-17\",\"2019-07-18\",\"2019-07-19\",\"2019-07-20\",\"2019-07-21\",\"2019-07-22\",\"2019-07-23\",\"2019-07-24\",\"2019-07-25\",\"2019-07-26\",\"2019-07-27\",\"2019-07-28\",\"2019-07-29\",\"2019-07-30\",\"2019-07-31\",\"2019-08-01\",\"2019-08-02\",\"2019-08-03\",\"2019-08-04\",\"2019-08-05\",\"2019-08-06\",\"2019-08-07\",\"2019-08-08\",\"2019-08-09\",\"2019-08-10\",\"2019-08-11\",\"2019-08-12\",\"2019-08-13\",\"2019-08-14\",\"2019-08-15\",\"2019-08-16\",\"2019-08-17\",\"2019-08-18\",\"2019-08-19\",\"2019-08-20\",\"2019-08-21\",\"2019-08-22\",\"2019-08-23\",\"2019-08-24\",\"2019-08-25\",\"2019-08-26\",\"2019-08-27\",\"2019-08-28\",\"2019-08-29\",\"2019-08-30\",\"2019-08-31\",\"2019-09-01\",\"2019-09-02\",\"2019-09-03\",\"2019-09-04\",\"2019-09-05\",\"2019-09-06\",\"2019-09-07\",\"2019-09-08\",\"2019-09-09\",\"2019-09-10\",\"2019-09-11\",\"2019-09-12\",\"2019-09-13\",\"2019-09-14\",\"2019-09-15\",\"2019-09-16\",\"2019-09-17\",\"2019-09-18\",\"2019-09-19\",\"2019-09-20\",\"2019-09-21\",\"2019-09-22\",\"2019-09-23\",\"2019-09-24\",\"2019-09-25\",\"2019-09-26\",\"2019-09-27\",\"2019-09-28\",\"2019-09-29\",\"2019-09-30\",\"2019-10-01\",\"2019-10-02\",\"2019-10-03\",\"2019-10-04\",\"2019-10-05\",\"2019-10-06\",\"2019-10-07\",\"2019-10-08\",\"2019-10-09\",\"2019-10-10\",\"2019-10-11\",\"2019-10-12\",\"2019-10-13\",\"2019-10-14\",\"2019-10-15\",\"2019-10-16\",\"2019-10-17\",\"2019-10-18\",\"2019-10-19\",\"2019-10-20\",\"2019-10-21\",\"2019-10-22\",\"2019-10-23\",\"2019-10-24\",\"2019-10-25\",\"2019-10-26\",\"2019-10-27\",\"2019-10-28\",\"2019-10-29\",\"2019-10-30\",\"2019-10-31\",\"2019-11-01\",\"2019-11-02\",\"2019-11-03\",\"2019-11-04\",\"2019-11-05\",\"2019-11-06\",\"2019-11-07\",\"2019-11-08\",\"2019-11-09\",\"2019-11-10\",\"2019-11-11\",\"2019-11-12\",\"2019-11-13\",\"2019-11-14\",\"2019-11-15\",\"2019-11-16\",\"2019-11-17\",\"2019-11-18\",\"2019-11-19\",\"2019-11-20\",\"2019-11-21\",\"2019-11-22\",\"2019-11-23\",\"2019-11-24\",\"2019-11-25\",\"2019-11-26\",\"2019-11-27\",\"2019-11-28\",\"2019-11-29\",\"2019-11-30\",\"2019-12-01\",\"2019-12-02\",\"2019-12-03\",\"2019-12-04\",\"2019-12-05\",\"2019-12-06\",\"2019-12-07\",\"2019-12-08\",\"2019-12-09\",\"2019-12-10\",\"2019-12-11\",\"2019-12-12\",\"2019-12-13\",\"2019-12-14\",\"2019-12-15\",\"2019-12-16\",\"2019-12-17\",\"2019-12-18\",\"2019-12-19\",\"2019-12-20\",\"2019-12-21\",\"2019-12-22\",\"2019-12-23\",\"2019-12-24\",\"2019-12-25\",\"2019-12-26\",\"2019-12-27\",\"2019-12-28\",\"2019-12-29\",\"2019-12-30\",\"2019-12-31\",\"2020-01-01\",\"2020-01-02\",\"2020-01-03\",\"2020-01-04\",\"2020-01-05\",\"2020-01-06\",\"2020-01-07\",\"2020-01-08\",\"2020-01-09\",\"2020-01-10\",\"2020-01-11\",\"2020-01-12\",\"2020-01-13\",\"2020-01-14\",\"2020-01-15\",\"2020-01-16\",\"2020-01-17\",\"2020-01-18\",\"2020-01-19\",\"2020-01-20\",\"2020-01-21\",\"2020-01-22\",\"2020-01-23\",\"2020-01-24\",\"2020-01-25\",\"2020-01-26\",\"2020-01-27\",\"2020-01-28\",\"2020-01-29\",\"2020-01-30\",\"2020-01-31\",\"2020-02-01\",\"2020-02-02\",\"2020-02-03\",\"2020-02-04\",\"2020-02-05\",\"2020-02-06\",\"2020-02-07\",\"2020-02-08\",\"2020-02-09\",\"2020-02-10\",\"2020-02-11\",\"2020-02-12\",\"2020-02-13\",\"2020-02-14\",\"2020-02-15\",\"2020-02-16\",\"2020-02-17\",\"2020-02-18\",\"2020-02-19\",\"2020-02-20\",\"2020-02-21\",\"2020-02-22\",\"2020-02-23\",\"2020-02-24\",\"2020-02-25\",\"2020-02-26\",\"2020-02-27\",\"2020-02-28\",\"2020-02-29\",\"2020-03-01\",\"2020-03-02\",\"2020-03-03\",\"2020-03-04\",\"2020-03-05\",\"2020-03-06\",\"2020-03-07\",\"2020-03-08\",\"2020-03-09\",\"2020-03-10\",\"2020-03-11\",\"2020-03-12\",\"2020-03-13\",\"2020-03-14\",\"2020-03-15\",\"2020-03-16\",\"2020-03-17\",\"2020-03-18\",\"2020-03-19\",\"2020-03-20\",\"2020-03-21\",\"2020-03-22\",\"2020-03-23\",\"2020-03-24\",\"2020-03-25\",\"2020-03-26\",\"2020-03-27\",\"2020-03-28\",\"2020-03-29\",\"2020-03-30\",\"2020-03-31\",\"2020-04-01\",\"2020-04-02\",\"2020-04-03\",\"2020-04-04\",\"2020-04-05\",\"2020-04-06\",\"2020-04-07\",\"2020-04-08\",\"2020-04-09\",\"2020-04-10\",\"2020-04-11\",\"2020-04-12\",\"2020-04-13\",\"2020-04-14\",\"2020-04-15\",\"2020-04-16\",\"2020-04-17\",\"2020-04-18\",\"2020-04-19\",\"2020-04-20\",\"2020-04-21\",\"2020-04-22\",\"2020-04-23\",\"2020-04-24\",\"2020-04-25\",\"2020-04-26\",\"2020-04-27\",\"2020-04-28\",\"2020-04-29\",\"2020-04-30\",\"2020-05-01\",\"2020-05-02\",\"2020-05-03\",\"2020-05-04\",\"2020-05-05\",\"2020-05-06\",\"2020-05-07\",\"2020-05-08\",\"2020-05-09\",\"2020-05-10\",\"2020-05-11\",\"2020-05-12\",\"2020-05-13\",\"2020-05-14\",\"2020-05-15\",\"2020-05-16\",\"2020-05-17\",\"2020-05-18\",\"2020-05-19\",\"2020-05-20\",\"2020-05-21\",\"2020-05-22\",\"2020-05-23\",\"2020-05-24\",\"2020-05-25\",\"2020-05-26\",\"2020-05-27\",\"2020-05-28\",\"2020-05-29\",\"2020-05-30\",\"2020-05-31\",\"2020-06-01\",\"2020-06-02\",\"2020-06-03\",\"2020-06-04\",\"2020-06-05\",\"2020-06-06\",\"2020-06-07\",\"2020-06-08\",\"2020-06-09\",\"2020-06-10\",\"2020-06-11\",\"2020-06-12\",\"2020-06-13\",\"2020-06-14\",\"2020-06-15\",\"2020-06-16\",\"2020-06-17\",\"2020-06-18\",\"2020-06-19\",\"2020-06-20\",\"2020-06-21\",\"2020-06-22\",\"2020-06-23\",\"2020-06-24\",\"2020-06-25\",\"2020-06-26\",\"2020-06-27\",\"2020-06-28\",\"2020-06-29\",\"2020-06-30\",\"2020-07-01\",\"2020-07-02\",\"2020-07-03\",\"2020-07-04\",\"2020-07-05\",\"2020-07-06\",\"2020-07-07\",\"2020-07-08\",\"2020-07-09\",\"2020-07-10\",\"2020-07-11\",\"2020-07-12\",\"2020-07-13\",\"2020-07-14\",\"2020-07-15\",\"2020-07-16\",\"2020-07-17\",\"2020-07-18\",\"2020-07-19\",\"2020-07-20\",\"2020-07-21\",\"2020-07-22\",\"2020-07-23\",\"2020-07-24\",\"2020-07-25\",\"2020-07-26\",\"2020-07-27\",\"2020-07-28\",\"2020-07-29\",\"2020-07-30\",\"2020-07-31\",\"2020-08-01\",\"2020-08-02\",\"2020-08-03\",\"2020-08-04\",\"2020-08-05\",\"2020-08-06\",\"2020-08-07\",\"2020-08-08\",\"2020-08-09\",\"2020-08-10\",\"2020-08-11\",\"2020-08-12\",\"2020-08-13\",\"2020-08-14\",\"2020-08-15\",\"2020-08-16\",\"2020-08-17\",\"2020-08-18\",\"2020-08-19\",\"2020-08-20\",\"2020-08-21\",\"2020-08-22\",\"2020-08-23\",\"2020-08-24\",\"2020-08-25\",\"2020-08-26\",\"2020-08-27\",\"2020-08-28\",\"2020-08-29\",\"2020-08-30\",\"2020-08-31\",\"2020-09-01\",\"2020-09-02\",\"2020-09-03\",\"2020-09-04\",\"2020-09-05\",\"2020-09-06\",\"2020-09-07\",\"2020-09-08\",\"2020-09-09\",\"2020-09-10\",\"2020-09-11\",\"2020-09-12\",\"2020-09-13\",\"2020-09-14\",\"2020-09-15\",\"2020-09-16\",\"2020-09-17\",\"2020-09-18\",\"2020-09-19\",\"2020-09-20\",\"2020-09-21\",\"2020-09-22\",\"2020-09-23\",\"2020-09-24\",\"2020-09-25\",\"2020-09-26\",\"2020-09-27\",\"2020-09-28\",\"2020-09-29\",\"2020-09-30\",\"2020-10-01\",\"2020-10-02\",\"2020-10-03\",\"2020-10-04\",\"2020-10-05\",\"2020-10-06\",\"2020-10-07\",\"2020-10-08\",\"2020-10-09\",\"2020-10-10\",\"2020-10-11\",\"2020-10-12\",\"2020-10-13\",\"2020-10-14\",\"2020-10-15\",\"2020-10-16\",\"2020-10-17\",\"2020-10-18\",\"2020-10-19\",\"2020-10-20\",\"2020-10-21\",\"2020-10-22\",\"2020-10-23\",\"2020-10-24\",\"2020-10-25\",\"2020-10-26\",\"2020-10-27\",\"2020-10-28\",\"2020-10-29\",\"2020-10-30\",\"2020-10-31\",\"2020-11-01\",\"2020-11-02\",\"2020-11-03\",\"2020-11-04\",\"2020-11-05\",\"2020-11-06\",\"2020-11-07\",\"2020-11-08\",\"2020-11-09\",\"2020-11-10\",\"2020-11-11\",\"2020-11-12\",\"2020-11-13\",\"2020-11-14\",\"2020-11-15\",\"2020-11-16\",\"2020-11-17\",\"2020-11-18\",\"2020-11-19\",\"2020-11-20\",\"2020-11-21\",\"2020-11-22\",\"2020-11-23\",\"2020-12-20\",\"2020-12-21\",\"2020-12-22\",\"2020-12-23\",\"2020-12-24\",\"2020-12-25\",\"2020-12-26\",\"2020-12-27\",\"2020-12-28\",\"2020-12-29\",\"2020-12-30\",\"2020-12-31\",\"2021-01-01\",\"2021-01-02\",\"2021-01-03\",\"2021-01-04\",\"2021-01-05\",\"2021-01-06\",\"2021-01-07\",\"2021-01-08\",\"2021-01-09\",\"2021-01-10\",\"2021-01-11\",\"2021-01-12\",\"2021-01-13\",\"2021-01-14\",\"2021-01-15\",\"2021-01-16\",\"2021-01-17\",\"2021-01-18\",\"2021-01-19\",\"2021-01-20\",\"2021-01-21\",\"2021-01-22\",\"2021-01-23\",\"2021-01-24\",\"2021-01-25\",\"2021-01-26\",\"2021-01-27\",\"2021-01-28\",\"2021-01-29\",\"2021-01-30\",\"2021-01-31\",\"2021-02-01\",\"2021-02-02\",\"2021-02-03\",\"2021-02-04\",\"2021-02-05\",\"2021-02-06\",\"2021-02-07\",\"2021-02-08\",\"2021-02-09\",\"2021-02-10\",\"2021-02-11\",\"2021-02-12\",\"2021-02-13\",\"2021-02-14\",\"2021-02-15\",\"2021-02-16\",\"2021-02-17\",\"2021-02-18\",\"2021-02-19\",\"2021-02-20\",\"2021-02-21\",\"2021-02-22\",\"2021-02-23\",\"2021-02-24\",\"2021-02-25\",\"2021-02-26\",\"2021-02-27\",\"2021-02-28\",\"2021-03-01\",\"2021-03-02\",\"2021-03-03\",\"2021-03-04\",\"2021-03-05\",\"2021-03-06\",\"2021-03-07\",\"2021-03-08\",\"2021-03-09\",\"2021-03-10\",\"2021-03-11\",\"2021-03-12\",\"2021-03-13\",\"2021-03-14\",\"2021-03-15\",\"2021-03-16\",\"2021-03-17\",\"2021-03-18\",\"2021-03-19\",\"2021-03-20\",\"2021-03-21\",\"2021-03-22\",\"2021-03-23\",\"2021-03-24\",\"2021-03-25\",\"2021-03-26\",\"2021-03-27\",\"2021-03-28\",\"2021-03-29\",\"2021-03-30\",\"2021-03-31\",\"2021-04-01\",\"2021-04-02\",\"2021-04-03\",\"2021-04-04\",\"2021-04-05\",\"2021-04-06\",\"2021-04-07\",\"2021-04-08\",\"2021-04-09\",\"2021-04-10\",\"2021-04-11\",\"2021-04-12\",\"2021-04-13\",\"2021-04-14\",\"2021-04-15\",\"2021-04-16\",\"2021-04-17\",\"2021-04-18\",\"2021-04-19\",\"2021-04-20\",\"2021-04-21\",\"2021-04-22\",\"2021-04-23\",\"2021-04-24\",\"2021-04-25\",\"2021-04-26\",\"2021-04-27\",\"2021-04-28\",\"2021-04-29\",\"2021-04-30\",\"2021-05-01\",\"2021-05-02\",\"2021-05-03\",\"2021-05-04\",\"2021-05-05\",\"2021-05-06\",\"2021-05-07\",\"2021-05-08\",\"2021-05-09\",\"2021-05-10\",\"2021-05-11\",\"2021-05-12\",\"2021-05-13\",\"2021-05-14\",\"2021-05-15\",\"2021-05-16\",\"2021-05-17\",\"2021-05-18\",\"2021-05-19\",\"2021-05-20\",\"2021-05-21\",\"2021-05-22\",\"2021-05-23\",\"2021-05-24\",\"2021-05-25\",\"2021-05-26\",\"2021-05-27\",\"2021-05-28\",\"2021-05-29\",\"2021-05-30\",\"2021-05-31\",\"2021-06-01\",\"2021-06-02\",\"2021-06-03\",\"2021-06-04\",\"2021-06-05\",\"2021-06-06\",\"2021-06-07\",\"2021-06-08\",\"2021-06-09\",\"2021-06-10\",\"2021-06-11\",\"2021-06-12\",\"2021-06-13\",\"2021-06-14\",\"2021-06-15\",\"2021-06-16\",\"2021-06-17\",\"2021-06-18\",\"2021-06-19\",\"2021-06-20\",\"2021-06-21\",\"2021-06-22\",\"2021-06-23\",\"2021-06-24\",\"2021-06-25\",\"2021-06-26\",\"2021-06-27\",\"2021-06-28\",\"2021-06-29\",\"2021-06-30\",\"2021-07-01\",\"2021-07-02\",\"2021-07-03\",\"2021-07-04\",\"2021-07-05\",\"2021-07-06\",\"2021-07-07\",\"2021-07-08\",\"2021-07-09\",\"2021-07-10\",\"2021-07-11\",\"2021-07-12\",\"2021-07-13\",\"2021-07-14\",\"2021-07-15\",\"2021-07-16\",\"2021-07-17\",\"2021-07-18\",\"2021-07-19\",\"2021-07-20\",\"2021-07-21\",\"2021-07-22\",\"2021-07-23\",\"2021-07-24\",\"2021-07-25\",\"2021-07-26\",\"2021-07-27\",\"2021-07-28\",\"2021-07-29\",\"2021-07-30\",\"2021-07-31\",\"2021-08-01\",\"2021-08-02\",\"2021-08-03\",\"2021-08-04\",\"2021-08-05\",\"2021-08-06\",\"2021-08-07\",\"2021-08-08\",\"2021-08-09\",\"2021-08-10\",\"2021-08-11\",\"2021-08-12\",\"2021-08-13\",\"2021-08-14\",\"2021-08-15\",\"2021-08-16\",\"2021-08-17\",\"2021-08-18\",\"2021-08-19\",\"2021-08-20\",\"2021-08-21\",\"2021-08-22\",\"2021-08-23\",\"2021-08-24\",\"2021-08-25\",\"2021-08-26\",\"2021-08-27\",\"2021-08-28\",\"2021-08-29\",\"2021-08-30\",\"2021-08-31\",\"2021-09-01\",\"2021-09-02\",\"2021-09-03\",\"2021-09-04\",\"2021-09-05\",\"2021-09-06\",\"2021-09-07\",\"2021-09-08\",\"2021-09-09\",\"2021-09-10\",\"2021-09-11\",\"2021-09-12\",\"2021-09-13\",\"2021-09-14\",\"2021-09-15\",\"2021-09-16\",\"2021-09-17\",\"2021-09-18\",\"2021-09-19\",\"2021-09-20\",\"2021-09-21\",\"2021-09-22\",\"2021-09-23\",\"2021-09-24\",\"2021-09-25\",\"2021-09-26\",\"2021-09-27\",\"2021-09-28\",\"2021-09-29\",\"2021-09-30\",\"2021-10-01\",\"2021-10-02\",\"2021-10-03\",\"2021-10-04\",\"2021-10-05\",\"2021-10-06\",\"2021-10-07\",\"2021-10-08\",\"2021-10-09\",\"2021-10-10\",\"2021-10-11\",\"2021-10-12\",\"2021-10-13\",\"2021-10-14\",\"2021-10-15\",\"2021-10-16\",\"2021-10-17\",\"2021-10-18\",\"2021-10-19\",\"2021-10-20\",\"2021-10-21\",\"2021-10-22\",\"2021-10-23\",\"2021-10-24\",\"2021-10-25\",\"2021-10-26\",\"2021-10-27\",\"2021-10-28\",\"2021-10-29\",\"2021-10-30\",\"2021-10-31\",\"2021-11-01\",\"2021-11-02\",\"2021-11-03\",\"2021-11-04\",\"2021-11-05\",\"2021-11-06\",\"2021-11-07\",\"2021-11-08\",\"2021-11-09\",\"2021-11-10\",\"2021-11-11\",\"2021-11-12\",\"2021-11-13\",\"2021-11-14\",\"2021-11-15\",\"2021-11-16\",\"2021-11-17\",\"2021-11-18\",\"2021-11-19\",\"2021-11-20\",\"2021-11-21\",\"2021-11-22\",\"2021-11-23\",\"2021-11-24\",\"2021-11-25\",\"2021-11-26\",\"2021-11-27\",\"2021-11-28\",\"2021-11-29\",\"2021-11-30\",\"2021-12-01\",\"2021-12-02\",\"2021-12-03\",\"2021-12-04\",\"2021-12-05\",\"2021-12-06\",\"2021-12-07\",\"2021-12-08\",\"2021-12-09\",\"2021-12-10\",\"2021-12-11\",\"2021-12-12\",\"2021-12-13\",\"2021-12-14\",\"2021-12-15\",\"2021-12-16\",\"2021-12-17\",\"2021-12-18\",\"2021-12-19\",\"2021-12-20\",\"2021-12-21\",\"2021-12-22\",\"2021-12-23\",\"2021-12-24\",\"2021-12-25\",\"2021-12-26\",\"2021-12-27\",\"2021-12-28\",\"2021-12-29\",\"2021-12-30\",\"2021-12-31\",\"2022-01-01\",\"2022-01-02\",\"2022-01-03\",\"2022-01-04\",\"2022-01-05\",\"2022-01-06\",\"2022-01-07\",\"2022-01-08\",\"2022-01-09\",\"2022-01-10\",\"2022-01-11\",\"2022-01-12\",\"2022-01-13\",\"2022-01-14\",\"2022-01-15\",\"2022-01-16\",\"2022-01-17\",\"2022-01-18\",\"2022-01-19\",\"2022-01-20\",\"2022-01-21\",\"2022-01-22\",\"2022-01-23\",\"2022-01-24\",\"2022-01-25\",\"2022-01-26\",\"2022-01-27\",\"2022-01-28\",\"2022-01-29\",\"2022-01-30\",\"2022-01-31\",\"2022-02-01\",\"2022-02-02\",\"2022-02-03\",\"2022-02-04\",\"2022-02-05\",\"2022-02-06\",\"2022-02-07\",\"2022-02-08\",\"2022-02-09\",\"2022-02-10\",\"2022-02-11\",\"2022-02-12\",\"2022-02-13\",\"2022-02-14\",\"2022-02-15\",\"2022-02-16\",\"2022-02-17\",\"2022-02-18\",\"2022-02-19\",\"2022-02-20\",\"2022-02-21\",\"2022-02-22\",\"2022-02-23\",\"2022-02-24\",\"2022-02-25\",\"2022-02-26\",\"2022-02-27\",\"2022-02-28\",\"2022-03-01\"],\"xaxis\":\"x\",\"y\":[977.1326198749132,1011.9888263888854,1019.7944375000026,1075.5725416666696,1042.0941250000017,933.2693125000023,868.9042152777776,913.5979444444441,893.0471319444421,902.3430416666649,845.1531666666664,782.3866041666652,806.778986111111,827.2718194444452,816.9115277777772,827.8397222222196,875.7608958333359,885.0500833333354,893.0538819444436,895.4155347222251,917.5329652777792,922.4527638888858,919.9974027777769,906.9280138888892,894.3764375000013,905.6865277777796,917.0908541666691,918.2610069444474,916.736784722218,916.8634652777802,940.2151458333365,970.6433541666668,992.5270486111093,1011.6830277777757,1017.6191805555535,1019.9447638888848,1020.653895833336,1042.1807430555577,1053.3575347222238,1023.787076388887,977.319631944447,1007.3459722222232,1003.2492916666654,998.5820833333325,1005.8035416666669,1009.1322847222183,1026.3690902777737,1046.5076875000013,1061.203729166665,1053.1892222222234,1057.0710555555575,1099.7674930555559,1122.2817222222245,1146.7453819444454,1184.5918819444437,1167.2426388888969,1164.3344930555527,1185.5805625000014,1192.1593263888901,1205.9281180555563,1239.35296527778,1271.8005555555578,1268.7268680555608,1258.0962638888873,1274.199750000005,1254.04122222222,1197.1991250000017,1176.436097222222,1200.8669305555566,1167.0599930555547,1196.310076388889,1233.7372986111104,1243.453090277781,1251.1568958333332,1219.7565833333344,1129.9546388888896,1033.6223055555581,1008.6972013888866,1033.5872152777781,1083.2312986111103,1053.230041666667,1035.1922083333347,989.6332291666656,926.4256527777799,963.7157847222201,997.7964444444443,1042.643583333333,1032.6007430555555,1033.059506944445,1050.8806736111105,1077.0635069444472,1079.3754930555597,1125.857034722222,1141.9162777777772,1129.7655347222217,1166.8735902777792,1189.1300347222218,1187.7070000000037,1193.5887361111133,1207.765548611111,1213.163638888888,1216.7486597222207,1187.8893124999986,1172.656138888889,1177.955347222214,1169.823013888889,1171.9569027777786,1199.8662916666624,1200.8852847222227,1220.1312916666695,1240.9766527777792,1237.3324305555582,1235.350666666668,1243.6107638888873,1264.452208333331,1287.525243055556,1312.7300972222206,1323.5403194444466,1329.446631944441,1330.6955763888843,1375.731513888886,1432.4323055555587,1470.202458333336,1538.3609305555576,1555.4702916666718,1539.8322847222207,1542.0394652777798,1586.2328888888885,1702.9576944444425,1745.4640208333353,1824.5126111111113,1769.115173611109,1705.4187222222215,1781.31440972222,1731.609611111113,1707.4592916666686,1771.609069444443,1823.5138958333355,1924.7282291666647,1972.6203333333356,2021.1830486111114,2106.1441249999934,2189.919958333339,2364.3477222222186,2550.4548819444412,2379.6701319444455,2092.3406597222192,2186.1338680555587,2236.0352361111045,2271.7490833333327,2251.626791666663,2387.57136805555,2427.884451388893,2517.3275347222307,2523.381993055556,2599.1317638888863,2831.8435416666694,2813.5336458333372,2751.8368472222237,2822.4365625,2852.3436597222203,2905.3866597222227,2800.2734374999995,2713.7082152777784,2650.0085416666675,2352.8653055555533,2448.061277777781,2554.376111111115,2564.838083333334,2556.336840277781,2659.157666666665,2709.5209652777708,2678.673284722225,2716.705722222216,2654.914298611111,2557.437208333334,2461.982736111111,2405.271631944444,2531.7022430555544,2557.0249791666647,2522.1389583333325,2460.6728541666653,2443.4365000000025,2522.575750000001,2595.292180555555,2568.860624999997,2592.9184236111078,2541.796520833331,2515.1944583333325,2538.4282083333323,2453.3244027777796,2337.2664791666607,2341.890652777772,2369.796847222221,2277.666180555555,2071.4397291666655,1936.8076458333342,2053.9869583333316,2278.1674444444457,2309.5051319444397,2488.65069444444,2715.0327291666604,2777.4260694444424,2764.753687499998,2751.8219861111115,2621.1509583333273,2495.7104374999976,2567.2891041666644,2735.1665277777743,2716.257312499992,2673.544798611114,2758.5695486111144,2766.446861111113,2711.967173611113,2741.8941458333447,2825.37925,3149.316520833327,3233.4100486111056,3305.126673611101,3413.3558124999995,3338.485770833329,3389.558534722221,3500.123118055556,3753.3753472222224,4018.176125000006,4164.0065972222155,4161.579763888893,4161.607319444442,4340.511909722214,4223.092194444447,4050.8933888888996,4056.965402777782,4019.24368749999,3916.7203333333305,4136.345638888887,4176.669083333329,4353.227520833331,4309.158791666663,4338.230729166664,4301.919319444445,4460.961972222234,4572.813944444436,4666.093027777785,4797.515388888882,4678.619520833327,4571.0101319444375,4355.340576388889,4245.988076388883,4524.093506944446,4580.674131944448,4477.630881944437,4287.772104166674,4176.220215277776,4206.069666666658,4249.4378194444425,3929.247083333327,3618.5086597222157,3400.6768958333187,3690.340881944444,3630.3056736111125,3936.1148055555527,3959.0634097222173,3934.2172708333355,3788.0605208333354,3623.1657013888885,3711.2153055555495,3692.9358611111074,3817.4621527777776,3912.6577777777807,4032.961888888886,4186.163027777777,4142.133590277777,4268.350506944428,4289.1052430555565,4392.912173611113,4309.242874999995,4247.239354166678,4253.331902777775,4357.178041666662,4349.90294444444,4492.804527777775,4640.2239583333285,4808.705229166663,4784.494493055561,5109.893291666655,5611.507097222207,5662.475416666659,5605.589576388898,5669.705090277775,5622.2750833333275,5397.298305555541,5650.219194444448,5784.006069444438,6068.612506944447,5905.10383333332,5863.602006944448,5653.725729166653,5542.842506944453,5822.859569444446,5818.709173611109,5747.5243194444465,5879.3890624999985,6118.035847222215,6236.290625000008,6497.928374999996,6944.229770833334,7233.639138888902,7252.980534722214,7452.22495138889,7220.818097222231,7097.109937499982,7379.14356249999,7237.899166666664,6954.1286249999885,6548.959215277778,6102.652958333327,6337.375777777766,6584.692097222224,7039.87034027776,7452.033902777763,7819.3161111111285,7691.027416666658,7821.719201388888,8085.258868055544,8151.167513888871,8189.348909722222,8170.707826388877,8162.064541666652,8423.060006944464,8963.262680555552,9547.79712499999,9823.998631944443,10386.860090277767,9868.535027777774,10179.359958333314,10927.822486111108,11278.331479166645,11331.980277777795,11643.648770833328,12563.244715277786,14747.118444444439,15393.027923611122,14774.271125000003,14102.118055555571,16176.804486111123,16704.352673611087,16513.865736111118,16311.818729166687,17341.221236111145,18155.32683333337,19167.36264583332,18692.629819444457,18294.053472222262,16797.716881944434,16188.966499999982,13710.411187499989,14727.4254861111,13620.099291666655,13938.127819444457,15217.770479166655,15552.000166666661,14216.340131944426,14506.493555555553,13174.177055555536,13313.406236111117,13404.083822098695,13855.02746527777,14939.789937500007,14793.340395833306,15768.255284722245,16648.182527777735,16500.38749305558,15274.908583333307,14843.305666666694,14169.093284722245,13667.05984027774,13639.608826388892,14209.504923611108,13663.330402777774,13806.474097222212,12132.456124999984,10649.469395833326,11469.517465277753,11492.970923611116,12455.006930555548,11877.400319444461,11112.255104166665,10704.49538888889,10992.9448888889,11287.389062499993,10997.977145833333,11225.586687499981,11660.95481944445,11272.039541666658,10613.974979166669,9971.159951388887,9482.287840277775,8538.146965277765,8897.505999999985,8708.302340277778,7592.156125000007,6804.671611111091,7896.66775694442,8203.525361111098,8249.34640972222,8644.472444444438,8177.314347222212,8613.79652083332,8600.79434722222,9016.580041666663,9791.126506944422,10015.696368055545,10668.411874999983,10725.311749999988,10855.030541666663,11486.790916666672,10778.214493055553,10260.983687499998,10001.96481944444,9921.733451388915,9587.012979166691,9901.10732638891,10544.865229166679,10612.689111111142,10642.48174305556,10972.414819444468,11337.898138888899,11236.236805555574,11515.43450694445,11014.237375,10389.098618055561,9693.85547916667,8893.482152777782,9227.67163194444,9047.97970138888,9426.350666666665,9144.770201388896,8760.111520833332,8102.051777777773,8306.556958333336,8073.301604166666,7669.662972222221,8345.723486111105,8615.721000000003,8976.901020833338,8787.617750000016,8524.194881944453,8852.791590277791,8530.199500000008,8202.530395833348,7958.8409930555645,7911.04905555556,7511.073416666654,6877.636916666647,6998.714569444444,6790.583777777777,6972.263861111102,7319.99834722221,7072.821375000005,6752.361513888896,6645.08414583333,6888.029333333336,6985.017687500011,6886.944520833342,6775.022027777787,6876.048930555558,7329.209312500001,7985.544993055538,8004.794326388901,8210.231458333332,8073.745312500001,8030.846499999989,8051.894999999986,8207.862270833348,8439.539006944438,8793.697569444434,8882.282111111104,8889.631944444443,9307.460562500015,9211.639388888878,8875.396638888917,9211.044888888891,9233.596965277784,9349.823513888863,9284.592486111102,8983.12822222222,9107.590312500011,9373.15543749999,9650.099604166662,9823.492243055542,9609.999861111108,9337.870916666649,9255.057284722223,9188.042430555543,9259.547215277771,8694.603590277753,8416.179715277778,8544.861736111112,8574.2875763889,8634.604993055558,8275.00315972222,8271.236361111116,8099.8228680555485,8249.347034722208,8356.508319444461,8449.83364583333,8227.346624999995,7777.127381944435,7531.589479166668,7480.644395833335,7485.764402777805,7312.374479166659,7249.781722222216,7287.534618055558,7428.071590277752,7496.155201388885,7476.961381944455,7593.600465277779,7686.783020833341,7570.872534722228,7487.665909722212,7602.822916666661,7689.090694444462,7625.46504861113,7627.31769444445,7127.325833333329,6755.241541666665,6749.015118055549,6436.521770833339,6495.367861111109,6546.274687499997,6459.12534722223,6506.415284722222,6519.316618055555,6714.674215277771,6677.774541666661,6733.707097222229,6354.61613888888,6132.588493055541,6020.28971527777,6199.047937500008,6197.968437500007,6092.221006944445,6078.771618055557,5899.3044444444495,6359.492361111115,6346.398256944437,6449.20988194444,6593.261937499988,6567.29886805556,6576.7632152777815,6538.485055555546,6570.782444444449,6736.546534722229,6702.963958333341,6476.928409722225,6351.282701388887,6216.0647500000005,6233.79088194445,6234.036013888903,6316.3552986111235,6517.619951388894,6873.568194444436,7397.6818055555495,7386.269833333348,7416.337645833339,7344.668402777788,7444.250222222227,7675.16118055556,8065.651173611116,8249.31620833334,8193.287270833356,8018.228576388892,8177.757340277779,8200.37944444445,8130.506104166663,7911.31849999999,7566.368263888896,7587.226006944434,7390.810694444465,7245.556527777784,6992.786388888909,6985.009326388907,6983.780347222244,6440.485548611112,6391.113020833324,6390.9585902777835,6185.06542361111,6301.38398611112,6343.242361111119,6052.3912152777775,6365.149534722223,6341.270729166651,6463.706277777775,6443.754430555558,6395.939006944442,6442.719076388913,6397.265791666685,6575.8501597222275,6431.640284722226,6549.543986111119,6711.6952847222465,6668.080986111139,6710.94665277779,6984.555597222223,7047.082486111114,6926.8011666666625,6977.634958333333,7103.162680555573,7237.27454861112,7258.005388888883,7320.077902777764,7122.747618055552,6418.005201388888,6440.900590277793,6358.439187500014,6287.663944444444,6285.496215277792,6288.041756944452,6266.750944444452,6438.622347222242,6498.136062500003,6517.7526736111395,6482.734375000019,6395.846930555558,6294.104611111139,6334.6170694444545,6409.995493055555,6655.223006944467,6703.757736111112,6705.770631944446,6636.809868055562,6410.852534722221,6459.921062500001,6519.004263888897,6663.034923611083,6538.025222222219,6576.327118055542,6573.510104166671,6540.417013888896,6445.892937500004,6546.179548611113,6543.636097222211,6555.474534722216,6532.823215277758,6585.826819444434,6587.029500000005,6516.238090277787,6210.826534722227,6200.4529861111105,6195.6935138889,6224.920381944451,6365.180201388865,6436.335083333335,6437.769833333313,6426.56019444443,6384.739569444428,6396.231590277773,6433.145819444439,6404.629493055541,6394.87683333334,6424.463381944445,6399.877437500004,6400.1225694444565,6406.689069444408,6402.272458333332,6328.8963958333115,6263.746305555553,6276.524847222216,6310.033770833323,6351.279166666668,6333.64838194443,6363.69584027777,6404.08322222224,6412.078833333346,6505.993409722229,6448.601777777787,6364.959388888892,6353.9425138889,6338.84529861111,6350.021520833332,6288.941298611125,6015.415416666661,5490.096263888891,5528.927666666673,5484.230770833334,5533.186513888908,5198.414868055559,4523.674312499998,4442.183701388886,4466.014416666669,4245.0179305555475,4200.936506944432,3751.0648472222174,3846.0988750000033,3699.492645833326,4053.9759027777704,4221.210340277772,4072.239312499994,4076.0629652777843,4117.920534722222,3922.5262430555576,3902.538944444449,3800.6513472222214,3692.0935902777783,3356.6931597222233,3382.467131944445,3466.3229236111056,3467.057999999994,3364.044812500005,3395.8580347222187,3359.2359236111147,3232.38724305556,3179.0411041666703,3216.202465277778,3331.0724722222294,3506.6537847222244,3745.50734027778,3918.7580069444457,3968.5677083333335,3849.757458333335,3976.2443611111125,4122.437493055556,3770.3275694444446,3777.529076388889,3715.947479166668,3698.7585486111097,3871.8425902777894,3786.359180555562,3755.904263888892,3699.2164767199383,3821.668736111108,3829.0354861111173,3783.7149999999947,3833.304840277775,3873.004180555558,4021.287847222219,4004.707708333333,4009.5448472222306,3793.60349305556,3635.27466666666,3625.849930555557,3579.59239583333,3578.6907986111123,3640.5559930555523,3602.313111111113,3601.7896388888967,3614.8646249999924,3670.9070972222235,3606.4904027777834,3535.0274444444462,3550.6545763888907,3568.7000763888877,3553.253013888886,3556.425826388883,3570.8103888888936,3545.014027777779,3436.6532013888886,3397.738576388899,3422.286298611111,3424.1157847222244,3415.5959236111066,3431.302972222219,3424.895277777778,3413.665173611113,3418.861347222224,3370.9559444444385,3365.983222222222,3450.1636319444433,3614.204729166671,3607.5154236111216,3594.367166666662,3576.9574166666653,3581.4369652777846,3568.4310972222256,3569.7654930555436,3586.99679861111,3584.765583333333,3754.137944444437,3899.008131944447,3909.679006944444,3905.811465277775,3924.4320972222254,3979.0191805555505,3987.751597222217,3791.4320138888943,3799.089666666659,3794.352791666667,3809.2230208333413,3812.662013888895,3804.744444444434,3800.997611111113,3724.114312500001,3764.6981250000094,3837.9885138888844,3860.4660347222193,3871.059097222219,3889.236569444441,3892.558340277774,3863.9070902777803,3846.576444444444,3852.931423611106,3849.5480902777817,3876.769944444436,3977.6102708333374,3962.642868055547,3968.6879444444494,3976.345750000009,3994.635520833341,4005.2073194444424,3981.0955069444526,3980.3036458333436,3968.054951388892,3949.0579444444475,3907.8606666666656,3993.1045694444447,4008.5519027777714,4056.646270833343,4083.216194444443,4088.0352499999904,4124.7236874999935,4642.493638888892,5033.393027777771,4968.152138888893,4978.643861111106,5040.232131944452,5125.940722222218,5238.491312499994,5219.039145833337,5267.97634027778,5126.502229166673,5045.7418055555645,5083.4274861111,5077.747256944443,5120.492375000005,5096.930201388885,5217.222305555559,5262.535256944448,5257.814069444446,5312.104076388893,5287.378041666665,5316.003062499998,5529.711451388881,5484.669590277768,5421.302479166675,5146.776875,5164.08781944446,5168.873972222226,5153.427166666666,5197.820840277774,5302.602486111108,5359.636569444452,5614.448999999999,5691.634923611106,5719.643451388895,5654.071847222221,5860.812006944442,5841.416833333337,6044.543486111117,6287.071847222228,6799.562625000012,7145.643374999998,7399.49656249999,7982.1667916666765,8047.174402777767,7985.6605694444515,7252.181465277767,7320.737076388896,7926.163395833322,7898.747173611123,7946.883597222231,7885.116576388869,7697.916499999993,7978.917166666662,8041.548236111104,8120.532958333334,8776.536090277763,8721.664416666657,8642.611138888884,8625.838208333345,8344.550868055552,8538.850604166668,8664.837465277764,8526.302423611112,7843.043020833318,7767.091388888891,7746.671756944442,7934.828486111108,7937.549701388897,7796.418180555556,7815.897027777768,7893.705770833338,8033.0537638889045,8166.5736111110955,8349.403923611122,8723.815631944459,9088.529937499981,9230.022166666658,9147.124486111095,9143.79880555556,9348.75191666666,9795.590097222206,10713.973687500002,10738.70085416666,10838.25763194443,11306.070006944441,12620.823527777764,11778.703888888898,11661.425826388893,11838.539701388867,11528.911625000006,10674.453368055545,10290.996590277786,11331.609777777767,11749.237576388878,11129.95708333335,11408.364465277773,11304.465944444455,11786.660020833322,12503.734590277776,12636.01934027779,11570.17753472221,11576.55206249999,11421.44929861113,10849.322979166665,10405.632374999992,10343.102805555556,9565.20595138888,10041.404423611119,10462.697243055549,10673.131055555545,10571.94413888889,10443.949361111103,10064.603743055586,9696.129722222213,10016.971916666645,9770.661166666669,9725.537770833329,9481.268555555565,9535.496249999998,9536.431527777779,9851.365381944452,10079.89895833332,10469.433187500006,10779.63425694446,10815.573090277776,11666.489326388892,11748.277208333307,11703.001770833329,11794.543006944454,11813.217659722248,11576.185881944451,11373.88640277777,11391.205048611122,11132.350048611126,10432.202194444435,10002.967243055562,10223.281930555546,10291.680145833338,10287.577576388894,10609.979631944425,10747.096631944454,10185.854097222224,10038.379881944433,10257.435597222211,10150.56782638886,10093.810819444445,10338.15690277779,10167.968708333343,10037.73771527779,9512.655187499986,9528.27084027778,9588.324236111115,9620.143958333327,9940.837743055557,10515.272666666686,10556.609222222229,10558.289326388878,10650.74971527778,10417.027027777793,10453.91614583332,10294.719687499997,10215.935166666648,10057.372090277764,10213.468138888871,10310.269895833315,10335.516465277768,10312.027263888896,10247.11169444443,10211.981256944426,10190.34263888889,9983.636284722223,10169.010770833338,10034.295868055562,9973.354715277792,9871.6017013889,9413.987861111113,8439.53406944445,8243.295291666669,8032.45384027779,8152.924749999993,8068.974597222202,8065.979333333347,8355.300534722219,8252.02109722221,8239.963604166654,8142.367840277775,8104.426993055552,7975.880944444455,8035.409812500003,8205.317944444438,8333.40018749997,8556.047777777769,8393.23945138892,8330.147715277773,8354.877409722227,8304.315687499979,8260.112486111082,8060.684777777779,8029.048944444402,7958.917256944443,7956.251687499994,8015.550673611087,8218.813701388906,8196.073201388848,7740.953666666674,7446.005652777765,7872.980069444415,9303.443347222226,9402.773194444464,9467.364361111111,9376.07654861111,9186.685333333326,9166.835402777764,9149.41239583333,9276.498222222206,9214.133680555544,9250.923923611086,9338.224763888878,9332.309381944438,9234.452354166659,8976.901972222207,8808.552874999992,8888.437243055556,8792.063659722213,8729.33913194443,8743.220993055525,8650.446458333321,8534.15003472222,8466.711548611098,8510.327590277762,8374.011430555558,8110.416562499994,8093.952555555534,7843.400666666659,7333.638354166663,7237.272833333338,7140.462722222213,6953.3435555555625,7134.683604166654,7245.355590277774,7517.173243055547,7606.3253402777855,7650.6316527777735,7348.645666666662,7304.900631944444,7314.7666180555525,7270.673402777762,7323.309291666665,7400.0534583333465,7528.846881944451,7492.731986111113,7457.295076388893,7296.410291666656,7207.222791666654,7168.459611111118,7223.303312499989,7161.130368055555,7086.415743055554,7029.234916666685,6786.042208333315,6764.270999999999,7142.784215277776,7146.792395833337,7145.7828611111245,7223.1364375,7498.732916666666,7291.582034722215,7207.958291666657,7217.217041666672,7188.046229166672,7295.742861111097,7342.539437499993,7295.128465277774,7196.087972222214,7193.5475469075745,7069.474138888885,7213.336312500004,7318.995472222216,7427.370173611111,7529.508874999991,7923.703361111092,8228.576625000016,7893.945340277785,7882.194548611113,8108.984187499997,8107.9940347222055,8098.947430555564,8567.114777777766,8737.056493055552,8668.648472222216,8846.009659722213,8886.831395833335,8841.619715277775,8640.270756944434,8642.026243055563,8662.160361111108,8431.59334722222,8378.999506944443,8316.90437499999,8425.080527777758,8717.224986111116,9034.490374999996,9324.004159722208,9363.687326388892,9335.80509027778,9367.209006944448,9370.842805555534,9323.8956111111,9196.948027777784,9396.034048611096,9681.624743055541,9770.340999999997,9807.83066666667,10075.082687500002,9915.559027777774,9950.87043750001,10337.043944444442,10277.623555555547,10254.924118055524,10137.222500000007,9898.214097222213,9711.722076388887,9838.014604166654,10091.2276388889,9574.504215277791,9683.276611111112,9656.527034722234,9864.787722222227,9727.532631944425,9482.903180555535,9025.065951388886,8788.212465277797,8690.838513888877,8681.15899305556,8551.665645833322,8741.713611111116,8785.272375000017,8756.334638888879,9014.439986111094,9093.666402777773,9049.815993055543,8564.314569444441,7873.723930555552,7941.668277777781,7844.282840277782,6650.317368055559,5270.728486111096,5401.661854166662,5293.558986111111,4976.626965277776,5305.998055555551,5279.772347222227,5751.596118055537,6350.509576388886,6162.701520833336,6133.192527777779,6097.936027777772,6645.333791666667,6655.252368055554,6667.618305555559,6687.389319444458,6222.494888888881,6102.997979166666,6267.787124999998,6447.823798611123,6304.13076388888,6717.675020833334,6808.741388888877,6768.839173611106,6793.672076388886,7084.892652777777,7312.62784722222,7297.623423611111,7301.43697222223,6972.1427916666635,6869.350013888894,6945.047076388887,6747.376895833329,6881.101312500014,6798.897874999997,6907.123076388882,7069.129965277787,7150.269381944445,7165.5260972222195,7048.561520833336,6864.715298611114,6997.971076388885,7290.113041666655,7518.44195833334,7542.397826388902,7597.422493055597,7711.803083333342,7727.881201388896,8237.068159722208,8883.3360625,8777.93650694445,8868.795541666675,8974.410930555552,8766.723062499983,8925.45578472222,9156.54502083334,9482.84720138889,9918.36185416668,9721.369250000002,8676.722541666666,8696.153194444432,8767.645965277785,9039.383340277771,9568.999083333334,9515.650458333317,9398.29862499999,9619.263604166676,9715.166680555549,9664.018222222223,9666.408319444434,9273.802097222218,9120.775104166674,9203.667729166686,9119.35799305556,8814.67520833333,8855.308854166657,9023.13741666665,9315.41309722223,9450.17677777776,9502.869756944445,9543.05739583333,9579.187486111097,9873.242465277766,9547.37786111111,9695.036395833313,9737.920083333329,9633.292520833314,9617.356319444467,9722.432777777787,9708.806958333342,9784.486513888884,9638.672791666675,9407.564437499997,9424.531111111115,9402.098354166663,9239.847993055559,9490.456687499996,9439.80325694446,9403.164222222242,9323.126562500014,9298.575194444447,9346.667347222232,9477.753291666671,9635.45651388888,9437.377145833347,9227.782451388875,9177.52546527778,9104.35529861112,9052.870041666676,9113.371326388886,9148.549854166666,9188.671194444434,9163.903180555564,9091.801284722213,9089.769722222209,9062.040388888907,9210.036972222219,9267.196180555575,9342.976625,9327.101437499992,9197.713625000011,9237.395173611121,9247.99051388889,9275.986472222225,9217.374118055559,9219.566902777791,9129.792895833316,9132.572201388877,9160.3211388889,9153.391916666638,9175.907652777767,9304.84539583331,9363.731090277784,9538.305687499998,9554.718749999989,9616.50386111111,9829.96479861111,10425.466736111108,10976.604243055577,11089.744111111113,11028.74923611111,11190.745798611122,11602.824229166657,11324.160631944433,11249.211291666667,11238.31977083331,11459.197368055547,11750.167256944456,11710.925048611116,11681.001847222227,11668.893111111112,11893.211,11625.812979166672,11457.722923611109,11545.326097222242,11750.278145833332,11872.21839583334,11846.756423611116,12048.36193749999,12157.74674305557,11790.629569444443,11794.621798611113,11739.188555555564,11556.272645833327,11618.426840277785,11730.211375000006,11503.37139583334,11398.500881944481,11340.493048611119,11437.46969444442,11503.740590277766,11605.020770833356,11680.12824999998,11869.10400694444,11570.515576388892,11030.951145833333,10383.199104166659,10261.224479166645,10196.518652777777,10154.991291666678,10141.727784722205,10183.67005555558,10334.286284722211,10299.21561805555,10370.276430555556,10392.268819444453,10506.716819444444,10768.977097222225,10889.999597222219,10888.520965277803,10921.697645833334,11009.112819444437,10912.647368055555,10672.113138888879,10464.347111111107,10428.862506944439,10439.431333333323,10667.692451388884,10713.929986111112,10714.938576388893,10875.699506944451,10726.300444444441,10738.165472222216,10752.180034722222,10524.597631944443,10547.47866666669,10603.177173611097,10702.492444444451,10696.525506944448,10618.110173611089,10730.641236111114,10979.056874999987,11333.106083333338,11357.573069444445,11443.111180555543,11447.124187499998,11402.653972222226,11411.16315277777,11361.343138888886,11341.379277777793,11428.763312499981,11578.754611111113,11840.56698611111,12450.206624999984,12926.04655555554,12928.923722222202,13025.841937500003,13051.613770833337,13062.40425694446,13356.652229166655,13436.553763888869,13323.487201388865,13428.593770833342,13731.981736111122,13763.822256944442,13591.168888888898,13605.75515277778,13891.109368055557,14718.76540277779,15571.518284722239,15336.195798611114,15193.332465277788,15371.673090277802,15320.133625,15586.320527777774,15918.538381944409,16283.589618055546,16023.784736111109,15991.491798611105,16364.523826388891,17073.57989583337,17867.873631944447,17831.925298611106,18325.10837500001,18701.21525694443,18420.85166666665,18399.09888888889,23645.45394002068,23239.008868055535,23080.52792361115,23510.528354166676,23202.666743055535,24000.61822222221,25250.055659722228,27016.12524999993,26942.879909722145,26651.523930555555,28117.585881944447,28857.993638888875,29271.407769284284,30723.941208333315,33425.661465277786,31807.243888888916,32230.931611111082,34862.60899999995,38015.81094444435,39745.853319444446,40357.88836111116,39678.68708333333,34180.648479166695,34786.42584027775,34629.69639583334,38470.91091666665,37425.1131597222,36810.0214583333,35621.9473819445,36020.07331944452,36833.16235416669,35121.008645833244,32904.70625000004,31818.57897916664,32326.46211805547,32205.395173611134,33321.92620138888,31963.60858333334,31112.266437500028,31762.66454861112,34986.57436111112,34019.21230555557,33427.32811111103,33678.04415277776,34686.426750000006,36548.06093750003,37509.65757638887,37607.48777777783,39785.71549999997,38686.94450694444,41144.17559027778,46634.657354166615,45758.32629166668,46232.03086805554,47567.9914652778,47247.562104166675,48569.02671527776,47829.989798611095,48807.641069444464,50876.056298611125,51867.903208333344,53049.17027083334,56233.95636111113,57010.129555555526,54637.4097013889,48861.96306944443,49742.39828472217,49937.384111111,46594.5531319444,47098.895118055494,44778.851118055536,47603.92456944437,48583.88206249992,50392.530395833266,49354.350000000064,47679.180812499995,48349.31744444447,50190.501506944434,50767.417520833376,53947.84249999996,55332.20783333341,56230.638798611086,56788.93047916675,58757.401430555525,60428.18357638877,57462.95045138885,55297.895611111104,56118.44899999999,58437.665013888894,58251.43534722223,58754.07513888888,57285.74868750004,56752.55593750008,54667.339652777824,55091.222930555545,52078.32468750006,53210.55925694454,55167.960937500065,55811.160888888975,56881.69304166668,58323.204743055605,58672.217506944464,58849.540513888904,59247.202152777856,58914.95915277772,57708.667034722195,58073.13527083337,58437.65066666675,56938.50531944436,57160.087479166636,58190.29972222221,59829.0604722222,59756.055236111075,60066.940909722325,62140.93052777764,63440.10865972226,62891.49038888896,61723.0445138888,61306.91199305555,55996.91695138891,56373.092027777726,55491.49031944441,55412.24612499993,53747.896694444455,49812.75020833333,50045.55894444441,49621.97942361116,52998.90268055551,54575.60759722224,54769.856986111125,53862.79822222212,55272.157840277876,57786.7189236111,56846.89839583327,57901.48920833335,55255.898812499894,55870.790034722246,56943.02640277773,56798.01484027774,58525.30946527768,57968.42544444452,57719.33750694446,55841.431062500036,55884.05677777775,49773.67292361111,50162.63483333335,48810.29106250005,47669.15934722225,44241.37064583339,44146.16487500004,38971.287083333336,39784.19205555554,39039.087208333294,37458.45728472223,34980.51231250002,36971.71779166658,38041.36626388886,39228.64194444444,38782.63876388889,36570.36489583334,35221.083798611086,35463.25322222222,36136.34434027778,36552.65804166665,37262.0819236111,38513.65100694443,37068.568493055514,36567.2597777778,35948.792576388936,35866.66008333335,32854.893263888865,34844.4669097222,36978.0895416666,36982.678722222256,35703.805215277855,36372.09377777774,39652.325027777806,40195.900472222245,39394.116041666624,38585.591347222246,36968.681465277776,35736.81686111114,35041.06726388887,33094.666402777795,31962.169874999978,33723.52151388884,33728.16793749998,33342.63763194443,31458.677909722235,33033.12749305553,34455.04145833328,35540.366458333396,34909.37417361114,33707.74918750003,33275.98403472226,34298.33058333332,35274.57734722219,34087.02688888892,34144.72713888884,34548.72775,32881.7678611111,33163.94881249999,33698.536576388884,33792.15228472219,33684.322770833365,32839.71023611109,32475.5505208333,32083.838861111148,31740.978208333352,31551.37272916667,31764.230597222213,31166.37915972222,29819.495208333272,31178.17334722219,32124.406423611075,32480.79270138894,33868.04233333334,34379.060479166656,38276.400993055555,37666.06540277778,39843.23998611109,39846.19356250001,39616.24988194443,41627.174104166595,41463.87616666674,39582.200159722226,38434.539194444405,38688.746819444474,39404.0287430556,41339.332034722334,43540.543631944405,44327.65924999999,44877.18944444445,45580.04084027776,46072.55454861116,44909.522597222174,46195.398326388844,47107.113548611014,46428.01880555555,46904.48694444441,45942.51764583338,45125.76140277776,45197.70897916668,47759.23855555553,49033.76181250004,48893.31356944448,49873.95778472228,48893.095888889,48248.51052777778,47328.87285416667,47726.47381944443,48893.862659722305,48656.37862499997,48072.87603472225,47287.904951388904,47668.18531944453,49648.91170138897,49890.260215277776,50067.16309722226,50353.765986111095,51778.30833333332,49929.99718055563,46269.983534722196,46405.01965277778,45903.0236180555,45364.321874999965,45632.32446527773,44782.93722916665,46038.05329166665,47575.85168749998,47884.22034027775,47567.38082638886,48230.09752083334,47722.20063194442,44593.11495833336,42402.03249305557,42549.98106944455,44082.5337222222,43103.38295833334,42582.89334027771,42785.0399374999,43508.5491319444,41916.27121527774,41810.13812499998,43245.91036111107,46042.94386111113,47834.763548611176,48017.43086111107,48143.22701388889,50061.98185416662,52896.32821527778,54339.07935416671,54438.17562499995,54731.26416666654,55144.684750000066,56692.92868750008,56601.41701388883,56024.24174305557,57622.67356249992,59850.62734722226,61256.96188888884,60824.33322916661,61761.29096527778,62706.6191805556,64937.46216666674,64284.580659722225,62148.401972222244,61072.41052083332,60692.79115277764,62594.216166666665,62282.998347222216,59479.51488194445,60217.04312500005,61552.448499999984,61605.038576388826,61098.42489583335,61265.28138194446,62524.952333333305,62832.019895833386,61835.31825694444,61512.305312499935,60975.48093055556,62124.47147916659,65775.49660416655,67507.75597916661,66829.53143750009,64908.26234027787,64154.96511111099,64035.51340972228,64466.56509722222,65085.05479166662,60767.160486111105,59852.06934722217,58969.16567361109,57199.82182638889,58698.809145833315,59157.87761805557,57345.869437499976,56891.162298611074,56739.79637499997,58258.37003472214,55644.42071527782,54668.85793749996,54610.66857638888,57589.313805555554,57330.319479166654,57376.81918749993,56682.20986805553,55847.49412500001,48986.79736805558,49109.20745138888,48819.81559722223,51000.66158333337,50307.10440972225,49054.04611111106,48227.86353472228,48468.9632152778,49580.33129861113,48180.819652777835,47186.995076388834,48110.85206249998,48577.89389583338,47056.87009027769,46621.52119444448,47186.028291666684,46416.80961111115,48409.40831249998,48978.657395833325,49086.34594444448,51046.88480555555,50848.903097222195,50162.08928472216,51071.914916666596,48845.92066666667,47568.874166666676,47089.17708333334,47275.01119444434,47113.05953472221,47240.53328472228,46811.23425694452,46414.374152777746,45854.16549305545,43074.93521527781,41970.95193055554,41696.79798611111,41896.23324305559,41593.225388888895,42196.38829166662,43191.11165277783,43422.37257638887,42751.58102083329,43140.61047222228,43106.034131944456,42539.00613194453,41932.70860416669,41907.07695833335,42200.75560416661,38626.52496527778,35476.97999999999,35419.700409722194,35072.70752777788,36498.4887708334,37490.93665972219,36346.14756249999,37044.37602083341,37829.94952777777,37959.876451388925,37561.345687499976,38563.420756944455,38044.45187499998,36807.926645833344,38665.61724999998,41528.85353472224,41613.01442361103,43112.770631944484,43862.9023472222,43942.41831944449,44331.7834861111,43168.36281250006,42334.30741666661,42345.490986111115,42232.0187361111,43890.313756944444,44004.218687500004,42637.4708611111,40403.70766666665,40075.356736111105,38749.8042291666,38481.23308333333,37402.457736111115,38214.8765486111,36102.12479166665,38818.367326388885,39221.632291666676,38701.2652777778,39391.10100000007,43243.34443946188],\"yaxis\":\"y\",\"type\":\"scattergl\"}],                        {\"template\":{\"data\":{\"histogram2dcontour\":[{\"type\":\"histogram2dcontour\",\"colorbar\":{\"outlinewidth\":0,\"ticks\":\"\"},\"colorscale\":[[0.0,\"#0d0887\"],[0.1111111111111111,\"#46039f\"],[0.2222222222222222,\"#7201a8\"],[0.3333333333333333,\"#9c179e\"],[0.4444444444444444,\"#bd3786\"],[0.5555555555555556,\"#d8576b\"],[0.6666666666666666,\"#ed7953\"],[0.7777777777777778,\"#fb9f3a\"],[0.8888888888888888,\"#fdca26\"],[1.0,\"#f0f921\"]]}],\"choropleth\":[{\"type\":\"choropleth\",\"colorbar\":{\"outlinewidth\":0,\"ticks\":\"\"}}],\"histogram2d\":[{\"type\":\"histogram2d\",\"colorbar\":{\"outlinewidth\":0,\"ticks\":\"\"},\"colorscale\":[[0.0,\"#0d0887\"],[0.1111111111111111,\"#46039f\"],[0.2222222222222222,\"#7201a8\"],[0.3333333333333333,\"#9c179e\"],[0.4444444444444444,\"#bd3786\"],[0.5555555555555556,\"#d8576b\"],[0.6666666666666666,\"#ed7953\"],[0.7777777777777778,\"#fb9f3a\"],[0.8888888888888888,\"#fdca26\"],[1.0,\"#f0f921\"]]}],\"heatmap\":[{\"type\":\"heatmap\",\"colorbar\":{\"outlinewidth\":0,\"ticks\":\"\"},\"colorscale\":[[0.0,\"#0d0887\"],[0.1111111111111111,\"#46039f\"],[0.2222222222222222,\"#7201a8\"],[0.3333333333333333,\"#9c179e\"],[0.4444444444444444,\"#bd3786\"],[0.5555555555555556,\"#d8576b\"],[0.6666666666666666,\"#ed7953\"],[0.7777777777777778,\"#fb9f3a\"],[0.8888888888888888,\"#fdca26\"],[1.0,\"#f0f921\"]]}],\"heatmapgl\":[{\"type\":\"heatmapgl\",\"colorbar\":{\"outlinewidth\":0,\"ticks\":\"\"},\"colorscale\":[[0.0,\"#0d0887\"],[0.1111111111111111,\"#46039f\"],[0.2222222222222222,\"#7201a8\"],[0.3333333333333333,\"#9c179e\"],[0.4444444444444444,\"#bd3786\"],[0.5555555555555556,\"#d8576b\"],[0.6666666666666666,\"#ed7953\"],[0.7777777777777778,\"#fb9f3a\"],[0.8888888888888888,\"#fdca26\"],[1.0,\"#f0f921\"]]}],\"contourcarpet\":[{\"type\":\"contourcarpet\",\"colorbar\":{\"outlinewidth\":0,\"ticks\":\"\"}}],\"contour\":[{\"type\":\"contour\",\"colorbar\":{\"outlinewidth\":0,\"ticks\":\"\"},\"colorscale\":[[0.0,\"#0d0887\"],[0.1111111111111111,\"#46039f\"],[0.2222222222222222,\"#7201a8\"],[0.3333333333333333,\"#9c179e\"],[0.4444444444444444,\"#bd3786\"],[0.5555555555555556,\"#d8576b\"],[0.6666666666666666,\"#ed7953\"],[0.7777777777777778,\"#fb9f3a\"],[0.8888888888888888,\"#fdca26\"],[1.0,\"#f0f921\"]]}],\"surface\":[{\"type\":\"surface\",\"colorbar\":{\"outlinewidth\":0,\"ticks\":\"\"},\"colorscale\":[[0.0,\"#0d0887\"],[0.1111111111111111,\"#46039f\"],[0.2222222222222222,\"#7201a8\"],[0.3333333333333333,\"#9c179e\"],[0.4444444444444444,\"#bd3786\"],[0.5555555555555556,\"#d8576b\"],[0.6666666666666666,\"#ed7953\"],[0.7777777777777778,\"#fb9f3a\"],[0.8888888888888888,\"#fdca26\"],[1.0,\"#f0f921\"]]}],\"mesh3d\":[{\"type\":\"mesh3d\",\"colorbar\":{\"outlinewidth\":0,\"ticks\":\"\"}}],\"scatter\":[{\"fillpattern\":{\"fillmode\":\"overlay\",\"size\":10,\"solidity\":0.2},\"type\":\"scatter\"}],\"parcoords\":[{\"type\":\"parcoords\",\"line\":{\"colorbar\":{\"outlinewidth\":0,\"ticks\":\"\"}}}],\"scatterpolargl\":[{\"type\":\"scatterpolargl\",\"marker\":{\"colorbar\":{\"outlinewidth\":0,\"ticks\":\"\"}}}],\"bar\":[{\"error_x\":{\"color\":\"#2a3f5f\"},\"error_y\":{\"color\":\"#2a3f5f\"},\"marker\":{\"line\":{\"color\":\"#E5ECF6\",\"width\":0.5},\"pattern\":{\"fillmode\":\"overlay\",\"size\":10,\"solidity\":0.2}},\"type\":\"bar\"}],\"scattergeo\":[{\"type\":\"scattergeo\",\"marker\":{\"colorbar\":{\"outlinewidth\":0,\"ticks\":\"\"}}}],\"scatterpolar\":[{\"type\":\"scatterpolar\",\"marker\":{\"colorbar\":{\"outlinewidth\":0,\"ticks\":\"\"}}}],\"histogram\":[{\"marker\":{\"pattern\":{\"fillmode\":\"overlay\",\"size\":10,\"solidity\":0.2}},\"type\":\"histogram\"}],\"scattergl\":[{\"type\":\"scattergl\",\"marker\":{\"colorbar\":{\"outlinewidth\":0,\"ticks\":\"\"}}}],\"scatter3d\":[{\"type\":\"scatter3d\",\"line\":{\"colorbar\":{\"outlinewidth\":0,\"ticks\":\"\"}},\"marker\":{\"colorbar\":{\"outlinewidth\":0,\"ticks\":\"\"}}}],\"scattermapbox\":[{\"type\":\"scattermapbox\",\"marker\":{\"colorbar\":{\"outlinewidth\":0,\"ticks\":\"\"}}}],\"scatterternary\":[{\"type\":\"scatterternary\",\"marker\":{\"colorbar\":{\"outlinewidth\":0,\"ticks\":\"\"}}}],\"scattercarpet\":[{\"type\":\"scattercarpet\",\"marker\":{\"colorbar\":{\"outlinewidth\":0,\"ticks\":\"\"}}}],\"carpet\":[{\"aaxis\":{\"endlinecolor\":\"#2a3f5f\",\"gridcolor\":\"white\",\"linecolor\":\"white\",\"minorgridcolor\":\"white\",\"startlinecolor\":\"#2a3f5f\"},\"baxis\":{\"endlinecolor\":\"#2a3f5f\",\"gridcolor\":\"white\",\"linecolor\":\"white\",\"minorgridcolor\":\"white\",\"startlinecolor\":\"#2a3f5f\"},\"type\":\"carpet\"}],\"table\":[{\"cells\":{\"fill\":{\"color\":\"#EBF0F8\"},\"line\":{\"color\":\"white\"}},\"header\":{\"fill\":{\"color\":\"#C8D4E3\"},\"line\":{\"color\":\"white\"}},\"type\":\"table\"}],\"barpolar\":[{\"marker\":{\"line\":{\"color\":\"#E5ECF6\",\"width\":0.5},\"pattern\":{\"fillmode\":\"overlay\",\"size\":10,\"solidity\":0.2}},\"type\":\"barpolar\"}],\"pie\":[{\"automargin\":true,\"type\":\"pie\"}]},\"layout\":{\"autotypenumbers\":\"strict\",\"colorway\":[\"#636efa\",\"#EF553B\",\"#00cc96\",\"#ab63fa\",\"#FFA15A\",\"#19d3f3\",\"#FF6692\",\"#B6E880\",\"#FF97FF\",\"#FECB52\"],\"font\":{\"color\":\"#2a3f5f\"},\"hovermode\":\"closest\",\"hoverlabel\":{\"align\":\"left\"},\"paper_bgcolor\":\"white\",\"plot_bgcolor\":\"#E5ECF6\",\"polar\":{\"bgcolor\":\"#E5ECF6\",\"angularaxis\":{\"gridcolor\":\"white\",\"linecolor\":\"white\",\"ticks\":\"\"},\"radialaxis\":{\"gridcolor\":\"white\",\"linecolor\":\"white\",\"ticks\":\"\"}},\"ternary\":{\"bgcolor\":\"#E5ECF6\",\"aaxis\":{\"gridcolor\":\"white\",\"linecolor\":\"white\",\"ticks\":\"\"},\"baxis\":{\"gridcolor\":\"white\",\"linecolor\":\"white\",\"ticks\":\"\"},\"caxis\":{\"gridcolor\":\"white\",\"linecolor\":\"white\",\"ticks\":\"\"}},\"coloraxis\":{\"colorbar\":{\"outlinewidth\":0,\"ticks\":\"\"}},\"colorscale\":{\"sequential\":[[0.0,\"#0d0887\"],[0.1111111111111111,\"#46039f\"],[0.2222222222222222,\"#7201a8\"],[0.3333333333333333,\"#9c179e\"],[0.4444444444444444,\"#bd3786\"],[0.5555555555555556,\"#d8576b\"],[0.6666666666666666,\"#ed7953\"],[0.7777777777777778,\"#fb9f3a\"],[0.8888888888888888,\"#fdca26\"],[1.0,\"#f0f921\"]],\"sequentialminus\":[[0.0,\"#0d0887\"],[0.1111111111111111,\"#46039f\"],[0.2222222222222222,\"#7201a8\"],[0.3333333333333333,\"#9c179e\"],[0.4444444444444444,\"#bd3786\"],[0.5555555555555556,\"#d8576b\"],[0.6666666666666666,\"#ed7953\"],[0.7777777777777778,\"#fb9f3a\"],[0.8888888888888888,\"#fdca26\"],[1.0,\"#f0f921\"]],\"diverging\":[[0,\"#8e0152\"],[0.1,\"#c51b7d\"],[0.2,\"#de77ae\"],[0.3,\"#f1b6da\"],[0.4,\"#fde0ef\"],[0.5,\"#f7f7f7\"],[0.6,\"#e6f5d0\"],[0.7,\"#b8e186\"],[0.8,\"#7fbc41\"],[0.9,\"#4d9221\"],[1,\"#276419\"]]},\"xaxis\":{\"gridcolor\":\"white\",\"linecolor\":\"white\",\"ticks\":\"\",\"title\":{\"standoff\":15},\"zerolinecolor\":\"white\",\"automargin\":true,\"zerolinewidth\":2},\"yaxis\":{\"gridcolor\":\"white\",\"linecolor\":\"white\",\"ticks\":\"\",\"title\":{\"standoff\":15},\"zerolinecolor\":\"white\",\"automargin\":true,\"zerolinewidth\":2},\"scene\":{\"xaxis\":{\"backgroundcolor\":\"#E5ECF6\",\"gridcolor\":\"white\",\"linecolor\":\"white\",\"showbackground\":true,\"ticks\":\"\",\"zerolinecolor\":\"white\",\"gridwidth\":2},\"yaxis\":{\"backgroundcolor\":\"#E5ECF6\",\"gridcolor\":\"white\",\"linecolor\":\"white\",\"showbackground\":true,\"ticks\":\"\",\"zerolinecolor\":\"white\",\"gridwidth\":2},\"zaxis\":{\"backgroundcolor\":\"#E5ECF6\",\"gridcolor\":\"white\",\"linecolor\":\"white\",\"showbackground\":true,\"ticks\":\"\",\"zerolinecolor\":\"white\",\"gridwidth\":2}},\"shapedefaults\":{\"line\":{\"color\":\"#2a3f5f\"}},\"annotationdefaults\":{\"arrowcolor\":\"#2a3f5f\",\"arrowhead\":0,\"arrowwidth\":1},\"geo\":{\"bgcolor\":\"white\",\"landcolor\":\"#E5ECF6\",\"subunitcolor\":\"white\",\"showland\":true,\"showlakes\":true,\"lakecolor\":\"white\"},\"title\":{\"x\":0.05},\"mapbox\":{\"style\":\"light\"}}},\"xaxis\":{\"anchor\":\"y\",\"domain\":[0.0,1.0],\"title\":{\"text\":\"date\"},\"showgrid\":false},\"yaxis\":{\"anchor\":\"x\",\"domain\":[0.0,1.0],\"title\":{\"text\":\"Stock value\"},\"showgrid\":false},\"legend\":{\"title\":{\"text\":\"Stock Parameters\"},\"tracegroupgap\":0},\"margin\":{\"t\":60},\"title\":{\"text\":\"Stock analysis chart\"},\"font\":{\"size\":15,\"color\":\"black\"}},                        {\"responsive\": true}                    ).then(function(){\n",
              "                            \n",
              "var gd = document.getElementById('cb1e67b4-1cee-412c-9502-d299fd831dc0');\n",
              "var x = new MutationObserver(function (mutations, observer) {{\n",
              "        var display = window.getComputedStyle(gd).display;\n",
              "        if (!display || display === 'none') {{\n",
              "            console.log([gd, 'removed!']);\n",
              "            Plotly.purge(gd);\n",
              "            observer.disconnect();\n",
              "        }}\n",
              "}});\n",
              "\n",
              "// Listen for the removal of the full notebook cells\n",
              "var notebookContainer = gd.closest('#notebook-container');\n",
              "if (notebookContainer) {{\n",
              "    x.observe(notebookContainer, {childList: true});\n",
              "}}\n",
              "\n",
              "// Listen for the clearing of the current output cell\n",
              "var outputEl = gd.closest('.output');\n",
              "if (outputEl) {{\n",
              "    x.observe(outputEl, {childList: true});\n",
              "}}\n",
              "\n",
              "                        })                };                            </script>        </div>\n",
              "</body>\n",
              "</html>"
            ]
          },
          "metadata": {}
        }
      ]
    },
    {
      "cell_type": "markdown",
      "metadata": {
        "id": "3ff-kINgcP4e"
      },
      "source": [
        "### 3.3 Model preparation"
      ]
    },
    {
      "cell_type": "markdown",
      "metadata": {
        "id": "9zhw9XcxlX95"
      },
      "source": [
        "Now, let's divide the features X and the target variable y (stroke):"
      ]
    },
    {
      "cell_type": "code",
      "execution_count": null,
      "metadata": {
        "id": "onQoz12alhdw"
      },
      "outputs": [],
      "source": [
        "X = df[df.columns[:-1]]\n",
        "y = df[df.columns[-1]]"
      ]
    },
    {
      "cell_type": "markdown",
      "metadata": {
        "id": "cBVRqzlFcP4f"
      },
      "source": [
        "Extract the features to use to make the prediction (the x’s) as well as the target value (the y vector that in this case is the “stroke” column) "
      ]
    },
    {
      "cell_type": "code",
      "execution_count": null,
      "metadata": {
        "colab": {
          "base_uri": "https://localhost:8080/"
        },
        "id": "It86Pac7cP4f",
        "outputId": "abb667ee-5006-4d9a-8361-56bbdfe58e35"
      },
      "outputs": [
        {
          "name": "stdout",
          "output_type": "stream",
          "text": [
            "No. of training examples: 4087\n",
            "No. of testing examples: 1022\n"
          ]
        }
      ],
      "source": [
        "# Divide the dataset into training set (it will used to build the model) and testing set (it will be used to test it and make performance evaluation). \n",
        "# Usually the splitting is made is made this way: 75% for the training set, 25% for the testing set.\n",
        "X_train, X_test, y_train, y_test = train_test_split(X, y, test_size = 0.2, random_state = 0)\n",
        "\n",
        "print(f\"No. of training examples: {X_train.shape[0]}\")\n",
        "print(f\"No. of testing examples: {X_test.shape[0]}\")"
      ]
    },
    {
      "cell_type": "markdown",
      "metadata": {
        "id": "SB98AYjZIx5Q"
      },
      "source": [
        "### 3.4 Feature Selection\n"
      ]
    },
    {
      "cell_type": "markdown",
      "metadata": {
        "id": "zu3OAsdaLjhE"
      },
      "source": [
        "The aim of this section is to remove the features that have less of an impact to the final result from the dataframe. This operation is called feature selection. Let's plot a correlation map to see how features are correlated among each other:"
      ]
    },
    {
      "cell_type": "code",
      "execution_count": null,
      "metadata": {
        "colab": {
          "base_uri": "https://localhost:8080/",
          "height": 394
        },
        "id": "dJT2S9NlACq2",
        "outputId": "f3723b98-abd0-4527-a873-f0110ec1de0b"
      },
      "outputs": [
        {
          "data": {
            "text/html": [
              "<style type=\"text/css\">\n",
              "#T_e762c_row0_col0, #T_e762c_row1_col1, #T_e762c_row2_col2, #T_e762c_row3_col3, #T_e762c_row4_col4, #T_e762c_row5_col5, #T_e762c_row6_col6, #T_e762c_row7_col7, #T_e762c_row8_col8, #T_e762c_row9_col9, #T_e762c_row10_col10 {\n",
              "  background-color: #03051a;\n",
              "  color: #f1f1f1;\n",
              "}\n",
              "#T_e762c_row0_col1, #T_e762c_row3_col5 {\n",
              "  background-color: #f58a61;\n",
              "  color: #f1f1f1;\n",
              "}\n",
              "#T_e762c_row0_col2, #T_e762c_row8_col3, #T_e762c_row10_col0 {\n",
              "  background-color: #f8d1b8;\n",
              "  color: #000000;\n",
              "}\n",
              "#T_e762c_row0_col3, #T_e762c_row5_col0, #T_e762c_row7_col0 {\n",
              "  background-color: #f6c19f;\n",
              "  color: #000000;\n",
              "}\n",
              "#T_e762c_row0_col4, #T_e762c_row6_col9, #T_e762c_row10_col5 {\n",
              "  background-color: #f58b63;\n",
              "  color: #f1f1f1;\n",
              "}\n",
              "#T_e762c_row0_col5 {\n",
              "  background-color: #f26d4b;\n",
              "  color: #f1f1f1;\n",
              "}\n",
              "#T_e762c_row0_col6, #T_e762c_row1_col5, #T_e762c_row2_col6, #T_e762c_row5_col1, #T_e762c_row5_col2, #T_e762c_row5_col3, #T_e762c_row5_col4, #T_e762c_row5_col6, #T_e762c_row5_col7, #T_e762c_row5_col8, #T_e762c_row5_col9, #T_e762c_row5_col10, #T_e762c_row7_col6, #T_e762c_row9_col0 {\n",
              "  background-color: #faebdd;\n",
              "  color: #000000;\n",
              "}\n",
              "#T_e762c_row0_col7 {\n",
              "  background-color: #f7c6a6;\n",
              "  color: #000000;\n",
              "}\n",
              "#T_e762c_row0_col8, #T_e762c_row7_col2 {\n",
              "  background-color: #f5966c;\n",
              "  color: #000000;\n",
              "}\n",
              "#T_e762c_row0_col9, #T_e762c_row7_col3 {\n",
              "  background-color: #f6a37a;\n",
              "  color: #000000;\n",
              "}\n",
              "#T_e762c_row0_col10, #T_e762c_row6_col2, #T_e762c_row8_col5, #T_e762c_row9_col5 {\n",
              "  background-color: #f8dcc7;\n",
              "  color: #000000;\n",
              "}\n",
              "#T_e762c_row1_col0, #T_e762c_row8_col0 {\n",
              "  background-color: #f9dfcb;\n",
              "  color: #000000;\n",
              "}\n",
              "#T_e762c_row1_col2 {\n",
              "  background-color: #f26b49;\n",
              "  color: #f1f1f1;\n",
              "}\n",
              "#T_e762c_row1_col3, #T_e762c_row7_col9 {\n",
              "  background-color: #f37852;\n",
              "  color: #f1f1f1;\n",
              "}\n",
              "#T_e762c_row1_col4, #T_e762c_row4_col1 {\n",
              "  background-color: #5b1e51;\n",
              "  color: #f1f1f1;\n",
              "}\n",
              "#T_e762c_row1_col6, #T_e762c_row10_col6 {\n",
              "  background-color: #f9e3d2;\n",
              "  color: #000000;\n",
              "}\n",
              "#T_e762c_row1_col7, #T_e762c_row6_col1 {\n",
              "  background-color: #f47c55;\n",
              "  color: #f1f1f1;\n",
              "}\n",
              "#T_e762c_row1_col8 {\n",
              "  background-color: #ce1d4e;\n",
              "  color: #f1f1f1;\n",
              "}\n",
              "#T_e762c_row1_col9 {\n",
              "  background-color: #df2f44;\n",
              "  color: #f1f1f1;\n",
              "}\n",
              "#T_e762c_row1_col10, #T_e762c_row3_col8, #T_e762c_row10_col8 {\n",
              "  background-color: #f47f58;\n",
              "  color: #f1f1f1;\n",
              "}\n",
              "#T_e762c_row2_col0 {\n",
              "  background-color: #f7cdb1;\n",
              "  color: #000000;\n",
              "}\n",
              "#T_e762c_row2_col1 {\n",
              "  background-color: #d62449;\n",
              "  color: #f1f1f1;\n",
              "}\n",
              "#T_e762c_row2_col3 {\n",
              "  background-color: #f6b995;\n",
              "  color: #000000;\n",
              "}\n",
              "#T_e762c_row2_col4 {\n",
              "  background-color: #eb483e;\n",
              "  color: #f1f1f1;\n",
              "}\n",
              "#T_e762c_row2_col5, #T_e762c_row7_col5 {\n",
              "  background-color: #f59067;\n",
              "  color: #f1f1f1;\n",
              "}\n",
              "#T_e762c_row2_col7, #T_e762c_row8_col7 {\n",
              "  background-color: #f5976e;\n",
              "  color: #000000;\n",
              "}\n",
              "#T_e762c_row2_col8 {\n",
              "  background-color: #ee523f;\n",
              "  color: #f1f1f1;\n",
              "}\n",
              "#T_e762c_row2_col9 {\n",
              "  background-color: #f26747;\n",
              "  color: #f1f1f1;\n",
              "}\n",
              "#T_e762c_row2_col10, #T_e762c_row9_col2 {\n",
              "  background-color: #f6b089;\n",
              "  color: #000000;\n",
              "}\n",
              "#T_e762c_row3_col0, #T_e762c_row4_col3 {\n",
              "  background-color: #f6b691;\n",
              "  color: #000000;\n",
              "}\n",
              "#T_e762c_row3_col1, #T_e762c_row9_col1 {\n",
              "  background-color: #d82748;\n",
              "  color: #f1f1f1;\n",
              "}\n",
              "#T_e762c_row3_col2 {\n",
              "  background-color: #f6b18b;\n",
              "  color: #000000;\n",
              "}\n",
              "#T_e762c_row3_col4 {\n",
              "  background-color: #ef5a41;\n",
              "  color: #f1f1f1;\n",
              "}\n",
              "#T_e762c_row3_col6 {\n",
              "  background-color: #fae8d8;\n",
              "  color: #000000;\n",
              "}\n",
              "#T_e762c_row3_col7 {\n",
              "  background-color: #f69c73;\n",
              "  color: #000000;\n",
              "}\n",
              "#T_e762c_row3_col9 {\n",
              "  background-color: #f47d57;\n",
              "  color: #f1f1f1;\n",
              "}\n",
              "#T_e762c_row3_col10 {\n",
              "  background-color: #f6ad85;\n",
              "  color: #000000;\n",
              "}\n",
              "#T_e762c_row4_col0, #T_e762c_row6_col3 {\n",
              "  background-color: #f9e0cd;\n",
              "  color: #000000;\n",
              "}\n",
              "#T_e762c_row4_col2, #T_e762c_row8_col2 {\n",
              "  background-color: #f69b71;\n",
              "  color: #000000;\n",
              "}\n",
              "#T_e762c_row4_col5, #T_e762c_row8_col6 {\n",
              "  background-color: #fae9da;\n",
              "  color: #000000;\n",
              "}\n",
              "#T_e762c_row4_col6 {\n",
              "  background-color: #fae6d6;\n",
              "  color: #000000;\n",
              "}\n",
              "#T_e762c_row4_col7 {\n",
              "  background-color: #f69e75;\n",
              "  color: #000000;\n",
              "}\n",
              "#T_e762c_row4_col8 {\n",
              "  background-color: #cb1b4f;\n",
              "  color: #f1f1f1;\n",
              "}\n",
              "#T_e762c_row4_col9 {\n",
              "  background-color: #e03143;\n",
              "  color: #f1f1f1;\n",
              "}\n",
              "#T_e762c_row4_col10 {\n",
              "  background-color: #f6b893;\n",
              "  color: #000000;\n",
              "}\n",
              "#T_e762c_row6_col0 {\n",
              "  background-color: #f8d7c0;\n",
              "  color: #000000;\n",
              "}\n",
              "#T_e762c_row6_col4 {\n",
              "  background-color: #f4815a;\n",
              "  color: #f1f1f1;\n",
              "}\n",
              "#T_e762c_row6_col5 {\n",
              "  background-color: #f4835b;\n",
              "  color: #f1f1f1;\n",
              "}\n",
              "#T_e762c_row6_col7, #T_e762c_row6_col10 {\n",
              "  background-color: #f8dac5;\n",
              "  color: #000000;\n",
              "}\n",
              "#T_e762c_row6_col8 {\n",
              "  background-color: #f58f66;\n",
              "  color: #f1f1f1;\n",
              "}\n",
              "#T_e762c_row7_col1 {\n",
              "  background-color: #de2e44;\n",
              "  color: #f1f1f1;\n",
              "}\n",
              "#T_e762c_row7_col4 {\n",
              "  background-color: #ec4a3e;\n",
              "  color: #f1f1f1;\n",
              "}\n",
              "#T_e762c_row7_col8 {\n",
              "  background-color: #ed503e;\n",
              "  color: #f1f1f1;\n",
              "}\n",
              "#T_e762c_row7_col10, #T_e762c_row10_col3 {\n",
              "  background-color: #f6ae87;\n",
              "  color: #000000;\n",
              "}\n",
              "#T_e762c_row8_col1 {\n",
              "  background-color: #c71951;\n",
              "  color: #f1f1f1;\n",
              "}\n",
              "#T_e762c_row8_col4 {\n",
              "  background-color: #c51852;\n",
              "  color: #f1f1f1;\n",
              "}\n",
              "#T_e762c_row8_col9, #T_e762c_row9_col8 {\n",
              "  background-color: #e73d3f;\n",
              "  color: #f1f1f1;\n",
              "}\n",
              "#T_e762c_row8_col10 {\n",
              "  background-color: #f7d0b5;\n",
              "  color: #000000;\n",
              "}\n",
              "#T_e762c_row9_col3 {\n",
              "  background-color: #f7cfb3;\n",
              "  color: #000000;\n",
              "}\n",
              "#T_e762c_row9_col4 {\n",
              "  background-color: #db2946;\n",
              "  color: #f1f1f1;\n",
              "}\n",
              "#T_e762c_row9_col6 {\n",
              "  background-color: #f9e5d4;\n",
              "  color: #000000;\n",
              "}\n",
              "#T_e762c_row9_col7 {\n",
              "  background-color: #f7c2a2;\n",
              "  color: #000000;\n",
              "}\n",
              "#T_e762c_row9_col10 {\n",
              "  background-color: #f8d6be;\n",
              "  color: #000000;\n",
              "}\n",
              "#T_e762c_row10_col1 {\n",
              "  background-color: #dc2b46;\n",
              "  color: #f1f1f1;\n",
              "}\n",
              "#T_e762c_row10_col2 {\n",
              "  background-color: #f6a981;\n",
              "  color: #000000;\n",
              "}\n",
              "#T_e762c_row10_col4 {\n",
              "  background-color: #f05c42;\n",
              "  color: #f1f1f1;\n",
              "}\n",
              "#T_e762c_row10_col7 {\n",
              "  background-color: #f6a880;\n",
              "  color: #000000;\n",
              "}\n",
              "#T_e762c_row10_col9 {\n",
              "  background-color: #f4845d;\n",
              "  color: #f1f1f1;\n",
              "}\n",
              "</style>\n",
              "<table id=\"T_e762c_\" class=\"dataframe\">\n",
              "  <thead>\n",
              "    <tr>\n",
              "      <th class=\"blank level0\" >&nbsp;</th>\n",
              "      <th class=\"col_heading level0 col0\" >gender</th>\n",
              "      <th class=\"col_heading level0 col1\" >age</th>\n",
              "      <th class=\"col_heading level0 col2\" >hypertension</th>\n",
              "      <th class=\"col_heading level0 col3\" >heart_disease</th>\n",
              "      <th class=\"col_heading level0 col4\" >ever_married</th>\n",
              "      <th class=\"col_heading level0 col5\" >work_type</th>\n",
              "      <th class=\"col_heading level0 col6\" >Residence_type</th>\n",
              "      <th class=\"col_heading level0 col7\" >avg_glucose_level</th>\n",
              "      <th class=\"col_heading level0 col8\" >bmi</th>\n",
              "      <th class=\"col_heading level0 col9\" >smoking_status</th>\n",
              "      <th class=\"col_heading level0 col10\" >stroke</th>\n",
              "    </tr>\n",
              "  </thead>\n",
              "  <tbody>\n",
              "    <tr>\n",
              "      <th id=\"T_e762c_level0_row0\" class=\"row_heading level0 row0\" >gender</th>\n",
              "      <td id=\"T_e762c_row0_col0\" class=\"data row0 col0\" >1.000000</td>\n",
              "      <td id=\"T_e762c_row0_col1\" class=\"data row0 col1\" >-0.027752</td>\n",
              "      <td id=\"T_e762c_row0_col2\" class=\"data row0 col2\" >0.021223</td>\n",
              "      <td id=\"T_e762c_row0_col3\" class=\"data row0 col3\" >0.085685</td>\n",
              "      <td id=\"T_e762c_row0_col4\" class=\"data row0 col4\" >-0.030171</td>\n",
              "      <td id=\"T_e762c_row0_col5\" class=\"data row0 col5\" >0.056576</td>\n",
              "      <td id=\"T_e762c_row0_col6\" class=\"data row0 col6\" >-0.006105</td>\n",
              "      <td id=\"T_e762c_row0_col7\" class=\"data row0 col7\" >0.054722</td>\n",
              "      <td id=\"T_e762c_row0_col8\" class=\"data row0 col8\" >-0.025293</td>\n",
              "      <td id=\"T_e762c_row0_col9\" class=\"data row0 col9\" >-0.062423</td>\n",
              "      <td id=\"T_e762c_row0_col10\" class=\"data row0 col10\" >0.009081</td>\n",
              "    </tr>\n",
              "    <tr>\n",
              "      <th id=\"T_e762c_level0_row1\" class=\"row_heading level0 row1\" >age</th>\n",
              "      <td id=\"T_e762c_row1_col0\" class=\"data row1 col0\" >-0.027752</td>\n",
              "      <td id=\"T_e762c_row1_col1\" class=\"data row1 col1\" >1.000000</td>\n",
              "      <td id=\"T_e762c_row1_col2\" class=\"data row1 col2\" >0.276367</td>\n",
              "      <td id=\"T_e762c_row1_col3\" class=\"data row1 col3\" >0.263777</td>\n",
              "      <td id=\"T_e762c_row1_col4\" class=\"data row1 col4\" >0.679084</td>\n",
              "      <td id=\"T_e762c_row1_col5\" class=\"data row1 col5\" >-0.361686</td>\n",
              "      <td id=\"T_e762c_row1_col6\" class=\"data row1 col6\" >0.014031</td>\n",
              "      <td id=\"T_e762c_row1_col7\" class=\"data row1 col7\" >0.238323</td>\n",
              "      <td id=\"T_e762c_row1_col8\" class=\"data row1 col8\" >0.334690</td>\n",
              "      <td id=\"T_e762c_row1_col9\" class=\"data row1 col9\" >0.265165</td>\n",
              "      <td id=\"T_e762c_row1_col10\" class=\"data row1 col10\" >0.245239</td>\n",
              "    </tr>\n",
              "    <tr>\n",
              "      <th id=\"T_e762c_level0_row2\" class=\"row_heading level0 row2\" >hypertension</th>\n",
              "      <td id=\"T_e762c_row2_col0\" class=\"data row2 col0\" >0.021223</td>\n",
              "      <td id=\"T_e762c_row2_col1\" class=\"data row2 col1\" >0.276367</td>\n",
              "      <td id=\"T_e762c_row2_col2\" class=\"data row2 col2\" >1.000000</td>\n",
              "      <td id=\"T_e762c_row2_col3\" class=\"data row2 col3\" >0.108292</td>\n",
              "      <td id=\"T_e762c_row2_col4\" class=\"data row2 col4\" >0.164187</td>\n",
              "      <td id=\"T_e762c_row2_col5\" class=\"data row2 col5\" >-0.051772</td>\n",
              "      <td id=\"T_e762c_row2_col6\" class=\"data row2 col6\" >-0.007980</td>\n",
              "      <td id=\"T_e762c_row2_col7\" class=\"data row2 col7\" >0.174540</td>\n",
              "      <td id=\"T_e762c_row2_col8\" class=\"data row2 col8\" >0.164873</td>\n",
              "      <td id=\"T_e762c_row2_col9\" class=\"data row2 col9\" >0.111018</td>\n",
              "      <td id=\"T_e762c_row2_col10\" class=\"data row2 col10\" >0.127891</td>\n",
              "    </tr>\n",
              "    <tr>\n",
              "      <th id=\"T_e762c_level0_row3\" class=\"row_heading level0 row3\" >heart_disease</th>\n",
              "      <td id=\"T_e762c_row3_col0\" class=\"data row3 col0\" >0.085685</td>\n",
              "      <td id=\"T_e762c_row3_col1\" class=\"data row3 col1\" >0.263777</td>\n",
              "      <td id=\"T_e762c_row3_col2\" class=\"data row3 col2\" >0.108292</td>\n",
              "      <td id=\"T_e762c_row3_col3\" class=\"data row3 col3\" >1.000000</td>\n",
              "      <td id=\"T_e762c_row3_col4\" class=\"data row3 col4\" >0.114601</td>\n",
              "      <td id=\"T_e762c_row3_col5\" class=\"data row3 col5\" >-0.028031</td>\n",
              "      <td id=\"T_e762c_row3_col6\" class=\"data row3 col6\" >0.003045</td>\n",
              "      <td id=\"T_e762c_row3_col7\" class=\"data row3 col7\" >0.161907</td>\n",
              "      <td id=\"T_e762c_row3_col8\" class=\"data row3 col8\" >0.043588</td>\n",
              "      <td id=\"T_e762c_row3_col9\" class=\"data row3 col9\" >0.048445</td>\n",
              "      <td id=\"T_e762c_row3_col10\" class=\"data row3 col10\" >0.134905</td>\n",
              "    </tr>\n",
              "    <tr>\n",
              "      <th id=\"T_e762c_level0_row4\" class=\"row_heading level0 row4\" >ever_married</th>\n",
              "      <td id=\"T_e762c_row4_col0\" class=\"data row4 col0\" >-0.030171</td>\n",
              "      <td id=\"T_e762c_row4_col1\" class=\"data row4 col1\" >0.679084</td>\n",
              "      <td id=\"T_e762c_row4_col2\" class=\"data row4 col2\" >0.164187</td>\n",
              "      <td id=\"T_e762c_row4_col3\" class=\"data row4 col3\" >0.114601</td>\n",
              "      <td id=\"T_e762c_row4_col4\" class=\"data row4 col4\" >1.000000</td>\n",
              "      <td id=\"T_e762c_row4_col5\" class=\"data row4 col5\" >-0.352831</td>\n",
              "      <td id=\"T_e762c_row4_col6\" class=\"data row4 col6\" >0.005988</td>\n",
              "      <td id=\"T_e762c_row4_col7\" class=\"data row4 col7\" >0.155329</td>\n",
              "      <td id=\"T_e762c_row4_col8\" class=\"data row4 col8\" >0.343210</td>\n",
              "      <td id=\"T_e762c_row4_col9\" class=\"data row4 col9\" >0.259604</td>\n",
              "      <td id=\"T_e762c_row4_col10\" class=\"data row4 col10\" >0.108299</td>\n",
              "    </tr>\n",
              "    <tr>\n",
              "      <th id=\"T_e762c_level0_row5\" class=\"row_heading level0 row5\" >work_type</th>\n",
              "      <td id=\"T_e762c_row5_col0\" class=\"data row5 col0\" >0.056576</td>\n",
              "      <td id=\"T_e762c_row5_col1\" class=\"data row5 col1\" >-0.361686</td>\n",
              "      <td id=\"T_e762c_row5_col2\" class=\"data row5 col2\" >-0.051772</td>\n",
              "      <td id=\"T_e762c_row5_col3\" class=\"data row5 col3\" >-0.028031</td>\n",
              "      <td id=\"T_e762c_row5_col4\" class=\"data row5 col4\" >-0.352831</td>\n",
              "      <td id=\"T_e762c_row5_col5\" class=\"data row5 col5\" >1.000000</td>\n",
              "      <td id=\"T_e762c_row5_col6\" class=\"data row5 col6\" >-0.007348</td>\n",
              "      <td id=\"T_e762c_row5_col7\" class=\"data row5 col7\" >-0.050492</td>\n",
              "      <td id=\"T_e762c_row5_col8\" class=\"data row5 col8\" >-0.305980</td>\n",
              "      <td id=\"T_e762c_row5_col9\" class=\"data row5 col9\" >-0.305942</td>\n",
              "      <td id=\"T_e762c_row5_col10\" class=\"data row5 col10\" >-0.032323</td>\n",
              "    </tr>\n",
              "    <tr>\n",
              "      <th id=\"T_e762c_level0_row6\" class=\"row_heading level0 row6\" >Residence_type</th>\n",
              "      <td id=\"T_e762c_row6_col0\" class=\"data row6 col0\" >-0.006105</td>\n",
              "      <td id=\"T_e762c_row6_col1\" class=\"data row6 col1\" >0.014031</td>\n",
              "      <td id=\"T_e762c_row6_col2\" class=\"data row6 col2\" >-0.007980</td>\n",
              "      <td id=\"T_e762c_row6_col3\" class=\"data row6 col3\" >0.003045</td>\n",
              "      <td id=\"T_e762c_row6_col4\" class=\"data row6 col4\" >0.005988</td>\n",
              "      <td id=\"T_e762c_row6_col5\" class=\"data row6 col5\" >-0.007348</td>\n",
              "      <td id=\"T_e762c_row6_col6\" class=\"data row6 col6\" >1.000000</td>\n",
              "      <td id=\"T_e762c_row6_col7\" class=\"data row6 col7\" >-0.004783</td>\n",
              "      <td id=\"T_e762c_row6_col8\" class=\"data row6 col8\" >-0.001106</td>\n",
              "      <td id=\"T_e762c_row6_col9\" class=\"data row6 col9\" >0.008168</td>\n",
              "      <td id=\"T_e762c_row6_col10\" class=\"data row6 col10\" >0.015415</td>\n",
              "    </tr>\n",
              "    <tr>\n",
              "      <th id=\"T_e762c_level0_row7\" class=\"row_heading level0 row7\" >avg_glucose_level</th>\n",
              "      <td id=\"T_e762c_row7_col0\" class=\"data row7 col0\" >0.054722</td>\n",
              "      <td id=\"T_e762c_row7_col1\" class=\"data row7 col1\" >0.238323</td>\n",
              "      <td id=\"T_e762c_row7_col2\" class=\"data row7 col2\" >0.174540</td>\n",
              "      <td id=\"T_e762c_row7_col3\" class=\"data row7 col3\" >0.161907</td>\n",
              "      <td id=\"T_e762c_row7_col4\" class=\"data row7 col4\" >0.155329</td>\n",
              "      <td id=\"T_e762c_row7_col5\" class=\"data row7 col5\" >-0.050492</td>\n",
              "      <td id=\"T_e762c_row7_col6\" class=\"data row7 col6\" >-0.004783</td>\n",
              "      <td id=\"T_e762c_row7_col7\" class=\"data row7 col7\" >1.000000</td>\n",
              "      <td id=\"T_e762c_row7_col8\" class=\"data row7 col8\" >0.172687</td>\n",
              "      <td id=\"T_e762c_row7_col9\" class=\"data row7 col9\" >0.063498</td>\n",
              "      <td id=\"T_e762c_row7_col10\" class=\"data row7 col10\" >0.131991</td>\n",
              "    </tr>\n",
              "    <tr>\n",
              "      <th id=\"T_e762c_level0_row8\" class=\"row_heading level0 row8\" >bmi</th>\n",
              "      <td id=\"T_e762c_row8_col0\" class=\"data row8 col0\" >-0.025293</td>\n",
              "      <td id=\"T_e762c_row8_col1\" class=\"data row8 col1\" >0.334690</td>\n",
              "      <td id=\"T_e762c_row8_col2\" class=\"data row8 col2\" >0.164873</td>\n",
              "      <td id=\"T_e762c_row8_col3\" class=\"data row8 col3\" >0.043588</td>\n",
              "      <td id=\"T_e762c_row8_col4\" class=\"data row8 col4\" >0.343210</td>\n",
              "      <td id=\"T_e762c_row8_col5\" class=\"data row8 col5\" >-0.305980</td>\n",
              "      <td id=\"T_e762c_row8_col6\" class=\"data row8 col6\" >-0.001106</td>\n",
              "      <td id=\"T_e762c_row8_col7\" class=\"data row8 col7\" >0.172687</td>\n",
              "      <td id=\"T_e762c_row8_col8\" class=\"data row8 col8\" >1.000000</td>\n",
              "      <td id=\"T_e762c_row8_col9\" class=\"data row8 col9\" >0.223653</td>\n",
              "      <td id=\"T_e762c_row8_col10\" class=\"data row8 col10\" >0.041482</td>\n",
              "    </tr>\n",
              "    <tr>\n",
              "      <th id=\"T_e762c_level0_row9\" class=\"row_heading level0 row9\" >smoking_status</th>\n",
              "      <td id=\"T_e762c_row9_col0\" class=\"data row9 col0\" >-0.062423</td>\n",
              "      <td id=\"T_e762c_row9_col1\" class=\"data row9 col1\" >0.265165</td>\n",
              "      <td id=\"T_e762c_row9_col2\" class=\"data row9 col2\" >0.111018</td>\n",
              "      <td id=\"T_e762c_row9_col3\" class=\"data row9 col3\" >0.048445</td>\n",
              "      <td id=\"T_e762c_row9_col4\" class=\"data row9 col4\" >0.259604</td>\n",
              "      <td id=\"T_e762c_row9_col5\" class=\"data row9 col5\" >-0.305942</td>\n",
              "      <td id=\"T_e762c_row9_col6\" class=\"data row9 col6\" >0.008168</td>\n",
              "      <td id=\"T_e762c_row9_col7\" class=\"data row9 col7\" >0.063498</td>\n",
              "      <td id=\"T_e762c_row9_col8\" class=\"data row9 col8\" >0.223653</td>\n",
              "      <td id=\"T_e762c_row9_col9\" class=\"data row9 col9\" >1.000000</td>\n",
              "      <td id=\"T_e762c_row9_col10\" class=\"data row9 col10\" >0.028108</td>\n",
              "    </tr>\n",
              "    <tr>\n",
              "      <th id=\"T_e762c_level0_row10\" class=\"row_heading level0 row10\" >stroke</th>\n",
              "      <td id=\"T_e762c_row10_col0\" class=\"data row10 col0\" >0.009081</td>\n",
              "      <td id=\"T_e762c_row10_col1\" class=\"data row10 col1\" >0.245239</td>\n",
              "      <td id=\"T_e762c_row10_col2\" class=\"data row10 col2\" >0.127891</td>\n",
              "      <td id=\"T_e762c_row10_col3\" class=\"data row10 col3\" >0.134905</td>\n",
              "      <td id=\"T_e762c_row10_col4\" class=\"data row10 col4\" >0.108299</td>\n",
              "      <td id=\"T_e762c_row10_col5\" class=\"data row10 col5\" >-0.032323</td>\n",
              "      <td id=\"T_e762c_row10_col6\" class=\"data row10 col6\" >0.015415</td>\n",
              "      <td id=\"T_e762c_row10_col7\" class=\"data row10 col7\" >0.131991</td>\n",
              "      <td id=\"T_e762c_row10_col8\" class=\"data row10 col8\" >0.041482</td>\n",
              "      <td id=\"T_e762c_row10_col9\" class=\"data row10 col9\" >0.028108</td>\n",
              "      <td id=\"T_e762c_row10_col10\" class=\"data row10 col10\" >1.000000</td>\n",
              "    </tr>\n",
              "  </tbody>\n",
              "</table>\n"
            ],
            "text/plain": [
              "<pandas.io.formats.style.Styler at 0x7f2b3f467b20>"
            ]
          },
          "execution_count": 22,
          "metadata": {},
          "output_type": "execute_result"
        }
      ],
      "source": [
        "df.corr().style.background_gradient(cmap=\"rocket_r\")"
      ]
    },
    {
      "cell_type": "markdown",
      "metadata": {
        "id": "xS6xeGPiLpoM"
      },
      "source": [
        "Selecting the k=6 best features using SelectKBest and chi2 as score function."
      ]
    },
    {
      "cell_type": "code",
      "execution_count": null,
      "metadata": {
        "colab": {
          "base_uri": "https://localhost:8080/"
        },
        "id": "uW0gEbILJClR",
        "outputId": "19a75f16-83a5-4da5-8742-e1b9cd0ddad8"
      },
      "outputs": [
        {
          "name": "stdout",
          "output_type": "stream",
          "text": [
            "The best features are:['age', 'hypertension', 'heart_disease', 'ever_married', 'avg_glucose_level', 'bmi']\n",
            "Removed features: ['gender', 'work_type', 'Residence_type', 'smoking_status']\n"
          ]
        }
      ],
      "source": [
        "X_6_best= SelectKBest(chi2, k=6).fit(X_train, y_train)\n",
        "mask = X_6_best.get_support() #list of booleans for selected features\n",
        "new_feat = [] \n",
        "removed_features = []\n",
        "for bool, feature in zip(mask, X_train.columns):\n",
        "    if bool:\n",
        "        new_feat.append(feature)\n",
        "    else:\n",
        "      removed_features.append(feature)\n",
        "print(f\"The best features are:{new_feat}\")\n",
        "print(f\"Removed features: {removed_features}\")"
      ]
    },
    {
      "cell_type": "code",
      "execution_count": null,
      "metadata": {
        "colab": {
          "base_uri": "https://localhost:8080/",
          "height": 424
        },
        "id": "FkBv6DxMJOQp",
        "outputId": "37c05d94-7d2b-4b0b-926b-165c64e33290"
      },
      "outputs": [
        {
          "data": {
            "text/html": [
              "\n",
              "  <div id=\"df-a0fd5075-1e81-442d-a601-300d6c3f8af7\">\n",
              "    <div class=\"colab-df-container\">\n",
              "      <div>\n",
              "<style scoped>\n",
              "    .dataframe tbody tr th:only-of-type {\n",
              "        vertical-align: middle;\n",
              "    }\n",
              "\n",
              "    .dataframe tbody tr th {\n",
              "        vertical-align: top;\n",
              "    }\n",
              "\n",
              "    .dataframe thead th {\n",
              "        text-align: right;\n",
              "    }\n",
              "</style>\n",
              "<table border=\"1\" class=\"dataframe\">\n",
              "  <thead>\n",
              "    <tr style=\"text-align: right;\">\n",
              "      <th></th>\n",
              "      <th>age</th>\n",
              "      <th>hypertension</th>\n",
              "      <th>heart_disease</th>\n",
              "      <th>ever_married</th>\n",
              "      <th>avg_glucose_level</th>\n",
              "      <th>bmi</th>\n",
              "      <th>stroke</th>\n",
              "    </tr>\n",
              "  </thead>\n",
              "  <tbody>\n",
              "    <tr>\n",
              "      <th>0</th>\n",
              "      <td>67.0</td>\n",
              "      <td>0</td>\n",
              "      <td>1</td>\n",
              "      <td>1</td>\n",
              "      <td>228.69</td>\n",
              "      <td>36.600000</td>\n",
              "      <td>1</td>\n",
              "    </tr>\n",
              "    <tr>\n",
              "      <th>1</th>\n",
              "      <td>61.0</td>\n",
              "      <td>0</td>\n",
              "      <td>0</td>\n",
              "      <td>1</td>\n",
              "      <td>202.21</td>\n",
              "      <td>29.879487</td>\n",
              "      <td>1</td>\n",
              "    </tr>\n",
              "    <tr>\n",
              "      <th>2</th>\n",
              "      <td>80.0</td>\n",
              "      <td>0</td>\n",
              "      <td>1</td>\n",
              "      <td>1</td>\n",
              "      <td>105.92</td>\n",
              "      <td>32.500000</td>\n",
              "      <td>1</td>\n",
              "    </tr>\n",
              "    <tr>\n",
              "      <th>3</th>\n",
              "      <td>49.0</td>\n",
              "      <td>0</td>\n",
              "      <td>0</td>\n",
              "      <td>1</td>\n",
              "      <td>171.23</td>\n",
              "      <td>34.400000</td>\n",
              "      <td>1</td>\n",
              "    </tr>\n",
              "    <tr>\n",
              "      <th>4</th>\n",
              "      <td>79.0</td>\n",
              "      <td>1</td>\n",
              "      <td>0</td>\n",
              "      <td>1</td>\n",
              "      <td>174.12</td>\n",
              "      <td>24.000000</td>\n",
              "      <td>1</td>\n",
              "    </tr>\n",
              "    <tr>\n",
              "      <th>...</th>\n",
              "      <td>...</td>\n",
              "      <td>...</td>\n",
              "      <td>...</td>\n",
              "      <td>...</td>\n",
              "      <td>...</td>\n",
              "      <td>...</td>\n",
              "      <td>...</td>\n",
              "    </tr>\n",
              "    <tr>\n",
              "      <th>5105</th>\n",
              "      <td>80.0</td>\n",
              "      <td>1</td>\n",
              "      <td>0</td>\n",
              "      <td>1</td>\n",
              "      <td>83.75</td>\n",
              "      <td>28.476923</td>\n",
              "      <td>0</td>\n",
              "    </tr>\n",
              "    <tr>\n",
              "      <th>5106</th>\n",
              "      <td>81.0</td>\n",
              "      <td>0</td>\n",
              "      <td>0</td>\n",
              "      <td>1</td>\n",
              "      <td>125.20</td>\n",
              "      <td>40.000000</td>\n",
              "      <td>0</td>\n",
              "    </tr>\n",
              "    <tr>\n",
              "      <th>5107</th>\n",
              "      <td>35.0</td>\n",
              "      <td>0</td>\n",
              "      <td>0</td>\n",
              "      <td>1</td>\n",
              "      <td>82.99</td>\n",
              "      <td>30.600000</td>\n",
              "      <td>0</td>\n",
              "    </tr>\n",
              "    <tr>\n",
              "      <th>5108</th>\n",
              "      <td>51.0</td>\n",
              "      <td>0</td>\n",
              "      <td>0</td>\n",
              "      <td>1</td>\n",
              "      <td>166.29</td>\n",
              "      <td>25.600000</td>\n",
              "      <td>0</td>\n",
              "    </tr>\n",
              "    <tr>\n",
              "      <th>5109</th>\n",
              "      <td>44.0</td>\n",
              "      <td>0</td>\n",
              "      <td>0</td>\n",
              "      <td>1</td>\n",
              "      <td>85.28</td>\n",
              "      <td>26.200000</td>\n",
              "      <td>0</td>\n",
              "    </tr>\n",
              "  </tbody>\n",
              "</table>\n",
              "<p>5109 rows × 7 columns</p>\n",
              "</div>\n",
              "      <button class=\"colab-df-convert\" onclick=\"convertToInteractive('df-a0fd5075-1e81-442d-a601-300d6c3f8af7')\"\n",
              "              title=\"Convert this dataframe to an interactive table.\"\n",
              "              style=\"display:none;\">\n",
              "        \n",
              "  <svg xmlns=\"http://www.w3.org/2000/svg\" height=\"24px\"viewBox=\"0 0 24 24\"\n",
              "       width=\"24px\">\n",
              "    <path d=\"M0 0h24v24H0V0z\" fill=\"none\"/>\n",
              "    <path d=\"M18.56 5.44l.94 2.06.94-2.06 2.06-.94-2.06-.94-.94-2.06-.94 2.06-2.06.94zm-11 1L8.5 8.5l.94-2.06 2.06-.94-2.06-.94L8.5 2.5l-.94 2.06-2.06.94zm10 10l.94 2.06.94-2.06 2.06-.94-2.06-.94-.94-2.06-.94 2.06-2.06.94z\"/><path d=\"M17.41 7.96l-1.37-1.37c-.4-.4-.92-.59-1.43-.59-.52 0-1.04.2-1.43.59L10.3 9.45l-7.72 7.72c-.78.78-.78 2.05 0 2.83L4 21.41c.39.39.9.59 1.41.59.51 0 1.02-.2 1.41-.59l7.78-7.78 2.81-2.81c.8-.78.8-2.07 0-2.86zM5.41 20L4 18.59l7.72-7.72 1.47 1.35L5.41 20z\"/>\n",
              "  </svg>\n",
              "      </button>\n",
              "      \n",
              "  <style>\n",
              "    .colab-df-container {\n",
              "      display:flex;\n",
              "      flex-wrap:wrap;\n",
              "      gap: 12px;\n",
              "    }\n",
              "\n",
              "    .colab-df-convert {\n",
              "      background-color: #E8F0FE;\n",
              "      border: none;\n",
              "      border-radius: 50%;\n",
              "      cursor: pointer;\n",
              "      display: none;\n",
              "      fill: #1967D2;\n",
              "      height: 32px;\n",
              "      padding: 0 0 0 0;\n",
              "      width: 32px;\n",
              "    }\n",
              "\n",
              "    .colab-df-convert:hover {\n",
              "      background-color: #E2EBFA;\n",
              "      box-shadow: 0px 1px 2px rgba(60, 64, 67, 0.3), 0px 1px 3px 1px rgba(60, 64, 67, 0.15);\n",
              "      fill: #174EA6;\n",
              "    }\n",
              "\n",
              "    [theme=dark] .colab-df-convert {\n",
              "      background-color: #3B4455;\n",
              "      fill: #D2E3FC;\n",
              "    }\n",
              "\n",
              "    [theme=dark] .colab-df-convert:hover {\n",
              "      background-color: #434B5C;\n",
              "      box-shadow: 0px 1px 3px 1px rgba(0, 0, 0, 0.15);\n",
              "      filter: drop-shadow(0px 1px 2px rgba(0, 0, 0, 0.3));\n",
              "      fill: #FFFFFF;\n",
              "    }\n",
              "  </style>\n",
              "\n",
              "      <script>\n",
              "        const buttonEl =\n",
              "          document.querySelector('#df-a0fd5075-1e81-442d-a601-300d6c3f8af7 button.colab-df-convert');\n",
              "        buttonEl.style.display =\n",
              "          google.colab.kernel.accessAllowed ? 'block' : 'none';\n",
              "\n",
              "        async function convertToInteractive(key) {\n",
              "          const element = document.querySelector('#df-a0fd5075-1e81-442d-a601-300d6c3f8af7');\n",
              "          const dataTable =\n",
              "            await google.colab.kernel.invokeFunction('convertToInteractive',\n",
              "                                                     [key], {});\n",
              "          if (!dataTable) return;\n",
              "\n",
              "          const docLinkHtml = 'Like what you see? Visit the ' +\n",
              "            '<a target=\"_blank\" href=https://colab.research.google.com/notebooks/data_table.ipynb>data table notebook</a>'\n",
              "            + ' to learn more about interactive tables.';\n",
              "          element.innerHTML = '';\n",
              "          dataTable['output_type'] = 'display_data';\n",
              "          await google.colab.output.renderOutput(dataTable, element);\n",
              "          const docLink = document.createElement('div');\n",
              "          docLink.innerHTML = docLinkHtml;\n",
              "          element.appendChild(docLink);\n",
              "        }\n",
              "      </script>\n",
              "    </div>\n",
              "  </div>\n",
              "  "
            ],
            "text/plain": [
              "       age  hypertension  heart_disease  ever_married  avg_glucose_level  \\\n",
              "0     67.0             0              1             1             228.69   \n",
              "1     61.0             0              0             1             202.21   \n",
              "2     80.0             0              1             1             105.92   \n",
              "3     49.0             0              0             1             171.23   \n",
              "4     79.0             1              0             1             174.12   \n",
              "...    ...           ...            ...           ...                ...   \n",
              "5105  80.0             1              0             1              83.75   \n",
              "5106  81.0             0              0             1             125.20   \n",
              "5107  35.0             0              0             1              82.99   \n",
              "5108  51.0             0              0             1             166.29   \n",
              "5109  44.0             0              0             1              85.28   \n",
              "\n",
              "            bmi  stroke  \n",
              "0     36.600000       1  \n",
              "1     29.879487       1  \n",
              "2     32.500000       1  \n",
              "3     34.400000       1  \n",
              "4     24.000000       1  \n",
              "...         ...     ...  \n",
              "5105  28.476923       0  \n",
              "5106  40.000000       0  \n",
              "5107  30.600000       0  \n",
              "5108  25.600000       0  \n",
              "5109  26.200000       0  \n",
              "\n",
              "[5109 rows x 7 columns]"
            ]
          },
          "execution_count": 24,
          "metadata": {},
          "output_type": "execute_result"
        }
      ],
      "source": [
        "df = df.drop(removed_features, axis = 1)\n",
        "df"
      ]
    },
    {
      "cell_type": "markdown",
      "metadata": {
        "id": "YtongHHmNitd"
      },
      "source": [
        "### 3.5 Oversampling the dataset\n"
      ]
    },
    {
      "cell_type": "markdown",
      "metadata": {
        "id": "8IUtE0QqS-sn"
      },
      "source": [
        "Since the dataset was highly imbalanced concerning the occurrence of stroke, we balanced it using an over-sampling technique on the training set, in particular we applied the Synthetic Minority Oversampling Technique (SMOTE). "
      ]
    },
    {
      "cell_type": "code",
      "execution_count": null,
      "metadata": {
        "id": "KCY3pj3u0IrI"
      },
      "outputs": [],
      "source": [
        "X, y = df.iloc[:, 0:-1], df.iloc[:, -1:] # old dataset\n",
        "X_train, X_test, y_train, y_test = train_test_split(X.values, y.values, test_size = 0.2, random_state = 0)\n",
        "y_train, y_test = y_train.ravel(), y_test.ravel()\n",
        "\n",
        "oversample = SMOTE()\n",
        "X_train, y_train = oversample.fit_resample(X_train, y_train)"
      ]
    },
    {
      "cell_type": "markdown",
      "metadata": {
        "id": "gUgLymffQns_"
      },
      "source": [
        "We applied SMOTE only on the training set, increasing the minority class samples, and not on the entire dataset in order to avoid having a test set that have exact duplicates of the minority samples of the training set, hence not to have mistaken high performance score when we would apply our models."
      ]
    },
    {
      "cell_type": "code",
      "execution_count": null,
      "metadata": {
        "colab": {
          "base_uri": "https://localhost:8080/",
          "height": 291
        },
        "id": "4Zpe7FOy3rUl",
        "outputId": "69228247-ddf3-41dd-f75d-75a6f00c4748"
      },
      "outputs": [
        {
          "data": {
            "image/png": "[encoded data removed]",
            "text/plain": [
              "<Figure size 432x288 with 1 Axes>"
            ]
          },
          "metadata": {},
          "output_type": "display_data"
        }
      ],
      "source": [
        "df = pd.concat([X, y], axis = 1)\n",
        "\n",
        "y_zero = np.count_nonzero(y_train==0)\n",
        "y_one = np.count_nonzero(y_train==1)\n",
        "\n",
        "oneZero_count = pd.DataFrame(data = [y_zero, y_one])\n",
        "\n",
        "fig, ax = plt.subplots()\n",
        "ax.pie(oneZero_count.values.flatten(), labels=['No Stroke', 'Stroke'], colors=['grey', 'red'], autopct='%.1f%%')\n",
        "ax.axis('equal')\n",
        "ax.set_title('Visualization after SMOTE', pad = \"20\")\n",
        "plt.show()"
      ]
    },
    {
      "cell_type": "code",
      "execution_count": null,
      "metadata": {
        "colab": {
          "base_uri": "https://localhost:8080/"
        },
        "id": "GwcsnWon2g2h",
        "outputId": "52018d93-c0eb-4303-e293-7b11050091f2"
      },
      "outputs": [
        {
          "name": "stdout",
          "output_type": "stream",
          "text": [
            "Number of negative examples: 3892\n",
            "Number of positive examples: 3892\n"
          ]
        }
      ],
      "source": [
        "print(\"Number of negative examples: \" + str(y_zero))\n",
        "print(\"Number of positive examples: \" + str(y_one))"
      ]
    },
    {
      "cell_type": "markdown",
      "metadata": {
        "id": "h2xWBd_cT31Y"
      },
      "source": [
        "Now we are going to run different classification algorithms to see how they perform on this dataset and collect the most relevant results into a vector."
      ]
    },
    {
      "cell_type": "code",
      "execution_count": null,
      "metadata": {
        "id": "tJww1Qq8WIqV"
      },
      "outputs": [],
      "source": [
        "models_score = []"
      ]
    },
    {
      "cell_type": "markdown",
      "metadata": {
        "id": "xMCpzz2fe9Vi"
      },
      "source": [
        "# 4. Application of models"
      ]
    },
    {
      "cell_type": "markdown",
      "metadata": {
        "id": "63I7p0CDKwN8"
      },
      "source": [
        "### 4.1 Logistic Regression\n",
        "We now apply Logistic Regression in order to build a model that allows us to predict new samples:"
      ]
    },
    {
      "cell_type": "code",
      "execution_count": null,
      "metadata": {
        "id": "7fQ23RZlLIOJ"
      },
      "outputs": [],
      "source": [
        "#Apply the sigmoid function over the vector z\n",
        "def sigmoid(z):\n",
        "  z = 1 / (1 + np.exp(-z))\n",
        "  return z\n",
        "\n",
        "#Compute the loss\n",
        "def cost_function(X, y, theta):\n",
        "  N = X.shape[0]\n",
        "  sigmoid_func = sigmoid(np.dot(X, theta))\n",
        "  cost =- np.sum(y * np.log(sigmoid_func) + (1 - y) * np.log(1 - sigmoid_func)) / N #Negative log likelihood (to be minimized)\n",
        "  return cost\n",
        "\n",
        "#Compute the gradient to be used in gradient descent\n",
        "def compute_gradient(X, y, theta):\n",
        "  N = X.shape[0]\n",
        "  sigmoid_func = sigmoid(np.dot(X, theta))\n",
        "  dt = np.dot(X.T, (sigmoid_func - y)) / N\n",
        "  return dt\n",
        "\n",
        "#Compute gradient descent\n",
        "def gradient_descent(X, y, iterations, alpha):\n",
        "    y = y.reshape(-1, 1)\n",
        "    theta = np.zeros((X.shape[1], 1))\n",
        "    costs = {}\n",
        "\n",
        "    for it in range(iterations):\n",
        "      cost = cost_function(X, y, theta)\n",
        "      costs[it] = cost #Keep track of the loss at each iteration\n",
        "      dt = compute_gradient(X, y, theta)\n",
        "      theta = theta - alpha * dt #Update function\n",
        "    \n",
        "    return costs, theta #theta is the optimized weight vector\n",
        "\n",
        "#Make the prediction on the samples X with parameters theta\n",
        "def make_prediction(X, theta):\n",
        "    theta = theta.reshape(X.shape[1], 1)\n",
        "    y_pred = sigmoid(np.dot(X, theta))\n",
        "    return y_pred\n"
      ]
    },
    {
      "cell_type": "markdown",
      "metadata": {
        "id": "pqfxIFi6abFA"
      },
      "source": [
        "This is an implementation from scratch of the Logistic Regression algorithm that makes use of gradient descent to try to reduce the cost at each step. We preferred using a lower learning rate and a higher number of iterations because we noticed that with a slightly higher learning rate the function diverges quickly. Using a n=1000 iterations and a learning rate of α=0.0004, the variation of the cost is the following:"
      ]
    },
    {
      "cell_type": "code",
      "execution_count": null,
      "metadata": {
        "colab": {
          "base_uri": "https://localhost:8080/",
          "height": 320
        },
        "id": "fworM7CfbB31",
        "outputId": "edf2e718-c899-400f-8096-25fa3f0e19fc"
      },
      "outputs": [
        {
          "data": {
            "text/plain": [
              "Text(0, 0.5, 'Loss')"
            ]
          },
          "execution_count": 30,
          "metadata": {},
          "output_type": "execute_result"
        },
        {
          "data": {
            "image/png": "[encoded data removed]",
            "text/plain": [
              "<Figure size 432x288 with 1 Axes>"
            ]
          },
          "metadata": {},
          "output_type": "display_data"
        }
      ],
      "source": [
        "costs, theta = gradient_descent(X_train, y_train, 1000, 4e-4)\n",
        "y_pred_train = make_prediction(X_train, theta)\n",
        "y_pred_test = make_prediction(X_test, theta)\n",
        "\n",
        "plt.plot(list(costs.keys()), list(costs.values()))\n",
        "plt.xlabel('Number of iterations')\n",
        "plt.ylabel('Loss')"
      ]
    },
    {
      "cell_type": "markdown",
      "metadata": {
        "id": "tBo_NqbxQl6a"
      },
      "source": [
        "Now, we see what happens when varying the threshold on the training set and the testing set:"
      ]
    },
    {
      "cell_type": "code",
      "execution_count": null,
      "metadata": {
        "colab": {
          "base_uri": "https://localhost:8080/",
          "height": 367
        },
        "id": "bMuow1GpcD-8",
        "outputId": "0675d49f-6ece-4328-e91f-b1665d8c360b"
      },
      "outputs": [
        {
          "name": "stdout",
          "output_type": "stream",
          "text": [
            "Training set metrics:\n"
          ]
        },
        {
          "data": {
            "text/html": [
              "\n",
              "  <div id=\"df-c2a6fd20-031c-44d4-a444-18f8bcfd5285\">\n",
              "    <div class=\"colab-df-container\">\n",
              "      <div>\n",
              "<style scoped>\n",
              "    .dataframe tbody tr th:only-of-type {\n",
              "        vertical-align: middle;\n",
              "    }\n",
              "\n",
              "    .dataframe tbody tr th {\n",
              "        vertical-align: top;\n",
              "    }\n",
              "\n",
              "    .dataframe thead th {\n",
              "        text-align: right;\n",
              "    }\n",
              "</style>\n",
              "<table border=\"1\" class=\"dataframe\">\n",
              "  <thead>\n",
              "    <tr style=\"text-align: right;\">\n",
              "      <th></th>\n",
              "      <th>0.05</th>\n",
              "      <th>0.10</th>\n",
              "      <th>0.15</th>\n",
              "      <th>0.20</th>\n",
              "      <th>0.25</th>\n",
              "      <th>0.30</th>\n",
              "      <th>0.35</th>\n",
              "      <th>0.40</th>\n",
              "      <th>0.45</th>\n",
              "      <th>0.50</th>\n",
              "      <th>0.55</th>\n",
              "      <th>0.60</th>\n",
              "      <th>0.65</th>\n",
              "      <th>0.70</th>\n",
              "      <th>0.75</th>\n",
              "      <th>0.80</th>\n",
              "      <th>0.85</th>\n",
              "      <th>0.90</th>\n",
              "      <th>0.95</th>\n",
              "    </tr>\n",
              "  </thead>\n",
              "  <tbody>\n",
              "    <tr>\n",
              "      <th>accuracy</th>\n",
              "      <td>0.519913</td>\n",
              "      <td>0.552158</td>\n",
              "      <td>0.603931</td>\n",
              "      <td>0.659173</td>\n",
              "      <td>0.697842</td>\n",
              "      <td>0.721865</td>\n",
              "      <td>0.732785</td>\n",
              "      <td>0.736639</td>\n",
              "      <td>0.735997</td>\n",
              "      <td>0.727261</td>\n",
              "      <td>0.723022</td>\n",
              "      <td>0.723664</td>\n",
              "      <td>0.714157</td>\n",
              "      <td>0.708890</td>\n",
              "      <td>0.680884</td>\n",
              "      <td>0.641316</td>\n",
              "      <td>0.590185</td>\n",
              "      <td>0.527107</td>\n",
              "      <td>0.500257</td>\n",
              "    </tr>\n",
              "    <tr>\n",
              "      <th>precision</th>\n",
              "      <td>0.510159</td>\n",
              "      <td>0.527552</td>\n",
              "      <td>0.558243</td>\n",
              "      <td>0.596240</td>\n",
              "      <td>0.627780</td>\n",
              "      <td>0.651677</td>\n",
              "      <td>0.669346</td>\n",
              "      <td>0.684791</td>\n",
              "      <td>0.699284</td>\n",
              "      <td>0.710345</td>\n",
              "      <td>0.725924</td>\n",
              "      <td>0.749355</td>\n",
              "      <td>0.766549</td>\n",
              "      <td>0.787076</td>\n",
              "      <td>0.803972</td>\n",
              "      <td>0.815729</td>\n",
              "      <td>0.831132</td>\n",
              "      <td>0.807580</td>\n",
              "      <td>0.600000</td>\n",
              "    </tr>\n",
              "    <tr>\n",
              "      <th>recall</th>\n",
              "      <td>1.000000</td>\n",
              "      <td>0.998715</td>\n",
              "      <td>0.996146</td>\n",
              "      <td>0.986125</td>\n",
              "      <td>0.971994</td>\n",
              "      <td>0.953237</td>\n",
              "      <td>0.920092</td>\n",
              "      <td>0.876927</td>\n",
              "      <td>0.828109</td>\n",
              "      <td>0.767472</td>\n",
              "      <td>0.716598</td>\n",
              "      <td>0.672148</td>\n",
              "      <td>0.615879</td>\n",
              "      <td>0.572713</td>\n",
              "      <td>0.478417</td>\n",
              "      <td>0.365108</td>\n",
              "      <td>0.226362</td>\n",
              "      <td>0.071172</td>\n",
              "      <td>0.001542</td>\n",
              "    </tr>\n",
              "    <tr>\n",
              "      <th>f1</th>\n",
              "      <td>0.675636</td>\n",
              "      <td>0.690409</td>\n",
              "      <td>0.715512</td>\n",
              "      <td>0.743150</td>\n",
              "      <td>0.762855</td>\n",
              "      <td>0.774126</td>\n",
              "      <td>0.774940</td>\n",
              "      <td>0.769040</td>\n",
              "      <td>0.758264</td>\n",
              "      <td>0.737804</td>\n",
              "      <td>0.721231</td>\n",
              "      <td>0.708655</td>\n",
              "      <td>0.683003</td>\n",
              "      <td>0.662998</td>\n",
              "      <td>0.599871</td>\n",
              "      <td>0.504437</td>\n",
              "      <td>0.355816</td>\n",
              "      <td>0.130815</td>\n",
              "      <td>0.003075</td>\n",
              "    </tr>\n",
              "  </tbody>\n",
              "</table>\n",
              "</div>\n",
              "      <button class=\"colab-df-convert\" onclick=\"convertToInteractive('df-c2a6fd20-031c-44d4-a444-18f8bcfd5285')\"\n",
              "              title=\"Convert this dataframe to an interactive table.\"\n",
              "              style=\"display:none;\">\n",
              "        \n",
              "  <svg xmlns=\"http://www.w3.org/2000/svg\" height=\"24px\"viewBox=\"0 0 24 24\"\n",
              "       width=\"24px\">\n",
              "    <path d=\"M0 0h24v24H0V0z\" fill=\"none\"/>\n",
              "    <path d=\"M18.56 5.44l.94 2.06.94-2.06 2.06-.94-2.06-.94-.94-2.06-.94 2.06-2.06.94zm-11 1L8.5 8.5l.94-2.06 2.06-.94-2.06-.94L8.5 2.5l-.94 2.06-2.06.94zm10 10l.94 2.06.94-2.06 2.06-.94-2.06-.94-.94-2.06-.94 2.06-2.06.94z\"/><path d=\"M17.41 7.96l-1.37-1.37c-.4-.4-.92-.59-1.43-.59-.52 0-1.04.2-1.43.59L10.3 9.45l-7.72 7.72c-.78.78-.78 2.05 0 2.83L4 21.41c.39.39.9.59 1.41.59.51 0 1.02-.2 1.41-.59l7.78-7.78 2.81-2.81c.8-.78.8-2.07 0-2.86zM5.41 20L4 18.59l7.72-7.72 1.47 1.35L5.41 20z\"/>\n",
              "  </svg>\n",
              "      </button>\n",
              "      \n",
              "  <style>\n",
              "    .colab-df-container {\n",
              "      display:flex;\n",
              "      flex-wrap:wrap;\n",
              "      gap: 12px;\n",
              "    }\n",
              "\n",
              "    .colab-df-convert {\n",
              "      background-color: #E8F0FE;\n",
              "      border: none;\n",
              "      border-radius: 50%;\n",
              "      cursor: pointer;\n",
              "      display: none;\n",
              "      fill: #1967D2;\n",
              "      height: 32px;\n",
              "      padding: 0 0 0 0;\n",
              "      width: 32px;\n",
              "    }\n",
              "\n",
              "    .colab-df-convert:hover {\n",
              "      background-color: #E2EBFA;\n",
              "      box-shadow: 0px 1px 2px rgba(60, 64, 67, 0.3), 0px 1px 3px 1px rgba(60, 64, 67, 0.15);\n",
              "      fill: #174EA6;\n",
              "    }\n",
              "\n",
              "    [theme=dark] .colab-df-convert {\n",
              "      background-color: #3B4455;\n",
              "      fill: #D2E3FC;\n",
              "    }\n",
              "\n",
              "    [theme=dark] .colab-df-convert:hover {\n",
              "      background-color: #434B5C;\n",
              "      box-shadow: 0px 1px 3px 1px rgba(0, 0, 0, 0.15);\n",
              "      filter: drop-shadow(0px 1px 2px rgba(0, 0, 0, 0.3));\n",
              "      fill: #FFFFFF;\n",
              "    }\n",
              "  </style>\n",
              "\n",
              "      <script>\n",
              "        const buttonEl =\n",
              "          document.querySelector('#df-c2a6fd20-031c-44d4-a444-18f8bcfd5285 button.colab-df-convert');\n",
              "        buttonEl.style.display =\n",
              "          google.colab.kernel.accessAllowed ? 'block' : 'none';\n",
              "\n",
              "        async function convertToInteractive(key) {\n",
              "          const element = document.querySelector('#df-c2a6fd20-031c-44d4-a444-18f8bcfd5285');\n",
              "          const dataTable =\n",
              "            await google.colab.kernel.invokeFunction('convertToInteractive',\n",
              "                                                     [key], {});\n",
              "          if (!dataTable) return;\n",
              "\n",
              "          const docLinkHtml = 'Like what you see? Visit the ' +\n",
              "            '<a target=\"_blank\" href=https://colab.research.google.com/notebooks/data_table.ipynb>data table notebook</a>'\n",
              "            + ' to learn more about interactive tables.';\n",
              "          element.innerHTML = '';\n",
              "          dataTable['output_type'] = 'display_data';\n",
              "          await google.colab.output.renderOutput(dataTable, element);\n",
              "          const docLink = document.createElement('div');\n",
              "          docLink.innerHTML = docLinkHtml;\n",
              "          element.appendChild(docLink);\n",
              "        }\n",
              "      </script>\n",
              "    </div>\n",
              "  </div>\n",
              "  "
            ],
            "text/plain": [
              "               0.05      0.10      0.15      0.20      0.25      0.30  \\\n",
              "accuracy   0.519913  0.552158  0.603931  0.659173  0.697842  0.721865   \n",
              "precision  0.510159  0.527552  0.558243  0.596240  0.627780  0.651677   \n",
              "recall     1.000000  0.998715  0.996146  0.986125  0.971994  0.953237   \n",
              "f1         0.675636  0.690409  0.715512  0.743150  0.762855  0.774126   \n",
              "\n",
              "               0.35      0.40      0.45      0.50      0.55      0.60  \\\n",
              "accuracy   0.732785  0.736639  0.735997  0.727261  0.723022  0.723664   \n",
              "precision  0.669346  0.684791  0.699284  0.710345  0.725924  0.749355   \n",
              "recall     0.920092  0.876927  0.828109  0.767472  0.716598  0.672148   \n",
              "f1         0.774940  0.769040  0.758264  0.737804  0.721231  0.708655   \n",
              "\n",
              "               0.65      0.70      0.75      0.80      0.85      0.90  \\\n",
              "accuracy   0.714157  0.708890  0.680884  0.641316  0.590185  0.527107   \n",
              "precision  0.766549  0.787076  0.803972  0.815729  0.831132  0.807580   \n",
              "recall     0.615879  0.572713  0.478417  0.365108  0.226362  0.071172   \n",
              "f1         0.683003  0.662998  0.599871  0.504437  0.355816  0.130815   \n",
              "\n",
              "               0.95  \n",
              "accuracy   0.500257  \n",
              "precision  0.600000  \n",
              "recall     0.001542  \n",
              "f1         0.003075  "
            ]
          },
          "metadata": {},
          "output_type": "display_data"
        },
        {
          "name": "stdout",
          "output_type": "stream",
          "text": [
            "Testing Set metrics:\n"
          ]
        },
        {
          "data": {
            "text/html": [
              "\n",
              "  <div id=\"df-722c7b00-f140-4c56-8d59-5feb35d70dc6\">\n",
              "    <div class=\"colab-df-container\">\n",
              "      <div>\n",
              "<style scoped>\n",
              "    .dataframe tbody tr th:only-of-type {\n",
              "        vertical-align: middle;\n",
              "    }\n",
              "\n",
              "    .dataframe tbody tr th {\n",
              "        vertical-align: top;\n",
              "    }\n",
              "\n",
              "    .dataframe thead th {\n",
              "        text-align: right;\n",
              "    }\n",
              "</style>\n",
              "<table border=\"1\" class=\"dataframe\">\n",
              "  <thead>\n",
              "    <tr style=\"text-align: right;\">\n",
              "      <th></th>\n",
              "      <th>0.05</th>\n",
              "      <th>0.10</th>\n",
              "      <th>0.15</th>\n",
              "      <th>0.20</th>\n",
              "      <th>0.25</th>\n",
              "      <th>0.30</th>\n",
              "      <th>0.35</th>\n",
              "      <th>0.40</th>\n",
              "      <th>0.45</th>\n",
              "      <th>0.50</th>\n",
              "      <th>0.55</th>\n",
              "      <th>0.60</th>\n",
              "      <th>0.65</th>\n",
              "      <th>0.70</th>\n",
              "      <th>0.75</th>\n",
              "      <th>0.80</th>\n",
              "      <th>0.85</th>\n",
              "      <th>0.90</th>\n",
              "      <th>0.95</th>\n",
              "    </tr>\n",
              "  </thead>\n",
              "  <tbody>\n",
              "    <tr>\n",
              "      <th>accuracy</th>\n",
              "      <td>0.083170</td>\n",
              "      <td>0.168297</td>\n",
              "      <td>0.278865</td>\n",
              "      <td>0.407045</td>\n",
              "      <td>0.472603</td>\n",
              "      <td>0.539139</td>\n",
              "      <td>0.587084</td>\n",
              "      <td>0.632094</td>\n",
              "      <td>0.679061</td>\n",
              "      <td>0.710372</td>\n",
              "      <td>0.755382</td>\n",
              "      <td>0.785714</td>\n",
              "      <td>0.818004</td>\n",
              "      <td>0.855186</td>\n",
              "      <td>0.877691</td>\n",
              "      <td>0.900196</td>\n",
              "      <td>0.917808</td>\n",
              "      <td>0.934442</td>\n",
              "      <td>0.945205</td>\n",
              "    </tr>\n",
              "    <tr>\n",
              "      <th>precision</th>\n",
              "      <td>0.053589</td>\n",
              "      <td>0.056793</td>\n",
              "      <td>0.063857</td>\n",
              "      <td>0.075385</td>\n",
              "      <td>0.084048</td>\n",
              "      <td>0.091977</td>\n",
              "      <td>0.098253</td>\n",
              "      <td>0.103448</td>\n",
              "      <td>0.106322</td>\n",
              "      <td>0.117089</td>\n",
              "      <td>0.137037</td>\n",
              "      <td>0.136564</td>\n",
              "      <td>0.141304</td>\n",
              "      <td>0.173611</td>\n",
              "      <td>0.185841</td>\n",
              "      <td>0.184211</td>\n",
              "      <td>0.200000</td>\n",
              "      <td>0.066667</td>\n",
              "      <td>0.000000</td>\n",
              "    </tr>\n",
              "    <tr>\n",
              "      <th>recall</th>\n",
              "      <td>0.981481</td>\n",
              "      <td>0.944444</td>\n",
              "      <td>0.925926</td>\n",
              "      <td>0.907407</td>\n",
              "      <td>0.907407</td>\n",
              "      <td>0.870370</td>\n",
              "      <td>0.833333</td>\n",
              "      <td>0.777778</td>\n",
              "      <td>0.685185</td>\n",
              "      <td>0.685185</td>\n",
              "      <td>0.685185</td>\n",
              "      <td>0.574074</td>\n",
              "      <td>0.481481</td>\n",
              "      <td>0.462963</td>\n",
              "      <td>0.388889</td>\n",
              "      <td>0.259259</td>\n",
              "      <td>0.185185</td>\n",
              "      <td>0.018519</td>\n",
              "      <td>0.000000</td>\n",
              "    </tr>\n",
              "    <tr>\n",
              "      <th>f1</th>\n",
              "      <td>0.101630</td>\n",
              "      <td>0.107143</td>\n",
              "      <td>0.119474</td>\n",
              "      <td>0.139205</td>\n",
              "      <td>0.153846</td>\n",
              "      <td>0.166372</td>\n",
              "      <td>0.175781</td>\n",
              "      <td>0.182609</td>\n",
              "      <td>0.184080</td>\n",
              "      <td>0.200000</td>\n",
              "      <td>0.228395</td>\n",
              "      <td>0.220641</td>\n",
              "      <td>0.218487</td>\n",
              "      <td>0.252525</td>\n",
              "      <td>0.251497</td>\n",
              "      <td>0.215385</td>\n",
              "      <td>0.192308</td>\n",
              "      <td>0.028986</td>\n",
              "      <td>0.000000</td>\n",
              "    </tr>\n",
              "  </tbody>\n",
              "</table>\n",
              "</div>\n",
              "      <button class=\"colab-df-convert\" onclick=\"convertToInteractive('df-722c7b00-f140-4c56-8d59-5feb35d70dc6')\"\n",
              "              title=\"Convert this dataframe to an interactive table.\"\n",
              "              style=\"display:none;\">\n",
              "        \n",
              "  <svg xmlns=\"http://www.w3.org/2000/svg\" height=\"24px\"viewBox=\"0 0 24 24\"\n",
              "       width=\"24px\">\n",
              "    <path d=\"M0 0h24v24H0V0z\" fill=\"none\"/>\n",
              "    <path d=\"M18.56 5.44l.94 2.06.94-2.06 2.06-.94-2.06-.94-.94-2.06-.94 2.06-2.06.94zm-11 1L8.5 8.5l.94-2.06 2.06-.94-2.06-.94L8.5 2.5l-.94 2.06-2.06.94zm10 10l.94 2.06.94-2.06 2.06-.94-2.06-.94-.94-2.06-.94 2.06-2.06.94z\"/><path d=\"M17.41 7.96l-1.37-1.37c-.4-.4-.92-.59-1.43-.59-.52 0-1.04.2-1.43.59L10.3 9.45l-7.72 7.72c-.78.78-.78 2.05 0 2.83L4 21.41c.39.39.9.59 1.41.59.51 0 1.02-.2 1.41-.59l7.78-7.78 2.81-2.81c.8-.78.8-2.07 0-2.86zM5.41 20L4 18.59l7.72-7.72 1.47 1.35L5.41 20z\"/>\n",
              "  </svg>\n",
              "      </button>\n",
              "      \n",
              "  <style>\n",
              "    .colab-df-container {\n",
              "      display:flex;\n",
              "      flex-wrap:wrap;\n",
              "      gap: 12px;\n",
              "    }\n",
              "\n",
              "    .colab-df-convert {\n",
              "      background-color: #E8F0FE;\n",
              "      border: none;\n",
              "      border-radius: 50%;\n",
              "      cursor: pointer;\n",
              "      display: none;\n",
              "      fill: #1967D2;\n",
              "      height: 32px;\n",
              "      padding: 0 0 0 0;\n",
              "      width: 32px;\n",
              "    }\n",
              "\n",
              "    .colab-df-convert:hover {\n",
              "      background-color: #E2EBFA;\n",
              "      box-shadow: 0px 1px 2px rgba(60, 64, 67, 0.3), 0px 1px 3px 1px rgba(60, 64, 67, 0.15);\n",
              "      fill: #174EA6;\n",
              "    }\n",
              "\n",
              "    [theme=dark] .colab-df-convert {\n",
              "      background-color: #3B4455;\n",
              "      fill: #D2E3FC;\n",
              "    }\n",
              "\n",
              "    [theme=dark] .colab-df-convert:hover {\n",
              "      background-color: #434B5C;\n",
              "      box-shadow: 0px 1px 3px 1px rgba(0, 0, 0, 0.15);\n",
              "      filter: drop-shadow(0px 1px 2px rgba(0, 0, 0, 0.3));\n",
              "      fill: #FFFFFF;\n",
              "    }\n",
              "  </style>\n",
              "\n",
              "      <script>\n",
              "        const buttonEl =\n",
              "          document.querySelector('#df-722c7b00-f140-4c56-8d59-5feb35d70dc6 button.colab-df-convert');\n",
              "        buttonEl.style.display =\n",
              "          google.colab.kernel.accessAllowed ? 'block' : 'none';\n",
              "\n",
              "        async function convertToInteractive(key) {\n",
              "          const element = document.querySelector('#df-722c7b00-f140-4c56-8d59-5feb35d70dc6');\n",
              "          const dataTable =\n",
              "            await google.colab.kernel.invokeFunction('convertToInteractive',\n",
              "                                                     [key], {});\n",
              "          if (!dataTable) return;\n",
              "\n",
              "          const docLinkHtml = 'Like what you see? Visit the ' +\n",
              "            '<a target=\"_blank\" href=https://colab.research.google.com/notebooks/data_table.ipynb>data table notebook</a>'\n",
              "            + ' to learn more about interactive tables.';\n",
              "          element.innerHTML = '';\n",
              "          dataTable['output_type'] = 'display_data';\n",
              "          await google.colab.output.renderOutput(dataTable, element);\n",
              "          const docLink = document.createElement('div');\n",
              "          docLink.innerHTML = docLinkHtml;\n",
              "          element.appendChild(docLink);\n",
              "        }\n",
              "      </script>\n",
              "    </div>\n",
              "  </div>\n",
              "  "
            ],
            "text/plain": [
              "               0.05      0.10      0.15      0.20      0.25      0.30  \\\n",
              "accuracy   0.083170  0.168297  0.278865  0.407045  0.472603  0.539139   \n",
              "precision  0.053589  0.056793  0.063857  0.075385  0.084048  0.091977   \n",
              "recall     0.981481  0.944444  0.925926  0.907407  0.907407  0.870370   \n",
              "f1         0.101630  0.107143  0.119474  0.139205  0.153846  0.166372   \n",
              "\n",
              "               0.35      0.40      0.45      0.50      0.55      0.60  \\\n",
              "accuracy   0.587084  0.632094  0.679061  0.710372  0.755382  0.785714   \n",
              "precision  0.098253  0.103448  0.106322  0.117089  0.137037  0.136564   \n",
              "recall     0.833333  0.777778  0.685185  0.685185  0.685185  0.574074   \n",
              "f1         0.175781  0.182609  0.184080  0.200000  0.228395  0.220641   \n",
              "\n",
              "               0.65      0.70      0.75      0.80      0.85      0.90  \\\n",
              "accuracy   0.818004  0.855186  0.877691  0.900196  0.917808  0.934442   \n",
              "precision  0.141304  0.173611  0.185841  0.184211  0.200000  0.066667   \n",
              "recall     0.481481  0.462963  0.388889  0.259259  0.185185  0.018519   \n",
              "f1         0.218487  0.252525  0.251497  0.215385  0.192308  0.028986   \n",
              "\n",
              "               0.95  \n",
              "accuracy   0.945205  \n",
              "precision  0.000000  \n",
              "recall     0.000000  \n",
              "f1         0.000000  "
            ]
          },
          "metadata": {},
          "output_type": "display_data"
        }
      ],
      "source": [
        "dataFrame = {}\n",
        "thresholds = np.arange(0.05, 1, 0.05, dtype=float)\n",
        "for i, t in np.ndenumerate(thresholds):\n",
        "    y_thres = np.array([0 if p < t else 1 for p in y_pred_train])\n",
        "    acc = accuracy_score(y_train, y_thres)\n",
        "    prec = precision_score(y_train, y_thres)\n",
        "    rec = recall_score(y_train, y_thres)\n",
        "    f1 = f1_score(y_train, y_thres)\n",
        "    dataFrame[float(t)] = [acc, prec, rec, f1]\n",
        "dataFrame = pd.DataFrame(dataFrame, index = [\"accuracy\", \"precision\", \"recall\", \"f1\"])\n",
        "print(\"Training set metrics:\")\n",
        "display(dataFrame)\n",
        "\n",
        "dataFrame = {}\n",
        "thresholds = np.arange(0.05, 1, 0.05, dtype=float)\n",
        "for i, t in np.ndenumerate(thresholds):\n",
        "    y_thres = np.array([0 if p < t else 1 for p in y_pred_test])\n",
        "    acc = accuracy_score(y_test, y_thres)\n",
        "    prec = precision_score(y_test, y_thres)\n",
        "    rec = recall_score(y_test, y_thres)\n",
        "    f1 = f1_score(y_test, y_thres)\n",
        "    dataFrame[float(t)] = [acc, prec, rec, f1]\n",
        "dataFrame = pd.DataFrame(dataFrame, index = [\"accuracy\", \"precision\", \"recall\", \"f1\"])\n",
        "print(\"Testing Set metrics:\")\n",
        "display(dataFrame)"
      ]
    },
    {
      "cell_type": "markdown",
      "metadata": {
        "id": "a6KOjKAbc8BF"
      },
      "source": [
        "Since our goal is to reduce the number of false negatives (so we would like to have a high recall) trying to keep a high accuracy, a possible trade-off might be choosing a threshold t = 0.55. Choosing this threshold, we have the following outcome:"
      ]
    },
    {
      "cell_type": "code",
      "execution_count": null,
      "metadata": {
        "colab": {
          "base_uri": "https://localhost:8080/",
          "height": 389
        },
        "id": "7vHekorHSlGh",
        "outputId": "d878284d-980c-4b78-ac76-fd8da4847068"
      },
      "outputs": [
        {
          "data": {
            "text/plain": [
              "[Text(0, 0.5, 'False'), Text(0, 1.5, 'True')]"
            ]
          },
          "execution_count": 32,
          "metadata": {},
          "output_type": "execute_result"
        },
        {
          "data": {
            "image/png": "[encoded data removed]",
            "text/plain": [
              "<Figure size 504x360 with 2 Axes>"
            ]
          },
          "metadata": {},
          "output_type": "display_data"
        }
      ],
      "source": [
        "y_thres_test = np.array([0 if p < 0.55 else 1 for p in y_pred_test])\n",
        "tn, fp, fn, tp = confusion_matrix(y_test, y_thres_test).ravel()\n",
        "\n",
        "models_score.append([\"LR\", accuracy_score(y_test, y_thres_test), recall_score(y_test, y_thres_test)]) # LR SCORE\n",
        "\n",
        "fig, ax = plt.subplots(1,1, figsize=(7,5))\n",
        "cf_matrix = confusion_matrix(y_test, y_thres_test)\n",
        "plt.title('Confusion Matrix: Logistic Regression')\n",
        "sns.heatmap(cf_matrix, annot = True, fmt = \"g\", cmap = \"rocket_r\")\n",
        "ax.set_xlabel('Predicted labels')\n",
        "ax.set_ylabel('True labels') \n",
        "ax.xaxis.set_ticklabels(['False', 'True'])\n",
        "ax.yaxis.set_ticklabels(['False', 'True'])\n"
      ]
    },
    {
      "cell_type": "markdown",
      "metadata": {
        "id": "9vOcj1d7gBpe"
      },
      "source": [
        "### 4.2 K-Nearest Neighbors\n"
      ]
    },
    {
      "cell_type": "markdown",
      "metadata": {
        "id": "WeQ0v88yhkpu"
      },
      "source": [
        "This is a possible implementation of KNN using Sklearn with an efficient selection of K value using GridSearchCV. The GridSearchCV is a library function that is a member of sklearn's model_selection package. It helps to loop through predefined hyperparameters and fit your estimator (model) on your training set. So, in the end, we can select the best parameters from the listed hyperparameters."
      ]
    },
    {
      "cell_type": "code",
      "execution_count": null,
      "metadata": {
        "colab": {
          "base_uri": "https://localhost:8080/"
        },
        "id": "8H3Cqia6y6n8",
        "outputId": "eda09fe0-8685-4aa3-ac2d-9ad234a7cd65"
      },
      "outputs": [
        {
          "name": "stdout",
          "output_type": "stream",
          "text": [
            "Best recall: 98.72%\n",
            "Best parameter:  {'metric': 'manhattan', 'n_neighbors': 16, 'weights': 'distance'}\n"
          ]
        }
      ],
      "source": [
        "knn_grid = KNeighborsClassifier()\n",
        "\n",
        "k_values= range(1, 20)\n",
        "\n",
        "param_grid = {\"n_neighbors\": k_values, \"weights\": ['uniform', 'distance'], \"metric\": ['euclidean', 'manhattan']}\n",
        "\n",
        "knn_grid_model = GridSearchCV(knn_grid, param_grid, cv = 10, scoring = 'recall', return_train_score = False)\n",
        "\n",
        "knn_grid_model.fit(X_train, y_train)\n",
        "\n",
        "best_recall = knn_grid_model.best_score_ * 100\n",
        "best_param = knn_grid_model.best_params_\n",
        "\n",
        "print(\"Best recall: {:.2f}%\".format(best_recall))\n",
        "print('Best parameter: ', best_param)"
      ]
    },
    {
      "cell_type": "markdown",
      "metadata": {
        "id": "0JgLOFkAy-7h"
      },
      "source": [
        "By fitting the model with grid search we found out the optimal parameter of K with the best recall score."
      ]
    },
    {
      "cell_type": "code",
      "execution_count": null,
      "metadata": {
        "id": "JpmaRiSry_jB"
      },
      "outputs": [],
      "source": [
        "best_k = best_param[\"n_neighbors\"]\n",
        "\n",
        "knn = KNeighborsClassifier(n_neighbors=best_k)\n",
        "knn.fit(X_train, y_train)\n",
        "\n",
        "y_pred = knn.predict(X_test)\n",
        "\n",
        "models_score.append([\"KNN\", accuracy_score(y_test, y_pred), recall_score(y_test, y_pred)]) # KNN"
      ]
    },
    {
      "cell_type": "code",
      "execution_count": null,
      "metadata": {
        "colab": {
          "base_uri": "https://localhost:8080/",
          "height": 407
        },
        "id": "eQwEr0FDzBl3",
        "outputId": "14fab4b1-0a4a-4d5e-a87c-63873527e5c4"
      },
      "outputs": [
        {
          "name": "stdout",
          "output_type": "stream",
          "text": [
            "Testing Accuracy: 76.71%\n",
            "Testing Recall: 62.96%\n"
          ]
        },
        {
          "data": {
            "image/png": "[encoded data removed]",
            "text/plain": [
              "<Figure size 504x360 with 2 Axes>"
            ]
          },
          "metadata": {},
          "output_type": "display_data"
        }
      ],
      "source": [
        "tn, fp, fn, tp = confusion_matrix(y_test, y_pred).ravel()\n",
        "\n",
        "fig, ax = plt.subplots(1,1, figsize=(7,5))\n",
        "cf_matrix = confusion_matrix(y_test, y_pred)\n",
        "plt.title('Confusion Matrix: KNN')\n",
        "sns.heatmap(cf_matrix, annot = True, fmt = \"g\", cmap = \"rocket_r\")\n",
        "ax.set_xlabel('Predicted labels')\n",
        "ax.set_ylabel('True labels') \n",
        "ax.xaxis.set_ticklabels(['False', 'True'])\n",
        "ax.yaxis.set_ticklabels(['False', 'True'])\n",
        "\n",
        "print(\"Testing Accuracy: {:.2f}%\".format(accuracy_score(y_test, y_pred) * 100))\n",
        "print(\"Testing Recall: {:.2f}%\".format(recall_score(y_test, y_pred) * 100))"
      ]
    },
    {
      "cell_type": "markdown",
      "metadata": {
        "id": "p68farabrFFV"
      },
      "source": [
        "### 4.3 Gaussian Discriminant Analysis"
      ]
    },
    {
      "cell_type": "markdown",
      "metadata": {
        "id": "X8cGLSAeqeiv"
      },
      "source": [
        "We decided to apply both Linear Discriminant Analysis and Quadratid Discriminant Analysis in order to compare the performances.\n",
        "Here are the parameters that we have to compute for the QDA:\n",
        "- $\\phi = P(y=1)$: the probability of a person having a stroke;\n",
        "- $\\mu_0$ the mean vector of the class 0 (person doesn't have a stroke);\n",
        "- $\\mu_1$ the mean vector of the class 1 (person does have a stroke);\n",
        "- $\\Sigma_0$ the covariance matrix relative to the class 0.\n",
        "- $\\Sigma_1$ the covariance matrix relative to the class 1.\n",
        "\n",
        "Regarding the LDA, the parameters are the same but we only compute one covariance matrix $\\sigma$ for both the classes."
      ]
    },
    {
      "cell_type": "code",
      "execution_count": null,
      "metadata": {
        "id": "2WdkKl-eqjbR"
      },
      "outputs": [],
      "source": [
        "def qda_fit(X_train, y_train):\n",
        "    mu_0 = np.mean(X_train[y_train == 0], axis=0) #Mean vector of class 0 (hasn't stroke)\n",
        "    mu_1 = np.mean(X_train[y_train == 1], axis=0) #Mean vector of class 1 (has stroke)\n",
        "    sigma_0 = np.cov(X_train[y_train == 0], rowvar=0) \n",
        "    sigma_1 = np.cov(X_train[y_train == 1], rowvar=0) \n",
        "    phi = float(np.sum(y_train)) / y_train.shape[0] #Probability of a person having a stroke\n",
        "    return phi, mu_0, mu_1, sigma_0, sigma_1\n",
        "  \n",
        "def lda_fit(X_train, y_train):\n",
        "    mu_0 = np.mean(X_train[y_train == 0], axis=0) #Mean vector of class 0 (hasn't stroke)\n",
        "    mu_1 = np.mean(X_train[y_train == 1], axis=0) #Mean vector of class 1 (has stroke)\n",
        "    sigma = np.cov(X_train, rowvar=0) \n",
        "    phi = float(np.sum(y_train)) / y_train.shape[0] #Probability of a person having a stroke\n",
        "    return phi, mu_0, mu_1, sigma"
      ]
    },
    {
      "cell_type": "markdown",
      "metadata": {
        "id": "W8qmZes_qoJJ"
      },
      "source": [
        "Now that we have the parameters needed, we can built the function that computes the predicted $y$ array.\n",
        "\n",
        "Since we assume that $P(x|y=k) \\sim 𝒩(\\mu_k, \\Sigma_k)$, where $k \\in \\{0,1\\}$ are the possible classes, we can calculate the probability of an example being in class $k$:\n",
        "\\begin{align}\n",
        "P(x|y=k) = \\frac{1}{2\\pi^{\\frac{n}{2}}|\\Sigma_k|^{\\frac{1}{2}}}\\exp\\left(-\\frac{1}{2}(x-\\mu_k)^T\\Sigma_k^{-1}(x-\\mu_k)\\right)\n",
        "\\end{align}\n",
        "\n",
        "(The probability distribution for LDA is the same, but we have only one shared covariance matrix $\\Sigma$ instead of many covariances matrixes $\\Sigma_k$ for every class $k$)\n",
        "\n",
        "In order to predict the correct value, we want to know which is the $y$ that has the highest $P(y=k|x)$. We can do it by applying the $argmax$ on $P(y=k|x)$, that we can obtain by applying the bayes rule:\n",
        "\n",
        "\\begin{align}\n",
        "  argmax_y P(y=k|x) = argmax_y\\frac{P(x|y=k)P(y=k)}{P(x)}\n",
        "\\end{align}\n",
        "\n",
        "$P(x)$ is a costant, so we can delete it from the equation since it won't make a difference for the $argmax$ result.\n",
        "\n",
        "\\begin{align}\n",
        "  argmax_y P(y=k|x) = argmax_y{P(x|y=k)P(y=k)}\n",
        "\\end{align}"
      ]
    },
    {
      "cell_type": "code",
      "execution_count": null,
      "metadata": {
        "id": "Ce2jOLtkqlnb"
      },
      "outputs": [],
      "source": [
        "def qda_predict(X_test, phi, mu_0, mu_1, sigma_0, sigma_1):\n",
        "    scores = np.zeros((X_test.shape[0], 2))  # Initially we set the each class probability to zero.\n",
        "\n",
        "    mn_0 = multivariate_normal(mean=mu_0, cov=sigma_0)\n",
        "    mn_1 = multivariate_normal(mean=mu_1, cov=sigma_1)\n",
        "\n",
        "    for i, x in enumerate(X_test):\n",
        "      if type(x) != str:\n",
        "        scores[i,0] = mn_0.pdf(x) * (1-phi)\n",
        "        scores[i,1] = mn_1.pdf(x) * phi\n",
        "    \n",
        "    predictions = np.argmax(scores, axis=1)\n",
        "    return predictions\n",
        "  \n",
        "def lda_predict(X_test, phi, mu_0, mu_1, sigma):\n",
        "    scores = np.zeros((X_test.shape[0], 2))  # Initially we set the each class probability to zero.\n",
        "\n",
        "    mn_0 = multivariate_normal(mean=mu_0, cov=sigma)\n",
        "    mn_1 = multivariate_normal(mean=mu_1, cov=sigma)\n",
        "\n",
        "    for i, x in enumerate(X_test):\n",
        "      if type(x) != str:\n",
        "        scores[i,0] = mn_0.pdf(x) * (1-phi)\n",
        "        scores[i,1] = mn_1.pdf(x) * phi\n",
        "\n",
        "    predictions = np.argmax(scores, axis=1)\n",
        "    return predictions"
      ]
    },
    {
      "cell_type": "markdown",
      "metadata": {
        "id": "CLrQ1L_82Lrn"
      },
      "source": [
        "Now we're ready to fit the model on the oversampled data and predict the values"
      ]
    },
    {
      "cell_type": "code",
      "execution_count": null,
      "metadata": {
        "colab": {
          "base_uri": "https://localhost:8080/",
          "height": 528
        },
        "id": "DIqw66ypqqS3",
        "outputId": "249efa59-9995-47f6-abc0-97da8d7a2b5e"
      },
      "outputs": [
        {
          "name": "stdout",
          "output_type": "stream",
          "text": [
            "              precision    recall  f1-score   support\n",
            "\n",
            "           0       0.98      0.73      0.84       968\n",
            "           1       0.13      0.74      0.23        54\n",
            "\n",
            "    accuracy                           0.73      1022\n",
            "   macro avg       0.56      0.74      0.53      1022\n",
            "weighted avg       0.94      0.73      0.81      1022\n",
            "\n"
          ]
        },
        {
          "data": {
            "image/png": "[encoded data removed]",
            "text/plain": [
              "<Figure size 504x360 with 2 Axes>"
            ]
          },
          "metadata": {},
          "output_type": "display_data"
        }
      ],
      "source": [
        "phi, mu_0, mu_1, sigma_0, sigma_1 = qda_fit(X_train, y_train)\n",
        "\n",
        "y_pred = qda_predict(X_test, phi, mu_0, mu_1, sigma_0, sigma_1)\n",
        "\n",
        "models_score.append([\"GDA\", accuracy_score(y_test, y_pred), recall_score(y_test, y_pred)]) # GDA SCORE\n",
        "\n",
        "report = classification_report(y_test, y_pred)\n",
        "\n",
        "fig, ax = plt.subplots(1,1, figsize=(7,5))\n",
        "cf_matrix = confusion_matrix(y_test, y_pred)\n",
        "plt.title('Confusion Matrix: GDA (QDA)')\n",
        "sns.heatmap(cf_matrix, annot = True, fmt = \"g\", cmap = \"rocket_r\")\n",
        "ax.set_xlabel('Predicted labels')\n",
        "ax.set_ylabel('True labels') \n",
        "ax.xaxis.set_ticklabels(['False', 'True'])\n",
        "ax.yaxis.set_ticklabels(['False', 'True'])\n",
        "\n",
        "print(report)"
      ]
    },
    {
      "cell_type": "markdown",
      "metadata": {
        "id": "OqDO1Uas6m_W"
      },
      "source": [
        "We can now compare QDA to LDA and see how QDA performs a little bit better."
      ]
    },
    {
      "cell_type": "code",
      "execution_count": null,
      "metadata": {
        "colab": {
          "base_uri": "https://localhost:8080/",
          "height": 528
        },
        "id": "5GsgXpXx3G3W",
        "outputId": "5d01a547-83e1-4c69-b32b-bd4eab81b8cc"
      },
      "outputs": [
        {
          "name": "stdout",
          "output_type": "stream",
          "text": [
            "              precision    recall  f1-score   support\n",
            "\n",
            "           0       0.98      0.74      0.85       968\n",
            "           1       0.14      0.72      0.23        54\n",
            "\n",
            "    accuracy                           0.74      1022\n",
            "   macro avg       0.56      0.73      0.54      1022\n",
            "weighted avg       0.94      0.74      0.81      1022\n",
            "\n"
          ]
        },
        {
          "data": {
            "image/png": "[encoded data removed]",
            "text/plain": [
              "<Figure size 504x360 with 2 Axes>"
            ]
          },
          "metadata": {},
          "output_type": "display_data"
        }
      ],
      "source": [
        "phi, mu_0, mu_1, sigma = lda_fit(X_train, y_train)\n",
        "\n",
        "y_pred = lda_predict(X_test, phi, mu_0, mu_1, sigma)\n",
        "\n",
        "report = classification_report(y_test, y_pred)\n",
        "\n",
        "fig, ax = plt.subplots(1,1, figsize=(7,5))\n",
        "cf_matrix = confusion_matrix(y_test, y_pred)\n",
        "plt.title('Confusion Matrix: GDA (LDA)')\n",
        "sns.heatmap(cf_matrix, annot = True, fmt = \"g\", cmap = \"rocket_r\")\n",
        "ax.set_xlabel('Predicted labels')\n",
        "ax.set_ylabel('True labels') \n",
        "ax.xaxis.set_ticklabels(['False', 'True'])\n",
        "ax.yaxis.set_ticklabels(['False', 'True'])\n",
        "\n",
        "print(report)"
      ]
    },
    {
      "cell_type": "markdown",
      "metadata": {
        "id": "EOK0fFlsCCC-"
      },
      "source": [
        "Let's verify if the data is normally distributed with the D’Agostino and Pearson’s normality test."
      ]
    },
    {
      "cell_type": "code",
      "execution_count": null,
      "metadata": {
        "colab": {
          "base_uri": "https://localhost:8080/"
        },
        "id": "0Qy56wTyCLC9",
        "outputId": "dbd2f660-a062-4625-9c3a-286018f898c4"
      },
      "outputs": [
        {
          "name": "stdout",
          "output_type": "stream",
          "text": [
            "p-value for class 0: 0.0\n",
            "p-value for class 1: 1.9304748181889902e-162\n",
            "Class 0 is not likely to be Gaussian\n",
            "Class 1 is not likely to be Gaussian\n"
          ]
        }
      ],
      "source": [
        "from scipy.stats import normaltest\n",
        "\n",
        "# Flatten the array to create a 1D sample\n",
        "sample_0 = df[df.stroke == 0].values.flatten()\n",
        "sample_1 = df[df.stroke == 1].values.flatten()\n",
        "\n",
        "# Perform the Normaltest test\n",
        "statistic_0, pvalue_0 = normaltest(sample_0)\n",
        "statistic_1, pvalue_1 = normaltest(sample_1)\n",
        "\n",
        "print(f\"p-value for class 0: {pvalue_0}\")\n",
        "print(f\"p-value for class 1: {pvalue_1}\")\n",
        "\n",
        "# If the p-value is greater than 0.05, it suggests that the data is likely to be Gaussian\n",
        "if pvalue_0 > 0.05:\n",
        "    print(\"Class 0 is likely to be Gaussian\")\n",
        "else:\n",
        "    print(\"Class 0 is not likely to be Gaussian\")\n",
        "\n",
        "if pvalue_1 > 0.05:\n",
        "    print(\"Class 1 is likely to be Gaussian\")\n",
        "else:\n",
        "    print(\"Class 1 is not likely to be Gaussian\")\n"
      ]
    },
    {
      "cell_type": "markdown",
      "metadata": {
        "id": "YhtT30wzV9I2"
      },
      "source": [
        "From the normality test we can see that none of both classes are normally distributed.\n",
        "If they were, Gaussian Discriminant Analysis would have had better performances.\n",
        "We can assume that GDA performs quite good with respect to the other methods because the dataset has a small number of samples."
      ]
    },
    {
      "cell_type": "markdown",
      "metadata": {
        "id": "Z4YOcDgjCRAt"
      },
      "source": [
        "### 4.4 Support Vector Classification"
      ]
    },
    {
      "cell_type": "markdown",
      "metadata": {
        "id": "bDy-m448QPMX"
      },
      "source": [
        "We now try to see how a Support Vector Classifier works using SKLearn. We use a linear kernel:"
      ]
    },
    {
      "cell_type": "code",
      "execution_count": null,
      "metadata": {
        "colab": {
          "base_uri": "https://localhost:8080/",
          "height": 459
        },
        "id": "I-a5mkWmCdy1",
        "outputId": "b97fe0fe-cce7-485b-d069-0217999f0e7a"
      },
      "outputs": [
        {
          "name": "stdout",
          "output_type": "stream",
          "text": [
            "Training Accuracy: 0.7718396711202467\n",
            "Training Recall: 0.803186022610483\n",
            "Testing Accuracy: 0.7563600782778865\n",
            "Testing Recall: 0.6851851851851852\n"
          ]
        },
        {
          "data": {
            "text/plain": [
              "[Text(0, 0.5, 'False'), Text(0, 1.5, 'True')]"
            ]
          },
          "execution_count": 41,
          "metadata": {},
          "output_type": "execute_result"
        },
        {
          "data": {
            "image/png": "[encoded data removed]",
            "text/plain": [
              "<Figure size 504x360 with 2 Axes>"
            ]
          },
          "metadata": {},
          "output_type": "display_data"
        }
      ],
      "source": [
        "svc = SVC(kernel='linear')\n",
        "svc.fit(X_train, y_train)\n",
        "\n",
        "y_pred_train = svc.predict(X_train)\n",
        "y_pred_test = svc.predict(X_test)\n",
        "\n",
        "models_score.append([\"SVC\", accuracy_score(y_test, y_pred_test), recall_score(y_test, y_pred_test)]) # SVC SCORE\n",
        "\n",
        "print('Training Accuracy:', accuracy_score(y_train, y_pred_train))\n",
        "print('Training Recall:', recall_score(y_train, y_pred_train))\n",
        "print('Testing Accuracy:', accuracy_score(y_test, y_pred_test))\n",
        "print('Testing Recall:', recall_score(y_test, y_pred_test))\n",
        "\n",
        "fig, ax = plt.subplots(1,1, figsize=(7,5))\n",
        "cf_matrix = confusion_matrix(y_test, y_pred_test)\n",
        "plt.title('Confusion Matrix: SVC')\n",
        "sns.heatmap(cf_matrix, annot = True, fmt = \"g\", cmap = \"rocket_r\")\n",
        "ax.set_xlabel('Predicted labels')\n",
        "ax.set_ylabel('True labels') \n",
        "ax.xaxis.set_ticklabels(['False', 'True'])\n",
        "ax.yaxis.set_ticklabels(['False', 'True'])"
      ]
    },
    {
      "cell_type": "markdown",
      "metadata": {
        "id": "VNXEY6lEI0Vj"
      },
      "source": [
        "### 4.5 Random Forest Classifier"
      ]
    },
    {
      "cell_type": "markdown",
      "metadata": {
        "id": "pSGd3zCxQfzf"
      },
      "source": [
        "We now try to see how a Random Forest Classifier works using SKLearn. We use a maximum depth of 5:"
      ]
    },
    {
      "cell_type": "code",
      "execution_count": null,
      "metadata": {
        "colab": {
          "base_uri": "https://localhost:8080/",
          "height": 459
        },
        "id": "iHmDvZNxI5d6",
        "outputId": "de863c94-ad4e-4c2b-c371-76be97d7ff12"
      },
      "outputs": [
        {
          "name": "stdout",
          "output_type": "stream",
          "text": [
            "Training Accuracy: 0.848792394655704\n",
            "Training Recall: 0.9116135662898253\n",
            "Testing Accuracy: 0.7837573385518591\n",
            "Testing Recall: 0.6481481481481481\n"
          ]
        },
        {
          "data": {
            "text/plain": [
              "[Text(0, 0.5, 'False'), Text(0, 1.5, 'True')]"
            ]
          },
          "execution_count": 42,
          "metadata": {},
          "output_type": "execute_result"
        },
        {
          "data": {
            "image/png": "[encoded data removed]",
            "text/plain": [
              "<Figure size 504x360 with 2 Axes>"
            ]
          },
          "metadata": {},
          "output_type": "display_data"
        }
      ],
      "source": [
        "rfc = RandomForestClassifier(max_depth=5, random_state=0)\n",
        "rfc.fit(X_train, y_train)\n",
        "\n",
        "y_pred_train = rfc.predict(X_train)\n",
        "y_pred_test = rfc.predict(X_test)\n",
        "\n",
        "models_score.append([\"RFC\", accuracy_score(y_test, y_pred_test), recall_score(y_test, y_pred_test)]) # RFC SCORE\n",
        "\n",
        "print('Training Accuracy:', accuracy_score(y_train, y_pred_train))\n",
        "print('Training Recall:', recall_score(y_train, y_pred_train))\n",
        "print('Testing Accuracy:', accuracy_score(y_test, y_pred_test))\n",
        "print('Testing Recall:', recall_score(y_test, y_pred_test))\n",
        "\n",
        "fig, ax = plt.subplots(1,1, figsize=(7,5))\n",
        "cf_matrix = confusion_matrix(y_test, y_pred_test)\n",
        "plt.title('Confusion Matrix: Random Forest')\n",
        "sns.heatmap(cf_matrix, annot = True, fmt = \"g\", cmap = \"rocket_r\")\n",
        "ax.set_xlabel('Predicted labels')\n",
        "ax.set_ylabel('True labels') \n",
        "ax.xaxis.set_ticklabels(['False', 'True'])\n",
        "ax.yaxis.set_ticklabels(['False', 'True'])\n"
      ]
    },
    {
      "cell_type": "markdown",
      "metadata": {
        "id": "zK1eMlqXWioB"
      },
      "source": [
        "# 5. Conclusions"
      ]
    },
    {
      "cell_type": "code",
      "execution_count": null,
      "metadata": {
        "colab": {
          "base_uri": "https://localhost:8080/",
          "height": 422
        },
        "id": "aHLs0TeqWjAp",
        "outputId": "d8ac4e75-38d9-4ebf-f92f-4669632d2a8e"
      },
      "outputs": [
        {
          "data": {
            "text/plain": [
              "[Text(0.5, 1.0, 'Recall score')]"
            ]
          },
          "execution_count": 43,
          "metadata": {},
          "output_type": "execute_result"
        },
        {
          "data": {
            "image/png": "[encoded data removed]",
            "text/plain": [
              "<Figure size 1080x432 with 2 Axes>"
            ]
          },
          "metadata": {},
          "output_type": "display_data"
        }
      ],
      "source": [
        "# Barplot to show the test accuracy and recall scores of each algorithms\n",
        "fig, axes = plt.subplots(1, 2, figsize = (15, 6))\n",
        "\n",
        "sns.barplot(x = np.array(models_score)[:, 0], y=np.array(models_score)[:, 1].astype('float64'), ax=axes[0]).set(title='Accuracy score')\n",
        "sns.barplot(x = np.array(models_score)[:, 0], y=np.array(models_score)[:, 2].astype('float64'), ax=axes[1]).set(title='Recall score')"
      ]
    },
    {
      "cell_type": "code",
      "execution_count": null,
      "metadata": {
        "colab": {
          "base_uri": "https://localhost:8080/"
        },
        "id": "cvZkS-kV2S3S",
        "outputId": "e0d7b4d9-28fd-4297-ecf5-ddb14d85ae5f"
      },
      "outputs": [
        {
          "name": "stdout",
          "output_type": "stream",
          "text": [
            "LR Accuracy score: 0.7553816046966731\n",
            "LR Recall score: 0.6851851851851852\n",
            "\n",
            "KNN Accuracy score: 0.7671232876712328\n",
            "KNN Recall score: 0.6296296296296297\n",
            "\n",
            "GDA Accuracy score: 0.7328767123287672\n",
            "GDA Recall score: 0.7407407407407407\n",
            "\n",
            "SVC Accuracy score: 0.7563600782778865\n",
            "SVC Recall score: 0.6851851851851852\n",
            "\n",
            "RFC Accuracy score: 0.7837573385518591\n",
            "RFC Recall score: 0.6481481481481481\n",
            "\n"
          ]
        }
      ],
      "source": [
        "# metrics in details\n",
        "for metric in models_score:\n",
        "    print(np.array(metric)[0] + \" Accuracy score: \" + np.array(metric)[1])    \n",
        "    print(np.array(metric)[0] + \" Recall score: \" + np.array(metric)[2] + \"\\n\")  "
      ]
    }
  ],
  "metadata": {
    "colab": {
      "provenance": [],
      "include_colab_link": true
    },
    "kernelspec": {
      "display_name": "Python 3.9.12 ('base')",
      "language": "python",
      "name": "python3"
    },
    "language_info": {
      "codemirror_mode": {
        "name": "ipython",
        "version": 3
      },
      "file_extension": ".py",
      "mimetype": "text/x-python",
      "name": "python",
      "nbconvert_exporter": "python",
      "pygments_lexer": "ipython3",
      "version": "3.9.13"
    },
    "vscode": {
      "interpreter": {
        "hash": "303fa613b6f3e1efefe7bb28036e305e1021fa6bdb083a5f9fd57f9d9bbad8eb"
      }
    }
  },
  "nbformat": 4,
  "nbformat_minor": 0
}