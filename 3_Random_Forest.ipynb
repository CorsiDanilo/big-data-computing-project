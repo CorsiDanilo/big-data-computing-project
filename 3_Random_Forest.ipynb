{
  "cells": [
    {
      "cell_type": "markdown",
      "metadata": {
        "id": "view-in-github",
        "colab_type": "text"
      },
      "source": [
        "<a href=\"https://colab.research.google.com/github/CorsiDanilo/big-data-computing-project/blob/main/3_Random_Forest.ipynb\" target=\"_parent\"><img src=\"https://colab.research.google.com/assets/colab-badge.svg\" alt=\"Open In Colab\"/></a>"
      ]
    },
    {
      "cell_type": "markdown",
      "metadata": {
        "id": "e452Ydj7chNV"
      },
      "source": [
        "# Bitcoin price forecasting with PySpark\n",
        "## Big Data Computing final project - A.Y. 2022 - 2023\n",
        "Prof. Gabriele Tolomei\n",
        "\n",
        "MSc in Computer Science\n",
        "\n",
        "La Sapienza, University of Rome\n",
        "\n",
        "### Author\n",
        "Corsi Danilo - corsi.1742375@studenti.uniroma1.it\n",
        "\n"
      ]
    },
    {
      "cell_type": "markdown",
      "metadata": {
        "id": "laFEbOtkdTI0"
      },
      "source": [
        "### Introduction\n",
        "\n",
        "The cryptocurrency Bitcoin has attracted the attention of many people in recent years. However, it's\n",
        "price fluctuation can be extremely unpredictable, which makes it difficult to predict when the right\n",
        "time to buy or sell this digital currency will be. In this context, forecasting Bitcoin prices can be a\n",
        "competitive advantage for investors and traders, as it could allow them to make informed decisions\n",
        "on the right time to enter or exit the market. In this project, I will analyze some machine learning\n",
        "techniques to understand, through the processing of historical data, how accurately the price of Bitcoin\n",
        "can be predicted and whether this can provide added value to cryptocurrency investors and traders.\n",
        "### Dataset\n",
        "I chose to use the following dataset from Kaggle Bitcoin Historical Dataset, more specifically those\n",
        "containing minute-by-minute updates of the Bitcoin price from 2017 to 2021 (period for which there\n",
        "were moments of high volatility but also a lot of price lateralisation). The columns (features) contained\n",
        "in it, in addition to the timestamp of each transaction, are the opening, closing, highest and lowest\n",
        "price and the corresponding trading volume in Bitcoin and Dollars.\n",
        "### Methods (TODO: da scegliere per bene)\n",
        "The methods I will test will be Linear Regression (simple and multiple) and Random Forest. Further\n",
        "comparisons with other classification models are planned in the course of development. Moreover, I\n",
        "would also like to try to understand what the differences are between these methods and the imple-\n",
        "mentation of a state-of-the-art neural network such as Long-Short Term Memory.\n",
        "### Evaluation framework (TODO: vedi quali usare in base ai paper/esempi e ai modelli utilizzati)\n",
        "As evaluation framework I will use R-square (R²), Mean Square Error (MSE) and Mean Absolute\n",
        "Error (MAE) to get a complete picture of the performance of the various models."
      ]
    },
    {
      "cell_type": "markdown",
      "source": [
        "# Global Constants\n"
      ],
      "metadata": {
        "id": "AkQaY6VAf4v_"
      }
    },
    {
      "cell_type": "code",
      "source": [
        "JAVA_HOME = \"/usr/lib/jvm/java-8-openjdk-amd64\"\n",
        "GDRIVE_DIR = \"/content/drive\"\n",
        "\n",
        "GDRIVE_DATASET_RAW_DIR = GDRIVE_DIR + \"/MyDrive/BDC/project/datasets/raw\"\n",
        "GDRIVE_DATASET_TEMP_DIR = GDRIVE_DIR + \"/MyDrive/BDC/project/datasets/temp\"\n",
        "GDRIVE_DATASET_OUTPUT_DIR = GDRIVE_DIR + \"/MyDrive/BDC/project/datasets/output\"\n",
        "\n",
        "GDRIVE_DATASET_NAME = \"bitcoin_blockchain_data_1m\"\n",
        "GDRIVE_DATASET_NAME_TRAIN = GDRIVE_DATASET_NAME + \"_all_train\"\n",
        "GDRIVE_DATASET_NAME_TEST = GDRIVE_DATASET_NAME + \"_all_test\"\n",
        "\n",
        "GDRIVE_DATASET_NAME_EXT_TRAIN  = \"/\" + GDRIVE_DATASET_NAME_TRAIN + \".parquet\"\n",
        "GDRIVE_DATASET_NAME_EXT_TEST = \"/\" + GDRIVE_DATASET_NAME_TEST + \".parquet\"\n",
        "\n",
        "GDRIVE_DATASET_TRAIN = GDRIVE_DATASET_OUTPUT_DIR + GDRIVE_DATASET_NAME_EXT_TRAIN\n",
        "GDRIVE_DATASET_TEST = GDRIVE_DATASET_OUTPUT_DIR + GDRIVE_DATASET_NAME_EXT_TEST\n",
        "\n",
        "SLOW_OPERATION = False"
      ],
      "metadata": {
        "id": "L7-8QQvKf5CR"
      },
      "execution_count": 1,
      "outputs": []
    },
    {
      "cell_type": "markdown",
      "source": [
        "#  Import useful Python packages"
      ],
      "metadata": {
        "id": "IXTGTgzEqE3x"
      }
    },
    {
      "cell_type": "code",
      "execution_count": 2,
      "metadata": {
        "id": "PX7xDYw4SvrB"
      },
      "outputs": [],
      "source": [
        "import requests\n",
        "import pandas as pd\n",
        "import numpy as np\n",
        "import matplotlib.pyplot as plt\n",
        "import seaborn as sns\n",
        "%matplotlib inline\n",
        "\n",
        "from itertools import cycle\n",
        "\n",
        "import plotly.express as px\n",
        "\n",
        "import plotly.graph_objs as go\n",
        "from plotly.offline import init_notebook_mode, iplot\n",
        "import gc"
      ]
    },
    {
      "cell_type": "markdown",
      "metadata": {
        "id": "YtmWjQUVSvq2"
      },
      "source": [
        "# **Spark + Google Colab Setup**"
      ]
    },
    {
      "cell_type": "markdown",
      "metadata": {
        "id": "OlRW_JLjSvrA"
      },
      "source": [
        "## Install PySpark and related dependencies\n",
        "\n",
        "\n",
        "\n"
      ]
    },
    {
      "cell_type": "code",
      "execution_count": 3,
      "metadata": {
        "id": "Si82CaUYSvrA",
        "colab": {
          "base_uri": "https://localhost:8080/"
        },
        "outputId": "583ab380-f243-4e65-ac0b-5e54aebd9c03"
      },
      "outputs": [
        {
          "output_type": "stream",
          "name": "stdout",
          "text": [
            "Collecting pyspark\n",
            "  Downloading pyspark-3.4.1.tar.gz (310.8 MB)\n",
            "\u001b[2K     \u001b[90m━━━━━━━━━━━━━━━━━━━━━━━━━━━━━━━━━━━━━━━\u001b[0m \u001b[32m310.8/310.8 MB\u001b[0m \u001b[31m1.3 MB/s\u001b[0m eta \u001b[36m0:00:00\u001b[0m\n",
            "\u001b[?25h  Preparing metadata (setup.py) ... \u001b[?25l\u001b[?25hdone\n",
            "Requirement already satisfied: py4j==0.10.9.7 in /usr/local/lib/python3.10/dist-packages (from pyspark) (0.10.9.7)\n",
            "Building wheels for collected packages: pyspark\n",
            "  Building wheel for pyspark (setup.py) ... \u001b[?25l\u001b[?25hdone\n",
            "  Created wheel for pyspark: filename=pyspark-3.4.1-py2.py3-none-any.whl size=311285398 sha256=8bbd5808b8e4490bbbeb7761b6a866fb1bd0ca7711fa159a4b4f10ad903b8bf8\n",
            "  Stored in directory: /root/.cache/pip/wheels/0d/77/a3/ff2f74cc9ab41f8f594dabf0579c2a7c6de920d584206e0834\n",
            "Successfully built pyspark\n",
            "Installing collected packages: pyspark\n",
            "Successfully installed pyspark-3.4.1\n",
            "The following additional packages will be installed:\n",
            "  libxtst6 openjdk-8-jre-headless\n",
            "Suggested packages:\n",
            "  openjdk-8-demo openjdk-8-source libnss-mdns fonts-dejavu-extra\n",
            "  fonts-ipafont-gothic fonts-ipafont-mincho fonts-wqy-microhei\n",
            "  fonts-wqy-zenhei fonts-indic\n",
            "The following NEW packages will be installed:\n",
            "  libxtst6 openjdk-8-jdk-headless openjdk-8-jre-headless\n",
            "0 upgraded, 3 newly installed, 0 to remove and 8 not upgraded.\n",
            "Need to get 39.7 MB of archives.\n",
            "After this operation, 144 MB of additional disk space will be used.\n",
            "Selecting previously unselected package libxtst6:amd64.\n",
            "(Reading database ... 129824 files and directories currently installed.)\n",
            "Preparing to unpack .../libxtst6_2%3a1.2.3-1build4_amd64.deb ...\n",
            "Unpacking libxtst6:amd64 (2:1.2.3-1build4) ...\n",
            "Selecting previously unselected package openjdk-8-jre-headless:amd64.\n",
            "Preparing to unpack .../openjdk-8-jre-headless_8u372-ga~us1-0ubuntu1~22.04_amd64.deb ...\n",
            "Unpacking openjdk-8-jre-headless:amd64 (8u372-ga~us1-0ubuntu1~22.04) ...\n",
            "Selecting previously unselected package openjdk-8-jdk-headless:amd64.\n",
            "Preparing to unpack .../openjdk-8-jdk-headless_8u372-ga~us1-0ubuntu1~22.04_amd64.deb ...\n",
            "Unpacking openjdk-8-jdk-headless:amd64 (8u372-ga~us1-0ubuntu1~22.04) ...\n",
            "Setting up libxtst6:amd64 (2:1.2.3-1build4) ...\n",
            "Setting up openjdk-8-jre-headless:amd64 (8u372-ga~us1-0ubuntu1~22.04) ...\n",
            "update-alternatives: using /usr/lib/jvm/java-8-openjdk-amd64/jre/bin/orbd to provide /usr/bin/orbd (orbd) in auto mode\n",
            "update-alternatives: using /usr/lib/jvm/java-8-openjdk-amd64/jre/bin/servertool to provide /usr/bin/servertool (servertool) in auto mode\n",
            "update-alternatives: using /usr/lib/jvm/java-8-openjdk-amd64/jre/bin/tnameserv to provide /usr/bin/tnameserv (tnameserv) in auto mode\n",
            "Setting up openjdk-8-jdk-headless:amd64 (8u372-ga~us1-0ubuntu1~22.04) ...\n",
            "update-alternatives: using /usr/lib/jvm/java-8-openjdk-amd64/bin/clhsdb to provide /usr/bin/clhsdb (clhsdb) in auto mode\n",
            "update-alternatives: using /usr/lib/jvm/java-8-openjdk-amd64/bin/extcheck to provide /usr/bin/extcheck (extcheck) in auto mode\n",
            "update-alternatives: using /usr/lib/jvm/java-8-openjdk-amd64/bin/hsdb to provide /usr/bin/hsdb (hsdb) in auto mode\n",
            "update-alternatives: using /usr/lib/jvm/java-8-openjdk-amd64/bin/idlj to provide /usr/bin/idlj (idlj) in auto mode\n",
            "update-alternatives: using /usr/lib/jvm/java-8-openjdk-amd64/bin/javah to provide /usr/bin/javah (javah) in auto mode\n",
            "update-alternatives: using /usr/lib/jvm/java-8-openjdk-amd64/bin/jhat to provide /usr/bin/jhat (jhat) in auto mode\n",
            "update-alternatives: using /usr/lib/jvm/java-8-openjdk-amd64/bin/jsadebugd to provide /usr/bin/jsadebugd (jsadebugd) in auto mode\n",
            "update-alternatives: using /usr/lib/jvm/java-8-openjdk-amd64/bin/native2ascii to provide /usr/bin/native2ascii (native2ascii) in auto mode\n",
            "update-alternatives: using /usr/lib/jvm/java-8-openjdk-amd64/bin/schemagen to provide /usr/bin/schemagen (schemagen) in auto mode\n",
            "update-alternatives: using /usr/lib/jvm/java-8-openjdk-amd64/bin/wsgen to provide /usr/bin/wsgen (wsgen) in auto mode\n",
            "update-alternatives: using /usr/lib/jvm/java-8-openjdk-amd64/bin/wsimport to provide /usr/bin/wsimport (wsimport) in auto mode\n",
            "update-alternatives: using /usr/lib/jvm/java-8-openjdk-amd64/bin/xjc to provide /usr/bin/xjc (xjc) in auto mode\n",
            "Processing triggers for libc-bin (2.35-0ubuntu3.1) ...\n"
          ]
        }
      ],
      "source": [
        "!pip install pyspark\n",
        "# Alternatively, if you want to install a specific version of pyspark:\n",
        "#!pip install pyspark==3.2.1\n",
        "!pip install -U -q PyDrive # To use files that are stored in Google Drive directly (e.g., without downloading them from an external URL)\n",
        "!apt install openjdk-8-jdk-headless -qq\n",
        "import os\n",
        "os.environ[\"JAVA_HOME\"] = JAVA_HOME\n",
        "\n",
        "import pyspark\n",
        "from pyspark.sql import *\n",
        "from pyspark.sql.types import *\n",
        "from pyspark.sql.functions import *\n",
        "from pyspark import SparkContext, SparkConf\n",
        "\n",
        "from pyspark.sql import functions as F"
      ]
    },
    {
      "cell_type": "markdown",
      "metadata": {
        "id": "PYvwgAvGSvrB"
      },
      "source": [
        "##  Create Spark context"
      ]
    },
    {
      "cell_type": "code",
      "execution_count": 4,
      "metadata": {
        "id": "Fhi5bmOeSvrB"
      },
      "outputs": [],
      "source": [
        "# Create the session\n",
        "conf = SparkConf().\\\n",
        "                set('spark.ui.port', \"4050\").\\\n",
        "                set('spark.executor.memory', '4G').\\\n",
        "                set('spark.driver.memory', '45G').\\\n",
        "                set('spark.driver.maxResultSize', '10G').\\\n",
        "                set(\"spark.kryoserializer.buffer.max\", \"1G\").\\\n",
        "                setAppName(\"BitcoinPriceForecasting\").\\\n",
        "                setMaster(\"local[*]\")\n",
        "\n",
        "# Create the context\n",
        "sc = pyspark.SparkContext(conf=conf)\n",
        "spark = SparkSession.builder.getOrCreate()"
      ]
    },
    {
      "cell_type": "markdown",
      "metadata": {
        "id": "vo9prfkJSvrB"
      },
      "source": [
        "##  Link Colab to our Google Drive"
      ]
    },
    {
      "cell_type": "code",
      "execution_count": 5,
      "metadata": {
        "id": "au2-MqC-SvrB",
        "colab": {
          "base_uri": "https://localhost:8080/"
        },
        "outputId": "912c60f1-d5ba-4635-e4c0-3d5d8b065731"
      },
      "outputs": [
        {
          "output_type": "stream",
          "name": "stdout",
          "text": [
            "Mounted at /content/drive\n"
          ]
        }
      ],
      "source": [
        "# Point Colaboratory to our Google Drive\n",
        "\n",
        "from google.colab import drive\n",
        "\n",
        "drive.mount(GDRIVE_DIR, force_remount=True)"
      ]
    },
    {
      "cell_type": "markdown",
      "metadata": {
        "id": "xMCpzz2fe9Vi"
      },
      "source": [
        "# Random Forest\n",
        "https://spark.apache.org/docs/latest/api/python/reference/api/pyspark.mllib.tree.RandomForest.html"
      ]
    },
    {
      "cell_type": "code",
      "source": [
        "# load dataset into pyspark dataframe objects\n",
        "train_df = spark.read.load(GDRIVE_DATASET_TRAIN,\n",
        "                         format=\"parquet\",\n",
        "                         sep=\",\",\n",
        "                         inferSchema=\"true\",\n",
        "                         header=\"true\"\n",
        "                    )\n",
        "\n",
        "test_df = spark.read.load(GDRIVE_DATASET_TEST,\n",
        "                         format=\"parquet\",\n",
        "                         sep=\",\",\n",
        "                         inferSchema=\"true\",\n",
        "                         header=\"true\"\n",
        "                    )"
      ],
      "metadata": {
        "id": "yiF49OXz4-i7"
      },
      "execution_count": 6,
      "outputs": []
    },
    {
      "cell_type": "markdown",
      "source": [
        "## Prediction ❗"
      ],
      "metadata": {
        "id": "YxnTVkVkwxSK"
      }
    },
    {
      "cell_type": "code",
      "source": [
        "def random_forest(train, test):\n",
        "  from pyspark.ml.regression import RandomForestRegressor\n",
        "  from pyspark.ml.feature import StringIndexer, VectorAssembler\n",
        "\n",
        "  # Crea un oggetto RandomForestRegressor: Puoi impostare i parametri desiderati per il modello Random Forest come numero di alberi (numTrees), profondità massima degli alberi (maxDepth), numero massimo di bin per il partizionamento delle features (maxBins), ecc.\n",
        "  rf = RandomForestRegressor(\n",
        "      featuresCol=\"features\",  # Colonna vettoriale delle features\n",
        "      labelCol=\"market-price\",  # Colonna delle etichette di output\n",
        "  )\n",
        "\n",
        "  # Addestra il modello: Utilizza il metodo fit() per addestrare il modello sulla tua dataset di addestramento.\n",
        "  model = rf.fit(train)\n",
        "\n",
        "  # Effettua le previsioni: Utilizza il modello addestrato per fare previsioni sul tuo dataset di test o su nuovi dati.\n",
        "  predictions = model.transform(test)\n",
        "\n",
        "  return predictions, model"
      ],
      "metadata": {
        "id": "S9_owIn8rEw3"
      },
      "execution_count": 7,
      "outputs": []
    },
    {
      "cell_type": "code",
      "source": [
        "predictions, model = random_forest(train_df, test_df)"
      ],
      "metadata": {
        "id": "LLIcmyCDoYtk"
      },
      "execution_count": 8,
      "outputs": []
    },
    {
      "cell_type": "code",
      "source": [
        "print(\"The shape of the train dataset is {:d} rows by {:d} columns\".format(predictions.count(), len(predictions.columns)))\n",
        "predictions.show(3)\n",
        "predictions.printSchema()"
      ],
      "metadata": {
        "colab": {
          "base_uri": "https://localhost:8080/"
        },
        "id": "SmV4oTWaGyxS",
        "outputId": "2e662f27-7465-4b2f-8527-b7b8bbe756be"
      },
      "execution_count": 54,
      "outputs": [
        {
          "output_type": "stream",
          "name": "stdout",
          "text": [
            "The shape of the train dataset is 1156608 rows by 5 columns\n",
            "+-------------------+-------+--------------------+------------------+------------------+\n",
            "|          timestamp|  index|            features|      market-price|        prediction|\n",
            "+-------------------+-------+--------------------+------------------+------------------+\n",
            "|2020-10-17 19:13:00|4626433|[2.11353216020423...|11358.749041666666|10876.359951959008|\n",
            "|2020-10-17 19:14:00|4626434|[2.11354936360846...|11358.776083333334|10876.359951959008|\n",
            "|2020-10-17 19:15:00|4626435|[2.11356656701269...|      11358.803125|10876.359951959008|\n",
            "+-------------------+-------+--------------------+------------------+------------------+\n",
            "only showing top 3 rows\n",
            "\n",
            "root\n",
            " |-- timestamp: timestamp_ntz (nullable = true)\n",
            " |-- index: integer (nullable = true)\n",
            " |-- features: vector (nullable = true)\n",
            " |-- market-price: double (nullable = true)\n",
            " |-- prediction: double (nullable = false)\n",
            "\n"
          ]
        }
      ]
    },
    {
      "cell_type": "code",
      "source": [
        "def output(dataset, type):\n",
        "  from pyspark.sql.functions import date_format, to_timestamp, col\n",
        "\n",
        "  dataset.write.parquet(GDRIVE_DATASET_TEMP_DIR, mode='overwrite')\n",
        "\n",
        "  import os\n",
        "  import glob\n",
        "  import time\n",
        "\n",
        "  while True:\n",
        "      parquet_files = glob.glob(os.path.join(GDRIVE_DATASET_TEMP_DIR, \"part*.parquet\"))\n",
        "      if len(parquet_files) > 0:\n",
        "          # .parquet file found!\n",
        "          file_path = parquet_files[0]\n",
        "          break\n",
        "      else:\n",
        "          print(\".parquet file not found. I'll try again after 1 second...\")\n",
        "          time.sleep(1)\n",
        "\n",
        "  print(\".parquet file found:\", file_path)\n",
        "\n",
        "  new_file_path = GDRIVE_DATASET_OUTPUT_DIR + \"/\" + GDRIVE_DATASET_NAME + \"_\" + type + \".parquet\"\n",
        "\n",
        "  import shutil\n",
        "\n",
        "  # rename and move the file\n",
        "  shutil.move(file_path, new_file_path)\n",
        "\n",
        "  print(\"File renamed and moved successfully!\")"
      ],
      "metadata": {
        "id": "SeRdhAVt1EwP"
      },
      "execution_count": 33,
      "outputs": []
    },
    {
      "cell_type": "code",
      "source": [
        "output(predictions, \"all_predictions\")"
      ],
      "metadata": {
        "colab": {
          "base_uri": "https://localhost:8080/"
        },
        "id": "Kyli4fUF1Hth",
        "outputId": "fad9a845-d08f-4c0f-eb40-85dc319784e3"
      },
      "execution_count": 34,
      "outputs": [
        {
          "output_type": "stream",
          "name": "stdout",
          "text": [
            ".parquet file found: /content/drive/MyDrive/BDC/project/datasets/temp/part-00000-1a0111a9-cc95-4d41-ac32-8c186525ce84-c000.snappy.parquet\n",
            "File renamed and moved successfully!\n"
          ]
        }
      ]
    },
    {
      "cell_type": "code",
      "source": [
        "# renaming 'predictions' into 'market-price'\n",
        "predictions_new = predictions.drop('market-price') \\\n",
        "                  .withColumnRenamed(\"prediction\", \"market-price\")\n",
        "predictions_new.show(3)"
      ],
      "metadata": {
        "colab": {
          "base_uri": "https://localhost:8080/"
        },
        "id": "E-q7u2899GV9",
        "outputId": "afdab1a5-438d-4da2-e901-7e65a6f43365"
      },
      "execution_count": 55,
      "outputs": [
        {
          "output_type": "stream",
          "name": "stdout",
          "text": [
            "+-------------------+-------+--------------------+------------------+\n",
            "|          timestamp|  index|            features|      market-price|\n",
            "+-------------------+-------+--------------------+------------------+\n",
            "|2020-10-17 19:13:00|4626433|[2.11353216020423...|10876.359951959008|\n",
            "|2020-10-17 19:14:00|4626434|[2.11354936360846...|10876.359951959008|\n",
            "|2020-10-17 19:15:00|4626435|[2.11356656701269...|10876.359951959008|\n",
            "+-------------------+-------+--------------------+------------------+\n",
            "only showing top 3 rows\n",
            "\n"
          ]
        }
      ]
    },
    {
      "cell_type": "code",
      "source": [
        "def compute_avg_df(dataset):\n",
        "  dataset = dataset.withColumn(\"timestamp\", dataset[\"timestamp\"].cast(\"timestamp\"))\n",
        "\n",
        "  dataset = dataset.withColumn(\"day\", to_date(\"timestamp\", \"yyyy-MM-dd\"))\n",
        "\n",
        "  dataset = dataset.groupBy(\"day\").agg(\n",
        "      {\"market-price\": \"avg\"}\n",
        "  )\n",
        "\n",
        "  return dataset"
      ],
      "metadata": {
        "id": "f35dCJlFFXTw"
      },
      "execution_count": 68,
      "outputs": []
    },
    {
      "cell_type": "code",
      "source": [
        "avg_train_df = compute_avg_df(train_df)\n",
        "avg_test_df = compute_avg_df(test_df)\n",
        "avg_pred_df = compute_avg_df(predictions)\n",
        "avg_pred_df.show(3)"
      ],
      "metadata": {
        "id": "7_XnPkoaDHx3",
        "colab": {
          "base_uri": "https://localhost:8080/"
        },
        "outputId": "670a9215-5bdd-42a3-8ed6-ecd7958de08a"
      },
      "execution_count": 69,
      "outputs": [
        {
          "output_type": "stream",
          "name": "stdout",
          "text": [
            "+----------+------------------+\n",
            "|       day| avg(market-price)|\n",
            "+----------+------------------+\n",
            "|2021-01-27| 31481.22202430554|\n",
            "|2021-06-22|32066.805750000007|\n",
            "|2021-08-27| 48009.10289583333|\n",
            "+----------+------------------+\n",
            "only showing top 3 rows\n",
            "\n"
          ]
        }
      ]
    },
    {
      "cell_type": "code",
      "source": [
        "def show_results(train, test, pred):\n",
        "  trace1 = go.Scatter(\n",
        "      x = train['day'],\n",
        "      y = train[' avg(market-price)'].astype(float),\n",
        "      mode = 'lines',\n",
        "      name = 'Train'\n",
        "  )\n",
        "\n",
        "  trace2 = go.Scatter(\n",
        "      x = test['day'],\n",
        "      y = test[' avg(market-price)'].astype(float),\n",
        "      mode = 'lines',\n",
        "      name = 'Test'\n",
        "  )\n",
        "\n",
        "  trace3 = go.Scatter(\n",
        "      x = pred['day'],\n",
        "      y = pred[' avg(market-price)'].astype(float),\n",
        "      mode = 'lines',\n",
        "      name = 'Prediction'\n",
        "  )\n",
        "\n",
        "  layout = dict(\n",
        "      title='Train and Test set with the Slider ',\n",
        "      xaxis=dict(\n",
        "          rangeselector=dict(\n",
        "              buttons=list([\n",
        "                  #change the count to desired amount of months.\n",
        "                  dict(count=1,\n",
        "                      label='1m',\n",
        "                      step='month',\n",
        "                      stepmode='backward'),\n",
        "                  dict(count=6,\n",
        "                      label='6m',\n",
        "                      step='month',\n",
        "                      stepmode='backward'),\n",
        "                  dict(count=12,\n",
        "                      label='1y',\n",
        "                      step='month',\n",
        "                      stepmode='backward'),\n",
        "                  dict(count=36,\n",
        "                      label='3y',\n",
        "                      step='month',\n",
        "                      stepmode='backward'),\n",
        "                  dict(step='all')\n",
        "              ])\n",
        "          ),\n",
        "          rangeslider=dict(\n",
        "              visible = True\n",
        "          ),\n",
        "          type='date'\n",
        "      )\n",
        "  )\n",
        "\n",
        "  data = [trace1, trace2, trace3]\n",
        "  fig = dict(data=data, layout=layout)\n",
        "  iplot(fig, filename = \"Train and Test set  with Rangeslider\")"
      ],
      "metadata": {
        "id": "vxycP9puFjTb"
      },
      "execution_count": 70,
      "outputs": []
    },
    {
      "cell_type": "code",
      "source": [
        "show_results(avg_train_df.toPandas(), avg_test_df.toPandas(), avg_pred_df.toPandas())"
      ],
      "metadata": {
        "colab": {
          "base_uri": "https://localhost:8080/",
          "height": 502
        },
        "id": "pl9FRfnIFk5D",
        "outputId": "f7b2c46a-07c2-4550-c349-8d4fddc65b85"
      },
      "execution_count": 71,
      "outputs": [
        {
          "output_type": "error",
          "ename": "KeyError",
          "evalue": "ignored",
          "traceback": [
            "\u001b[0;31m---------------------------------------------------------------------------\u001b[0m",
            "\u001b[0;31mKeyError\u001b[0m                                  Traceback (most recent call last)",
            "\u001b[0;32m/usr/local/lib/python3.10/dist-packages/pandas/core/indexes/base.py\u001b[0m in \u001b[0;36mget_loc\u001b[0;34m(self, key, method, tolerance)\u001b[0m\n\u001b[1;32m   3801\u001b[0m             \u001b[0;32mtry\u001b[0m\u001b[0;34m:\u001b[0m\u001b[0;34m\u001b[0m\u001b[0;34m\u001b[0m\u001b[0m\n\u001b[0;32m-> 3802\u001b[0;31m                 \u001b[0;32mreturn\u001b[0m \u001b[0mself\u001b[0m\u001b[0;34m.\u001b[0m\u001b[0m_engine\u001b[0m\u001b[0;34m.\u001b[0m\u001b[0mget_loc\u001b[0m\u001b[0;34m(\u001b[0m\u001b[0mcasted_key\u001b[0m\u001b[0;34m)\u001b[0m\u001b[0;34m\u001b[0m\u001b[0;34m\u001b[0m\u001b[0m\n\u001b[0m\u001b[1;32m   3803\u001b[0m             \u001b[0;32mexcept\u001b[0m \u001b[0mKeyError\u001b[0m \u001b[0;32mas\u001b[0m \u001b[0merr\u001b[0m\u001b[0;34m:\u001b[0m\u001b[0;34m\u001b[0m\u001b[0;34m\u001b[0m\u001b[0m\n",
            "\u001b[0;32m/usr/local/lib/python3.10/dist-packages/pandas/_libs/index.pyx\u001b[0m in \u001b[0;36mpandas._libs.index.IndexEngine.get_loc\u001b[0;34m()\u001b[0m\n",
            "\u001b[0;32m/usr/local/lib/python3.10/dist-packages/pandas/_libs/index.pyx\u001b[0m in \u001b[0;36mpandas._libs.index.IndexEngine.get_loc\u001b[0;34m()\u001b[0m\n",
            "\u001b[0;32mpandas/_libs/hashtable_class_helper.pxi\u001b[0m in \u001b[0;36mpandas._libs.hashtable.PyObjectHashTable.get_item\u001b[0;34m()\u001b[0m\n",
            "\u001b[0;32mpandas/_libs/hashtable_class_helper.pxi\u001b[0m in \u001b[0;36mpandas._libs.hashtable.PyObjectHashTable.get_item\u001b[0;34m()\u001b[0m\n",
            "\u001b[0;31mKeyError\u001b[0m: ' avg(market-price)'",
            "\nThe above exception was the direct cause of the following exception:\n",
            "\u001b[0;31mKeyError\u001b[0m                                  Traceback (most recent call last)",
            "\u001b[0;32m<ipython-input-71-39590dfa190f>\u001b[0m in \u001b[0;36m<cell line: 1>\u001b[0;34m()\u001b[0m\n\u001b[0;32m----> 1\u001b[0;31m \u001b[0mshow_results\u001b[0m\u001b[0;34m(\u001b[0m\u001b[0mavg_train_df\u001b[0m\u001b[0;34m.\u001b[0m\u001b[0mtoPandas\u001b[0m\u001b[0;34m(\u001b[0m\u001b[0;34m)\u001b[0m\u001b[0;34m,\u001b[0m \u001b[0mavg_test_df\u001b[0m\u001b[0;34m.\u001b[0m\u001b[0mtoPandas\u001b[0m\u001b[0;34m(\u001b[0m\u001b[0;34m)\u001b[0m\u001b[0;34m,\u001b[0m \u001b[0mavg_pred_df\u001b[0m\u001b[0;34m.\u001b[0m\u001b[0mtoPandas\u001b[0m\u001b[0;34m(\u001b[0m\u001b[0;34m)\u001b[0m\u001b[0;34m)\u001b[0m\u001b[0;34m\u001b[0m\u001b[0;34m\u001b[0m\u001b[0m\n\u001b[0m",
            "\u001b[0;32m<ipython-input-70-9d945dff392a>\u001b[0m in \u001b[0;36mshow_results\u001b[0;34m(train, test, pred)\u001b[0m\n\u001b[1;32m      2\u001b[0m   trace1 = go.Scatter(\n\u001b[1;32m      3\u001b[0m       \u001b[0mx\u001b[0m \u001b[0;34m=\u001b[0m \u001b[0mtrain\u001b[0m\u001b[0;34m[\u001b[0m\u001b[0;34m'day'\u001b[0m\u001b[0;34m]\u001b[0m\u001b[0;34m,\u001b[0m\u001b[0;34m\u001b[0m\u001b[0;34m\u001b[0m\u001b[0m\n\u001b[0;32m----> 4\u001b[0;31m       \u001b[0my\u001b[0m \u001b[0;34m=\u001b[0m \u001b[0mtrain\u001b[0m\u001b[0;34m[\u001b[0m\u001b[0;34m' avg(market-price)'\u001b[0m\u001b[0;34m]\u001b[0m\u001b[0;34m.\u001b[0m\u001b[0mastype\u001b[0m\u001b[0;34m(\u001b[0m\u001b[0mfloat\u001b[0m\u001b[0;34m)\u001b[0m\u001b[0;34m,\u001b[0m\u001b[0;34m\u001b[0m\u001b[0;34m\u001b[0m\u001b[0m\n\u001b[0m\u001b[1;32m      5\u001b[0m       \u001b[0mmode\u001b[0m \u001b[0;34m=\u001b[0m \u001b[0;34m'lines'\u001b[0m\u001b[0;34m,\u001b[0m\u001b[0;34m\u001b[0m\u001b[0;34m\u001b[0m\u001b[0m\n\u001b[1;32m      6\u001b[0m       \u001b[0mname\u001b[0m \u001b[0;34m=\u001b[0m \u001b[0;34m'Train'\u001b[0m\u001b[0;34m\u001b[0m\u001b[0;34m\u001b[0m\u001b[0m\n",
            "\u001b[0;32m/usr/local/lib/python3.10/dist-packages/pandas/core/frame.py\u001b[0m in \u001b[0;36m__getitem__\u001b[0;34m(self, key)\u001b[0m\n\u001b[1;32m   3805\u001b[0m             \u001b[0;32mif\u001b[0m \u001b[0mself\u001b[0m\u001b[0;34m.\u001b[0m\u001b[0mcolumns\u001b[0m\u001b[0;34m.\u001b[0m\u001b[0mnlevels\u001b[0m \u001b[0;34m>\u001b[0m \u001b[0;36m1\u001b[0m\u001b[0;34m:\u001b[0m\u001b[0;34m\u001b[0m\u001b[0;34m\u001b[0m\u001b[0m\n\u001b[1;32m   3806\u001b[0m                 \u001b[0;32mreturn\u001b[0m \u001b[0mself\u001b[0m\u001b[0;34m.\u001b[0m\u001b[0m_getitem_multilevel\u001b[0m\u001b[0;34m(\u001b[0m\u001b[0mkey\u001b[0m\u001b[0;34m)\u001b[0m\u001b[0;34m\u001b[0m\u001b[0;34m\u001b[0m\u001b[0m\n\u001b[0;32m-> 3807\u001b[0;31m             \u001b[0mindexer\u001b[0m \u001b[0;34m=\u001b[0m \u001b[0mself\u001b[0m\u001b[0;34m.\u001b[0m\u001b[0mcolumns\u001b[0m\u001b[0;34m.\u001b[0m\u001b[0mget_loc\u001b[0m\u001b[0;34m(\u001b[0m\u001b[0mkey\u001b[0m\u001b[0;34m)\u001b[0m\u001b[0;34m\u001b[0m\u001b[0;34m\u001b[0m\u001b[0m\n\u001b[0m\u001b[1;32m   3808\u001b[0m             \u001b[0;32mif\u001b[0m \u001b[0mis_integer\u001b[0m\u001b[0;34m(\u001b[0m\u001b[0mindexer\u001b[0m\u001b[0;34m)\u001b[0m\u001b[0;34m:\u001b[0m\u001b[0;34m\u001b[0m\u001b[0;34m\u001b[0m\u001b[0m\n\u001b[1;32m   3809\u001b[0m                 \u001b[0mindexer\u001b[0m \u001b[0;34m=\u001b[0m \u001b[0;34m[\u001b[0m\u001b[0mindexer\u001b[0m\u001b[0;34m]\u001b[0m\u001b[0;34m\u001b[0m\u001b[0;34m\u001b[0m\u001b[0m\n",
            "\u001b[0;32m/usr/local/lib/python3.10/dist-packages/pandas/core/indexes/base.py\u001b[0m in \u001b[0;36mget_loc\u001b[0;34m(self, key, method, tolerance)\u001b[0m\n\u001b[1;32m   3802\u001b[0m                 \u001b[0;32mreturn\u001b[0m \u001b[0mself\u001b[0m\u001b[0;34m.\u001b[0m\u001b[0m_engine\u001b[0m\u001b[0;34m.\u001b[0m\u001b[0mget_loc\u001b[0m\u001b[0;34m(\u001b[0m\u001b[0mcasted_key\u001b[0m\u001b[0;34m)\u001b[0m\u001b[0;34m\u001b[0m\u001b[0;34m\u001b[0m\u001b[0m\n\u001b[1;32m   3803\u001b[0m             \u001b[0;32mexcept\u001b[0m \u001b[0mKeyError\u001b[0m \u001b[0;32mas\u001b[0m \u001b[0merr\u001b[0m\u001b[0;34m:\u001b[0m\u001b[0;34m\u001b[0m\u001b[0;34m\u001b[0m\u001b[0m\n\u001b[0;32m-> 3804\u001b[0;31m                 \u001b[0;32mraise\u001b[0m \u001b[0mKeyError\u001b[0m\u001b[0;34m(\u001b[0m\u001b[0mkey\u001b[0m\u001b[0;34m)\u001b[0m \u001b[0;32mfrom\u001b[0m \u001b[0merr\u001b[0m\u001b[0;34m\u001b[0m\u001b[0;34m\u001b[0m\u001b[0m\n\u001b[0m\u001b[1;32m   3805\u001b[0m             \u001b[0;32mexcept\u001b[0m \u001b[0mTypeError\u001b[0m\u001b[0;34m:\u001b[0m\u001b[0;34m\u001b[0m\u001b[0;34m\u001b[0m\u001b[0m\n\u001b[1;32m   3806\u001b[0m                 \u001b[0;31m# If we have a listlike key, _check_indexing_error will raise\u001b[0m\u001b[0;34m\u001b[0m\u001b[0;34m\u001b[0m\u001b[0m\n",
            "\u001b[0;31mKeyError\u001b[0m: ' avg(market-price)'"
          ]
        }
      ]
    },
    {
      "cell_type": "markdown",
      "source": [
        "## Evaluation ❗"
      ],
      "metadata": {
        "id": "Vpvbfulhwndf"
      }
    },
    {
      "cell_type": "code",
      "source": [
        "def evaluation(pred):\n",
        "  from pyspark.ml.evaluation import RegressionEvaluator\n",
        "\n",
        "  evaluator = RegressionEvaluator(\n",
        "      predictionCol=\"prediction\",  # Colonna delle previsioni\n",
        "      labelCol=\"market-price\",  # Colonna delle etichette di output\n",
        "  )\n",
        "\n",
        "  mse = evaluator.evaluate(pred, {evaluator.metricName: \"mse\"})\n",
        "  rmse = evaluator.evaluate(pred, {evaluator.metricName: \"rmse\"})\n",
        "  r2 = evaluator.evaluate(pred, {evaluator.metricName: \"r2\"})\n",
        "  mae = evaluator.evaluate(pred, {evaluator.metricName: \"mae\"})\n",
        "\n",
        "  from pyspark.sql.functions import abs, col\n",
        "  from pyspark.sql import functions as F\n",
        "  from pyspark.ml.evaluation import RegressionEvaluator\n",
        "\n",
        "  # Calcola il MAPE\n",
        "  mape = pred.withColumn(\"error\", abs(col(\"market-price\") - col(\"prediction\")) / col(\"market-price\")) \\\n",
        "          .selectExpr(\"avg(error) * 100 as mape\") \\\n",
        "          .collect()[0][\"mape\"]\n",
        "\n",
        "  # adj_r2\n",
        "  n = pred.count()  # Numero di osservazioni\n",
        "  p = 1  # Numero di predittori nel modello\n",
        "  adj_r2 = 1 - (1 - r2) * ((n - 1) / (n - p - 1))\n",
        "\n",
        "  print(\"MSE = %s\" % (mse)) # deve essere un valore non negativo, dove un valore di 0 indica una perfetta corrispondenza tra i valori predetti e quelli di riferimento\n",
        "  print(\"RMSE = %s\" % (rmse)) # dovresti considerare il valore di RMSE in relazione al range dei valori target nel tuo problema specifico\n",
        "  print(\"R2 = %s\" % (r2)) # piú é vicino ad 1 meglio é\n",
        "  print(\"MAE = %s\" % (mae)) # può essere utile confrontare il valore di MAE con quello di altri modelli o con il range dei valori target per valutare la sua precisione\n",
        "  print(\"MAPE = %s\" % (mape)) # di solito viene utilizzato come misura relativa per confrontare la precisione di modelli diversi\n",
        "  print(\"ADJ R2 = %s\" % (adj_r2)) # piú é vicino ad 1 meglio é"
      ],
      "metadata": {
        "id": "7pL9uDhPvmz9"
      },
      "execution_count": 17,
      "outputs": []
    },
    {
      "cell_type": "code",
      "source": [
        "evaluation(predictions)"
      ],
      "metadata": {
        "colab": {
          "base_uri": "https://localhost:8080/"
        },
        "id": "BSsgF_D0tgB9",
        "outputId": "13d242f9-8474-47f4-b57b-d25685e10aa4"
      },
      "execution_count": 18,
      "outputs": [
        {
          "output_type": "stream",
          "name": "stdout",
          "text": [
            "MSE = 768656591.017918\n",
            "RMSE = 27724.656733996148\n",
            "R2 = -2.6953923761047243\n",
            "MAE = 24164.90514667972\n",
            "MAPE = 61.3985200155669\n",
            "ADJ R2 = -2.6953955711360282\n"
          ]
        }
      ]
    },
    {
      "cell_type": "code",
      "source": [
        "#Training Summaries for the 3 Models\n",
        "trainingSummary_reg = lr_model_reg.summary\n",
        "trainingSummary_rel = lr_model_rel.summary\n",
        "trainingSummary_sel = lr_model_sel.summary\n",
        "\n",
        "#Performance Metrics for model with all-features\n",
        "print(\"RMSE w/ All Features: %f\" % trainingSummary_reg.rootMeanSquaredError)\n",
        "print(\"r2(All Features): %f\" % trainingSummary_reg.r2)\n",
        "print('')\n",
        "\n",
        "#Performance Metrics for model with relevant features\n",
        "print(\"RMSE w/ Relevant Features: %f\" % trainingSummary_rel.rootMeanSquaredError)\n",
        "print(\"r2 (Relevant Features): %f\" % trainingSummary_rel.r2)\n",
        "print('')\n",
        "\n",
        "#Performance Metrics for model with RFE-selected features\n",
        "print(\"RMSE w/ RFE Features: %f\" % trainingSummary_sel.rootMeanSquaredError)\n",
        "print(\"r2 (RFE Features): %f\" % trainingSummary_sel.r2)"
      ],
      "metadata": {
        "id": "BPHUHNHVAbzU"
      },
      "execution_count": null,
      "outputs": []
    },
    {
      "cell_type": "code",
      "source": [
        "\n",
        "#all features\n",
        "pred_reg_df = pd.DataFrame(btc_data_df.toPandas())\n",
        "pred_reg_df['timestamp'] = pd.to_datetime(pred_reg_df['timestamp'])\n",
        "pred_reg_df = pred_reg_df.set_index('timestamp')\n",
        "pred_reg_train_df = pred_reg_df[:valid_index]\n",
        "pred_reg_test_df = pred_reg_df[valid_index:]\n",
        "pred_reg_test_df = pred_reg_test_df.assign(Predictions = btc_preds_reg.toPandas()['prediction'].tolist())\n",
        "\n",
        "#relevant features\n",
        "pred_rel_df = pd.DataFrame(btc_data_df.toPandas()[[dep_var, 'timestamp'] + rel_columns ])\n",
        "pred_rel_df['timestamp'] = pd.to_datetime(pred_rel_df['timestamp'])\n",
        "pred_rel_df = pred_rel_df.set_index('timestamp')\n",
        "pred_rel_train_df = pred_rel_df[:valid_index]\n",
        "pred_rel_test_df = pred_rel_df[valid_index:]\n",
        "pred_rel_test_df = pred_rel_test_df.assign(Predictions = btc_preds_rel.toPandas()['prediction'].tolist())\n",
        "\n",
        "#RFE-selected features\n",
        "pred_sel_df = pd.DataFrame(btc_data_df.toPandas()[[dep_var, 'timestamp'] + selected_features_rfe])\n",
        "pred_sel_df['timestamp'] = pd.to_datetime(pred_sel_df['timestamp'])\n",
        "pred_sel_df = pred_sel_df.set_index('timestamp')\n",
        "pred_sel_train_df = pred_sel_df[:valid_index]\n",
        "pred_sel_test_df = pred_sel_df[valid_index:]\n",
        "pred_sel_test_df = pred_sel_test_df.assign(Predictions = btc_preds_sel.toPandas()['prediction'].tolist())\n",
        "\n"
      ],
      "metadata": {
        "id": "HfSqchWdAhEl"
      },
      "execution_count": null,
      "outputs": []
    },
    {
      "cell_type": "code",
      "source": [
        "fig, ax = plt.subplots(1, 3, figsize=(18, 3))\n",
        "\n",
        "ax[0].set_title('Forecast: All Features')\n",
        "ax[0].set_ylabel(dep_var)\n",
        "ax[0].set_xlabel('Year')\n",
        "ax[0].plot(pred_reg_train_df[dep_var])\n",
        "ax[0].plot(pred_reg_test_df[[dep_var, 'Predictions']])\n",
        "\n",
        "\n",
        "ax[1].set_title('Forecast: Relevant Features')\n",
        "ax[1].set_ylabel(dep_var)\n",
        "ax[1].set_xlabel('Year')\n",
        "ax[1].plot(pred_rel_train_df[dep_var])\n",
        "ax[1].plot(pred_rel_test_df[[dep_var, 'Predictions']])\n",
        "\n",
        "\n",
        "ax[2].set_title('Forecast: RFE Features')\n",
        "ax[2].set_ylabel(dep_var)\n",
        "ax[2].set_xlabel('Year')\n",
        "ax[2].plot(pred_sel_train_df[dep_var])\n",
        "ax[2].plot(pred_sel_test_df[[dep_var, 'Predictions']])\n"
      ],
      "metadata": {
        "id": "gyZYeGzvAiVx"
      },
      "execution_count": null,
      "outputs": []
    }
  ],
  "metadata": {
    "colab": {
      "provenance": [],
      "collapsed_sections": [
        "e452Ydj7chNV",
        "zK1eMlqXWioB"
      ],
      "toc_visible": true,
      "include_colab_link": true
    },
    "kernelspec": {
      "display_name": "Python 3.9.12 ('base')",
      "language": "python",
      "name": "python3"
    },
    "language_info": {
      "codemirror_mode": {
        "name": "ipython",
        "version": 3
      },
      "file_extension": ".py",
      "mimetype": "text/x-python",
      "name": "python",
      "nbconvert_exporter": "python",
      "pygments_lexer": "ipython3",
      "version": "3.9.13"
    },
    "vscode": {
      "interpreter": {
        "hash": "303fa613b6f3e1efefe7bb28036e305e1021fa6bdb083a5f9fd57f9d9bbad8eb"
      }
    }
  },
  "nbformat": 4,
  "nbformat_minor": 0
}