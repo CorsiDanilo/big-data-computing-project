{
  "cells": [
    {
      "cell_type": "markdown",
      "metadata": {
        "id": "view-in-github",
        "colab_type": "text"
      },
      "source": [
        "<a href=\"https://colab.research.google.com/github/CorsiDanilo/big-data-computing-project/blob/main/2_Model_preparation.ipynb\" target=\"_parent\"><img src=\"https://colab.research.google.com/assets/colab-badge.svg\" alt=\"Open In Colab\"/></a>"
      ]
    },
    {
      "cell_type": "markdown",
      "metadata": {
        "id": "e452Ydj7chNV"
      },
      "source": [
        "# Bitcoin price forecasting with PySpark\n",
        "## Big Data Computing final project - A.Y. 2022 - 2023\n",
        "Prof. Gabriele Tolomei\n",
        "\n",
        "MSc in Computer Science\n",
        "\n",
        "La Sapienza, University of Rome\n",
        "\n",
        "### Author\n",
        "Corsi Danilo - corsi.1742375@studenti.uniroma1.it\n",
        "\n"
      ]
    },
    {
      "cell_type": "markdown",
      "metadata": {
        "id": "AkQaY6VAf4v_"
      },
      "source": [
        "# Global Constants\n"
      ]
    },
    {
      "cell_type": "code",
      "execution_count": 1,
      "metadata": {
        "id": "L7-8QQvKf5CR"
      },
      "outputs": [],
      "source": [
        "JAVA_HOME = \"/usr/lib/jvm/java-8-openjdk-amd64\"\n",
        "GDRIVE_DIR = \"/content/drive\"\n",
        "\n",
        "GDRIVE_DATASET_RAW_DIR = GDRIVE_DIR + \"/MyDrive/BDC/project/datasets/raw\"\n",
        "GDRIVE_DATASET_TEMP_DIR = GDRIVE_DIR + \"/MyDrive/BDC/project/datasets/temp\"\n",
        "GDRIVE_DATASET_OUTPUT_DIR = GDRIVE_DIR + \"/MyDrive/BDC/project/datasets/output\"\n",
        "\n",
        "GDRIVE_DATASET_NAME = \"bitcoin_blockchain_data_1m\"\n",
        "# GDRIVE_DATASET_NAME_EXT = \"/\" + GDRIVE_DATASET_NAME + \".csv\"\n",
        "GDRIVE_DATASET_NAME_EXT = \"/\" + GDRIVE_DATASET_NAME + \".parquet\"\n",
        "\n",
        "GDRIVE_DATASET = GDRIVE_DATASET_RAW_DIR + GDRIVE_DATASET_NAME_EXT\n",
        "\n",
        "SLOW_OPERATION = False"
      ]
    },
    {
      "cell_type": "markdown",
      "metadata": {
        "id": "IXTGTgzEqE3x"
      },
      "source": [
        "#  Import useful Python packages"
      ]
    },
    {
      "cell_type": "code",
      "execution_count": 2,
      "metadata": {
        "id": "PX7xDYw4SvrB"
      },
      "outputs": [],
      "source": [
        "import requests\n",
        "import pandas as pd\n",
        "import numpy as np\n",
        "import matplotlib.pyplot as plt\n",
        "import seaborn as sns\n",
        "%matplotlib inline\n",
        "\n",
        "from itertools import cycle\n",
        "\n",
        "import plotly.express as px\n",
        "\n",
        "import plotly.graph_objs as go\n",
        "from plotly.offline import init_notebook_mode, iplot\n",
        "import gc"
      ]
    },
    {
      "cell_type": "markdown",
      "metadata": {
        "id": "YtmWjQUVSvq2"
      },
      "source": [
        "# **Spark + Google Colab Setup** ❗"
      ]
    },
    {
      "cell_type": "code",
      "execution_count": 3,
      "metadata": {
        "colab": {
          "base_uri": "https://localhost:8080/"
        },
        "id": "Si82CaUYSvrA",
        "outputId": "a6a0f08b-fb62-4c2a-dede-6b538b966594"
      },
      "outputs": [
        {
          "output_type": "stream",
          "name": "stdout",
          "text": [
            "Collecting pyspark\n",
            "  Downloading pyspark-3.4.1.tar.gz (310.8 MB)\n",
            "\u001b[2K     \u001b[90m━━━━━━━━━━━━━━━━━━━━━━━━━━━━━━━━━━━━━━━\u001b[0m \u001b[32m310.8/310.8 MB\u001b[0m \u001b[31m3.1 MB/s\u001b[0m eta \u001b[36m0:00:00\u001b[0m\n",
            "\u001b[?25h  Preparing metadata (setup.py) ... \u001b[?25l\u001b[?25hdone\n",
            "Requirement already satisfied: py4j==0.10.9.7 in /usr/local/lib/python3.10/dist-packages (from pyspark) (0.10.9.7)\n",
            "Building wheels for collected packages: pyspark\n",
            "  Building wheel for pyspark (setup.py) ... \u001b[?25l\u001b[?25hdone\n",
            "  Created wheel for pyspark: filename=pyspark-3.4.1-py2.py3-none-any.whl size=311285398 sha256=941ed6a3216745a1a25e8399b0084e04c22bbb00fd4cb56ce33d75a017de6400\n",
            "  Stored in directory: /root/.cache/pip/wheels/0d/77/a3/ff2f74cc9ab41f8f594dabf0579c2a7c6de920d584206e0834\n",
            "Successfully built pyspark\n",
            "Installing collected packages: pyspark\n",
            "Successfully installed pyspark-3.4.1\n",
            "The following additional packages will be installed:\n",
            "  libxtst6 openjdk-8-jre-headless\n",
            "Suggested packages:\n",
            "  openjdk-8-demo openjdk-8-source libnss-mdns fonts-dejavu-extra\n",
            "  fonts-ipafont-gothic fonts-ipafont-mincho fonts-wqy-microhei\n",
            "  fonts-wqy-zenhei fonts-indic\n",
            "The following NEW packages will be installed:\n",
            "  libxtst6 openjdk-8-jdk-headless openjdk-8-jre-headless\n",
            "0 upgraded, 3 newly installed, 0 to remove and 8 not upgraded.\n",
            "Need to get 39.7 MB of archives.\n",
            "After this operation, 144 MB of additional disk space will be used.\n",
            "Selecting previously unselected package libxtst6:amd64.\n",
            "(Reading database ... 129824 files and directories currently installed.)\n",
            "Preparing to unpack .../libxtst6_2%3a1.2.3-1build4_amd64.deb ...\n",
            "Unpacking libxtst6:amd64 (2:1.2.3-1build4) ...\n",
            "Selecting previously unselected package openjdk-8-jre-headless:amd64.\n",
            "Preparing to unpack .../openjdk-8-jre-headless_8u372-ga~us1-0ubuntu1~22.04_amd64.deb ...\n",
            "Unpacking openjdk-8-jre-headless:amd64 (8u372-ga~us1-0ubuntu1~22.04) ...\n",
            "Selecting previously unselected package openjdk-8-jdk-headless:amd64.\n",
            "Preparing to unpack .../openjdk-8-jdk-headless_8u372-ga~us1-0ubuntu1~22.04_amd64.deb ...\n",
            "Unpacking openjdk-8-jdk-headless:amd64 (8u372-ga~us1-0ubuntu1~22.04) ...\n",
            "Setting up libxtst6:amd64 (2:1.2.3-1build4) ...\n",
            "Setting up openjdk-8-jre-headless:amd64 (8u372-ga~us1-0ubuntu1~22.04) ...\n",
            "update-alternatives: using /usr/lib/jvm/java-8-openjdk-amd64/jre/bin/orbd to provide /usr/bin/orbd (orbd) in auto mode\n",
            "update-alternatives: using /usr/lib/jvm/java-8-openjdk-amd64/jre/bin/servertool to provide /usr/bin/servertool (servertool) in auto mode\n",
            "update-alternatives: using /usr/lib/jvm/java-8-openjdk-amd64/jre/bin/tnameserv to provide /usr/bin/tnameserv (tnameserv) in auto mode\n",
            "Setting up openjdk-8-jdk-headless:amd64 (8u372-ga~us1-0ubuntu1~22.04) ...\n",
            "update-alternatives: using /usr/lib/jvm/java-8-openjdk-amd64/bin/clhsdb to provide /usr/bin/clhsdb (clhsdb) in auto mode\n",
            "update-alternatives: using /usr/lib/jvm/java-8-openjdk-amd64/bin/extcheck to provide /usr/bin/extcheck (extcheck) in auto mode\n",
            "update-alternatives: using /usr/lib/jvm/java-8-openjdk-amd64/bin/hsdb to provide /usr/bin/hsdb (hsdb) in auto mode\n",
            "update-alternatives: using /usr/lib/jvm/java-8-openjdk-amd64/bin/idlj to provide /usr/bin/idlj (idlj) in auto mode\n",
            "update-alternatives: using /usr/lib/jvm/java-8-openjdk-amd64/bin/javah to provide /usr/bin/javah (javah) in auto mode\n",
            "update-alternatives: using /usr/lib/jvm/java-8-openjdk-amd64/bin/jhat to provide /usr/bin/jhat (jhat) in auto mode\n",
            "update-alternatives: using /usr/lib/jvm/java-8-openjdk-amd64/bin/jsadebugd to provide /usr/bin/jsadebugd (jsadebugd) in auto mode\n",
            "update-alternatives: using /usr/lib/jvm/java-8-openjdk-amd64/bin/native2ascii to provide /usr/bin/native2ascii (native2ascii) in auto mode\n",
            "update-alternatives: using /usr/lib/jvm/java-8-openjdk-amd64/bin/schemagen to provide /usr/bin/schemagen (schemagen) in auto mode\n",
            "update-alternatives: using /usr/lib/jvm/java-8-openjdk-amd64/bin/wsgen to provide /usr/bin/wsgen (wsgen) in auto mode\n",
            "update-alternatives: using /usr/lib/jvm/java-8-openjdk-amd64/bin/wsimport to provide /usr/bin/wsimport (wsimport) in auto mode\n",
            "update-alternatives: using /usr/lib/jvm/java-8-openjdk-amd64/bin/xjc to provide /usr/bin/xjc (xjc) in auto mode\n",
            "Processing triggers for libc-bin (2.35-0ubuntu3.1) ...\n"
          ]
        }
      ],
      "source": [
        "!pip install pyspark\n",
        "# Alternatively, if you want to install a specific version of pyspark:\n",
        "#!pip install pyspark==3.2.1\n",
        "!pip install -U -q PyDrive # To use files that are stored in Google Drive directly (e.g., without downloading them from an external URL)\n",
        "!apt install openjdk-8-jdk-headless -qq\n",
        "import os\n",
        "os.environ[\"JAVA_HOME\"] = JAVA_HOME\n",
        "\n",
        "import pyspark\n",
        "from pyspark.sql import *\n",
        "from pyspark.sql.types import *\n",
        "from pyspark.sql.functions import *\n",
        "from pyspark import SparkContext, SparkConf\n",
        "\n",
        "from pyspark.sql import functions as F"
      ]
    },
    {
      "cell_type": "code",
      "source": [
        "#TODO: da sistemare ❗\n",
        "#General System Utilities\n",
        "import sys\n",
        "from datetime import datetime\n",
        "import pickle\n",
        "\n",
        "#Data Processing Libraries\n",
        "import numpy as np\n",
        "import pandas as pd\n",
        "from pandas import concat\n",
        "import matplotlib.pyplot as plt\n",
        "from fastai.tabular import *\n",
        "import six\n",
        "\n",
        "#Pyspark/SQL libs\n",
        "from pyspark.sql.functions import col, udf\n",
        "from pyspark.sql.types import DateType, IntegerType, FloatType\n",
        "import seaborn as sns\n",
        "from pyspark.ml.feature import VectorAssembler\n",
        "from pyspark.ml.regression import LinearRegression\n",
        "\n",
        "#DS/DL Libs\n",
        "import sklearn\n",
        "from sklearn.linear_model import LinearRegression as sklearnLR\n",
        "from sklearn.feature_selection import RFE\n",
        "from sklearn.preprocessing import MinMaxScaler\n",
        "from keras.models import Sequential\n",
        "from keras.layers import Dense, Dropout, LSTM, GRU\n",
        "from keras import optimizers\n",
        "from sklearn.preprocessing import MinMaxScaler"
      ],
      "metadata": {
        "id": "yc9rF0qR3S2L"
      },
      "execution_count": 4,
      "outputs": []
    },
    {
      "cell_type": "code",
      "execution_count": 5,
      "metadata": {
        "id": "Fhi5bmOeSvrB"
      },
      "outputs": [],
      "source": [
        "# Create the session\n",
        "conf = SparkConf().\\\n",
        "                set('spark.ui.port', \"4050\").\\\n",
        "                set('spark.executor.memory', '4G').\\\n",
        "                set('spark.driver.memory', '45G').\\\n",
        "                set('spark.driver.maxResultSize', '10G').\\\n",
        "                set(\"spark.kryoserializer.buffer.max\", \"1G\").\\\n",
        "                setAppName(\"BitcoinPriceForecasting\").\\\n",
        "                setMaster(\"local[*]\")\n",
        "\n",
        "# Create the context\n",
        "sc = pyspark.SparkContext(conf=conf)\n",
        "spark = SparkSession.builder.getOrCreate()"
      ]
    },
    {
      "cell_type": "code",
      "execution_count": 6,
      "metadata": {
        "colab": {
          "base_uri": "https://localhost:8080/"
        },
        "id": "au2-MqC-SvrB",
        "outputId": "6c9d11d9-89bd-4776-d8db-0c8e90a324a3"
      },
      "outputs": [
        {
          "output_type": "stream",
          "name": "stdout",
          "text": [
            "Mounted at /content/drive\n"
          ]
        }
      ],
      "source": [
        "# Point Colaboratory to our Google Drive\n",
        "\n",
        "from google.colab import drive\n",
        "\n",
        "drive.mount(GDRIVE_DIR, force_remount=True)"
      ]
    },
    {
      "cell_type": "markdown",
      "source": [
        "# **Model preparation** ❗\n"
      ],
      "metadata": {
        "id": "Kx-BUiTt1HJ9"
      }
    },
    {
      "cell_type": "code",
      "source": [
        "# load dataset into pyspark dataframe objects\n",
        "# df = spark.read.load(GDRIVE_DATASET,\n",
        "#                          format=\"csv\",\n",
        "#                          sep=\",\",\n",
        "#                          inferSchema=\"true\",\n",
        "#                          header=\"true\"\n",
        "#                     )\n",
        "\n",
        "# load dataset into pyspark dataframe objects\n",
        "df = spark.read.load(GDRIVE_DATASET,\n",
        "                         format=\"parquet\",\n",
        "                         sep=\",\",\n",
        "                         inferSchema=\"true\",\n",
        "                         header=\"true\"\n",
        "                    )"
      ],
      "metadata": {
        "id": "B5y1hZlB4IBF"
      },
      "execution_count": 7,
      "outputs": []
    },
    {
      "cell_type": "markdown",
      "source": [
        "Linear Regression models typically take in a single vector input, so we’ll need to vectorize all of our features into a single column. Thankfully, pyspark offers the VectorAssembler class to do just that.\n",
        "\n",
        "To build and compare performance of our three feature set sizes — 34 (all features, our baseline), 7 (relevant features), and 7 (RFE-selected features) — we’ll start by assembling 3 independent VectorAssemblers, 1 for each feature list:"
      ],
      "metadata": {
        "id": "M2IKddKQ1U2s"
      }
    },
    {
      "cell_type": "code",
      "source": [
        "all_features = ['market-price', 'market-cap', 'total-bitcoins', 'trade-volume', 'blocks-size', 'avg-block-size', 'n-transactions-total', 'n-transactions-per-block', 'hash-rate', 'difficulty', 'miners-revenue', 'transaction-fees-usd', 'n-unique-addresses', 'n-transactions', 'estimated-transaction-volume-usd']\n",
        "rel_columns = ['market-cap', 'estimated-transaction-volume-usd', 'blocks-size', 'n-unique-addresses']\n",
        "selected_features_rfe = ['total-bitcoins', 'blocks-size', 'avg-block-size', 'n-transactions-per-block', 'miners-revenue', 'n-unique-addresses', 'n-transactions']\n",
        "dep_var = 'market-price'\n",
        "\n",
        "vectorAssembler = VectorAssembler(\n",
        "    inputCols = all_features,\n",
        "    outputCol = 'features')\n",
        "\n",
        "vectorAssembler2 = VectorAssembler(\n",
        "    inputCols = rel_columns,\n",
        "    outputCol = 'features')\n",
        "\n",
        "vectorAssembler3 = VectorAssembler(\n",
        "    inputCols = selected_features_rfe,\n",
        "    outputCol = 'features')\n"
      ],
      "metadata": {
        "id": "rN-eF-Z51XND"
      },
      "execution_count": 8,
      "outputs": []
    },
    {
      "cell_type": "code",
      "source": [
        "from pyspark.sql.window import Window\n",
        "window = Window.orderBy(\"timestamp\")\n",
        "\n",
        "#All columns featurized\n",
        "v_all_df = vectorAssembler.transform(df)\n",
        "v_all_df = v_all_df.withColumn(\"index\", row_number().over(window) - 1)\n",
        "v_all_df = v_all_df.select(['index', 'features', dep_var])\n",
        "\n",
        "#Relevant columns featurized\n",
        "v_rel_df = vectorAssembler2.transform(df)\n",
        "v_rel_df = v_rel_df.withColumn(\"index\", row_number().over(window) - 1)\n",
        "v_rel_df = v_rel_df.select(['index', 'features', dep_var])\n",
        "\n",
        "#RFE-selected columns featurized\n",
        "v_sel_df = vectorAssembler3.transform(df)\n",
        "v_sel_df = v_sel_df.withColumn(\"index\", row_number().over(window) - 1)\n",
        "v_sel_df = v_sel_df.select(['index', 'features', dep_var])\n",
        "\n",
        "if SLOW_OPERATION:\n",
        "  v_all_df.show(3)\n",
        "  v_rel_df.show(3)\n",
        "  v_sel_df.show(3)"
      ],
      "metadata": {
        "id": "DhLfsPPq3i1n"
      },
      "execution_count": 9,
      "outputs": []
    },
    {
      "cell_type": "markdown",
      "source": [
        "and calling the show method on each of the resulting RDDs yields the following vectorized inputs (X) and targets (y):\n",
        "\n",
        "Great! Now we can move on to partitioning each of these RDDs into training and test sets.\n",
        "\n"
      ],
      "metadata": {
        "id": "E5m0CN4Y6Zei"
      }
    },
    {
      "cell_type": "markdown",
      "source": [
        "I created a utility method for creating training and testing inputs and labels:\n",
        "\n"
      ],
      "metadata": {
        "id": "arEQ1qLV6cn1"
      }
    },
    {
      "cell_type": "code",
      "source": [
        "def regression_data_builder(spark_df, part_index):\n",
        "    train_df = spark_df.filter(col(\"index\") <= part_index).drop(\"index\")\n",
        "    test_df = spark_df.filter(col(\"index\") > part_index).drop(\"index\")\n",
        "\n",
        "    return train_df, test_df"
      ],
      "metadata": {
        "id": "LuyY8s-J5P6W"
      },
      "execution_count": 10,
      "outputs": []
    },
    {
      "cell_type": "markdown",
      "source": [
        "From here, we can easily create 3 data bunches. First, we ensure that all 3 RDDs we created in the previous step are indexed correctly, store the index of an 80/20 split in a variable called “valid_index” and partition the data accordingly:\n",
        "\n"
      ],
      "metadata": {
        "id": "156kqSuA6eAj"
      }
    },
    {
      "cell_type": "code",
      "source": [
        "# calculates the total number of rows in the DataFrame\n",
        "total_rows = df.count()\n",
        "\n",
        "# calculates the index corresponding to 80% of the rows\n",
        "valid_index = int(total_rows * 0.8)\n",
        "\n",
        "all_train_df, all_test_df = regression_data_builder(v_all_df, valid_index)\n",
        "rel_train_df, rel_test_df = regression_data_builder(v_rel_df, valid_index)\n",
        "sel_train_df, sel_test_df = regression_data_builder(v_sel_df, valid_index)\n",
        "\n",
        "if SLOW_OPERATION:\n",
        "  print(all_train_df.count(), all_train_df.columns, \" | \", all_test_df.count(), all_test_df.columns)\n",
        "  print(rel_train_df.count(), rel_train_df.columns, \" | \", rel_test_df.count(), rel_test_df.columns)\n",
        "  print(sel_train_df.count(), sel_train_df.columns, \" | \", sel_test_df.count(), sel_test_df.columns)"
      ],
      "metadata": {
        "id": "7DlHz5B75qwZ"
      },
      "execution_count": 11,
      "outputs": []
    },
    {
      "cell_type": "markdown",
      "source": [
        "Checking the shapes of our RDDs ensures we got this step right. Everything looks good! Let’s move on to fitting the models.\n",
        "\n"
      ],
      "metadata": {
        "id": "ZQKJDOGO6hlF"
      }
    },
    {
      "cell_type": "code",
      "source": [
        "GDRIVE_DATASET_NAME = \"bitcoin_blockchain_data_1d\"\n",
        "GDRIVE_DATASET_NAME_EXT = \"/\" + GDRIVE_DATASET_NAME + \".csv\"\n",
        "\n",
        "GDRIVE_DATASET = GDRIVE_DATASET_RAW_DIR + GDRIVE_DATASET_NAME_EXT\n",
        "\n",
        "# load dataset into pyspark dataframe objects\n",
        "df = spark.read.load(GDRIVE_DATASET,\n",
        "                         format=\"csv\",\n",
        "                         sep=\",\",\n",
        "                         inferSchema=\"true\",\n",
        "                         header=\"true\"\n",
        "                    )"
      ],
      "metadata": {
        "id": "lF3AM3ixYvj7"
      },
      "execution_count": null,
      "outputs": []
    },
    {
      "cell_type": "code",
      "source": [
        "window = Window.orderBy(\"timestamp\")\n",
        "df = df.withColumn(\"index\", row_number().over(window) - 1)\n",
        "df = df.select(['index', 'timestamp', dep_var])\n",
        "df.show(3)"
      ],
      "metadata": {
        "id": "oeua_KhYY1xt"
      },
      "execution_count": null,
      "outputs": []
    },
    {
      "cell_type": "code",
      "source": [
        "# calculates the total number of rows in the DataFrame\n",
        "total_rows = df.count()\n",
        "\n",
        "# calculates the index corresponding to 80% of the rows\n",
        "valid_index = int(total_rows * 0.8)\n",
        "\n",
        "train_df, test_df = regression_data_builder(df, valid_index)\n",
        "print(train_df.count(), train_df.columns, \" | \", test_df.count(), test_df.columns)"
      ],
      "metadata": {
        "id": "XZSGKNOPZC6R"
      },
      "execution_count": null,
      "outputs": []
    },
    {
      "cell_type": "code",
      "source": [
        "def show_train_test(train, test):\n",
        "  trace1 = go.Scatter(\n",
        "      x = train['timestamp'],\n",
        "      y = train['market-price'].astype(float),\n",
        "      mode = 'lines',\n",
        "      name = 'Train'\n",
        "  )\n",
        "\n",
        "  trace2 = go.Scatter(\n",
        "      x = test['timestamp'],\n",
        "      y = test['market-price'].astype(float),\n",
        "      mode = 'lines',\n",
        "      name = 'Test'\n",
        "  )\n",
        "\n",
        "  layout = dict(\n",
        "      title='Train and Test set with the Slider ',\n",
        "      xaxis=dict(\n",
        "          rangeselector=dict(\n",
        "              buttons=list([\n",
        "                  #change the count to desired amount of months.\n",
        "                  dict(count=1,\n",
        "                      label='1m',\n",
        "                      step='month',\n",
        "                      stepmode='backward'),\n",
        "                  dict(count=6,\n",
        "                      label='6m',\n",
        "                      step='month',\n",
        "                      stepmode='backward'),\n",
        "                  dict(count=12,\n",
        "                      label='1y',\n",
        "                      step='month',\n",
        "                      stepmode='backward'),\n",
        "                  dict(count=36,\n",
        "                      label='3y',\n",
        "                      step='month',\n",
        "                      stepmode='backward'),\n",
        "                  dict(step='all')\n",
        "              ])\n",
        "          ),\n",
        "          rangeslider=dict(\n",
        "              visible = True\n",
        "          ),\n",
        "          type='date'\n",
        "      )\n",
        "  )\n",
        "\n",
        "  data = [trace1,trace2]\n",
        "  fig = dict(data=data, layout=layout)\n",
        "  iplot(fig, filename = \"Train and Test set  with Rangeslider\")"
      ],
      "metadata": {
        "id": "C0lN-g97DsFM"
      },
      "execution_count": null,
      "outputs": []
    },
    {
      "cell_type": "code",
      "source": [
        "show_train_test(train_df.toPandas(), test_df.toPandas())"
      ],
      "metadata": {
        "id": "wWBo9-uBEoKT"
      },
      "execution_count": null,
      "outputs": []
    },
    {
      "cell_type": "markdown",
      "source": [
        "# Output"
      ],
      "metadata": {
        "id": "HHoQJdCYGygi"
      }
    },
    {
      "cell_type": "markdown",
      "metadata": {
        "id": "4-owrgEPHQ7K"
      },
      "source": [
        "Saving the final train and test datasets"
      ]
    },
    {
      "cell_type": "code",
      "execution_count": null,
      "metadata": {
        "id": "miO1DZVW1D9i"
      },
      "outputs": [],
      "source": [
        "# def output(dataset, type):\n",
        "#   from pyspark.sql.functions import date_format, to_timestamp, col\n",
        "\n",
        "#   # turns the \"features\" column into a column of type \"string\"\n",
        "#   dataset = dataset.withColumn(\"features\", col(\"features\").cast(\"string\"))\n",
        "\n",
        "#   # save the dataset in CSV format\n",
        "#   dataset.repartition(1).write.csv(GDRIVE_DATASET_TEMP_DIR, header=True, mode='overwrite')\n",
        "\n",
        "#   import os\n",
        "#   import glob\n",
        "#   import time\n",
        "\n",
        "#   while True:\n",
        "#       csv_files = glob.glob(os.path.join(GDRIVE_DATASET_TEMP_DIR, \"part*.csv\"))\n",
        "#       if len(csv_files) > 0:\n",
        "#           # .csv file found!\n",
        "#           file_path = csv_files[0]\n",
        "#           break\n",
        "#       else:\n",
        "#           print(\".csv file not found. I'll try again after 1 second...\")\n",
        "#           time.sleep(1)\n",
        "\n",
        "#   print(\".csv file found:\", file_path)\n",
        "\n",
        "#   new_file_path = GDRIVE_DATASET_OUTPUT_DIR + \"/\" + GDRIVE_DATASET_NAME + \"_\" + type + \".csv\"\n",
        "\n",
        "#   import shutil\n",
        "\n",
        "#   # rename and move the file\n",
        "#   shutil.move(file_path, new_file_path)\n",
        "\n",
        "#   print(\"File renamed and moved successfully!\")"
      ]
    },
    {
      "cell_type": "code",
      "source": [
        "def output(dataset, type):\n",
        "  from pyspark.sql.functions import date_format, to_timestamp, col\n",
        "\n",
        "  # turns the \"features\" column into a column of type \"string\"\n",
        "  # dataset = dataset.withColumn(\"features\", col(\"features\").cast(\"string\"))\n",
        "\n",
        "  dataset.write.parquet(GDRIVE_DATASET_TEMP_DIR, mode='overwrite')\n",
        "\n",
        "  # dataset.repartition(1).write.parquet(GDRIVE_DATASET_TEMP_DIR, header=True, mode='overwrite')\n",
        "\n",
        "  import os\n",
        "  import glob\n",
        "  import time\n",
        "\n",
        "  while True:\n",
        "      parquet_files = glob.glob(os.path.join(GDRIVE_DATASET_TEMP_DIR, \"part*.parquet\"))\n",
        "      if len(parquet_files) > 0:\n",
        "          # .parquet file found!\n",
        "          file_path = parquet_files[0]\n",
        "          break\n",
        "      else:\n",
        "          print(\".parquet file not found. I'll try again after 1 second...\")\n",
        "          time.sleep(1)\n",
        "\n",
        "  print(\".parquet file found:\", file_path)\n",
        "\n",
        "  new_file_path = GDRIVE_DATASET_OUTPUT_DIR + \"/\" + GDRIVE_DATASET_NAME + \"_\" + type + \".parquet\"\n",
        "\n",
        "  import shutil\n",
        "\n",
        "  # rename and move the file\n",
        "  shutil.move(file_path, new_file_path)\n",
        "\n",
        "  print(\"File renamed and moved successfully!\")"
      ],
      "metadata": {
        "id": "2hVcPL2ceRt0"
      },
      "execution_count": 16,
      "outputs": []
    },
    {
      "cell_type": "code",
      "execution_count": 17,
      "metadata": {
        "colab": {
          "base_uri": "https://localhost:8080/"
        },
        "id": "G8mHxapmSAC7",
        "outputId": "5136622c-62b2-4ac4-fda3-a1c703ae57e9"
      },
      "outputs": [
        {
          "output_type": "stream",
          "name": "stdout",
          "text": [
            ".parquet file found: /content/drive/MyDrive/BDC/project/datasets/temp/part-00000-5715312e-0cb3-4334-80a8-0924e2c889f3-c000.snappy.parquet\n",
            "File renamed and moved successfully!\n",
            ".parquet file found: /content/drive/MyDrive/BDC/project/datasets/temp/part-00000-0dfbb5d9-56b7-4f93-af52-9407f6451496-c000.snappy.parquet\n",
            "File renamed and moved successfully!\n"
          ]
        }
      ],
      "source": [
        "output(all_train_df, \"all_train\")\n",
        "output(all_test_df, \"all_test\")"
      ]
    },
    {
      "cell_type": "code",
      "source": [
        "output(rel_train_df, \"rel_train\")\n",
        "output(rel_test_df, \"rel_test\")"
      ],
      "metadata": {
        "colab": {
          "base_uri": "https://localhost:8080/"
        },
        "id": "FdH6D9K8GPWp",
        "outputId": "672d68a7-128a-4cd0-ce8b-c0327fde2c76"
      },
      "execution_count": 18,
      "outputs": [
        {
          "output_type": "stream",
          "name": "stdout",
          "text": [
            ".parquet file found: /content/drive/MyDrive/BDC/project/datasets/temp/part-00000-0b65c36a-4c4b-4c56-b872-23bd40142924-c000.snappy.parquet\n",
            "File renamed and moved successfully!\n",
            ".parquet file found: /content/drive/MyDrive/BDC/project/datasets/temp/part-00000-b1aa15a9-66b9-4383-bc6a-061bdd47d137-c000.snappy.parquet\n",
            "File renamed and moved successfully!\n"
          ]
        }
      ]
    },
    {
      "cell_type": "code",
      "source": [
        "output(sel_train_df, \"sel_train\")\n",
        "output(sel_test_df, \"sel_test\")"
      ],
      "metadata": {
        "colab": {
          "base_uri": "https://localhost:8080/"
        },
        "id": "9TmEtxi3GPFY",
        "outputId": "58b735ba-d6ec-4837-8fff-35835a113000"
      },
      "execution_count": 19,
      "outputs": [
        {
          "output_type": "stream",
          "name": "stdout",
          "text": [
            ".parquet file found: /content/drive/MyDrive/BDC/project/datasets/temp/part-00000-f018a20b-2677-4a6a-bc18-89ed11e83638-c000.snappy.parquet\n",
            "File renamed and moved successfully!\n",
            ".parquet file found: /content/drive/MyDrive/BDC/project/datasets/temp/part-00000-45f41779-60e3-47c9-840c-ccf1b0c17bdd-c000.snappy.parquet\n",
            "File renamed and moved successfully!\n"
          ]
        }
      ]
    }
  ],
  "metadata": {
    "accelerator": "GPU",
    "colab": {
      "gpuType": "T4",
      "provenance": [],
      "include_colab_link": true
    },
    "kernelspec": {
      "display_name": "Python 3",
      "name": "python3"
    },
    "language_info": {
      "codemirror_mode": {
        "name": "ipython",
        "version": 3
      },
      "file_extension": ".py",
      "mimetype": "text/x-python",
      "name": "python",
      "nbconvert_exporter": "python",
      "pygments_lexer": "ipython3",
      "version": "3.9.13"
    },
    "vscode": {
      "interpreter": {
        "hash": "303fa613b6f3e1efefe7bb28036e305e1021fa6bdb083a5f9fd57f9d9bbad8eb"
      }
    }
  },
  "nbformat": 4,
  "nbformat_minor": 0
}